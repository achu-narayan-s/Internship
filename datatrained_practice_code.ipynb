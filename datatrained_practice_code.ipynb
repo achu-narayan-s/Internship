{
  "nbformat": 4,
  "nbformat_minor": 0,
  "metadata": {
    "colab": {
      "provenance": [],
      "authorship_tag": "ABX9TyNlF6zUl9cUXz5RTIXCKBcN",
      "include_colab_link": true
    },
    "kernelspec": {
      "name": "python3",
      "display_name": "Python 3"
    },
    "language_info": {
      "name": "python"
    }
  },
  "cells": [
    {
      "cell_type": "markdown",
      "metadata": {
        "id": "view-in-github",
        "colab_type": "text"
      },
      "source": [
        "<a href=\"https://colab.research.google.com/github/achu-narayan-s/Internship/blob/main/datatrained_practice_code.ipynb\" target=\"_parent\"><img src=\"https://colab.research.google.com/assets/colab-badge.svg\" alt=\"Open In Colab\"/></a>"
      ]
    },
    {
      "cell_type": "markdown",
      "source": [
        "Revising recent taught topics"
      ],
      "metadata": {
        "id": "dXpvfiMcvu34"
      }
    },
    {
      "cell_type": "code",
      "source": [
        "pip install pandas"
      ],
      "metadata": {
        "colab": {
          "base_uri": "https://localhost:8080/"
        },
        "id": "jmkWcqKA6i_V",
        "outputId": "b67a48f6-b050-4330-b782-c63567331856"
      },
      "execution_count": 1,
      "outputs": [
        {
          "output_type": "stream",
          "name": "stdout",
          "text": [
            "Requirement already satisfied: pandas in /usr/local/lib/python3.10/dist-packages (1.5.3)\n",
            "Requirement already satisfied: python-dateutil>=2.8.1 in /usr/local/lib/python3.10/dist-packages (from pandas) (2.8.2)\n",
            "Requirement already satisfied: pytz>=2020.1 in /usr/local/lib/python3.10/dist-packages (from pandas) (2022.7.1)\n",
            "Requirement already satisfied: numpy>=1.21.0 in /usr/local/lib/python3.10/dist-packages (from pandas) (1.22.4)\n",
            "Requirement already satisfied: six>=1.5 in /usr/local/lib/python3.10/dist-packages (from python-dateutil>=2.8.1->pandas) (1.16.0)\n"
          ]
        }
      ]
    },
    {
      "cell_type": "code",
      "source": [
        "import numpy as np\n",
        "\n",
        "# pandas\n",
        "import pandas as pd\n",
        "\n",
        "# matplotlib\n",
        "import matplotlib.pyplot as plt\n",
        "\n",
        "# scipy\n",
        "import scipy\n",
        "\n",
        "# scikit-learn\n",
        "from sklearn import *\n",
        "\n",
        "# tensorflow\n",
        "import tensorflow as tf\n",
        "\n",
        "# keras\n",
        "import keras\n",
        "\n",
        "# pytorch\n",
        "import torch\n",
        "\n",
        "# statsmodels\n",
        "import statsmodels.api as sm\n",
        "\n",
        "# networkx\n",
        "import networkx as nx\n",
        "\n",
        "# beautifulsoup4\n",
        "from bs4 import BeautifulSoup\n",
        "\n",
        "# requests\n",
        "import requests\n",
        "\n",
        "# flask\n",
        "from flask import Flask\n",
        "\n",
        "# sqlalchemy\n",
        "import sqlalchemy\n",
        "\n",
        "# pytest\n",
        "import pytest\n",
        "\n",
        "# tkinter\n",
        "import tkinter as tk\n",
        "\n",
        "# pygame\n",
        "import pygame\n",
        "\n",
        "# openpyxl\n",
        "import openpyxl"
      ],
      "metadata": {
        "colab": {
          "base_uri": "https://localhost:8080/"
        },
        "id": "CEabIQqy8c4W",
        "outputId": "8a25b0b1-0ea7-452b-f12b-7d9ac98e45fd"
      },
      "execution_count": 2,
      "outputs": [
        {
          "output_type": "stream",
          "name": "stdout",
          "text": [
            "pygame 2.5.0 (SDL 2.28.0, Python 3.10.12)\n",
            "Hello from the pygame community. https://www.pygame.org/contribute.html\n"
          ]
        }
      ]
    },
    {
      "cell_type": "code",
      "source": [
        "from sklearn.metrics import roc_curve\n",
        "import matplotlib.pyplot as plt\n",
        "from sklearn.metrics import roc_auc_score"
      ],
      "metadata": {
        "id": "UTJqKDOS8sOG"
      },
      "execution_count": 26,
      "outputs": []
    },
    {
      "cell_type": "code",
      "source": [
        "import pandas as pd\n",
        "from sklearn.linear_model import Ridge\n",
        "from sklearn.model_selection import train_test_split\n",
        "from sklearn.metrics import mean_squared_error\n",
        "\n",
        "# Read the CSV file into a DataFrame\n",
        "url = \"https://raw.githubusercontent.com/dsrscientist/DSData/master/Advertising.csv\"\n",
        "data = pd.read_csv(url)\n",
        "\n",
        "# Split the data into input (X) and target (y) variables\n",
        "X = data.drop(\"sales\", axis=1)  # All columns except the \"Sales\" column\n",
        "y = data[\"sales\"]  # Target variable (\"Sales\" column)\n",
        "\n",
        "# Split the data into training and testing sets\n",
        "X_train, X_test, y_train, y_test = train_test_split(X, y, test_size=0.2, random_state=42)\n",
        "\n",
        "# Create a Ridge regression model\n",
        "model = Ridge(alpha=1.0)  # You can adjust the value of alpha (regularization strength) as needed\n",
        "\n",
        "# Fit the model to the training data\n",
        "model.fit(X_train, y_train)\n",
        "\n",
        "# Predict on the test data\n",
        "y_pred = model.predict(X_test)\n",
        "\n",
        "# Calculate the mean squared error\n",
        "mse = mean_squared_error(y_test, y_pred)\n",
        "\n",
        "# Print the mean squared error\n",
        "print(\"Mean Squared Error:\", mse)"
      ],
      "metadata": {
        "colab": {
          "base_uri": "https://localhost:8080/"
        },
        "id": "5cpKuxXH5qOC",
        "outputId": "44330b3c-c988-4a19-9b91-eb846a83f81a"
      },
      "execution_count": 9,
      "outputs": [
        {
          "output_type": "stream",
          "name": "stdout",
          "text": [
            "Mean Squared Error: 3.1990018641043965\n"
          ]
        }
      ]
    },
    {
      "cell_type": "code",
      "source": [
        "import pandas as pd\n",
        "from sklearn.linear_model import Lasso\n",
        "from sklearn.model_selection import train_test_split\n",
        "from sklearn.metrics import mean_squared_error\n",
        "\n",
        "# Read the CSV file into a DataFrame\n",
        "url = \"https://raw.githubusercontent.com/dsrscientist/DSData/master/Advertising.csv\"\n",
        "data = pd.read_csv(url)\n",
        "\n",
        "# Split the data into input (X) and target (y) variables\n",
        "X = data.drop(\"sales\", axis=1)  # All columns except the \"Sales\" column\n",
        "y = data[\"sales\"]  # Target variable (\"Sales\" column)\n",
        "\n",
        "# Split the data into training and testing sets\n",
        "X_train, X_test, y_train, y_test = train_test_split(X, y, test_size=0.2, random_state=42)\n",
        "\n",
        "# Create a Lasso regression model\n",
        "model = Lasso(alpha=1.0)  # You can adjust the value of alpha (regularization strength) as needed\n",
        "\n",
        "# Fit the model to the training data\n",
        "model.fit(X_train, y_train)\n",
        "\n",
        "# Predict on the test data\n",
        "y_pred = model.predict(X_test)\n",
        "\n",
        "# Calculate the mean squared error\n",
        "mse = mean_squared_error(y_test, y_pred)\n",
        "\n",
        "# Print the mean squared error\n",
        "print(\"Mean Squared Error:\", mse)"
      ],
      "metadata": {
        "colab": {
          "base_uri": "https://localhost:8080/"
        },
        "id": "elzFoN4B6QF3",
        "outputId": "0d567abb-9869-498c-f224-cec34e564db7"
      },
      "execution_count": 10,
      "outputs": [
        {
          "output_type": "stream",
          "name": "stdout",
          "text": [
            "Mean Squared Error: 3.1513524142973472\n"
          ]
        }
      ]
    },
    {
      "cell_type": "code",
      "source": [
        "import pandas as pd\n",
        "import math\n",
        "\n",
        "# Read the CSV file into a DataFrame\n",
        "url = \"https://raw.githubusercontent.com/dsrscientist/DSData/master/Advertising.csv\"\n",
        "data = pd.read_csv(url)\n",
        "\n",
        "# Extract the target variable\n",
        "sales = data[\"sales\"]\n",
        "\n",
        "# Count the occurrences of each unique value in the target variable\n",
        "value_counts = sales.value_counts()\n",
        "\n",
        "# Calculate the total number of samples\n",
        "total_samples = len(sales)\n",
        "\n",
        "# Calculate the entropy\n",
        "entropy = 0\n",
        "for count in value_counts:\n",
        "    probability = count / total_samples\n",
        "    entropy -= probability * math.log2(probability)\n",
        "\n",
        "# Print the entropy\n",
        "print(\"Entropy:\", entropy)"
      ],
      "metadata": {
        "colab": {
          "base_uri": "https://localhost:8080/"
        },
        "id": "N3ab4leE6W3Y",
        "outputId": "be670f17-6c74-4cd0-ba44-7b1a8fa856ef"
      },
      "execution_count": 11,
      "outputs": [
        {
          "output_type": "stream",
          "name": "stdout",
          "text": [
            "Entropy: 6.752965862251104\n"
          ]
        }
      ]
    },
    {
      "cell_type": "code",
      "source": [
        "import pandas as pd\n",
        "\n",
        "# Read the CSV file into a DataFrame\n",
        "url = \"https://raw.githubusercontent.com/dsrscientist/DSData/master/Advertising.csv\"\n",
        "data = pd.read_csv(url)\n",
        "\n",
        "# Extract the target variable\n",
        "sales = data[\"sales\"]\n",
        "\n",
        "# Count the occurrences of each unique value in the target variable\n",
        "value_counts = sales.value_counts()\n",
        "\n",
        "# Calculate the total number of samples\n",
        "total_samples = len(sales)\n",
        "\n",
        "# Calculate the probability of each value occurrence\n",
        "probabilities = value_counts / total_samples\n",
        "\n",
        "# Calculate the squared probabilities\n",
        "squared_probabilities = probabilities ** 2\n",
        "\n",
        "# Calculate the Gini coefficient\n",
        "gini_coefficient = 1 - squared_probabilities.sum()\n",
        "\n",
        "# Print the Gini coefficient\n",
        "print(\"Gini Coefficient:\", gini_coefficient)"
      ],
      "metadata": {
        "colab": {
          "base_uri": "https://localhost:8080/"
        },
        "id": "rENAtj64A5Uz",
        "outputId": "662ccffe-dd25-4088-ae32-47be2134a88f"
      },
      "execution_count": 12,
      "outputs": [
        {
          "output_type": "stream",
          "name": "stdout",
          "text": [
            "Gini Coefficient: 0.9896\n"
          ]
        }
      ]
    },
    {
      "cell_type": "code",
      "source": [
        "import pandas as pd\n",
        "from sklearn.linear_model import Ridge\n",
        "from sklearn.model_selection import train_test_split\n",
        "from sklearn.metrics import mean_squared_error\n",
        "\n",
        "# Read the CSV file into a DataFrame\n",
        "url = \"https://raw.githubusercontent.com/dsrscientist/DSData/master/SBI_Life_insurance.csv\"\n",
        "data = pd.read_csv(url)\n",
        "\n",
        "# Split the data into input (X) and target (y) variables\n",
        "X = data.drop(\"charges\", axis=1)  # All columns except the \"TARGET\" column\n",
        "y = data[\"charges\"]  # Target variable (\"TARGET\" column)\n",
        "\n",
        "# Split the data into training and testing sets\n",
        "X_train, X_test, y_train, y_test = train_test_split(X, y, test_size=0.2, random_state=42)\n",
        "\n",
        "# Create a Ridge regression model\n",
        "model = Ridge(alpha=1.0)  # You can adjust the value of alpha (regularization strength) as needed\n",
        "\n",
        "# Fit the model to the training data\n",
        "model.fit(X_train, y_train)\n",
        "\n",
        "# Predict on the test data\n",
        "y_pred = model.predict(X_test)\n",
        "\n",
        "# Calculate the mean squared error\n",
        "mse = mean_squared_error(y_test, y_pred)\n",
        "\n",
        "# Print the mean squared error\n",
        "print(\"Mean Squared Error:\", mse)"
      ],
      "metadata": {
        "colab": {
          "base_uri": "https://localhost:8080/"
        },
        "id": "C60kjS5gBT5h",
        "outputId": "5b84fe2d-248f-42eb-9ca2-7cf88b0b19ee"
      },
      "execution_count": 14,
      "outputs": [
        {
          "output_type": "stream",
          "name": "stdout",
          "text": [
            "Mean Squared Error: 33785160.28006716\n"
          ]
        }
      ]
    },
    {
      "cell_type": "code",
      "source": [
        "import pandas as pd\n",
        "from sklearn.linear_model import LinearRegression\n",
        "from sklearn.model_selection import train_test_split\n",
        "from sklearn.preprocessing import OneHotEncoder\n",
        "from sklearn.compose import ColumnTransformer\n",
        "from sklearn.metrics import mean_squared_error\n",
        "\n",
        "# Read the CSV file into a DataFrame\n",
        "url = \"https://raw.githubusercontent.com/dsrscientist/dataset4/main/Grades.csv\"\n",
        "data = pd.read_csv(url)\n",
        "\n",
        "# Drop the \"Seat no.\" column\n",
        "data = data.drop(\"Seat No.\", axis=1)\n",
        "\n",
        "# Split the data into input (X) and target (y) variables\n",
        "X = data.iloc[:, :-1]  # All columns except the last one\n",
        "y = data.iloc[:, -1]   # Last column (target variable)\n",
        "\n",
        "# Identify categorical columns for one-hot encoding\n",
        "categorical_cols = X.select_dtypes(include=['object']).columns\n",
        "\n",
        "# Create a column transformer for one-hot encoding\n",
        "preprocessor = ColumnTransformer([('encoder', OneHotEncoder(handle_unknown='ignore'), categorical_cols)], remainder='passthrough')\n",
        "\n",
        "# Split the data into training and testing sets\n",
        "X_train, X_test, y_train, y_test = train_test_split(X, y, test_size=0.2, random_state=42)\n",
        "\n",
        "# Preprocess the data\n",
        "X_train_encoded = preprocessor.fit_transform(X_train)\n",
        "X_test_encoded = preprocessor.transform(X_test)\n",
        "\n",
        "# Create a Linear Regression model\n",
        "model = LinearRegression()\n",
        "\n",
        "# Fit the model to the training data\n",
        "model.fit(X_train_encoded, y_train)\n",
        "\n",
        "# Predict on the test data\n",
        "y_pred = model.predict(X_test_encoded)\n",
        "\n",
        "# Calculate the mean squared error\n",
        "mse = mean_squared_error(y_test, y_pred)\n",
        "\n",
        "# Print the mean squared error\n",
        "print(\"Mean Squared Error:\", mse)"
      ],
      "metadata": {
        "colab": {
          "base_uri": "https://localhost:8080/"
        },
        "id": "eoMw2MVOB3yk",
        "outputId": "dc01244a-729e-48c1-d3ad-e38f9b3f3ac1"
      },
      "execution_count": 22,
      "outputs": [
        {
          "output_type": "stream",
          "name": "stdout",
          "text": [
            "Mean Squared Error: 0.03460080761500847\n"
          ]
        }
      ]
    },
    {
      "cell_type": "code",
      "source": [
        "import pandas as pd\n",
        "from sklearn.ensemble import RandomForestRegressor\n",
        "from sklearn.model_selection import train_test_split\n",
        "from sklearn.preprocessing import OneHotEncoder\n",
        "from sklearn.compose import ColumnTransformer\n",
        "from sklearn.metrics import mean_squared_error\n",
        "\n",
        "# Read the CSV file into a DataFrame\n",
        "url = \"https://raw.githubusercontent.com/dsrscientist/dataset4/main/Grades.csv\"\n",
        "data = pd.read_csv(url)\n",
        "\n",
        "# Drop the \"Seat no.\" column\n",
        "data = data.drop(\"Seat No.\", axis=1)\n",
        "\n",
        "# Split the data into input (X) and target (y) variables\n",
        "X = data.iloc[:, :-1]  # All columns except the last one\n",
        "y = data.iloc[:, -1]   # Last column (target variable)\n",
        "\n",
        "# Identify categorical columns for one-hot encoding\n",
        "categorical_cols = X.select_dtypes(include=['object']).columns\n",
        "\n",
        "# Create a column transformer for one-hot encoding\n",
        "preprocessor = ColumnTransformer([('encoder', OneHotEncoder(handle_unknown='ignore'), categorical_cols)], remainder='passthrough')\n",
        "\n",
        "# Split the data into training and testing sets\n",
        "X_train, X_test, y_train, y_test = train_test_split(X, y, test_size=0.2, random_state=42)\n",
        "\n",
        "# Preprocess the data\n",
        "X_train_encoded = preprocessor.fit_transform(X_train)\n",
        "X_test_encoded = preprocessor.transform(X_test)\n",
        "\n",
        "# Create a Random Forest Regression model\n",
        "model = RandomForestRegressor()\n",
        "\n",
        "# Fit the model to the training data\n",
        "model.fit(X_train_encoded, y_train)\n",
        "\n",
        "# Predict on the test data\n",
        "y_pred = model.predict(X_test_encoded)\n",
        "\n",
        "# Calculate the mean squared error\n",
        "mse = mean_squared_error(y_test, y_pred)\n",
        "\n",
        "# Print the mean squared error\n",
        "print(\"Mean Squared Error:\", mse)"
      ],
      "metadata": {
        "colab": {
          "base_uri": "https://localhost:8080/"
        },
        "id": "ZmY6Rp1gEp9v",
        "outputId": "54b76b4d-3ad8-4a75-ace7-c2167bab3902"
      },
      "execution_count": 25,
      "outputs": [
        {
          "output_type": "stream",
          "name": "stdout",
          "text": [
            "Mean Squared Error: 0.027702293379130445\n"
          ]
        }
      ]
    },
    {
      "cell_type": "code",
      "source": [
        "import pandas as pd\n",
        "from sklearn.model_selection import train_test_split\n",
        "from sklearn.metrics import confusion_matrix\n",
        "from sklearn.tree import DecisionTreeClassifier\n",
        "from sklearn.preprocessing import OneHotEncoder\n",
        "from sklearn.compose import ColumnTransformer\n",
        "\n",
        "# Read the CSV file into a DataFrame\n",
        "url = \"https://raw.githubusercontent.com/dsrscientist/dataset4/main/Japan_used_cars_datasets.csv\"\n",
        "data = pd.read_csv(url)\n",
        "\n",
        "# Preprocess the data\n",
        "X = data.drop(\"price\", axis=1)  # Input features (all columns except \"Price\")\n",
        "y = data[\"price\"]               # Target variable (\"Price\")\n",
        "\n",
        "# Identify categorical columns for one-hot encoding\n",
        "categorical_cols = X.select_dtypes(include=['object']).columns\n",
        "\n",
        "# Create a column transformer for one-hot encoding\n",
        "preprocessor = ColumnTransformer([('encoder', OneHotEncoder(handle_unknown='ignore'), categorical_cols)], remainder='passthrough')\n",
        "\n",
        "# Split the data into training and testing sets\n",
        "X_train, X_test, y_train, y_test = train_test_split(X, y, test_size=0.2, random_state=42)\n",
        "\n",
        "# Preprocess the data using one-hot encoding\n",
        "X_train_encoded = preprocessor.fit_transform(X_train)\n",
        "X_test_encoded = preprocessor.transform(X_test)\n",
        "\n",
        "# Create a Decision Tree Classifier\n",
        "model = DecisionTreeClassifier()\n",
        "\n",
        "# Fit the model to the training data\n",
        "model.fit(X_train_encoded, y_train)\n",
        "\n",
        "# Predict on the test data\n",
        "y_pred = model.predict(X_test_encoded)\n",
        "\n",
        "# Create a confusion matrix\n",
        "cm = confusion_matrix(y_test, y_pred)\n",
        "\n",
        "# Print the confusion matrix\n",
        "print(\"Confusion Matrix:\")\n",
        "print(cm)"
      ],
      "metadata": {
        "colab": {
          "base_uri": "https://localhost:8080/"
        },
        "id": "MT5lpY-aScYW",
        "outputId": "a71073a1-d344-4a92-eabd-5585d4e285d0"
      },
      "execution_count": 43,
      "outputs": [
        {
          "output_type": "stream",
          "name": "stdout",
          "text": [
            "Confusion Matrix:\n",
            "[[1 0 0 ... 0 0 0]\n",
            " [1 0 1 ... 0 0 0]\n",
            " [0 0 0 ... 0 0 0]\n",
            " ...\n",
            " [0 0 0 ... 2 0 0]\n",
            " [0 0 0 ... 0 0 0]\n",
            " [0 0 0 ... 0 2 6]]\n"
          ]
        }
      ]
    }
  ]
}
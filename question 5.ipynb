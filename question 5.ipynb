{
 "cells": [
  {
   "cell_type": "code",
   "execution_count": 1,
   "id": "08de2e1a-ae37-403a-81f2-80b49d80dd49",
   "metadata": {
    "tags": []
   },
   "outputs": [
    {
     "name": "stdout",
     "output_type": "stream",
     "text": [
      "Requirement already satisfied: selenium in c:\\programdata\\anaconda3\\lib\\site-packages (4.10.0)\n",
      "Requirement already satisfied: urllib3[socks]<3,>=1.26 in c:\\programdata\\anaconda3\\lib\\site-packages (from selenium) (1.26.16)\n",
      "Requirement already satisfied: trio~=0.17 in c:\\programdata\\anaconda3\\lib\\site-packages (from selenium) (0.22.2)\n",
      "Requirement already satisfied: trio-websocket~=0.9 in c:\\programdata\\anaconda3\\lib\\site-packages (from selenium) (0.10.3)\n",
      "Requirement already satisfied: certifi>=2021.10.8 in c:\\programdata\\anaconda3\\lib\\site-packages (from selenium) (2023.5.7)\n",
      "Requirement already satisfied: attrs>=20.1.0 in c:\\programdata\\anaconda3\\lib\\site-packages (from trio~=0.17->selenium) (22.1.0)\n",
      "Requirement already satisfied: sortedcontainers in c:\\programdata\\anaconda3\\lib\\site-packages (from trio~=0.17->selenium) (2.4.0)\n",
      "Requirement already satisfied: idna in c:\\programdata\\anaconda3\\lib\\site-packages (from trio~=0.17->selenium) (3.4)\n",
      "Requirement already satisfied: outcome in c:\\programdata\\anaconda3\\lib\\site-packages (from trio~=0.17->selenium) (1.2.0)\n",
      "Requirement already satisfied: sniffio in c:\\programdata\\anaconda3\\lib\\site-packages (from trio~=0.17->selenium) (1.2.0)\n",
      "Requirement already satisfied: cffi>=1.14 in c:\\programdata\\anaconda3\\lib\\site-packages (from trio~=0.17->selenium) (1.15.1)\n",
      "Requirement already satisfied: exceptiongroup in c:\\programdata\\anaconda3\\lib\\site-packages (from trio-websocket~=0.9->selenium) (1.1.2)\n",
      "Requirement already satisfied: wsproto>=0.14 in c:\\programdata\\anaconda3\\lib\\site-packages (from trio-websocket~=0.9->selenium) (1.2.0)\n",
      "Requirement already satisfied: PySocks!=1.5.7,<2.0,>=1.5.6 in c:\\programdata\\anaconda3\\lib\\site-packages (from urllib3[socks]<3,>=1.26->selenium) (1.7.1)\n",
      "Requirement already satisfied: pycparser in c:\\programdata\\anaconda3\\lib\\site-packages (from cffi>=1.14->trio~=0.17->selenium) (2.21)\n",
      "Requirement already satisfied: h11<1,>=0.9.0 in c:\\programdata\\anaconda3\\lib\\site-packages (from wsproto>=0.14->trio-websocket~=0.9->selenium) (0.14.0)\n",
      "Note: you may need to restart the kernel to use updated packages.\n"
     ]
    }
   ],
   "source": [
    "pip install selenium"
   ]
  },
  {
   "cell_type": "code",
   "execution_count": 2,
   "id": "2a0c3bc7-6371-48c6-982a-a567620a2421",
   "metadata": {
    "tags": []
   },
   "outputs": [
    {
     "name": "stdout",
     "output_type": "stream",
     "text": [
      "Requirement already satisfied: webdriver-manager in c:\\programdata\\anaconda3\\lib\\site-packages (3.8.6)\n",
      "Requirement already satisfied: requests in c:\\programdata\\anaconda3\\lib\\site-packages (from webdriver-manager) (2.29.0)\n",
      "Requirement already satisfied: python-dotenv in c:\\programdata\\anaconda3\\lib\\site-packages (from webdriver-manager) (1.0.0)\n",
      "Requirement already satisfied: tqdm in c:\\programdata\\anaconda3\\lib\\site-packages (from webdriver-manager) (4.65.0)\n",
      "Requirement already satisfied: packaging in c:\\programdata\\anaconda3\\lib\\site-packages (from webdriver-manager) (23.0)\n",
      "Requirement already satisfied: charset-normalizer<4,>=2 in c:\\programdata\\anaconda3\\lib\\site-packages (from requests->webdriver-manager) (2.0.4)\n",
      "Requirement already satisfied: idna<4,>=2.5 in c:\\programdata\\anaconda3\\lib\\site-packages (from requests->webdriver-manager) (3.4)\n",
      "Requirement already satisfied: urllib3<1.27,>=1.21.1 in c:\\programdata\\anaconda3\\lib\\site-packages (from requests->webdriver-manager) (1.26.16)\n",
      "Requirement already satisfied: certifi>=2017.4.17 in c:\\programdata\\anaconda3\\lib\\site-packages (from requests->webdriver-manager) (2023.5.7)\n",
      "Requirement already satisfied: colorama in c:\\programdata\\anaconda3\\lib\\site-packages (from tqdm->webdriver-manager) (0.4.6)\n"
     ]
    }
   ],
   "source": [
    "!pip install webdriver-manager"
   ]
  },
  {
   "cell_type": "code",
   "execution_count": 3,
   "id": "62b3f541-b224-4316-bb57-b25f13433cef",
   "metadata": {
    "tags": []
   },
   "outputs": [
    {
     "name": "stdout",
     "output_type": "stream",
     "text": [
      "Requirement already satisfied: selenium in c:\\programdata\\anaconda3\\lib\\site-packages (4.10.0)\n",
      "Requirement already satisfied: beautifulsoup4 in c:\\programdata\\anaconda3\\lib\\site-packages (4.12.2)\n",
      "Requirement already satisfied: pandas in c:\\programdata\\anaconda3\\lib\\site-packages (1.5.3)\n",
      "Requirement already satisfied: urllib3[socks]<3,>=1.26 in c:\\programdata\\anaconda3\\lib\\site-packages (from selenium) (1.26.16)\n",
      "Requirement already satisfied: trio~=0.17 in c:\\programdata\\anaconda3\\lib\\site-packages (from selenium) (0.22.2)\n",
      "Requirement already satisfied: trio-websocket~=0.9 in c:\\programdata\\anaconda3\\lib\\site-packages (from selenium) (0.10.3)\n",
      "Requirement already satisfied: certifi>=2021.10.8 in c:\\programdata\\anaconda3\\lib\\site-packages (from selenium) (2023.5.7)\n",
      "Requirement already satisfied: soupsieve>1.2 in c:\\programdata\\anaconda3\\lib\\site-packages (from beautifulsoup4) (2.4)\n",
      "Requirement already satisfied: python-dateutil>=2.8.1 in c:\\programdata\\anaconda3\\lib\\site-packages (from pandas) (2.8.2)\n",
      "Requirement already satisfied: pytz>=2020.1 in c:\\programdata\\anaconda3\\lib\\site-packages (from pandas) (2022.7)\n",
      "Requirement already satisfied: numpy>=1.21.0 in c:\\programdata\\anaconda3\\lib\\site-packages (from pandas) (1.24.3)\n",
      "Requirement already satisfied: six>=1.5 in c:\\programdata\\anaconda3\\lib\\site-packages (from python-dateutil>=2.8.1->pandas) (1.16.0)\n",
      "Requirement already satisfied: attrs>=20.1.0 in c:\\programdata\\anaconda3\\lib\\site-packages (from trio~=0.17->selenium) (22.1.0)\n",
      "Requirement already satisfied: sortedcontainers in c:\\programdata\\anaconda3\\lib\\site-packages (from trio~=0.17->selenium) (2.4.0)\n",
      "Requirement already satisfied: idna in c:\\programdata\\anaconda3\\lib\\site-packages (from trio~=0.17->selenium) (3.4)\n",
      "Requirement already satisfied: outcome in c:\\programdata\\anaconda3\\lib\\site-packages (from trio~=0.17->selenium) (1.2.0)\n",
      "Requirement already satisfied: sniffio in c:\\programdata\\anaconda3\\lib\\site-packages (from trio~=0.17->selenium) (1.2.0)\n",
      "Requirement already satisfied: cffi>=1.14 in c:\\programdata\\anaconda3\\lib\\site-packages (from trio~=0.17->selenium) (1.15.1)\n",
      "Requirement already satisfied: exceptiongroup in c:\\programdata\\anaconda3\\lib\\site-packages (from trio-websocket~=0.9->selenium) (1.1.2)\n",
      "Requirement already satisfied: wsproto>=0.14 in c:\\programdata\\anaconda3\\lib\\site-packages (from trio-websocket~=0.9->selenium) (1.2.0)\n",
      "Requirement already satisfied: PySocks!=1.5.7,<2.0,>=1.5.6 in c:\\programdata\\anaconda3\\lib\\site-packages (from urllib3[socks]<3,>=1.26->selenium) (1.7.1)\n",
      "Requirement already satisfied: pycparser in c:\\programdata\\anaconda3\\lib\\site-packages (from cffi>=1.14->trio~=0.17->selenium) (2.21)\n",
      "Requirement already satisfied: h11<1,>=0.9.0 in c:\\programdata\\anaconda3\\lib\\site-packages (from wsproto>=0.14->trio-websocket~=0.9->selenium) (0.14.0)\n",
      "Note: you may need to restart the kernel to use updated packages.\n"
     ]
    }
   ],
   "source": [
    "pip install selenium beautifulsoup4 pandas"
   ]
  },
  {
   "cell_type": "code",
   "execution_count": 4,
   "id": "11206b3f-dfde-4c6d-bc90-89c46888da96",
   "metadata": {
    "tags": []
   },
   "outputs": [],
   "source": [
    "from selenium import webdriver\n",
    "from selenium.webdriver.common.by import By\n",
    "from selenium.webdriver.support.ui import WebDriverWait\n",
    "from webdriver_manager.chrome import ChromeDriverManager\n",
    "from selenium.webdriver.support import expected_conditions as EC\n",
    "from selenium.webdriver.chrome.service import Service\n",
    "from selenium.webdriver.chrome.options import Options\n",
    "from selenium.webdriver.chrome.webdriver import WebDriver\n",
    "import pandas as pd\n",
    "import time\n",
    "import warnings\n",
    "warnings.filterwarnings(\"ignore\")"
   ]
  },
  {
   "cell_type": "code",
   "execution_count": 5,
   "id": "31c319f1-0a63-475b-bb9f-24b72cff6804",
   "metadata": {
    "tags": []
   },
   "outputs": [],
   "source": [
    "driver = webdriver.Chrome(service=Service(ChromeDriverManager().install()))"
   ]
  },
  {
   "cell_type": "code",
   "execution_count": 6,
   "id": "e6bd54e4-6b06-4cd1-af25-a4af453aaa81",
   "metadata": {
    "tags": []
   },
   "outputs": [],
   "source": [
    "driver.get(\"https://www.flipkart.com/apple-iphone-11-black-64-gb/product-reviews/itm4e5041ba101fd?pid=MOBFWQ6BXGJCEYNY&lid=LSTMOBFWQ6BXGJCEYNYZXSHRJ&marketplace=FLIPKART\")"
   ]
  },
  {
   "cell_type": "code",
   "execution_count": 24,
   "id": "19adc2b3-998a-4bb7-bdae-38c34f12f989",
   "metadata": {
    "tags": []
   },
   "outputs": [],
   "source": [
    "rating_titles = []\n",
    "review_summary = []\n",
    "full_review = []\n"
   ]
  },
  {
   "cell_type": "code",
   "execution_count": 25,
   "id": "dde3a6ea-756e-4b79-9a20-552f3144f9f4",
   "metadata": {
    "tags": []
   },
   "outputs": [],
   "source": [
    "review_tags=driver.find_elements(By.XPATH,'//p[@class=\"_2-N8zT\"]')\n",
    "for i in review_tags[0:10]:\n",
    "    title=i.text\n",
    "    review_summary.append(title)"
   ]
  },
  {
   "cell_type": "code",
   "execution_count": 26,
   "id": "896ebe5e-de78-4c72-a200-24ce77109daa",
   "metadata": {
    "tags": []
   },
   "outputs": [],
   "source": [
    "rating_tags=driver.find_elements(By.XPATH,'//div[@class=\"_3LWZlK _1BLPMq\"]')\n",
    "for i in rating_tags[0:10]:\n",
    "    title=i.text\n",
    "    rating_titles.append(title)"
   ]
  },
  {
   "cell_type": "code",
   "execution_count": 27,
   "id": "4bf0ed0b-7f3f-453e-aefb-23ce6aa4bc0b",
   "metadata": {
    "tags": []
   },
   "outputs": [],
   "source": [
    "freview_tags=driver.find_elements(By.XPATH,'//div[@class=\"t-ZTKy\"]')\n",
    "for i in freview_tags[0:10]:\n",
    "    title=i.text\n",
    "    full_review.append(title)"
   ]
  },
  {
   "cell_type": "code",
   "execution_count": 28,
   "id": "0b16aa75-6107-4d35-b070-e2bfee34470b",
   "metadata": {
    "tags": []
   },
   "outputs": [],
   "source": [
    "print=(len(rating_titles),len(review_summary),len(full_review))"
   ]
  },
  {
   "cell_type": "code",
   "execution_count": 29,
   "id": "b199c80c-b469-4d9c-b9fb-a152c47507bc",
   "metadata": {
    "tags": []
   },
   "outputs": [
    {
     "data": {
      "text/plain": [
       "(10, 10, 10)"
      ]
     },
     "execution_count": 29,
     "metadata": {},
     "output_type": "execute_result"
    }
   ],
   "source": [
    "print"
   ]
  },
  {
   "cell_type": "code",
   "execution_count": 30,
   "id": "28a7b53f-a6cc-4cef-88b7-1dc8390c9fbc",
   "metadata": {
    "tags": []
   },
   "outputs": [
    {
     "data": {
      "text/html": [
       "<div>\n",
       "<style scoped>\n",
       "    .dataframe tbody tr th:only-of-type {\n",
       "        vertical-align: middle;\n",
       "    }\n",
       "\n",
       "    .dataframe tbody tr th {\n",
       "        vertical-align: top;\n",
       "    }\n",
       "\n",
       "    .dataframe thead th {\n",
       "        text-align: right;\n",
       "    }\n",
       "</style>\n",
       "<table border=\"1\" class=\"dataframe\">\n",
       "  <thead>\n",
       "    <tr style=\"text-align: right;\">\n",
       "      <th></th>\n",
       "      <th>Rating Titles</th>\n",
       "      <th>Review Summary</th>\n",
       "      <th>full review</th>\n",
       "    </tr>\n",
       "  </thead>\n",
       "  <tbody>\n",
       "    <tr>\n",
       "      <th>0</th>\n",
       "      <td>5</td>\n",
       "      <td>Terrific</td>\n",
       "      <td>Very very good</td>\n",
       "    </tr>\n",
       "    <tr>\n",
       "      <th>1</th>\n",
       "      <td>5</td>\n",
       "      <td>Classy product</td>\n",
       "      <td>Camera is awesome\\nBest battery backup\\nA perf...</td>\n",
       "    </tr>\n",
       "    <tr>\n",
       "      <th>2</th>\n",
       "      <td>5</td>\n",
       "      <td>Terrific purchase</td>\n",
       "      <td>Value for money 😍</td>\n",
       "    </tr>\n",
       "    <tr>\n",
       "      <th>3</th>\n",
       "      <td>5</td>\n",
       "      <td>Wonderful</td>\n",
       "      <td>This is amazing at all</td>\n",
       "    </tr>\n",
       "    <tr>\n",
       "      <th>4</th>\n",
       "      <td>5</td>\n",
       "      <td>Brilliant</td>\n",
       "      <td>Excellent Phone.</td>\n",
       "    </tr>\n",
       "    <tr>\n",
       "      <th>5</th>\n",
       "      <td>5</td>\n",
       "      <td>Must buy!</td>\n",
       "      <td>It’s really awesome</td>\n",
       "    </tr>\n",
       "    <tr>\n",
       "      <th>6</th>\n",
       "      <td>5</td>\n",
       "      <td>Just wow!</td>\n",
       "      <td>Perfect Product!!</td>\n",
       "    </tr>\n",
       "    <tr>\n",
       "      <th>7</th>\n",
       "      <td>5</td>\n",
       "      <td>Must buy!</td>\n",
       "      <td>Go for iPhone 11 , if confused between iPhone ...</td>\n",
       "    </tr>\n",
       "    <tr>\n",
       "      <th>8</th>\n",
       "      <td>5</td>\n",
       "      <td>Best in the market!</td>\n",
       "      <td>Good Camera</td>\n",
       "    </tr>\n",
       "    <tr>\n",
       "      <th>9</th>\n",
       "      <td>5</td>\n",
       "      <td>Worth every penny</td>\n",
       "      <td>Feeling awesome after getting the delivery of ...</td>\n",
       "    </tr>\n",
       "  </tbody>\n",
       "</table>\n",
       "</div>"
      ],
      "text/plain": [
       "  Rating Titles       Review Summary  \\\n",
       "0             5             Terrific   \n",
       "1             5       Classy product   \n",
       "2             5    Terrific purchase   \n",
       "3             5            Wonderful   \n",
       "4             5            Brilliant   \n",
       "5             5            Must buy!   \n",
       "6             5            Just wow!   \n",
       "7             5            Must buy!   \n",
       "8             5  Best in the market!   \n",
       "9             5    Worth every penny   \n",
       "\n",
       "                                         full review  \n",
       "0                                     Very very good  \n",
       "1  Camera is awesome\\nBest battery backup\\nA perf...  \n",
       "2                                  Value for money 😍  \n",
       "3                             This is amazing at all  \n",
       "4                                   Excellent Phone.  \n",
       "5                                It’s really awesome  \n",
       "6                                  Perfect Product!!  \n",
       "7  Go for iPhone 11 , if confused between iPhone ...  \n",
       "8                                        Good Camera  \n",
       "9  Feeling awesome after getting the delivery of ...  "
      ]
     },
     "execution_count": 30,
     "metadata": {},
     "output_type": "execute_result"
    }
   ],
   "source": [
    "import pandas as pd\n",
    "df=pd.DataFrame({'Rating Titles':rating_titles,'Review Summary':review_summary, 'full review':full_review})\n",
    "df"
   ]
  },
  {
   "cell_type": "code",
   "execution_count": 32,
   "id": "ffbf78b2-37c8-49bb-ae0d-b64cac733d2a",
   "metadata": {
    "tags": []
   },
   "outputs": [],
   "source": [
    "next_button = driver.find_element(By.XPATH, '//a[@class=\"_1LKTO3\"]/span[contains(text(),\"Next\")]')\n",
    "next_button.click()"
   ]
  },
  {
   "cell_type": "code",
   "execution_count": 33,
   "id": "39863965-c8e6-4d76-9d18-ec9e0dea22a4",
   "metadata": {
    "tags": []
   },
   "outputs": [],
   "source": [
    "rating_titles = []\n",
    "review_summary = []\n",
    "full_review = []\n"
   ]
  },
  {
   "cell_type": "code",
   "execution_count": 34,
   "id": "8a65bc66-7c20-4d91-9c3c-0d104087fc28",
   "metadata": {
    "tags": []
   },
   "outputs": [],
   "source": [
    "review_tags=driver.find_elements(By.XPATH,'//p[@class=\"_2-N8zT\"]')\n",
    "for i in review_tags[0:10]:\n",
    "    title=i.text\n",
    "    review_summary.append(title)"
   ]
  },
  {
   "cell_type": "code",
   "execution_count": 35,
   "id": "c0abb8f9-31b1-48d9-9d70-48203b21b011",
   "metadata": {
    "tags": []
   },
   "outputs": [],
   "source": [
    "rating_tags=driver.find_elements(By.XPATH,'//div[@class=\"_3LWZlK _1BLPMq\"]')\n",
    "for i in rating_tags[0:10]:\n",
    "    title=i.text\n",
    "    rating_titles.append(title)"
   ]
  },
  {
   "cell_type": "code",
   "execution_count": 36,
   "id": "b46d6a9d-7434-441a-86a5-cbaac1164aa7",
   "metadata": {
    "tags": []
   },
   "outputs": [],
   "source": [
    "freview_tags=driver.find_elements(By.XPATH,'//div[@class=\"t-ZTKy\"]')\n",
    "for i in freview_tags[0:10]:\n",
    "    title=i.text\n",
    "    full_review.append(title)"
   ]
  },
  {
   "cell_type": "code",
   "execution_count": 37,
   "id": "1c4ab41f-507b-4f46-afed-988112bfc62e",
   "metadata": {
    "tags": []
   },
   "outputs": [],
   "source": [
    "print=(len(rating_titles),len(review_summary),len(full_review))"
   ]
  },
  {
   "cell_type": "code",
   "execution_count": 38,
   "id": "9507bf75-e1ec-4444-a061-3ad12683bf39",
   "metadata": {
    "tags": []
   },
   "outputs": [
    {
     "data": {
      "text/plain": [
       "(10, 10, 10)"
      ]
     },
     "execution_count": 38,
     "metadata": {},
     "output_type": "execute_result"
    }
   ],
   "source": [
    "print"
   ]
  },
  {
   "cell_type": "code",
   "execution_count": 39,
   "id": "df04a6eb-ec00-4be8-8bfe-2c432e0dd79d",
   "metadata": {
    "tags": []
   },
   "outputs": [
    {
     "data": {
      "text/html": [
       "<div>\n",
       "<style scoped>\n",
       "    .dataframe tbody tr th:only-of-type {\n",
       "        vertical-align: middle;\n",
       "    }\n",
       "\n",
       "    .dataframe tbody tr th {\n",
       "        vertical-align: top;\n",
       "    }\n",
       "\n",
       "    .dataframe thead th {\n",
       "        text-align: right;\n",
       "    }\n",
       "</style>\n",
       "<table border=\"1\" class=\"dataframe\">\n",
       "  <thead>\n",
       "    <tr style=\"text-align: right;\">\n",
       "      <th></th>\n",
       "      <th>Rating Titles</th>\n",
       "      <th>Review Summary</th>\n",
       "      <th>full review</th>\n",
       "    </tr>\n",
       "  </thead>\n",
       "  <tbody>\n",
       "    <tr>\n",
       "      <th>0</th>\n",
       "      <td>5</td>\n",
       "      <td>Worth every penny</td>\n",
       "      <td>Feeling awesome after getting the delivery of ...</td>\n",
       "    </tr>\n",
       "    <tr>\n",
       "      <th>1</th>\n",
       "      <td>5</td>\n",
       "      <td>Great product</td>\n",
       "      <td>Purple is best</td>\n",
       "    </tr>\n",
       "    <tr>\n",
       "      <th>2</th>\n",
       "      <td>5</td>\n",
       "      <td>Fabulous!</td>\n",
       "      <td>It’s very good battery life and display and vi...</td>\n",
       "    </tr>\n",
       "    <tr>\n",
       "      <th>3</th>\n",
       "      <td>4</td>\n",
       "      <td>Worth the money</td>\n",
       "      <td>Camera is just wow 👌👌</td>\n",
       "    </tr>\n",
       "    <tr>\n",
       "      <th>4</th>\n",
       "      <td>5</td>\n",
       "      <td>Classy product</td>\n",
       "      <td>Gifted my man on his 30th birthday 🎂 He loves ...</td>\n",
       "    </tr>\n",
       "    <tr>\n",
       "      <th>5</th>\n",
       "      <td>5</td>\n",
       "      <td>Mind-blowing purchase</td>\n",
       "      <td>Photos super</td>\n",
       "    </tr>\n",
       "    <tr>\n",
       "      <th>6</th>\n",
       "      <td>5</td>\n",
       "      <td>Fabulous!</td>\n",
       "      <td>Super🔥 and good performance 👌❤️</td>\n",
       "    </tr>\n",
       "    <tr>\n",
       "      <th>7</th>\n",
       "      <td>5</td>\n",
       "      <td>Brilliant</td>\n",
       "      <td>very good camera quality</td>\n",
       "    </tr>\n",
       "    <tr>\n",
       "      <th>8</th>\n",
       "      <td>5</td>\n",
       "      <td>Terrific purchase</td>\n",
       "      <td>Value for money 🖤🖤</td>\n",
       "    </tr>\n",
       "    <tr>\n",
       "      <th>9</th>\n",
       "      <td>5</td>\n",
       "      <td>Excellent</td>\n",
       "      <td>Best camera ever</td>\n",
       "    </tr>\n",
       "  </tbody>\n",
       "</table>\n",
       "</div>"
      ],
      "text/plain": [
       "  Rating Titles         Review Summary  \\\n",
       "0             5      Worth every penny   \n",
       "1             5          Great product   \n",
       "2             5              Fabulous!   \n",
       "3             4        Worth the money   \n",
       "4             5         Classy product   \n",
       "5             5  Mind-blowing purchase   \n",
       "6             5              Fabulous!   \n",
       "7             5              Brilliant   \n",
       "8             5      Terrific purchase   \n",
       "9             5              Excellent   \n",
       "\n",
       "                                         full review  \n",
       "0  Feeling awesome after getting the delivery of ...  \n",
       "1                                     Purple is best  \n",
       "2  It’s very good battery life and display and vi...  \n",
       "3                              Camera is just wow 👌👌  \n",
       "4  Gifted my man on his 30th birthday 🎂 He loves ...  \n",
       "5                                       Photos super  \n",
       "6                    Super🔥 and good performance 👌❤️  \n",
       "7                           very good camera quality  \n",
       "8                                 Value for money 🖤🖤  \n",
       "9                                   Best camera ever  "
      ]
     },
     "execution_count": 39,
     "metadata": {},
     "output_type": "execute_result"
    }
   ],
   "source": [
    "import pandas as pd\n",
    "df=pd.DataFrame({'Rating Titles':rating_titles,'Review Summary':review_summary, 'full review':full_review})\n",
    "df"
   ]
  },
  {
   "cell_type": "code",
   "execution_count": 40,
   "id": "0311eb13-b0c8-407a-b322-3d25ddf7894e",
   "metadata": {
    "tags": []
   },
   "outputs": [],
   "source": [
    "next_button = driver.find_element(By.XPATH, '//a[@class=\"_1LKTO3\"]/span[contains(text(),\"Next\")]')\n",
    "next_button.click()"
   ]
  },
  {
   "cell_type": "code",
   "execution_count": 41,
   "id": "b78a6bff-971c-43d1-bacb-31676a9d2396",
   "metadata": {
    "tags": []
   },
   "outputs": [],
   "source": [
    "rating_titles = []\n",
    "review_summary = []\n",
    "full_review = []"
   ]
  },
  {
   "cell_type": "code",
   "execution_count": 42,
   "id": "34ffe750-ce7c-4821-bb02-a68f85e56e41",
   "metadata": {
    "tags": []
   },
   "outputs": [],
   "source": [
    "review_tags=driver.find_elements(By.XPATH,'//p[@class=\"_2-N8zT\"]')\n",
    "for i in review_tags[0:10]:\n",
    "    title=i.text\n",
    "    review_summary.append(title)"
   ]
  },
  {
   "cell_type": "code",
   "execution_count": 43,
   "id": "fe9149ae-6628-4b65-b31a-212306d4f8c3",
   "metadata": {
    "tags": []
   },
   "outputs": [],
   "source": [
    "rating_tags=driver.find_elements(By.XPATH,'//div[@class=\"_3LWZlK _1BLPMq\"]')\n",
    "for i in rating_tags[0:10]:\n",
    "    title=i.text\n",
    "    rating_titles.append(title)"
   ]
  },
  {
   "cell_type": "code",
   "execution_count": 44,
   "id": "6e3fce57-6d83-40fc-adbb-c82d5f1235e8",
   "metadata": {
    "tags": []
   },
   "outputs": [],
   "source": [
    "freview_tags=driver.find_elements(By.XPATH,'//div[@class=\"t-ZTKy\"]')\n",
    "for i in freview_tags[0:10]:\n",
    "    title=i.text\n",
    "    full_review.append(title)"
   ]
  },
  {
   "cell_type": "code",
   "execution_count": 45,
   "id": "f9fe9fc9-54b3-4b49-9988-290d19c49b0f",
   "metadata": {
    "tags": []
   },
   "outputs": [],
   "source": [
    "print=(len(rating_titles),len(review_summary),len(full_review))"
   ]
  },
  {
   "cell_type": "code",
   "execution_count": 46,
   "id": "b0fba2a9-2b83-4ebf-8599-3001e48e0653",
   "metadata": {
    "tags": []
   },
   "outputs": [
    {
     "data": {
      "text/plain": [
       "(10, 10, 10)"
      ]
     },
     "execution_count": 46,
     "metadata": {},
     "output_type": "execute_result"
    }
   ],
   "source": [
    "print"
   ]
  },
  {
   "cell_type": "code",
   "execution_count": 47,
   "id": "674e9e9c-1ce4-450b-8b08-32a21bba1a1e",
   "metadata": {
    "tags": []
   },
   "outputs": [
    {
     "data": {
      "text/html": [
       "<div>\n",
       "<style scoped>\n",
       "    .dataframe tbody tr th:only-of-type {\n",
       "        vertical-align: middle;\n",
       "    }\n",
       "\n",
       "    .dataframe tbody tr th {\n",
       "        vertical-align: top;\n",
       "    }\n",
       "\n",
       "    .dataframe thead th {\n",
       "        text-align: right;\n",
       "    }\n",
       "</style>\n",
       "<table border=\"1\" class=\"dataframe\">\n",
       "  <thead>\n",
       "    <tr style=\"text-align: right;\">\n",
       "      <th></th>\n",
       "      <th>Rating Titles</th>\n",
       "      <th>Review Summary</th>\n",
       "      <th>full review</th>\n",
       "    </tr>\n",
       "  </thead>\n",
       "  <tbody>\n",
       "    <tr>\n",
       "      <th>0</th>\n",
       "      <td>5</td>\n",
       "      <td>Simply awesome</td>\n",
       "      <td>Really satisfied with the Product I received.....</td>\n",
       "    </tr>\n",
       "    <tr>\n",
       "      <th>1</th>\n",
       "      <td>5</td>\n",
       "      <td>Super!</td>\n",
       "      <td>Good product 👌I love iPhone</td>\n",
       "    </tr>\n",
       "    <tr>\n",
       "      <th>2</th>\n",
       "      <td>5</td>\n",
       "      <td>Wonderful</td>\n",
       "      <td>If you get it you would definitely not regret ...</td>\n",
       "    </tr>\n",
       "    <tr>\n",
       "      <th>3</th>\n",
       "      <td>5</td>\n",
       "      <td>Simply awesome</td>\n",
       "      <td>Buy it if you afford it 😜</td>\n",
       "    </tr>\n",
       "    <tr>\n",
       "      <th>4</th>\n",
       "      <td>5</td>\n",
       "      <td>Awesome</td>\n",
       "      <td>Always love the apple products, upgraded from ...</td>\n",
       "    </tr>\n",
       "    <tr>\n",
       "      <th>5</th>\n",
       "      <td>5</td>\n",
       "      <td>Awesome</td>\n",
       "      <td>I dreamt about this day from a long time.... G...</td>\n",
       "    </tr>\n",
       "    <tr>\n",
       "      <th>6</th>\n",
       "      <td>5</td>\n",
       "      <td>Best in the market!</td>\n",
       "      <td>Damn this phone is a blast . Upgraded from and...</td>\n",
       "    </tr>\n",
       "    <tr>\n",
       "      <th>7</th>\n",
       "      <td>5</td>\n",
       "      <td>Excellent</td>\n",
       "      <td>NYC</td>\n",
       "    </tr>\n",
       "    <tr>\n",
       "      <th>8</th>\n",
       "      <td>5</td>\n",
       "      <td>Brilliant</td>\n",
       "      <td>Phone Is So Good</td>\n",
       "    </tr>\n",
       "    <tr>\n",
       "      <th>9</th>\n",
       "      <td>5</td>\n",
       "      <td>Best in the market!</td>\n",
       "      <td>Superbb performance n camera is awesome 😍😍</td>\n",
       "    </tr>\n",
       "  </tbody>\n",
       "</table>\n",
       "</div>"
      ],
      "text/plain": [
       "  Rating Titles       Review Summary  \\\n",
       "0             5       Simply awesome   \n",
       "1             5               Super!   \n",
       "2             5            Wonderful   \n",
       "3             5       Simply awesome   \n",
       "4             5              Awesome   \n",
       "5             5              Awesome   \n",
       "6             5  Best in the market!   \n",
       "7             5            Excellent   \n",
       "8             5            Brilliant   \n",
       "9             5  Best in the market!   \n",
       "\n",
       "                                         full review  \n",
       "0  Really satisfied with the Product I received.....  \n",
       "1                        Good product 👌I love iPhone  \n",
       "2  If you get it you would definitely not regret ...  \n",
       "3                          Buy it if you afford it 😜  \n",
       "4  Always love the apple products, upgraded from ...  \n",
       "5  I dreamt about this day from a long time.... G...  \n",
       "6  Damn this phone is a blast . Upgraded from and...  \n",
       "7                                                NYC  \n",
       "8                                   Phone Is So Good  \n",
       "9         Superbb performance n camera is awesome 😍😍  "
      ]
     },
     "execution_count": 47,
     "metadata": {},
     "output_type": "execute_result"
    }
   ],
   "source": [
    "import pandas as pd\n",
    "df=pd.DataFrame({'Rating Titles':rating_titles,'Review Summary':review_summary, 'full review':full_review})\n",
    "df"
   ]
  },
  {
   "cell_type": "code",
   "execution_count": 55,
   "id": "3682c517-9331-4ef0-95a4-2fa81030fffa",
   "metadata": {
    "tags": []
   },
   "outputs": [],
   "source": [
    "next_button = driver.find_element(By.XPATH, '//a[@class=\"_1LKTO3\"]/span[contains(text(),\"Next\")]')\n",
    "next_button.click()"
   ]
  },
  {
   "cell_type": "code",
   "execution_count": 56,
   "id": "10207db5-a2be-427d-8b28-92ec8cdd0035",
   "metadata": {
    "tags": []
   },
   "outputs": [],
   "source": [
    "rating_titles = []\n",
    "review_summary = []\n",
    "full_review = []"
   ]
  },
  {
   "cell_type": "code",
   "execution_count": 57,
   "id": "adc9bf47-f4a1-47cc-8585-52572229c23c",
   "metadata": {
    "tags": []
   },
   "outputs": [],
   "source": [
    "review_tags=driver.find_elements(By.XPATH,'//p[@class=\"_2-N8zT\"]')\n",
    "for i in review_tags[0:10]:\n",
    "    title=i.text\n",
    "    review_summary.append(title)"
   ]
  },
  {
   "cell_type": "code",
   "execution_count": 58,
   "id": "5ef2e482-ae59-44d0-80b3-9ee46b89e21f",
   "metadata": {
    "tags": []
   },
   "outputs": [],
   "source": [
    "rating_tags=driver.find_elements(By.XPATH,'//div[@class=\"_3LWZlK _1BLPMq\"]')\n",
    "for i in rating_tags[0:10]:\n",
    "    title=i.text\n",
    "    rating_titles.append(title)"
   ]
  },
  {
   "cell_type": "code",
   "execution_count": 59,
   "id": "922fa997-3ef2-4fe3-945a-5ceb82e9f9a7",
   "metadata": {
    "tags": []
   },
   "outputs": [],
   "source": [
    "freview_tags=driver.find_elements(By.XPATH,'//div[@class=\"t-ZTKy\"]')\n",
    "for i in freview_tags[0:10]:\n",
    "    title=i.text\n",
    "    full_review.append(title)"
   ]
  },
  {
   "cell_type": "code",
   "execution_count": 60,
   "id": "23151fae-e5e4-497c-835b-ebb55f991241",
   "metadata": {
    "tags": []
   },
   "outputs": [],
   "source": [
    "print=(len(rating_titles),len(review_summary),len(full_review))"
   ]
  },
  {
   "cell_type": "code",
   "execution_count": 61,
   "id": "dd585afe-a62d-40e6-acfe-996346580118",
   "metadata": {
    "tags": []
   },
   "outputs": [
    {
     "data": {
      "text/plain": [
       "(10, 10, 10)"
      ]
     },
     "execution_count": 61,
     "metadata": {},
     "output_type": "execute_result"
    }
   ],
   "source": [
    "print"
   ]
  },
  {
   "cell_type": "code",
   "execution_count": 62,
   "id": "f35a4d65-ca01-41c2-87b3-f897926e346e",
   "metadata": {
    "tags": []
   },
   "outputs": [
    {
     "data": {
      "text/html": [
       "<div>\n",
       "<style scoped>\n",
       "    .dataframe tbody tr th:only-of-type {\n",
       "        vertical-align: middle;\n",
       "    }\n",
       "\n",
       "    .dataframe tbody tr th {\n",
       "        vertical-align: top;\n",
       "    }\n",
       "\n",
       "    .dataframe thead th {\n",
       "        text-align: right;\n",
       "    }\n",
       "</style>\n",
       "<table border=\"1\" class=\"dataframe\">\n",
       "  <thead>\n",
       "    <tr style=\"text-align: right;\">\n",
       "      <th></th>\n",
       "      <th>Rating Titles</th>\n",
       "      <th>Review Summary</th>\n",
       "      <th>full review</th>\n",
       "    </tr>\n",
       "  </thead>\n",
       "  <tbody>\n",
       "    <tr>\n",
       "      <th>0</th>\n",
       "      <td>5</td>\n",
       "      <td>Just wow!</td>\n",
       "      <td>Nice product\\nThe camera is extremely good whi...</td>\n",
       "    </tr>\n",
       "    <tr>\n",
       "      <th>1</th>\n",
       "      <td>4</td>\n",
       "      <td>Very Good</td>\n",
       "      <td>🎈Battery\\n🎈Performance\\n🎈Camera\\n🎈Price\\n\\n🎊Al...</td>\n",
       "    </tr>\n",
       "    <tr>\n",
       "      <th>2</th>\n",
       "      <td>5</td>\n",
       "      <td>Highly recommended</td>\n",
       "      <td>Awesome Battery Life...Camera clarity is too g...</td>\n",
       "    </tr>\n",
       "    <tr>\n",
       "      <th>3</th>\n",
       "      <td>5</td>\n",
       "      <td>Highly recommended</td>\n",
       "      <td>It's my first time to use iOS phone and I am l...</td>\n",
       "    </tr>\n",
       "    <tr>\n",
       "      <th>4</th>\n",
       "      <td>5</td>\n",
       "      <td>Perfect product!</td>\n",
       "      <td>Amazing phone with great cameras and better ba...</td>\n",
       "    </tr>\n",
       "    <tr>\n",
       "      <th>5</th>\n",
       "      <td>5</td>\n",
       "      <td>Best in the market!</td>\n",
       "      <td>Great iPhone very snappy experience as apple k...</td>\n",
       "    </tr>\n",
       "    <tr>\n",
       "      <th>6</th>\n",
       "      <td>5</td>\n",
       "      <td>Wonderful</td>\n",
       "      <td>Very good</td>\n",
       "    </tr>\n",
       "    <tr>\n",
       "      <th>7</th>\n",
       "      <td>5</td>\n",
       "      <td>Classy product</td>\n",
       "      <td>Best and amazing product.....phone looks so pr...</td>\n",
       "    </tr>\n",
       "    <tr>\n",
       "      <th>8</th>\n",
       "      <td>5</td>\n",
       "      <td>Simply awesome</td>\n",
       "      <td>Just awesome phone, everything works in such a...</td>\n",
       "    </tr>\n",
       "    <tr>\n",
       "      <th>9</th>\n",
       "      <td>5</td>\n",
       "      <td>Wonderful</td>\n",
       "      <td>Amazing...I am switched Samsung note9 into Iph...</td>\n",
       "    </tr>\n",
       "  </tbody>\n",
       "</table>\n",
       "</div>"
      ],
      "text/plain": [
       "  Rating Titles       Review Summary  \\\n",
       "0             5            Just wow!   \n",
       "1             4            Very Good   \n",
       "2             5   Highly recommended   \n",
       "3             5   Highly recommended   \n",
       "4             5     Perfect product!   \n",
       "5             5  Best in the market!   \n",
       "6             5            Wonderful   \n",
       "7             5       Classy product   \n",
       "8             5       Simply awesome   \n",
       "9             5            Wonderful   \n",
       "\n",
       "                                         full review  \n",
       "0  Nice product\\nThe camera is extremely good whi...  \n",
       "1  🎈Battery\\n🎈Performance\\n🎈Camera\\n🎈Price\\n\\n🎊Al...  \n",
       "2  Awesome Battery Life...Camera clarity is too g...  \n",
       "3  It's my first time to use iOS phone and I am l...  \n",
       "4  Amazing phone with great cameras and better ba...  \n",
       "5  Great iPhone very snappy experience as apple k...  \n",
       "6                                          Very good  \n",
       "7  Best and amazing product.....phone looks so pr...  \n",
       "8  Just awesome phone, everything works in such a...  \n",
       "9  Amazing...I am switched Samsung note9 into Iph...  "
      ]
     },
     "execution_count": 62,
     "metadata": {},
     "output_type": "execute_result"
    }
   ],
   "source": [
    "import pandas as pd\n",
    "df=pd.DataFrame({'Rating Titles':rating_titles,'Review Summary':review_summary, 'full review':full_review})\n",
    "df"
   ]
  },
  {
   "cell_type": "code",
   "execution_count": 63,
   "id": "5c459419-e6d8-41b9-bec1-5d664207e431",
   "metadata": {
    "tags": []
   },
   "outputs": [],
   "source": [
    "next_button = driver.find_element(By.XPATH, '//a[@class=\"_1LKTO3\"]/span[contains(text(),\"Next\")]')\n",
    "next_button.click()"
   ]
  },
  {
   "cell_type": "code",
   "execution_count": 64,
   "id": "16c17e71-b5f8-46f4-a7a5-f6be8dc83bca",
   "metadata": {
    "tags": []
   },
   "outputs": [],
   "source": [
    "rating_titles = []\n",
    "review_summary = []\n",
    "full_review = []"
   ]
  },
  {
   "cell_type": "code",
   "execution_count": 65,
   "id": "035ae65a-3cce-4cea-8670-9e26c2db2397",
   "metadata": {
    "tags": []
   },
   "outputs": [],
   "source": [
    "review_tags=driver.find_elements(By.XPATH,'//p[@class=\"_2-N8zT\"]')\n",
    "for i in review_tags[0:10]:\n",
    "    title=i.text\n",
    "    review_summary.append(title)"
   ]
  },
  {
   "cell_type": "code",
   "execution_count": 66,
   "id": "680c143e-b082-4bd5-b637-09ee3d68ca10",
   "metadata": {
    "tags": []
   },
   "outputs": [],
   "source": [
    "rating_tags=driver.find_elements(By.XPATH,'//div[@class=\"_3LWZlK _1BLPMq\"]')\n",
    "for i in rating_tags[0:10]:\n",
    "    title=i.text\n",
    "    rating_titles.append(title)"
   ]
  },
  {
   "cell_type": "code",
   "execution_count": 67,
   "id": "54686bd9-f171-4a50-b1b7-fb0f9933a0a6",
   "metadata": {
    "tags": []
   },
   "outputs": [],
   "source": [
    "freview_tags=driver.find_elements(By.XPATH,'//div[@class=\"t-ZTKy\"]')\n",
    "for i in freview_tags[0:10]:\n",
    "    title=i.text\n",
    "    full_review.append(title)"
   ]
  },
  {
   "cell_type": "code",
   "execution_count": 68,
   "id": "8c510744-c39d-4f67-8f9b-ee560814b7a4",
   "metadata": {
    "tags": []
   },
   "outputs": [],
   "source": [
    "print=(len(rating_titles),len(review_summary),len(full_review))"
   ]
  },
  {
   "cell_type": "code",
   "execution_count": 69,
   "id": "70c2c364-b5b5-4268-809d-a29b854cac8c",
   "metadata": {
    "tags": []
   },
   "outputs": [
    {
     "data": {
      "text/plain": [
       "(10, 10, 10)"
      ]
     },
     "execution_count": 69,
     "metadata": {},
     "output_type": "execute_result"
    }
   ],
   "source": [
    "print"
   ]
  },
  {
   "cell_type": "code",
   "execution_count": 70,
   "id": "65695a8c-af7c-4dc4-958b-7ef724e281ef",
   "metadata": {
    "tags": []
   },
   "outputs": [
    {
     "data": {
      "text/html": [
       "<div>\n",
       "<style scoped>\n",
       "    .dataframe tbody tr th:only-of-type {\n",
       "        vertical-align: middle;\n",
       "    }\n",
       "\n",
       "    .dataframe tbody tr th {\n",
       "        vertical-align: top;\n",
       "    }\n",
       "\n",
       "    .dataframe thead th {\n",
       "        text-align: right;\n",
       "    }\n",
       "</style>\n",
       "<table border=\"1\" class=\"dataframe\">\n",
       "  <thead>\n",
       "    <tr style=\"text-align: right;\">\n",
       "      <th></th>\n",
       "      <th>Rating Titles</th>\n",
       "      <th>Review Summary</th>\n",
       "      <th>full review</th>\n",
       "    </tr>\n",
       "  </thead>\n",
       "  <tbody>\n",
       "    <tr>\n",
       "      <th>0</th>\n",
       "      <td>5</td>\n",
       "      <td>Highly recommended</td>\n",
       "      <td>Awesome Best iPhone 😍👍🏼</td>\n",
       "    </tr>\n",
       "    <tr>\n",
       "      <th>1</th>\n",
       "      <td>4</td>\n",
       "      <td>Value-for-money</td>\n",
       "      <td>I'm Really happy with the product\\nDelivery wa...</td>\n",
       "    </tr>\n",
       "    <tr>\n",
       "      <th>2</th>\n",
       "      <td>5</td>\n",
       "      <td>Worth every penny</td>\n",
       "      <td>Previously I was using one plus 3t it was a gr...</td>\n",
       "    </tr>\n",
       "    <tr>\n",
       "      <th>3</th>\n",
       "      <td>5</td>\n",
       "      <td>Worth every penny</td>\n",
       "      <td>excellent look...</td>\n",
       "    </tr>\n",
       "    <tr>\n",
       "      <th>4</th>\n",
       "      <td>5</td>\n",
       "      <td>Fabulous!</td>\n",
       "      <td>Everything is perfect pictures come out so cle...</td>\n",
       "    </tr>\n",
       "    <tr>\n",
       "      <th>5</th>\n",
       "      <td>5</td>\n",
       "      <td>Brilliant</td>\n",
       "      <td>A wort full value for money decision it’s . Si...</td>\n",
       "    </tr>\n",
       "    <tr>\n",
       "      <th>6</th>\n",
       "      <td>5</td>\n",
       "      <td>Must buy!</td>\n",
       "      <td>Excellent</td>\n",
       "    </tr>\n",
       "    <tr>\n",
       "      <th>7</th>\n",
       "      <td>5</td>\n",
       "      <td>Simply awesome</td>\n",
       "      <td>Awsn loved it</td>\n",
       "    </tr>\n",
       "    <tr>\n",
       "      <th>8</th>\n",
       "      <td>5</td>\n",
       "      <td>Best in the market!</td>\n",
       "      <td>first iphone from android.\\nwhat can I say, ip...</td>\n",
       "    </tr>\n",
       "    <tr>\n",
       "      <th>9</th>\n",
       "      <td>5</td>\n",
       "      <td>Best in the market!</td>\n",
       "      <td>Don’t expect much from front camera… especiall...</td>\n",
       "    </tr>\n",
       "  </tbody>\n",
       "</table>\n",
       "</div>"
      ],
      "text/plain": [
       "  Rating Titles       Review Summary  \\\n",
       "0             5   Highly recommended   \n",
       "1             4      Value-for-money   \n",
       "2             5    Worth every penny   \n",
       "3             5    Worth every penny   \n",
       "4             5            Fabulous!   \n",
       "5             5            Brilliant   \n",
       "6             5            Must buy!   \n",
       "7             5       Simply awesome   \n",
       "8             5  Best in the market!   \n",
       "9             5  Best in the market!   \n",
       "\n",
       "                                         full review  \n",
       "0                            Awesome Best iPhone 😍👍🏼  \n",
       "1  I'm Really happy with the product\\nDelivery wa...  \n",
       "2  Previously I was using one plus 3t it was a gr...  \n",
       "3                                  excellent look...  \n",
       "4  Everything is perfect pictures come out so cle...  \n",
       "5  A wort full value for money decision it’s . Si...  \n",
       "6                                          Excellent  \n",
       "7                                      Awsn loved it  \n",
       "8  first iphone from android.\\nwhat can I say, ip...  \n",
       "9  Don’t expect much from front camera… especiall...  "
      ]
     },
     "execution_count": 70,
     "metadata": {},
     "output_type": "execute_result"
    }
   ],
   "source": [
    "import pandas as pd\n",
    "df=pd.DataFrame({'Rating Titles':rating_titles,'Review Summary':review_summary, 'full review':full_review})\n",
    "df"
   ]
  },
  {
   "cell_type": "code",
   "execution_count": 71,
   "id": "a26dc87b-d07e-46a0-bb8e-9bb84fce9d7b",
   "metadata": {
    "tags": []
   },
   "outputs": [],
   "source": [
    "next_button = driver.find_element(By.XPATH, '//a[@class=\"_1LKTO3\"]/span[contains(text(),\"Next\")]')\n",
    "next_button.click()"
   ]
  },
  {
   "cell_type": "code",
   "execution_count": 72,
   "id": "f4c23e91-a052-4dd9-8625-89b8e6f37cc7",
   "metadata": {
    "tags": []
   },
   "outputs": [],
   "source": [
    "rating_titles = []\n",
    "review_summary = []\n",
    "full_review = []"
   ]
  },
  {
   "cell_type": "code",
   "execution_count": 73,
   "id": "923e77f2-a712-4b96-87f8-fc1c2e76d8fa",
   "metadata": {
    "tags": []
   },
   "outputs": [],
   "source": [
    "review_tags=driver.find_elements(By.XPATH,'//p[@class=\"_2-N8zT\"]')\n",
    "for i in review_tags[0:10]:\n",
    "    title=i.text\n",
    "    review_summary.append(title)"
   ]
  },
  {
   "cell_type": "code",
   "execution_count": 74,
   "id": "98460586-64a3-453a-a75b-a569233deead",
   "metadata": {
    "tags": []
   },
   "outputs": [],
   "source": [
    "rating_tags=driver.find_elements(By.XPATH,'//div[@class=\"_3LWZlK _1BLPMq\"]')\n",
    "for i in rating_tags[0:10]:\n",
    "    title=i.text\n",
    "    rating_titles.append(title)"
   ]
  },
  {
   "cell_type": "code",
   "execution_count": 75,
   "id": "e17b1853-26ad-4505-8008-809383c0e1c3",
   "metadata": {
    "tags": []
   },
   "outputs": [],
   "source": [
    "freview_tags=driver.find_elements(By.XPATH,'//div[@class=\"t-ZTKy\"]')\n",
    "for i in freview_tags[0:10]:\n",
    "    title=i.text\n",
    "    full_review.append(title)"
   ]
  },
  {
   "cell_type": "code",
   "execution_count": 76,
   "id": "2f1f927f-075e-4825-ab35-569ce25bdb40",
   "metadata": {
    "tags": []
   },
   "outputs": [],
   "source": [
    "print=(len(rating_titles),len(review_summary),len(full_review))"
   ]
  },
  {
   "cell_type": "code",
   "execution_count": 77,
   "id": "8d712b90-f03b-4b8d-b862-9d7afcc70912",
   "metadata": {
    "tags": []
   },
   "outputs": [
    {
     "data": {
      "text/plain": [
       "(10, 10, 10)"
      ]
     },
     "execution_count": 77,
     "metadata": {},
     "output_type": "execute_result"
    }
   ],
   "source": [
    "print"
   ]
  },
  {
   "cell_type": "code",
   "execution_count": 78,
   "id": "d9924e4f-cbd4-48a0-9c4e-59827ebdbe15",
   "metadata": {
    "tags": []
   },
   "outputs": [
    {
     "data": {
      "text/html": [
       "<div>\n",
       "<style scoped>\n",
       "    .dataframe tbody tr th:only-of-type {\n",
       "        vertical-align: middle;\n",
       "    }\n",
       "\n",
       "    .dataframe tbody tr th {\n",
       "        vertical-align: top;\n",
       "    }\n",
       "\n",
       "    .dataframe thead th {\n",
       "        text-align: right;\n",
       "    }\n",
       "</style>\n",
       "<table border=\"1\" class=\"dataframe\">\n",
       "  <thead>\n",
       "    <tr style=\"text-align: right;\">\n",
       "      <th></th>\n",
       "      <th>Rating Titles</th>\n",
       "      <th>Review Summary</th>\n",
       "      <th>full review</th>\n",
       "    </tr>\n",
       "  </thead>\n",
       "  <tbody>\n",
       "    <tr>\n",
       "      <th>0</th>\n",
       "      <td>5</td>\n",
       "      <td>Just wow!</td>\n",
       "      <td>Loving it!!! 🤩\\nSE to 11❤️\\nA Big &amp; Worthy Upg...</td>\n",
       "    </tr>\n",
       "    <tr>\n",
       "      <th>1</th>\n",
       "      <td>5</td>\n",
       "      <td>Perfect product!</td>\n",
       "      <td>Value for money\\n5 star rating\\nExcellent came...</td>\n",
       "    </tr>\n",
       "    <tr>\n",
       "      <th>2</th>\n",
       "      <td>5</td>\n",
       "      <td>Highly recommended</td>\n",
       "      <td>What a camera .....just awesome ..you can feel...</td>\n",
       "    </tr>\n",
       "    <tr>\n",
       "      <th>3</th>\n",
       "      <td>5</td>\n",
       "      <td>Simply awesome</td>\n",
       "      <td>over all its nice.. color... purple. 😍</td>\n",
       "    </tr>\n",
       "    <tr>\n",
       "      <th>4</th>\n",
       "      <td>5</td>\n",
       "      <td>Great product</td>\n",
       "      <td>Amazing Powerful and Durable Gadget.\\n\\nI’m am...</td>\n",
       "    </tr>\n",
       "    <tr>\n",
       "      <th>5</th>\n",
       "      <td>4</td>\n",
       "      <td>Good choice</td>\n",
       "      <td>So far it’s been an AMAZING experience coming ...</td>\n",
       "    </tr>\n",
       "    <tr>\n",
       "      <th>6</th>\n",
       "      <td>5</td>\n",
       "      <td>Perfect product!</td>\n",
       "      <td>Very nice iPhone 11 i lake</td>\n",
       "    </tr>\n",
       "    <tr>\n",
       "      <th>7</th>\n",
       "      <td>5</td>\n",
       "      <td>Just wow!</td>\n",
       "      <td>Switched from 6s and absolutely loving it 😍\\nE...</td>\n",
       "    </tr>\n",
       "    <tr>\n",
       "      <th>8</th>\n",
       "      <td>5</td>\n",
       "      <td>Just wow!</td>\n",
       "      <td>If you want to buy a latest iPhone in an affor...</td>\n",
       "    </tr>\n",
       "    <tr>\n",
       "      <th>9</th>\n",
       "      <td>5</td>\n",
       "      <td>Wonderful</td>\n",
       "      <td>I upgraded from 7 plus and Im not regretting i...</td>\n",
       "    </tr>\n",
       "  </tbody>\n",
       "</table>\n",
       "</div>"
      ],
      "text/plain": [
       "  Rating Titles      Review Summary  \\\n",
       "0             5           Just wow!   \n",
       "1             5    Perfect product!   \n",
       "2             5  Highly recommended   \n",
       "3             5      Simply awesome   \n",
       "4             5       Great product   \n",
       "5             4         Good choice   \n",
       "6             5    Perfect product!   \n",
       "7             5           Just wow!   \n",
       "8             5           Just wow!   \n",
       "9             5           Wonderful   \n",
       "\n",
       "                                         full review  \n",
       "0  Loving it!!! 🤩\\nSE to 11❤️\\nA Big & Worthy Upg...  \n",
       "1  Value for money\\n5 star rating\\nExcellent came...  \n",
       "2  What a camera .....just awesome ..you can feel...  \n",
       "3             over all its nice.. color... purple. 😍  \n",
       "4  Amazing Powerful and Durable Gadget.\\n\\nI’m am...  \n",
       "5  So far it’s been an AMAZING experience coming ...  \n",
       "6                         Very nice iPhone 11 i lake  \n",
       "7  Switched from 6s and absolutely loving it 😍\\nE...  \n",
       "8  If you want to buy a latest iPhone in an affor...  \n",
       "9  I upgraded from 7 plus and Im not regretting i...  "
      ]
     },
     "execution_count": 78,
     "metadata": {},
     "output_type": "execute_result"
    }
   ],
   "source": [
    "import pandas as pd\n",
    "df=pd.DataFrame({'Rating Titles':rating_titles,'Review Summary':review_summary, 'full review':full_review})\n",
    "df"
   ]
  },
  {
   "cell_type": "code",
   "execution_count": 79,
   "id": "3f199b90-e156-4cb1-9d44-458c44686445",
   "metadata": {
    "tags": []
   },
   "outputs": [],
   "source": [
    "next_button = driver.find_element(By.XPATH, '//a[@class=\"_1LKTO3\"]/span[contains(text(),\"Next\")]')\n",
    "next_button.click()"
   ]
  },
  {
   "cell_type": "code",
   "execution_count": 80,
   "id": "64e27818-359a-42cf-af03-aee42d1d1aa6",
   "metadata": {
    "tags": []
   },
   "outputs": [],
   "source": [
    "rating_titles = []\n",
    "review_summary = []\n",
    "full_review = []"
   ]
  },
  {
   "cell_type": "code",
   "execution_count": 81,
   "id": "50e620a8-9492-438e-b98e-4755b25f0529",
   "metadata": {
    "tags": []
   },
   "outputs": [],
   "source": [
    "review_tags=driver.find_elements(By.XPATH,'//p[@class=\"_2-N8zT\"]')\n",
    "for i in review_tags[0:10]:\n",
    "    title=i.text\n",
    "    review_summary.append(title)"
   ]
  },
  {
   "cell_type": "code",
   "execution_count": 82,
   "id": "5ac2aabd-9cb4-49c1-b37e-adced3b8944f",
   "metadata": {
    "tags": []
   },
   "outputs": [],
   "source": [
    "rating_tags=driver.find_elements(By.XPATH,'//div[@class=\"_3LWZlK _1BLPMq\"]')\n",
    "for i in rating_tags[0:10]:\n",
    "    title=i.text\n",
    "    rating_titles.append(title)"
   ]
  },
  {
   "cell_type": "code",
   "execution_count": 83,
   "id": "7c9a26d0-2518-4e25-bc5f-dbbcdbeabf9a",
   "metadata": {
    "tags": []
   },
   "outputs": [],
   "source": [
    "freview_tags=driver.find_elements(By.XPATH,'//div[@class=\"t-ZTKy\"]')\n",
    "for i in freview_tags[0:10]:\n",
    "    title=i.text\n",
    "    full_review.append(title)"
   ]
  },
  {
   "cell_type": "code",
   "execution_count": 84,
   "id": "05db3bc3-dfcb-45e9-9270-286ccc8b965e",
   "metadata": {
    "tags": []
   },
   "outputs": [],
   "source": [
    "print=(len(rating_titles),len(review_summary),len(full_review))"
   ]
  },
  {
   "cell_type": "code",
   "execution_count": 85,
   "id": "ff99f0a8-7188-45bc-b7d7-66fdf49f9d83",
   "metadata": {
    "tags": []
   },
   "outputs": [
    {
     "data": {
      "text/plain": [
       "(10, 10, 10)"
      ]
     },
     "execution_count": 85,
     "metadata": {},
     "output_type": "execute_result"
    }
   ],
   "source": [
    "print"
   ]
  },
  {
   "cell_type": "code",
   "execution_count": 86,
   "id": "190d9c13-135e-4de3-a911-01bb541491c4",
   "metadata": {
    "tags": []
   },
   "outputs": [
    {
     "data": {
      "text/html": [
       "<div>\n",
       "<style scoped>\n",
       "    .dataframe tbody tr th:only-of-type {\n",
       "        vertical-align: middle;\n",
       "    }\n",
       "\n",
       "    .dataframe tbody tr th {\n",
       "        vertical-align: top;\n",
       "    }\n",
       "\n",
       "    .dataframe thead th {\n",
       "        text-align: right;\n",
       "    }\n",
       "</style>\n",
       "<table border=\"1\" class=\"dataframe\">\n",
       "  <thead>\n",
       "    <tr style=\"text-align: right;\">\n",
       "      <th></th>\n",
       "      <th>Rating Titles</th>\n",
       "      <th>Review Summary</th>\n",
       "      <th>full review</th>\n",
       "    </tr>\n",
       "  </thead>\n",
       "  <tbody>\n",
       "    <tr>\n",
       "      <th>0</th>\n",
       "      <td>5</td>\n",
       "      <td>Worth every penny</td>\n",
       "      <td>iPhone is delivered on time. Display is great ...</td>\n",
       "    </tr>\n",
       "    <tr>\n",
       "      <th>1</th>\n",
       "      <td>5</td>\n",
       "      <td>Wonderful</td>\n",
       "      <td>Its good.. a little heavy on my pinky but its ...</td>\n",
       "    </tr>\n",
       "    <tr>\n",
       "      <th>2</th>\n",
       "      <td>5</td>\n",
       "      <td>Fabulous!</td>\n",
       "      <td>This is my first iOS phone. I am very happy wi...</td>\n",
       "    </tr>\n",
       "    <tr>\n",
       "      <th>3</th>\n",
       "      <td>5</td>\n",
       "      <td>Wonderful</td>\n",
       "      <td>Definitely worth purchase</td>\n",
       "    </tr>\n",
       "    <tr>\n",
       "      <th>4</th>\n",
       "      <td>5</td>\n",
       "      <td>Brilliant</td>\n",
       "      <td>Fantastic phone</td>\n",
       "    </tr>\n",
       "    <tr>\n",
       "      <th>5</th>\n",
       "      <td>5</td>\n",
       "      <td>Fabulous!</td>\n",
       "      <td>Gift this to your loved ones fabulous product ...</td>\n",
       "    </tr>\n",
       "    <tr>\n",
       "      <th>6</th>\n",
       "      <td>5</td>\n",
       "      <td>Just wow!</td>\n",
       "      <td>Product 100%</td>\n",
       "    </tr>\n",
       "    <tr>\n",
       "      <th>7</th>\n",
       "      <td>5</td>\n",
       "      <td>Highly recommended</td>\n",
       "      <td>Amazing camera quality as expected, battery al...</td>\n",
       "    </tr>\n",
       "    <tr>\n",
       "      <th>8</th>\n",
       "      <td>5</td>\n",
       "      <td>Awesome</td>\n",
       "      <td>iPhone 11 is a good phone. Not a very big diff...</td>\n",
       "    </tr>\n",
       "    <tr>\n",
       "      <th>9</th>\n",
       "      <td>4</td>\n",
       "      <td>Good quality product</td>\n",
       "      <td>I'm switching this phone to oppo reno 10x zoom...</td>\n",
       "    </tr>\n",
       "  </tbody>\n",
       "</table>\n",
       "</div>"
      ],
      "text/plain": [
       "  Rating Titles        Review Summary  \\\n",
       "0             5     Worth every penny   \n",
       "1             5             Wonderful   \n",
       "2             5             Fabulous!   \n",
       "3             5             Wonderful   \n",
       "4             5             Brilliant   \n",
       "5             5             Fabulous!   \n",
       "6             5             Just wow!   \n",
       "7             5    Highly recommended   \n",
       "8             5               Awesome   \n",
       "9             4  Good quality product   \n",
       "\n",
       "                                         full review  \n",
       "0  iPhone is delivered on time. Display is great ...  \n",
       "1  Its good.. a little heavy on my pinky but its ...  \n",
       "2  This is my first iOS phone. I am very happy wi...  \n",
       "3                          Definitely worth purchase  \n",
       "4                                    Fantastic phone  \n",
       "5  Gift this to your loved ones fabulous product ...  \n",
       "6                                       Product 100%  \n",
       "7  Amazing camera quality as expected, battery al...  \n",
       "8  iPhone 11 is a good phone. Not a very big diff...  \n",
       "9  I'm switching this phone to oppo reno 10x zoom...  "
      ]
     },
     "execution_count": 86,
     "metadata": {},
     "output_type": "execute_result"
    }
   ],
   "source": [
    "import pandas as pd\n",
    "df=pd.DataFrame({'Rating Titles':rating_titles,'Review Summary':review_summary, 'full review':full_review})\n",
    "df"
   ]
  },
  {
   "cell_type": "code",
   "execution_count": 87,
   "id": "71cd190e-6ac6-484c-b93e-fe64ce4fa23d",
   "metadata": {
    "tags": []
   },
   "outputs": [],
   "source": [
    "next_button = driver.find_element(By.XPATH, '//a[@class=\"_1LKTO3\"]/span[contains(text(),\"Next\")]')\n",
    "next_button.click()"
   ]
  },
  {
   "cell_type": "code",
   "execution_count": 88,
   "id": "9220f822-5323-4cdc-bb9c-d92ff86658a3",
   "metadata": {
    "tags": []
   },
   "outputs": [],
   "source": [
    "rating_titles = []\n",
    "review_summary = []\n",
    "full_review = []"
   ]
  },
  {
   "cell_type": "code",
   "execution_count": 89,
   "id": "8516cf54-74bb-4a1c-8a86-4ac69f58bc2d",
   "metadata": {
    "tags": []
   },
   "outputs": [],
   "source": [
    "review_tags=driver.find_elements(By.XPATH,'//p[@class=\"_2-N8zT\"]')\n",
    "for i in review_tags[0:10]:\n",
    "    title=i.text\n",
    "    review_summary.append(title)"
   ]
  },
  {
   "cell_type": "code",
   "execution_count": 90,
   "id": "37cec6fb-cc03-47f5-b155-3ae3820b1548",
   "metadata": {
    "tags": []
   },
   "outputs": [],
   "source": [
    "rating_tags=driver.find_elements(By.XPATH,'//div[@class=\"_3LWZlK _1BLPMq\"]')\n",
    "for i in rating_tags[0:10]:\n",
    "    title=i.text\n",
    "    rating_titles.append(title)"
   ]
  },
  {
   "cell_type": "code",
   "execution_count": 91,
   "id": "5dff2c49-164b-49cc-9b86-207c2f28221e",
   "metadata": {
    "tags": []
   },
   "outputs": [],
   "source": [
    "freview_tags=driver.find_elements(By.XPATH,'//div[@class=\"t-ZTKy\"]')\n",
    "for i in freview_tags[0:10]:\n",
    "    title=i.text\n",
    "    full_review.append(title)"
   ]
  },
  {
   "cell_type": "code",
   "execution_count": 92,
   "id": "838f45f8-75a0-41d2-8d59-f1d72e6fe4ef",
   "metadata": {
    "tags": []
   },
   "outputs": [],
   "source": [
    "print=(len(rating_titles),len(review_summary),len(full_review))"
   ]
  },
  {
   "cell_type": "code",
   "execution_count": 93,
   "id": "1115ea11-842d-4985-960b-81a358ae9220",
   "metadata": {
    "tags": []
   },
   "outputs": [
    {
     "data": {
      "text/plain": [
       "(10, 10, 10)"
      ]
     },
     "execution_count": 93,
     "metadata": {},
     "output_type": "execute_result"
    }
   ],
   "source": [
    "print"
   ]
  },
  {
   "cell_type": "code",
   "execution_count": 94,
   "id": "d83b3cc2-7871-4190-8cb6-d5a664518a75",
   "metadata": {
    "tags": []
   },
   "outputs": [
    {
     "data": {
      "text/html": [
       "<div>\n",
       "<style scoped>\n",
       "    .dataframe tbody tr th:only-of-type {\n",
       "        vertical-align: middle;\n",
       "    }\n",
       "\n",
       "    .dataframe tbody tr th {\n",
       "        vertical-align: top;\n",
       "    }\n",
       "\n",
       "    .dataframe thead th {\n",
       "        text-align: right;\n",
       "    }\n",
       "</style>\n",
       "<table border=\"1\" class=\"dataframe\">\n",
       "  <thead>\n",
       "    <tr style=\"text-align: right;\">\n",
       "      <th></th>\n",
       "      <th>Rating Titles</th>\n",
       "      <th>Review Summary</th>\n",
       "      <th>full review</th>\n",
       "    </tr>\n",
       "  </thead>\n",
       "  <tbody>\n",
       "    <tr>\n",
       "      <th>0</th>\n",
       "      <td>4</td>\n",
       "      <td>Pretty good</td>\n",
       "      <td>I was using Iphone 6s and also Oneplus 6t. Bot...</td>\n",
       "    </tr>\n",
       "    <tr>\n",
       "      <th>1</th>\n",
       "      <td>5</td>\n",
       "      <td>Excellent</td>\n",
       "      <td>A perfect phone and a good battery super camer...</td>\n",
       "    </tr>\n",
       "    <tr>\n",
       "      <th>2</th>\n",
       "      <td>5</td>\n",
       "      <td>Excellent</td>\n",
       "      <td>Review After 10month\\nSuperb quality product\\n...</td>\n",
       "    </tr>\n",
       "    <tr>\n",
       "      <th>3</th>\n",
       "      <td>5</td>\n",
       "      <td>Terrific purchase</td>\n",
       "      <td>Awesome 💙</td>\n",
       "    </tr>\n",
       "    <tr>\n",
       "      <th>4</th>\n",
       "      <td>5</td>\n",
       "      <td>Highly recommended</td>\n",
       "      <td>My first ever I phone and awesome performance ...</td>\n",
       "    </tr>\n",
       "    <tr>\n",
       "      <th>5</th>\n",
       "      <td>5</td>\n",
       "      <td>Mind-blowing purchase</td>\n",
       "      <td>I’m satisfy😍😍</td>\n",
       "    </tr>\n",
       "    <tr>\n",
       "      <th>6</th>\n",
       "      <td>5</td>\n",
       "      <td>Perfect product!</td>\n",
       "      <td>Value for money❤️❤️\\nIts awesome mobile phone ...</td>\n",
       "    </tr>\n",
       "    <tr>\n",
       "      <th>7</th>\n",
       "      <td>5</td>\n",
       "      <td>Classy product</td>\n",
       "      <td>The camera of this mobile is very good, batter...</td>\n",
       "    </tr>\n",
       "    <tr>\n",
       "      <th>8</th>\n",
       "      <td>5</td>\n",
       "      <td>Mind-blowing purchase</td>\n",
       "      <td>Absolutely powerful gadget. Loved it’s look! S...</td>\n",
       "    </tr>\n",
       "    <tr>\n",
       "      <th>9</th>\n",
       "      <td>5</td>\n",
       "      <td>Worth every penny</td>\n",
       "      <td>i11 is worthy to buy, too much happy with the ...</td>\n",
       "    </tr>\n",
       "  </tbody>\n",
       "</table>\n",
       "</div>"
      ],
      "text/plain": [
       "  Rating Titles         Review Summary  \\\n",
       "0             4            Pretty good   \n",
       "1             5              Excellent   \n",
       "2             5              Excellent   \n",
       "3             5      Terrific purchase   \n",
       "4             5     Highly recommended   \n",
       "5             5  Mind-blowing purchase   \n",
       "6             5       Perfect product!   \n",
       "7             5         Classy product   \n",
       "8             5  Mind-blowing purchase   \n",
       "9             5      Worth every penny   \n",
       "\n",
       "                                         full review  \n",
       "0  I was using Iphone 6s and also Oneplus 6t. Bot...  \n",
       "1  A perfect phone and a good battery super camer...  \n",
       "2  Review After 10month\\nSuperb quality product\\n...  \n",
       "3                                          Awesome 💙  \n",
       "4  My first ever I phone and awesome performance ...  \n",
       "5                                      I’m satisfy😍😍  \n",
       "6  Value for money❤️❤️\\nIts awesome mobile phone ...  \n",
       "7  The camera of this mobile is very good, batter...  \n",
       "8  Absolutely powerful gadget. Loved it’s look! S...  \n",
       "9  i11 is worthy to buy, too much happy with the ...  "
      ]
     },
     "execution_count": 94,
     "metadata": {},
     "output_type": "execute_result"
    }
   ],
   "source": [
    "import pandas as pd\n",
    "df=pd.DataFrame({'Rating Titles':rating_titles,'Review Summary':review_summary, 'full review':full_review})\n",
    "df"
   ]
  },
  {
   "cell_type": "code",
   "execution_count": 95,
   "id": "b8e1d1d4-0843-4743-981c-6e97a1ba8830",
   "metadata": {
    "tags": []
   },
   "outputs": [],
   "source": [
    "next_button = driver.find_element(By.XPATH, '//a[@class=\"_1LKTO3\"]/span[contains(text(),\"Next\")]')\n",
    "next_button.click()"
   ]
  },
  {
   "cell_type": "code",
   "execution_count": 96,
   "id": "1d595085-ecb5-4bab-85d9-2649c1288389",
   "metadata": {
    "tags": []
   },
   "outputs": [],
   "source": [
    "rating_titles = []\n",
    "review_summary = []\n",
    "full_review = []"
   ]
  },
  {
   "cell_type": "code",
   "execution_count": 97,
   "id": "78cb8c2d-a8ee-4808-b25c-6a4c36d52ecb",
   "metadata": {
    "tags": []
   },
   "outputs": [],
   "source": [
    "review_tags=driver.find_elements(By.XPATH,'//p[@class=\"_2-N8zT\"]')\n",
    "for i in review_tags[0:10]:\n",
    "    title=i.text\n",
    "    review_summary.append(title)"
   ]
  },
  {
   "cell_type": "code",
   "execution_count": 98,
   "id": "46815faa-b5e7-4808-bacd-65a896851b70",
   "metadata": {
    "tags": []
   },
   "outputs": [],
   "source": [
    "rating_tags=driver.find_elements(By.XPATH,'//div[@class=\"_3LWZlK _1BLPMq\"]')\n",
    "for i in rating_tags[0:10]:\n",
    "    title=i.text\n",
    "    rating_titles.append(title)"
   ]
  },
  {
   "cell_type": "code",
   "execution_count": 99,
   "id": "1b010eb8-b256-484c-bb34-94af7339f485",
   "metadata": {
    "tags": []
   },
   "outputs": [],
   "source": [
    "freview_tags=driver.find_elements(By.XPATH,'//div[@class=\"t-ZTKy\"]')\n",
    "for i in freview_tags[0:10]:\n",
    "    title=i.text\n",
    "    full_review.append(title)"
   ]
  },
  {
   "cell_type": "code",
   "execution_count": 100,
   "id": "c91ec70e-3865-4e34-b245-be7c7726ed9c",
   "metadata": {
    "tags": []
   },
   "outputs": [],
   "source": [
    "print=(len(rating_titles),len(review_summary),len(full_review))"
   ]
  },
  {
   "cell_type": "code",
   "execution_count": 101,
   "id": "40973a8f-4bea-4fcc-bd79-07fa57b8b27e",
   "metadata": {
    "tags": []
   },
   "outputs": [
    {
     "data": {
      "text/plain": [
       "(10, 10, 10)"
      ]
     },
     "execution_count": 101,
     "metadata": {},
     "output_type": "execute_result"
    }
   ],
   "source": [
    "print"
   ]
  },
  {
   "cell_type": "code",
   "execution_count": 102,
   "id": "b113a86e-c6c8-4937-9649-bcdc97565619",
   "metadata": {
    "tags": []
   },
   "outputs": [
    {
     "data": {
      "text/html": [
       "<div>\n",
       "<style scoped>\n",
       "    .dataframe tbody tr th:only-of-type {\n",
       "        vertical-align: middle;\n",
       "    }\n",
       "\n",
       "    .dataframe tbody tr th {\n",
       "        vertical-align: top;\n",
       "    }\n",
       "\n",
       "    .dataframe thead th {\n",
       "        text-align: right;\n",
       "    }\n",
       "</style>\n",
       "<table border=\"1\" class=\"dataframe\">\n",
       "  <thead>\n",
       "    <tr style=\"text-align: right;\">\n",
       "      <th></th>\n",
       "      <th>Rating Titles</th>\n",
       "      <th>Review Summary</th>\n",
       "      <th>full review</th>\n",
       "    </tr>\n",
       "  </thead>\n",
       "  <tbody>\n",
       "    <tr>\n",
       "      <th>0</th>\n",
       "      <td>5</td>\n",
       "      <td>Perfect product!</td>\n",
       "      <td>It’s a must buy who is looking for an upgrade ...</td>\n",
       "    </tr>\n",
       "    <tr>\n",
       "      <th>1</th>\n",
       "      <td>5</td>\n",
       "      <td>Must buy!</td>\n",
       "      <td>I rate this product 5* as it has got amazing u...</td>\n",
       "    </tr>\n",
       "    <tr>\n",
       "      <th>2</th>\n",
       "      <td>5</td>\n",
       "      <td>Must buy!</td>\n",
       "      <td>Loved it...</td>\n",
       "    </tr>\n",
       "    <tr>\n",
       "      <th>3</th>\n",
       "      <td>5</td>\n",
       "      <td>Wonderful</td>\n",
       "      <td>Awesome camera.</td>\n",
       "    </tr>\n",
       "    <tr>\n",
       "      <th>4</th>\n",
       "      <td>5</td>\n",
       "      <td>Highly recommended</td>\n",
       "      <td>Amazing camera quality.</td>\n",
       "    </tr>\n",
       "    <tr>\n",
       "      <th>5</th>\n",
       "      <td>5</td>\n",
       "      <td>Worth every penny</td>\n",
       "      <td>Really a giant for battery backup and really g...</td>\n",
       "    </tr>\n",
       "    <tr>\n",
       "      <th>6</th>\n",
       "      <td>5</td>\n",
       "      <td>Highly recommended</td>\n",
       "      <td>Best Mobile in the world... after 11pro\\nnothi...</td>\n",
       "    </tr>\n",
       "    <tr>\n",
       "      <th>7</th>\n",
       "      <td>5</td>\n",
       "      <td>Brilliant</td>\n",
       "      <td>Awesome camera❤️ and gud battery backup</td>\n",
       "    </tr>\n",
       "    <tr>\n",
       "      <th>8</th>\n",
       "      <td>5</td>\n",
       "      <td>Best in the market!</td>\n",
       "      <td>Very good</td>\n",
       "    </tr>\n",
       "    <tr>\n",
       "      <th>9</th>\n",
       "      <td>5</td>\n",
       "      <td>Highly recommended</td>\n",
       "      <td>Thanks Flipkart For this amazing deal! I had a...</td>\n",
       "    </tr>\n",
       "  </tbody>\n",
       "</table>\n",
       "</div>"
      ],
      "text/plain": [
       "  Rating Titles       Review Summary  \\\n",
       "0             5     Perfect product!   \n",
       "1             5            Must buy!   \n",
       "2             5            Must buy!   \n",
       "3             5            Wonderful   \n",
       "4             5   Highly recommended   \n",
       "5             5    Worth every penny   \n",
       "6             5   Highly recommended   \n",
       "7             5            Brilliant   \n",
       "8             5  Best in the market!   \n",
       "9             5   Highly recommended   \n",
       "\n",
       "                                         full review  \n",
       "0  It’s a must buy who is looking for an upgrade ...  \n",
       "1  I rate this product 5* as it has got amazing u...  \n",
       "2                                        Loved it...  \n",
       "3                                    Awesome camera.  \n",
       "4                            Amazing camera quality.  \n",
       "5  Really a giant for battery backup and really g...  \n",
       "6  Best Mobile in the world... after 11pro\\nnothi...  \n",
       "7            Awesome camera❤️ and gud battery backup  \n",
       "8                                          Very good  \n",
       "9  Thanks Flipkart For this amazing deal! I had a...  "
      ]
     },
     "execution_count": 102,
     "metadata": {},
     "output_type": "execute_result"
    }
   ],
   "source": [
    "import pandas as pd\n",
    "df=pd.DataFrame({'Rating Titles':rating_titles,'Review Summary':review_summary, 'full review':full_review})\n",
    "df"
   ]
  },
  {
   "cell_type": "code",
   "execution_count": 103,
   "id": "06597244-80af-4e31-a521-b038dfc65f90",
   "metadata": {
    "tags": []
   },
   "outputs": [],
   "source": [
    "next_button = driver.find_element(By.XPATH, '//a[@class=\"_1LKTO3\"]/span[contains(text(),\"Next\")]')\n",
    "next_button.click()"
   ]
  },
  {
   "cell_type": "code",
   "execution_count": 104,
   "id": "4d279c8b-b080-4bea-9b3a-a254ee3494af",
   "metadata": {
    "tags": []
   },
   "outputs": [],
   "source": [
    "rating_titles = []\n",
    "review_summary = []\n",
    "full_review = []"
   ]
  },
  {
   "cell_type": "code",
   "execution_count": 105,
   "id": "5c0849d9-e67a-4a5c-b836-7ae33eb704e6",
   "metadata": {
    "tags": []
   },
   "outputs": [],
   "source": [
    "review_tags=driver.find_elements(By.XPATH,'//p[@class=\"_2-N8zT\"]')\n",
    "for i in review_tags[0:10]:\n",
    "    title=i.text\n",
    "    review_summary.append(title)"
   ]
  },
  {
   "cell_type": "code",
   "execution_count": 106,
   "id": "4a88748c-501f-4839-acec-364c9c9c2ce6",
   "metadata": {
    "tags": []
   },
   "outputs": [],
   "source": [
    "rating_tags=driver.find_elements(By.XPATH,'//div[@class=\"_3LWZlK _1BLPMq\"]')\n",
    "for i in rating_tags[0:10]:\n",
    "    title=i.text\n",
    "    rating_titles.append(title)"
   ]
  },
  {
   "cell_type": "code",
   "execution_count": 107,
   "id": "03d86d2e-8bf4-47d9-b0d8-728dd397f0e6",
   "metadata": {
    "tags": []
   },
   "outputs": [],
   "source": [
    "freview_tags=driver.find_elements(By.XPATH,'//div[@class=\"t-ZTKy\"]')\n",
    "for i in freview_tags[0:10]:\n",
    "    title=i.text\n",
    "    full_review.append(title)"
   ]
  },
  {
   "cell_type": "code",
   "execution_count": 108,
   "id": "8615955b-b728-49c3-9875-849c638eecab",
   "metadata": {
    "tags": []
   },
   "outputs": [],
   "source": [
    "print=(len(rating_titles),len(review_summary),len(full_review))"
   ]
  },
  {
   "cell_type": "code",
   "execution_count": 109,
   "id": "74501ce1-c824-4c73-849a-7231f5902132",
   "metadata": {
    "tags": []
   },
   "outputs": [
    {
     "data": {
      "text/plain": [
       "(10, 10, 10)"
      ]
     },
     "execution_count": 109,
     "metadata": {},
     "output_type": "execute_result"
    }
   ],
   "source": [
    "print"
   ]
  },
  {
   "cell_type": "code",
   "execution_count": 110,
   "id": "454ac0c7-658e-43b3-a0cd-6bd55434b307",
   "metadata": {
    "tags": []
   },
   "outputs": [
    {
     "data": {
      "text/html": [
       "<div>\n",
       "<style scoped>\n",
       "    .dataframe tbody tr th:only-of-type {\n",
       "        vertical-align: middle;\n",
       "    }\n",
       "\n",
       "    .dataframe tbody tr th {\n",
       "        vertical-align: top;\n",
       "    }\n",
       "\n",
       "    .dataframe thead th {\n",
       "        text-align: right;\n",
       "    }\n",
       "</style>\n",
       "<table border=\"1\" class=\"dataframe\">\n",
       "  <thead>\n",
       "    <tr style=\"text-align: right;\">\n",
       "      <th></th>\n",
       "      <th>Rating Titles</th>\n",
       "      <th>Review Summary</th>\n",
       "      <th>full review</th>\n",
       "    </tr>\n",
       "  </thead>\n",
       "  <tbody>\n",
       "    <tr>\n",
       "      <th>0</th>\n",
       "      <td>4</td>\n",
       "      <td>Wonderful</td>\n",
       "      <td>Value for money ✌️</td>\n",
       "    </tr>\n",
       "    <tr>\n",
       "      <th>1</th>\n",
       "      <td>5</td>\n",
       "      <td>Highly recommended</td>\n",
       "      <td>iphone 11 is a very good phone to buy only if ...</td>\n",
       "    </tr>\n",
       "    <tr>\n",
       "      <th>2</th>\n",
       "      <td>5</td>\n",
       "      <td>Wonderful</td>\n",
       "      <td>Excellent Fabulous Adorable Iphone 11 Value fo...</td>\n",
       "    </tr>\n",
       "    <tr>\n",
       "      <th>3</th>\n",
       "      <td>5</td>\n",
       "      <td>Must buy!</td>\n",
       "      <td>.excellent .100/100🥰🥰🥰🥰💥</td>\n",
       "    </tr>\n",
       "    <tr>\n",
       "      <th>4</th>\n",
       "      <td>5</td>\n",
       "      <td>Must buy!</td>\n",
       "      <td>This is my first Iphone. Very smooth and super...</td>\n",
       "    </tr>\n",
       "    <tr>\n",
       "      <th>5</th>\n",
       "      <td>5</td>\n",
       "      <td>Wonderful</td>\n",
       "      <td>Quality camera</td>\n",
       "    </tr>\n",
       "    <tr>\n",
       "      <th>6</th>\n",
       "      <td>5</td>\n",
       "      <td>Must buy!</td>\n",
       "      <td>Best Apple iPhone that i have bought at a very...</td>\n",
       "    </tr>\n",
       "    <tr>\n",
       "      <th>7</th>\n",
       "      <td>5</td>\n",
       "      <td>Super!</td>\n",
       "      <td>Exactly mach what you expect and where Spent y...</td>\n",
       "    </tr>\n",
       "    <tr>\n",
       "      <th>8</th>\n",
       "      <td>5</td>\n",
       "      <td>Highly recommended</td>\n",
       "      <td>Excellent product but packing was not upto mark..</td>\n",
       "    </tr>\n",
       "    <tr>\n",
       "      <th>9</th>\n",
       "      <td>5</td>\n",
       "      <td>Mind-blowing purchase</td>\n",
       "      <td>Excellent camera 📸 And Display touching very N...</td>\n",
       "    </tr>\n",
       "  </tbody>\n",
       "</table>\n",
       "</div>"
      ],
      "text/plain": [
       "  Rating Titles         Review Summary  \\\n",
       "0             4              Wonderful   \n",
       "1             5     Highly recommended   \n",
       "2             5              Wonderful   \n",
       "3             5              Must buy!   \n",
       "4             5              Must buy!   \n",
       "5             5              Wonderful   \n",
       "6             5              Must buy!   \n",
       "7             5                 Super!   \n",
       "8             5     Highly recommended   \n",
       "9             5  Mind-blowing purchase   \n",
       "\n",
       "                                         full review  \n",
       "0                                 Value for money ✌️  \n",
       "1  iphone 11 is a very good phone to buy only if ...  \n",
       "2  Excellent Fabulous Adorable Iphone 11 Value fo...  \n",
       "3                           .excellent .100/100🥰🥰🥰🥰💥  \n",
       "4  This is my first Iphone. Very smooth and super...  \n",
       "5                                     Quality camera  \n",
       "6  Best Apple iPhone that i have bought at a very...  \n",
       "7  Exactly mach what you expect and where Spent y...  \n",
       "8  Excellent product but packing was not upto mark..  \n",
       "9  Excellent camera 📸 And Display touching very N...  "
      ]
     },
     "execution_count": 110,
     "metadata": {},
     "output_type": "execute_result"
    }
   ],
   "source": [
    "import pandas as pd\n",
    "df=pd.DataFrame({'Rating Titles':rating_titles,'Review Summary':review_summary, 'full review':full_review})\n",
    "df"
   ]
  },
  {
   "cell_type": "code",
   "execution_count": null,
   "id": "a1b3ae75-88fe-4226-86b8-b750de4893b9",
   "metadata": {},
   "outputs": [],
   "source": []
  }
 ],
 "metadata": {
  "kernelspec": {
   "display_name": "Python 3 (ipykernel)",
   "language": "python",
   "name": "python3"
  },
  "language_info": {
   "codemirror_mode": {
    "name": "ipython",
    "version": 3
   },
   "file_extension": ".py",
   "mimetype": "text/x-python",
   "name": "python",
   "nbconvert_exporter": "python",
   "pygments_lexer": "ipython3",
   "version": "3.11.3"
  }
 },
 "nbformat": 4,
 "nbformat_minor": 5
}

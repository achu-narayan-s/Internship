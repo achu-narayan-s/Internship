{
 "cells": [
  {
   "cell_type": "code",
   "execution_count": 1,
   "id": "80c29fcc-0ba5-44cd-ac73-3ee87d239816",
   "metadata": {
    "tags": []
   },
   "outputs": [
    {
     "name": "stdout",
     "output_type": "stream",
     "text": [
      "Defaulting to user installation because normal site-packages is not writeable\n",
      "Requirement already satisfied: requests in c:\\programdata\\anaconda3\\lib\\site-packages (2.29.0)\n",
      "Requirement already satisfied: beautifulsoup4 in c:\\programdata\\anaconda3\\lib\\site-packages (4.12.2)\n",
      "Requirement already satisfied: charset-normalizer<4,>=2 in c:\\programdata\\anaconda3\\lib\\site-packages (from requests) (2.0.4)\n",
      "Requirement already satisfied: idna<4,>=2.5 in c:\\programdata\\anaconda3\\lib\\site-packages (from requests) (3.4)\n",
      "Requirement already satisfied: urllib3<1.27,>=1.21.1 in c:\\programdata\\anaconda3\\lib\\site-packages (from requests) (1.26.16)\n",
      "Requirement already satisfied: certifi>=2017.4.17 in c:\\programdata\\anaconda3\\lib\\site-packages (from requests) (2023.5.7)\n",
      "Requirement already satisfied: soupsieve>1.2 in c:\\programdata\\anaconda3\\lib\\site-packages (from beautifulsoup4) (2.4)\n",
      "Note: you may need to restart the kernel to use updated packages.\n"
     ]
    }
   ],
   "source": [
    "pip install requests beautifulsoup4"
   ]
  },
  {
   "cell_type": "code",
   "execution_count": 5,
   "id": "1ce14781-4f2a-4a87-9fb9-56f80862267c",
   "metadata": {
    "tags": []
   },
   "outputs": [
    {
     "name": "stdout",
     "output_type": "stream",
     "text": [
      "Defaulting to user installation because normal site-packages is not writeableNote: you may need to restart the kernel to use updated packages.\n",
      "\n",
      "Requirement already satisfied: selenium in c:\\programdata\\anaconda3\\lib\\site-packages (4.10.0)\n",
      "Requirement already satisfied: urllib3[socks]<3,>=1.26 in c:\\programdata\\anaconda3\\lib\\site-packages (from selenium) (1.26.16)\n",
      "Requirement already satisfied: trio~=0.17 in c:\\programdata\\anaconda3\\lib\\site-packages (from selenium) (0.22.2)\n",
      "Requirement already satisfied: trio-websocket~=0.9 in c:\\programdata\\anaconda3\\lib\\site-packages (from selenium) (0.10.3)\n",
      "Requirement already satisfied: certifi>=2021.10.8 in c:\\programdata\\anaconda3\\lib\\site-packages (from selenium) (2023.5.7)\n",
      "Requirement already satisfied: attrs>=20.1.0 in c:\\programdata\\anaconda3\\lib\\site-packages (from trio~=0.17->selenium) (22.1.0)\n",
      "Requirement already satisfied: sortedcontainers in c:\\programdata\\anaconda3\\lib\\site-packages (from trio~=0.17->selenium) (2.4.0)\n",
      "Requirement already satisfied: idna in c:\\programdata\\anaconda3\\lib\\site-packages (from trio~=0.17->selenium) (3.4)\n",
      "Requirement already satisfied: outcome in c:\\programdata\\anaconda3\\lib\\site-packages (from trio~=0.17->selenium) (1.2.0)\n",
      "Requirement already satisfied: sniffio in c:\\programdata\\anaconda3\\lib\\site-packages (from trio~=0.17->selenium) (1.2.0)\n",
      "Requirement already satisfied: cffi>=1.14 in c:\\programdata\\anaconda3\\lib\\site-packages (from trio~=0.17->selenium) (1.15.1)\n",
      "Requirement already satisfied: exceptiongroup in c:\\programdata\\anaconda3\\lib\\site-packages (from trio-websocket~=0.9->selenium) (1.1.2)\n",
      "Requirement already satisfied: wsproto>=0.14 in c:\\programdata\\anaconda3\\lib\\site-packages (from trio-websocket~=0.9->selenium) (1.2.0)\n",
      "Requirement already satisfied: PySocks!=1.5.7,<2.0,>=1.5.6 in c:\\programdata\\anaconda3\\lib\\site-packages (from urllib3[socks]<3,>=1.26->selenium) (1.7.1)\n",
      "Requirement already satisfied: pycparser in c:\\programdata\\anaconda3\\lib\\site-packages (from cffi>=1.14->trio~=0.17->selenium) (2.21)\n",
      "Requirement already satisfied: h11<1,>=0.9.0 in c:\\programdata\\anaconda3\\lib\\site-packages (from wsproto>=0.14->trio-websocket~=0.9->selenium) (0.14.0)\n"
     ]
    }
   ],
   "source": [
    "pip install selenium"
   ]
  },
  {
   "cell_type": "code",
   "execution_count": null,
   "id": "cc92b270-7a4d-4938-a9ea-338b71fc8ee9",
   "metadata": {},
   "outputs": [],
   "source": []
  },
  {
   "cell_type": "code",
   "execution_count": 1,
   "id": "9cc2f1fb-5fa0-4874-a8b3-375a3943adb2",
   "metadata": {
    "tags": []
   },
   "outputs": [
    {
     "name": "stdout",
     "output_type": "stream",
     "text": [
      "Defaulting to user installation because normal site-packages is not writeable\n",
      "Requirement already satisfied: requests in c:\\programdata\\anaconda3\\lib\\site-packages (2.29.0)\n",
      "Requirement already satisfied: beautifulsoup4 in c:\\programdata\\anaconda3\\lib\\site-packages (4.12.2)\n",
      "Requirement already satisfied: charset-normalizer<4,>=2 in c:\\programdata\\anaconda3\\lib\\site-packages (from requests) (2.0.4)\n",
      "Requirement already satisfied: idna<4,>=2.5 in c:\\programdata\\anaconda3\\lib\\site-packages (from requests) (3.4)\n",
      "Requirement already satisfied: urllib3<1.27,>=1.21.1 in c:\\programdata\\anaconda3\\lib\\site-packages (from requests) (1.26.16)\n",
      "Requirement already satisfied: certifi>=2017.4.17 in c:\\programdata\\anaconda3\\lib\\site-packages (from requests) (2023.5.7)\n",
      "Requirement already satisfied: soupsieve>1.2 in c:\\programdata\\anaconda3\\lib\\site-packages (from beautifulsoup4) (2.4)\n",
      "Note: you may need to restart the kernel to use updated packages.\n"
     ]
    }
   ],
   "source": [
    "pip install requests beautifulsoup4"
   ]
  },
  {
   "cell_type": "code",
   "execution_count": 5,
   "id": "471a54f4-ca5f-490f-a749-7f653f813ca9",
   "metadata": {
    "tags": []
   },
   "outputs": [
    {
     "name": "stdout",
     "output_type": "stream",
     "text": [
      "Defaulting to user installation because normal site-packages is not writeableNote: you may need to restart the kernel to use updated packages.\n",
      "\n",
      "Requirement already satisfied: selenium in c:\\programdata\\anaconda3\\lib\\site-packages (4.10.0)\n",
      "Requirement already satisfied: urllib3[socks]<3,>=1.26 in c:\\programdata\\anaconda3\\lib\\site-packages (from selenium) (1.26.16)\n",
      "Requirement already satisfied: trio~=0.17 in c:\\programdata\\anaconda3\\lib\\site-packages (from selenium) (0.22.2)\n",
      "Requirement already satisfied: trio-websocket~=0.9 in c:\\programdata\\anaconda3\\lib\\site-packages (from selenium) (0.10.3)\n",
      "Requirement already satisfied: certifi>=2021.10.8 in c:\\programdata\\anaconda3\\lib\\site-packages (from selenium) (2023.5.7)\n",
      "Requirement already satisfied: attrs>=20.1.0 in c:\\programdata\\anaconda3\\lib\\site-packages (from trio~=0.17->selenium) (22.1.0)\n",
      "Requirement already satisfied: sortedcontainers in c:\\programdata\\anaconda3\\lib\\site-packages (from trio~=0.17->selenium) (2.4.0)\n",
      "Requirement already satisfied: idna in c:\\programdata\\anaconda3\\lib\\site-packages (from trio~=0.17->selenium) (3.4)\n",
      "Requirement already satisfied: outcome in c:\\programdata\\anaconda3\\lib\\site-packages (from trio~=0.17->selenium) (1.2.0)\n",
      "Requirement already satisfied: sniffio in c:\\programdata\\anaconda3\\lib\\site-packages (from trio~=0.17->selenium) (1.2.0)\n",
      "Requirement already satisfied: cffi>=1.14 in c:\\programdata\\anaconda3\\lib\\site-packages (from trio~=0.17->selenium) (1.15.1)\n",
      "Requirement already satisfied: exceptiongroup in c:\\programdata\\anaconda3\\lib\\site-packages (from trio-websocket~=0.9->selenium) (1.1.2)\n",
      "Requirement already satisfied: wsproto>=0.14 in c:\\programdata\\anaconda3\\lib\\site-packages (from trio-websocket~=0.9->selenium) (1.2.0)\n",
      "Requirement already satisfied: PySocks!=1.5.7,<2.0,>=1.5.6 in c:\\programdata\\anaconda3\\lib\\site-packages (from urllib3[socks]<3,>=1.26->selenium) (1.7.1)\n",
      "Requirement already satisfied: pycparser in c:\\programdata\\anaconda3\\lib\\site-packages (from cffi>=1.14->trio~=0.17->selenium) (2.21)\n",
      "Requirement already satisfied: h11<1,>=0.9.0 in c:\\programdata\\anaconda3\\lib\\site-packages (from wsproto>=0.14->trio-websocket~=0.9->selenium) (0.14.0)\n"
     ]
    }
   ],
   "source": [
    "pip install selenium"
   ]
  },
  {
   "cell_type": "code",
   "execution_count": 1,
   "id": "f6f04bed-c687-420a-8446-1695c913e5d2",
   "metadata": {
    "tags": []
   },
   "outputs": [
    {
     "name": "stdout",
     "output_type": "stream",
     "text": [
      "Defaulting to user installation because normal site-packages is not writeable\n",
      "Requirement already satisfied: webdriver-manager in c:\\programdata\\anaconda3\\lib\\site-packages (3.8.6)\n",
      "Requirement already satisfied: requests in c:\\programdata\\anaconda3\\lib\\site-packages (from webdriver-manager) (2.29.0)\n",
      "Requirement already satisfied: python-dotenv in c:\\programdata\\anaconda3\\lib\\site-packages (from webdriver-manager) (1.0.0)\n",
      "Requirement already satisfied: tqdm in c:\\programdata\\anaconda3\\lib\\site-packages (from webdriver-manager) (4.65.0)\n",
      "Requirement already satisfied: packaging in c:\\programdata\\anaconda3\\lib\\site-packages (from webdriver-manager) (23.0)\n",
      "Requirement already satisfied: charset-normalizer<4,>=2 in c:\\programdata\\anaconda3\\lib\\site-packages (from requests->webdriver-manager) (2.0.4)\n",
      "Requirement already satisfied: idna<4,>=2.5 in c:\\programdata\\anaconda3\\lib\\site-packages (from requests->webdriver-manager) (3.4)\n",
      "Requirement already satisfied: urllib3<1.27,>=1.21.1 in c:\\programdata\\anaconda3\\lib\\site-packages (from requests->webdriver-manager) (1.26.16)\n",
      "Requirement already satisfied: certifi>=2017.4.17 in c:\\programdata\\anaconda3\\lib\\site-packages (from requests->webdriver-manager) (2023.5.7)\n",
      "Requirement already satisfied: colorama in c:\\programdata\\anaconda3\\lib\\site-packages (from tqdm->webdriver-manager) (0.4.6)\n"
     ]
    }
   ],
   "source": [
    "!pip install webdriver-manager"
   ]
  },
  {
   "cell_type": "code",
   "execution_count": 3,
   "id": "733739c1-2487-4d28-a5e2-23134b3deb99",
   "metadata": {
    "tags": []
   },
   "outputs": [
    {
     "name": "stdout",
     "output_type": "stream",
     "text": [
      "Defaulting to user installation because normal site-packages is not writeableNote: you may need to restart the kernel to use updated packages.\n",
      "\n",
      "Requirement already satisfied: pandas in c:\\programdata\\anaconda3\\lib\\site-packages (1.5.3)\n",
      "Requirement already satisfied: python-dateutil>=2.8.1 in c:\\programdata\\anaconda3\\lib\\site-packages (from pandas) (2.8.2)\n",
      "Requirement already satisfied: pytz>=2020.1 in c:\\programdata\\anaconda3\\lib\\site-packages (from pandas) (2022.7)\n",
      "Requirement already satisfied: numpy>=1.21.0 in c:\\programdata\\anaconda3\\lib\\site-packages (from pandas) (1.24.3)\n",
      "Requirement already satisfied: six>=1.5 in c:\\programdata\\anaconda3\\lib\\site-packages (from python-dateutil>=2.8.1->pandas) (1.16.0)\n"
     ]
    }
   ],
   "source": [
    "pip install pandas"
   ]
  },
  {
   "cell_type": "code",
   "execution_count": 1,
   "id": "79f2bb3a-8fe5-441e-976c-3630d2ad7275",
   "metadata": {
    "tags": []
   },
   "outputs": [],
   "source": [
    "from selenium import webdriver\n",
    "from selenium.webdriver.common.by import By\n",
    "from selenium.webdriver.support.ui import WebDriverWait\n",
    "from webdriver_manager.chrome import ChromeDriverManager\n",
    "from selenium.common.exceptions import TimeoutException, NoSuchElementException, WebDriverException\n",
    "from selenium.webdriver.support import expected_conditions as EC\n",
    "from selenium.webdriver.chrome.service import Service\n",
    "from selenium.webdriver.chrome.options import Options\n",
    "from selenium.webdriver.chrome.webdriver import WebDriver\n",
    "import pandas as pd\n",
    "import requests\n",
    "import time\n",
    "import warnings\n",
    "warnings.filterwarnings(\"ignore\")"
   ]
  },
  {
   "cell_type": "code",
   "execution_count": 3,
   "id": "3f562afa-881f-458b-9bd7-5d5b3ed8982a",
   "metadata": {
    "tags": []
   },
   "outputs": [
    {
     "name": "stdin",
     "output_type": "stream",
     "text": [
      "Enter the product to search:  Guitar\n"
     ]
    },
    {
     "name": "stdout",
     "output_type": "stream",
     "text": [
      "Scraping and CSV file generation complete.\n"
     ]
    }
   ],
   "source": [
    "from selenium import webdriver\n",
    "from selenium.webdriver.common.by import By\n",
    "from selenium.webdriver.common.keys import Keys\n",
    "from selenium.webdriver.support.ui import WebDriverWait\n",
    "from selenium.webdriver.support import expected_conditions as EC\n",
    "import pandas as pd\n",
    "import time\n",
    "\n",
    "# Take user input for the product to search\n",
    "product_name = input(\"Enter the product to search: \")\n",
    "\n",
    "# Initialize WebDriver\n",
    "options = webdriver.ChromeOptions()\n",
    "options.add_argument('--headless')  # Run Chrome in headless mode (without GUI)\n",
    "driver = webdriver.Chrome(options=options)\n",
    "driver.get('https://www.amazon.in/')\n",
    "\n",
    "# Find the search bar and enter the product name\n",
    "search_bar = driver.find_element(By.ID, 'twotabsearchtextbox')\n",
    "search_bar.send_keys(product_name)\n",
    "search_bar.send_keys(Keys.RETURN)\n",
    "\n",
    "# Wait for the search results to load\n",
    "wait = WebDriverWait(driver, 10)\n",
    "wait.until(EC.presence_of_element_located((By.CSS_SELECTOR, '.s-result-list .s-result-item')))\n",
    "\n",
    "# Create empty lists to store product details\n",
    "brand_names = []\n",
    "product_names = []\n",
    "prices = []\n",
    "returns = []\n",
    "expected_deliveries = []\n",
    "availabilities = []\n",
    "product_urls = []\n",
    "\n",
    "# Loop through the first 3 pages of search results\n",
    "for page_num in range(3):\n",
    "    # Find all product listings on the page\n",
    "    product_listings = driver.find_elements(By.CSS_SELECTOR, '.s-result-list .s-result-item')\n",
    "    \n",
    "    for listing in product_listings:\n",
    "        try:\n",
    "            brand_name = listing.find_element(By.CSS_SELECTOR, '.s-line-clamp-1').text\n",
    "        except:\n",
    "            brand_name = '-'\n",
    "        \n",
    "        try:\n",
    "            product_name = listing.find_element(By.CSS_SELECTOR, 'h2 a span').text\n",
    "        except:\n",
    "            product_name = '-'\n",
    "        \n",
    "        try:\n",
    "            price = listing.find_element(By.CSS_SELECTOR, '.a-offscreen').text\n",
    "        except:\n",
    "            price = '-'\n",
    "        \n",
    "        try:\n",
    "            return_exchange = listing.find_element(By.CSS_SELECTOR, '.a-size-small .a-size-medium').text\n",
    "        except:\n",
    "            return_exchange = '-'\n",
    "        \n",
    "        try:\n",
    "            expected_delivery = listing.find_element(By.CSS_SELECTOR, '.a-row.a-size-base.a-color-secondary span.a-text-bold').text\n",
    "        except:\n",
    "            expected_delivery = '-'\n",
    "        \n",
    "        try:\n",
    "            availability = listing.find_element(By.CSS_SELECTOR, '.a-row.a-size-base .a-size-medium .a-color-state').text\n",
    "        except:\n",
    "            availability = '-'\n",
    "        \n",
    "        try:\n",
    "            product_url = listing.find_element(By.CSS_SELECTOR, 'h2 a').get_attribute('href')\n",
    "        except:\n",
    "            product_url = '-'\n",
    "        \n",
    "        brand_names.append(brand_name)\n",
    "        product_names.append(product_name)\n",
    "        prices.append(price)\n",
    "        returns.append(return_exchange)\n",
    "        expected_deliveries.append(expected_delivery)\n",
    "        availabilities.append(availability)\n",
    "        product_urls.append(product_url)\n",
    "    \n",
    "    # Navigate to the next page\n",
    "    next_button = driver.find_element(By.CSS_SELECTOR, '.s-pagination-next')\n",
    "    next_button.click()\n",
    "    time.sleep(2)\n",
    "\n",
    "# Create a DataFrame\n",
    "data = {\n",
    "    'Brand Name': brand_names,\n",
    "    'Product Name': product_names,\n",
    "    'Price': prices,\n",
    "    'Return/Exchange': returns,\n",
    "    'Expected Delivery': expected_deliveries,\n",
    "    'Availability': availabilities,\n",
    "    'Product URL': product_urls\n",
    "}\n",
    "\n",
    "df = pd.DataFrame(data)\n",
    "\n",
    "# Save DataFrame to CSV\n",
    "df.to_csv('amazon_products.csv', index=False)\n",
    "\n",
    "print(\"Scraping and CSV file generation complete.\")\n",
    "\n",
    "# Close the WebDriver\n",
    "driver.quit()"
   ]
  },
  {
   "cell_type": "code",
   "execution_count": 4,
   "id": "a6719aed-6eef-4443-a2ba-252fda5a014e",
   "metadata": {
    "tags": []
   },
   "outputs": [
    {
     "name": "stdout",
     "output_type": "stream",
     "text": [
      "    Brand Name                                       Product Name Price  \\\n",
      "0            -                                                  -     -   \n",
      "1            -                                                  -     -   \n",
      "2            -  Juârez Acoustic Guitar, 38 Inch Cutaway, 038C ...   NaN   \n",
      "3            -  Intern INT-38C Right hand Acoustic Guitar Kit,...   NaN   \n",
      "4            -  Juarez Acoustic Guitar, 38 Inch Cutaway, 38CMB...   NaN   \n",
      "..         ...                                                ...   ...   \n",
      "155          -  Martin LX1E Little Martin Solid Sitka Spruce/M...   NaN   \n",
      "156          -                                                  -     -   \n",
      "157          -                                                  -     -   \n",
      "158          -                                                  -     -   \n",
      "159          -                                                  -     -   \n",
      "\n",
      "    Return/Exchange     Expected Delivery Availability  \\\n",
      "0                 -                     -            -   \n",
      "1                 -                     -            -   \n",
      "2                 -   Thursday, 17 August            -   \n",
      "3                 -   Thursday, 17 August            -   \n",
      "4                 -  Wednesday, 23 August            -   \n",
      "..              ...                   ...          ...   \n",
      "155               -     Monday, 14 August            -   \n",
      "156               -                     -            -   \n",
      "157               -                     -            -   \n",
      "158               -                     -            -   \n",
      "159               -                     -            -   \n",
      "\n",
      "                                           Product URL  \n",
      "0                                                    -  \n",
      "1                                                    -  \n",
      "2    https://www.amazon.in/Juarez-Acoustic-Cutaway-...  \n",
      "3    https://www.amazon.in/Intern-INT-38C-Acoustic-...  \n",
      "4    https://www.amazon.in/Juarez-Acoustic-Guitar-C...  \n",
      "..                                                 ...  \n",
      "155  https://www.amazon.in/LX1E-Acoustic-Sonitone-e...  \n",
      "156                                                  -  \n",
      "157                                                  -  \n",
      "158                                                  -  \n",
      "159                                                  -  \n",
      "\n",
      "[160 rows x 7 columns]\n"
     ]
    }
   ],
   "source": [
    "import pandas as pd\n",
    "\n",
    "# Read the CSV file into a DataFrame\n",
    "df = pd.read_csv('amazon_products.csv')\n",
    "\n",
    "# Display the DataFrame\n",
    "print(df)"
   ]
  },
  {
   "cell_type": "markdown",
   "id": "86f2bce5-8742-49a0-a5b1-d788d618b08a",
   "metadata": {},
   "source": [
    "END OF QUESTION 1 and 2"
   ]
  },
  {
   "cell_type": "markdown",
   "id": "0fcfaf80-2804-4cb1-b3d2-d305fdcaf940",
   "metadata": {},
   "source": [
    "QUESTION 3"
   ]
  },
  {
   "cell_type": "code",
   "execution_count": 6,
   "id": "6bd7e055-681b-4008-9a9e-6abf1efa227b",
   "metadata": {
    "tags": []
   },
   "outputs": [
    {
     "name": "stdout",
     "output_type": "stream",
     "text": [
      "Defaulting to user installation because normal site-packages is not writeableNote: you may need to restart the kernel to use updated packages.\n",
      "\n",
      "Requirement already satisfied: selenium in c:\\programdata\\anaconda3\\lib\\site-packages (4.10.0)\n",
      "Requirement already satisfied: urllib3[socks]<3,>=1.26 in c:\\programdata\\anaconda3\\lib\\site-packages (from selenium) (1.26.16)\n",
      "Requirement already satisfied: trio~=0.17 in c:\\programdata\\anaconda3\\lib\\site-packages (from selenium) (0.22.2)\n",
      "Requirement already satisfied: trio-websocket~=0.9 in c:\\programdata\\anaconda3\\lib\\site-packages (from selenium) (0.10.3)\n",
      "Requirement already satisfied: certifi>=2021.10.8 in c:\\programdata\\anaconda3\\lib\\site-packages (from selenium) (2023.5.7)\n",
      "Requirement already satisfied: attrs>=20.1.0 in c:\\programdata\\anaconda3\\lib\\site-packages (from trio~=0.17->selenium) (22.1.0)\n",
      "Requirement already satisfied: sortedcontainers in c:\\programdata\\anaconda3\\lib\\site-packages (from trio~=0.17->selenium) (2.4.0)\n",
      "Requirement already satisfied: idna in c:\\programdata\\anaconda3\\lib\\site-packages (from trio~=0.17->selenium) (3.4)\n",
      "Requirement already satisfied: outcome in c:\\programdata\\anaconda3\\lib\\site-packages (from trio~=0.17->selenium) (1.2.0)\n",
      "Requirement already satisfied: sniffio in c:\\programdata\\anaconda3\\lib\\site-packages (from trio~=0.17->selenium) (1.2.0)\n",
      "Requirement already satisfied: cffi>=1.14 in c:\\programdata\\anaconda3\\lib\\site-packages (from trio~=0.17->selenium) (1.15.1)\n",
      "Requirement already satisfied: exceptiongroup in c:\\programdata\\anaconda3\\lib\\site-packages (from trio-websocket~=0.9->selenium) (1.1.2)\n",
      "Requirement already satisfied: wsproto>=0.14 in c:\\programdata\\anaconda3\\lib\\site-packages (from trio-websocket~=0.9->selenium) (1.2.0)\n",
      "Requirement already satisfied: PySocks!=1.5.7,<2.0,>=1.5.6 in c:\\programdata\\anaconda3\\lib\\site-packages (from urllib3[socks]<3,>=1.26->selenium) (1.7.1)\n",
      "Requirement already satisfied: pycparser in c:\\programdata\\anaconda3\\lib\\site-packages (from cffi>=1.14->trio~=0.17->selenium) (2.21)\n",
      "Requirement already satisfied: h11<1,>=0.9.0 in c:\\programdata\\anaconda3\\lib\\site-packages (from wsproto>=0.14->trio-websocket~=0.9->selenium) (0.14.0)\n"
     ]
    }
   ],
   "source": [
    "pip install selenium"
   ]
  },
  {
   "cell_type": "code",
   "execution_count": 1,
   "id": "71c643a9-133f-4566-90a0-46ef3a4e4dd0",
   "metadata": {
    "tags": []
   },
   "outputs": [
    {
     "name": "stdout",
     "output_type": "stream",
     "text": [
      "Defaulting to user installation because normal site-packages is not writeable\n",
      "Requirement already satisfied: webdriver-manager in c:\\programdata\\anaconda3\\lib\\site-packages (3.8.6)\n",
      "Requirement already satisfied: requests in c:\\programdata\\anaconda3\\lib\\site-packages (from webdriver-manager) (2.29.0)\n",
      "Requirement already satisfied: python-dotenv in c:\\programdata\\anaconda3\\lib\\site-packages (from webdriver-manager) (1.0.0)\n",
      "Requirement already satisfied: tqdm in c:\\programdata\\anaconda3\\lib\\site-packages (from webdriver-manager) (4.65.0)\n",
      "Requirement already satisfied: packaging in c:\\programdata\\anaconda3\\lib\\site-packages (from webdriver-manager) (23.0)\n",
      "Requirement already satisfied: charset-normalizer<4,>=2 in c:\\programdata\\anaconda3\\lib\\site-packages (from requests->webdriver-manager) (2.0.4)\n",
      "Requirement already satisfied: idna<4,>=2.5 in c:\\programdata\\anaconda3\\lib\\site-packages (from requests->webdriver-manager) (3.4)\n",
      "Requirement already satisfied: urllib3<1.27,>=1.21.1 in c:\\programdata\\anaconda3\\lib\\site-packages (from requests->webdriver-manager) (1.26.16)\n",
      "Requirement already satisfied: certifi>=2017.4.17 in c:\\programdata\\anaconda3\\lib\\site-packages (from requests->webdriver-manager) (2023.5.7)\n",
      "Requirement already satisfied: colorama in c:\\programdata\\anaconda3\\lib\\site-packages (from tqdm->webdriver-manager) (0.4.6)\n"
     ]
    }
   ],
   "source": [
    "!pip install webdriver-manager"
   ]
  },
  {
   "cell_type": "code",
   "execution_count": 3,
   "id": "6a5a70a2-6f14-46a0-859d-90f333a548f5",
   "metadata": {
    "tags": []
   },
   "outputs": [],
   "source": [
    "from selenium import webdriver\n",
    "from selenium.webdriver.common.by import By\n",
    "from selenium.webdriver.support.ui import WebDriverWait\n",
    "from webdriver_manager.chrome import ChromeDriverManager\n",
    "from selenium.common.exceptions import TimeoutException, NoSuchElementException, WebDriverException\n",
    "from selenium.webdriver.support import expected_conditions as EC\n",
    "from selenium.webdriver.chrome.service import Service\n",
    "from selenium.webdriver.chrome.options import Options\n",
    "from selenium.webdriver.chrome.webdriver import WebDriver\n",
    "import pandas as pd\n",
    "import requests\n",
    "import time\n",
    "import warnings\n",
    "warnings.filterwarnings(\"ignore\")"
   ]
  },
  {
   "cell_type": "code",
   "execution_count": 7,
   "id": "912f8c11-1bf9-4964-92df-e78a3bdd1fa3",
   "metadata": {
    "tags": []
   },
   "outputs": [
    {
     "name": "stdout",
     "output_type": "stream",
     "text": [
      "Downloading (1) of (10) images\n",
      "Downloading (2) of (10) images\n",
      "Downloading (3) of (10) images\n",
      "Downloading (4) of (10) images\n",
      "Downloading (5) of (10) images\n",
      "Downloading (6) of (10) images\n",
      "Downloading (7) of (10) images\n",
      "Downloading (8) of (10) images\n",
      "Downloading (9) of (10) images\n",
      "Downloading (10) of (10) images\n",
      "Downloading (11) of (10) images\n"
     ]
    }
   ],
   "source": [
    "import time\n",
    "from selenium import webdriver\n",
    "from selenium.webdriver.common.by import By\n",
    "from selenium.webdriver.common.keys import Keys  # Add this import\n",
    "import requests\n",
    "\n",
    "options = webdriver.ChromeOptions()\n",
    "options.add_argument('--headless')  # Run Chrome in headless mode (without GUI)\n",
    "driver = webdriver.Chrome(options=options)  # Replace with the actual path to ChromeDriver\n",
    "\n",
    "base_url = 'https://www.google.com/imghp'\n",
    "driver.get(base_url)\n",
    "\n",
    "search_bar = driver.find_element(By.NAME, 'q')\n",
    "search_bar.send_keys('fruits')\n",
    "search_bar.send_keys(Keys.RETURN)\n",
    "\n",
    "# Wait for the search results to load\n",
    "time.sleep(5)\n",
    "\n",
    "for i in range(20):\n",
    "    driver.execute_script(\"window.scrollBy(0,1000)\")\n",
    "\n",
    "images = driver.find_elements(By.XPATH, '//img[@class=\"rg_i Q4LuWd\"]')\n",
    "\n",
    "img_urls = []\n",
    "\n",
    "for image in images:\n",
    "    source = image.get_attribute('src')\n",
    "    if source is not None and source.startswith('http'):\n",
    "        img_urls.append(source)\n",
    "\n",
    "for i in range(len(img_urls)):\n",
    "    if i > 10:\n",
    "        break\n",
    "\n",
    "    print(\"Downloading ({}) of (10) images\".format(i + 1))\n",
    "    response = requests.get(img_urls[i])\n",
    "    file = open(r\"C:\\Users\\ACHU NARAYAN\\Desktop\\dt\\assignment\\flip robo ds2306\\{}.jpg\".format(i), \"wb\")\n",
    "    file.write(response.content)\n",
    "    file.close()\n",
    "\n",
    "driver.quit()"
   ]
  },
  {
   "cell_type": "code",
   "execution_count": 8,
   "id": "94ccf610-49d2-4a1e-8eb2-bc0437e0fbc1",
   "metadata": {
    "tags": []
   },
   "outputs": [
    {
     "name": "stdout",
     "output_type": "stream",
     "text": [
      "Downloading (1) of (10) images\n",
      "Downloading (2) of (10) images\n",
      "Downloading (3) of (10) images\n",
      "Downloading (4) of (10) images\n",
      "Downloading (5) of (10) images\n",
      "Downloading (6) of (10) images\n",
      "Downloading (7) of (10) images\n",
      "Downloading (8) of (10) images\n",
      "Downloading (9) of (10) images\n",
      "Downloading (10) of (10) images\n",
      "Downloading (11) of (10) images\n"
     ]
    }
   ],
   "source": [
    "import time\n",
    "from selenium import webdriver\n",
    "from selenium.webdriver.common.by import By\n",
    "from selenium.webdriver.common.keys import Keys  # Add this import\n",
    "import requests\n",
    "\n",
    "options = webdriver.ChromeOptions()\n",
    "options.add_argument('--headless')  # Run Chrome in headless mode (without GUI)\n",
    "driver = webdriver.Chrome(options=options)  # Replace with the actual path to ChromeDriver\n",
    "\n",
    "base_url = 'https://www.google.com/imghp'\n",
    "driver.get(base_url)\n",
    "\n",
    "search_bar = driver.find_element(By.NAME, 'q')\n",
    "search_bar.send_keys('Guitar')\n",
    "search_bar.send_keys(Keys.RETURN)\n",
    "\n",
    "# Wait for the search results to load\n",
    "time.sleep(5)\n",
    "\n",
    "for i in range(20):\n",
    "    driver.execute_script(\"window.scrollBy(0,1000)\")\n",
    "\n",
    "images = driver.find_elements(By.XPATH, '//img[@class=\"rg_i Q4LuWd\"]')\n",
    "\n",
    "img_urls = []\n",
    "\n",
    "for image in images:\n",
    "    source = image.get_attribute('src')\n",
    "    if source is not None and source.startswith('http'):\n",
    "        img_urls.append(source)\n",
    "\n",
    "for i in range(len(img_urls)):\n",
    "    if i > 10:\n",
    "        break\n",
    "\n",
    "    print(\"Downloading ({}) of (10) images\".format(i + 1))\n",
    "    response = requests.get(img_urls[i])\n",
    "    file = open(r\"C:\\Users\\ACHU NARAYAN\\Desktop\\dt\\assignment\\flip robo ds2306\\{}.jpg\".format(i), \"wb\")\n",
    "    file.write(response.content)\n",
    "    file.close()\n",
    "\n",
    "driver.quit()"
   ]
  },
  {
   "cell_type": "code",
   "execution_count": 9,
   "id": "697ec183-26ba-4205-a85c-100865875759",
   "metadata": {
    "tags": []
   },
   "outputs": [
    {
     "name": "stdout",
     "output_type": "stream",
     "text": [
      "Downloading (1) of (10) images\n",
      "Downloading (2) of (10) images\n",
      "Downloading (3) of (10) images\n",
      "Downloading (4) of (10) images\n",
      "Downloading (5) of (10) images\n",
      "Downloading (6) of (10) images\n",
      "Downloading (7) of (10) images\n",
      "Downloading (8) of (10) images\n",
      "Downloading (9) of (10) images\n",
      "Downloading (10) of (10) images\n",
      "Downloading (11) of (10) images\n"
     ]
    }
   ],
   "source": [
    "import time\n",
    "from selenium import webdriver\n",
    "from selenium.webdriver.common.by import By\n",
    "from selenium.webdriver.common.keys import Keys  # Add this import\n",
    "import requests\n",
    "\n",
    "options = webdriver.ChromeOptions()\n",
    "options.add_argument('--headless')  # Run Chrome in headless mode (without GUI)\n",
    "driver = webdriver.Chrome(options=options)  # Replace with the actual path to ChromeDriver\n",
    "\n",
    "base_url = 'https://www.google.com/imghp'\n",
    "driver.get(base_url)\n",
    "\n",
    "search_bar = driver.find_element(By.NAME, 'q')\n",
    "search_bar.send_keys('cars')\n",
    "search_bar.send_keys(Keys.RETURN)\n",
    "\n",
    "# Wait for the search results to load\n",
    "time.sleep(5)\n",
    "\n",
    "for i in range(20):\n",
    "    driver.execute_script(\"window.scrollBy(0,1000)\")\n",
    "\n",
    "images = driver.find_elements(By.XPATH, '//img[@class=\"rg_i Q4LuWd\"]')\n",
    "\n",
    "img_urls = []\n",
    "\n",
    "for image in images:\n",
    "    source = image.get_attribute('src')\n",
    "    if source is not None and source.startswith('http'):\n",
    "        img_urls.append(source)\n",
    "\n",
    "for i in range(len(img_urls)):\n",
    "    if i > 10:\n",
    "        break\n",
    "\n",
    "    print(\"Downloading ({}) of (10) images\".format(i + 1))\n",
    "    response = requests.get(img_urls[i])\n",
    "    file = open(r\"C:\\Users\\ACHU NARAYAN\\Desktop\\dt\\assignment\\flip robo ds2306\\{}.jpg\".format(i), \"wb\")\n",
    "    file.write(response.content)\n",
    "    file.close()\n",
    "\n",
    "driver.quit()"
   ]
  },
  {
   "cell_type": "code",
   "execution_count": 10,
   "id": "3de64525-5ae0-4317-be00-0f797314c683",
   "metadata": {
    "tags": []
   },
   "outputs": [
    {
     "name": "stdout",
     "output_type": "stream",
     "text": [
      "Downloading (1) of (10) images\n",
      "Downloading (2) of (10) images\n",
      "Downloading (3) of (10) images\n",
      "Downloading (4) of (10) images\n",
      "Downloading (5) of (10) images\n",
      "Downloading (6) of (10) images\n",
      "Downloading (7) of (10) images\n",
      "Downloading (8) of (10) images\n",
      "Downloading (9) of (10) images\n",
      "Downloading (10) of (10) images\n",
      "Downloading (11) of (10) images\n"
     ]
    }
   ],
   "source": [
    "import time\n",
    "from selenium import webdriver\n",
    "from selenium.webdriver.common.by import By\n",
    "from selenium.webdriver.common.keys import Keys  # Add this import\n",
    "import requests\n",
    "\n",
    "options = webdriver.ChromeOptions()\n",
    "options.add_argument('--headless')  # Run Chrome in headless mode (without GUI)\n",
    "driver = webdriver.Chrome(options=options)  # Replace with the actual path to ChromeDriver\n",
    "\n",
    "base_url = 'https://www.google.com/imghp'\n",
    "driver.get(base_url)\n",
    "\n",
    "search_bar = driver.find_element(By.NAME, 'q')\n",
    "search_bar.send_keys('Machine Learning')\n",
    "search_bar.send_keys(Keys.RETURN)\n",
    "\n",
    "# Wait for the search results to load\n",
    "time.sleep(5)\n",
    "\n",
    "for i in range(20):\n",
    "    driver.execute_script(\"window.scrollBy(0,1000)\")\n",
    "\n",
    "images = driver.find_elements(By.XPATH, '//img[@class=\"rg_i Q4LuWd\"]')\n",
    "\n",
    "img_urls = []\n",
    "\n",
    "for image in images:\n",
    "    source = image.get_attribute('src')\n",
    "    if source is not None and source.startswith('http'):\n",
    "        img_urls.append(source)\n",
    "\n",
    "for i in range(len(img_urls)):\n",
    "    if i > 10:\n",
    "        break\n",
    "\n",
    "    print(\"Downloading ({}) of (10) images\".format(i + 1))\n",
    "    response = requests.get(img_urls[i])\n",
    "    file = open(r\"C:\\Users\\ACHU NARAYAN\\Desktop\\dt\\assignment\\flip robo ds2306\\{}.jpg\".format(i), \"wb\")\n",
    "    file.write(response.content)\n",
    "    file.close()\n",
    "\n",
    "driver.quit()"
   ]
  },
  {
   "cell_type": "code",
   "execution_count": 11,
   "id": "2e2c45c8-955a-4b8a-bb9d-f935c62ebb4e",
   "metadata": {
    "tags": []
   },
   "outputs": [
    {
     "name": "stdout",
     "output_type": "stream",
     "text": [
      "Downloading (1) of (10) images\n",
      "Downloading (2) of (10) images\n",
      "Downloading (3) of (10) images\n",
      "Downloading (4) of (10) images\n",
      "Downloading (5) of (10) images\n",
      "Downloading (6) of (10) images\n",
      "Downloading (7) of (10) images\n",
      "Downloading (8) of (10) images\n",
      "Downloading (9) of (10) images\n",
      "Downloading (10) of (10) images\n",
      "Downloading (11) of (10) images\n"
     ]
    }
   ],
   "source": [
    "import time\n",
    "from selenium import webdriver\n",
    "from selenium.webdriver.common.by import By\n",
    "from selenium.webdriver.common.keys import Keys  # Add this import\n",
    "import requests\n",
    "\n",
    "options = webdriver.ChromeOptions()\n",
    "options.add_argument('--headless')  # Run Chrome in headless mode (without GUI)\n",
    "driver = webdriver.Chrome(options=options)  # Replace with the actual path to ChromeDriver\n",
    "\n",
    "base_url = 'https://www.google.com/imghp'\n",
    "driver.get(base_url)\n",
    "\n",
    "search_bar = driver.find_element(By.NAME, 'q')\n",
    "search_bar.send_keys('Cakes')\n",
    "search_bar.send_keys(Keys.RETURN)\n",
    "\n",
    "# Wait for the search results to load\n",
    "time.sleep(5)\n",
    "\n",
    "for i in range(20):\n",
    "    driver.execute_script(\"window.scrollBy(0,1000)\")\n",
    "\n",
    "images = driver.find_elements(By.XPATH, '//img[@class=\"rg_i Q4LuWd\"]')\n",
    "\n",
    "img_urls = []\n",
    "\n",
    "for image in images:\n",
    "    source = image.get_attribute('src')\n",
    "    if source is not None and source.startswith('http'):\n",
    "        img_urls.append(source)\n",
    "\n",
    "for i in range(len(img_urls)):\n",
    "    if i > 10:\n",
    "        break\n",
    "\n",
    "    print(\"Downloading ({}) of (10) images\".format(i + 1))\n",
    "    response = requests.get(img_urls[i])\n",
    "    file = open(r\"C:\\Users\\ACHU NARAYAN\\Desktop\\dt\\assignment\\flip robo ds2306\\{}.jpg\".format(i), \"wb\")\n",
    "    file.write(response.content)\n",
    "    file.close()\n",
    "\n",
    "driver.quit()"
   ]
  },
  {
   "cell_type": "markdown",
   "id": "ac1b0ea5-5bce-4d43-bbd4-3a6b1bf13554",
   "metadata": {},
   "source": [
    "END OF QUESTION 3"
   ]
  },
  {
   "cell_type": "markdown",
   "id": "dc1602db-ffe1-4422-a2c7-edbaec3aa9b3",
   "metadata": {
    "tags": []
   },
   "source": [
    "QUESTION 4"
   ]
  },
  {
   "cell_type": "code",
   "execution_count": 1,
   "id": "7e15b048-d9ba-4455-9b41-8d66a8b9cb79",
   "metadata": {
    "tags": []
   },
   "outputs": [
    {
     "name": "stdout",
     "output_type": "stream",
     "text": [
      "Defaulting to user installation because normal site-packages is not writeable\n",
      "Requirement already satisfied: selenium in c:\\programdata\\anaconda3\\lib\\site-packages (4.10.0)\n",
      "Requirement already satisfied: urllib3[socks]<3,>=1.26 in c:\\programdata\\anaconda3\\lib\\site-packages (from selenium) (1.26.16)\n",
      "Requirement already satisfied: trio~=0.17 in c:\\programdata\\anaconda3\\lib\\site-packages (from selenium) (0.22.2)\n",
      "Requirement already satisfied: trio-websocket~=0.9 in c:\\programdata\\anaconda3\\lib\\site-packages (from selenium) (0.10.3)\n",
      "Requirement already satisfied: certifi>=2021.10.8 in c:\\programdata\\anaconda3\\lib\\site-packages (from selenium) (2023.5.7)\n",
      "Requirement already satisfied: attrs>=20.1.0 in c:\\programdata\\anaconda3\\lib\\site-packages (from trio~=0.17->selenium) (22.1.0)\n",
      "Requirement already satisfied: sortedcontainers in c:\\programdata\\anaconda3\\lib\\site-packages (from trio~=0.17->selenium) (2.4.0)\n",
      "Requirement already satisfied: idna in c:\\programdata\\anaconda3\\lib\\site-packages (from trio~=0.17->selenium) (3.4)\n",
      "Requirement already satisfied: outcome in c:\\programdata\\anaconda3\\lib\\site-packages (from trio~=0.17->selenium) (1.2.0)\n",
      "Requirement already satisfied: sniffio in c:\\programdata\\anaconda3\\lib\\site-packages (from trio~=0.17->selenium) (1.2.0)\n",
      "Requirement already satisfied: cffi>=1.14 in c:\\programdata\\anaconda3\\lib\\site-packages (from trio~=0.17->selenium) (1.15.1)\n",
      "Requirement already satisfied: exceptiongroup in c:\\programdata\\anaconda3\\lib\\site-packages (from trio-websocket~=0.9->selenium) (1.1.2)\n",
      "Requirement already satisfied: wsproto>=0.14 in c:\\programdata\\anaconda3\\lib\\site-packages (from trio-websocket~=0.9->selenium) (1.2.0)\n",
      "Requirement already satisfied: PySocks!=1.5.7,<2.0,>=1.5.6 in c:\\programdata\\anaconda3\\lib\\site-packages (from urllib3[socks]<3,>=1.26->selenium) (1.7.1)\n",
      "Requirement already satisfied: pycparser in c:\\programdata\\anaconda3\\lib\\site-packages (from cffi>=1.14->trio~=0.17->selenium) (2.21)\n",
      "Requirement already satisfied: h11<1,>=0.9.0 in c:\\programdata\\anaconda3\\lib\\site-packages (from wsproto>=0.14->trio-websocket~=0.9->selenium) (0.14.0)\n",
      "Note: you may need to restart the kernel to use updated packages.\n"
     ]
    }
   ],
   "source": [
    "pip install selenium"
   ]
  },
  {
   "cell_type": "code",
   "execution_count": 1,
   "id": "05a24b71-1c37-4926-b70f-1d2223b966da",
   "metadata": {
    "tags": []
   },
   "outputs": [
    {
     "name": "stdout",
     "output_type": "stream",
     "text": [
      "Defaulting to user installation because normal site-packages is not writeable\n",
      "Requirement already satisfied: webdriver-manager in c:\\programdata\\anaconda3\\lib\\site-packages (3.8.6)\n",
      "Requirement already satisfied: requests in c:\\programdata\\anaconda3\\lib\\site-packages (from webdriver-manager) (2.29.0)\n",
      "Requirement already satisfied: python-dotenv in c:\\programdata\\anaconda3\\lib\\site-packages (from webdriver-manager) (1.0.0)\n",
      "Requirement already satisfied: tqdm in c:\\programdata\\anaconda3\\lib\\site-packages (from webdriver-manager) (4.65.0)\n",
      "Requirement already satisfied: packaging in c:\\programdata\\anaconda3\\lib\\site-packages (from webdriver-manager) (23.0)\n",
      "Requirement already satisfied: charset-normalizer<4,>=2 in c:\\programdata\\anaconda3\\lib\\site-packages (from requests->webdriver-manager) (2.0.4)\n",
      "Requirement already satisfied: idna<4,>=2.5 in c:\\programdata\\anaconda3\\lib\\site-packages (from requests->webdriver-manager) (3.4)\n",
      "Requirement already satisfied: urllib3<1.27,>=1.21.1 in c:\\programdata\\anaconda3\\lib\\site-packages (from requests->webdriver-manager) (1.26.16)\n",
      "Requirement already satisfied: certifi>=2017.4.17 in c:\\programdata\\anaconda3\\lib\\site-packages (from requests->webdriver-manager) (2023.5.7)\n",
      "Requirement already satisfied: colorama in c:\\programdata\\anaconda3\\lib\\site-packages (from tqdm->webdriver-manager) (0.4.6)\n"
     ]
    }
   ],
   "source": [
    "!pip install webdriver-manager"
   ]
  },
  {
   "cell_type": "code",
   "execution_count": 2,
   "id": "713d4eec-4355-4a29-97db-76decff6ef42",
   "metadata": {
    "tags": []
   },
   "outputs": [
    {
     "name": "stdout",
     "output_type": "stream",
     "text": [
      "Defaulting to user installation because normal site-packages is not writeable\n",
      "Requirement already satisfied: pandas in c:\\programdata\\anaconda3\\lib\\site-packages (1.5.3)\n",
      "Requirement already satisfied: python-dateutil>=2.8.1 in c:\\programdata\\anaconda3\\lib\\site-packages (from pandas) (2.8.2)\n",
      "Requirement already satisfied: pytz>=2020.1 in c:\\programdata\\anaconda3\\lib\\site-packages (from pandas) (2022.7)\n",
      "Requirement already satisfied: numpy>=1.21.0 in c:\\programdata\\anaconda3\\lib\\site-packages (from pandas) (1.24.3)\n",
      "Requirement already satisfied: six>=1.5 in c:\\programdata\\anaconda3\\lib\\site-packages (from python-dateutil>=2.8.1->pandas) (1.16.0)\n",
      "Note: you may need to restart the kernel to use updated packages.\n"
     ]
    }
   ],
   "source": [
    "pip install pandas"
   ]
  },
  {
   "cell_type": "code",
   "execution_count": 1,
   "id": "daf9bc3e-023a-4b82-9b91-91eb877d7f16",
   "metadata": {
    "tags": []
   },
   "outputs": [
    {
     "name": "stderr",
     "output_type": "stream",
     "text": [
      "Error getting version of chromedriver 115. Retrying with chromedriver 114 (attempt 1/5)\n"
     ]
    },
    {
     "name": "stdout",
     "output_type": "stream",
     "text": [
      "Scraping and saving complete.\n"
     ]
    }
   ],
   "source": [
    "import pandas as pd\n",
    "from selenium import webdriver\n",
    "from selenium.webdriver.common.keys import Keys\n",
    "from selenium.webdriver.common.by import By\n",
    "from selenium.webdriver.support.ui import WebDriverWait\n",
    "from selenium.webdriver.support import expected_conditions as EC\n",
    "from selenium.common.exceptions import NoSuchElementException, StaleElementReferenceException, TimeoutException\n",
    "\n",
    "# Create a new instance of the Chrome driver\n",
    "driver = webdriver.Chrome()  # Change this path to your chromedriver location\n",
    "driver.maximize_window()\n",
    "\n",
    "try:\n",
    "    # Open Flipkart website\n",
    "    driver.get(\"https://www.flipkart.com/\")\n",
    "\n",
    "    # Close login popup if it appears\n",
    "    try:\n",
    "        driver.find_element(By.CLASS_NAME, \"_2KpZ6l\").click()\n",
    "    except NoSuchElementException:\n",
    "        pass\n",
    "\n",
    "    # Input the smartphone name\n",
    "    search_input = \"Oneplus Nord\"\n",
    "    search_bar = driver.find_element(By.NAME, 'q')\n",
    "    search_bar.send_keys(search_input)\n",
    "    search_bar.send_keys(Keys.RETURN)\n",
    "\n",
    "    # Wait for the search results to load\n",
    "    wait = WebDriverWait(driver, 10)\n",
    "    search_results = wait.until(EC.presence_of_all_elements_located((By.CLASS_NAME, \"_1AtVbE\")))\n",
    "\n",
    "    # Initialize lists to store scraped data\n",
    "    data = []\n",
    "\n",
    "    # Loop through the search results and scrape details\n",
    "    for result in search_results:\n",
    "        try:\n",
    "            details = result.text.split('\\n')\n",
    "            brand_name = details[0]\n",
    "            smartphone_name = details[1] if len(details) > 1 else \"-\"\n",
    "            color = details[2] if len(details) > 2 else \"-\"\n",
    "            ram = details[3] if len(details) > 3 else \"-\"\n",
    "            storage = details[4] if len(details) > 4 else \"-\"\n",
    "            primary_camera = details[5] if len(details) > 5 else \"-\"\n",
    "            secondary_camera = details[6] if len(details) > 6 else \"-\"\n",
    "            display_size = details[7] if len(details) > 7 else \"-\"\n",
    "            battery_capacity = details[8] if len(details) > 8 else \"-\"\n",
    "            price = details[9] if len(details) > 9 else \"-\"\n",
    "            try:\n",
    "                product_url = result.find_element(By.TAG_NAME, 'a').get_attribute('href')\n",
    "            except NoSuchElementException:\n",
    "                product_url = \"-\"\n",
    "\n",
    "            data.append({\n",
    "                \"Brand Name\": brand_name,\n",
    "                \"Smartphone Name\": smartphone_name,\n",
    "                \"Colour\": color,\n",
    "                \"RAM\": ram,\n",
    "                \"Storage(ROM)\": storage,\n",
    "                \"Primary Camera\": primary_camera,\n",
    "                \"Secondary Camera\": secondary_camera,\n",
    "                \"Display Size\": display_size,\n",
    "                \"Battery Capacity\": battery_capacity,\n",
    "                \"Price\": price,\n",
    "                \"Product URL\": product_url\n",
    "            })\n",
    "        except (NoSuchElementException, StaleElementReferenceException, TimeoutException, IndexError) as e:\n",
    "            print(\"Error:\", e)\n",
    "            continue\n",
    "\n",
    "    # Create a DataFrame\n",
    "    df = pd.DataFrame(data)\n",
    "\n",
    "    # Save to CSV\n",
    "    df.to_csv(\"oneplus_nord_details.csv\", index=False)\n",
    "\n",
    "    print(\"Scraping and saving complete.\")\n",
    "\n",
    "except Exception as e:\n",
    "    print(\"Error:\", e)\n",
    "\n",
    "finally:\n",
    "    # Close the browser\n",
    "    driver.quit()"
   ]
  },
  {
   "cell_type": "code",
   "execution_count": 2,
   "id": "c4b36744-85f5-4cae-87e6-80329282ebd7",
   "metadata": {},
   "outputs": [
    {
     "name": "stdout",
     "output_type": "stream",
     "text": [
      "                                      Brand Name  \\\n",
      "0                                        Filters   \n",
      "1                                     Need help?   \n",
      "2               HomeMobiles & AccessoriesMobiles   \n",
      "3                                     Bestseller   \n",
      "4                                 Add to Compare   \n",
      "5                                 Add to Compare   \n",
      "6                          Currently unavailable   \n",
      "7                                 Add to Compare   \n",
      "8                                 Add to Compare   \n",
      "9                                 Add to Compare   \n",
      "10                                Add to Compare   \n",
      "11                                Add to Compare   \n",
      "12                         Currently unavailable   \n",
      "13                                Add to Compare   \n",
      "14                         Currently unavailable   \n",
      "15                         Currently unavailable   \n",
      "16                         Currently unavailable   \n",
      "17                         Currently unavailable   \n",
      "18                         Currently unavailable   \n",
      "19                         Currently unavailable   \n",
      "20                         Currently unavailable   \n",
      "21                         Currently unavailable   \n",
      "22                         Currently unavailable   \n",
      "23                         Currently unavailable   \n",
      "24                         Currently unavailable   \n",
      "25                         Currently unavailable   \n",
      "26                         Currently unavailable   \n",
      "27                                   Page 1 of 4   \n",
      "28  Did you find what you were looking for?YesNo   \n",
      "29                   Reviews for Popular Mobiles   \n",
      "30                                           NaN   \n",
      "\n",
      "                                    Smartphone Name  \\\n",
      "0                                        CATEGORIES   \n",
      "1                                    Help me decide   \n",
      "2   Showing 1 – 24 of 82 results for \"Oneplus Nord\"   \n",
      "3                                    Add to Compare   \n",
      "4           OnePlus Nord 3 5G (Misty Green, 128 GB)   \n",
      "5    OnePlus Nord CE 2 Lite 5G (Black Dusk, 128 GB)   \n",
      "6                                    Add to Compare   \n",
      "7           OnePlus Nord 3 5G (Misty Green, 256 GB)   \n",
      "8          OnePlus Nord 3 5G (Tempest Gray, 256 GB)   \n",
      "9          OnePlus Nord 3 5G (Tempest Gray, 128 GB)   \n",
      "10     OnePlus NORD CE2 LITE 5G (Blue Tide, 128 GB)   \n",
      "11         OnePlus Nord 2T 5G (Gray Shadow, 128 GB)   \n",
      "12                                   Add to Compare   \n",
      "13            OnePlus Nord 2 5G (Blue Haze, 256 GB)   \n",
      "14                                   Add to Compare   \n",
      "15                                   Add to Compare   \n",
      "16                                   Add to Compare   \n",
      "17                                   Add to Compare   \n",
      "18                                   Add to Compare   \n",
      "19                                   Add to Compare   \n",
      "20                                   Add to Compare   \n",
      "21                                   Add to Compare   \n",
      "22                                   Add to Compare   \n",
      "23                                   Add to Compare   \n",
      "24                                   Add to Compare   \n",
      "25                                   Add to Compare   \n",
      "26                                   Add to Compare   \n",
      "27                                                1   \n",
      "28                                                -   \n",
      "29                1. OnePlus Nord 3 5G (Misty Gr...   \n",
      "30                                                -   \n",
      "\n",
      "                                               Colour  \\\n",
      "0                               Mobiles & Accessories   \n",
      "1                                                   -   \n",
      "2                                             Sort By   \n",
      "3       OnePlus Nord CE 2 Lite 5G (Blue Tide, 128 GB)   \n",
      "4                          4.6118 Ratings & 9 Reviews   \n",
      "5                   4.491,969 Ratings & 6,409 Reviews   \n",
      "6            OnePlus Nord 2T 5G (Gray Shadow, 128 GB)   \n",
      "7                           4.239 Ratings & 3 Reviews   \n",
      "8                           4.239 Ratings & 3 Reviews   \n",
      "9                          4.6118 Ratings & 9 Reviews   \n",
      "10                          4.226 Ratings & 0 Reviews   \n",
      "11                    4.411,347 Ratings & 914 Reviews   \n",
      "12            OnePlus Nord 2 5G (Gray Sierra, 128 GB)   \n",
      "13                        4.3290 Ratings & 23 Reviews   \n",
      "14                OnePlus Nord 2 5G (PAC-MAN, 256 GB)   \n",
      "15              OnePlus Nord 2T 5G (Jade Fog, 128 GB)   \n",
      "16           OnePlus Nord 2T 5G (Gray Shadow, 128 GB)   \n",
      "17                    OnePlus Nord (Gray Onyx, 64 GB)   \n",
      "18                   OnePlus Nord (Gray Onyx, 128 GB)   \n",
      "19    OnePlus Nord CE 3 Lite 5G (Pastel Lime, 256 GB)   \n",
      "20           OnePlus Nord 2T 5G (Gray Shadow, 128 GB)   \n",
      "21  OnePlus Nord CE 3 Lite 5G (Chromatic Gray, 256...   \n",
      "22  OnePlus Nord CE 3 Lite 5G (Chromatic Gray, 128...   \n",
      "23    OnePlus Nord CE 3 Lite 5G (Pastel Lime, 128 GB)   \n",
      "24              OnePlus Nord 2T 5G (Jade Fog, 128 GB)   \n",
      "25                  OnePlus Nord (Blue Marble, 64 GB)   \n",
      "26                   OnePlus Nord (Gray Onyx, 256 GB)   \n",
      "27                                                  2   \n",
      "28                                                  -   \n",
      "29                           4.6118 Ratings&9 Reviews   \n",
      "30                                                  -   \n",
      "\n",
      "                                  RAM                  Storage(ROM)  \\\n",
      "0                             Mobiles                         PRICE   \n",
      "1                                   -                             -   \n",
      "2                           Relevance                    Popularity   \n",
      "3   4.491,969 Ratings & 6,409 Reviews         6 GB RAM | 128 GB ROM   \n",
      "4               8 GB RAM | 128 GB ROM  17.12 cm (6.74 inch) Display   \n",
      "5               6 GB RAM | 128 GB ROM  16.74 cm (6.59 inch) Display   \n",
      "6     4.411,347 Ratings & 914 Reviews         8 GB RAM | 128 GB ROM   \n",
      "7              16 GB RAM | 256 GB ROM  17.12 cm (6.74 inch) Display   \n",
      "8              16 GB RAM | 256 GB ROM  17.12 cm (6.74 inch) Display   \n",
      "9               8 GB RAM | 128 GB ROM  17.12 cm (6.74 inch) Display   \n",
      "10              6 GB RAM | 128 GB ROM  16.74 cm (6.59 inch) Display   \n",
      "11              8 GB RAM | 128 GB ROM   17.02 cm (6.7 inch) Display   \n",
      "12     4.41,982 Ratings & 194 Reviews         8 GB RAM | 128 GB ROM   \n",
      "13             12 GB RAM | 256 GB ROM  16.33 cm (6.43 inch) Display   \n",
      "14        4.3290 Ratings & 23 Reviews        12 GB RAM | 256 GB ROM   \n",
      "15    4.411,347 Ratings & 914 Reviews         8 GB RAM | 128 GB ROM   \n",
      "16    4.411,347 Ratings & 914 Reviews         8 GB RAM | 128 GB ROM   \n",
      "17          4.336 Ratings & 4 Reviews          6 GB RAM | 64 GB ROM   \n",
      "18          4134 Ratings & 17 Reviews         8 GB RAM | 128 GB ROM   \n",
      "19     4.42,185 Ratings & 176 Reviews         8 GB RAM | 256 GB ROM   \n",
      "20    4.411,347 Ratings & 914 Reviews         8 GB RAM | 128 GB ROM   \n",
      "21     4.42,185 Ratings & 176 Reviews         8 GB RAM | 256 GB ROM   \n",
      "22     4.42,185 Ratings & 176 Reviews         8 GB RAM | 128 GB ROM   \n",
      "23     4.42,185 Ratings & 176 Reviews         8 GB RAM | 128 GB ROM   \n",
      "24    4.411,347 Ratings & 914 Reviews         8 GB RAM | 128 GB ROM   \n",
      "25          4.336 Ratings & 4 Reviews          6 GB RAM | 64 GB ROM   \n",
      "26           4165 Ratings & 8 Reviews        12 GB RAM | 256 GB ROM   \n",
      "27                                  3                             4   \n",
      "28                                  -                             -   \n",
      "29                            ₹33,834         8 GB RAM | 128 GB ROM   \n",
      "30                                  -                             -   \n",
      "\n",
      "                           Primary Camera  \\\n",
      "0                                  ......   \n",
      "1                                       -   \n",
      "2                    Price -- Low to High   \n",
      "3            16.74 cm (6.59 inch) Display   \n",
      "4                        50MP Rear Camera   \n",
      "5    64MP Rear Camera | 16MP Front Camera   \n",
      "6             17.02 cm (6.7 inch) Display   \n",
      "7                        50MP Rear Camera   \n",
      "8                        50MP Rear Camera   \n",
      "9                        50MP Rear Camera   \n",
      "10                       64MP Rear Camera   \n",
      "11                       50MP Rear Camera   \n",
      "12           16.33 cm (6.43 inch) Display   \n",
      "13                       50MP Rear Camera   \n",
      "14           16.33 cm (6.43 inch) Display   \n",
      "15            17.02 cm (6.7 inch) Display   \n",
      "16            17.02 cm (6.7 inch) Display   \n",
      "17  16.36 cm (6.44 inch) Full HD+ Display   \n",
      "18  16.36 cm (6.44 inch) Full HD+ Display   \n",
      "19           17.07 cm (6.72 inch) Display   \n",
      "20            17.02 cm (6.7 inch) Display   \n",
      "21           17.07 cm (6.72 inch) Display   \n",
      "22           17.07 cm (6.72 inch) Display   \n",
      "23           17.07 cm (6.72 inch) Display   \n",
      "24            17.02 cm (6.7 inch) Display   \n",
      "25  16.36 cm (6.44 inch) Full HD+ Display   \n",
      "26  16.36 cm (6.44 inch) Full HD+ Display   \n",
      "27                                   NEXT   \n",
      "28                                      -   \n",
      "29           17.12 cm (6.74 inch) Display   \n",
      "30                                      -   \n",
      "\n",
      "                             Secondary Camera  \\\n",
      "0                                         Min   \n",
      "1                                           -   \n",
      "2                        Price -- High to Low   \n",
      "3        64MP Rear Camera | 16MP Front Camera   \n",
      "4                            5000 mAh Battery   \n",
      "5                            5000 mAh Battery   \n",
      "6        50MP Rear Camera | 32MP Front Camera   \n",
      "7                            5000 mAh Battery   \n",
      "8                            5000 mAh Battery   \n",
      "9                            5000 mAh Battery   \n",
      "10                           5000 mAh Battery   \n",
      "11                           4500 mAh Battery   \n",
      "12                           50MP Rear Camera   \n",
      "13                           4500 mAh Battery   \n",
      "14                           50MP Rear Camera   \n",
      "15       50MP Rear Camera | 32MP Front Camera   \n",
      "16                           50MP Rear Camera   \n",
      "17  48MP + 8MP | 32MP + 8MP Dual Front Camera   \n",
      "18  48MP + 8MP | 32MP + 8MP Dual Front Camera   \n",
      "19                          108MP Rear Camera   \n",
      "20                           50MP Rear Camera   \n",
      "21                          108MP Rear Camera   \n",
      "22                          108MP Rear Camera   \n",
      "23                          108MP Rear Camera   \n",
      "24                           50MP Rear Camera   \n",
      "25  48MP + 8MP | 32MP + 8MP Dual Front Camera   \n",
      "26  48MP + 8MP | 32MP + 8MP Dual Front Camera   \n",
      "27                                          -   \n",
      "28                                          -   \n",
      "29                           50MP Rear Camera   \n",
      "30                                          -   \n",
      "\n",
      "                                         Display Size  \\\n",
      "0                                              ₹10000   \n",
      "1                                                   -   \n",
      "2                                        Newest First   \n",
      "3                                    5000 mAh Battery   \n",
      "4   Domestic 1 Year of Device & 6 Months for In-Bo...   \n",
      "5                                           12 months   \n",
      "6                                    4500 mAh Battery   \n",
      "7   Domestic 1 Year of Device & 6 Months for In-Bo...   \n",
      "8   Domestic 1 Year of Device & 6 Months for In-Bo...   \n",
      "9   Domestic 1 Year of Device & 6 Months for In-Bo...   \n",
      "10                   12 MONTHS MANUFACTURING WARRANTY   \n",
      "11                                           12 Month   \n",
      "12                                   4500 mAh Battery   \n",
      "13                                    1 year Warranty   \n",
      "14                                   4500 mAh Battery   \n",
      "15                                   4500 mAh Battery   \n",
      "16                                   4500 mAh Battery   \n",
      "17                                   4115 mAh Battery   \n",
      "18                                   4115 mAh Battery   \n",
      "19                                   5000 mAh Battery   \n",
      "20                                   4500 mAh Battery   \n",
      "21                                   5000 mAh Battery   \n",
      "22                                   5000 mAh Battery   \n",
      "23                                   5000 mAh Battery   \n",
      "24                                   4500 mAh Battery   \n",
      "25                                   4115 mAh Battery   \n",
      "26                                   4115 mAh Battery   \n",
      "27                                                  -   \n",
      "28                                                  -   \n",
      "29                                Most Helpful Review   \n",
      "30                                                  -   \n",
      "\n",
      "                                     Battery Capacity                Price  \\\n",
      "0                                              ₹15000               ₹20000   \n",
      "1                                                   -                    -   \n",
      "2                                                   -                    -   \n",
      "3                                           12 Months              ₹17,823   \n",
      "4                                             ₹33,834              ₹33,999   \n",
      "5                                             ₹17,697       ₹19,99911% off   \n",
      "6                                            12 Month              ₹28,999   \n",
      "7                                             ₹37,495        ₹37,9991% off   \n",
      "8                                             ₹37,288        ₹37,9991% off   \n",
      "9                                             ₹32,872        ₹33,9993% off   \n",
      "10                                            ₹17,998       ₹19,99910% off   \n",
      "11                                            ₹28,899              ₹28,999   \n",
      "12                                    1 year Warranty              ₹29,999   \n",
      "13                                            ₹34,990              ₹34,999   \n",
      "14                                          12 months              ₹37,999   \n",
      "15                                           12 Month              ₹26,578   \n",
      "16                                           12 Month              ₹28,988   \n",
      "17               Qualcomm® Snapdragon™ 765G Processor               1 Year   \n",
      "18               Qualcomm® Snapdragon™ 765G Processor               1 Year   \n",
      "19  Domestic Warranty of 12 months on phone & 6 mo...              ₹21,499   \n",
      "20                                           12 Month              ₹27,599   \n",
      "21  Domestic Warranty of 12 months on phone & 6 mo...              ₹21,249   \n",
      "22  Domestic Warranty of 12 months on phone & 6 mo...              ₹17,890   \n",
      "23  Domestic Warranty of 12 months on phone & 6 mo...              ₹18,999   \n",
      "24                                           12 Month              ₹27,899   \n",
      "25               Qualcomm® Snapdragon™ 765G Processor               1 Year   \n",
      "26               Qualcomm® Snapdragon™ 765G Processor               1 Year   \n",
      "27                                                  -                    -   \n",
      "28                                                  -                    -   \n",
      "29                                                  5  Best in the market!   \n",
      "30                                                  -                    -   \n",
      "\n",
      "                                          Product URL  \n",
      "0   https://www.flipkart.com/mobiles-accessories/p...  \n",
      "1   https://www.flipkart.com/buying-guide/mobiles?...  \n",
      "2                           https://www.flipkart.com/  \n",
      "3   https://www.flipkart.com/oneplus-nord-ce-2-lit...  \n",
      "4   https://www.flipkart.com/oneplus-nord-3-5g-mis...  \n",
      "5   https://www.flipkart.com/oneplus-nord-ce-2-lit...  \n",
      "6   https://www.flipkart.com/oneplus-nord-2t-5g-gr...  \n",
      "7   https://www.flipkart.com/oneplus-nord-3-5g-mis...  \n",
      "8   https://www.flipkart.com/oneplus-nord-3-5g-tem...  \n",
      "9   https://www.flipkart.com/oneplus-nord-3-5g-tem...  \n",
      "10  https://www.flipkart.com/oneplus-nord-ce2-lite...  \n",
      "11  https://www.flipkart.com/oneplus-nord-2t-5g-gr...  \n",
      "12  https://www.flipkart.com/oneplus-nord-2-5g-gra...  \n",
      "13  https://www.flipkart.com/oneplus-nord-2-5g-blu...  \n",
      "14  https://www.flipkart.com/oneplus-nord-2-5g-pac...  \n",
      "15  https://www.flipkart.com/oneplus-nord-2t-5g-ja...  \n",
      "16  https://www.flipkart.com/oneplus-nord-2t-5g-gr...  \n",
      "17  https://www.flipkart.com/oneplus-nord-gray-ony...  \n",
      "18  https://www.flipkart.com/oneplus-nord-gray-ony...  \n",
      "19  https://www.flipkart.com/oneplus-nord-ce-3-lit...  \n",
      "20  https://www.flipkart.com/oneplus-nord-2t-5g-gr...  \n",
      "21  https://www.flipkart.com/oneplus-nord-ce-3-lit...  \n",
      "22  https://www.flipkart.com/oneplus-nord-ce-3-lit...  \n",
      "23  https://www.flipkart.com/oneplus-nord-ce-3-lit...  \n",
      "24  https://www.flipkart.com/oneplus-nord-2t-5g-ja...  \n",
      "25  https://www.flipkart.com/oneplus-nord-blue-mar...  \n",
      "26  https://www.flipkart.com/oneplus-nord-gray-ony...  \n",
      "27  https://www.flipkart.com/search?q=Oneplus+Nord...  \n",
      "28                                                  -  \n",
      "29  https://www.flipkart.com/oneplus-nord-3-5g-mis...  \n",
      "30                                                  -  \n"
     ]
    }
   ],
   "source": [
    "import pandas as pd\n",
    "\n",
    "# Read the CSV file into a DataFrame\n",
    "df = pd.read_csv(\"oneplus_nord_details.csv\")\n",
    "\n",
    "# Print the DataFrame\n",
    "print(df)"
   ]
  },
  {
   "cell_type": "markdown",
   "id": "e5ad3465-0604-41f3-a59a-ff9bf31c5a7b",
   "metadata": {},
   "source": [
    "END OF QUESTION 4"
   ]
  },
  {
   "cell_type": "markdown",
   "id": "4a36ab44-016c-41fc-aeb7-793eb7406451",
   "metadata": {},
   "source": [
    "QUESTION 5"
   ]
  },
  {
   "cell_type": "code",
   "execution_count": 1,
   "id": "9a9a5ee8-da8b-4bfa-8168-44521387f19b",
   "metadata": {},
   "outputs": [
    {
     "name": "stdout",
     "output_type": "stream",
     "text": [
      "Defaulting to user installation because normal site-packages is not writeableNote: you may need to restart the kernel to use updated packages.\n",
      "\n",
      "Requirement already satisfied: selenium in c:\\programdata\\anaconda3\\lib\\site-packages (4.10.0)\n",
      "Requirement already satisfied: urllib3[socks]<3,>=1.26 in c:\\programdata\\anaconda3\\lib\\site-packages (from selenium) (1.26.16)\n",
      "Requirement already satisfied: trio~=0.17 in c:\\programdata\\anaconda3\\lib\\site-packages (from selenium) (0.22.2)\n",
      "Requirement already satisfied: trio-websocket~=0.9 in c:\\programdata\\anaconda3\\lib\\site-packages (from selenium) (0.10.3)\n",
      "Requirement already satisfied: certifi>=2021.10.8 in c:\\programdata\\anaconda3\\lib\\site-packages (from selenium) (2023.5.7)\n",
      "Requirement already satisfied: attrs>=20.1.0 in c:\\programdata\\anaconda3\\lib\\site-packages (from trio~=0.17->selenium) (22.1.0)\n",
      "Requirement already satisfied: sortedcontainers in c:\\programdata\\anaconda3\\lib\\site-packages (from trio~=0.17->selenium) (2.4.0)\n",
      "Requirement already satisfied: idna in c:\\programdata\\anaconda3\\lib\\site-packages (from trio~=0.17->selenium) (3.4)\n",
      "Requirement already satisfied: outcome in c:\\programdata\\anaconda3\\lib\\site-packages (from trio~=0.17->selenium) (1.2.0)\n",
      "Requirement already satisfied: sniffio in c:\\programdata\\anaconda3\\lib\\site-packages (from trio~=0.17->selenium) (1.2.0)\n",
      "Requirement already satisfied: cffi>=1.14 in c:\\programdata\\anaconda3\\lib\\site-packages (from trio~=0.17->selenium) (1.15.1)\n",
      "Requirement already satisfied: exceptiongroup in c:\\programdata\\anaconda3\\lib\\site-packages (from trio-websocket~=0.9->selenium) (1.1.2)\n",
      "Requirement already satisfied: wsproto>=0.14 in c:\\programdata\\anaconda3\\lib\\site-packages (from trio-websocket~=0.9->selenium) (1.2.0)\n",
      "Requirement already satisfied: PySocks!=1.5.7,<2.0,>=1.5.6 in c:\\programdata\\anaconda3\\lib\\site-packages (from urllib3[socks]<3,>=1.26->selenium) (1.7.1)\n",
      "Requirement already satisfied: pycparser in c:\\programdata\\anaconda3\\lib\\site-packages (from cffi>=1.14->trio~=0.17->selenium) (2.21)\n",
      "Requirement already satisfied: h11<1,>=0.9.0 in c:\\programdata\\anaconda3\\lib\\site-packages (from wsproto>=0.14->trio-websocket~=0.9->selenium) (0.14.0)\n"
     ]
    }
   ],
   "source": [
    "pip install selenium"
   ]
  },
  {
   "cell_type": "code",
   "execution_count": 1,
   "id": "cd96e4ec-56f9-4b65-9e39-8288e9a83634",
   "metadata": {
    "tags": []
   },
   "outputs": [
    {
     "name": "stdout",
     "output_type": "stream",
     "text": [
      "Defaulting to user installation because normal site-packages is not writeable\n",
      "Requirement already satisfied: webdriver-manager in c:\\programdata\\anaconda3\\lib\\site-packages (3.8.6)\n",
      "Requirement already satisfied: requests in c:\\programdata\\anaconda3\\lib\\site-packages (from webdriver-manager) (2.29.0)\n",
      "Requirement already satisfied: python-dotenv in c:\\programdata\\anaconda3\\lib\\site-packages (from webdriver-manager) (1.0.0)\n",
      "Requirement already satisfied: tqdm in c:\\programdata\\anaconda3\\lib\\site-packages (from webdriver-manager) (4.65.0)\n",
      "Requirement already satisfied: packaging in c:\\programdata\\anaconda3\\lib\\site-packages (from webdriver-manager) (23.0)\n",
      "Requirement already satisfied: charset-normalizer<4,>=2 in c:\\programdata\\anaconda3\\lib\\site-packages (from requests->webdriver-manager) (2.0.4)\n",
      "Requirement already satisfied: idna<4,>=2.5 in c:\\programdata\\anaconda3\\lib\\site-packages (from requests->webdriver-manager) (3.4)\n",
      "Requirement already satisfied: urllib3<1.27,>=1.21.1 in c:\\programdata\\anaconda3\\lib\\site-packages (from requests->webdriver-manager) (1.26.16)\n",
      "Requirement already satisfied: certifi>=2017.4.17 in c:\\programdata\\anaconda3\\lib\\site-packages (from requests->webdriver-manager) (2023.5.7)\n",
      "Requirement already satisfied: colorama in c:\\programdata\\anaconda3\\lib\\site-packages (from tqdm->webdriver-manager) (0.4.6)\n"
     ]
    }
   ],
   "source": [
    "!pip install webdriver-manager"
   ]
  },
  {
   "cell_type": "code",
   "execution_count": 2,
   "id": "89b8e055-75e2-4350-8e58-96f961f93bc5",
   "metadata": {
    "tags": []
   },
   "outputs": [
    {
     "name": "stdout",
     "output_type": "stream",
     "text": [
      "Defaulting to user installation because normal site-packages is not writeable\n",
      "Requirement already satisfied: selenium in c:\\programdata\\anaconda3\\lib\\site-packages (4.10.0)\n",
      "Requirement already satisfied: beautifulsoup4 in c:\\programdata\\anaconda3\\lib\\site-packages (4.12.2)\n",
      "Requirement already satisfied: pandas in c:\\programdata\\anaconda3\\lib\\site-packages (1.5.3)\n",
      "Requirement already satisfied: urllib3[socks]<3,>=1.26 in c:\\programdata\\anaconda3\\lib\\site-packages (from selenium) (1.26.16)\n",
      "Requirement already satisfied: trio~=0.17 in c:\\programdata\\anaconda3\\lib\\site-packages (from selenium) (0.22.2)\n",
      "Requirement already satisfied: trio-websocket~=0.9 in c:\\programdata\\anaconda3\\lib\\site-packages (from selenium) (0.10.3)\n",
      "Requirement already satisfied: certifi>=2021.10.8 in c:\\programdata\\anaconda3\\lib\\site-packages (from selenium) (2023.5.7)\n",
      "Requirement already satisfied: soupsieve>1.2 in c:\\programdata\\anaconda3\\lib\\site-packages (from beautifulsoup4) (2.4)\n",
      "Requirement already satisfied: python-dateutil>=2.8.1 in c:\\programdata\\anaconda3\\lib\\site-packages (from pandas) (2.8.2)\n",
      "Requirement already satisfied: pytz>=2020.1 in c:\\programdata\\anaconda3\\lib\\site-packages (from pandas) (2022.7)\n",
      "Requirement already satisfied: numpy>=1.21.0 in c:\\programdata\\anaconda3\\lib\\site-packages (from pandas) (1.24.3)\n",
      "Requirement already satisfied: six>=1.5 in c:\\programdata\\anaconda3\\lib\\site-packages (from python-dateutil>=2.8.1->pandas) (1.16.0)\n",
      "Requirement already satisfied: attrs>=20.1.0 in c:\\programdata\\anaconda3\\lib\\site-packages (from trio~=0.17->selenium) (22.1.0)\n",
      "Requirement already satisfied: sortedcontainers in c:\\programdata\\anaconda3\\lib\\site-packages (from trio~=0.17->selenium) (2.4.0)\n",
      "Requirement already satisfied: idna in c:\\programdata\\anaconda3\\lib\\site-packages (from trio~=0.17->selenium) (3.4)\n",
      "Requirement already satisfied: outcome in c:\\programdata\\anaconda3\\lib\\site-packages (from trio~=0.17->selenium) (1.2.0)\n",
      "Requirement already satisfied: sniffio in c:\\programdata\\anaconda3\\lib\\site-packages (from trio~=0.17->selenium) (1.2.0)\n",
      "Requirement already satisfied: cffi>=1.14 in c:\\programdata\\anaconda3\\lib\\site-packages (from trio~=0.17->selenium) (1.15.1)\n",
      "Requirement already satisfied: exceptiongroup in c:\\programdata\\anaconda3\\lib\\site-packages (from trio-websocket~=0.9->selenium) (1.1.2)\n",
      "Requirement already satisfied: wsproto>=0.14 in c:\\programdata\\anaconda3\\lib\\site-packages (from trio-websocket~=0.9->selenium) (1.2.0)\n",
      "Requirement already satisfied: PySocks!=1.5.7,<2.0,>=1.5.6 in c:\\programdata\\anaconda3\\lib\\site-packages (from urllib3[socks]<3,>=1.26->selenium) (1.7.1)\n",
      "Requirement already satisfied: pycparser in c:\\programdata\\anaconda3\\lib\\site-packages (from cffi>=1.14->trio~=0.17->selenium) (2.21)\n",
      "Requirement already satisfied: h11<1,>=0.9.0 in c:\\programdata\\anaconda3\\lib\\site-packages (from wsproto>=0.14->trio-websocket~=0.9->selenium) (0.14.0)\n",
      "Note: you may need to restart the kernel to use updated packages.\n"
     ]
    }
   ],
   "source": [
    "pip install selenium beautifulsoup4 pandas"
   ]
  },
  {
   "cell_type": "code",
   "execution_count": 1,
   "id": "d0950335-44ad-4f57-8f20-38bc0d464d90",
   "metadata": {
    "tags": []
   },
   "outputs": [
    {
     "name": "stdout",
     "output_type": "stream",
     "text": [
      "Defaulting to user installation because normal site-packages is not writeable\n",
      "Requirement already satisfied: beautifulsoup4 in c:\\programdata\\anaconda3\\lib\\site-packages (4.12.2)\n",
      "Requirement already satisfied: soupsieve>1.2 in c:\\programdata\\anaconda3\\lib\\site-packages (from beautifulsoup4) (2.4)\n",
      "Note: you may need to restart the kernel to use updated packages.\n"
     ]
    }
   ],
   "source": [
    "pip install beautifulsoup4\n"
   ]
  },
  {
   "cell_type": "code",
   "execution_count": 1,
   "id": "9d7a43b5-e371-4525-a5a8-86dadca1922f",
   "metadata": {
    "tags": []
   },
   "outputs": [
    {
     "name": "stdout",
     "output_type": "stream",
     "text": [
      "Defaulting to user installation because normal site-packages is not writeable\n",
      "Requirement already satisfied: requests in c:\\programdata\\anaconda3\\lib\\site-packages (2.29.0)\n",
      "Requirement already satisfied: charset-normalizer<4,>=2 in c:\\programdata\\anaconda3\\lib\\site-packages (from requests) (2.0.4)\n",
      "Requirement already satisfied: idna<4,>=2.5 in c:\\programdata\\anaconda3\\lib\\site-packages (from requests) (3.4)\n",
      "Requirement already satisfied: urllib3<1.27,>=1.21.1 in c:\\programdata\\anaconda3\\lib\\site-packages (from requests) (1.26.16)\n",
      "Requirement already satisfied: certifi>=2017.4.17 in c:\\programdata\\anaconda3\\lib\\site-packages (from requests) (2023.5.7)\n",
      "Note: you may need to restart the kernel to use updated packages.\n"
     ]
    }
   ],
   "source": [
    "\n",
    "pip install requests"
   ]
  },
  {
   "cell_type": "code",
   "execution_count": 1,
   "id": "cf58b48d-3031-42f7-81f4-fc2480486540",
   "metadata": {
    "tags": []
   },
   "outputs": [],
   "source": [
    "from selenium import webdriver\n",
    "from selenium.webdriver.common.by import By\n",
    "from selenium.webdriver.support.ui import WebDriverWait\n",
    "from webdriver_manager.chrome import ChromeDriverManager\n",
    "from selenium.common.exceptions import TimeoutException, NoSuchElementException, WebDriverException\n",
    "from selenium.webdriver.support import expected_conditions as EC\n",
    "from selenium.webdriver.chrome.service import Service\n",
    "from selenium.webdriver.chrome.options import Options\n",
    "from selenium.webdriver.chrome.webdriver import WebDriver\n",
    "import pandas as pd\n",
    "import requests\n",
    "import time\n",
    "import warnings\n",
    "warnings.filterwarnings(\"ignore\")"
   ]
  },
  {
   "cell_type": "code",
   "execution_count": null,
   "id": "e79c3f52-76c7-4708-916c-22181e8c4275",
   "metadata": {
    "tags": []
   },
   "outputs": [],
   "source": [
    "import requests\n",
    "from bs4 import BeautifulSoup\n",
    "\n",
    "def get_coordinates(city):\n",
    "    base_url = 'https://www.google.com/maps/search/'\n",
    "    search_url = f'{base_url}{city}'\n",
    "    \n",
    "    # Send an HTTP GET request to fetch the search results page\n",
    "    response = requests.get(search_url)\n",
    "    if response.status_code != 200:\n",
    "        print(f\"Error: Unable to fetch search results for '{city}'.\")\n",
    "        return None, None\n",
    "    \n",
    "    # Parse the HTML content with BeautifulSoup\n",
    "    soup = BeautifulSoup(response.text, 'html.parser')\n",
    "    \n",
    "    # Find the latitude and longitude from the search results page\n",
    "    try:\n",
    "        coordinates = soup.find('meta', property='place:location')['content'].split(',')\n",
    "        latitude, longitude = float(coordinates[0]), float(coordinates[1])\n",
    "    except Exception as e:\n",
    "        print(f\"Error: Unable to fetch coordinates for '{city}'.\")\n",
    "        latitude, longitude = None, None\n",
    "    \n",
    "    return latitude, longitude\n",
    "\n",
    "def main():\n",
    "    city = input(\"Enter the name of the city: \")\n",
    "    latitude, longitude = get_coordinates(city)\n",
    "    if latitude is not None and longitude is not None:\n",
    "        print(f\"Coordinates of '{city}': Latitude: {latitude}, Longitude: {longitude}\")\n",
    "    else:\n",
    "        print(f\"Coordinates not found for '{city}'.\")\n",
    "\n",
    "if __name__ == \"__main__\":\n",
    "    main()"
   ]
  },
  {
   "cell_type": "markdown",
   "id": "fc71653d-8348-41a6-a7d1-19e1e7c17097",
   "metadata": {},
   "source": [
    "Method 2- Using Selenium"
   ]
  },
  {
   "cell_type": "code",
   "execution_count": 3,
   "id": "f0808ab9-b652-4587-809d-7e3c0fb8d106",
   "metadata": {
    "tags": []
   },
   "outputs": [],
   "source": [
    "driver = webdriver.Chrome()"
   ]
  },
  {
   "cell_type": "code",
   "execution_count": 4,
   "id": "6c14ff9b-4cc1-4481-abd8-5b2acace6aca",
   "metadata": {
    "tags": []
   },
   "outputs": [],
   "source": [
    "driver.get(\"https://www.latlong.net/\")"
   ]
  },
  {
   "cell_type": "code",
   "execution_count": 5,
   "id": "c77947b5-67dd-4931-8b0d-8d889f667b49",
   "metadata": {
    "tags": []
   },
   "outputs": [],
   "source": [
    "search_keyword = driver.find_element(By.ID, \"place\")\n",
    "search_keyword.clear()\n",
    "search_keyword.send_keys('Gurgaon')"
   ]
  },
  {
   "cell_type": "code",
   "execution_count": 9,
   "id": "628e2fe6-9179-45d0-8590-6054f9b084d0",
   "metadata": {
    "tags": []
   },
   "outputs": [],
   "source": [
    "search_keyword = driver.find_element(By.CLASS_NAME, \"button\")\n",
    "search_keyword.click()"
   ]
  },
  {
   "cell_type": "code",
   "execution_count": 32,
   "id": "cb80c253-e99d-4fb4-bdbe-085452c6e399",
   "metadata": {
    "tags": []
   },
   "outputs": [],
   "source": [
    "latitude_longitude=[]"
   ]
  },
  {
   "cell_type": "code",
   "execution_count": 33,
   "id": "04549706-a5f4-47b8-952a-1ed100c40576",
   "metadata": {},
   "outputs": [],
   "source": [
    "title_tags=driver.find_elements(By.XPATH,'/html/body/main/div[4]/div[1]/span[2]')\n",
    "for i in title_tags[0:1]:\n",
    "    title=i.text\n",
    "    latitude_longitude.append(title)"
   ]
  },
  {
   "cell_type": "code",
   "execution_count": 34,
   "id": "4dfd5f0b-c85b-4874-b951-c3554f64c6fa",
   "metadata": {
    "tags": []
   },
   "outputs": [],
   "source": [
    "print=(len(latitude_longitude))"
   ]
  },
  {
   "cell_type": "code",
   "execution_count": 35,
   "id": "df827f92-3cab-4555-9766-5fb9b1700d97",
   "metadata": {
    "tags": []
   },
   "outputs": [
    {
     "data": {
      "text/plain": [
       "1"
      ]
     },
     "execution_count": 35,
     "metadata": {},
     "output_type": "execute_result"
    }
   ],
   "source": [
    "print\n"
   ]
  },
  {
   "cell_type": "code",
   "execution_count": 37,
   "id": "9f1448c1-7272-4786-8e5a-cdb7ba90e342",
   "metadata": {
    "tags": []
   },
   "outputs": [
    {
     "data": {
      "text/html": [
       "<div>\n",
       "<style scoped>\n",
       "    .dataframe tbody tr th:only-of-type {\n",
       "        vertical-align: middle;\n",
       "    }\n",
       "\n",
       "    .dataframe tbody tr th {\n",
       "        vertical-align: top;\n",
       "    }\n",
       "\n",
       "    .dataframe thead th {\n",
       "        text-align: right;\n",
       "    }\n",
       "</style>\n",
       "<table border=\"1\" class=\"dataframe\">\n",
       "  <thead>\n",
       "    <tr style=\"text-align: right;\">\n",
       "      <th></th>\n",
       "      <th>Latitude-Longitude</th>\n",
       "    </tr>\n",
       "  </thead>\n",
       "  <tbody>\n",
       "    <tr>\n",
       "      <th>0</th>\n",
       "      <td>(28.459497, 77.026634)</td>\n",
       "    </tr>\n",
       "  </tbody>\n",
       "</table>\n",
       "</div>"
      ],
      "text/plain": [
       "       Latitude-Longitude\n",
       "0  (28.459497, 77.026634)"
      ]
     },
     "execution_count": 37,
     "metadata": {},
     "output_type": "execute_result"
    }
   ],
   "source": [
    "import pandas as pd\n",
    "df=pd.DataFrame({'Latitude-Longitude':latitude_longitude})\n",
    "df"
   ]
  },
  {
   "cell_type": "markdown",
   "id": "8f2a14bb-4827-4c34-9fae-1f3622e9c248",
   "metadata": {},
   "source": [
    "END OF QUESTION 5"
   ]
  },
  {
   "cell_type": "code",
   "execution_count": null,
   "id": "5c3924af-afec-43d5-bc23-745c85dfa6a9",
   "metadata": {},
   "outputs": [],
   "source": [
    "QUESTION 6"
   ]
  },
  {
   "cell_type": "code",
   "execution_count": 49,
   "id": "026ef916-d894-4281-b235-4fdb8f421666",
   "metadata": {
    "tags": []
   },
   "outputs": [
    {
     "name": "stdout",
     "output_type": "stream",
     "text": [
      "Defaulting to user installation because normal site-packages is not writeableNote: you may need to restart the kernel to use updated packages.\n",
      "\n",
      "Requirement already satisfied: selenium in c:\\programdata\\anaconda3\\lib\\site-packages (4.10.0)\n",
      "Requirement already satisfied: urllib3[socks]<3,>=1.26 in c:\\programdata\\anaconda3\\lib\\site-packages (from selenium) (1.26.16)\n",
      "Requirement already satisfied: trio~=0.17 in c:\\programdata\\anaconda3\\lib\\site-packages (from selenium) (0.22.2)\n",
      "Requirement already satisfied: trio-websocket~=0.9 in c:\\programdata\\anaconda3\\lib\\site-packages (from selenium) (0.10.3)\n",
      "Requirement already satisfied: certifi>=2021.10.8 in c:\\programdata\\anaconda3\\lib\\site-packages (from selenium) (2023.5.7)\n",
      "Requirement already satisfied: attrs>=20.1.0 in c:\\programdata\\anaconda3\\lib\\site-packages (from trio~=0.17->selenium) (22.1.0)\n",
      "Requirement already satisfied: sortedcontainers in c:\\programdata\\anaconda3\\lib\\site-packages (from trio~=0.17->selenium) (2.4.0)\n",
      "Requirement already satisfied: idna in c:\\programdata\\anaconda3\\lib\\site-packages (from trio~=0.17->selenium) (3.4)\n",
      "Requirement already satisfied: outcome in c:\\programdata\\anaconda3\\lib\\site-packages (from trio~=0.17->selenium) (1.2.0)\n",
      "Requirement already satisfied: sniffio in c:\\programdata\\anaconda3\\lib\\site-packages (from trio~=0.17->selenium) (1.2.0)\n",
      "Requirement already satisfied: cffi>=1.14 in c:\\programdata\\anaconda3\\lib\\site-packages (from trio~=0.17->selenium) (1.15.1)\n",
      "Requirement already satisfied: exceptiongroup in c:\\programdata\\anaconda3\\lib\\site-packages (from trio-websocket~=0.9->selenium) (1.1.2)\n",
      "Requirement already satisfied: wsproto>=0.14 in c:\\programdata\\anaconda3\\lib\\site-packages (from trio-websocket~=0.9->selenium) (1.2.0)\n",
      "Requirement already satisfied: PySocks!=1.5.7,<2.0,>=1.5.6 in c:\\programdata\\anaconda3\\lib\\site-packages (from urllib3[socks]<3,>=1.26->selenium) (1.7.1)\n",
      "Requirement already satisfied: pycparser in c:\\programdata\\anaconda3\\lib\\site-packages (from cffi>=1.14->trio~=0.17->selenium) (2.21)\n",
      "Requirement already satisfied: h11<1,>=0.9.0 in c:\\programdata\\anaconda3\\lib\\site-packages (from wsproto>=0.14->trio-websocket~=0.9->selenium) (0.14.0)\n"
     ]
    }
   ],
   "source": [
    "pip install selenium"
   ]
  },
  {
   "cell_type": "code",
   "execution_count": 50,
   "id": "758fdf95-b0ae-4b53-a53a-6d45871b87fa",
   "metadata": {
    "tags": []
   },
   "outputs": [
    {
     "name": "stdout",
     "output_type": "stream",
     "text": [
      "Defaulting to user installation because normal site-packages is not writeable\n",
      "Requirement already satisfied: webdriver-manager in c:\\programdata\\anaconda3\\lib\\site-packages (3.8.6)\n",
      "Requirement already satisfied: requests in c:\\programdata\\anaconda3\\lib\\site-packages (from webdriver-manager) (2.29.0)\n",
      "Requirement already satisfied: python-dotenv in c:\\programdata\\anaconda3\\lib\\site-packages (from webdriver-manager) (1.0.0)\n",
      "Requirement already satisfied: tqdm in c:\\programdata\\anaconda3\\lib\\site-packages (from webdriver-manager) (4.65.0)\n",
      "Requirement already satisfied: packaging in c:\\programdata\\anaconda3\\lib\\site-packages (from webdriver-manager) (23.0)\n",
      "Requirement already satisfied: charset-normalizer<4,>=2 in c:\\programdata\\anaconda3\\lib\\site-packages (from requests->webdriver-manager) (2.0.4)\n",
      "Requirement already satisfied: idna<4,>=2.5 in c:\\programdata\\anaconda3\\lib\\site-packages (from requests->webdriver-manager) (3.4)\n",
      "Requirement already satisfied: urllib3<1.27,>=1.21.1 in c:\\programdata\\anaconda3\\lib\\site-packages (from requests->webdriver-manager) (1.26.16)\n",
      "Requirement already satisfied: certifi>=2017.4.17 in c:\\programdata\\anaconda3\\lib\\site-packages (from requests->webdriver-manager) (2023.5.7)\n",
      "Requirement already satisfied: colorama in c:\\programdata\\anaconda3\\lib\\site-packages (from tqdm->webdriver-manager) (0.4.6)\n"
     ]
    }
   ],
   "source": [
    "!pip install webdriver-manager"
   ]
  },
  {
   "cell_type": "code",
   "execution_count": 51,
   "id": "0136fad5-64d3-4b61-a838-6d52f9c73315",
   "metadata": {
    "tags": []
   },
   "outputs": [
    {
     "name": "stdout",
     "output_type": "stream",
     "text": [
      "Defaulting to user installation because normal site-packages is not writeable\n",
      "Requirement already satisfied: selenium in c:\\programdata\\anaconda3\\lib\\site-packages (4.10.0)\n",
      "Requirement already satisfied: beautifulsoup4 in c:\\programdata\\anaconda3\\lib\\site-packages (4.12.2)\n",
      "Requirement already satisfied: pandas in c:\\programdata\\anaconda3\\lib\\site-packages (1.5.3)\n",
      "Requirement already satisfied: urllib3[socks]<3,>=1.26 in c:\\programdata\\anaconda3\\lib\\site-packages (from selenium) (1.26.16)\n",
      "Requirement already satisfied: trio~=0.17 in c:\\programdata\\anaconda3\\lib\\site-packages (from selenium) (0.22.2)\n",
      "Requirement already satisfied: trio-websocket~=0.9 in c:\\programdata\\anaconda3\\lib\\site-packages (from selenium) (0.10.3)\n",
      "Requirement already satisfied: certifi>=2021.10.8 in c:\\programdata\\anaconda3\\lib\\site-packages (from selenium) (2023.5.7)\n",
      "Requirement already satisfied: soupsieve>1.2 in c:\\programdata\\anaconda3\\lib\\site-packages (from beautifulsoup4) (2.4)\n",
      "Requirement already satisfied: python-dateutil>=2.8.1 in c:\\programdata\\anaconda3\\lib\\site-packages (from pandas) (2.8.2)\n",
      "Requirement already satisfied: pytz>=2020.1 in c:\\programdata\\anaconda3\\lib\\site-packages (from pandas) (2022.7)\n",
      "Requirement already satisfied: numpy>=1.21.0 in c:\\programdata\\anaconda3\\lib\\site-packages (from pandas) (1.24.3)\n",
      "Requirement already satisfied: six>=1.5 in c:\\programdata\\anaconda3\\lib\\site-packages (from python-dateutil>=2.8.1->pandas) (1.16.0)\n",
      "Requirement already satisfied: attrs>=20.1.0 in c:\\programdata\\anaconda3\\lib\\site-packages (from trio~=0.17->selenium) (22.1.0)\n",
      "Requirement already satisfied: sortedcontainers in c:\\programdata\\anaconda3\\lib\\site-packages (from trio~=0.17->selenium) (2.4.0)\n",
      "Requirement already satisfied: idna in c:\\programdata\\anaconda3\\lib\\site-packages (from trio~=0.17->selenium) (3.4)\n",
      "Requirement already satisfied: outcome in c:\\programdata\\anaconda3\\lib\\site-packages (from trio~=0.17->selenium) (1.2.0)\n",
      "Requirement already satisfied: sniffio in c:\\programdata\\anaconda3\\lib\\site-packages (from trio~=0.17->selenium) (1.2.0)\n",
      "Requirement already satisfied: cffi>=1.14 in c:\\programdata\\anaconda3\\lib\\site-packages (from trio~=0.17->selenium) (1.15.1)\n",
      "Requirement already satisfied: exceptiongroup in c:\\programdata\\anaconda3\\lib\\site-packages (from trio-websocket~=0.9->selenium) (1.1.2)\n",
      "Requirement already satisfied: wsproto>=0.14 in c:\\programdata\\anaconda3\\lib\\site-packages (from trio-websocket~=0.9->selenium) (1.2.0)\n",
      "Requirement already satisfied: PySocks!=1.5.7,<2.0,>=1.5.6 in c:\\programdata\\anaconda3\\lib\\site-packages (from urllib3[socks]<3,>=1.26->selenium) (1.7.1)\n",
      "Requirement already satisfied: pycparser in c:\\programdata\\anaconda3\\lib\\site-packages (from cffi>=1.14->trio~=0.17->selenium) (2.21)\n",
      "Requirement already satisfied: h11<1,>=0.9.0 in c:\\programdata\\anaconda3\\lib\\site-packages (from wsproto>=0.14->trio-websocket~=0.9->selenium) (0.14.0)\n",
      "Note: you may need to restart the kernel to use updated packages.\n"
     ]
    }
   ],
   "source": [
    "pip install selenium beautifulsoup4 pandas"
   ]
  },
  {
   "cell_type": "code",
   "execution_count": 52,
   "id": "6a0c49fb-62ae-40f9-a624-cdb682724df1",
   "metadata": {
    "tags": []
   },
   "outputs": [],
   "source": [
    "from selenium import webdriver\n",
    "from selenium.webdriver.common.by import By\n",
    "from selenium.webdriver.support.ui import WebDriverWait\n",
    "from webdriver_manager.chrome import ChromeDriverManager\n",
    "from selenium.common.exceptions import TimeoutException, NoSuchElementException, WebDriverException\n",
    "from selenium.webdriver.support import expected_conditions as EC\n",
    "from selenium.webdriver.chrome.service import Service\n",
    "from selenium.webdriver.chrome.options import Options\n",
    "from selenium.webdriver.chrome.webdriver import WebDriver\n",
    "import pandas as pd\n",
    "import requests\n",
    "import time\n",
    "import warnings\n",
    "warnings.filterwarnings(\"ignore\")"
   ]
  },
  {
   "cell_type": "code",
   "execution_count": 53,
   "id": "acf47095-e403-4247-8d33-284ae55cd02c",
   "metadata": {
    "tags": []
   },
   "outputs": [],
   "source": [
    "driver = webdriver.Chrome()"
   ]
  },
  {
   "cell_type": "code",
   "execution_count": 54,
   "id": "6d86d580-1357-400c-9435-bd7124b3d78c",
   "metadata": {
    "tags": []
   },
   "outputs": [],
   "source": [
    "driver.get(\"https://www.digit.in/\")"
   ]
  },
  {
   "cell_type": "code",
   "execution_count": 55,
   "id": "4d28daff-0c43-4e11-bc90-6042386202b0",
   "metadata": {
    "tags": []
   },
   "outputs": [],
   "source": [
    "search_keyword = driver.find_element(By.XPATH, \"/html/body/div[2]/div/ul/li[2]/span\")\n",
    "search_keyword.click()"
   ]
  },
  {
   "cell_type": "code",
   "execution_count": 56,
   "id": "7e59924c-0760-42c9-a758-5f8e3b403351",
   "metadata": {
    "tags": []
   },
   "outputs": [],
   "source": [
    "search_keyword = driver.find_element(By.XPATH, \"/html/body/div[2]/div/ul/li[2]/div[2]/div/div[2]/div/div[5]/a/div\")\n",
    "search_keyword.click()"
   ]
  },
  {
   "cell_type": "code",
   "execution_count": 57,
   "id": "5867f68b-3ffc-42c3-b9aa-7064b61f92ce",
   "metadata": {
    "tags": []
   },
   "outputs": [],
   "source": [
    "search_keyword = driver.find_element(By.XPATH, \"/html/body/div[9]/div/div[4]/div[1]/div[1]/div/div[2]/div[2]/form/div[9]/div/div/ul/li[2]/label/input\")\n",
    "search_keyword.click()\n"
   ]
  },
  {
   "cell_type": "code",
   "execution_count": 65,
   "id": "842f3581-07c3-48f0-939f-13d38057d6cb",
   "metadata": {
    "tags": []
   },
   "outputs": [],
   "source": [
    "MODEL_NAME=[]\n",
    "OS=[]\n",
    "DISPLAY=[]\n",
    "MEMORY=[]\n",
    "PROCESSOR=[]\n",
    "PRICE=[]"
   ]
  },
  {
   "cell_type": "code",
   "execution_count": 66,
   "id": "2b7fec48-adef-4148-86a5-0a329e1c6886",
   "metadata": {
    "tags": []
   },
   "outputs": [],
   "source": [
    "title_tags=driver.find_elements(By.CLASS_NAME,\"datahreflink\")\n",
    "for i in title_tags[0:20]:\n",
    "    title=i.text\n",
    "    MODEL_NAME.append(title)"
   ]
  },
  {
   "cell_type": "code",
   "execution_count": 67,
   "id": "e8314663-2941-4e3c-9a0b-27d71a33962e",
   "metadata": {
    "tags": []
   },
   "outputs": [],
   "source": [
    "title_tags=driver.find_elements(By.CLASS_NAME,\"value\")\n",
    "for i in title_tags[0:20]:\n",
    "    title=i.text\n",
    "    OS.append(title)"
   ]
  },
  {
   "cell_type": "code",
   "execution_count": 68,
   "id": "28156a6c-f5ec-4c77-a107-849db9fa69e1",
   "metadata": {
    "tags": []
   },
   "outputs": [],
   "source": [
    "title_tags=driver.find_elements(By.CLASS_NAME,\"value\")\n",
    "for i in title_tags[0:20]:\n",
    "    title=i.text\n",
    "    DISPLAY.append(title)"
   ]
  },
  {
   "cell_type": "code",
   "execution_count": 69,
   "id": "8ca64a50-5e7f-453d-a2d8-02859b2035c5",
   "metadata": {
    "tags": []
   },
   "outputs": [],
   "source": [
    "title_tags=driver.find_elements(By.CLASS_NAME,\"value\")\n",
    "for i in title_tags[0:20]:\n",
    "    title=i.text\n",
    "    MEMORY.append(title)"
   ]
  },
  {
   "cell_type": "code",
   "execution_count": 70,
   "id": "40ea36ac-ba8c-4e76-92b2-2cfdd3f71ba6",
   "metadata": {
    "tags": []
   },
   "outputs": [],
   "source": [
    "title_tags=driver.find_elements(By.CLASS_NAME,\"value\")\n",
    "for i in title_tags[0:20]:\n",
    "    title=i.text\n",
    "    PROCESSOR.append(title)"
   ]
  },
  {
   "cell_type": "code",
   "execution_count": 71,
   "id": "ec9717a8-8afc-4e3a-839b-a9f28fbb4e41",
   "metadata": {
    "tags": []
   },
   "outputs": [],
   "source": [
    "title_tags=driver.find_elements(By.CLASS_NAME,\"price\")\n",
    "for i in title_tags[0:20]:\n",
    "    title=i.text\n",
    "    PRICE.append(title)"
   ]
  },
  {
   "cell_type": "code",
   "execution_count": 72,
   "id": "9a9aeed1-da18-4e40-b0f3-11197d512316",
   "metadata": {
    "tags": []
   },
   "outputs": [],
   "source": [
    "print=(len(MODEL_NAME),len(OS),len(DISPLAY),len(MEMORY),len(PROCESSOR),len(PRICE))"
   ]
  },
  {
   "cell_type": "code",
   "execution_count": 73,
   "id": "3c6f8cf3-1bd5-4913-be2f-50da76eeecc5",
   "metadata": {
    "tags": []
   },
   "outputs": [
    {
     "data": {
      "text/plain": [
       "(20, 20, 20, 20, 20, 20)"
      ]
     },
     "execution_count": 73,
     "metadata": {},
     "output_type": "execute_result"
    }
   ],
   "source": [
    "print\n"
   ]
  },
  {
   "cell_type": "code",
   "execution_count": 74,
   "id": "ca8c6c47-4550-448e-9ecf-1afd991463d7",
   "metadata": {
    "tags": []
   },
   "outputs": [
    {
     "data": {
      "text/html": [
       "<div>\n",
       "<style scoped>\n",
       "    .dataframe tbody tr th:only-of-type {\n",
       "        vertical-align: middle;\n",
       "    }\n",
       "\n",
       "    .dataframe tbody tr th {\n",
       "        vertical-align: top;\n",
       "    }\n",
       "\n",
       "    .dataframe thead th {\n",
       "        text-align: right;\n",
       "    }\n",
       "</style>\n",
       "<table border=\"1\" class=\"dataframe\">\n",
       "  <thead>\n",
       "    <tr style=\"text-align: right;\">\n",
       "      <th></th>\n",
       "      <th>MODEL NAME</th>\n",
       "      <th>OS</th>\n",
       "      <th>DISPLAY</th>\n",
       "      <th>MEMORY</th>\n",
       "      <th>PROCESSOR</th>\n",
       "      <th>PRICE</th>\n",
       "    </tr>\n",
       "  </thead>\n",
       "  <tbody>\n",
       "    <tr>\n",
       "      <th>0</th>\n",
       "      <td></td>\n",
       "      <td>OS\\nWindows 11 Home</td>\n",
       "      <td>OS\\nWindows 11 Home</td>\n",
       "      <td>OS\\nWindows 11 Home</td>\n",
       "      <td>OS\\nWindows 11 Home</td>\n",
       "      <td>₹114990</td>\n",
       "    </tr>\n",
       "    <tr>\n",
       "      <th>1</th>\n",
       "      <td>Lenovo LOQ 15IRH8</td>\n",
       "      <td>Display\\n15.6\" (1920 x 1080)</td>\n",
       "      <td>Display\\n15.6\" (1920 x 1080)</td>\n",
       "      <td>Display\\n15.6\" (1920 x 1080)</td>\n",
       "      <td>Display\\n15.6\" (1920 x 1080)</td>\n",
       "      <td>₹238490</td>\n",
       "    </tr>\n",
       "    <tr>\n",
       "      <th>2</th>\n",
       "      <td>See Full Specifications</td>\n",
       "      <td>Processor\\n13th Gen Intel Core i7-13820H | 2.4...</td>\n",
       "      <td>Processor\\n13th Gen Intel Core i7-13820H | 2.4...</td>\n",
       "      <td>Processor\\n13th Gen Intel Core i7-13820H | 2.4...</td>\n",
       "      <td>Processor\\n13th Gen Intel Core i7-13820H | 2.4...</td>\n",
       "      <td>₹143152</td>\n",
       "    </tr>\n",
       "    <tr>\n",
       "      <th>3</th>\n",
       "      <td></td>\n",
       "      <td>Memory\\n512 GB SSD/16 GB DDR5</td>\n",
       "      <td>Memory\\n512 GB SSD/16 GB DDR5</td>\n",
       "      <td>Memory\\n512 GB SSD/16 GB DDR5</td>\n",
       "      <td>Memory\\n512 GB SSD/16 GB DDR5</td>\n",
       "      <td>₹71990</td>\n",
       "    </tr>\n",
       "    <tr>\n",
       "      <th>4</th>\n",
       "      <td>Dell Alienware x14 R2 Gaming Laptop</td>\n",
       "      <td>OS\\nWindows 11 Home</td>\n",
       "      <td>OS\\nWindows 11 Home</td>\n",
       "      <td>OS\\nWindows 11 Home</td>\n",
       "      <td>OS\\nWindows 11 Home</td>\n",
       "      <td>₹154990</td>\n",
       "    </tr>\n",
       "    <tr>\n",
       "      <th>5</th>\n",
       "      <td>See Full Specifications</td>\n",
       "      <td>Display\\n14\" (2560 x 1600)</td>\n",
       "      <td>Display\\n14\" (2560 x 1600)</td>\n",
       "      <td>Display\\n14\" (2560 x 1600)</td>\n",
       "      <td>Display\\n14\" (2560 x 1600)</td>\n",
       "      <td>₹179990</td>\n",
       "    </tr>\n",
       "    <tr>\n",
       "      <th>6</th>\n",
       "      <td></td>\n",
       "      <td>Processor\\n13th Gen Intel Core i7-13620H | 4.9...</td>\n",
       "      <td>Processor\\n13th Gen Intel Core i7-13620H | 4.9...</td>\n",
       "      <td>Processor\\n13th Gen Intel Core i7-13620H | 4.9...</td>\n",
       "      <td>Processor\\n13th Gen Intel Core i7-13620H | 4.9...</td>\n",
       "      <td>₹144990</td>\n",
       "    </tr>\n",
       "    <tr>\n",
       "      <th>7</th>\n",
       "      <td>Hp Victus Gaming Laptop 16-r0075TX</td>\n",
       "      <td>Memory\\n1 TB SSD/32 GB DDR5</td>\n",
       "      <td>Memory\\n1 TB SSD/32 GB DDR5</td>\n",
       "      <td>Memory\\n1 TB SSD/32 GB DDR5</td>\n",
       "      <td>Memory\\n1 TB SSD/32 GB DDR5</td>\n",
       "      <td>₹209990</td>\n",
       "    </tr>\n",
       "    <tr>\n",
       "      <th>8</th>\n",
       "      <td>See Full Specifications</td>\n",
       "      <td>OS\\nWindows 11 Home</td>\n",
       "      <td>OS\\nWindows 11 Home</td>\n",
       "      <td>OS\\nWindows 11 Home</td>\n",
       "      <td>OS\\nWindows 11 Home</td>\n",
       "      <td>₹164990</td>\n",
       "    </tr>\n",
       "    <tr>\n",
       "      <th>9</th>\n",
       "      <td></td>\n",
       "      <td>Display\\n16\" (1920 x 1080)</td>\n",
       "      <td>Display\\n16\" (1920 x 1080)</td>\n",
       "      <td>Display\\n16\" (1920 x 1080)</td>\n",
       "      <td>Display\\n16\" (1920 x 1080)</td>\n",
       "      <td>₹124990</td>\n",
       "    </tr>\n",
       "    <tr>\n",
       "      <th>10</th>\n",
       "      <td>MSI GF63 Thin 11th Gen Core i7-11800H (11UC-12...</td>\n",
       "      <td>Processor\\n13th Gen Intel Core i5-13500HX | 4....</td>\n",
       "      <td>Processor\\n13th Gen Intel Core i5-13500HX | 4....</td>\n",
       "      <td>Processor\\n13th Gen Intel Core i5-13500HX | 4....</td>\n",
       "      <td>Processor\\n13th Gen Intel Core i5-13500HX | 4....</td>\n",
       "      <td>₹152990</td>\n",
       "    </tr>\n",
       "    <tr>\n",
       "      <th>11</th>\n",
       "      <td>See Full Specifications</td>\n",
       "      <td>Memory\\n512 GB SSD/16 GB DDR5</td>\n",
       "      <td>Memory\\n512 GB SSD/16 GB DDR5</td>\n",
       "      <td>Memory\\n512 GB SSD/16 GB DDR5</td>\n",
       "      <td>Memory\\n512 GB SSD/16 GB DDR5</td>\n",
       "      <td>₹169990</td>\n",
       "    </tr>\n",
       "    <tr>\n",
       "      <th>12</th>\n",
       "      <td></td>\n",
       "      <td>OS\\nWindows 11 Home</td>\n",
       "      <td>OS\\nWindows 11 Home</td>\n",
       "      <td>OS\\nWindows 11 Home</td>\n",
       "      <td>OS\\nWindows 11 Home</td>\n",
       "      <td>₹86990</td>\n",
       "    </tr>\n",
       "    <tr>\n",
       "      <th>13</th>\n",
       "      <td>ASUS TUF Gaming F15 13th Gen Core i9-13900H (F...</td>\n",
       "      <td>Display\\n15.6\" (1920 x 1080)</td>\n",
       "      <td>Display\\n15.6\" (1920 x 1080)</td>\n",
       "      <td>Display\\n15.6\" (1920 x 1080)</td>\n",
       "      <td>Display\\n15.6\" (1920 x 1080)</td>\n",
       "      <td>₹70990</td>\n",
       "    </tr>\n",
       "    <tr>\n",
       "      <th>14</th>\n",
       "      <td>See Full Specifications</td>\n",
       "      <td>Processor\\n11th Gen Intel Core i7-11800H | 3 GHz</td>\n",
       "      <td>Processor\\n11th Gen Intel Core i7-11800H | 3 GHz</td>\n",
       "      <td>Processor\\n11th Gen Intel Core i7-11800H | 3 GHz</td>\n",
       "      <td>Processor\\n11th Gen Intel Core i7-11800H | 3 GHz</td>\n",
       "      <td>₹152990</td>\n",
       "    </tr>\n",
       "    <tr>\n",
       "      <th>15</th>\n",
       "      <td></td>\n",
       "      <td>Memory\\n256 GB SSD/16 GB DDR4</td>\n",
       "      <td>Memory\\n256 GB SSD/16 GB DDR4</td>\n",
       "      <td>Memory\\n256 GB SSD/16 GB DDR4</td>\n",
       "      <td>Memory\\n256 GB SSD/16 GB DDR4</td>\n",
       "      <td>₹169990</td>\n",
       "    </tr>\n",
       "    <tr>\n",
       "      <th>16</th>\n",
       "      <td>ASUS ROG Zephyrus G16 13th Gen Core i9-13900H ...</td>\n",
       "      <td>OS\\nWindows 11 Home</td>\n",
       "      <td>OS\\nWindows 11 Home</td>\n",
       "      <td>OS\\nWindows 11 Home</td>\n",
       "      <td>OS\\nWindows 11 Home</td>\n",
       "      <td>₹284990</td>\n",
       "    </tr>\n",
       "    <tr>\n",
       "      <th>17</th>\n",
       "      <td>See Full Specifications</td>\n",
       "      <td>Display\\n15.6\" (1920 x 1080)</td>\n",
       "      <td>Display\\n15.6\" (1920 x 1080)</td>\n",
       "      <td>Display\\n15.6\" (1920 x 1080)</td>\n",
       "      <td>Display\\n15.6\" (1920 x 1080)</td>\n",
       "      <td>₹279990</td>\n",
       "    </tr>\n",
       "    <tr>\n",
       "      <th>18</th>\n",
       "      <td></td>\n",
       "      <td>Processor\\n13th Gen Intel Core i9-13900H | 5.4...</td>\n",
       "      <td>Processor\\n13th Gen Intel Core i9-13900H | 5.4...</td>\n",
       "      <td>Processor\\n13th Gen Intel Core i9-13900H | 5.4...</td>\n",
       "      <td>Processor\\n13th Gen Intel Core i9-13900H | 5.4...</td>\n",
       "      <td>₹129990</td>\n",
       "    </tr>\n",
       "    <tr>\n",
       "      <th>19</th>\n",
       "      <td>ASUS ROG Strix G16 13th Gen Core i5-13450HX (G...</td>\n",
       "      <td>Memory\\n1 TB SSD/16 GB DDR4</td>\n",
       "      <td>Memory\\n1 TB SSD/16 GB DDR4</td>\n",
       "      <td>Memory\\n1 TB SSD/16 GB DDR4</td>\n",
       "      <td>Memory\\n1 TB SSD/16 GB DDR4</td>\n",
       "      <td></td>\n",
       "    </tr>\n",
       "  </tbody>\n",
       "</table>\n",
       "</div>"
      ],
      "text/plain": [
       "                                           MODEL NAME  \\\n",
       "0                                                       \n",
       "1                                   Lenovo LOQ 15IRH8   \n",
       "2                             See Full Specifications   \n",
       "3                                                       \n",
       "4                 Dell Alienware x14 R2 Gaming Laptop   \n",
       "5                             See Full Specifications   \n",
       "6                                                       \n",
       "7                  Hp Victus Gaming Laptop 16-r0075TX   \n",
       "8                             See Full Specifications   \n",
       "9                                                       \n",
       "10  MSI GF63 Thin 11th Gen Core i7-11800H (11UC-12...   \n",
       "11                            See Full Specifications   \n",
       "12                                                      \n",
       "13  ASUS TUF Gaming F15 13th Gen Core i9-13900H (F...   \n",
       "14                            See Full Specifications   \n",
       "15                                                      \n",
       "16  ASUS ROG Zephyrus G16 13th Gen Core i9-13900H ...   \n",
       "17                            See Full Specifications   \n",
       "18                                                      \n",
       "19  ASUS ROG Strix G16 13th Gen Core i5-13450HX (G...   \n",
       "\n",
       "                                                   OS  \\\n",
       "0                                 OS\\nWindows 11 Home   \n",
       "1                        Display\\n15.6\" (1920 x 1080)   \n",
       "2   Processor\\n13th Gen Intel Core i7-13820H | 2.4...   \n",
       "3                       Memory\\n512 GB SSD/16 GB DDR5   \n",
       "4                                 OS\\nWindows 11 Home   \n",
       "5                          Display\\n14\" (2560 x 1600)   \n",
       "6   Processor\\n13th Gen Intel Core i7-13620H | 4.9...   \n",
       "7                         Memory\\n1 TB SSD/32 GB DDR5   \n",
       "8                                 OS\\nWindows 11 Home   \n",
       "9                          Display\\n16\" (1920 x 1080)   \n",
       "10  Processor\\n13th Gen Intel Core i5-13500HX | 4....   \n",
       "11                      Memory\\n512 GB SSD/16 GB DDR5   \n",
       "12                                OS\\nWindows 11 Home   \n",
       "13                       Display\\n15.6\" (1920 x 1080)   \n",
       "14   Processor\\n11th Gen Intel Core i7-11800H | 3 GHz   \n",
       "15                      Memory\\n256 GB SSD/16 GB DDR4   \n",
       "16                                OS\\nWindows 11 Home   \n",
       "17                       Display\\n15.6\" (1920 x 1080)   \n",
       "18  Processor\\n13th Gen Intel Core i9-13900H | 5.4...   \n",
       "19                        Memory\\n1 TB SSD/16 GB DDR4   \n",
       "\n",
       "                                              DISPLAY  \\\n",
       "0                                 OS\\nWindows 11 Home   \n",
       "1                        Display\\n15.6\" (1920 x 1080)   \n",
       "2   Processor\\n13th Gen Intel Core i7-13820H | 2.4...   \n",
       "3                       Memory\\n512 GB SSD/16 GB DDR5   \n",
       "4                                 OS\\nWindows 11 Home   \n",
       "5                          Display\\n14\" (2560 x 1600)   \n",
       "6   Processor\\n13th Gen Intel Core i7-13620H | 4.9...   \n",
       "7                         Memory\\n1 TB SSD/32 GB DDR5   \n",
       "8                                 OS\\nWindows 11 Home   \n",
       "9                          Display\\n16\" (1920 x 1080)   \n",
       "10  Processor\\n13th Gen Intel Core i5-13500HX | 4....   \n",
       "11                      Memory\\n512 GB SSD/16 GB DDR5   \n",
       "12                                OS\\nWindows 11 Home   \n",
       "13                       Display\\n15.6\" (1920 x 1080)   \n",
       "14   Processor\\n11th Gen Intel Core i7-11800H | 3 GHz   \n",
       "15                      Memory\\n256 GB SSD/16 GB DDR4   \n",
       "16                                OS\\nWindows 11 Home   \n",
       "17                       Display\\n15.6\" (1920 x 1080)   \n",
       "18  Processor\\n13th Gen Intel Core i9-13900H | 5.4...   \n",
       "19                        Memory\\n1 TB SSD/16 GB DDR4   \n",
       "\n",
       "                                               MEMORY  \\\n",
       "0                                 OS\\nWindows 11 Home   \n",
       "1                        Display\\n15.6\" (1920 x 1080)   \n",
       "2   Processor\\n13th Gen Intel Core i7-13820H | 2.4...   \n",
       "3                       Memory\\n512 GB SSD/16 GB DDR5   \n",
       "4                                 OS\\nWindows 11 Home   \n",
       "5                          Display\\n14\" (2560 x 1600)   \n",
       "6   Processor\\n13th Gen Intel Core i7-13620H | 4.9...   \n",
       "7                         Memory\\n1 TB SSD/32 GB DDR5   \n",
       "8                                 OS\\nWindows 11 Home   \n",
       "9                          Display\\n16\" (1920 x 1080)   \n",
       "10  Processor\\n13th Gen Intel Core i5-13500HX | 4....   \n",
       "11                      Memory\\n512 GB SSD/16 GB DDR5   \n",
       "12                                OS\\nWindows 11 Home   \n",
       "13                       Display\\n15.6\" (1920 x 1080)   \n",
       "14   Processor\\n11th Gen Intel Core i7-11800H | 3 GHz   \n",
       "15                      Memory\\n256 GB SSD/16 GB DDR4   \n",
       "16                                OS\\nWindows 11 Home   \n",
       "17                       Display\\n15.6\" (1920 x 1080)   \n",
       "18  Processor\\n13th Gen Intel Core i9-13900H | 5.4...   \n",
       "19                        Memory\\n1 TB SSD/16 GB DDR4   \n",
       "\n",
       "                                            PROCESSOR    PRICE  \n",
       "0                                 OS\\nWindows 11 Home  ₹114990  \n",
       "1                        Display\\n15.6\" (1920 x 1080)  ₹238490  \n",
       "2   Processor\\n13th Gen Intel Core i7-13820H | 2.4...  ₹143152  \n",
       "3                       Memory\\n512 GB SSD/16 GB DDR5   ₹71990  \n",
       "4                                 OS\\nWindows 11 Home  ₹154990  \n",
       "5                          Display\\n14\" (2560 x 1600)  ₹179990  \n",
       "6   Processor\\n13th Gen Intel Core i7-13620H | 4.9...  ₹144990  \n",
       "7                         Memory\\n1 TB SSD/32 GB DDR5  ₹209990  \n",
       "8                                 OS\\nWindows 11 Home  ₹164990  \n",
       "9                          Display\\n16\" (1920 x 1080)  ₹124990  \n",
       "10  Processor\\n13th Gen Intel Core i5-13500HX | 4....  ₹152990  \n",
       "11                      Memory\\n512 GB SSD/16 GB DDR5  ₹169990  \n",
       "12                                OS\\nWindows 11 Home   ₹86990  \n",
       "13                       Display\\n15.6\" (1920 x 1080)   ₹70990  \n",
       "14   Processor\\n11th Gen Intel Core i7-11800H | 3 GHz  ₹152990  \n",
       "15                      Memory\\n256 GB SSD/16 GB DDR4  ₹169990  \n",
       "16                                OS\\nWindows 11 Home  ₹284990  \n",
       "17                       Display\\n15.6\" (1920 x 1080)  ₹279990  \n",
       "18  Processor\\n13th Gen Intel Core i9-13900H | 5.4...  ₹129990  \n",
       "19                        Memory\\n1 TB SSD/16 GB DDR4           "
      ]
     },
     "execution_count": 74,
     "metadata": {},
     "output_type": "execute_result"
    }
   ],
   "source": [
    "import pandas as pd\n",
    "df=pd.DataFrame({'MODEL NAME':MODEL_NAME,'OS':OS, 'DISPLAY':DISPLAY, 'MEMORY':MEMORY,'PROCESSOR':PROCESSOR,'PRICE':PRICE})\n",
    "df"
   ]
  },
  {
   "cell_type": "markdown",
   "id": "abfd9129-94cc-468a-9c1f-771a805c8388",
   "metadata": {},
   "source": [
    "END OF QUESTION 6"
   ]
  },
  {
   "cell_type": "markdown",
   "id": "8a823472-90dc-49f1-8fd6-5fce47afa1a2",
   "metadata": {},
   "source": [
    "QUESTION 7"
   ]
  },
  {
   "cell_type": "code",
   "execution_count": 1,
   "id": "2d9dac76-4ce2-42f3-b1dc-8672222bfca7",
   "metadata": {
    "tags": []
   },
   "outputs": [
    {
     "name": "stdout",
     "output_type": "stream",
     "text": [
      "Defaulting to user installation because normal site-packages is not writeable\n",
      "Requirement already satisfied: selenium in c:\\programdata\\anaconda3\\lib\\site-packages (4.10.0)\n",
      "Requirement already satisfied: urllib3[socks]<3,>=1.26 in c:\\programdata\\anaconda3\\lib\\site-packages (from selenium) (1.26.16)\n",
      "Requirement already satisfied: trio~=0.17 in c:\\programdata\\anaconda3\\lib\\site-packages (from selenium) (0.22.2)\n",
      "Requirement already satisfied: trio-websocket~=0.9 in c:\\programdata\\anaconda3\\lib\\site-packages (from selenium) (0.10.3)\n",
      "Requirement already satisfied: certifi>=2021.10.8 in c:\\programdata\\anaconda3\\lib\\site-packages (from selenium) (2023.5.7)\n",
      "Requirement already satisfied: attrs>=20.1.0 in c:\\programdata\\anaconda3\\lib\\site-packages (from trio~=0.17->selenium) (22.1.0)\n",
      "Requirement already satisfied: sortedcontainers in c:\\programdata\\anaconda3\\lib\\site-packages (from trio~=0.17->selenium) (2.4.0)\n",
      "Requirement already satisfied: idna in c:\\programdata\\anaconda3\\lib\\site-packages (from trio~=0.17->selenium) (3.4)\n",
      "Requirement already satisfied: outcome in c:\\programdata\\anaconda3\\lib\\site-packages (from trio~=0.17->selenium) (1.2.0)\n",
      "Requirement already satisfied: sniffio in c:\\programdata\\anaconda3\\lib\\site-packages (from trio~=0.17->selenium) (1.2.0)\n",
      "Requirement already satisfied: cffi>=1.14 in c:\\programdata\\anaconda3\\lib\\site-packages (from trio~=0.17->selenium) (1.15.1)\n",
      "Requirement already satisfied: exceptiongroup in c:\\programdata\\anaconda3\\lib\\site-packages (from trio-websocket~=0.9->selenium) (1.1.2)\n",
      "Requirement already satisfied: wsproto>=0.14 in c:\\programdata\\anaconda3\\lib\\site-packages (from trio-websocket~=0.9->selenium) (1.2.0)\n",
      "Requirement already satisfied: PySocks!=1.5.7,<2.0,>=1.5.6 in c:\\programdata\\anaconda3\\lib\\site-packages (from urllib3[socks]<3,>=1.26->selenium) (1.7.1)\n",
      "Requirement already satisfied: pycparser in c:\\programdata\\anaconda3\\lib\\site-packages (from cffi>=1.14->trio~=0.17->selenium) (2.21)\n",
      "Requirement already satisfied: h11<1,>=0.9.0 in c:\\programdata\\anaconda3\\lib\\site-packages (from wsproto>=0.14->trio-websocket~=0.9->selenium) (0.14.0)\n",
      "Note: you may need to restart the kernel to use updated packages.\n"
     ]
    }
   ],
   "source": [
    "pip install selenium"
   ]
  },
  {
   "cell_type": "code",
   "execution_count": 1,
   "id": "07fd2557-5c7a-4e04-a9cd-4d3c18e799cc",
   "metadata": {
    "tags": []
   },
   "outputs": [
    {
     "name": "stdout",
     "output_type": "stream",
     "text": [
      "Defaulting to user installation because normal site-packages is not writeable\n",
      "Requirement already satisfied: webdriver-manager in c:\\programdata\\anaconda3\\lib\\site-packages (3.8.6)\n",
      "Requirement already satisfied: requests in c:\\programdata\\anaconda3\\lib\\site-packages (from webdriver-manager) (2.29.0)\n",
      "Requirement already satisfied: python-dotenv in c:\\programdata\\anaconda3\\lib\\site-packages (from webdriver-manager) (1.0.0)\n",
      "Requirement already satisfied: tqdm in c:\\programdata\\anaconda3\\lib\\site-packages (from webdriver-manager) (4.65.0)\n",
      "Requirement already satisfied: packaging in c:\\programdata\\anaconda3\\lib\\site-packages (from webdriver-manager) (23.0)\n",
      "Requirement already satisfied: charset-normalizer<4,>=2 in c:\\programdata\\anaconda3\\lib\\site-packages (from requests->webdriver-manager) (2.0.4)\n",
      "Requirement already satisfied: idna<4,>=2.5 in c:\\programdata\\anaconda3\\lib\\site-packages (from requests->webdriver-manager) (3.4)\n",
      "Requirement already satisfied: urllib3<1.27,>=1.21.1 in c:\\programdata\\anaconda3\\lib\\site-packages (from requests->webdriver-manager) (1.26.16)\n",
      "Requirement already satisfied: certifi>=2017.4.17 in c:\\programdata\\anaconda3\\lib\\site-packages (from requests->webdriver-manager) (2023.5.7)\n",
      "Requirement already satisfied: colorama in c:\\programdata\\anaconda3\\lib\\site-packages (from tqdm->webdriver-manager) (0.4.6)\n"
     ]
    }
   ],
   "source": [
    "!pip install webdriver-manager"
   ]
  },
  {
   "cell_type": "code",
   "execution_count": 2,
   "id": "f730199c-a3cd-4dc9-986f-56b317af6c27",
   "metadata": {
    "tags": []
   },
   "outputs": [
    {
     "name": "stdout",
     "output_type": "stream",
     "text": [
      "Defaulting to user installation because normal site-packages is not writeable\n",
      "Requirement already satisfied: selenium in c:\\programdata\\anaconda3\\lib\\site-packages (4.10.0)\n",
      "Requirement already satisfied: beautifulsoup4 in c:\\programdata\\anaconda3\\lib\\site-packages (4.12.2)\n",
      "Requirement already satisfied: pandas in c:\\programdata\\anaconda3\\lib\\site-packages (1.5.3)\n",
      "Requirement already satisfied: urllib3[socks]<3,>=1.26 in c:\\programdata\\anaconda3\\lib\\site-packages (from selenium) (1.26.16)\n",
      "Requirement already satisfied: trio~=0.17 in c:\\programdata\\anaconda3\\lib\\site-packages (from selenium) (0.22.2)\n",
      "Requirement already satisfied: trio-websocket~=0.9 in c:\\programdata\\anaconda3\\lib\\site-packages (from selenium) (0.10.3)\n",
      "Requirement already satisfied: certifi>=2021.10.8 in c:\\programdata\\anaconda3\\lib\\site-packages (from selenium) (2023.5.7)\n",
      "Requirement already satisfied: soupsieve>1.2 in c:\\programdata\\anaconda3\\lib\\site-packages (from beautifulsoup4) (2.4)\n",
      "Requirement already satisfied: python-dateutil>=2.8.1 in c:\\programdata\\anaconda3\\lib\\site-packages (from pandas) (2.8.2)\n",
      "Requirement already satisfied: pytz>=2020.1 in c:\\programdata\\anaconda3\\lib\\site-packages (from pandas) (2022.7)\n",
      "Requirement already satisfied: numpy>=1.21.0 in c:\\programdata\\anaconda3\\lib\\site-packages (from pandas) (1.24.3)\n",
      "Requirement already satisfied: six>=1.5 in c:\\programdata\\anaconda3\\lib\\site-packages (from python-dateutil>=2.8.1->pandas) (1.16.0)\n",
      "Requirement already satisfied: attrs>=20.1.0 in c:\\programdata\\anaconda3\\lib\\site-packages (from trio~=0.17->selenium) (22.1.0)\n",
      "Requirement already satisfied: sortedcontainers in c:\\programdata\\anaconda3\\lib\\site-packages (from trio~=0.17->selenium) (2.4.0)\n",
      "Requirement already satisfied: idna in c:\\programdata\\anaconda3\\lib\\site-packages (from trio~=0.17->selenium) (3.4)\n",
      "Requirement already satisfied: outcome in c:\\programdata\\anaconda3\\lib\\site-packages (from trio~=0.17->selenium) (1.2.0)\n",
      "Requirement already satisfied: sniffio in c:\\programdata\\anaconda3\\lib\\site-packages (from trio~=0.17->selenium) (1.2.0)\n",
      "Requirement already satisfied: cffi>=1.14 in c:\\programdata\\anaconda3\\lib\\site-packages (from trio~=0.17->selenium) (1.15.1)\n",
      "Requirement already satisfied: exceptiongroup in c:\\programdata\\anaconda3\\lib\\site-packages (from trio-websocket~=0.9->selenium) (1.1.2)\n",
      "Requirement already satisfied: wsproto>=0.14 in c:\\programdata\\anaconda3\\lib\\site-packages (from trio-websocket~=0.9->selenium) (1.2.0)\n",
      "Requirement already satisfied: PySocks!=1.5.7,<2.0,>=1.5.6 in c:\\programdata\\anaconda3\\lib\\site-packages (from urllib3[socks]<3,>=1.26->selenium) (1.7.1)\n",
      "Requirement already satisfied: pycparser in c:\\programdata\\anaconda3\\lib\\site-packages (from cffi>=1.14->trio~=0.17->selenium) (2.21)\n",
      "Requirement already satisfied: h11<1,>=0.9.0 in c:\\programdata\\anaconda3\\lib\\site-packages (from wsproto>=0.14->trio-websocket~=0.9->selenium) (0.14.0)\n",
      "Note: you may need to restart the kernel to use updated packages.\n"
     ]
    }
   ],
   "source": [
    "pip install selenium beautifulsoup4 pandas"
   ]
  },
  {
   "cell_type": "code",
   "execution_count": 1,
   "id": "b8e280dc-b67f-4920-a8cf-7df08b63f7a9",
   "metadata": {
    "tags": []
   },
   "outputs": [],
   "source": [
    "from selenium import webdriver\n",
    "from selenium.webdriver.common.by import By\n",
    "from selenium.webdriver.support.ui import WebDriverWait\n",
    "from webdriver_manager.chrome import ChromeDriverManager\n",
    "from selenium.common.exceptions import TimeoutException, NoSuchElementException, WebDriverException\n",
    "from selenium.webdriver.support import expected_conditions as EC\n",
    "from selenium.webdriver.chrome.service import Service\n",
    "from selenium.webdriver.chrome.options import Options\n",
    "from selenium.webdriver.chrome.webdriver import WebDriver\n",
    "import pandas as pd\n",
    "import requests\n",
    "import time\n",
    "import warnings\n",
    "warnings.filterwarnings(\"ignore\")"
   ]
  },
  {
   "cell_type": "code",
   "execution_count": 2,
   "id": "cf5b0dfd-08bf-4d79-b5a5-9c83889ba821",
   "metadata": {
    "tags": []
   },
   "outputs": [],
   "source": [
    "driver = webdriver.Chrome()"
   ]
  },
  {
   "cell_type": "code",
   "execution_count": 3,
   "id": "26ca29c5-0e9d-42cf-b1c2-d6fd5ec0888c",
   "metadata": {
    "tags": []
   },
   "outputs": [],
   "source": [
    "driver.get(\"https://www.forbes.com/\")"
   ]
  },
  {
   "cell_type": "code",
   "execution_count": 4,
   "id": "cf20eb58-ef1c-4810-9a10-21dd4e41cd92",
   "metadata": {
    "tags": []
   },
   "outputs": [],
   "source": [
    "search_keyword = driver.find_element(By.XPATH,\"/html/body/div[1]/header/nav/div[1]/div[1]/div/div\")\n",
    "search_keyword.click()"
   ]
  },
  {
   "cell_type": "code",
   "execution_count": 5,
   "id": "0766c928-3b7a-4cd4-8c85-652e0650aa40",
   "metadata": {
    "tags": []
   },
   "outputs": [],
   "source": [
    "search_keyword = driver.find_element(By.XPATH,\"/html/body/div[1]/header/nav/div[1]/div[1]/div/div[2]/ul/li[2]/div[1]\")\n",
    "search_keyword.click()"
   ]
  },
  {
   "cell_type": "code",
   "execution_count": 6,
   "id": "609a6756-9707-47a4-b542-596035c5bc02",
   "metadata": {
    "tags": []
   },
   "outputs": [],
   "source": [
    "search_keyword = driver.find_element(By.XPATH,\"/html/body/div[1]/header/nav/div[1]/div[1]/div/div[2]/ul/li[2]/div[2]/div[3]/ul/li[1]/a\")\n",
    "search_keyword.click()"
   ]
  },
  {
   "cell_type": "code",
   "execution_count": 26,
   "id": "fc9d4e4a-9ed2-42a5-9ad7-f6dcfb8185f8",
   "metadata": {
    "tags": []
   },
   "outputs": [],
   "source": [
    "NAME=[]\n",
    "WORTH=[]\n",
    "AGE=[]\n",
    "COUNTRY=[]\n",
    "INDUSTRY=[]\n",
    "CITIZENSHIP=[]\n",
    "SOURCE=[]"
   ]
  },
  {
   "cell_type": "code",
   "execution_count": 27,
   "id": "f2cdc5f0-c27a-4988-9992-1f0dfa431fed",
   "metadata": {
    "tags": []
   },
   "outputs": [],
   "source": [
    "title_tags=driver.find_elements(By.CLASS_NAME,\"Table_dataCell__2QCve\")\n",
    "for i in title_tags[0:1200]:\n",
    "    title=i.text\n",
    "    NAME.append(title)"
   ]
  },
  {
   "cell_type": "code",
   "execution_count": 28,
   "id": "a95b3cfe-0f88-43b4-a28c-dee76fd5652d",
   "metadata": {
    "tags": []
   },
   "outputs": [],
   "source": [
    "title_tags=driver.find_elements(By.CLASS_NAME,\"Table_dataCell__2QCve\")\n",
    "for i in title_tags[0:1200]:\n",
    "    title=i.text\n",
    "    WORTH.append(title)"
   ]
  },
  {
   "cell_type": "code",
   "execution_count": 29,
   "id": "fcbb782d-32d9-4c85-a636-9d7f8e727a9f",
   "metadata": {
    "tags": []
   },
   "outputs": [],
   "source": [
    "title_tags=driver.find_elements(By.CLASS_NAME,\"Table_dataCell__2QCve\")\n",
    "for i in title_tags[0:1200]:\n",
    "    title=i.text\n",
    "    AGE.append(title)"
   ]
  },
  {
   "cell_type": "code",
   "execution_count": 30,
   "id": "0b787dd0-5ce6-4e0a-9011-318435100f65",
   "metadata": {
    "tags": []
   },
   "outputs": [],
   "source": [
    "title_tags=driver.find_elements(By.CLASS_NAME,\"Table_dataCell__2QCve\")\n",
    "for i in title_tags[0:1200]:\n",
    "    title=i.text\n",
    "    COUNTRY.append(title)"
   ]
  },
  {
   "cell_type": "code",
   "execution_count": 31,
   "id": "8bcb262b-5c3d-481f-94bc-fbb6eee4ccdd",
   "metadata": {
    "tags": []
   },
   "outputs": [],
   "source": [
    "title_tags=driver.find_elements(By.CLASS_NAME,\"Table_dataCell__2QCve\")\n",
    "for i in title_tags[0:1200]:\n",
    "    title=i.text\n",
    "    INDUSTRY.append(title)"
   ]
  },
  {
   "cell_type": "code",
   "execution_count": 32,
   "id": "cbbcf001-3dda-41d3-8fea-3d9bd2f62fef",
   "metadata": {
    "tags": []
   },
   "outputs": [],
   "source": [
    "title_tags=driver.find_elements(By.CLASS_NAME,\"Table_dataCell__2QCve\")\n",
    "for i in title_tags[0:1200]:\n",
    "    title=i.text\n",
    "    CITIZENSHIP.append(title)"
   ]
  },
  {
   "cell_type": "code",
   "execution_count": 33,
   "id": "9cf6665d-47f3-4792-b56b-7ef10426dbea",
   "metadata": {
    "tags": []
   },
   "outputs": [],
   "source": [
    "title_tags=driver.find_elements(By.CLASS_NAME,\"Table_dataCell__2QCve\")\n",
    "for i in title_tags[0:1200]:\n",
    "    title=i.text\n",
    "    SOURCE.append(title)"
   ]
  },
  {
   "cell_type": "code",
   "execution_count": 34,
   "id": "f5751bce-9a46-4b8e-bdb9-0995ddd22ed6",
   "metadata": {
    "tags": []
   },
   "outputs": [
    {
     "name": "stdout",
     "output_type": "stream",
     "text": [
      "1200 1200 1200 1200 1200 1200 1200\n"
     ]
    }
   ],
   "source": [
    "print(len(NAME),len(WORTH),len(AGE),len(COUNTRY),len(CITIZENSHIP),len(INDUSTRY),len(SOURCE))"
   ]
  },
  {
   "cell_type": "code",
   "execution_count": 35,
   "id": "491817b3-806b-4571-9230-a13084325790",
   "metadata": {
    "tags": []
   },
   "outputs": [
    {
     "data": {
      "text/html": [
       "<div>\n",
       "<style scoped>\n",
       "    .dataframe tbody tr th:only-of-type {\n",
       "        vertical-align: middle;\n",
       "    }\n",
       "\n",
       "    .dataframe tbody tr th {\n",
       "        vertical-align: top;\n",
       "    }\n",
       "\n",
       "    .dataframe thead th {\n",
       "        text-align: right;\n",
       "    }\n",
       "</style>\n",
       "<table border=\"1\" class=\"dataframe\">\n",
       "  <thead>\n",
       "    <tr style=\"text-align: right;\">\n",
       "      <th></th>\n",
       "      <th>NAME</th>\n",
       "      <th>WORTH</th>\n",
       "      <th>AGE</th>\n",
       "      <th>COUNTRY</th>\n",
       "      <th>CITIZENSHIP</th>\n",
       "      <th>INDUSTRY</th>\n",
       "      <th>SOURCE</th>\n",
       "    </tr>\n",
       "  </thead>\n",
       "  <tbody>\n",
       "    <tr>\n",
       "      <th>0</th>\n",
       "      <td>1</td>\n",
       "      <td>1</td>\n",
       "      <td>1</td>\n",
       "      <td>1</td>\n",
       "      <td>1</td>\n",
       "      <td>1</td>\n",
       "      <td>1</td>\n",
       "    </tr>\n",
       "    <tr>\n",
       "      <th>1</th>\n",
       "      <td>Bernard Arnault &amp; family</td>\n",
       "      <td>Bernard Arnault &amp; family</td>\n",
       "      <td>Bernard Arnault &amp; family</td>\n",
       "      <td>Bernard Arnault &amp; family</td>\n",
       "      <td>Bernard Arnault &amp; family</td>\n",
       "      <td>Bernard Arnault &amp; family</td>\n",
       "      <td>Bernard Arnault &amp; family</td>\n",
       "    </tr>\n",
       "    <tr>\n",
       "      <th>2</th>\n",
       "      <td>$211 B</td>\n",
       "      <td>$211 B</td>\n",
       "      <td>$211 B</td>\n",
       "      <td>$211 B</td>\n",
       "      <td>$211 B</td>\n",
       "      <td>$211 B</td>\n",
       "      <td>$211 B</td>\n",
       "    </tr>\n",
       "    <tr>\n",
       "      <th>3</th>\n",
       "      <td>74</td>\n",
       "      <td>74</td>\n",
       "      <td>74</td>\n",
       "      <td>74</td>\n",
       "      <td>74</td>\n",
       "      <td>74</td>\n",
       "      <td>74</td>\n",
       "    </tr>\n",
       "    <tr>\n",
       "      <th>4</th>\n",
       "      <td>LVMH</td>\n",
       "      <td>LVMH</td>\n",
       "      <td>LVMH</td>\n",
       "      <td>LVMH</td>\n",
       "      <td>LVMH</td>\n",
       "      <td>LVMH</td>\n",
       "      <td>LVMH</td>\n",
       "    </tr>\n",
       "    <tr>\n",
       "      <th>...</th>\n",
       "      <td>...</td>\n",
       "      <td>...</td>\n",
       "      <td>...</td>\n",
       "      <td>...</td>\n",
       "      <td>...</td>\n",
       "      <td>...</td>\n",
       "      <td>...</td>\n",
       "    </tr>\n",
       "    <tr>\n",
       "      <th>1195</th>\n",
       "      <td>Valerie Mars</td>\n",
       "      <td>Valerie Mars</td>\n",
       "      <td>Valerie Mars</td>\n",
       "      <td>Valerie Mars</td>\n",
       "      <td>Valerie Mars</td>\n",
       "      <td>Valerie Mars</td>\n",
       "      <td>Valerie Mars</td>\n",
       "    </tr>\n",
       "    <tr>\n",
       "      <th>1196</th>\n",
       "      <td>$9.6 B</td>\n",
       "      <td>$9.6 B</td>\n",
       "      <td>$9.6 B</td>\n",
       "      <td>$9.6 B</td>\n",
       "      <td>$9.6 B</td>\n",
       "      <td>$9.6 B</td>\n",
       "      <td>$9.6 B</td>\n",
       "    </tr>\n",
       "    <tr>\n",
       "      <th>1197</th>\n",
       "      <td>64</td>\n",
       "      <td>64</td>\n",
       "      <td>64</td>\n",
       "      <td>64</td>\n",
       "      <td>64</td>\n",
       "      <td>64</td>\n",
       "      <td>64</td>\n",
       "    </tr>\n",
       "    <tr>\n",
       "      <th>1198</th>\n",
       "      <td>Candy, pet food</td>\n",
       "      <td>Candy, pet food</td>\n",
       "      <td>Candy, pet food</td>\n",
       "      <td>Candy, pet food</td>\n",
       "      <td>Candy, pet food</td>\n",
       "      <td>Candy, pet food</td>\n",
       "      <td>Candy, pet food</td>\n",
       "    </tr>\n",
       "    <tr>\n",
       "      <th>1199</th>\n",
       "      <td>Food &amp; Beverage</td>\n",
       "      <td>Food &amp; Beverage</td>\n",
       "      <td>Food &amp; Beverage</td>\n",
       "      <td>Food &amp; Beverage</td>\n",
       "      <td>Food &amp; Beverage</td>\n",
       "      <td>Food &amp; Beverage</td>\n",
       "      <td>Food &amp; Beverage</td>\n",
       "    </tr>\n",
       "  </tbody>\n",
       "</table>\n",
       "<p>1200 rows × 7 columns</p>\n",
       "</div>"
      ],
      "text/plain": [
       "                          NAME                     WORTH  \\\n",
       "0                            1                         1   \n",
       "1     Bernard Arnault & family  Bernard Arnault & family   \n",
       "2                       $211 B                    $211 B   \n",
       "3                           74                        74   \n",
       "4                         LVMH                      LVMH   \n",
       "...                        ...                       ...   \n",
       "1195              Valerie Mars              Valerie Mars   \n",
       "1196                    $9.6 B                    $9.6 B   \n",
       "1197                        64                        64   \n",
       "1198           Candy, pet food           Candy, pet food   \n",
       "1199           Food & Beverage           Food & Beverage   \n",
       "\n",
       "                           AGE                   COUNTRY  \\\n",
       "0                            1                         1   \n",
       "1     Bernard Arnault & family  Bernard Arnault & family   \n",
       "2                       $211 B                    $211 B   \n",
       "3                           74                        74   \n",
       "4                         LVMH                      LVMH   \n",
       "...                        ...                       ...   \n",
       "1195              Valerie Mars              Valerie Mars   \n",
       "1196                    $9.6 B                    $9.6 B   \n",
       "1197                        64                        64   \n",
       "1198           Candy, pet food           Candy, pet food   \n",
       "1199           Food & Beverage           Food & Beverage   \n",
       "\n",
       "                   CITIZENSHIP                  INDUSTRY  \\\n",
       "0                            1                         1   \n",
       "1     Bernard Arnault & family  Bernard Arnault & family   \n",
       "2                       $211 B                    $211 B   \n",
       "3                           74                        74   \n",
       "4                         LVMH                      LVMH   \n",
       "...                        ...                       ...   \n",
       "1195              Valerie Mars              Valerie Mars   \n",
       "1196                    $9.6 B                    $9.6 B   \n",
       "1197                        64                        64   \n",
       "1198           Candy, pet food           Candy, pet food   \n",
       "1199           Food & Beverage           Food & Beverage   \n",
       "\n",
       "                        SOURCE  \n",
       "0                            1  \n",
       "1     Bernard Arnault & family  \n",
       "2                       $211 B  \n",
       "3                           74  \n",
       "4                         LVMH  \n",
       "...                        ...  \n",
       "1195              Valerie Mars  \n",
       "1196                    $9.6 B  \n",
       "1197                        64  \n",
       "1198           Candy, pet food  \n",
       "1199           Food & Beverage  \n",
       "\n",
       "[1200 rows x 7 columns]"
      ]
     },
     "execution_count": 35,
     "metadata": {},
     "output_type": "execute_result"
    }
   ],
   "source": [
    "import pandas as pd\n",
    "df=pd.DataFrame({'NAME':NAME,'WORTH':WORTH,'AGE':AGE, 'COUNTRY':COUNTRY,'CITIZENSHIP':CITIZENSHIP,'INDUSTRY':INDUSTRY,'SOURCE':SOURCE})\n",
    "df"
   ]
  },
  {
   "cell_type": "code",
   "execution_count": 36,
   "id": "ee082d4c-45f4-4094-a9ce-77a74f19ab4e",
   "metadata": {
    "tags": []
   },
   "outputs": [],
   "source": [
    "search_keyword = driver.find_element(By.XPATH, \"/html/body/div[1]/div[2]/div[3]/div[2]/div[2]/div[2]/div[2]/div[2]/div[1]/div/button[2]\")\n",
    "search_keyword.click()"
   ]
  },
  {
   "cell_type": "code",
   "execution_count": 37,
   "id": "380cdc3f-adc7-499d-8f6b-756683aef225",
   "metadata": {
    "tags": []
   },
   "outputs": [],
   "source": [
    "NAME=[]\n",
    "WORTH=[]\n",
    "AGE=[]\n",
    "COUNTRY=[]\n",
    "INDUSTRY=[]\n",
    "CITIZENSHIP=[]\n",
    "SOURCE=[]"
   ]
  },
  {
   "cell_type": "code",
   "execution_count": 38,
   "id": "89b227cd-fdfd-4ef2-9c20-ae2869381cb9",
   "metadata": {
    "tags": []
   },
   "outputs": [],
   "source": [
    "title_tags=driver.find_elements(By.CLASS_NAME,\"Table_dataCell__2QCve\")\n",
    "for i in title_tags[0:1200]:\n",
    "    title=i.text\n",
    "    NAME.append(title)"
   ]
  },
  {
   "cell_type": "code",
   "execution_count": 39,
   "id": "0e76fc50-4efc-45fc-b73a-0878c11d4304",
   "metadata": {
    "tags": []
   },
   "outputs": [],
   "source": [
    "title_tags=driver.find_elements(By.CLASS_NAME,\"Table_dataCell__2QCve\")\n",
    "for i in title_tags[0:1200]:\n",
    "    title=i.text\n",
    "    WORTH.append(title)"
   ]
  },
  {
   "cell_type": "code",
   "execution_count": 40,
   "id": "c76856a8-bcff-470d-8a1e-c7d74f1804fd",
   "metadata": {
    "tags": []
   },
   "outputs": [],
   "source": [
    "title_tags=driver.find_elements(By.CLASS_NAME,\"Table_dataCell__2QCve\")\n",
    "for i in title_tags[0:1200]:\n",
    "    title=i.text\n",
    "    AGE.append(title)"
   ]
  },
  {
   "cell_type": "code",
   "execution_count": 41,
   "id": "bb226409-99f2-4a04-be25-195f10674e51",
   "metadata": {
    "tags": []
   },
   "outputs": [],
   "source": [
    "title_tags=driver.find_elements(By.CLASS_NAME,\"Table_dataCell__2QCve\")\n",
    "for i in title_tags[0:1200]:\n",
    "    title=i.text\n",
    "    COUNTRY.append(title)"
   ]
  },
  {
   "cell_type": "code",
   "execution_count": 42,
   "id": "1e54d0c0-f68d-4a84-81e7-e0bc1913c1ea",
   "metadata": {
    "tags": []
   },
   "outputs": [],
   "source": [
    "title_tags=driver.find_elements(By.CLASS_NAME,\"Table_dataCell__2QCve\")\n",
    "for i in title_tags[0:1200]:\n",
    "    title=i.text\n",
    "    INDUSTRY.append(title)"
   ]
  },
  {
   "cell_type": "code",
   "execution_count": null,
   "id": "06b6a1fc-29cd-451e-84b3-b1bfd8c8114d",
   "metadata": {
    "tags": []
   },
   "outputs": [],
   "source": [
    "title_tags=driver.find_elements(By.CLASS_NAME,\"Table_dataCell__2QCve\")\n",
    "for i in title_tags[0:1200]:\n",
    "    title=i.text\n",
    "    CITIZENSHIP.append(title)"
   ]
  },
  {
   "cell_type": "code",
   "execution_count": null,
   "id": "eae7c6e9-b106-42aa-9629-f3dab9613b9d",
   "metadata": {
    "tags": []
   },
   "outputs": [],
   "source": [
    "title_tags=driver.find_elements(By.CLASS_NAME,\"Table_dataCell__2QCve\")\n",
    "for i in title_tags[0:1200]:\n",
    "    title=i.text\n",
    "    SOURCE.append(title)"
   ]
  },
  {
   "cell_type": "code",
   "execution_count": 31,
   "id": "2d20e733-a80e-4925-886f-bc3ae6492591",
   "metadata": {
    "tags": []
   },
   "outputs": [
    {
     "name": "stdout",
     "output_type": "stream",
     "text": [
      "1200 1200 1200 1200 1200 1200 1200\n"
     ]
    }
   ],
   "source": [
    "print(len(NAME),len(WORTH),len(AGE),len(COUNTRY),len(CITIZENSHIP),len(INDUSTRY),len(SOURCE))"
   ]
  },
  {
   "cell_type": "code",
   "execution_count": 32,
   "id": "67844fcd-255e-4221-95af-ad345e46fc40",
   "metadata": {
    "tags": []
   },
   "outputs": [
    {
     "data": {
      "text/html": [
       "<div>\n",
       "<style scoped>\n",
       "    .dataframe tbody tr th:only-of-type {\n",
       "        vertical-align: middle;\n",
       "    }\n",
       "\n",
       "    .dataframe tbody tr th {\n",
       "        vertical-align: top;\n",
       "    }\n",
       "\n",
       "    .dataframe thead th {\n",
       "        text-align: right;\n",
       "    }\n",
       "</style>\n",
       "<table border=\"1\" class=\"dataframe\">\n",
       "  <thead>\n",
       "    <tr style=\"text-align: right;\">\n",
       "      <th></th>\n",
       "      <th>NAME</th>\n",
       "      <th>WORTH</th>\n",
       "      <th>AGE</th>\n",
       "      <th>COUNTRY</th>\n",
       "      <th>CITIZENSHIP</th>\n",
       "      <th>INDUSTRY</th>\n",
       "      <th>SOURCE</th>\n",
       "    </tr>\n",
       "  </thead>\n",
       "  <tbody>\n",
       "    <tr>\n",
       "      <th>0</th>\n",
       "      <td>195</td>\n",
       "      <td>195</td>\n",
       "      <td>195</td>\n",
       "      <td>195</td>\n",
       "      <td>195</td>\n",
       "      <td>195</td>\n",
       "      <td>195</td>\n",
       "    </tr>\n",
       "    <tr>\n",
       "      <th>1</th>\n",
       "      <td>Victoria Mars</td>\n",
       "      <td>Victoria Mars</td>\n",
       "      <td>Victoria Mars</td>\n",
       "      <td>Victoria Mars</td>\n",
       "      <td>Victoria Mars</td>\n",
       "      <td>Victoria Mars</td>\n",
       "      <td>Victoria Mars</td>\n",
       "    </tr>\n",
       "    <tr>\n",
       "      <th>2</th>\n",
       "      <td>$9.6 B</td>\n",
       "      <td>$9.6 B</td>\n",
       "      <td>$9.6 B</td>\n",
       "      <td>$9.6 B</td>\n",
       "      <td>$9.6 B</td>\n",
       "      <td>$9.6 B</td>\n",
       "      <td>$9.6 B</td>\n",
       "    </tr>\n",
       "    <tr>\n",
       "      <th>3</th>\n",
       "      <td>66</td>\n",
       "      <td>66</td>\n",
       "      <td>66</td>\n",
       "      <td>66</td>\n",
       "      <td>66</td>\n",
       "      <td>66</td>\n",
       "      <td>66</td>\n",
       "    </tr>\n",
       "    <tr>\n",
       "      <th>4</th>\n",
       "      <td>Candy, pet food</td>\n",
       "      <td>Candy, pet food</td>\n",
       "      <td>Candy, pet food</td>\n",
       "      <td>Candy, pet food</td>\n",
       "      <td>Candy, pet food</td>\n",
       "      <td>Candy, pet food</td>\n",
       "      <td>Candy, pet food</td>\n",
       "    </tr>\n",
       "    <tr>\n",
       "      <th>...</th>\n",
       "      <td>...</td>\n",
       "      <td>...</td>\n",
       "      <td>...</td>\n",
       "      <td>...</td>\n",
       "      <td>...</td>\n",
       "      <td>...</td>\n",
       "      <td>...</td>\n",
       "    </tr>\n",
       "    <tr>\n",
       "      <th>1195</th>\n",
       "      <td>Jian Jun</td>\n",
       "      <td>Jian Jun</td>\n",
       "      <td>Jian Jun</td>\n",
       "      <td>Jian Jun</td>\n",
       "      <td>Jian Jun</td>\n",
       "      <td>Jian Jun</td>\n",
       "      <td>Jian Jun</td>\n",
       "    </tr>\n",
       "    <tr>\n",
       "      <th>1196</th>\n",
       "      <td>$6.4 B</td>\n",
       "      <td>$6.4 B</td>\n",
       "      <td>$6.4 B</td>\n",
       "      <td>$6.4 B</td>\n",
       "      <td>$6.4 B</td>\n",
       "      <td>$6.4 B</td>\n",
       "      <td>$6.4 B</td>\n",
       "    </tr>\n",
       "    <tr>\n",
       "      <th>1197</th>\n",
       "      <td>59</td>\n",
       "      <td>59</td>\n",
       "      <td>59</td>\n",
       "      <td>59</td>\n",
       "      <td>59</td>\n",
       "      <td>59</td>\n",
       "      <td>59</td>\n",
       "    </tr>\n",
       "    <tr>\n",
       "      <th>1198</th>\n",
       "      <td></td>\n",
       "      <td></td>\n",
       "      <td></td>\n",
       "      <td></td>\n",
       "      <td></td>\n",
       "      <td></td>\n",
       "      <td></td>\n",
       "    </tr>\n",
       "    <tr>\n",
       "      <th>1199</th>\n",
       "      <td></td>\n",
       "      <td></td>\n",
       "      <td></td>\n",
       "      <td></td>\n",
       "      <td></td>\n",
       "      <td></td>\n",
       "      <td></td>\n",
       "    </tr>\n",
       "  </tbody>\n",
       "</table>\n",
       "<p>1200 rows × 7 columns</p>\n",
       "</div>"
      ],
      "text/plain": [
       "                 NAME            WORTH              AGE          COUNTRY  \\\n",
       "0                 195              195              195              195   \n",
       "1       Victoria Mars    Victoria Mars    Victoria Mars    Victoria Mars   \n",
       "2              $9.6 B           $9.6 B           $9.6 B           $9.6 B   \n",
       "3                  66               66               66               66   \n",
       "4     Candy, pet food  Candy, pet food  Candy, pet food  Candy, pet food   \n",
       "...               ...              ...              ...              ...   \n",
       "1195         Jian Jun         Jian Jun         Jian Jun         Jian Jun   \n",
       "1196           $6.4 B           $6.4 B           $6.4 B           $6.4 B   \n",
       "1197               59               59               59               59   \n",
       "1198                                                                       \n",
       "1199                                                                       \n",
       "\n",
       "          CITIZENSHIP         INDUSTRY           SOURCE  \n",
       "0                 195              195              195  \n",
       "1       Victoria Mars    Victoria Mars    Victoria Mars  \n",
       "2              $9.6 B           $9.6 B           $9.6 B  \n",
       "3                  66               66               66  \n",
       "4     Candy, pet food  Candy, pet food  Candy, pet food  \n",
       "...               ...              ...              ...  \n",
       "1195         Jian Jun         Jian Jun         Jian Jun  \n",
       "1196           $6.4 B           $6.4 B           $6.4 B  \n",
       "1197               59               59               59  \n",
       "1198                                                     \n",
       "1199                                                     \n",
       "\n",
       "[1200 rows x 7 columns]"
      ]
     },
     "execution_count": 32,
     "metadata": {},
     "output_type": "execute_result"
    }
   ],
   "source": [
    "import pandas as pd\n",
    "df=pd.DataFrame({'NAME':NAME,'WORTH':WORTH,'AGE':AGE, 'COUNTRY':COUNTRY,'CITIZENSHIP':CITIZENSHIP,'INDUSTRY':INDUSTRY,'SOURCE':SOURCE})\n",
    "df"
   ]
  },
  {
   "cell_type": "code",
   "execution_count": 33,
   "id": "475c31d7-ef28-40e6-8e83-645f4f5425a5",
   "metadata": {
    "tags": []
   },
   "outputs": [],
   "source": [
    "search_keyword = driver.find_element(By.XPATH, \"/html/body/div[1]/div[2]/div[3]/div[2]/div[2]/div[2]/div[2]/div[2]/div[1]/div/button[3]\")\n",
    "search_keyword.click()"
   ]
  },
  {
   "cell_type": "code",
   "execution_count": 45,
   "id": "8c166ff7-732d-4eb6-87af-6654819d4fdb",
   "metadata": {
    "tags": []
   },
   "outputs": [],
   "source": [
    "NAME=[]\n",
    "WORTH=[]\n",
    "AGE=[]\n",
    "COUNTRY=[]\n",
    "INDUSTRY=[]\n",
    "CITIZENSHIP=[]\n",
    "SOURCE=[]"
   ]
  },
  {
   "cell_type": "code",
   "execution_count": 46,
   "id": "36c3b05a-0f22-479b-a64f-1c62231b0a94",
   "metadata": {
    "tags": []
   },
   "outputs": [],
   "source": [
    "title_tags=driver.find_elements(By.CLASS_NAME,\"Table_dataCell__2QCve\")\n",
    "for i in title_tags[0:1200]:\n",
    "    title=i.text\n",
    "    NAME.append(title)"
   ]
  },
  {
   "cell_type": "code",
   "execution_count": 47,
   "id": "4c89fa33-a345-4c57-92b5-204eaa834cd8",
   "metadata": {
    "tags": []
   },
   "outputs": [],
   "source": [
    "title_tags=driver.find_elements(By.CLASS_NAME,\"Table_dataCell__2QCve\")\n",
    "for i in title_tags[0:1200]:\n",
    "    title=i.text\n",
    "    WORTH.append(title)"
   ]
  },
  {
   "cell_type": "code",
   "execution_count": 48,
   "id": "1c9c3564-765a-4dd6-ae0a-1c79775c8418",
   "metadata": {
    "tags": []
   },
   "outputs": [],
   "source": [
    "title_tags=driver.find_elements(By.CLASS_NAME,\"Table_dataCell__2QCve\")\n",
    "for i in title_tags[0:1200]:\n",
    "    title=i.text\n",
    "    AGE.append(title)"
   ]
  },
  {
   "cell_type": "code",
   "execution_count": 49,
   "id": "dcb07986-f88f-4647-8a48-68693594935f",
   "metadata": {
    "tags": []
   },
   "outputs": [],
   "source": [
    "title_tags=driver.find_elements(By.CLASS_NAME,\"Table_dataCell__2QCve\")\n",
    "for i in title_tags[0:1200]:\n",
    "    title=i.text\n",
    "    COUNTRY.append(title)"
   ]
  },
  {
   "cell_type": "code",
   "execution_count": 50,
   "id": "cecb4f14-5542-4bb2-8823-c016d2cc523b",
   "metadata": {
    "tags": []
   },
   "outputs": [],
   "source": [
    "title_tags=driver.find_elements(By.CLASS_NAME,\"Table_dataCell__2QCve\")\n",
    "for i in title_tags[0:1200]:\n",
    "    title=i.text\n",
    "    INDUSTRY.append(title)"
   ]
  },
  {
   "cell_type": "code",
   "execution_count": 51,
   "id": "49346e47-096c-465b-b569-d6a4391ba49d",
   "metadata": {
    "tags": []
   },
   "outputs": [],
   "source": [
    "title_tags=driver.find_elements(By.CLASS_NAME,\"Table_dataCell__2QCve\")\n",
    "for i in title_tags[0:1200]:\n",
    "    title=i.text\n",
    "    CITIZENSHIP.append(title)"
   ]
  },
  {
   "cell_type": "code",
   "execution_count": 52,
   "id": "509804f1-bf8b-4eae-ad60-abd51da90538",
   "metadata": {
    "tags": []
   },
   "outputs": [],
   "source": [
    "title_tags=driver.find_elements(By.CLASS_NAME,\"Table_dataCell__2QCve\")\n",
    "for i in title_tags[0:1200]:\n",
    "    title=i.text\n",
    "    SOURCE.append(title)"
   ]
  },
  {
   "cell_type": "code",
   "execution_count": 53,
   "id": "ea16b850-8de4-4810-a374-9b83e13ae384",
   "metadata": {
    "tags": []
   },
   "outputs": [
    {
     "name": "stdout",
     "output_type": "stream",
     "text": [
      "1200 1200 1200 1200 1200 1200 1200\n"
     ]
    }
   ],
   "source": [
    "print(len(NAME),len(WORTH),len(AGE),len(COUNTRY),len(CITIZENSHIP),len(INDUSTRY),len(SOURCE))"
   ]
  },
  {
   "cell_type": "code",
   "execution_count": 54,
   "id": "2a5a647a-a0d4-4e3c-822a-84340763b25f",
   "metadata": {
    "tags": []
   },
   "outputs": [
    {
     "data": {
      "text/html": [
       "<div>\n",
       "<style scoped>\n",
       "    .dataframe tbody tr th:only-of-type {\n",
       "        vertical-align: middle;\n",
       "    }\n",
       "\n",
       "    .dataframe tbody tr th {\n",
       "        vertical-align: top;\n",
       "    }\n",
       "\n",
       "    .dataframe thead th {\n",
       "        text-align: right;\n",
       "    }\n",
       "</style>\n",
       "<table border=\"1\" class=\"dataframe\">\n",
       "  <thead>\n",
       "    <tr style=\"text-align: right;\">\n",
       "      <th></th>\n",
       "      <th>NAME</th>\n",
       "      <th>WORTH</th>\n",
       "      <th>AGE</th>\n",
       "      <th>COUNTRY</th>\n",
       "      <th>CITIZENSHIP</th>\n",
       "      <th>INDUSTRY</th>\n",
       "      <th>SOURCE</th>\n",
       "    </tr>\n",
       "  </thead>\n",
       "  <tbody>\n",
       "    <tr>\n",
       "      <th>0</th>\n",
       "      <td>397</td>\n",
       "      <td>397</td>\n",
       "      <td>397</td>\n",
       "      <td>397</td>\n",
       "      <td>397</td>\n",
       "      <td>397</td>\n",
       "      <td>397</td>\n",
       "    </tr>\n",
       "    <tr>\n",
       "      <th>1</th>\n",
       "      <td>Alexei Kuzmichev</td>\n",
       "      <td>Alexei Kuzmichev</td>\n",
       "      <td>Alexei Kuzmichev</td>\n",
       "      <td>Alexei Kuzmichev</td>\n",
       "      <td>Alexei Kuzmichev</td>\n",
       "      <td>Alexei Kuzmichev</td>\n",
       "      <td>Alexei Kuzmichev</td>\n",
       "    </tr>\n",
       "    <tr>\n",
       "      <th>2</th>\n",
       "      <td>$6.4 B</td>\n",
       "      <td>$6.4 B</td>\n",
       "      <td>$6.4 B</td>\n",
       "      <td>$6.4 B</td>\n",
       "      <td>$6.4 B</td>\n",
       "      <td>$6.4 B</td>\n",
       "      <td>$6.4 B</td>\n",
       "    </tr>\n",
       "    <tr>\n",
       "      <th>3</th>\n",
       "      <td>60</td>\n",
       "      <td>60</td>\n",
       "      <td>60</td>\n",
       "      <td>60</td>\n",
       "      <td>60</td>\n",
       "      <td>60</td>\n",
       "      <td>60</td>\n",
       "    </tr>\n",
       "    <tr>\n",
       "      <th>4</th>\n",
       "      <td>Oil, banking, telecom</td>\n",
       "      <td>Oil, banking, telecom</td>\n",
       "      <td>Oil, banking, telecom</td>\n",
       "      <td>Oil, banking, telecom</td>\n",
       "      <td>Oil, banking, telecom</td>\n",
       "      <td>Oil, banking, telecom</td>\n",
       "      <td>Oil, banking, telecom</td>\n",
       "    </tr>\n",
       "    <tr>\n",
       "      <th>...</th>\n",
       "      <td>...</td>\n",
       "      <td>...</td>\n",
       "      <td>...</td>\n",
       "      <td>...</td>\n",
       "      <td>...</td>\n",
       "      <td>...</td>\n",
       "      <td>...</td>\n",
       "    </tr>\n",
       "    <tr>\n",
       "      <th>1195</th>\n",
       "      <td>Forrest Li</td>\n",
       "      <td>Forrest Li</td>\n",
       "      <td>Forrest Li</td>\n",
       "      <td>Forrest Li</td>\n",
       "      <td>Forrest Li</td>\n",
       "      <td>Forrest Li</td>\n",
       "      <td>Forrest Li</td>\n",
       "    </tr>\n",
       "    <tr>\n",
       "      <th>1196</th>\n",
       "      <td>$4.6 B</td>\n",
       "      <td>$4.6 B</td>\n",
       "      <td>$4.6 B</td>\n",
       "      <td>$4.6 B</td>\n",
       "      <td>$4.6 B</td>\n",
       "      <td>$4.6 B</td>\n",
       "      <td>$4.6 B</td>\n",
       "    </tr>\n",
       "    <tr>\n",
       "      <th>1197</th>\n",
       "      <td>45</td>\n",
       "      <td>45</td>\n",
       "      <td>45</td>\n",
       "      <td>45</td>\n",
       "      <td>45</td>\n",
       "      <td>45</td>\n",
       "      <td>45</td>\n",
       "    </tr>\n",
       "    <tr>\n",
       "      <th>1198</th>\n",
       "      <td>Gaming</td>\n",
       "      <td>Gaming</td>\n",
       "      <td>Gaming</td>\n",
       "      <td>Gaming</td>\n",
       "      <td>Gaming</td>\n",
       "      <td>Gaming</td>\n",
       "      <td>Gaming</td>\n",
       "    </tr>\n",
       "    <tr>\n",
       "      <th>1199</th>\n",
       "      <td>Media &amp; Entertainment</td>\n",
       "      <td>Media &amp; Entertainment</td>\n",
       "      <td>Media &amp; Entertainment</td>\n",
       "      <td>Media &amp; Entertainment</td>\n",
       "      <td>Media &amp; Entertainment</td>\n",
       "      <td>Media &amp; Entertainment</td>\n",
       "      <td>Media &amp; Entertainment</td>\n",
       "    </tr>\n",
       "  </tbody>\n",
       "</table>\n",
       "<p>1200 rows × 7 columns</p>\n",
       "</div>"
      ],
      "text/plain": [
       "                       NAME                  WORTH                    AGE  \\\n",
       "0                       397                    397                    397   \n",
       "1          Alexei Kuzmichev       Alexei Kuzmichev       Alexei Kuzmichev   \n",
       "2                    $6.4 B                 $6.4 B                 $6.4 B   \n",
       "3                        60                     60                     60   \n",
       "4     Oil, banking, telecom  Oil, banking, telecom  Oil, banking, telecom   \n",
       "...                     ...                    ...                    ...   \n",
       "1195             Forrest Li             Forrest Li             Forrest Li   \n",
       "1196                 $4.6 B                 $4.6 B                 $4.6 B   \n",
       "1197                     45                     45                     45   \n",
       "1198                 Gaming                 Gaming                 Gaming   \n",
       "1199  Media & Entertainment  Media & Entertainment  Media & Entertainment   \n",
       "\n",
       "                    COUNTRY            CITIZENSHIP               INDUSTRY  \\\n",
       "0                       397                    397                    397   \n",
       "1          Alexei Kuzmichev       Alexei Kuzmichev       Alexei Kuzmichev   \n",
       "2                    $6.4 B                 $6.4 B                 $6.4 B   \n",
       "3                        60                     60                     60   \n",
       "4     Oil, banking, telecom  Oil, banking, telecom  Oil, banking, telecom   \n",
       "...                     ...                    ...                    ...   \n",
       "1195             Forrest Li             Forrest Li             Forrest Li   \n",
       "1196                 $4.6 B                 $4.6 B                 $4.6 B   \n",
       "1197                     45                     45                     45   \n",
       "1198                 Gaming                 Gaming                 Gaming   \n",
       "1199  Media & Entertainment  Media & Entertainment  Media & Entertainment   \n",
       "\n",
       "                     SOURCE  \n",
       "0                       397  \n",
       "1          Alexei Kuzmichev  \n",
       "2                    $6.4 B  \n",
       "3                        60  \n",
       "4     Oil, banking, telecom  \n",
       "...                     ...  \n",
       "1195             Forrest Li  \n",
       "1196                 $4.6 B  \n",
       "1197                     45  \n",
       "1198                 Gaming  \n",
       "1199  Media & Entertainment  \n",
       "\n",
       "[1200 rows x 7 columns]"
      ]
     },
     "execution_count": 54,
     "metadata": {},
     "output_type": "execute_result"
    }
   ],
   "source": [
    "import pandas as pd\n",
    "df=pd.DataFrame({'NAME':NAME,'WORTH':WORTH,'AGE':AGE, 'COUNTRY':COUNTRY,'CITIZENSHIP':CITIZENSHIP,'INDUSTRY':INDUSTRY,'SOURCE':SOURCE})\n",
    "df"
   ]
  },
  {
   "cell_type": "code",
   "execution_count": 55,
   "id": "b2237ec2-87b6-47a0-8fe3-06dcd850ce60",
   "metadata": {
    "tags": []
   },
   "outputs": [],
   "source": [
    "search_keyword = driver.find_element(By.XPATH, \"/html/body/div[1]/div[2]/div[3]/div[2]/div[2]/div[2]/div[2]/div[2]/div[1]/div/button[4]\")\n",
    "search_keyword.click()"
   ]
  },
  {
   "cell_type": "code",
   "execution_count": 57,
   "id": "d42290a4-91d9-4765-b320-19d3f4ea33ec",
   "metadata": {
    "tags": []
   },
   "outputs": [],
   "source": [
    "NAME=[]\n",
    "WORTH=[]\n",
    "AGE=[]\n",
    "COUNTRY=[]\n",
    "INDUSTRY=[]\n",
    "CITIZENSHIP=[]\n",
    "SOURCE=[]"
   ]
  },
  {
   "cell_type": "code",
   "execution_count": 58,
   "id": "115e3ed8-fc32-4add-9e72-5e03995ffdf4",
   "metadata": {
    "tags": []
   },
   "outputs": [],
   "source": [
    "title_tags=driver.find_elements(By.CLASS_NAME,\"Table_dataCell__2QCve\")\n",
    "for i in title_tags[0:1200]:\n",
    "    title=i.text\n",
    "    NAME.append(title)"
   ]
  },
  {
   "cell_type": "code",
   "execution_count": 59,
   "id": "eb795269-4c84-4b1c-809b-0497d3fcc211",
   "metadata": {
    "tags": []
   },
   "outputs": [],
   "source": [
    "title_tags=driver.find_elements(By.CLASS_NAME,\"Table_dataCell__2QCve\")\n",
    "for i in title_tags[0:1200]:\n",
    "    title=i.text\n",
    "    WORTH.append(title)"
   ]
  },
  {
   "cell_type": "code",
   "execution_count": 60,
   "id": "ff2e60bf-e2a1-4584-b7ee-c696e0509683",
   "metadata": {
    "tags": []
   },
   "outputs": [],
   "source": [
    "title_tags=driver.find_elements(By.CLASS_NAME,\"Table_dataCell__2QCve\")\n",
    "for i in title_tags[0:1200]:\n",
    "    title=i.text\n",
    "    AGE.append(title)"
   ]
  },
  {
   "cell_type": "code",
   "execution_count": 61,
   "id": "7c2d718e-61f7-438d-9d21-5f41111ae30b",
   "metadata": {
    "tags": []
   },
   "outputs": [],
   "source": [
    "title_tags=driver.find_elements(By.CLASS_NAME,\"Table_dataCell__2QCve\")\n",
    "for i in title_tags[0:1200]:\n",
    "    title=i.text\n",
    "    COUNTRY.append(title)"
   ]
  },
  {
   "cell_type": "code",
   "execution_count": 62,
   "id": "7002937c-0f74-4424-b62a-ca907ee7017f",
   "metadata": {
    "tags": []
   },
   "outputs": [],
   "source": [
    "title_tags=driver.find_elements(By.CLASS_NAME,\"Table_dataCell__2QCve\")\n",
    "for i in title_tags[0:1200]:\n",
    "    title=i.text\n",
    "    INDUSTRY.append(title)"
   ]
  },
  {
   "cell_type": "code",
   "execution_count": 63,
   "id": "821b6637-977a-4803-a749-89530aca60b3",
   "metadata": {
    "tags": []
   },
   "outputs": [],
   "source": [
    "title_tags=driver.find_elements(By.CLASS_NAME,\"Table_dataCell__2QCve\")\n",
    "for i in title_tags[0:1200]:\n",
    "    title=i.text\n",
    "    CITIZENSHIP.append(title)"
   ]
  },
  {
   "cell_type": "code",
   "execution_count": 64,
   "id": "77bc9094-5155-4b0c-bc34-fbaa624cc85b",
   "metadata": {
    "tags": []
   },
   "outputs": [],
   "source": [
    "title_tags=driver.find_elements(By.CLASS_NAME,\"Table_dataCell__2QCve\")\n",
    "for i in title_tags[0:1200]:\n",
    "    title=i.text\n",
    "    SOURCE.append(title)"
   ]
  },
  {
   "cell_type": "code",
   "execution_count": 65,
   "id": "caf0cea0-7923-408f-b298-ce11efdb7e6c",
   "metadata": {
    "tags": []
   },
   "outputs": [
    {
     "name": "stdout",
     "output_type": "stream",
     "text": [
      "1200 1200 1200 1200 1200 1200 1200\n"
     ]
    }
   ],
   "source": [
    "print(len(NAME),len(WORTH),len(AGE),len(COUNTRY),len(CITIZENSHIP),len(INDUSTRY),len(SOURCE))"
   ]
  },
  {
   "cell_type": "code",
   "execution_count": 66,
   "id": "dd4f7e19-1e73-4d2d-81fb-277611554b78",
   "metadata": {
    "tags": []
   },
   "outputs": [
    {
     "data": {
      "text/html": [
       "<div>\n",
       "<style scoped>\n",
       "    .dataframe tbody tr th:only-of-type {\n",
       "        vertical-align: middle;\n",
       "    }\n",
       "\n",
       "    .dataframe tbody tr th {\n",
       "        vertical-align: top;\n",
       "    }\n",
       "\n",
       "    .dataframe thead th {\n",
       "        text-align: right;\n",
       "    }\n",
       "</style>\n",
       "<table border=\"1\" class=\"dataframe\">\n",
       "  <thead>\n",
       "    <tr style=\"text-align: right;\">\n",
       "      <th></th>\n",
       "      <th>NAME</th>\n",
       "      <th>WORTH</th>\n",
       "      <th>AGE</th>\n",
       "      <th>COUNTRY</th>\n",
       "      <th>CITIZENSHIP</th>\n",
       "      <th>INDUSTRY</th>\n",
       "      <th>SOURCE</th>\n",
       "    </tr>\n",
       "  </thead>\n",
       "  <tbody>\n",
       "    <tr>\n",
       "      <th>0</th>\n",
       "      <td>591</td>\n",
       "      <td>591</td>\n",
       "      <td>591</td>\n",
       "      <td>591</td>\n",
       "      <td>591</td>\n",
       "      <td>591</td>\n",
       "      <td>591</td>\n",
       "    </tr>\n",
       "    <tr>\n",
       "      <th>1</th>\n",
       "      <td>Richard Li</td>\n",
       "      <td>Richard Li</td>\n",
       "      <td>Richard Li</td>\n",
       "      <td>Richard Li</td>\n",
       "      <td>Richard Li</td>\n",
       "      <td>Richard Li</td>\n",
       "      <td>Richard Li</td>\n",
       "    </tr>\n",
       "    <tr>\n",
       "      <th>2</th>\n",
       "      <td>$4.6 B</td>\n",
       "      <td>$4.6 B</td>\n",
       "      <td>$4.6 B</td>\n",
       "      <td>$4.6 B</td>\n",
       "      <td>$4.6 B</td>\n",
       "      <td>$4.6 B</td>\n",
       "      <td>$4.6 B</td>\n",
       "    </tr>\n",
       "    <tr>\n",
       "      <th>3</th>\n",
       "      <td>56</td>\n",
       "      <td>56</td>\n",
       "      <td>56</td>\n",
       "      <td>56</td>\n",
       "      <td>56</td>\n",
       "      <td>56</td>\n",
       "      <td>56</td>\n",
       "    </tr>\n",
       "    <tr>\n",
       "      <th>4</th>\n",
       "      <td>Telecom</td>\n",
       "      <td>Telecom</td>\n",
       "      <td>Telecom</td>\n",
       "      <td>Telecom</td>\n",
       "      <td>Telecom</td>\n",
       "      <td>Telecom</td>\n",
       "      <td>Telecom</td>\n",
       "    </tr>\n",
       "    <tr>\n",
       "      <th>...</th>\n",
       "      <td>...</td>\n",
       "      <td>...</td>\n",
       "      <td>...</td>\n",
       "      <td>...</td>\n",
       "      <td>...</td>\n",
       "      <td>...</td>\n",
       "      <td>...</td>\n",
       "    </tr>\n",
       "    <tr>\n",
       "      <th>1195</th>\n",
       "      <td>Josh Kushner</td>\n",
       "      <td>Josh Kushner</td>\n",
       "      <td>Josh Kushner</td>\n",
       "      <td>Josh Kushner</td>\n",
       "      <td>Josh Kushner</td>\n",
       "      <td>Josh Kushner</td>\n",
       "      <td>Josh Kushner</td>\n",
       "    </tr>\n",
       "    <tr>\n",
       "      <th>1196</th>\n",
       "      <td>$3.6 B</td>\n",
       "      <td>$3.6 B</td>\n",
       "      <td>$3.6 B</td>\n",
       "      <td>$3.6 B</td>\n",
       "      <td>$3.6 B</td>\n",
       "      <td>$3.6 B</td>\n",
       "      <td>$3.6 B</td>\n",
       "    </tr>\n",
       "    <tr>\n",
       "      <th>1197</th>\n",
       "      <td>37</td>\n",
       "      <td>37</td>\n",
       "      <td>37</td>\n",
       "      <td>37</td>\n",
       "      <td>37</td>\n",
       "      <td>37</td>\n",
       "      <td>37</td>\n",
       "    </tr>\n",
       "    <tr>\n",
       "      <th>1198</th>\n",
       "      <td></td>\n",
       "      <td></td>\n",
       "      <td></td>\n",
       "      <td></td>\n",
       "      <td></td>\n",
       "      <td></td>\n",
       "      <td></td>\n",
       "    </tr>\n",
       "    <tr>\n",
       "      <th>1199</th>\n",
       "      <td></td>\n",
       "      <td></td>\n",
       "      <td></td>\n",
       "      <td></td>\n",
       "      <td></td>\n",
       "      <td></td>\n",
       "      <td></td>\n",
       "    </tr>\n",
       "  </tbody>\n",
       "</table>\n",
       "<p>1200 rows × 7 columns</p>\n",
       "</div>"
      ],
      "text/plain": [
       "              NAME         WORTH           AGE       COUNTRY   CITIZENSHIP  \\\n",
       "0              591           591           591           591           591   \n",
       "1       Richard Li    Richard Li    Richard Li    Richard Li    Richard Li   \n",
       "2           $4.6 B        $4.6 B        $4.6 B        $4.6 B        $4.6 B   \n",
       "3               56            56            56            56            56   \n",
       "4          Telecom       Telecom       Telecom       Telecom       Telecom   \n",
       "...            ...           ...           ...           ...           ...   \n",
       "1195  Josh Kushner  Josh Kushner  Josh Kushner  Josh Kushner  Josh Kushner   \n",
       "1196        $3.6 B        $3.6 B        $3.6 B        $3.6 B        $3.6 B   \n",
       "1197            37            37            37            37            37   \n",
       "1198                                                                         \n",
       "1199                                                                         \n",
       "\n",
       "          INDUSTRY        SOURCE  \n",
       "0              591           591  \n",
       "1       Richard Li    Richard Li  \n",
       "2           $4.6 B        $4.6 B  \n",
       "3               56            56  \n",
       "4          Telecom       Telecom  \n",
       "...            ...           ...  \n",
       "1195  Josh Kushner  Josh Kushner  \n",
       "1196        $3.6 B        $3.6 B  \n",
       "1197            37            37  \n",
       "1198                              \n",
       "1199                              \n",
       "\n",
       "[1200 rows x 7 columns]"
      ]
     },
     "execution_count": 66,
     "metadata": {},
     "output_type": "execute_result"
    }
   ],
   "source": [
    "import pandas as pd\n",
    "df=pd.DataFrame({'NAME':NAME,'WORTH':WORTH,'AGE':AGE, 'COUNTRY':COUNTRY,'CITIZENSHIP':CITIZENSHIP,'INDUSTRY':INDUSTRY,'SOURCE':SOURCE})\n",
    "df"
   ]
  },
  {
   "cell_type": "code",
   "execution_count": 67,
   "id": "3d76521d-c538-41a8-aa78-ff5ae13416f5",
   "metadata": {
    "tags": []
   },
   "outputs": [],
   "source": [
    "search_keyword = driver.find_element(By.XPATH, \"/html/body/div[1]/div[2]/div[3]/div[2]/div[2]/div[2]/div[2]/div[2]/div[1]/div/button[5]\")\n",
    "search_keyword.click()"
   ]
  },
  {
   "cell_type": "code",
   "execution_count": 68,
   "id": "2318b1c7-1dbe-426f-a7d0-29ac10d50fc4",
   "metadata": {
    "tags": []
   },
   "outputs": [],
   "source": [
    "NAME=[]\n",
    "WORTH=[]\n",
    "AGE=[]\n",
    "COUNTRY=[]\n",
    "INDUSTRY=[]\n",
    "CITIZENSHIP=[]\n",
    "SOURCE=[]"
   ]
  },
  {
   "cell_type": "code",
   "execution_count": 69,
   "id": "86f42eec-3f4e-44f7-8e92-b91cf4f52d65",
   "metadata": {
    "tags": []
   },
   "outputs": [],
   "source": [
    "title_tags=driver.find_elements(By.CLASS_NAME,\"Table_dataCell__2QCve\")\n",
    "for i in title_tags[0:1200]:\n",
    "    title=i.text\n",
    "    NAME.append(title)"
   ]
  },
  {
   "cell_type": "code",
   "execution_count": 70,
   "id": "aacdc2cb-7db9-427b-8243-7f4f4b91aae9",
   "metadata": {
    "tags": []
   },
   "outputs": [],
   "source": [
    "title_tags=driver.find_elements(By.CLASS_NAME,\"Table_dataCell__2QCve\")\n",
    "for i in title_tags[0:1200]:\n",
    "    title=i.text\n",
    "    WORTH.append(title)"
   ]
  },
  {
   "cell_type": "code",
   "execution_count": 71,
   "id": "82e0d895-0569-4723-bc53-104e491cde79",
   "metadata": {
    "tags": []
   },
   "outputs": [],
   "source": [
    "title_tags=driver.find_elements(By.CLASS_NAME,\"Table_dataCell__2QCve\")\n",
    "for i in title_tags[0:1200]:\n",
    "    title=i.text\n",
    "    AGE.append(title)"
   ]
  },
  {
   "cell_type": "code",
   "execution_count": 72,
   "id": "972343b6-b6eb-4841-b963-4631c8c69d5e",
   "metadata": {
    "tags": []
   },
   "outputs": [],
   "source": [
    "title_tags=driver.find_elements(By.CLASS_NAME,\"Table_dataCell__2QCve\")\n",
    "for i in title_tags[0:1200]:\n",
    "    title=i.text\n",
    "    COUNTRY.append(title)"
   ]
  },
  {
   "cell_type": "code",
   "execution_count": 73,
   "id": "aa9da494-46a6-4bb1-a3cb-4d4bdab1a83d",
   "metadata": {
    "tags": []
   },
   "outputs": [],
   "source": [
    "title_tags=driver.find_elements(By.CLASS_NAME,\"Table_dataCell__2QCve\")\n",
    "for i in title_tags[0:1200]:\n",
    "    title=i.text\n",
    "    INDUSTRY.append(title)"
   ]
  },
  {
   "cell_type": "code",
   "execution_count": 74,
   "id": "2456550f-e9c1-4e36-a747-f17ab17871a1",
   "metadata": {
    "tags": []
   },
   "outputs": [],
   "source": [
    "title_tags=driver.find_elements(By.CLASS_NAME,\"Table_dataCell__2QCve\")\n",
    "for i in title_tags[0:1200]:\n",
    "    title=i.text\n",
    "    CITIZENSHIP.append(title)"
   ]
  },
  {
   "cell_type": "code",
   "execution_count": 75,
   "id": "308cf409-57d7-4a99-983a-bf88015c0c25",
   "metadata": {
    "tags": []
   },
   "outputs": [],
   "source": [
    "title_tags=driver.find_elements(By.CLASS_NAME,\"Table_dataCell__2QCve\")\n",
    "for i in title_tags[0:1200]:\n",
    "    title=i.text\n",
    "    SOURCE.append(title)"
   ]
  },
  {
   "cell_type": "code",
   "execution_count": 76,
   "id": "6f0049de-707d-4565-83dd-cdabd5079fc0",
   "metadata": {
    "tags": []
   },
   "outputs": [
    {
     "name": "stdout",
     "output_type": "stream",
     "text": [
      "1200 1200 1200 1200 1200 1200 1200\n"
     ]
    }
   ],
   "source": [
    "print(len(NAME),len(WORTH),len(AGE),len(COUNTRY),len(CITIZENSHIP),len(INDUSTRY),len(SOURCE))"
   ]
  },
  {
   "cell_type": "code",
   "execution_count": 77,
   "id": "213d915b-d942-4f79-bc76-23cde2239dad",
   "metadata": {
    "tags": []
   },
   "outputs": [
    {
     "data": {
      "text/html": [
       "<div>\n",
       "<style scoped>\n",
       "    .dataframe tbody tr th:only-of-type {\n",
       "        vertical-align: middle;\n",
       "    }\n",
       "\n",
       "    .dataframe tbody tr th {\n",
       "        vertical-align: top;\n",
       "    }\n",
       "\n",
       "    .dataframe thead th {\n",
       "        text-align: right;\n",
       "    }\n",
       "</style>\n",
       "<table border=\"1\" class=\"dataframe\">\n",
       "  <thead>\n",
       "    <tr style=\"text-align: right;\">\n",
       "      <th></th>\n",
       "      <th>NAME</th>\n",
       "      <th>WORTH</th>\n",
       "      <th>AGE</th>\n",
       "      <th>COUNTRY</th>\n",
       "      <th>CITIZENSHIP</th>\n",
       "      <th>INDUSTRY</th>\n",
       "      <th>SOURCE</th>\n",
       "    </tr>\n",
       "  </thead>\n",
       "  <tbody>\n",
       "    <tr>\n",
       "      <th>0</th>\n",
       "      <td>787</td>\n",
       "      <td>787</td>\n",
       "      <td>787</td>\n",
       "      <td>787</td>\n",
       "      <td>787</td>\n",
       "      <td>787</td>\n",
       "      <td>787</td>\n",
       "    </tr>\n",
       "    <tr>\n",
       "      <th>1</th>\n",
       "      <td>Samuel Tak Lee</td>\n",
       "      <td>Samuel Tak Lee</td>\n",
       "      <td>Samuel Tak Lee</td>\n",
       "      <td>Samuel Tak Lee</td>\n",
       "      <td>Samuel Tak Lee</td>\n",
       "      <td>Samuel Tak Lee</td>\n",
       "      <td>Samuel Tak Lee</td>\n",
       "    </tr>\n",
       "    <tr>\n",
       "      <th>2</th>\n",
       "      <td>$3.6 B</td>\n",
       "      <td>$3.6 B</td>\n",
       "      <td>$3.6 B</td>\n",
       "      <td>$3.6 B</td>\n",
       "      <td>$3.6 B</td>\n",
       "      <td>$3.6 B</td>\n",
       "      <td>$3.6 B</td>\n",
       "    </tr>\n",
       "    <tr>\n",
       "      <th>3</th>\n",
       "      <td>83</td>\n",
       "      <td>83</td>\n",
       "      <td>83</td>\n",
       "      <td>83</td>\n",
       "      <td>83</td>\n",
       "      <td>83</td>\n",
       "      <td>83</td>\n",
       "    </tr>\n",
       "    <tr>\n",
       "      <th>4</th>\n",
       "      <td></td>\n",
       "      <td></td>\n",
       "      <td></td>\n",
       "      <td></td>\n",
       "      <td></td>\n",
       "      <td></td>\n",
       "      <td></td>\n",
       "    </tr>\n",
       "    <tr>\n",
       "      <th>...</th>\n",
       "      <td>...</td>\n",
       "      <td>...</td>\n",
       "      <td>...</td>\n",
       "      <td>...</td>\n",
       "      <td>...</td>\n",
       "      <td>...</td>\n",
       "      <td>...</td>\n",
       "    </tr>\n",
       "    <tr>\n",
       "      <th>1195</th>\n",
       "      <td>Sam Goi</td>\n",
       "      <td>Sam Goi</td>\n",
       "      <td>Sam Goi</td>\n",
       "      <td>Sam Goi</td>\n",
       "      <td>Sam Goi</td>\n",
       "      <td>Sam Goi</td>\n",
       "      <td>Sam Goi</td>\n",
       "    </tr>\n",
       "    <tr>\n",
       "      <th>1196</th>\n",
       "      <td>$3 B</td>\n",
       "      <td>$3 B</td>\n",
       "      <td>$3 B</td>\n",
       "      <td>$3 B</td>\n",
       "      <td>$3 B</td>\n",
       "      <td>$3 B</td>\n",
       "      <td>$3 B</td>\n",
       "    </tr>\n",
       "    <tr>\n",
       "      <th>1197</th>\n",
       "      <td>76</td>\n",
       "      <td>76</td>\n",
       "      <td>76</td>\n",
       "      <td>76</td>\n",
       "      <td>76</td>\n",
       "      <td>76</td>\n",
       "      <td>76</td>\n",
       "    </tr>\n",
       "    <tr>\n",
       "      <th>1198</th>\n",
       "      <td></td>\n",
       "      <td></td>\n",
       "      <td></td>\n",
       "      <td></td>\n",
       "      <td></td>\n",
       "      <td></td>\n",
       "      <td></td>\n",
       "    </tr>\n",
       "    <tr>\n",
       "      <th>1199</th>\n",
       "      <td></td>\n",
       "      <td></td>\n",
       "      <td></td>\n",
       "      <td></td>\n",
       "      <td></td>\n",
       "      <td></td>\n",
       "      <td></td>\n",
       "    </tr>\n",
       "  </tbody>\n",
       "</table>\n",
       "<p>1200 rows × 7 columns</p>\n",
       "</div>"
      ],
      "text/plain": [
       "                NAME           WORTH             AGE         COUNTRY  \\\n",
       "0                787             787             787             787   \n",
       "1     Samuel Tak Lee  Samuel Tak Lee  Samuel Tak Lee  Samuel Tak Lee   \n",
       "2             $3.6 B          $3.6 B          $3.6 B          $3.6 B   \n",
       "3                 83              83              83              83   \n",
       "4                                                                      \n",
       "...              ...             ...             ...             ...   \n",
       "1195         Sam Goi         Sam Goi         Sam Goi         Sam Goi   \n",
       "1196            $3 B            $3 B            $3 B            $3 B   \n",
       "1197              76              76              76              76   \n",
       "1198                                                                   \n",
       "1199                                                                   \n",
       "\n",
       "         CITIZENSHIP        INDUSTRY          SOURCE  \n",
       "0                787             787             787  \n",
       "1     Samuel Tak Lee  Samuel Tak Lee  Samuel Tak Lee  \n",
       "2             $3.6 B          $3.6 B          $3.6 B  \n",
       "3                 83              83              83  \n",
       "4                                                     \n",
       "...              ...             ...             ...  \n",
       "1195         Sam Goi         Sam Goi         Sam Goi  \n",
       "1196            $3 B            $3 B            $3 B  \n",
       "1197              76              76              76  \n",
       "1198                                                  \n",
       "1199                                                  \n",
       "\n",
       "[1200 rows x 7 columns]"
      ]
     },
     "execution_count": 77,
     "metadata": {},
     "output_type": "execute_result"
    }
   ],
   "source": [
    "import pandas as pd\n",
    "df=pd.DataFrame({'NAME':NAME,'WORTH':WORTH,'AGE':AGE, 'COUNTRY':COUNTRY,'CITIZENSHIP':CITIZENSHIP,'INDUSTRY':INDUSTRY,'SOURCE':SOURCE})\n",
    "df"
   ]
  },
  {
   "cell_type": "code",
   "execution_count": 78,
   "id": "0f9cfb6f-afaa-4543-9009-bef14c17449c",
   "metadata": {
    "tags": []
   },
   "outputs": [],
   "source": [
    "search_keyword = driver.find_element(By.XPATH, \"/html/body/div[1]/div[2]/div[3]/div[2]/div[2]/div[2]/div[2]/div[2]/div[1]/div/button[6]\")\n",
    "search_keyword.click()"
   ]
  },
  {
   "cell_type": "code",
   "execution_count": 91,
   "id": "4255742e-1161-42ce-86c4-45ce6158bf91",
   "metadata": {
    "tags": []
   },
   "outputs": [],
   "source": [
    "NAME=[]\n",
    "WORTH=[]\n",
    "AGE=[]\n",
    "COUNTRY=[]\n",
    "INDUSTRY=[]\n",
    "CITIZENSHIP=[]\n",
    "SOURCE=[]"
   ]
  },
  {
   "cell_type": "code",
   "execution_count": null,
   "id": "fa2f067f-f2e7-40c8-9309-877019f38852",
   "metadata": {
    "tags": []
   },
   "outputs": [],
   "source": [
    "title_tags=driver.find_elements(By.CLASS_NAME,\"Table_dataCell__2QCve\")\n",
    "for i in title_tags[0:1200]:\n",
    "    title=i.text\n",
    "    NAME.append(title)"
   ]
  },
  {
   "cell_type": "code",
   "execution_count": 81,
   "id": "f9ddd20d-48e1-4e82-8876-f80edfda8af0",
   "metadata": {
    "tags": []
   },
   "outputs": [],
   "source": [
    "title_tags=driver.find_elements(By.CLASS_NAME,\"Table_dataCell__2QCve\")\n",
    "for i in title_tags[0:1200]:\n",
    "    title=i.text\n",
    "    WORTH.append(title)"
   ]
  },
  {
   "cell_type": "code",
   "execution_count": 82,
   "id": "5d6ceaba-f5bb-4a7b-b92d-d3d0a46e809e",
   "metadata": {
    "tags": []
   },
   "outputs": [],
   "source": [
    "title_tags=driver.find_elements(By.CLASS_NAME,\"Table_dataCell__2QCve\")\n",
    "for i in title_tags[0:1200]:\n",
    "    title=i.text\n",
    "    AGE.append(title)"
   ]
  },
  {
   "cell_type": "code",
   "execution_count": 83,
   "id": "c345a017-c943-4328-9725-0fa44ba0642a",
   "metadata": {
    "tags": []
   },
   "outputs": [],
   "source": [
    "title_tags=driver.find_elements(By.CLASS_NAME,\"Table_dataCell__2QCve\")\n",
    "for i in title_tags[0:1200]:\n",
    "    title=i.text\n",
    "    COUNTRY.append(title)"
   ]
  },
  {
   "cell_type": "code",
   "execution_count": 84,
   "id": "ac4e0f42-00d7-4402-8243-2fdaf7797bc1",
   "metadata": {
    "tags": []
   },
   "outputs": [],
   "source": [
    "title_tags=driver.find_elements(By.CLASS_NAME,\"Table_dataCell__2QCve\")\n",
    "for i in title_tags[0:1200]:\n",
    "    title=i.text\n",
    "    INDUSTRY.append(title)"
   ]
  },
  {
   "cell_type": "code",
   "execution_count": null,
   "id": "32b01c05-3b78-4d1f-9823-605249c61458",
   "metadata": {
    "tags": []
   },
   "outputs": [],
   "source": [
    "title_tags=driver.find_elements(By.CLASS_NAME,\"Table_dataCell__2QCve\")\n",
    "for i in title_tags[0:1200]:\n",
    "    title=i.text\n",
    "    CITIZENSHIP.append(title)"
   ]
  },
  {
   "cell_type": "code",
   "execution_count": null,
   "id": "f26908aa-38f6-4d64-b7db-46ec809d0864",
   "metadata": {
    "tags": []
   },
   "outputs": [],
   "source": [
    "title_tags=driver.find_elements(By.CLASS_NAME,\"Table_dataCell__2QCve\")\n",
    "for i in title_tags[0:1200]:\n",
    "    title=i.text\n",
    "    SOURCE.append(title)"
   ]
  },
  {
   "cell_type": "code",
   "execution_count": null,
   "id": "554dee1c-4e1e-4728-8b98-4ec56f16bdab",
   "metadata": {},
   "outputs": [],
   "source": [
    "print(len(NAME),len(WORTH),len(AGE),len(COUNTRY),len(CITIZENSHIP),len(INDUSTRY),len(SOURCE))"
   ]
  },
  {
   "cell_type": "code",
   "execution_count": null,
   "id": "9800377e-995c-46fb-a921-785273351a8d",
   "metadata": {},
   "outputs": [],
   "source": [
    "import pandas as pd\n",
    "df=pd.DataFrame({'NAME':NAME,'WORTH':WORTH,'AGE':AGE, 'COUNTRY':COUNTRY,'CITIZENSHIP':CITIZENSHIP,'INDUSTRY':INDUSTRY,'SOURCE':SOURCE})\n",
    "df"
   ]
  },
  {
   "cell_type": "code",
   "execution_count": null,
   "id": "e0f18f2e-51a3-48ca-923b-3f0baecaa517",
   "metadata": {},
   "outputs": [],
   "source": [
    "search_keyword = driver.find_element(By.XPATH, \"/html/body/div[1]/div[2]/div[3]/div[2]/div[2]/div[2]/div[2]/div[2]/div[1]/div/button[7]\")\n",
    "search_keyword.click()"
   ]
  },
  {
   "cell_type": "code",
   "execution_count": null,
   "id": "fa418ba8-3474-4ec4-a426-e83a7e0599b3",
   "metadata": {},
   "outputs": [],
   "source": [
    "NAME=[]\n",
    "WORTH=[]\n",
    "AGE=[]\n",
    "COUNTRY=[]\n",
    "INDUSTRY=[]\n",
    "CITIZENSHIP=[]\n",
    "SOURCE=[]"
   ]
  },
  {
   "cell_type": "code",
   "execution_count": null,
   "id": "99ee5cab-a52c-411c-9756-bb61afdad92a",
   "metadata": {},
   "outputs": [],
   "source": [
    "title_tags=driver.find_elements(By.CLASS_NAME,\"Table_dataCell__2QCve\")\n",
    "for i in title_tags[0:1200]:\n",
    "    title=i.text\n",
    "    NAME.append(title)"
   ]
  },
  {
   "cell_type": "code",
   "execution_count": null,
   "id": "5bc7ab37-c968-4904-ad2c-55ac7fbfbe87",
   "metadata": {},
   "outputs": [],
   "source": [
    "title_tags=driver.find_elements(By.CLASS_NAME,\"Table_dataCell__2QCve\")\n",
    "for i in title_tags[0:1200]:\n",
    "    title=i.text\n",
    "    WORTH.append(title)"
   ]
  },
  {
   "cell_type": "code",
   "execution_count": null,
   "id": "b2a81bd2-b503-417f-9fcc-44d997c28214",
   "metadata": {},
   "outputs": [],
   "source": [
    "title_tags=driver.find_elements(By.CLASS_NAME,\"Table_dataCell__2QCve\")\n",
    "for i in title_tags[0:1200]:\n",
    "    title=i.text\n",
    "    AGE.append(title)"
   ]
  },
  {
   "cell_type": "code",
   "execution_count": null,
   "id": "32ef8e1b-babd-4711-a7c8-9bf5eb56eb8c",
   "metadata": {},
   "outputs": [],
   "source": [
    "title_tags=driver.find_elements(By.CLASS_NAME,\"Table_dataCell__2QCve\")\n",
    "for i in title_tags[0:1200]:\n",
    "    title=i.text\n",
    "    COUNTRY.append(title)"
   ]
  },
  {
   "cell_type": "code",
   "execution_count": null,
   "id": "12c210d7-b0c9-4c10-8d87-cefcd52695c2",
   "metadata": {},
   "outputs": [],
   "source": [
    "title_tags=driver.find_elements(By.CLASS_NAME,\"Table_dataCell__2QCve\")\n",
    "for i in title_tags[0:1200]:\n",
    "    title=i.text\n",
    "    INDUSTRY.append(title)"
   ]
  },
  {
   "cell_type": "code",
   "execution_count": null,
   "id": "c1a6aedc-ab5a-449a-9cf8-146d5401a970",
   "metadata": {},
   "outputs": [],
   "source": [
    "title_tags=driver.find_elements(By.CLASS_NAME,\"Table_dataCell__2QCve\")\n",
    "for i in title_tags[0:1200]:\n",
    "    title=i.text\n",
    "    CITIZENSHIP.append(title)"
   ]
  },
  {
   "cell_type": "code",
   "execution_count": null,
   "id": "db515c7a-01b1-4ba4-bd13-4d5aa3a096fd",
   "metadata": {},
   "outputs": [],
   "source": [
    "title_tags=driver.find_elements(By.CLASS_NAME,\"Table_dataCell__2QCve\")\n",
    "for i in title_tags[0:1200]:\n",
    "    title=i.text\n",
    "    SOURCE.append(title)"
   ]
  },
  {
   "cell_type": "code",
   "execution_count": null,
   "id": "01c7ae04-d05b-4d26-8a62-73b263bb70f6",
   "metadata": {},
   "outputs": [],
   "source": [
    "print(len(NAME),len(WORTH),len(AGE),len(COUNTRY),len(CITIZENSHIP),len(INDUSTRY),len(SOURCE))"
   ]
  },
  {
   "cell_type": "code",
   "execution_count": null,
   "id": "90370684-7d80-419f-b542-6fa562498103",
   "metadata": {},
   "outputs": [],
   "source": [
    "import pandas as pd\n",
    "df=pd.DataFrame({'NAME':NAME,'WORTH':WORTH,'AGE':AGE, 'COUNTRY':COUNTRY,'CITIZENSHIP':CITIZENSHIP,'INDUSTRY':INDUSTRY,'SOURCE':SOURCE})\n",
    "df"
   ]
  },
  {
   "cell_type": "code",
   "execution_count": null,
   "id": "a1c1ed15-a3e2-4a60-9483-f5d36c127d7e",
   "metadata": {},
   "outputs": [],
   "source": [
    "search_keyword = driver.find_element(By.XPATH, \"/html/body/div[1]/div[2]/div[3]/div[2]/div[2]/div[2]/div[2]/div[2]/div[1]/div/button[8]\")\n",
    "search_keyword.click()"
   ]
  },
  {
   "cell_type": "code",
   "execution_count": null,
   "id": "edfddbfa-4635-4039-8b34-8870a4c638cb",
   "metadata": {},
   "outputs": [],
   "source": [
    "NAME=[]\n",
    "WORTH=[]\n",
    "AGE=[]\n",
    "COUNTRY=[]\n",
    "INDUSTRY=[]\n",
    "CITIZENSHIP=[]\n",
    "SOURCE=[]"
   ]
  },
  {
   "cell_type": "code",
   "execution_count": null,
   "id": "ce0b00e5-9c8a-4e23-adc2-89b900323b1a",
   "metadata": {},
   "outputs": [],
   "source": [
    "title_tags=driver.find_elements(By.CLASS_NAME,\"Table_dataCell__2QCve\")\n",
    "for i in title_tags[0:1200]:\n",
    "    title=i.text\n",
    "    NAME.append(title)"
   ]
  },
  {
   "cell_type": "code",
   "execution_count": null,
   "id": "00bf9cc1-2f1e-4f55-81c4-706ff6677ef3",
   "metadata": {},
   "outputs": [],
   "source": [
    "title_tags=driver.find_elements(By.CLASS_NAME,\"Table_dataCell__2QCve\")\n",
    "for i in title_tags[0:1200]:\n",
    "    title=i.text\n",
    "    WORTH.append(title)"
   ]
  },
  {
   "cell_type": "code",
   "execution_count": null,
   "id": "35aaafef-51af-411a-9ae0-75e6a34e3725",
   "metadata": {},
   "outputs": [],
   "source": [
    "title_tags=driver.find_elements(By.CLASS_NAME,\"Table_dataCell__2QCve\")\n",
    "for i in title_tags[0:1200]:\n",
    "    title=i.text\n",
    "    AGE.append(title)"
   ]
  },
  {
   "cell_type": "code",
   "execution_count": null,
   "id": "8d5222dc-bb24-4e0c-a220-09f3e7109133",
   "metadata": {},
   "outputs": [],
   "source": [
    "title_tags=driver.find_elements(By.CLASS_NAME,\"Table_dataCell__2QCve\")\n",
    "for i in title_tags[0:1200]:\n",
    "    title=i.text\n",
    "    COUNTRY.append(title)"
   ]
  },
  {
   "cell_type": "code",
   "execution_count": null,
   "id": "92abb439-6f34-4d5e-a829-a1d3dd1f3f8f",
   "metadata": {},
   "outputs": [],
   "source": [
    "title_tags=driver.find_elements(By.CLASS_NAME,\"Table_dataCell__2QCve\")\n",
    "for i in title_tags[0:1200]:\n",
    "    title=i.text\n",
    "    INDUSTRY.append(title)"
   ]
  },
  {
   "cell_type": "code",
   "execution_count": null,
   "id": "137b1a13-e551-41f3-886b-8b5b8d8ae542",
   "metadata": {},
   "outputs": [],
   "source": [
    "title_tags=driver.find_elements(By.CLASS_NAME,\"Table_dataCell__2QCve\")\n",
    "for i in title_tags[0:1200]:\n",
    "    title=i.text\n",
    "    CITIZENSHIP.append(title)"
   ]
  },
  {
   "cell_type": "code",
   "execution_count": null,
   "id": "f66624d7-b8a9-4a7f-88b2-161a601afd8a",
   "metadata": {},
   "outputs": [],
   "source": [
    "title_tags=driver.find_elements(By.CLASS_NAME,\"Table_dataCell__2QCve\")\n",
    "for i in title_tags[0:1200]:\n",
    "    title=i.text\n",
    "    SOURCE.append(title)"
   ]
  },
  {
   "cell_type": "code",
   "execution_count": null,
   "id": "f92bb436-61a4-4a34-afec-c80149a4fd7f",
   "metadata": {},
   "outputs": [],
   "source": [
    "print(len(NAME),len(WORTH),len(AGE),len(COUNTRY),len(CITIZENSHIP),len(INDUSTRY),len(SOURCE))"
   ]
  },
  {
   "cell_type": "code",
   "execution_count": null,
   "id": "8b78bef7-9414-426a-a866-9a8ecf91f0d8",
   "metadata": {},
   "outputs": [],
   "source": [
    "import pandas as pd\n",
    "df=pd.DataFrame({'NAME':NAME,'WORTH':WORTH,'AGE':AGE, 'COUNTRY':COUNTRY,'CITIZENSHIP':CITIZENSHIP,'INDUSTRY':INDUSTRY,'SOURCE':SOURCE})\n",
    "df"
   ]
  },
  {
   "cell_type": "code",
   "execution_count": null,
   "id": "9808914d-4b85-497b-9d87-1d852b5a8d39",
   "metadata": {},
   "outputs": [],
   "source": [
    "search_keyword = driver.find_element(By.XPATH, \"/html/body/div[1]/div[2]/div[3]/div[2]/div[2]/div[2]/div[2]/div[2]/div[1]/div/button[9]\")\n",
    "search_keyword.click()"
   ]
  },
  {
   "cell_type": "code",
   "execution_count": null,
   "id": "7b98e58e-ae19-4ed6-b80c-79739bd63514",
   "metadata": {},
   "outputs": [],
   "source": [
    "NAME=[]\n",
    "WORTH=[]\n",
    "AGE=[]\n",
    "COUNTRY=[]\n",
    "INDUSTRY=[]\n",
    "CITIZENSHIP=[]\n",
    "SOURCE=[]"
   ]
  },
  {
   "cell_type": "code",
   "execution_count": null,
   "id": "93585f6f-bb10-4952-8b15-5217bc85573c",
   "metadata": {},
   "outputs": [],
   "source": [
    "title_tags=driver.find_elements(By.CLASS_NAME,\"Table_dataCell__2QCve\")\n",
    "for i in title_tags[0:1200]:\n",
    "    title=i.text\n",
    "    NAME.append(title)"
   ]
  },
  {
   "cell_type": "code",
   "execution_count": null,
   "id": "fa307db1-901b-4ccd-a153-d37400dffd01",
   "metadata": {},
   "outputs": [],
   "source": [
    "title_tags=driver.find_elements(By.CLASS_NAME,\"Table_dataCell__2QCve\")\n",
    "for i in title_tags[0:1200]:\n",
    "    title=i.text\n",
    "    WORTH.append(title)"
   ]
  },
  {
   "cell_type": "code",
   "execution_count": null,
   "id": "1260f1e8-a2ea-423c-96bc-2a488a7243f1",
   "metadata": {},
   "outputs": [],
   "source": [
    "title_tags=driver.find_elements(By.CLASS_NAME,\"Table_dataCell__2QCve\")\n",
    "for i in title_tags[0:1200]:\n",
    "    title=i.text\n",
    "    AGE.append(title)"
   ]
  },
  {
   "cell_type": "code",
   "execution_count": null,
   "id": "3f8c871e-b492-435b-9b1f-ab39376ed7e2",
   "metadata": {},
   "outputs": [],
   "source": [
    "title_tags=driver.find_elements(By.CLASS_NAME,\"Table_dataCell__2QCve\")\n",
    "for i in title_tags[0:1200]:\n",
    "    title=i.text\n",
    "    COUNTRY.append(title)"
   ]
  },
  {
   "cell_type": "code",
   "execution_count": null,
   "id": "833f5ee7-4515-4b51-9e18-6c7766abdec3",
   "metadata": {},
   "outputs": [],
   "source": [
    "title_tags=driver.find_elements(By.CLASS_NAME,\"Table_dataCell__2QCve\")\n",
    "for i in title_tags[0:1200]:\n",
    "    title=i.text\n",
    "    INDUSTRY.append(title)"
   ]
  },
  {
   "cell_type": "code",
   "execution_count": null,
   "id": "5b8e52f4-9535-4254-bd38-f6a18d2eb2f7",
   "metadata": {},
   "outputs": [],
   "source": [
    "title_tags=driver.find_elements(By.CLASS_NAME,\"Table_dataCell__2QCve\")\n",
    "for i in title_tags[0:1200]:\n",
    "    title=i.text\n",
    "    CITIZENSHIP.append(title)"
   ]
  },
  {
   "cell_type": "code",
   "execution_count": null,
   "id": "280d2faa-4beb-4394-9352-15b07fca90af",
   "metadata": {},
   "outputs": [],
   "source": [
    "title_tags=driver.find_elements(By.CLASS_NAME,\"Table_dataCell__2QCve\")\n",
    "for i in title_tags[0:1200]:\n",
    "    title=i.text\n",
    "    SOURCE.append(title)"
   ]
  },
  {
   "cell_type": "code",
   "execution_count": null,
   "id": "ef0ea6c8-bd73-49c3-bfb9-6cc8f9b71bfa",
   "metadata": {},
   "outputs": [],
   "source": [
    "print(len(NAME),len(WORTH),len(AGE),len(COUNTRY),len(CITIZENSHIP),len(INDUSTRY),len(SOURCE))"
   ]
  },
  {
   "cell_type": "code",
   "execution_count": null,
   "id": "fddd6e98-1568-43de-a2aa-97322e57b744",
   "metadata": {},
   "outputs": [],
   "source": [
    "import pandas as pd\n",
    "df=pd.DataFrame({'NAME':NAME,'WORTH':WORTH,'AGE':AGE, 'COUNTRY':COUNTRY,'CITIZENSHIP':CITIZENSHIP,'INDUSTRY':INDUSTRY,'SOURCE':SOURCE})\n",
    "df"
   ]
  },
  {
   "cell_type": "code",
   "execution_count": null,
   "id": "ec7465e7-8f80-4da0-8b3d-89514f95be81",
   "metadata": {},
   "outputs": [],
   "source": [
    "search_keyword = driver.find_element(By.XPATH, \"/html/body/div[1]/div[2]/div[3]/div[2]/div[2]/div[2]/div[2]/div[2]/div[1]/div/button[10]\")\n",
    "search_keyword.click()"
   ]
  },
  {
   "cell_type": "code",
   "execution_count": null,
   "id": "3c9d26c8-8594-4200-850a-32825e3b765a",
   "metadata": {},
   "outputs": [],
   "source": [
    "NAME=[]\n",
    "WORTH=[]\n",
    "AGE=[]\n",
    "COUNTRY=[]\n",
    "INDUSTRY=[]\n",
    "CITIZENSHIP=[]\n",
    "SOURCE=[]"
   ]
  },
  {
   "cell_type": "code",
   "execution_count": null,
   "id": "9b4c4ae4-5871-4c07-a4b3-c211e3418461",
   "metadata": {},
   "outputs": [],
   "source": [
    "title_tags=driver.find_elements(By.CLASS_NAME,\"Table_dataCell__2QCve\")\n",
    "for i in title_tags[0:1200]:\n",
    "    title=i.text\n",
    "    NAME.append(title)"
   ]
  },
  {
   "cell_type": "code",
   "execution_count": null,
   "id": "522eabe1-5772-438f-95c9-a5ad691efe7f",
   "metadata": {},
   "outputs": [],
   "source": [
    "title_tags=driver.find_elements(By.CLASS_NAME,\"Table_dataCell__2QCve\")\n",
    "for i in title_tags[0:1200]:\n",
    "    title=i.text\n",
    "    WORTH.append(title)"
   ]
  },
  {
   "cell_type": "code",
   "execution_count": null,
   "id": "2e22bd00-55fa-4a51-8b64-3b8ce238ede1",
   "metadata": {},
   "outputs": [],
   "source": [
    "title_tags=driver.find_elements(By.CLASS_NAME,\"Table_dataCell__2QCve\")\n",
    "for i in title_tags[0:1200]:\n",
    "    title=i.text\n",
    "    AGE.append(title)"
   ]
  },
  {
   "cell_type": "code",
   "execution_count": null,
   "id": "7c0716eb-5d81-43da-8a58-f7d05a1e2385",
   "metadata": {},
   "outputs": [],
   "source": [
    "title_tags=driver.find_elements(By.CLASS_NAME,\"Table_dataCell__2QCve\")\n",
    "for i in title_tags[0:1200]:\n",
    "    title=i.text\n",
    "    COUNTRY.append(title)"
   ]
  },
  {
   "cell_type": "code",
   "execution_count": null,
   "id": "fa4dc1a1-9f6e-4664-92ca-bbe9d98b1043",
   "metadata": {},
   "outputs": [],
   "source": [
    "title_tags=driver.find_elements(By.CLASS_NAME,\"Table_dataCell__2QCve\")\n",
    "for i in title_tags[0:1200]:\n",
    "    title=i.text\n",
    "    INDUSTRY.append(title)"
   ]
  },
  {
   "cell_type": "code",
   "execution_count": null,
   "id": "d6a0425c-9051-4bad-aaa5-f4afffb79ee1",
   "metadata": {},
   "outputs": [],
   "source": [
    "title_tags=driver.find_elements(By.CLASS_NAME,\"Table_dataCell__2QCve\")\n",
    "for i in title_tags[0:1200]:\n",
    "    title=i.text\n",
    "    CITIZENSHIP.append(title)"
   ]
  },
  {
   "cell_type": "code",
   "execution_count": null,
   "id": "6a5d0fb5-6bb6-4429-820f-7894ef6b20b0",
   "metadata": {},
   "outputs": [],
   "source": [
    "title_tags=driver.find_elements(By.CLASS_NAME,\"Table_dataCell__2QCve\")\n",
    "for i in title_tags[0:1200]:\n",
    "    title=i.text\n",
    "    SOURCE.append(title)"
   ]
  },
  {
   "cell_type": "code",
   "execution_count": null,
   "id": "5e1449cb-0450-4efd-a971-ea93a3a05396",
   "metadata": {},
   "outputs": [],
   "source": [
    "print(len(NAME),len(WORTH),len(AGE),len(COUNTRY),len(CITIZENSHIP),len(INDUSTRY),len(SOURCE))"
   ]
  },
  {
   "cell_type": "code",
   "execution_count": null,
   "id": "57eb030d-ac47-4aa9-8d16-68aa93e92644",
   "metadata": {},
   "outputs": [],
   "source": [
    "import pandas as pd\n",
    "df=pd.DataFrame({'NAME':NAME,'WORTH':WORTH,'AGE':AGE, 'COUNTRY':COUNTRY,'CITIZENSHIP':CITIZENSHIP,'INDUSTRY':INDUSTRY,'SOURCE':SOURCE})\n",
    "df"
   ]
  },
  {
   "cell_type": "code",
   "execution_count": null,
   "id": "3496abda-eb41-4875-b711-483ad3acdf47",
   "metadata": {},
   "outputs": [],
   "source": [
    "search_keyword = driver.find_element(By.XPATH, \"/html/body/div[1]/div[2]/div[3]/div[2]/div[2]/div[2]/div[2]/div[2]/div[1]/div/button[11]\")\n",
    "search_keyword.click()"
   ]
  },
  {
   "cell_type": "code",
   "execution_count": null,
   "id": "da1ab0b3-e5e8-4431-8764-b8cf02ed6065",
   "metadata": {},
   "outputs": [],
   "source": [
    "NAME=[]\n",
    "WORTH=[]\n",
    "AGE=[]\n",
    "COUNTRY=[]\n",
    "INDUSTRY=[]\n",
    "CITIZENSHIP=[]\n",
    "SOURCE=[]"
   ]
  },
  {
   "cell_type": "code",
   "execution_count": null,
   "id": "43934654-dcaf-4d98-8e61-0e02f29cf73e",
   "metadata": {},
   "outputs": [],
   "source": [
    "title_tags=driver.find_elements(By.CLASS_NAME,\"Table_dataCell__2QCve\")\n",
    "for i in title_tags[0:1200]:\n",
    "    title=i.text\n",
    "    NAME.append(title)"
   ]
  },
  {
   "cell_type": "code",
   "execution_count": null,
   "id": "49297b23-958d-4d48-897f-1d2935d169b6",
   "metadata": {},
   "outputs": [],
   "source": [
    "title_tags=driver.find_elements(By.CLASS_NAME,\"Table_dataCell__2QCve\")\n",
    "for i in title_tags[0:1200]:\n",
    "    title=i.text\n",
    "    WORTH.append(title)"
   ]
  },
  {
   "cell_type": "code",
   "execution_count": null,
   "id": "4a7e867c-e537-4fdb-85ef-7b8fd27e5026",
   "metadata": {},
   "outputs": [],
   "source": [
    "title_tags=driver.find_elements(By.CLASS_NAME,\"Table_dataCell__2QCve\")\n",
    "for i in title_tags[0:1200]:\n",
    "    title=i.text\n",
    "    AGE.append(title)"
   ]
  },
  {
   "cell_type": "code",
   "execution_count": null,
   "id": "87e061a4-eaee-4f15-b363-aea8b0412783",
   "metadata": {},
   "outputs": [],
   "source": [
    "title_tags=driver.find_elements(By.CLASS_NAME,\"Table_dataCell__2QCve\")\n",
    "for i in title_tags[0:1200]:\n",
    "    title=i.text\n",
    "    COUNTRY.append(title)"
   ]
  },
  {
   "cell_type": "code",
   "execution_count": null,
   "id": "38946b6f-861f-4cfc-b3af-aafd16eb1a9c",
   "metadata": {},
   "outputs": [],
   "source": [
    "title_tags=driver.find_elements(By.CLASS_NAME,\"Table_dataCell__2QCve\")\n",
    "for i in title_tags[0:1200]:\n",
    "    title=i.text\n",
    "    INDUSTRY.append(title)"
   ]
  },
  {
   "cell_type": "code",
   "execution_count": null,
   "id": "aca66f51-8240-4668-8d04-9ecd8fef5612",
   "metadata": {},
   "outputs": [],
   "source": [
    "title_tags=driver.find_elements(By.CLASS_NAME,\"Table_dataCell__2QCve\")\n",
    "for i in title_tags[0:1200]:\n",
    "    title=i.text\n",
    "    CITIZENSHIP.append(title)"
   ]
  },
  {
   "cell_type": "code",
   "execution_count": null,
   "id": "58912e79-712f-4d69-92c2-da63d79c95d9",
   "metadata": {},
   "outputs": [],
   "source": [
    "title_tags=driver.find_elements(By.CLASS_NAME,\"Table_dataCell__2QCve\")\n",
    "for i in title_tags[0:1200]:\n",
    "    title=i.text\n",
    "    SOURCE.append(title)"
   ]
  },
  {
   "cell_type": "code",
   "execution_count": null,
   "id": "b0a2257e-4be3-4e0a-8db1-1d8def2c6d96",
   "metadata": {},
   "outputs": [],
   "source": [
    "print(len(NAME),len(WORTH),len(AGE),len(COUNTRY),len(CITIZENSHIP),len(INDUSTRY),len(SOURCE))"
   ]
  },
  {
   "cell_type": "code",
   "execution_count": null,
   "id": "eaad7c9f-5fdf-430e-a792-23661136a795",
   "metadata": {},
   "outputs": [],
   "source": [
    "import pandas as pd\n",
    "df=pd.DataFrame({'NAME':NAME,'WORTH':WORTH,'AGE':AGE, 'COUNTRY':COUNTRY,'CITIZENSHIP':CITIZENSHIP,'INDUSTRY':INDUSTRY,'SOURCE':SOURCE})\n",
    "df"
   ]
  },
  {
   "cell_type": "code",
   "execution_count": null,
   "id": "f3a29e43-0c6f-4f56-90e2-02868432a7d2",
   "metadata": {},
   "outputs": [],
   "source": [
    "search_keyword = driver.find_element(By.XPATH, \"/html/body/div[1]/div[2]/div[3]/div[2]/div[2]/div[2]/div[2]/div[2]/div[1]/div/button[12]\")\n",
    "search_keyword.click()"
   ]
  },
  {
   "cell_type": "code",
   "execution_count": null,
   "id": "e069851e-800a-499e-a3fd-95f4cef66e59",
   "metadata": {},
   "outputs": [],
   "source": [
    "NAME=[]\n",
    "WORTH=[]\n",
    "AGE=[]\n",
    "COUNTRY=[]\n",
    "INDUSTRY=[]\n",
    "CITIZENSHIP=[]\n",
    "SOURCE=[]"
   ]
  },
  {
   "cell_type": "code",
   "execution_count": null,
   "id": "0adc9cb4-0f18-4499-a201-c5b07f406ca1",
   "metadata": {},
   "outputs": [],
   "source": [
    "title_tags=driver.find_elements(By.CLASS_NAME,\"Table_dataCell__2QCve\")\n",
    "for i in title_tags[0:1200]:\n",
    "    title=i.text\n",
    "    NAME.append(title)"
   ]
  },
  {
   "cell_type": "code",
   "execution_count": null,
   "id": "f05a8da4-ec06-454c-a267-1ff7ecf470a7",
   "metadata": {},
   "outputs": [],
   "source": [
    "title_tags=driver.find_elements(By.CLASS_NAME,\"Table_dataCell__2QCve\")\n",
    "for i in title_tags[0:1200]:\n",
    "    title=i.text\n",
    "    WORTH.append(title)"
   ]
  },
  {
   "cell_type": "code",
   "execution_count": null,
   "id": "7de5247c-e246-4cae-bb60-9919c375c500",
   "metadata": {},
   "outputs": [],
   "source": [
    "title_tags=driver.find_elements(By.CLASS_NAME,\"Table_dataCell__2QCve\")\n",
    "for i in title_tags[0:1200]:\n",
    "    title=i.text\n",
    "    AGE.append(title)"
   ]
  },
  {
   "cell_type": "code",
   "execution_count": null,
   "id": "8f05995c-b56c-4038-bbaf-10e99b4c99fe",
   "metadata": {},
   "outputs": [],
   "source": [
    "title_tags=driver.find_elements(By.CLASS_NAME,\"Table_dataCell__2QCve\")\n",
    "for i in title_tags[0:1200]:\n",
    "    title=i.text\n",
    "    COUNTRY.append(title)"
   ]
  },
  {
   "cell_type": "code",
   "execution_count": null,
   "id": "e37f8929-0b55-4090-9e69-92a0595220a5",
   "metadata": {},
   "outputs": [],
   "source": [
    "title_tags=driver.find_elements(By.CLASS_NAME,\"Table_dataCell__2QCve\")\n",
    "for i in title_tags[0:1200]:\n",
    "    title=i.text\n",
    "    INDUSTRY.append(title)"
   ]
  },
  {
   "cell_type": "code",
   "execution_count": null,
   "id": "e4f02205-bf9a-463a-91f0-67f03d2f955c",
   "metadata": {},
   "outputs": [],
   "source": [
    "title_tags=driver.find_elements(By.CLASS_NAME,\"Table_dataCell__2QCve\")\n",
    "for i in title_tags[0:1200]:\n",
    "    title=i.text\n",
    "    CITIZENSHIP.append(title)"
   ]
  },
  {
   "cell_type": "code",
   "execution_count": null,
   "id": "b139e65e-da14-47f8-81e3-a26bc33e8f0e",
   "metadata": {},
   "outputs": [],
   "source": [
    "title_tags=driver.find_elements(By.CLASS_NAME,\"Table_dataCell__2QCve\")\n",
    "for i in title_tags[0:1200]:\n",
    "    title=i.text\n",
    "    SOURCE.append(title)"
   ]
  },
  {
   "cell_type": "code",
   "execution_count": null,
   "id": "4a92b86c-3cfa-44bf-aa38-a043a05513b7",
   "metadata": {},
   "outputs": [],
   "source": [
    "print(len(NAME),len(WORTH),len(AGE),len(COUNTRY),len(CITIZENSHIP),len(INDUSTRY),len(SOURCE))"
   ]
  },
  {
   "cell_type": "code",
   "execution_count": null,
   "id": "6803ed68-46c7-4d62-a562-2386bf5ef72c",
   "metadata": {},
   "outputs": [],
   "source": [
    "import pandas as pd\n",
    "df=pd.DataFrame({'NAME':NAME,'WORTH':WORTH,'AGE':AGE, 'COUNTRY':COUNTRY,'CITIZENSHIP':CITIZENSHIP,'INDUSTRY':INDUSTRY,'SOURCE':SOURCE})\n",
    "df"
   ]
  },
  {
   "cell_type": "code",
   "execution_count": null,
   "id": "a6d155ab-c1f4-4164-bd70-2be8bc6eae45",
   "metadata": {},
   "outputs": [],
   "source": [
    "search_keyword = driver.find_element(By.XPATH, \"/html/body/div[1]/div[2]/div[3]/div[2]/div[2]/div[2]/div[2]/div[2]/div[1]/div/button[13]\")\n",
    "search_keyword.click()"
   ]
  },
  {
   "cell_type": "code",
   "execution_count": null,
   "id": "66386d43-37db-42e4-919f-19c5c9e5f262",
   "metadata": {},
   "outputs": [],
   "source": [
    "NAME=[]\n",
    "WORTH=[]\n",
    "AGE=[]\n",
    "COUNTRY=[]\n",
    "INDUSTRY=[]\n",
    "CITIZENSHIP=[]\n",
    "SOURCE=[]"
   ]
  },
  {
   "cell_type": "code",
   "execution_count": null,
   "id": "00694671-f45f-4259-9b1e-52133a4dbc1b",
   "metadata": {},
   "outputs": [],
   "source": [
    "title_tags=driver.find_elements(By.CLASS_NAME,\"Table_dataCell__2QCve\")\n",
    "for i in title_tags[0:1200]:\n",
    "    title=i.text\n",
    "    NAME.append(title)"
   ]
  },
  {
   "cell_type": "code",
   "execution_count": null,
   "id": "de8494c8-84b6-4482-9ad3-e67a9d9ce3ef",
   "metadata": {},
   "outputs": [],
   "source": [
    "title_tags=driver.find_elements(By.CLASS_NAME,\"Table_dataCell__2QCve\")\n",
    "for i in title_tags[0:1200]:\n",
    "    title=i.text\n",
    "    WORTH.append(title)"
   ]
  },
  {
   "cell_type": "code",
   "execution_count": null,
   "id": "e4bad359-3559-402e-a9c9-e42fe9a706ee",
   "metadata": {},
   "outputs": [],
   "source": [
    "title_tags=driver.find_elements(By.CLASS_NAME,\"Table_dataCell__2QCve\")\n",
    "for i in title_tags[0:1200]:\n",
    "    title=i.text\n",
    "    AGE.append(title)"
   ]
  },
  {
   "cell_type": "code",
   "execution_count": null,
   "id": "20ee9548-75de-408a-bb40-62e95df41640",
   "metadata": {},
   "outputs": [],
   "source": [
    "title_tags=driver.find_elements(By.CLASS_NAME,\"Table_dataCell__2QCve\")\n",
    "for i in title_tags[0:1200]:\n",
    "    title=i.text\n",
    "    COUNTRY.append(title)"
   ]
  },
  {
   "cell_type": "code",
   "execution_count": null,
   "id": "4041ec26-fb6d-46b4-a2d1-cfaa8088f573",
   "metadata": {},
   "outputs": [],
   "source": [
    "title_tags=driver.find_elements(By.CLASS_NAME,\"Table_dataCell__2QCve\")\n",
    "for i in title_tags[0:1200]:\n",
    "    title=i.text\n",
    "    INDUSTRY.append(title)"
   ]
  },
  {
   "cell_type": "code",
   "execution_count": null,
   "id": "a9ec8cd2-dd8d-4024-8218-f8b173853c8f",
   "metadata": {},
   "outputs": [],
   "source": [
    "title_tags=driver.find_elements(By.CLASS_NAME,\"Table_dataCell__2QCve\")\n",
    "for i in title_tags[0:1200]:\n",
    "    title=i.text\n",
    "    CITIZENSHIP.append(title)"
   ]
  },
  {
   "cell_type": "code",
   "execution_count": null,
   "id": "9186f32f-dd50-46e8-9723-d907f0bfc671",
   "metadata": {},
   "outputs": [],
   "source": [
    "title_tags=driver.find_elements(By.CLASS_NAME,\"Table_dataCell__2QCve\")\n",
    "for i in title_tags[0:1200]:\n",
    "    title=i.text\n",
    "    SOURCE.append(title)"
   ]
  },
  {
   "cell_type": "code",
   "execution_count": null,
   "id": "2968fef5-c4da-43fa-851b-e9740c5f6ac8",
   "metadata": {},
   "outputs": [],
   "source": [
    "print(len(NAME),len(WORTH),len(AGE),len(COUNTRY),len(CITIZENSHIP),len(INDUSTRY),len(SOURCE))"
   ]
  },
  {
   "cell_type": "code",
   "execution_count": null,
   "id": "02550dec-34ec-402b-a938-b4249048ff05",
   "metadata": {},
   "outputs": [],
   "source": [
    "import pandas as pd\n",
    "df=pd.DataFrame({'NAME':NAME,'WORTH':WORTH,'AGE':AGE, 'COUNTRY':COUNTRY,'CITIZENSHIP':CITIZENSHIP,'INDUSTRY':INDUSTRY,'SOURCE':SOURCE})\n",
    "df"
   ]
  },
  {
   "cell_type": "markdown",
   "id": "aa538ef7-7064-46db-a044-6021b5e80d70",
   "metadata": {},
   "source": [
    "END OF QUESTION 7"
   ]
  },
  {
   "cell_type": "markdown",
   "id": "b53d94b9-96e3-4cfc-9b9a-1eebd0a55a0d",
   "metadata": {},
   "source": [
    "QUESTION 8"
   ]
  },
  {
   "cell_type": "code",
   "execution_count": 1,
   "id": "699b86ac-1b62-419d-a0db-e4de22c10200",
   "metadata": {
    "tags": []
   },
   "outputs": [
    {
     "name": "stdout",
     "output_type": "stream",
     "text": [
      "Defaulting to user installation because normal site-packages is not writeable\n",
      "Requirement already satisfied: selenium in c:\\programdata\\anaconda3\\lib\\site-packages (4.10.0)\n",
      "Requirement already satisfied: urllib3[socks]<3,>=1.26 in c:\\programdata\\anaconda3\\lib\\site-packages (from selenium) (1.26.16)\n",
      "Requirement already satisfied: trio~=0.17 in c:\\programdata\\anaconda3\\lib\\site-packages (from selenium) (0.22.2)\n",
      "Requirement already satisfied: trio-websocket~=0.9 in c:\\programdata\\anaconda3\\lib\\site-packages (from selenium) (0.10.3)\n",
      "Requirement already satisfied: certifi>=2021.10.8 in c:\\programdata\\anaconda3\\lib\\site-packages (from selenium) (2023.5.7)\n",
      "Requirement already satisfied: attrs>=20.1.0 in c:\\programdata\\anaconda3\\lib\\site-packages (from trio~=0.17->selenium) (22.1.0)\n",
      "Requirement already satisfied: sortedcontainers in c:\\programdata\\anaconda3\\lib\\site-packages (from trio~=0.17->selenium) (2.4.0)\n",
      "Requirement already satisfied: idna in c:\\programdata\\anaconda3\\lib\\site-packages (from trio~=0.17->selenium) (3.4)\n",
      "Requirement already satisfied: outcome in c:\\programdata\\anaconda3\\lib\\site-packages (from trio~=0.17->selenium) (1.2.0)\n",
      "Requirement already satisfied: sniffio in c:\\programdata\\anaconda3\\lib\\site-packages (from trio~=0.17->selenium) (1.2.0)\n",
      "Requirement already satisfied: cffi>=1.14 in c:\\programdata\\anaconda3\\lib\\site-packages (from trio~=0.17->selenium) (1.15.1)\n",
      "Requirement already satisfied: exceptiongroup in c:\\programdata\\anaconda3\\lib\\site-packages (from trio-websocket~=0.9->selenium) (1.1.2)\n",
      "Requirement already satisfied: wsproto>=0.14 in c:\\programdata\\anaconda3\\lib\\site-packages (from trio-websocket~=0.9->selenium) (1.2.0)\n",
      "Requirement already satisfied: PySocks!=1.5.7,<2.0,>=1.5.6 in c:\\programdata\\anaconda3\\lib\\site-packages (from urllib3[socks]<3,>=1.26->selenium) (1.7.1)\n",
      "Requirement already satisfied: pycparser in c:\\programdata\\anaconda3\\lib\\site-packages (from cffi>=1.14->trio~=0.17->selenium) (2.21)\n",
      "Requirement already satisfied: h11<1,>=0.9.0 in c:\\programdata\\anaconda3\\lib\\site-packages (from wsproto>=0.14->trio-websocket~=0.9->selenium) (0.14.0)\n",
      "Note: you may need to restart the kernel to use updated packages.\n"
     ]
    }
   ],
   "source": [
    "pip install selenium"
   ]
  },
  {
   "cell_type": "code",
   "execution_count": 1,
   "id": "b778e598-1c81-4de3-aff5-08fdeb215499",
   "metadata": {
    "tags": []
   },
   "outputs": [
    {
     "name": "stdout",
     "output_type": "stream",
     "text": [
      "Defaulting to user installation because normal site-packages is not writeable\n",
      "Requirement already satisfied: webdriver-manager in c:\\programdata\\anaconda3\\lib\\site-packages (3.8.6)\n",
      "Requirement already satisfied: requests in c:\\programdata\\anaconda3\\lib\\site-packages (from webdriver-manager) (2.29.0)\n",
      "Requirement already satisfied: python-dotenv in c:\\programdata\\anaconda3\\lib\\site-packages (from webdriver-manager) (1.0.0)\n",
      "Requirement already satisfied: tqdm in c:\\programdata\\anaconda3\\lib\\site-packages (from webdriver-manager) (4.65.0)\n",
      "Requirement already satisfied: packaging in c:\\programdata\\anaconda3\\lib\\site-packages (from webdriver-manager) (23.0)\n",
      "Requirement already satisfied: charset-normalizer<4,>=2 in c:\\programdata\\anaconda3\\lib\\site-packages (from requests->webdriver-manager) (2.0.4)\n",
      "Requirement already satisfied: idna<4,>=2.5 in c:\\programdata\\anaconda3\\lib\\site-packages (from requests->webdriver-manager) (3.4)\n",
      "Requirement already satisfied: urllib3<1.27,>=1.21.1 in c:\\programdata\\anaconda3\\lib\\site-packages (from requests->webdriver-manager) (1.26.16)\n",
      "Requirement already satisfied: certifi>=2017.4.17 in c:\\programdata\\anaconda3\\lib\\site-packages (from requests->webdriver-manager) (2023.5.7)\n",
      "Requirement already satisfied: colorama in c:\\programdata\\anaconda3\\lib\\site-packages (from tqdm->webdriver-manager) (0.4.6)\n"
     ]
    }
   ],
   "source": [
    "!pip install webdriver-manager"
   ]
  },
  {
   "cell_type": "code",
   "execution_count": 2,
   "id": "30dcf0f6-901f-4896-9218-e860bedfecf2",
   "metadata": {
    "tags": []
   },
   "outputs": [
    {
     "name": "stdout",
     "output_type": "stream",
     "text": [
      "Defaulting to user installation because normal site-packages is not writeable\n",
      "Requirement already satisfied: selenium in c:\\programdata\\anaconda3\\lib\\site-packages (4.10.0)\n",
      "Requirement already satisfied: beautifulsoup4 in c:\\programdata\\anaconda3\\lib\\site-packages (4.12.2)\n",
      "Requirement already satisfied: pandas in c:\\programdata\\anaconda3\\lib\\site-packages (1.5.3)\n",
      "Requirement already satisfied: urllib3[socks]<3,>=1.26 in c:\\programdata\\anaconda3\\lib\\site-packages (from selenium) (1.26.16)\n",
      "Requirement already satisfied: trio~=0.17 in c:\\programdata\\anaconda3\\lib\\site-packages (from selenium) (0.22.2)\n",
      "Requirement already satisfied: trio-websocket~=0.9 in c:\\programdata\\anaconda3\\lib\\site-packages (from selenium) (0.10.3)\n",
      "Requirement already satisfied: certifi>=2021.10.8 in c:\\programdata\\anaconda3\\lib\\site-packages (from selenium) (2023.5.7)\n",
      "Requirement already satisfied: soupsieve>1.2 in c:\\programdata\\anaconda3\\lib\\site-packages (from beautifulsoup4) (2.4)\n",
      "Requirement already satisfied: python-dateutil>=2.8.1 in c:\\programdata\\anaconda3\\lib\\site-packages (from pandas) (2.8.2)\n",
      "Requirement already satisfied: pytz>=2020.1 in c:\\programdata\\anaconda3\\lib\\site-packages (from pandas) (2022.7)\n",
      "Requirement already satisfied: numpy>=1.21.0 in c:\\programdata\\anaconda3\\lib\\site-packages (from pandas) (1.24.3)\n",
      "Requirement already satisfied: six>=1.5 in c:\\programdata\\anaconda3\\lib\\site-packages (from python-dateutil>=2.8.1->pandas) (1.16.0)\n",
      "Requirement already satisfied: attrs>=20.1.0 in c:\\programdata\\anaconda3\\lib\\site-packages (from trio~=0.17->selenium) (22.1.0)\n",
      "Requirement already satisfied: sortedcontainers in c:\\programdata\\anaconda3\\lib\\site-packages (from trio~=0.17->selenium) (2.4.0)\n",
      "Requirement already satisfied: idna in c:\\programdata\\anaconda3\\lib\\site-packages (from trio~=0.17->selenium) (3.4)\n",
      "Requirement already satisfied: outcome in c:\\programdata\\anaconda3\\lib\\site-packages (from trio~=0.17->selenium) (1.2.0)\n",
      "Requirement already satisfied: sniffio in c:\\programdata\\anaconda3\\lib\\site-packages (from trio~=0.17->selenium) (1.2.0)\n",
      "Requirement already satisfied: cffi>=1.14 in c:\\programdata\\anaconda3\\lib\\site-packages (from trio~=0.17->selenium) (1.15.1)\n",
      "Requirement already satisfied: exceptiongroup in c:\\programdata\\anaconda3\\lib\\site-packages (from trio-websocket~=0.9->selenium) (1.1.2)\n",
      "Requirement already satisfied: wsproto>=0.14 in c:\\programdata\\anaconda3\\lib\\site-packages (from trio-websocket~=0.9->selenium) (1.2.0)\n",
      "Requirement already satisfied: PySocks!=1.5.7,<2.0,>=1.5.6 in c:\\programdata\\anaconda3\\lib\\site-packages (from urllib3[socks]<3,>=1.26->selenium) (1.7.1)\n",
      "Requirement already satisfied: pycparser in c:\\programdata\\anaconda3\\lib\\site-packages (from cffi>=1.14->trio~=0.17->selenium) (2.21)\n",
      "Requirement already satisfied: h11<1,>=0.9.0 in c:\\programdata\\anaconda3\\lib\\site-packages (from wsproto>=0.14->trio-websocket~=0.9->selenium) (0.14.0)\n",
      "Note: you may need to restart the kernel to use updated packages.\n"
     ]
    }
   ],
   "source": [
    "pip install selenium beautifulsoup4 pandas"
   ]
  },
  {
   "cell_type": "code",
   "execution_count": 1,
   "id": "0296e367-bce9-41af-b4ae-1f8e8520f652",
   "metadata": {
    "tags": []
   },
   "outputs": [],
   "source": [
    "from selenium import webdriver\n",
    "from selenium.webdriver.common.by import By\n",
    "from selenium.webdriver.support.ui import WebDriverWait\n",
    "from webdriver_manager.chrome import ChromeDriverManager\n",
    "from selenium.common.exceptions import TimeoutException, NoSuchElementException, WebDriverException\n",
    "from selenium.webdriver.support import expected_conditions as EC\n",
    "from selenium.webdriver.chrome.service import Service\n",
    "from selenium.webdriver.chrome.options import Options\n",
    "from selenium.webdriver.chrome.webdriver import WebDriver\n",
    "import pandas as pd\n",
    "import requests\n",
    "import time\n",
    "import warnings\n",
    "warnings.filterwarnings(\"ignore\")"
   ]
  },
  {
   "cell_type": "code",
   "execution_count": 10,
   "id": "d2d747db-182b-4146-99ee-dd9b76b7de5f",
   "metadata": {
    "tags": []
   },
   "outputs": [
    {
     "name": "stdin",
     "output_type": "stream",
     "text": [
      "Enter the YouTube video URL:  https://www.youtube.com/watch?v=3BICU8-5lUM\n"
     ]
    },
    {
     "name": "stdout",
     "output_type": "stream",
     "text": [
      "=== Comment 1 ===\n",
      "Comment: Barna-Szabados Valér, no doubt ...\n",
      "Upvotes: \n",
      "Time Posted: None\n",
      "\n",
      "=== Comment 2 ===\n",
      "Comment: Fagioli\n",
      "Upvotes: \n",
      "Time Posted: None\n",
      "\n",
      "=== Comment 3 ===\n",
      "Comment: Scholl overall, Fagioli for elements of the di capo section, Stutzman for the power. All are very good but I dont think Jarrousky's voice is suited to this particular aria, although his voice is stunning in other material. Prina is very good throughout and Im always torn with Sabadus as elements of his voice are pure and ringing which makes the hairs on the back of my neck stand up, but at other times his voice is weak and not so good. Great aria and wonderful singers. Its pointless trying to choose a 'winner' but is interesting comparing the impact of different interpretations and vocal styles.\n",
      "Upvotes: 2\n",
      "Time Posted: None\n",
      "\n",
      "=== Comment 4 ===\n",
      "Comment: Stutzmann or Scholl\n",
      "Upvotes: \n",
      "Time Posted: None\n",
      "\n",
      "=== Comment 5 ===\n",
      "Comment: Андреас Шолль- совершенство\n",
      "Upvotes: \n",
      "Time Posted: None\n",
      "\n",
      "=== Comment 6 ===\n",
      "Comment: Stutzmann, jarrousky et Sonia preni\n",
      "Upvotes: \n",
      "Time Posted: None\n",
      "\n",
      "=== Comment 7 ===\n",
      "Comment: Stutzmann, le meilleur timbre\n",
      "Upvotes: \n",
      "Time Posted: None\n",
      "\n",
      "=== Comment 8 ===\n",
      "Comment: This is one of the most beautiful Handel arias.\n",
      "Upvotes: \n",
      "Time Posted: None\n",
      "\n",
      "=== Comment 9 ===\n",
      "Comment: Christophe Dumaux\n",
      "Upvotes: \n",
      "Time Posted: None\n",
      "\n",
      "=== Comment 10 ===\n",
      "Comment: It was surprising to hear the Sabadus recording with the instrumentalists and singer playing/singing more as a chamber music work.  I liked the transparency of the quartet sections very much. The intertwining of voices  made me hear this work in a completely different way. It will have a lasting impact for me. Thank you for posting this.\n",
      "Upvotes: 1\n",
      "Time Posted: None\n",
      "\n",
      "=== Comment 11 ===\n",
      "Comment: Nathalie\n",
      "Upvotes: 4\n",
      "Time Posted: None\n",
      "\n",
      "=== Comment 12 ===\n",
      "Comment: I detest these competitions.   That said, I love Andreas Scholl, but do not care about who is “best.”\n",
      "Upvotes: 3\n",
      "Time Posted: None\n",
      "\n",
      "=== Comment 13 ===\n",
      "Comment: sonia prina dovrebbe restare a casa e capire che la sua voce non serve a niente\n",
      "Upvotes: \n",
      "Time Posted: None\n",
      "\n",
      "=== Comment 14 ===\n",
      "Comment: Fagioli, of course\n",
      "Upvotes: 1\n",
      "Time Posted: None\n",
      "\n",
      "=== Comment 15 ===\n",
      "Comment: Love Jarrousky of the interpretation by David Daniels is a timeless masterpiece.\n",
      "Upvotes: 1\n",
      "Time Posted: None\n",
      "\n",
      "=== Comment 16 ===\n",
      "Comment: Cara sposa,amante cara,dove sei?\n",
      "Ritorna a' pianti miei \n",
      "Del vostro Erebo sull'ara, \n",
      "colla face del mio sdegno \n",
      "Upvotes: 1\n",
      "Time Posted: None\n",
      "\n",
      "=== Comment 17 ===\n",
      "Comment: Marilyn Horne\n",
      "Upvotes: \n",
      "Time Posted: None\n",
      "\n",
      "=== Comment 18 ===\n",
      "Comment: Philippe Jaroussky.\n",
      "Upvotes: \n",
      "Time Posted: None\n",
      "\n",
      "=== Comment 19 ===\n",
      "Comment: Valer Sabadus - плакальщица на похоронах! никакой харизмы в голосе!\n",
      "Upvotes: 2\n",
      "Time Posted: None\n",
      "\n",
      "=== Comment 20 ===\n",
      "Comment: Oh come on people! Taylor/Leblanc win hands down! Also, singers can make a fuss but it's the orchestra that carries the piece (we're talking Mistah GFH here, folks!!!) Theatre of Early Music is an ALL STAR BAND.--Plouffe, Butterfingers, Keesmaat, Maute, Bergeron, Rothman...\n",
      "Upvotes: 2\n",
      "Time Posted: None\n",
      "\n",
      "=== Comment 21 ===\n",
      "Comment: Of course, James Bowman\n",
      "Upvotes: \n",
      "Time Posted: None\n",
      "\n",
      "=== Comment 22 ===\n",
      "Comment: どなたも本当に素晴らしいですが、私はSchollさんが一番感動しました。言葉で上手く説明出来ませんが、深く美しい…\n",
      "Upvotes: 1\n",
      "Time Posted: None\n",
      "\n",
      "=== Comment 23 ===\n",
      "Comment: 다섯 분 모두 훌륭합니다만...저는 Natahalie Stutzmann에게 한 표 드리겠습니다!\n",
      "Upvotes: 3\n",
      "Time Posted: None\n",
      "\n",
      "=== Comment 24 ===\n",
      "Comment: La voz màs profunda es SCHOLL; la màs brillante es JAROUSSKY. Las demàs son buenas pero creo que estos dos son gigantes.\n",
      "Upvotes: 4\n",
      "Time Posted: None\n",
      "\n",
      "=== Comment 25 ===\n",
      "Comment: Fagioli's technique and dominion of this piece makes him invenceble....\n",
      "Upvotes: 5\n",
      "Time Posted: None\n",
      "\n",
      "=== Comment 26 ===\n",
      "Comment: Merry Christmas, B. and B. and thank you for sharing plenty of excellent music and singers.\n",
      "Upvotes: 2\n",
      "Time Posted: None\n",
      "\n",
      "=== Comment 27 ===\n",
      "Comment: They all are great, but only Scholl gave me goosebumps...\n",
      "Upvotes: 4\n",
      "Time Posted: None\n",
      "\n",
      "=== Comment 28 ===\n",
      "Comment: Franco Fagioli most authentic and beautiful voice and an interpretation without any mannerism and artificiality.\n",
      "Upvotes: 9\n",
      "Time Posted: None\n",
      "\n",
      "=== Comment 29 ===\n",
      "Comment: Natalie Stützmann\n",
      "Upvotes: 10\n",
      "Time Posted: None\n",
      "\n",
      "=== Comment 30 ===\n",
      "Comment: jaroussky!\n",
      "Upvotes: 7\n",
      "Time Posted: None\n",
      "\n",
      "=== Comment 31 ===\n",
      "Comment: Philippe and Valer Sabadus!\n",
      "Upvotes: 3\n",
      "Time Posted: None\n",
      "\n",
      "=== Comment 32 ===\n",
      "Comment: Loving Music, a miracle i don't ever understand it and\n",
      "Upvotes: 2\n",
      "Time Posted: None\n",
      "\n",
      "=== Comment 33 ===\n",
      "Comment: Saludos Baroque and beyond !!!\n",
      "Gustar de una interpretación mas que de otra, es justamente cuestión de gusto. No me guío tanto por el análisis de su voz sino por la pasión y el sentimiento que pone en su interpretación, eso es lo que hace al disfrute y regocijo del tema, y es lo que me llega. Después de todo de eso se trata la música.\n",
      "Upvotes: 5\n",
      "Time Posted: None\n",
      "\n",
      "=== Comment 34 ===\n",
      "Comment: Scholl !\n",
      "Upvotes: 6\n",
      "Time Posted: None\n",
      "\n",
      "=== Comment 35 ===\n",
      "Comment: SoniaPrina for ever\n",
      "Upvotes: 2\n",
      "Time Posted: None\n",
      "\n",
      "=== Comment 36 ===\n",
      "Comment: Carolyn Watkinson\n",
      "\n",
      "https://www.youtube.com/watch?v=EhF8Ts5zIlY&ab_channel=sfkcbf\n",
      "Upvotes: 3\n",
      "Time Posted: None\n",
      "\n",
      "=== Comment 37 ===\n",
      "Comment: Jochen Kowalski\n",
      "Upvotes: 2\n",
      "Time Posted: None\n",
      "\n",
      "=== Comment 38 ===\n",
      "Comment: Faggioli is absolutely far far behind all.  He is the best with no\n",
      "Possible comparison!\n",
      "Upvotes: 9\n",
      "Time Posted: None\n",
      "\n",
      "=== Comment 39 ===\n",
      "Comment: They are all glorious voices. Thank you for this beautiful set of performers.\n",
      "Upvotes: 9\n",
      "Time Posted: None\n",
      "\n",
      "=== Comment 40 ===\n",
      "Comment: Они все - звезды первой величины, каждая по-своему прекрасна. Отказываюсь выбирать. Франко великолепен и Филипп возносит на небеса.\n",
      "Upvotes: 5\n",
      "Time Posted: None\n",
      "\n",
      "=== Comment 41 ===\n",
      "Comment: Andreas Scholl in this selection, no doubt. Richest, fullest voice, and its not a suitable song for vibrato imo.\n",
      "Upvotes: 6\n",
      "Time Posted: None\n",
      "\n",
      "=== Comment 42 ===\n",
      "Comment: Andreas Scholl sticks with head and shoulders above the rest in my opinion. The one I enjoy the least would be Nathalie Stutzmann, far too thick sounding with too much vibrato. Honorable mention to Jaroussky, I normaly don't enjoy his sound but it somehow works for me here.\n",
      "Upvotes: 5\n",
      "Time Posted: None\n",
      "\n",
      "=== Comment 43 ===\n",
      "Comment: Sonia Prina is the best of these excellent singers, however I think Mariana Rewerski does the best version of this song.\n",
      "Upvotes: 2\n",
      "Time Posted: None\n",
      "\n",
      "=== Comment 44 ===\n",
      "Comment: Same score, different voices, different result. What is different is not comparable. To know what is best, we would have to have a reference. I think the question is wrong, it should be: what do you prefer?..... Don't you?\n",
      "Upvotes: 8\n",
      "Time Posted: None\n",
      "\n",
      "=== Comment 45 ===\n",
      "Comment: А вот и звезда очей наших: слушать, не переслушать и плакать, Голос не поддается анализу,возможно , специалист и сможет, но только не я.В нем все и огонь и ветер , и нежная вода, и запах магнолии , но только не наших лугов и полей. Вы с ней на равных , но  у вас есть Окуджава, и глубокая, именно  ,русская душа,а значит вы на порядок выше и сравнивать нечего. С добрым утром \n",
      "Upvotes: 3\n",
      "Time Posted: None\n",
      "\n",
      "=== Comment 46 ===\n",
      "Comment: Филлип: он выступает за женскую половину? Причем  и голос  женский, холодноватый, снисходит, позволяющий себя любить, эмоционально это и подтверждает, талантливо ведет свою линию, этакий нарцисс\n",
      "Upvotes: 3\n",
      "Time Posted: None\n",
      "\n",
      "=== Comment 47 ===\n",
      "Comment: Франко: ария другая, голос богатый, более низкий, по интонациям чувствую его боль, трепет есть (ф.Р), есть, есть чувство и немалое. Молодец.Браво\n",
      "Upvotes: 6\n",
      "Time Posted: None\n",
      "\n",
      "=== Comment 48 ===\n",
      "Comment: Philippe Jaroussky makes me think to a  lily reaching for the sky. He embodies purity, sensitivity, spirituality. His vibrato is in the right place, at the end of the musical phrase and not everywhere. He is precious.\n",
      "Upvotes: 9\n",
      "Time Posted: None\n",
      "\n",
      "=== Comment 49 ===\n",
      "Comment: Франко \n",
      "Upvotes: 3\n",
      "Time Posted: None\n",
      "\n",
      "=== Comment 50 ===\n",
      "Comment: Ewa Podles.\n",
      "Upvotes: 6\n",
      "Time Posted: None\n",
      "\n",
      "=== Comment 51 ===\n",
      "Comment: Veselina  Kasarova\n",
      "Upvotes: \n",
      "Time Posted: None\n",
      "\n",
      "=== Comment 52 ===\n",
      "Comment: Amo los registros vocales tanto de Nathalie Stutzmann como de Andreas Scholl. Ambos son excelentes.\n",
      "Upvotes: 5\n",
      "Time Posted: None\n",
      "\n",
      "=== Comment 53 ===\n",
      "Comment: Franco Fagioli\n",
      "Upvotes: 6\n",
      "Time Posted: None\n",
      "\n",
      "=== Comment 54 ===\n",
      "Comment: Philippe Jaroussky\n",
      "Upvotes: 6\n",
      "Time Posted: None\n",
      "\n",
      "=== Comment 55 ===\n",
      "Comment: very difficult to decide but for me it's Jaroussky :-)\n",
      "Upvotes: 6\n",
      "Time Posted: None\n",
      "\n",
      "=== Comment 56 ===\n",
      "Comment: Controversy/lawsuit aside, David Daniels. His moves me most. Emotionally. I don't experience it just on a cerebral level.\n",
      "Upvotes: 4\n",
      "Time Posted: None\n",
      "\n",
      "=== Comment 57 ===\n",
      "Comment: For this aria i like the deep voices of Mrs Stutzmann and Mrs Prina. Andreas Scholl is for me in between.\n",
      "Upvotes: 2\n",
      "Time Posted: None\n",
      "\n",
      "=== Comment 58 ===\n",
      "Comment: Philippe ️️️\n",
      "Upvotes: 3\n",
      "Time Posted: None\n",
      "\n",
      "=== Comment 59 ===\n",
      "Comment: That’s a hard choice. Each singer colours Handel’s aria differently.\n",
      "Upvotes: 3\n",
      "Time Posted: None\n",
      "\n",
      "=== Comment 60 ===\n",
      "Comment: Philippe Jaroussky\n",
      "Upvotes: 2\n",
      "Time Posted: None\n",
      "\n",
      "=== Comment 61 ===\n",
      "Comment: Jsroussky's voice is angelic.\n",
      "Upvotes: 3\n",
      "Time Posted: None\n",
      "\n",
      "=== Comment 62 ===\n",
      "Comment: Ewa Podleś. Nie słyszałam aby inny kontralt zaśpiewał to w ten sposób. Piękne jest wykonanie tego utworu przez inne współczesne znane kontralty, ale piękne to za mało dla Ewy Podleś. Dla niej najważniejszy jest tekst, który śpiewa. W wielu wywiadach  sama to mówiła.  Ewa Podleś kiedyś wyznała \"W istocie jestem aktorką\". Powiedziała również \"Moją największą troską jest, aby śpiewany przeze mnie tekst był właśnie absolutnie zgodny z logiką i artykulacją języka, w którym śpiewam. A tak zwana interpretacja? To już problem wyobraźni i wrażliwości, profesji, no, i talentu..\".\n",
      "Upvotes: 6\n",
      "Time Posted: None\n",
      "\n",
      "=== Comment 63 ===\n",
      "Comment: Sara Mingardo\n",
      "Upvotes: 5\n",
      "Time Posted: None\n",
      "\n",
      "=== Comment 64 ===\n",
      "Comment: 1ый и Наталья\n",
      "Upvotes: \n",
      "Time Posted: None\n",
      "\n",
      "=== Comment 65 ===\n",
      "Comment: Perdón a todos pero Franco está un lustro adelante de todos! El manejo que hace de su voz interpretando las arias para castrati del Barroco es inimitable. Carnosidad en la voz, floreo perfecto, vibrato, trino, agudos verdaderamente altos y bajos profundos. Si el hubiera cantado cuando la película Farinelli se filmó, no hubieran tenido que acudir a la trampa computarizada de mezclar mezzo y baritono, y lo hubieran contratado a el. Definitivamente el mejor contratenor que jamás cantó.\n",
      "Upvotes: 10\n",
      "Time Posted: None\n",
      "\n",
      "=== Comment 66 ===\n",
      "Comment: Delphine Galou\n",
      "Upvotes: 2\n",
      "Time Posted: None\n",
      "\n",
      "=== Comment 67 ===\n",
      "Comment: Andreas Scholl\n",
      "Upvotes: 9\n",
      "Time Posted: None\n",
      "\n",
      "=== Comment 68 ===\n",
      "Comment: Andreas Scholl's voice is a sound that emanates from an instrument left on earth by the tefilim.\n",
      "Upvotes: 8\n",
      "Time Posted: None\n",
      "\n",
      "=== Comment 69 ===\n",
      "Comment: Philippe Jaroussky's texture and phraseo combined with that freshness is my favourite second to the erie darkness of Nathalie Stutzmann's voice and undoubtedly  musical mastery.\n",
      "Upvotes: 4\n",
      "Time Posted: None\n",
      "\n",
      "=== Comment 70 ===\n",
      "Comment: Love them all, but Stutzmann is awesome here.\n",
      "Upvotes: 4\n",
      "Time Posted: None\n",
      "\n",
      "=== Comment 71 ===\n",
      "Comment: Andres Scholl, followed by Sonia Prina - who I think has a voice more suited to this type of aria than some of the bravura pieces she sings.  I like Scholl because his voice is masculine with a pleasant vibrato and good dynamics.  Also, really good diction.  The voice just sounds very bold and focused.  Jaroussky struggling to get his voice above the orchestra, Lol.\n",
      "Upvotes: 6\n",
      "Time Posted: None\n",
      "\n",
      "=== Comment 72 ===\n",
      "Comment: In my opinion, Philippe Jaroussky!\n",
      "Upvotes: 3\n",
      "Time Posted: None\n",
      "\n",
      "=== Comment 73 ===\n",
      "Comment: Philippe Jaroussky\n",
      "Upvotes: 3\n",
      "Time Posted: None\n",
      "\n",
      "=== Comment 74 ===\n",
      "Comment: I love Nathalie Stutzmann and Franco Fagioli. But there also the beautiful Delphine Galou sings Cara Sposa that’a excellent!\n",
      "Upvotes: 4\n",
      "Time Posted: None\n",
      "\n",
      "=== Comment 75 ===\n",
      "Comment: Interesante escuchar diferentes voces expresando esta aria magistralmente.  Excelentes todos... cada cual en su estilo.\n",
      "Upvotes: 8\n",
      "Time Posted: None\n",
      "\n",
      "=== Comment 76 ===\n",
      "Comment: Jaroussky all the way hands down. Dude's a master!\n",
      "Upvotes: 1\n",
      "Time Posted: None\n",
      "\n",
      "=== Comment 77 ===\n",
      "Comment: Cette aria dure 9 minutes, et dans les arias c'est toujours la partie 2 qui est la plus interressante pour juger l' interprète . En général il se laisse aller à des fantaisies et artifices parfois  incongrus qui n'ont plus aucun rapport avec l'air du début  .Donc écoutez les 3 ou 4 dernières minutes de chacun, elles vous mèneront sur le bon chemin !\n",
      "Upvotes: 5\n",
      "Time Posted: None\n",
      "\n",
      "=== Comment 78 ===\n",
      "Comment: Todos son maravillosos pero Franco Fagioli tiene, además de su increíble voz, el don de transmitir los sentimientos como nadie.\n",
      "Upvotes: 10\n",
      "Time Posted: None\n",
      "\n",
      "=== Comment 79 ===\n",
      "Comment: Ewa Podles\n",
      "Upvotes: 3\n",
      "Time Posted: None\n",
      "\n",
      "=== Comment 80 ===\n",
      "Comment: I love Fagioli, not only the colors of his voice and tecnica, but the sensibilità and expressive capacity\n",
      "Upvotes: 18\n",
      "Time Posted: None\n",
      "\n",
      "=== Comment 81 ===\n",
      "Comment: La migliore interpretazione è, al mio piacere, quella di Franco Fagioli.\n",
      "Upvotes: 12\n",
      "Time Posted: None\n",
      "\n",
      "=== Comment 82 ===\n",
      "Comment: M\n",
      "Upvotes: 1\n",
      "Time Posted: None\n",
      "\n",
      "=== Comment 83 ===\n",
      "Comment: Самое неблагодарное в музыке - сравнение! \n",
      "Каждое профессиональное исполнение имеет свои сильные стороны.Поэтому вряд ли возможно сравнивать, исходя из представлений что больше “нравится, или не нравится”.\n",
      "1. Соответствие заложенному в музыке образу самим композитором.\n",
      "Upvotes: 10\n",
      "Time Posted: None\n",
      "\n",
      "=== Comment 84 ===\n",
      "Comment: Todas  las interpretaciones me gustan\n",
      "Upvotes: \n",
      "Time Posted: None\n",
      "\n",
      "=== Comment 85 ===\n",
      "Comment: M.P. e Angie - Top: Scholl - Second: Jaroussky. Bravissimi, applausi! Due grandi interpreti!\n",
      "Upvotes: 3\n",
      "Time Posted: None\n",
      "\n",
      "=== Comment 86 ===\n",
      "Comment: Nathalie Stutzmann\n",
      "Upvotes: 4\n",
      "Time Posted: None\n",
      "\n",
      "=== Comment 87 ===\n",
      "Comment: Scholl\n",
      "Upvotes: 4\n",
      "Time Posted: None\n",
      "\n",
      "=== Comment 88 ===\n",
      "Comment: Franco Fagioli\n",
      "Upvotes: 12\n",
      "Time Posted: None\n",
      "\n",
      "=== Comment 89 ===\n",
      "Comment: Carlo Broschi is the best (it's a joke). Nathalie Stutzmann's performance touched me deeply. I think she Is The best.\n",
      "La interpretación de Nathalie Stutzmann es realmente poderosa, me para los pelos, realmente puedes sentir el dolor de Rinaldo por la pérdida de su esposa. Es una apreciación muy personal.\n",
      "Upvotes: 2\n",
      "Time Posted: None\n",
      "\n",
      "=== Comment 90 ===\n",
      "Comment: Je vais écrire simplement que cet air est d'une beauté ! Une pure merveille en voix, en sensibilité....mais avec qui ? Devinez.....lol\n",
      "Upvotes: 2\n",
      "Time Posted: None\n",
      "\n",
      "=== Comment 91 ===\n",
      "Comment: David Daniels\n",
      "Upvotes: 1\n",
      "Time Posted: None\n",
      "\n",
      "=== Comment 92 ===\n",
      "Comment: I think it's prina for me\n",
      "Upvotes: 1\n",
      "Time Posted: None\n",
      "\n",
      "=== Comment 93 ===\n",
      "Comment: Anybody knows what year stutzmann recording is from? Thanks\n",
      "Upvotes: \n",
      "Time Posted: None\n",
      "\n",
      "=== Comment 94 ===\n",
      "Comment: Philipe Jaroussky es mi favorito\n",
      "Upvotes: 2\n",
      "Time Posted: None\n",
      "\n",
      "=== Comment 95 ===\n",
      "Comment: Andreas Scholl y Phillippe Jaroussky\n",
      "️\n",
      "Upvotes: 2\n",
      "Time Posted: None\n",
      "\n",
      "=== Comment 96 ===\n",
      "Comment: Натали\n",
      "Upvotes: 1\n",
      "Time Posted: None\n",
      "\n",
      "=== Comment 97 ===\n",
      "Comment: Tutti favolosi\n",
      "Upvotes: 4\n",
      "Time Posted: None\n",
      "\n",
      "=== Comment 98 ===\n",
      "Comment: Ah ! le \"Farinelli\" !!! https://youtu.be/y3fzhMnGs5E ; https://youtu.be/lljVe2Jy55M\n",
      "Upvotes: 1\n",
      "Time Posted: None\n",
      "\n",
      "=== Comment 99 ===\n",
      "Comment: The best interpreter of this aria which is not included here is sung by David Daniels - https://www.youtube.com/watch?v=k3rqm9l3mw0\n",
      "Upvotes: 4\n",
      "Time Posted: None\n",
      "\n",
      "=== Comment 100 ===\n",
      "Comment: Ewa Podles the best)))\n",
      "Upvotes: \n",
      "Time Posted: None\n",
      "\n",
      "=== Comment 101 ===\n",
      "Comment: Nathalie Stutzmann & Scholl\n",
      "Upvotes: 3\n",
      "Time Posted: None\n",
      "\n",
      "=== Comment 102 ===\n",
      "Comment: Scholl y Sabadus sin mis favoritos en esta versión. Como siempre Scholl me deja alucinado con su afinacion pura y perfecta, parece más un instrumento musical que una voz humana.\n",
      "Upvotes: 5\n",
      "Time Posted: None\n",
      "\n",
      "=== Comment 103 ===\n",
      "Comment: Valer Sabadus, for the extreme sweetness in the voice, combined with a perfect technique, like that of others.\n",
      "Upvotes: 6\n",
      "Time Posted: None\n",
      "\n",
      "=== Comment 104 ===\n",
      "Comment: all\n",
      "Upvotes: 1\n",
      "Time Posted: None\n",
      "\n",
      "=== Comment 105 ===\n",
      "Comment: You forgot Ewa Podles\n",
      "https://youtu.be/CI_EXD-ahZM\n",
      "Upvotes: \n",
      "Time Posted: None\n",
      "\n",
      "=== Comment 106 ===\n",
      "Comment: Franco& Nathalie\n",
      "Upvotes: 3\n",
      "Time Posted: None\n",
      "\n",
      "=== Comment 107 ===\n",
      "Comment: Philippe Jaroussky\n",
      "Upvotes: 1\n",
      "Time Posted: None\n",
      "\n",
      "=== Comment 108 ===\n",
      "Comment: For my ears I liked Franco Fagiolis voice and  Nathalie Stutzman. Nathalie Is one superb  Händel singer and a very good dirigent as well!\n",
      "Upvotes: 4\n",
      "Time Posted: None\n",
      "\n",
      "=== Comment 109 ===\n",
      "Comment: I don't know much about this aria or the opera it comes from so I don't know the story... I'm still learning. All I can say is that the countertenor voice makes me weep..it is so beautiful, crystalline sounding, and yet strong.\n",
      "Upvotes: 4\n",
      "Time Posted: None\n",
      "\n",
      "=== Comment 110 ===\n",
      "Comment: Expression: I love how Scholl ends the aria with dramatic emphasis on the last \"deh!\"\n",
      "Upvotes: 2\n",
      "Time Posted: None\n",
      "\n",
      "=== Comment 111 ===\n",
      "Comment: Valer Sabadus ! But it’s unfortunate that we can’t also hear Kacper Szelazek !\n",
      "Upvotes: 3\n",
      "Time Posted: None\n",
      "\n",
      "=== Comment 112 ===\n",
      "Comment: Piece written for countertenor(formally castrato)voice. Women in this role are ridiculous. Of the countertenors, Fagioli just radiates the emotions in this aria.\n",
      "Upvotes: 2\n",
      "Time Posted: None\n",
      "\n",
      "=== Comment 113 ===\n",
      "Comment: It is so awesome to hear all these delighful voices. Geat compilation!\n",
      "Upvotes: 3\n",
      "Time Posted: None\n",
      "\n",
      "=== Comment 114 ===\n",
      "Comment: Considering the story, Fagioli has the most appropriate voice because it has male energy. The 2 women sound very beautiful.\n",
      "Upvotes: 1\n",
      "Time Posted: None\n",
      "\n",
      "=== Comment 115 ===\n",
      "Comment: You obviously haven't heard Delphine Galou's performance. Magnificent!\n",
      "Upvotes: 3\n",
      "Time Posted: None\n",
      "\n",
      "=== Comment 116 ===\n",
      "Comment: Andreas Scholl\n",
      "Upvotes: 7\n",
      "Time Posted: None\n",
      "\n",
      "=== Comment 117 ===\n",
      "Comment: Sonia Prina y Franco Fagioli :)\n",
      "Upvotes: 2\n",
      "Time Posted: None\n",
      "\n",
      "=== Comment 118 ===\n",
      "Comment: Philippe unbeatable, expressive, gentle, loving, just a joy to listen to.\n",
      "Upvotes: 5\n",
      "Time Posted: None\n",
      "\n",
      "=== Comment 119 ===\n",
      "Comment: It was difficult to decide here, especially considering the lineup, but Valer Sabadus has my vote. Those who know me might be shocked that I voted in favor of him over Andreas Scholl - but after listening through twice, the choice was clear.\n",
      "Upvotes: 3\n",
      "Time Posted: None\n",
      "\n",
      "=== Comment 120 ===\n",
      "Comment: Franco Fagioli najlepiej wczuł się\n",
      "Upvotes: 5\n",
      "Time Posted: None\n",
      "\n",
      "=== Comment 121 ===\n",
      "Comment: Andreas Scholl .\n",
      "Upvotes: 8\n",
      "Time Posted: None\n",
      "\n",
      "=== Comment 122 ===\n",
      "Comment: ... why not Jakub???\n",
      "Upvotes: 5\n",
      "Time Posted: None\n",
      "\n",
      "=== Comment 123 ===\n",
      "Comment: Respectfully, Scholl\n",
      "Upvotes: 6\n",
      "Time Posted: None\n",
      "\n",
      "=== Comment 124 ===\n",
      "Comment: Franco Fagioli - Nathalie Stutzmann.  Los dos interpretan las arias con las cuerdas vocales y el corazón, transmiten los sentimientos y la emoción de lo que dicen. Son magníficos siempre. No desmerezco a los demás, al contrario, los admiro, pero desde mi punto de vista, los que nombré son excepcionales. Bravo !!!\n",
      "Upvotes: 10\n",
      "Time Posted: None\n",
      "\n",
      "=== Comment 125 ===\n",
      "Comment: Fagioli.\n",
      "Upvotes: 3\n",
      "Time Posted: None\n",
      "\n",
      "=== Comment 126 ===\n",
      "Comment: Nathalie ️\n",
      "Upvotes: 2\n",
      "Time Posted: None\n",
      "\n",
      "=== Comment 127 ===\n",
      "Comment: A pity Cencic isn't in this.\n",
      "Upvotes: 1\n",
      "Time Posted: None\n",
      "\n",
      "=== Comment 128 ===\n",
      "Comment: Aunque no todas las grabaciones tienen la misma calidad, me decanto por Nathalie Stutzmann. Tanta sutileza es una caricia para el oído,.\n",
      "Upvotes: \n",
      "Time Posted: None\n",
      "\n",
      "=== Comment 129 ===\n",
      "Comment: Je préfère des voix au timbre plus sombre pour cette pièce. Donc Nathalie Stutzmann et Fagioli mais franchement, c'est difficile, vu l'excellence.\n",
      "Upvotes: 5\n",
      "Time Posted: None\n",
      "\n",
      "=== Comment 130 ===\n",
      "Comment: Scholl, Fagioli, Stutzmann....no wait: Fagioli, Stutzmann, Scholl - but actually the others aren't bad either - sorry, I'm just an ignorant music-lover .... :)\n",
      "Upvotes: 5\n",
      "Time Posted: None\n",
      "\n",
      "=== Comment 131 ===\n",
      "Comment: I have listened to it several times and I must say that I prefer Fagioli: from the beginning to the end of this famous aria by the eternal Händel. It's not just about the voice but about every single syllable. Fagioli seems to me to give the most poetic, intelligent and clean interpretation; in short, the best in this collection. Then Jaroussky, Scholl, Stutzmann, Sabadus, Prina (I appreciate them all very much) \n",
      "Upvotes: 2\n",
      "Time Posted: None\n",
      "\n",
      "=== Comment 132 ===\n",
      "Comment: Valer Sabadus\n",
      "Upvotes: 9\n",
      "Time Posted: None\n",
      "\n",
      "=== Comment 133 ===\n",
      "Comment: 1. Scholl 2. Stutzman 3. Prina 4. Sabadus 5. Fagioli\n",
      "Upvotes: 5\n",
      "Time Posted: None\n",
      "\n",
      "=== Comment 134 ===\n",
      "Comment: Nathalie Stutzmann\n",
      "Upvotes: 6\n",
      "Time Posted: None\n",
      "\n",
      "=== Comment 135 ===\n",
      "Comment: Both amazing, about this aria my favourite is Sonia Prina\n",
      "Upvotes: \n",
      "Time Posted: None\n",
      "\n",
      "=== Comment 136 ===\n",
      "Comment: Nathalie para mi gusto tiene una voz mucho más pareja en todo su registro cuidando la emisión detallada y delicadamente en cada uno de los fraseos\n",
      "Upvotes: 4\n",
      "Time Posted: None\n",
      "\n",
      "=== Comment 137 ===\n",
      "Comment: Щтуцманн!!\n",
      "Upvotes: 2\n",
      "Time Posted: None\n",
      "\n",
      "=== Comment 138 ===\n",
      "Comment: Fagioli is my favorite, followed by Stutzmann and Scholl. The other ones are also great.\n",
      "Upvotes: 3\n",
      "Time Posted: None\n",
      "\n",
      "=== Comment 139 ===\n",
      "Comment: This piece needs a deeper voice to transfer the feeling to the audience. The best is Mrs. Stutzmann followed from Mr. Fagioli (only for this piece). Mrs. Stutzmann sung this pice some anothers and the whole audience and me had tears in the eyes. We were in this moment completely flashed. From the other one i miss the that certain something (only for this piece).\n",
      "Upvotes: 2\n",
      "Time Posted: None\n",
      "\n",
      "=== Comment 140 ===\n",
      "Comment: Philippe!️\n",
      "Upvotes: 4\n",
      "Time Posted: None\n",
      "\n",
      "=== Comment 141 ===\n",
      "Comment: Nathalie stutzmann sans hésitation\n",
      "Je l'écoute souvent avec la même émotion\n",
      "Upvotes: 1\n",
      "Time Posted: None\n",
      "\n",
      "=== Comment 142 ===\n",
      "Comment: Nathalie stutzmann.\n",
      "Upvotes: 1\n",
      "Time Posted: None\n",
      "\n",
      "=== Comment 143 ===\n",
      "Comment: PHILIPPE JAROUSSKY, Stutzmann & Fagioli ️\n",
      "Upvotes: 2\n",
      "Time Posted: None\n",
      "\n",
      "=== Comment 144 ===\n",
      "Comment: Se desiderassi che la mia ex moglie tornasse... JAROUSSKY!  per la \"intimità\" con serenata orchestrale. Siccome non lo desidero, STUTZMANN, pathos zero.\n",
      "Upvotes: \n",
      "Time Posted: None\n",
      "\n",
      "=== Comment 145 ===\n",
      "Comment: Valer Sabadus\n",
      "Upvotes: 8\n",
      "Time Posted: None\n",
      "\n",
      "=== Comment 146 ===\n",
      "Comment: Nathalie Stutzman, su voz cavernosa es impresionante, y sus arreglos son como muy etéreos, fascinantes....\n",
      "Upvotes: 5\n",
      "Time Posted: None\n",
      "\n",
      "=== Comment 147 ===\n",
      "Comment: Todos excelentes!.. me gustan más Sonia Prina y Franco Fagioli \n",
      "Upvotes: 3\n",
      "Time Posted: None\n",
      "\n",
      "=== Comment 148 ===\n",
      "Comment: L'une de plus belles intérpretaions pour moi est celle par David Daniels et celle par Ewa Podles\n",
      "Upvotes: 2\n",
      "Time Posted: None\n",
      "\n",
      "=== Comment 149 ===\n",
      "Comment: For me, the best voice: Stutzman, the most suitable voice for the lyrics: Scholl (love his lower register), the best embellishments: Sabadus. But they are all great!\n",
      "Upvotes: 3\n",
      "Time Posted: None\n",
      "\n",
      "=== Comment 150 ===\n",
      "Comment: thank you for remembering such a beautiful aria, the best for me is Valer Sabadus and Nathalie Stutzmann\n",
      "Upvotes: 2\n",
      "Time Posted: None\n",
      "\n",
      "=== Comment 151 ===\n",
      "Comment: Nathalie Stutzmann\n",
      "Upvotes: 2\n",
      "Time Posted: None\n",
      "\n",
      "=== Comment 152 ===\n",
      "Comment: Loved Fagioli ,especially the embellishments on the return.Stutzmann also wonderful!\n",
      "Upvotes: 4\n",
      "Time Posted: None\n",
      "\n",
      "=== Comment 153 ===\n",
      "Comment: Adorable your selection. Congratulations for that. Different styles all beautiful in each particular technique. Thank you for sharing this beauty.\n",
      "Upvotes: 2\n",
      "Time Posted: None\n",
      "\n",
      "=== Comment 154 ===\n",
      "Comment: Non si possono fare dei paragoni tra l'uno/a  o l'altro /a. Ognuno di loro ha voci partcolari e pregevoli. Per me Bravissimi tutti e tutte. \n",
      "Upvotes: 2\n",
      "Time Posted: None\n",
      "\n",
      "=== Comment 155 ===\n",
      "Comment: Sonia Prina ,perque forse non la piu bella voce ma ,expressione ,varieta de colori ,chiaro e oscuro ,con legato belcanto,frase come rossini ,e questo e la tradizione di haendel ,haendel e dio\n",
      "Upvotes: 3\n",
      "Time Posted: None\n",
      "\n",
      "=== Comment 156 ===\n",
      "Comment: For me it's Nathalie Stutzmann.\n",
      "Upvotes: 1\n",
      "Time Posted: None\n",
      "\n",
      "=== Comment 157 ===\n",
      "Comment: Andreas Scholl & Nathalie Stutzmann.\n",
      "Upvotes: 10\n",
      "Time Posted: None\n",
      "\n",
      "=== Comment 158 ===\n",
      "Comment: Fagioli sem dúvida  alguma \n",
      "Upvotes: 8\n",
      "Time Posted: None\n",
      "\n",
      "=== Comment 159 ===\n",
      "Comment: Franco  Fagioli is  the  best\n",
      "Upvotes: 10\n",
      "Time Posted: None\n",
      "\n",
      "=== Comment 160 ===\n",
      "Comment: Scholl, Sabadus (my favourite embellishments on theme recapitulation), Fagioli for the countertenors. Stutzmann (strikingly gorgeous recapitulation, too brief...), Prina lovely rendition but Nathalie S. first to me. In all, Scholl & Stutzmann, Sabadus, Fagioli, Prina.\n",
      "Upvotes: 4\n",
      "Time Posted: None\n",
      "\n",
      "=== Comment 161 ===\n",
      "Comment: It's Nathalie Stutzmann for female voice and Franco Fagioli for male voice for me.  I am huge fan of Stutzmann. She sings with such incredible color and line. I also love Ewa Podles in this aria.\n",
      "Upvotes: 31\n",
      "Time Posted: None\n",
      "\n",
      "=== Comment 162 ===\n",
      "Comment: Все лучшие - каждый по -своему... Наслаждение.....\n",
      "Upvotes: 4\n",
      "Time Posted: None\n",
      "\n",
      "=== Comment 163 ===\n",
      "Comment: Derek Lee Ragin without doubt Top perform in Farinelli  Il Castrato film, 1994!\n",
      "Présent Times vote on max for Angelic Haute Voix to Philippe Jaroussky ️️️\n",
      "Upvotes: 6\n",
      "Time Posted: None\n",
      "\n",
      "=== Comment 164 ===\n",
      "Comment: Nathalie la mejor!\n",
      "Upvotes: 4\n",
      "Time Posted: None\n",
      "\n",
      "=== Comment 165 ===\n",
      "Comment: Philippe\n",
      "Upvotes: 4\n",
      "Time Posted: None\n",
      "\n",
      "=== Comment 166 ===\n",
      "Comment: the best here is Nathalie Stutzmann.  supreme range and sustains the most important notes for the fullest expression of both music and lyrics.  astounding capability.  serious.  wow!\n",
      "Upvotes: 7\n",
      "Time Posted: None\n",
      "\n",
      "=== Comment 167 ===\n",
      "Comment: Derek Lee Ragin  y Franco Fagioli.\n",
      "Upvotes: 3\n",
      "Time Posted: None\n",
      "\n",
      "=== Comment 168 ===\n",
      "Comment: Sonia\n",
      "Upvotes: 4\n",
      "Time Posted: None\n",
      "\n"
     ]
    }
   ],
   "source": [
    "def extract_comments(url):\n",
    "    options = webdriver.ChromeOptions()\n",
    "    options.add_argument('--headless')  # Run Chrome in headless mode (without GUI)\n",
    "    driver = webdriver.Chrome(options=options)  # Replace with the actual path to ChromeDriver\n",
    "    driver.get(url)\n",
    "\n",
    "    # Scroll down to load more comments\n",
    "    last_height = driver.execute_script(\"return document.documentElement.scrollHeight\")\n",
    "    while len(driver.find_elements (By.XPATH,'//*[@id=\"content-text\"]')) < 500:\n",
    "        driver.execute_script(\"window.scrollTo(0, document.documentElement.scrollHeight);\")\n",
    "        time.sleep(2)\n",
    "        new_height = driver.execute_script(\"return document.documentElement.scrollHeight\")\n",
    "        if new_height == last_height:\n",
    "            break\n",
    "        last_height = new_height\n",
    "\n",
    "    # Extract comments, upvotes, and time\n",
    "    comments = driver.find_elements (By.XPATH,('//*[@id=\"content-text\"]'))\n",
    "    upvotes = driver.find_elements(By.XPATH,('//*[@id=\"vote-count-middle\"]'))\n",
    "    times = driver.find_elements(By.XPATH,('//*[@id=\"header-author\"]/yt-formatted-string/a'))\n",
    "\n",
    "    comments_list = []\n",
    "    for comment, upvote, time_element in zip(comments, upvotes, times):\n",
    "        comment_text = comment.text\n",
    "        upvote_count = upvote.text\n",
    "        time_posted = time_element.get_attribute('aria-label')\n",
    "        comments_list.append((comment_text, upvote_count, time_posted))\n",
    "\n",
    "    driver.quit()\n",
    "    return comments_list\n",
    "\n",
    "def main():\n",
    "    video_url = input(\"Enter the YouTube video URL: \")\n",
    "    comments = extract_comments(video_url)\n",
    "\n",
    "    if comments:\n",
    "        for idx, (comment_text, upvote_count, time_posted) in enumerate(comments, 1):\n",
    "            print(f\"=== Comment {idx} ===\")\n",
    "            print(f\"Comment: {comment_text}\")\n",
    "            print(f\"Upvotes: {upvote_count}\")\n",
    "            print(f\"Time Posted: {time_posted}\")\n",
    "            print()\n",
    "    else:\n",
    "        print(\"No comments found.\")\n",
    "\n",
    "if __name__ == \"__main__\":\n",
    "    main()"
   ]
  },
  {
   "cell_type": "markdown",
   "id": "078d620f-f493-4458-b7b3-e866dc103a65",
   "metadata": {},
   "source": [
    "END OF QUESTION 8"
   ]
  },
  {
   "cell_type": "markdown",
   "id": "ed3ba459-0f00-4d55-943a-0f23bb678260",
   "metadata": {},
   "source": [
    "QUESTION 9"
   ]
  },
  {
   "cell_type": "code",
   "execution_count": 91,
   "id": "5031cbc8-84ed-4af6-af92-51b9d3d44c52",
   "metadata": {
    "tags": []
   },
   "outputs": [
    {
     "name": "stdout",
     "output_type": "stream",
     "text": [
      "Defaulting to user installation because normal site-packages is not writeableNote: you may need to restart the kernel to use updated packages.\n",
      "\n",
      "Requirement already satisfied: selenium in c:\\programdata\\anaconda3\\lib\\site-packages (4.10.0)\n",
      "Requirement already satisfied: urllib3[socks]<3,>=1.26 in c:\\programdata\\anaconda3\\lib\\site-packages (from selenium) (1.26.16)\n",
      "Requirement already satisfied: trio~=0.17 in c:\\programdata\\anaconda3\\lib\\site-packages (from selenium) (0.22.2)\n",
      "Requirement already satisfied: trio-websocket~=0.9 in c:\\programdata\\anaconda3\\lib\\site-packages (from selenium) (0.10.3)\n",
      "Requirement already satisfied: certifi>=2021.10.8 in c:\\programdata\\anaconda3\\lib\\site-packages (from selenium) (2023.5.7)\n",
      "Requirement already satisfied: attrs>=20.1.0 in c:\\programdata\\anaconda3\\lib\\site-packages (from trio~=0.17->selenium) (22.1.0)\n",
      "Requirement already satisfied: sortedcontainers in c:\\programdata\\anaconda3\\lib\\site-packages (from trio~=0.17->selenium) (2.4.0)\n",
      "Requirement already satisfied: idna in c:\\programdata\\anaconda3\\lib\\site-packages (from trio~=0.17->selenium) (3.4)\n",
      "Requirement already satisfied: outcome in c:\\programdata\\anaconda3\\lib\\site-packages (from trio~=0.17->selenium) (1.2.0)\n",
      "Requirement already satisfied: sniffio in c:\\programdata\\anaconda3\\lib\\site-packages (from trio~=0.17->selenium) (1.2.0)\n",
      "Requirement already satisfied: cffi>=1.14 in c:\\programdata\\anaconda3\\lib\\site-packages (from trio~=0.17->selenium) (1.15.1)\n",
      "Requirement already satisfied: exceptiongroup in c:\\programdata\\anaconda3\\lib\\site-packages (from trio-websocket~=0.9->selenium) (1.1.2)\n",
      "Requirement already satisfied: wsproto>=0.14 in c:\\programdata\\anaconda3\\lib\\site-packages (from trio-websocket~=0.9->selenium) (1.2.0)\n",
      "Requirement already satisfied: PySocks!=1.5.7,<2.0,>=1.5.6 in c:\\programdata\\anaconda3\\lib\\site-packages (from urllib3[socks]<3,>=1.26->selenium) (1.7.1)\n",
      "Requirement already satisfied: pycparser in c:\\programdata\\anaconda3\\lib\\site-packages (from cffi>=1.14->trio~=0.17->selenium) (2.21)\n",
      "Requirement already satisfied: h11<1,>=0.9.0 in c:\\programdata\\anaconda3\\lib\\site-packages (from wsproto>=0.14->trio-websocket~=0.9->selenium) (0.14.0)\n"
     ]
    }
   ],
   "source": [
    "pip install selenium"
   ]
  },
  {
   "cell_type": "code",
   "execution_count": 1,
   "id": "292618a9-b3d9-486f-99d7-df0ed1627e41",
   "metadata": {
    "tags": []
   },
   "outputs": [
    {
     "name": "stdout",
     "output_type": "stream",
     "text": [
      "Defaulting to user installation because normal site-packages is not writeable\n",
      "Requirement already satisfied: webdriver-manager in c:\\programdata\\anaconda3\\lib\\site-packages (3.8.6)\n",
      "Requirement already satisfied: requests in c:\\programdata\\anaconda3\\lib\\site-packages (from webdriver-manager) (2.29.0)\n",
      "Requirement already satisfied: python-dotenv in c:\\programdata\\anaconda3\\lib\\site-packages (from webdriver-manager) (1.0.0)\n",
      "Requirement already satisfied: tqdm in c:\\programdata\\anaconda3\\lib\\site-packages (from webdriver-manager) (4.65.0)\n",
      "Requirement already satisfied: packaging in c:\\programdata\\anaconda3\\lib\\site-packages (from webdriver-manager) (23.0)\n",
      "Requirement already satisfied: charset-normalizer<4,>=2 in c:\\programdata\\anaconda3\\lib\\site-packages (from requests->webdriver-manager) (2.0.4)\n",
      "Requirement already satisfied: idna<4,>=2.5 in c:\\programdata\\anaconda3\\lib\\site-packages (from requests->webdriver-manager) (3.4)\n",
      "Requirement already satisfied: urllib3<1.27,>=1.21.1 in c:\\programdata\\anaconda3\\lib\\site-packages (from requests->webdriver-manager) (1.26.16)\n",
      "Requirement already satisfied: certifi>=2017.4.17 in c:\\programdata\\anaconda3\\lib\\site-packages (from requests->webdriver-manager) (2023.5.7)\n",
      "Requirement already satisfied: colorama in c:\\programdata\\anaconda3\\lib\\site-packages (from tqdm->webdriver-manager) (0.4.6)\n"
     ]
    }
   ],
   "source": [
    "!pip install webdriver-manager"
   ]
  },
  {
   "cell_type": "code",
   "execution_count": 2,
   "id": "8cc7c58f-beb6-4561-b00d-9f5b43152416",
   "metadata": {
    "tags": []
   },
   "outputs": [
    {
     "name": "stdout",
     "output_type": "stream",
     "text": [
      "Defaulting to user installation because normal site-packages is not writeable\n",
      "Requirement already satisfied: selenium in c:\\programdata\\anaconda3\\lib\\site-packages (4.10.0)\n",
      "Requirement already satisfied: beautifulsoup4 in c:\\programdata\\anaconda3\\lib\\site-packages (4.12.2)\n",
      "Requirement already satisfied: pandas in c:\\programdata\\anaconda3\\lib\\site-packages (1.5.3)\n",
      "Requirement already satisfied: urllib3[socks]<3,>=1.26 in c:\\programdata\\anaconda3\\lib\\site-packages (from selenium) (1.26.16)\n",
      "Requirement already satisfied: trio~=0.17 in c:\\programdata\\anaconda3\\lib\\site-packages (from selenium) (0.22.2)\n",
      "Requirement already satisfied: trio-websocket~=0.9 in c:\\programdata\\anaconda3\\lib\\site-packages (from selenium) (0.10.3)\n",
      "Requirement already satisfied: certifi>=2021.10.8 in c:\\programdata\\anaconda3\\lib\\site-packages (from selenium) (2023.5.7)\n",
      "Requirement already satisfied: soupsieve>1.2 in c:\\programdata\\anaconda3\\lib\\site-packages (from beautifulsoup4) (2.4)\n",
      "Requirement already satisfied: python-dateutil>=2.8.1 in c:\\programdata\\anaconda3\\lib\\site-packages (from pandas) (2.8.2)\n",
      "Requirement already satisfied: pytz>=2020.1 in c:\\programdata\\anaconda3\\lib\\site-packages (from pandas) (2022.7)\n",
      "Requirement already satisfied: numpy>=1.21.0 in c:\\programdata\\anaconda3\\lib\\site-packages (from pandas) (1.24.3)\n",
      "Requirement already satisfied: six>=1.5 in c:\\programdata\\anaconda3\\lib\\site-packages (from python-dateutil>=2.8.1->pandas) (1.16.0)\n",
      "Requirement already satisfied: attrs>=20.1.0 in c:\\programdata\\anaconda3\\lib\\site-packages (from trio~=0.17->selenium) (22.1.0)\n",
      "Requirement already satisfied: sortedcontainers in c:\\programdata\\anaconda3\\lib\\site-packages (from trio~=0.17->selenium) (2.4.0)\n",
      "Requirement already satisfied: idna in c:\\programdata\\anaconda3\\lib\\site-packages (from trio~=0.17->selenium) (3.4)\n",
      "Requirement already satisfied: outcome in c:\\programdata\\anaconda3\\lib\\site-packages (from trio~=0.17->selenium) (1.2.0)\n",
      "Requirement already satisfied: sniffio in c:\\programdata\\anaconda3\\lib\\site-packages (from trio~=0.17->selenium) (1.2.0)\n",
      "Requirement already satisfied: cffi>=1.14 in c:\\programdata\\anaconda3\\lib\\site-packages (from trio~=0.17->selenium) (1.15.1)\n",
      "Requirement already satisfied: exceptiongroup in c:\\programdata\\anaconda3\\lib\\site-packages (from trio-websocket~=0.9->selenium) (1.1.2)\n",
      "Requirement already satisfied: wsproto>=0.14 in c:\\programdata\\anaconda3\\lib\\site-packages (from trio-websocket~=0.9->selenium) (1.2.0)\n",
      "Requirement already satisfied: PySocks!=1.5.7,<2.0,>=1.5.6 in c:\\programdata\\anaconda3\\lib\\site-packages (from urllib3[socks]<3,>=1.26->selenium) (1.7.1)\n",
      "Requirement already satisfied: pycparser in c:\\programdata\\anaconda3\\lib\\site-packages (from cffi>=1.14->trio~=0.17->selenium) (2.21)\n",
      "Requirement already satisfied: h11<1,>=0.9.0 in c:\\programdata\\anaconda3\\lib\\site-packages (from wsproto>=0.14->trio-websocket~=0.9->selenium) (0.14.0)\n",
      "Note: you may need to restart the kernel to use updated packages.\n"
     ]
    }
   ],
   "source": [
    "pip install selenium beautifulsoup4 pandas"
   ]
  },
  {
   "cell_type": "code",
   "execution_count": 1,
   "id": "6153300f-ca9c-4e93-a05a-be09042f8304",
   "metadata": {
    "tags": []
   },
   "outputs": [],
   "source": [
    "from selenium import webdriver\n",
    "from selenium.webdriver.common.by import By\n",
    "from selenium.webdriver.support.ui import WebDriverWait\n",
    "from webdriver_manager.chrome import ChromeDriverManager\n",
    "from selenium.common.exceptions import TimeoutException, NoSuchElementException, WebDriverException\n",
    "from selenium.webdriver.support import expected_conditions as EC\n",
    "from selenium.webdriver.chrome.service import Service\n",
    "from selenium.webdriver.chrome.options import Options\n",
    "from selenium.webdriver.chrome.webdriver import WebDriver\n",
    "import pandas as pd\n",
    "import requests\n",
    "import time\n",
    "import warnings\n",
    "warnings.filterwarnings(\"ignore\")"
   ]
  },
  {
   "cell_type": "code",
   "execution_count": 2,
   "id": "d3ede6c1-9c8e-40d7-b1ae-ed689ec4adab",
   "metadata": {
    "tags": []
   },
   "outputs": [],
   "source": [
    "driver = webdriver.Chrome() "
   ]
  },
  {
   "cell_type": "code",
   "execution_count": 3,
   "id": "934410ca-038d-4e1c-8b09-c971b3a6e31b",
   "metadata": {
    "tags": []
   },
   "outputs": [],
   "source": [
    "driver.get(\"https://www.hostelworld.com/search?search_keywords=London,%20England&country=England&city=London&date_from=2023-07-01&date_to=2023-07-31&number_of_guests=1\")"
   ]
  },
  {
   "cell_type": "code",
   "execution_count": 18,
   "id": "854a160c-c960-4bf2-88d2-b416c380dfdc",
   "metadata": {
    "tags": []
   },
   "outputs": [],
   "source": [
    "property_name = []\n",
    "distance=[]\n",
    "rating=[]\n",
    "overall_reviews=[]\n",
    "privates_price=[]\n",
    "dorms_price=[]\n",
    "facilities=['-']\n",
    "\n"
   ]
  },
  {
   "cell_type": "code",
   "execution_count": 19,
   "id": "42cfeec5-64ac-48db-a016-68ab54550e28",
   "metadata": {
    "tags": []
   },
   "outputs": [],
   "source": [
    "title_tags=driver.find_elements(By.CLASS_NAME,'property-name')\n",
    "for i in title_tags[0:30]:\n",
    "    title=i.text\n",
    "    property_name.append(title)\n"
   ]
  },
  {
   "cell_type": "code",
   "execution_count": 20,
   "id": "49b5e88f-f279-4074-ba40-86292035bcff",
   "metadata": {
    "tags": []
   },
   "outputs": [],
   "source": [
    "title_tags=driver.find_elements(By.CLASS_NAME,'distance-description')\n",
    "for i in title_tags[0:30]:\n",
    "    title=i.text\n",
    "    distance.append(title)"
   ]
  },
  {
   "cell_type": "code",
   "execution_count": 21,
   "id": "80db6b6f-fac9-41a6-990b-dd8a7eda67d2",
   "metadata": {
    "tags": []
   },
   "outputs": [],
   "source": [
    "title_tags=driver.find_elements(By.CLASS_NAME,'number')\n",
    "for i in title_tags[0:30]:\n",
    "    title=i.text\n",
    "    rating.append(title)"
   ]
  },
  {
   "cell_type": "code",
   "execution_count": 22,
   "id": "e0ff6528-3f37-4d45-8978-9775c69ebd10",
   "metadata": {
    "tags": []
   },
   "outputs": [],
   "source": [
    "title_tags=driver.find_elements(By.CLASS_NAME,'review')\n",
    "for i in title_tags[0:30]:\n",
    "    title=i.text\n",
    "    overall_reviews.append(title)"
   ]
  },
  {
   "cell_type": "code",
   "execution_count": 23,
   "id": "a48d2a7a-fe74-4e6e-b27c-0e3db7b504e3",
   "metadata": {
    "tags": []
   },
   "outputs": [],
   "source": [
    "title_tags=driver.find_elements(By.CLASS_NAME,'accommodation-price')\n",
    "for i in title_tags[0:30]:\n",
    "    title=i.text\n",
    "    privates_price.append(title)"
   ]
  },
  {
   "cell_type": "code",
   "execution_count": 24,
   "id": "00b47814-48ec-4251-b38f-2bc2a99a0761",
   "metadata": {
    "tags": []
   },
   "outputs": [],
   "source": [
    "title_tags=driver.find_elements(By.CLASS_NAME,'property-accommodation-price')\n",
    "for i in title_tags[0:30]:\n",
    "    title=i.text\n",
    "    dorms_price.append(title)"
   ]
  },
  {
   "cell_type": "code",
   "execution_count": 28,
   "id": "fc4a0b54-36d6-4a01-bb49-34ff230e635b",
   "metadata": {
    "tags": []
   },
   "outputs": [],
   "source": [
    "print=(len(property_name),len(distance),len(rating),len(overall_reviews),len(privates_price),len(dorms_price))"
   ]
  },
  {
   "cell_type": "code",
   "execution_count": 29,
   "id": "8c67b69d-479f-45a2-ad27-4bf18ad341dc",
   "metadata": {
    "tags": []
   },
   "outputs": [
    {
     "data": {
      "text/plain": [
       "(30, 30, 30, 30, 30, 30)"
      ]
     },
     "execution_count": 29,
     "metadata": {},
     "output_type": "execute_result"
    }
   ],
   "source": [
    "print"
   ]
  },
  {
   "cell_type": "code",
   "execution_count": 30,
   "id": "4870a760-73f9-4a0d-8b54-9fae9fa3061f",
   "metadata": {
    "tags": []
   },
   "outputs": [
    {
     "data": {
      "text/html": [
       "<div>\n",
       "<style scoped>\n",
       "    .dataframe tbody tr th:only-of-type {\n",
       "        vertical-align: middle;\n",
       "    }\n",
       "\n",
       "    .dataframe tbody tr th {\n",
       "        vertical-align: top;\n",
       "    }\n",
       "\n",
       "    .dataframe thead th {\n",
       "        text-align: right;\n",
       "    }\n",
       "</style>\n",
       "<table border=\"1\" class=\"dataframe\">\n",
       "  <thead>\n",
       "    <tr style=\"text-align: right;\">\n",
       "      <th></th>\n",
       "      <th>Property_Name</th>\n",
       "      <th>Distance</th>\n",
       "      <th>Rating</th>\n",
       "      <th>Overall_Reviews</th>\n",
       "      <th>Privates_price</th>\n",
       "      <th>Dorms_price</th>\n",
       "    </tr>\n",
       "  </thead>\n",
       "  <tbody>\n",
       "    <tr>\n",
       "      <th>0</th>\n",
       "      <td>St Christopher's Village</td>\n",
       "      <td>- 3.6km from city centre</td>\n",
       "      <td>8.1</td>\n",
       "      <td>(15117)</td>\n",
       "      <td>₹2,307</td>\n",
       "      <td>From\\n₹2,307</td>\n",
       "    </tr>\n",
       "    <tr>\n",
       "      <th>1</th>\n",
       "      <td>Clink261</td>\n",
       "      <td>- 5.5km from city centre</td>\n",
       "      <td>8.2</td>\n",
       "      <td>(2157)</td>\n",
       "      <td>₹2,509</td>\n",
       "      <td>From\\n₹2,509</td>\n",
       "    </tr>\n",
       "    <tr>\n",
       "      <th>2</th>\n",
       "      <td>Wombat's City Hostel London</td>\n",
       "      <td>- 1.8km from city centre</td>\n",
       "      <td>9.0</td>\n",
       "      <td>(12284)</td>\n",
       "      <td>₹19,084\\n₹15,267</td>\n",
       "      <td>-20%\\nPrivates From\\n₹19,084\\n₹15,267</td>\n",
       "    </tr>\n",
       "    <tr>\n",
       "      <th>3</th>\n",
       "      <td>Onefam Notting Hill by Hostel One</td>\n",
       "      <td>- 3km from city centre</td>\n",
       "      <td>9.7</td>\n",
       "      <td>(7623)</td>\n",
       "      <td>₹4,281\\n₹3,425</td>\n",
       "      <td>-20%\\nDorms From\\n₹4,281\\n₹3,425</td>\n",
       "    </tr>\n",
       "    <tr>\n",
       "      <th>4</th>\n",
       "      <td>St Christopher's Village</td>\n",
       "      <td>- 6.1km from city centre</td>\n",
       "      <td>8.1</td>\n",
       "      <td>(2011)</td>\n",
       "      <td>₹11,332</td>\n",
       "      <td>Privates From\\n₹11,332</td>\n",
       "    </tr>\n",
       "    <tr>\n",
       "      <th>5</th>\n",
       "      <td>Generator London</td>\n",
       "      <td>- 5.4km from city centre</td>\n",
       "      <td>7.6</td>\n",
       "      <td>(841)</td>\n",
       "      <td>₹5,037</td>\n",
       "      <td>Dorms From\\n₹5,037</td>\n",
       "    </tr>\n",
       "    <tr>\n",
       "      <th>6</th>\n",
       "      <td>NX London Hostel</td>\n",
       "      <td>- 4.3km from city centre</td>\n",
       "      <td>8.2</td>\n",
       "      <td>(12128)</td>\n",
       "      <td>No Privates Available</td>\n",
       "      <td>No Privates Available</td>\n",
       "    </tr>\n",
       "    <tr>\n",
       "      <th>7</th>\n",
       "      <td>Urbany Hostel London</td>\n",
       "      <td>- 1.7km from city centre</td>\n",
       "      <td>9.5</td>\n",
       "      <td>(5034)</td>\n",
       "      <td>₹2,563\\n₹2,307</td>\n",
       "      <td>-10%\\nDorms From\\n₹2,563\\n₹2,307</td>\n",
       "    </tr>\n",
       "    <tr>\n",
       "      <th>8</th>\n",
       "      <td>Astor Hyde Park</td>\n",
       "      <td>- 2.3km from city centre</td>\n",
       "      <td>8.4</td>\n",
       "      <td>(2689)</td>\n",
       "      <td>₹7,334</td>\n",
       "      <td>Privates From\\n₹7,334</td>\n",
       "    </tr>\n",
       "    <tr>\n",
       "      <th>9</th>\n",
       "      <td>Safestay London Elephant &amp; Castle</td>\n",
       "      <td>- 4.2km from city centre</td>\n",
       "      <td>7.2</td>\n",
       "      <td>(4298)</td>\n",
       "      <td>₹1,993</td>\n",
       "      <td>Dorms From\\n₹1,993</td>\n",
       "    </tr>\n",
       "    <tr>\n",
       "      <th>10</th>\n",
       "      <td>Pickwick Hall</td>\n",
       "      <td>- 5.8km from city centre</td>\n",
       "      <td>8.7</td>\n",
       "      <td>(1597)</td>\n",
       "      <td>₹9,013</td>\n",
       "      <td>Privates From\\n₹9,013</td>\n",
       "    </tr>\n",
       "    <tr>\n",
       "      <th>11</th>\n",
       "      <td>Phoenix Hostel</td>\n",
       "      <td>- 5km from city centre</td>\n",
       "      <td>8.0</td>\n",
       "      <td>(6673)</td>\n",
       "      <td>₹2,569</td>\n",
       "      <td>Dorms From\\n₹2,569</td>\n",
       "    </tr>\n",
       "    <tr>\n",
       "      <th>12</th>\n",
       "      <td>Safestay London Kensington Holland Park</td>\n",
       "      <td>- 3.2km from city centre</td>\n",
       "      <td>7.0</td>\n",
       "      <td>(342)</td>\n",
       "      <td>₹13,428</td>\n",
       "      <td>Privates From\\n₹13,428</td>\n",
       "    </tr>\n",
       "    <tr>\n",
       "      <th>13</th>\n",
       "      <td>Smart Hyde Park Inn Hostel</td>\n",
       "      <td>- 1.7km from city centre</td>\n",
       "      <td>7.5</td>\n",
       "      <td>(200)</td>\n",
       "      <td>₹3,743</td>\n",
       "      <td>Dorms From\\n₹3,743</td>\n",
       "    </tr>\n",
       "    <tr>\n",
       "      <th>14</th>\n",
       "      <td>Clink261</td>\n",
       "      <td>- 2.2km from city centre</td>\n",
       "      <td>8.2</td>\n",
       "      <td>(9292)</td>\n",
       "      <td>₹5,166</td>\n",
       "      <td>Privates From\\n₹5,166</td>\n",
       "    </tr>\n",
       "    <tr>\n",
       "      <th>15</th>\n",
       "      <td>Destinations Hostels @ The Gallery</td>\n",
       "      <td>- 2.6km from city centre</td>\n",
       "      <td>9.2</td>\n",
       "      <td>(10053)</td>\n",
       "      <td>₹1,898</td>\n",
       "      <td>Dorms From\\n₹1,898</td>\n",
       "    </tr>\n",
       "    <tr>\n",
       "      <th>16</th>\n",
       "      <td>Astor Museum Inn</td>\n",
       "      <td>- 11.9km from city centre</td>\n",
       "      <td>8.2</td>\n",
       "      <td>(4492)</td>\n",
       "      <td>₹7,541</td>\n",
       "      <td>Privates From\\n₹7,541</td>\n",
       "    </tr>\n",
       "    <tr>\n",
       "      <th>17</th>\n",
       "      <td>Smart Russell Square Hostel</td>\n",
       "      <td>- 3.3km from city centre</td>\n",
       "      <td>7.5</td>\n",
       "      <td>(1057)</td>\n",
       "      <td>₹2,099</td>\n",
       "      <td>Dorms From\\n₹2,099</td>\n",
       "    </tr>\n",
       "    <tr>\n",
       "      <th>18</th>\n",
       "      <td>London Backpackers</td>\n",
       "      <td>- 5.5km from city centre</td>\n",
       "      <td>7.7</td>\n",
       "      <td>(1952)</td>\n",
       "      <td>₹7,380</td>\n",
       "      <td>Privates From\\n₹7,380</td>\n",
       "    </tr>\n",
       "    <tr>\n",
       "      <th>19</th>\n",
       "      <td>International Students House</td>\n",
       "      <td>- 1.8km from city centre</td>\n",
       "      <td>8.9</td>\n",
       "      <td>(3526)</td>\n",
       "      <td>No Dorms Available</td>\n",
       "      <td>No Dorms Available</td>\n",
       "    </tr>\n",
       "    <tr>\n",
       "      <th>20</th>\n",
       "      <td>Barmy Badger Backpackers</td>\n",
       "      <td>- 1.8km from city centre</td>\n",
       "      <td>9.0</td>\n",
       "      <td>(14993)</td>\n",
       "      <td>No Privates Available</td>\n",
       "      <td>No Privates Available</td>\n",
       "    </tr>\n",
       "    <tr>\n",
       "      <th>21</th>\n",
       "      <td>St Christopher's Inn - London Bridge</td>\n",
       "      <td>- 7.5km from city centre</td>\n",
       "      <td>7.8</td>\n",
       "      <td>(4272)</td>\n",
       "      <td>₹1,792\\n₹1,703</td>\n",
       "      <td>-5%\\nDorms From\\n₹1,792\\n₹1,703</td>\n",
       "    </tr>\n",
       "    <tr>\n",
       "      <th>22</th>\n",
       "      <td>Astor Victoria</td>\n",
       "      <td>- 5.5km from city centre</td>\n",
       "      <td>7.0</td>\n",
       "      <td>(1908)</td>\n",
       "      <td>No Privates Available</td>\n",
       "      <td>No Privates Available</td>\n",
       "    </tr>\n",
       "    <tr>\n",
       "      <th>23</th>\n",
       "      <td>St Christopher's Hammersmith</td>\n",
       "      <td>- 2.1km from city centre</td>\n",
       "      <td>7.4</td>\n",
       "      <td>(4640)</td>\n",
       "      <td>₹1,789</td>\n",
       "      <td>Dorms From\\n₹1,789</td>\n",
       "    </tr>\n",
       "    <tr>\n",
       "      <th>24</th>\n",
       "      <td>Saint James Backpackers</td>\n",
       "      <td>- 7.6km from city centre</td>\n",
       "      <td>7.7</td>\n",
       "      <td>(3373)</td>\n",
       "      <td>No Privates Available</td>\n",
       "      <td>No Privates Available</td>\n",
       "    </tr>\n",
       "    <tr>\n",
       "      <th>25</th>\n",
       "      <td>YHA London Oxford Street</td>\n",
       "      <td>- 3.2km from city centre</td>\n",
       "      <td>8.6</td>\n",
       "      <td>(510)</td>\n",
       "      <td>₹2,220\\n₹1,998</td>\n",
       "      <td>-10%\\nDorms From\\n₹2,220\\n₹1,998</td>\n",
       "    </tr>\n",
       "    <tr>\n",
       "      <th>26</th>\n",
       "      <td>St Christopher's Greenwich</td>\n",
       "      <td>- 4.3km from city centre</td>\n",
       "      <td>7.8</td>\n",
       "      <td>(4064)</td>\n",
       "      <td>No Privates Available</td>\n",
       "      <td>No Privates Available</td>\n",
       "    </tr>\n",
       "    <tr>\n",
       "      <th>27</th>\n",
       "      <td>St Christopher's Inn - Liverpool Street</td>\n",
       "      <td>- 4.4km from city centre</td>\n",
       "      <td>8.1</td>\n",
       "      <td>(3077)</td>\n",
       "      <td>₹2,509</td>\n",
       "      <td>Dorms From\\n₹2,509</td>\n",
       "    </tr>\n",
       "    <tr>\n",
       "      <th>28</th>\n",
       "      <td>St Christopher's Camden</td>\n",
       "      <td>- 0.5km from city centre</td>\n",
       "      <td>7.0</td>\n",
       "      <td>(405)</td>\n",
       "      <td>₹14,761</td>\n",
       "      <td>Privates From\\n₹14,761</td>\n",
       "    </tr>\n",
       "    <tr>\n",
       "      <th>29</th>\n",
       "      <td>Smart Camden Inn Hostel</td>\n",
       "      <td>- 4.9km from city centre</td>\n",
       "      <td>7.8</td>\n",
       "      <td>(6517)</td>\n",
       "      <td>₹5,008</td>\n",
       "      <td>Dorms From\\n₹5,008</td>\n",
       "    </tr>\n",
       "  </tbody>\n",
       "</table>\n",
       "</div>"
      ],
      "text/plain": [
       "                              Property_Name                   Distance Rating  \\\n",
       "0                  St Christopher's Village   - 3.6km from city centre    8.1   \n",
       "1                                  Clink261   - 5.5km from city centre    8.2   \n",
       "2               Wombat's City Hostel London   - 1.8km from city centre    9.0   \n",
       "3         Onefam Notting Hill by Hostel One     - 3km from city centre    9.7   \n",
       "4                  St Christopher's Village   - 6.1km from city centre    8.1   \n",
       "5                          Generator London   - 5.4km from city centre    7.6   \n",
       "6                          NX London Hostel   - 4.3km from city centre    8.2   \n",
       "7                      Urbany Hostel London   - 1.7km from city centre    9.5   \n",
       "8                           Astor Hyde Park   - 2.3km from city centre    8.4   \n",
       "9         Safestay London Elephant & Castle   - 4.2km from city centre    7.2   \n",
       "10                            Pickwick Hall   - 5.8km from city centre    8.7   \n",
       "11                           Phoenix Hostel     - 5km from city centre    8.0   \n",
       "12  Safestay London Kensington Holland Park   - 3.2km from city centre    7.0   \n",
       "13               Smart Hyde Park Inn Hostel   - 1.7km from city centre    7.5   \n",
       "14                                 Clink261   - 2.2km from city centre    8.2   \n",
       "15       Destinations Hostels @ The Gallery   - 2.6km from city centre    9.2   \n",
       "16                         Astor Museum Inn  - 11.9km from city centre    8.2   \n",
       "17              Smart Russell Square Hostel   - 3.3km from city centre    7.5   \n",
       "18                       London Backpackers   - 5.5km from city centre    7.7   \n",
       "19             International Students House   - 1.8km from city centre    8.9   \n",
       "20                 Barmy Badger Backpackers   - 1.8km from city centre    9.0   \n",
       "21     St Christopher's Inn - London Bridge   - 7.5km from city centre    7.8   \n",
       "22                           Astor Victoria   - 5.5km from city centre    7.0   \n",
       "23             St Christopher's Hammersmith   - 2.1km from city centre    7.4   \n",
       "24                  Saint James Backpackers   - 7.6km from city centre    7.7   \n",
       "25                 YHA London Oxford Street   - 3.2km from city centre    8.6   \n",
       "26               St Christopher's Greenwich   - 4.3km from city centre    7.8   \n",
       "27  St Christopher's Inn - Liverpool Street   - 4.4km from city centre    8.1   \n",
       "28                  St Christopher's Camden   - 0.5km from city centre    7.0   \n",
       "29                  Smart Camden Inn Hostel   - 4.9km from city centre    7.8   \n",
       "\n",
       "   Overall_Reviews         Privates_price  \\\n",
       "0          (15117)                 ₹2,307   \n",
       "1           (2157)                 ₹2,509   \n",
       "2          (12284)       ₹19,084\\n₹15,267   \n",
       "3           (7623)         ₹4,281\\n₹3,425   \n",
       "4           (2011)                ₹11,332   \n",
       "5            (841)                 ₹5,037   \n",
       "6          (12128)  No Privates Available   \n",
       "7           (5034)         ₹2,563\\n₹2,307   \n",
       "8           (2689)                 ₹7,334   \n",
       "9           (4298)                 ₹1,993   \n",
       "10          (1597)                 ₹9,013   \n",
       "11          (6673)                 ₹2,569   \n",
       "12           (342)                ₹13,428   \n",
       "13           (200)                 ₹3,743   \n",
       "14          (9292)                 ₹5,166   \n",
       "15         (10053)                 ₹1,898   \n",
       "16          (4492)                 ₹7,541   \n",
       "17          (1057)                 ₹2,099   \n",
       "18          (1952)                 ₹7,380   \n",
       "19          (3526)     No Dorms Available   \n",
       "20         (14993)  No Privates Available   \n",
       "21          (4272)         ₹1,792\\n₹1,703   \n",
       "22          (1908)  No Privates Available   \n",
       "23          (4640)                 ₹1,789   \n",
       "24          (3373)  No Privates Available   \n",
       "25           (510)         ₹2,220\\n₹1,998   \n",
       "26          (4064)  No Privates Available   \n",
       "27          (3077)                 ₹2,509   \n",
       "28           (405)                ₹14,761   \n",
       "29          (6517)                 ₹5,008   \n",
       "\n",
       "                              Dorms_price  \n",
       "0                            From\\n₹2,307  \n",
       "1                            From\\n₹2,509  \n",
       "2   -20%\\nPrivates From\\n₹19,084\\n₹15,267  \n",
       "3        -20%\\nDorms From\\n₹4,281\\n₹3,425  \n",
       "4                  Privates From\\n₹11,332  \n",
       "5                      Dorms From\\n₹5,037  \n",
       "6                   No Privates Available  \n",
       "7        -10%\\nDorms From\\n₹2,563\\n₹2,307  \n",
       "8                   Privates From\\n₹7,334  \n",
       "9                      Dorms From\\n₹1,993  \n",
       "10                  Privates From\\n₹9,013  \n",
       "11                     Dorms From\\n₹2,569  \n",
       "12                 Privates From\\n₹13,428  \n",
       "13                     Dorms From\\n₹3,743  \n",
       "14                  Privates From\\n₹5,166  \n",
       "15                     Dorms From\\n₹1,898  \n",
       "16                  Privates From\\n₹7,541  \n",
       "17                     Dorms From\\n₹2,099  \n",
       "18                  Privates From\\n₹7,380  \n",
       "19                     No Dorms Available  \n",
       "20                  No Privates Available  \n",
       "21        -5%\\nDorms From\\n₹1,792\\n₹1,703  \n",
       "22                  No Privates Available  \n",
       "23                     Dorms From\\n₹1,789  \n",
       "24                  No Privates Available  \n",
       "25       -10%\\nDorms From\\n₹2,220\\n₹1,998  \n",
       "26                  No Privates Available  \n",
       "27                     Dorms From\\n₹2,509  \n",
       "28                 Privates From\\n₹14,761  \n",
       "29                     Dorms From\\n₹5,008  "
      ]
     },
     "execution_count": 30,
     "metadata": {},
     "output_type": "execute_result"
    }
   ],
   "source": [
    "import pandas as pd\n",
    "df=pd.DataFrame({'Property_Name':property_name,'Distance':distance,'Rating':rating, 'Overall_Reviews':overall_reviews,'Privates_price':privates_price,'Dorms_price':dorms_price})\n",
    "df"
   ]
  },
  {
   "cell_type": "code",
   "execution_count": 32,
   "id": "fd8f9a40-e3ba-45f9-a2a3-1a109692918b",
   "metadata": {
    "tags": []
   },
   "outputs": [],
   "source": [
    "search_keyword = driver.find_element(By.XPATH, \"/html/body/div[3]/div/div/div[2]/div[2]/div[2]/div[1]/div/div/div/div/div[6]/div/div[2]/button\")\n",
    "search_keyword.click()"
   ]
  },
  {
   "cell_type": "code",
   "execution_count": 43,
   "id": "63d80417-3992-48eb-87f5-c737b762c43b",
   "metadata": {
    "tags": []
   },
   "outputs": [],
   "source": [
    "property_name = []\n",
    "distance=[]\n",
    "rating=[]\n",
    "overall_reviews=[]\n",
    "privates_price=[]\n",
    "dorms_price=[]\n",
    "facilities=['-']"
   ]
  },
  {
   "cell_type": "code",
   "execution_count": 44,
   "id": "9380cf30-e77f-498a-8858-c208cd33cf8b",
   "metadata": {
    "tags": []
   },
   "outputs": [],
   "source": [
    "title_tags=driver.find_elements(By.CLASS_NAME,'property-name')\n",
    "for i in title_tags[0:28]:\n",
    "    title=i.text\n",
    "    property_name.append(title)"
   ]
  },
  {
   "cell_type": "code",
   "execution_count": 45,
   "id": "0bd823c6-76e8-4d30-97cd-bc965ab533b4",
   "metadata": {
    "tags": []
   },
   "outputs": [],
   "source": [
    "title_tags=driver.find_elements(By.CLASS_NAME,'distance-description')\n",
    "for i in title_tags[0:28]:\n",
    "    title=i.text\n",
    "    distance.append(title)"
   ]
  },
  {
   "cell_type": "code",
   "execution_count": 46,
   "id": "282f493e-94bd-4f9c-873a-28f13d916a6b",
   "metadata": {
    "tags": []
   },
   "outputs": [],
   "source": [
    "title_tags=driver.find_elements(By.CLASS_NAME,'number')\n",
    "for i in title_tags[0:28]:\n",
    "    title=i.text\n",
    "    rating.append(title)"
   ]
  },
  {
   "cell_type": "code",
   "execution_count": 47,
   "id": "2efdbbe1-d6fe-4a37-ada6-2c4264e0334c",
   "metadata": {
    "tags": []
   },
   "outputs": [],
   "source": [
    "title_tags=driver.find_elements(By.CLASS_NAME,'review')\n",
    "for i in title_tags[0:28]:\n",
    "    title=i.text\n",
    "    overall_reviews.append(title)"
   ]
  },
  {
   "cell_type": "code",
   "execution_count": 48,
   "id": "893fd7cc-3f6a-41e7-ad96-11dcd80d1bed",
   "metadata": {
    "tags": []
   },
   "outputs": [],
   "source": [
    "title_tags=driver.find_elements(By.CLASS_NAME,'accommodation-price')\n",
    "for i in title_tags[0:28]:\n",
    "    title=i.text\n",
    "    privates_price.append(title)"
   ]
  },
  {
   "cell_type": "code",
   "execution_count": 49,
   "id": "3045f03b-ab21-4d17-ac04-8478e11baab5",
   "metadata": {
    "tags": []
   },
   "outputs": [],
   "source": [
    "title_tags=driver.find_elements(By.CLASS_NAME,'property-accommodation-price')\n",
    "for i in title_tags[0:28]:\n",
    "    title=i.text\n",
    "    dorms_price.append(title)"
   ]
  },
  {
   "cell_type": "code",
   "execution_count": 50,
   "id": "36d8a684-6c91-43aa-b67d-f3ca2eac009a",
   "metadata": {
    "tags": []
   },
   "outputs": [],
   "source": [
    "print=(len(property_name),len(distance),len(rating),len(overall_reviews),len(privates_price),len(dorms_price))"
   ]
  },
  {
   "cell_type": "code",
   "execution_count": 51,
   "id": "ada91914-690c-45e0-9bb4-f721495c3542",
   "metadata": {
    "tags": []
   },
   "outputs": [
    {
     "data": {
      "text/plain": [
       "(28, 28, 28, 28, 28, 28)"
      ]
     },
     "execution_count": 51,
     "metadata": {},
     "output_type": "execute_result"
    }
   ],
   "source": [
    "print"
   ]
  },
  {
   "cell_type": "code",
   "execution_count": 52,
   "id": "e9ad1504-a150-48c5-a72d-3783a9335802",
   "metadata": {
    "tags": []
   },
   "outputs": [
    {
     "data": {
      "text/html": [
       "<div>\n",
       "<style scoped>\n",
       "    .dataframe tbody tr th:only-of-type {\n",
       "        vertical-align: middle;\n",
       "    }\n",
       "\n",
       "    .dataframe tbody tr th {\n",
       "        vertical-align: top;\n",
       "    }\n",
       "\n",
       "    .dataframe thead th {\n",
       "        text-align: right;\n",
       "    }\n",
       "</style>\n",
       "<table border=\"1\" class=\"dataframe\">\n",
       "  <thead>\n",
       "    <tr style=\"text-align: right;\">\n",
       "      <th></th>\n",
       "      <th>Property_Name</th>\n",
       "      <th>Distance</th>\n",
       "      <th>Rating</th>\n",
       "      <th>Overall_Reviews</th>\n",
       "      <th>Privates_price</th>\n",
       "      <th>Dorms_price</th>\n",
       "    </tr>\n",
       "  </thead>\n",
       "  <tbody>\n",
       "    <tr>\n",
       "      <th>0</th>\n",
       "      <td>Bell House Hostel</td>\n",
       "      <td>- 4.2km from city centre</td>\n",
       "      <td>7.5</td>\n",
       "      <td>(79)</td>\n",
       "      <td>₹5,693</td>\n",
       "      <td>Privates From\\n₹5,693</td>\n",
       "    </tr>\n",
       "    <tr>\n",
       "      <th>1</th>\n",
       "      <td>Smart Hyde Park View Hostel</td>\n",
       "      <td>- 4.8km from city centre</td>\n",
       "      <td>7.9</td>\n",
       "      <td>(4709)</td>\n",
       "      <td>₹2,088</td>\n",
       "      <td>Dorms From\\n₹2,088</td>\n",
       "    </tr>\n",
       "    <tr>\n",
       "      <th>2</th>\n",
       "      <td>St Christopher's Oasis-Female Only</td>\n",
       "      <td>- 1.8km from city centre</td>\n",
       "      <td>8.1</td>\n",
       "      <td>(757)</td>\n",
       "      <td>₹7,355</td>\n",
       "      <td>Privates From\\n₹7,355</td>\n",
       "    </tr>\n",
       "    <tr>\n",
       "      <th>3</th>\n",
       "      <td>St Christopher's Shepherds Bush</td>\n",
       "      <td>- 7km from city centre</td>\n",
       "      <td>7.3</td>\n",
       "      <td>(784)</td>\n",
       "      <td>₹2,031</td>\n",
       "      <td>Dorms From\\n₹2,031</td>\n",
       "    </tr>\n",
       "    <tr>\n",
       "      <th>4</th>\n",
       "      <td>Park Villa</td>\n",
       "      <td>- 6.3km from city centre</td>\n",
       "      <td>8.4</td>\n",
       "      <td>(909)</td>\n",
       "      <td>No Privates Available</td>\n",
       "      <td>No Privates Available</td>\n",
       "    </tr>\n",
       "    <tr>\n",
       "      <th>5</th>\n",
       "      <td>Book a Bed Hostels</td>\n",
       "      <td>- 6.9km from city centre</td>\n",
       "      <td>7.3</td>\n",
       "      <td>(1269)</td>\n",
       "      <td>₹4,202\\n₹3,782</td>\n",
       "      <td>-10%\\nDorms From\\n₹4,202\\n₹3,782</td>\n",
       "    </tr>\n",
       "    <tr>\n",
       "      <th>6</th>\n",
       "      <td>Dover Castle Hostel and Bar</td>\n",
       "      <td>- 1.7km from city centre</td>\n",
       "      <td>7.7</td>\n",
       "      <td>(2397)</td>\n",
       "      <td>No Privates Available</td>\n",
       "      <td>No Privates Available</td>\n",
       "    </tr>\n",
       "    <tr>\n",
       "      <th>7</th>\n",
       "      <td>The Backpackshack</td>\n",
       "      <td>- 10.9km from city centre</td>\n",
       "      <td>8.6</td>\n",
       "      <td>(768)</td>\n",
       "      <td>₹2,329\\n₹2,096</td>\n",
       "      <td>-10%\\nDorms From\\n₹2,329\\n₹2,096</td>\n",
       "    </tr>\n",
       "    <tr>\n",
       "      <th>8</th>\n",
       "      <td>Hostelle - women only hostel London</td>\n",
       "      <td>- 5.1km from city centre</td>\n",
       "      <td>8.8</td>\n",
       "      <td>(18)</td>\n",
       "      <td>₹12,336</td>\n",
       "      <td>Privates From\\n₹12,336</td>\n",
       "    </tr>\n",
       "    <tr>\n",
       "      <th>9</th>\n",
       "      <td>Selina Camden</td>\n",
       "      <td>- 5.5km from city centre</td>\n",
       "      <td>8.7</td>\n",
       "      <td>(54)</td>\n",
       "      <td>₹4,071</td>\n",
       "      <td>Dorms From\\n₹4,071</td>\n",
       "    </tr>\n",
       "    <tr>\n",
       "      <th>10</th>\n",
       "      <td>Strand Continental</td>\n",
       "      <td>- 1.3km from city centre</td>\n",
       "      <td>6.2</td>\n",
       "      <td>(976)</td>\n",
       "      <td>₹5,272</td>\n",
       "      <td>Privates From\\n₹5,272</td>\n",
       "    </tr>\n",
       "    <tr>\n",
       "      <th>11</th>\n",
       "      <td>PubLove @ The White Ferry, Victoria</td>\n",
       "      <td>- 2.4km from city centre</td>\n",
       "      <td>7.0</td>\n",
       "      <td>(357)</td>\n",
       "      <td>₹2,100</td>\n",
       "      <td>Dorms From\\n₹2,100</td>\n",
       "    </tr>\n",
       "    <tr>\n",
       "      <th>12</th>\n",
       "      <td>YHA London Earls Court</td>\n",
       "      <td>- 5.1km from city centre</td>\n",
       "      <td>9.1</td>\n",
       "      <td>(1463)</td>\n",
       "      <td>No Privates Available</td>\n",
       "      <td>No Privates Available</td>\n",
       "    </tr>\n",
       "    <tr>\n",
       "      <th>13</th>\n",
       "      <td>YHA London St Pauls</td>\n",
       "      <td>- 1.9km from city centre</td>\n",
       "      <td>8.9</td>\n",
       "      <td>(2089)</td>\n",
       "      <td>₹2,320</td>\n",
       "      <td>Dorms From\\n₹2,320</td>\n",
       "    </tr>\n",
       "    <tr>\n",
       "      <th>14</th>\n",
       "      <td>PubLove @ The Crown, Battersea</td>\n",
       "      <td>- 4.7km from city centre</td>\n",
       "      <td>7.3</td>\n",
       "      <td>(306)</td>\n",
       "      <td>₹4,745</td>\n",
       "      <td>Privates From\\n₹4,745</td>\n",
       "    </tr>\n",
       "    <tr>\n",
       "      <th>15</th>\n",
       "      <td>YHA London Central</td>\n",
       "      <td>- 2.9km from city centre</td>\n",
       "      <td>8.4</td>\n",
       "      <td>(4766)</td>\n",
       "      <td>No Dorms Available</td>\n",
       "      <td>No Dorms Available</td>\n",
       "    </tr>\n",
       "    <tr>\n",
       "      <th>16</th>\n",
       "      <td>Hootananny Hostel</td>\n",
       "      <td>- 5km from city centre</td>\n",
       "      <td>7.7</td>\n",
       "      <td>(1517)</td>\n",
       "      <td>No Privates Available</td>\n",
       "      <td>No Privates Available</td>\n",
       "    </tr>\n",
       "    <tr>\n",
       "      <th>17</th>\n",
       "      <td>Kensal Green Backpackers</td>\n",
       "      <td>- 8.2km from city centre</td>\n",
       "      <td>5.3</td>\n",
       "      <td>(3721)</td>\n",
       "      <td>₹3,374\\n₹2,868</td>\n",
       "      <td>-15%\\nDorms From\\n₹3,374\\n₹2,868</td>\n",
       "    </tr>\n",
       "    <tr>\n",
       "      <th>18</th>\n",
       "      <td>Kabannas London St Pancras</td>\n",
       "      <td>- 3.3km from city centre</td>\n",
       "      <td>9.2</td>\n",
       "      <td>(2871)</td>\n",
       "      <td>₹13,791</td>\n",
       "      <td>Privates From\\n₹13,791</td>\n",
       "    </tr>\n",
       "    <tr>\n",
       "      <th>19</th>\n",
       "      <td>PubLove @ The Exmouth Arms, Euston</td>\n",
       "      <td>- 3.4km from city centre</td>\n",
       "      <td>6.8</td>\n",
       "      <td>(1084)</td>\n",
       "      <td>₹4,934</td>\n",
       "      <td>Dorms From\\n₹4,934</td>\n",
       "    </tr>\n",
       "    <tr>\n",
       "      <th>20</th>\n",
       "      <td>Tony's House Hotel</td>\n",
       "      <td>- 4.3km from city centre</td>\n",
       "      <td>8.1</td>\n",
       "      <td>(424)</td>\n",
       "      <td>₹8,962</td>\n",
       "      <td>Privates From\\n₹8,962</td>\n",
       "    </tr>\n",
       "    <tr>\n",
       "      <th>21</th>\n",
       "      <td>Paramount Hotel</td>\n",
       "      <td>- 5.7km from city centre</td>\n",
       "      <td>7.0</td>\n",
       "      <td>(39)</td>\n",
       "      <td>₹2,636</td>\n",
       "      <td>Dorms From\\n₹2,636</td>\n",
       "    </tr>\n",
       "    <tr>\n",
       "      <th>22</th>\n",
       "      <td>PubLove @ The Green Man, Paddington</td>\n",
       "      <td>- 4.3km from city centre</td>\n",
       "      <td>5.8</td>\n",
       "      <td>(450)</td>\n",
       "      <td>No Privates Available</td>\n",
       "      <td>No Privates Available</td>\n",
       "    </tr>\n",
       "    <tr>\n",
       "      <th>23</th>\n",
       "      <td>Marble Arch Inn</td>\n",
       "      <td>- 3.5km from city centre</td>\n",
       "      <td>9.1</td>\n",
       "      <td>(228)</td>\n",
       "      <td>₹2,847</td>\n",
       "      <td>Dorms From\\n₹2,847</td>\n",
       "    </tr>\n",
       "    <tr>\n",
       "      <th>24</th>\n",
       "      <td>Zedwell Piccadilly Circus</td>\n",
       "      <td>- 1.6km from city centre</td>\n",
       "      <td>8.3</td>\n",
       "      <td>(11)</td>\n",
       "      <td>₹9,489</td>\n",
       "      <td>Privates From\\n₹9,489</td>\n",
       "    </tr>\n",
       "    <tr>\n",
       "      <th>25</th>\n",
       "      <td>Belgrave Hotel London</td>\n",
       "      <td>- 2.2km from city centre</td>\n",
       "      <td>10</td>\n",
       "      <td>(1383)</td>\n",
       "      <td>₹3,690</td>\n",
       "      <td>Dorms From\\n₹3,690</td>\n",
       "    </tr>\n",
       "    <tr>\n",
       "      <th>26</th>\n",
       "      <td>London House Hotel</td>\n",
       "      <td>- 5.3km from city centre</td>\n",
       "      <td>8.0</td>\n",
       "      <td>(109)</td>\n",
       "      <td>₹12,652</td>\n",
       "      <td>Privates From\\n₹12,652</td>\n",
       "    </tr>\n",
       "    <tr>\n",
       "      <th>27</th>\n",
       "      <td>Europa House Hotel</td>\n",
       "      <td>- 4.2km from city centre</td>\n",
       "      <td>6.6</td>\n",
       "      <td>(16)</td>\n",
       "      <td>No Dorms Available</td>\n",
       "      <td>No Dorms Available</td>\n",
       "    </tr>\n",
       "  </tbody>\n",
       "</table>\n",
       "</div>"
      ],
      "text/plain": [
       "                          Property_Name                   Distance Rating  \\\n",
       "0                     Bell House Hostel   - 4.2km from city centre    7.5   \n",
       "1           Smart Hyde Park View Hostel   - 4.8km from city centre    7.9   \n",
       "2    St Christopher's Oasis-Female Only   - 1.8km from city centre    8.1   \n",
       "3       St Christopher's Shepherds Bush     - 7km from city centre    7.3   \n",
       "4                            Park Villa   - 6.3km from city centre    8.4   \n",
       "5                    Book a Bed Hostels   - 6.9km from city centre    7.3   \n",
       "6           Dover Castle Hostel and Bar   - 1.7km from city centre    7.7   \n",
       "7                     The Backpackshack  - 10.9km from city centre    8.6   \n",
       "8   Hostelle - women only hostel London   - 5.1km from city centre    8.8   \n",
       "9                         Selina Camden   - 5.5km from city centre    8.7   \n",
       "10                   Strand Continental   - 1.3km from city centre    6.2   \n",
       "11  PubLove @ The White Ferry, Victoria   - 2.4km from city centre    7.0   \n",
       "12               YHA London Earls Court   - 5.1km from city centre    9.1   \n",
       "13                  YHA London St Pauls   - 1.9km from city centre    8.9   \n",
       "14       PubLove @ The Crown, Battersea   - 4.7km from city centre    7.3   \n",
       "15                   YHA London Central   - 2.9km from city centre    8.4   \n",
       "16                    Hootananny Hostel     - 5km from city centre    7.7   \n",
       "17             Kensal Green Backpackers   - 8.2km from city centre    5.3   \n",
       "18           Kabannas London St Pancras   - 3.3km from city centre    9.2   \n",
       "19   PubLove @ The Exmouth Arms, Euston   - 3.4km from city centre    6.8   \n",
       "20                   Tony's House Hotel   - 4.3km from city centre    8.1   \n",
       "21                      Paramount Hotel   - 5.7km from city centre    7.0   \n",
       "22  PubLove @ The Green Man, Paddington   - 4.3km from city centre    5.8   \n",
       "23                      Marble Arch Inn   - 3.5km from city centre    9.1   \n",
       "24            Zedwell Piccadilly Circus   - 1.6km from city centre    8.3   \n",
       "25                Belgrave Hotel London   - 2.2km from city centre     10   \n",
       "26                   London House Hotel   - 5.3km from city centre    8.0   \n",
       "27                   Europa House Hotel   - 4.2km from city centre    6.6   \n",
       "\n",
       "   Overall_Reviews         Privates_price                       Dorms_price  \n",
       "0             (79)                 ₹5,693             Privates From\\n₹5,693  \n",
       "1           (4709)                 ₹2,088                Dorms From\\n₹2,088  \n",
       "2            (757)                 ₹7,355             Privates From\\n₹7,355  \n",
       "3            (784)                 ₹2,031                Dorms From\\n₹2,031  \n",
       "4            (909)  No Privates Available             No Privates Available  \n",
       "5           (1269)         ₹4,202\\n₹3,782  -10%\\nDorms From\\n₹4,202\\n₹3,782  \n",
       "6           (2397)  No Privates Available             No Privates Available  \n",
       "7            (768)         ₹2,329\\n₹2,096  -10%\\nDorms From\\n₹2,329\\n₹2,096  \n",
       "8             (18)                ₹12,336            Privates From\\n₹12,336  \n",
       "9             (54)                 ₹4,071                Dorms From\\n₹4,071  \n",
       "10           (976)                 ₹5,272             Privates From\\n₹5,272  \n",
       "11           (357)                 ₹2,100                Dorms From\\n₹2,100  \n",
       "12          (1463)  No Privates Available             No Privates Available  \n",
       "13          (2089)                 ₹2,320                Dorms From\\n₹2,320  \n",
       "14           (306)                 ₹4,745             Privates From\\n₹4,745  \n",
       "15          (4766)     No Dorms Available                No Dorms Available  \n",
       "16          (1517)  No Privates Available             No Privates Available  \n",
       "17          (3721)         ₹3,374\\n₹2,868  -15%\\nDorms From\\n₹3,374\\n₹2,868  \n",
       "18          (2871)                ₹13,791            Privates From\\n₹13,791  \n",
       "19          (1084)                 ₹4,934                Dorms From\\n₹4,934  \n",
       "20           (424)                 ₹8,962             Privates From\\n₹8,962  \n",
       "21            (39)                 ₹2,636                Dorms From\\n₹2,636  \n",
       "22           (450)  No Privates Available             No Privates Available  \n",
       "23           (228)                 ₹2,847                Dorms From\\n₹2,847  \n",
       "24            (11)                 ₹9,489             Privates From\\n₹9,489  \n",
       "25          (1383)                 ₹3,690                Dorms From\\n₹3,690  \n",
       "26           (109)                ₹12,652            Privates From\\n₹12,652  \n",
       "27            (16)     No Dorms Available                No Dorms Available  "
      ]
     },
     "execution_count": 52,
     "metadata": {},
     "output_type": "execute_result"
    }
   ],
   "source": [
    "import pandas as pd\n",
    "df=pd.DataFrame({'Property_Name':property_name,'Distance':distance,'Rating':rating, 'Overall_Reviews':overall_reviews,'Privates_price':privates_price,'Dorms_price':dorms_price})\n",
    "df"
   ]
  },
  {
   "cell_type": "code",
   "execution_count": 53,
   "id": "8e078e82-4b50-44f8-bc21-1908d285b91f",
   "metadata": {
    "tags": []
   },
   "outputs": [],
   "source": [
    "search_keyword = driver.find_element(By.XPATH, \"/html/body/div[3]/div/div/div[2]/div/div[2]/div[1]/div/div/div/div/div[5]/div/div[3]/button\")\n",
    "search_keyword.click()"
   ]
  },
  {
   "cell_type": "code",
   "execution_count": 81,
   "id": "105004ef-7591-4636-a5da-8a08dabd2975",
   "metadata": {
    "tags": []
   },
   "outputs": [],
   "source": [
    "property_name = []\n",
    "distance=[]\n",
    "rating=[]\n",
    "overall_reviews=[]\n",
    "privates_price=[]\n",
    "dorms_price=[]\n",
    "facilities=['-']"
   ]
  },
  {
   "cell_type": "code",
   "execution_count": 82,
   "id": "4fcec998-af4d-46bb-8cff-5af6f82f7b56",
   "metadata": {
    "tags": []
   },
   "outputs": [],
   "source": [
    "title_tags=driver.find_elements(By.CLASS_NAME,'property-name')\n",
    "for i in title_tags[0:18]:\n",
    "    title=i.text\n",
    "    property_name.append(title)"
   ]
  },
  {
   "cell_type": "code",
   "execution_count": 83,
   "id": "7ad20e13-5b81-44c3-8080-67b90119f04e",
   "metadata": {
    "tags": []
   },
   "outputs": [],
   "source": [
    "title_tags=driver.find_elements(By.CLASS_NAME,'distance-description')\n",
    "for i in title_tags[0:18]:\n",
    "    title=i.text\n",
    "    distance.append(title)"
   ]
  },
  {
   "cell_type": "code",
   "execution_count": 84,
   "id": "9ba8b0dd-7c30-4caf-8a27-365058f71518",
   "metadata": {
    "tags": []
   },
   "outputs": [],
   "source": [
    "title_tags=driver.find_elements(By.CLASS_NAME,'number')\n",
    "for i in title_tags[0:18]:\n",
    "    title=i.text\n",
    "    rating.append(title)"
   ]
  },
  {
   "cell_type": "code",
   "execution_count": 85,
   "id": "831ad590-02b0-4340-a7c9-ef5e65771d4f",
   "metadata": {
    "tags": []
   },
   "outputs": [],
   "source": [
    "title_tags=driver.find_elements(By.CLASS_NAME,'review')\n",
    "for i in title_tags[0:18]:\n",
    "    title=i.text\n",
    "    overall_reviews.append(title)"
   ]
  },
  {
   "cell_type": "code",
   "execution_count": 86,
   "id": "1b5d17a3-1b5f-446a-95a7-7aaf25f94e91",
   "metadata": {
    "tags": []
   },
   "outputs": [],
   "source": [
    "title_tags=driver.find_elements(By.CLASS_NAME,'accommodation-price')\n",
    "for i in title_tags[0:18]:\n",
    "    title=i.text\n",
    "    privates_price.append(title)"
   ]
  },
  {
   "cell_type": "code",
   "execution_count": 87,
   "id": "0a25567f-b7af-45d7-8ac6-6b68078efd9d",
   "metadata": {
    "tags": []
   },
   "outputs": [],
   "source": [
    "title_tags=driver.find_elements(By.CLASS_NAME,'property-accommodation-price')\n",
    "for i in title_tags[0:18]:\n",
    "    title=i.text\n",
    "    dorms_price.append(title)"
   ]
  },
  {
   "cell_type": "code",
   "execution_count": 88,
   "id": "13ce7e6b-261f-448a-bfc4-0c063ccf0f3c",
   "metadata": {
    "tags": []
   },
   "outputs": [],
   "source": [
    "print=(len(property_name),len(distance),len(rating),len(overall_reviews),len(privates_price),len(dorms_price))"
   ]
  },
  {
   "cell_type": "code",
   "execution_count": 89,
   "id": "22df19d2-86b8-43b5-b37f-865a5478c0ef",
   "metadata": {
    "tags": []
   },
   "outputs": [
    {
     "data": {
      "text/plain": [
       "(18, 18, 18, 18, 18, 18)"
      ]
     },
     "execution_count": 89,
     "metadata": {},
     "output_type": "execute_result"
    }
   ],
   "source": [
    "print"
   ]
  },
  {
   "cell_type": "code",
   "execution_count": 90,
   "id": "9b557a4a-495e-414e-812d-a1de4d5b59c6",
   "metadata": {
    "tags": []
   },
   "outputs": [
    {
     "data": {
      "text/html": [
       "<div>\n",
       "<style scoped>\n",
       "    .dataframe tbody tr th:only-of-type {\n",
       "        vertical-align: middle;\n",
       "    }\n",
       "\n",
       "    .dataframe tbody tr th {\n",
       "        vertical-align: top;\n",
       "    }\n",
       "\n",
       "    .dataframe thead th {\n",
       "        text-align: right;\n",
       "    }\n",
       "</style>\n",
       "<table border=\"1\" class=\"dataframe\">\n",
       "  <thead>\n",
       "    <tr style=\"text-align: right;\">\n",
       "      <th></th>\n",
       "      <th>Property_Name</th>\n",
       "      <th>Distance</th>\n",
       "      <th>Rating</th>\n",
       "      <th>Overall_Reviews</th>\n",
       "      <th>Privates_price</th>\n",
       "      <th>Dorms_price</th>\n",
       "    </tr>\n",
       "  </thead>\n",
       "  <tbody>\n",
       "    <tr>\n",
       "      <th>0</th>\n",
       "      <td>Park Hotel</td>\n",
       "      <td>- 4.9km from city centre</td>\n",
       "      <td>8.6</td>\n",
       "      <td>(10)</td>\n",
       "      <td>₹11,703</td>\n",
       "      <td>Privates From\\n₹11,703</td>\n",
       "    </tr>\n",
       "    <tr>\n",
       "      <th>1</th>\n",
       "      <td>23 Matheson Road</td>\n",
       "      <td>- 6.2km from city centre</td>\n",
       "      <td>5.1</td>\n",
       "      <td>(9)</td>\n",
       "      <td>No Dorms Available</td>\n",
       "      <td>No Dorms Available</td>\n",
       "    </tr>\n",
       "    <tr>\n",
       "      <th>2</th>\n",
       "      <td>Colliers Hotel</td>\n",
       "      <td>- 2.1km from city centre</td>\n",
       "      <td>10</td>\n",
       "      <td>(1)</td>\n",
       "      <td>₹5,061</td>\n",
       "      <td>Privates From\\n₹5,061</td>\n",
       "    </tr>\n",
       "    <tr>\n",
       "      <th>3</th>\n",
       "      <td>Litsa's Central Studios</td>\n",
       "      <td>- 4.3km from city centre</td>\n",
       "      <td>7.6</td>\n",
       "      <td>(30)</td>\n",
       "      <td>No Dorms Available</td>\n",
       "      <td>No Dorms Available</td>\n",
       "    </tr>\n",
       "    <tr>\n",
       "      <th>4</th>\n",
       "      <td>Beaconsfield</td>\n",
       "      <td>- 8.6km from city centre</td>\n",
       "      <td>6.7</td>\n",
       "      <td>(56)</td>\n",
       "      <td>₹6,748</td>\n",
       "      <td>Privates From\\n₹6,748</td>\n",
       "    </tr>\n",
       "    <tr>\n",
       "      <th>5</th>\n",
       "      <td>Mornington Camden</td>\n",
       "      <td>- 4.1km from city centre</td>\n",
       "      <td>7.7</td>\n",
       "      <td>(55)</td>\n",
       "      <td>No Dorms Available</td>\n",
       "      <td>No Dorms Available</td>\n",
       "    </tr>\n",
       "    <tr>\n",
       "      <th>6</th>\n",
       "      <td>Kip Hotel</td>\n",
       "      <td>- 6.8km from city centre</td>\n",
       "      <td>5.1</td>\n",
       "      <td>(1)</td>\n",
       "      <td>₹19,822</td>\n",
       "      <td>Privates From\\n₹19,822</td>\n",
       "    </tr>\n",
       "    <tr>\n",
       "      <th>7</th>\n",
       "      <td>Airways Hotel Victoria London</td>\n",
       "      <td>- 2.1km from city centre</td>\n",
       "      <td>4.2</td>\n",
       "      <td>(139)</td>\n",
       "      <td>No Dorms Available</td>\n",
       "      <td>No Dorms Available</td>\n",
       "    </tr>\n",
       "    <tr>\n",
       "      <th>8</th>\n",
       "      <td>Hotel Shepherds Bush London</td>\n",
       "      <td>- 7.6km from city centre</td>\n",
       "      <td>9.7</td>\n",
       "      <td>(283)</td>\n",
       "      <td>₹6,221</td>\n",
       "      <td>Privates From\\n₹6,221</td>\n",
       "    </tr>\n",
       "    <tr>\n",
       "      <th>9</th>\n",
       "      <td>Hyde Park Court Hotel</td>\n",
       "      <td>- 4.3km from city centre</td>\n",
       "      <td>2.0</td>\n",
       "      <td>(27)</td>\n",
       "      <td>No Dorms Available</td>\n",
       "      <td>No Dorms Available</td>\n",
       "    </tr>\n",
       "    <tr>\n",
       "      <th>10</th>\n",
       "      <td>The W14 Hotel &amp; Bar</td>\n",
       "      <td>- 6.5km from city centre</td>\n",
       "      <td>10</td>\n",
       "      <td>(23)</td>\n",
       "      <td>No Privates Available</td>\n",
       "      <td>No Privates Available</td>\n",
       "    </tr>\n",
       "    <tr>\n",
       "      <th>11</th>\n",
       "      <td>Aron Guest House</td>\n",
       "      <td>- 13.1km from city centre</td>\n",
       "      <td>10</td>\n",
       "      <td>(258)</td>\n",
       "      <td>₹5,166</td>\n",
       "      <td>Dorms From\\n₹5,166</td>\n",
       "    </tr>\n",
       "    <tr>\n",
       "      <th>12</th>\n",
       "      <td>Fairway Hotel</td>\n",
       "      <td>- 3.3km from city centre</td>\n",
       "      <td>7.4</td>\n",
       "      <td>(3533)</td>\n",
       "      <td>₹8,962</td>\n",
       "      <td>Privates From\\n₹8,962</td>\n",
       "    </tr>\n",
       "    <tr>\n",
       "      <th>13</th>\n",
       "      <td>Britannia Inn Hotel</td>\n",
       "      <td>- 14.5km from city centre</td>\n",
       "      <td>4.7</td>\n",
       "      <td>(366)</td>\n",
       "      <td>No Dorms Available</td>\n",
       "      <td>No Dorms Available</td>\n",
       "    </tr>\n",
       "    <tr>\n",
       "      <th>14</th>\n",
       "      <td>Cranbrook Hotel</td>\n",
       "      <td>- 14.8km from city centre</td>\n",
       "      <td>8.2</td>\n",
       "      <td>(173)</td>\n",
       "      <td>₹10,543</td>\n",
       "      <td>Privates From\\n₹10,543</td>\n",
       "    </tr>\n",
       "    <tr>\n",
       "      <th>15</th>\n",
       "      <td>Hanover Hotel</td>\n",
       "      <td>- 2.1km from city centre</td>\n",
       "      <td>6.1</td>\n",
       "      <td>(2540)</td>\n",
       "      <td>No Dorms Available</td>\n",
       "      <td>No Dorms Available</td>\n",
       "    </tr>\n",
       "    <tr>\n",
       "      <th>16</th>\n",
       "      <td>MacDonald Hotel</td>\n",
       "      <td>- 3.3km from city centre</td>\n",
       "      <td>4.9</td>\n",
       "      <td>(268)</td>\n",
       "      <td>₹13,285\\n₹10,628</td>\n",
       "      <td>-20%\\nPrivates From\\n₹13,285\\n₹10,628</td>\n",
       "    </tr>\n",
       "    <tr>\n",
       "      <th>17</th>\n",
       "      <td>Queen Elizabeth Chelsea</td>\n",
       "      <td>- 5.7km from city centre</td>\n",
       "      <td>5.6</td>\n",
       "      <td>(50)</td>\n",
       "      <td>No Dorms Available</td>\n",
       "      <td>No Dorms Available</td>\n",
       "    </tr>\n",
       "  </tbody>\n",
       "</table>\n",
       "</div>"
      ],
      "text/plain": [
       "                    Property_Name                   Distance Rating  \\\n",
       "0                      Park Hotel   - 4.9km from city centre    8.6   \n",
       "1                23 Matheson Road   - 6.2km from city centre    5.1   \n",
       "2                  Colliers Hotel   - 2.1km from city centre     10   \n",
       "3         Litsa's Central Studios   - 4.3km from city centre    7.6   \n",
       "4                    Beaconsfield   - 8.6km from city centre    6.7   \n",
       "5               Mornington Camden   - 4.1km from city centre    7.7   \n",
       "6                       Kip Hotel   - 6.8km from city centre    5.1   \n",
       "7   Airways Hotel Victoria London   - 2.1km from city centre    4.2   \n",
       "8     Hotel Shepherds Bush London   - 7.6km from city centre    9.7   \n",
       "9           Hyde Park Court Hotel   - 4.3km from city centre    2.0   \n",
       "10            The W14 Hotel & Bar   - 6.5km from city centre     10   \n",
       "11               Aron Guest House  - 13.1km from city centre     10   \n",
       "12                  Fairway Hotel   - 3.3km from city centre    7.4   \n",
       "13            Britannia Inn Hotel  - 14.5km from city centre    4.7   \n",
       "14                Cranbrook Hotel  - 14.8km from city centre    8.2   \n",
       "15                  Hanover Hotel   - 2.1km from city centre    6.1   \n",
       "16                MacDonald Hotel   - 3.3km from city centre    4.9   \n",
       "17        Queen Elizabeth Chelsea   - 5.7km from city centre    5.6   \n",
       "\n",
       "   Overall_Reviews         Privates_price  \\\n",
       "0             (10)                ₹11,703   \n",
       "1              (9)     No Dorms Available   \n",
       "2              (1)                 ₹5,061   \n",
       "3             (30)     No Dorms Available   \n",
       "4             (56)                 ₹6,748   \n",
       "5             (55)     No Dorms Available   \n",
       "6              (1)                ₹19,822   \n",
       "7            (139)     No Dorms Available   \n",
       "8            (283)                 ₹6,221   \n",
       "9             (27)     No Dorms Available   \n",
       "10            (23)  No Privates Available   \n",
       "11           (258)                 ₹5,166   \n",
       "12          (3533)                 ₹8,962   \n",
       "13           (366)     No Dorms Available   \n",
       "14           (173)                ₹10,543   \n",
       "15          (2540)     No Dorms Available   \n",
       "16           (268)       ₹13,285\\n₹10,628   \n",
       "17            (50)     No Dorms Available   \n",
       "\n",
       "                              Dorms_price  \n",
       "0                  Privates From\\n₹11,703  \n",
       "1                      No Dorms Available  \n",
       "2                   Privates From\\n₹5,061  \n",
       "3                      No Dorms Available  \n",
       "4                   Privates From\\n₹6,748  \n",
       "5                      No Dorms Available  \n",
       "6                  Privates From\\n₹19,822  \n",
       "7                      No Dorms Available  \n",
       "8                   Privates From\\n₹6,221  \n",
       "9                      No Dorms Available  \n",
       "10                  No Privates Available  \n",
       "11                     Dorms From\\n₹5,166  \n",
       "12                  Privates From\\n₹8,962  \n",
       "13                     No Dorms Available  \n",
       "14                 Privates From\\n₹10,543  \n",
       "15                     No Dorms Available  \n",
       "16  -20%\\nPrivates From\\n₹13,285\\n₹10,628  \n",
       "17                     No Dorms Available  "
      ]
     },
     "execution_count": 90,
     "metadata": {},
     "output_type": "execute_result"
    }
   ],
   "source": [
    "import pandas as pd\n",
    "df=pd.DataFrame({'Property_Name':property_name,'Distance':distance,'Rating':rating, 'Overall_Reviews':overall_reviews,'Privates_price':privates_price,'Dorms_price':dorms_price})\n",
    "df"
   ]
  },
  {
   "cell_type": "markdown",
   "id": "97a0ab0f-4b96-4871-9eaa-eaa0fb88dafe",
   "metadata": {},
   "source": [
    "Method 2"
   ]
  },
  {
   "cell_type": "code",
   "execution_count": 1,
   "id": "51543c85-8a70-4a72-9bed-1e0a891b79fd",
   "metadata": {
    "tags": []
   },
   "outputs": [
    {
     "name": "stdout",
     "output_type": "stream",
     "text": [
      "Defaulting to user installation because normal site-packages is not writeable\n",
      "Requirement already satisfied: selenium in c:\\programdata\\anaconda3\\lib\\site-packages (4.10.0)\n",
      "Requirement already satisfied: urllib3[socks]<3,>=1.26 in c:\\programdata\\anaconda3\\lib\\site-packages (from selenium) (1.26.16)\n",
      "Requirement already satisfied: trio~=0.17 in c:\\programdata\\anaconda3\\lib\\site-packages (from selenium) (0.22.2)\n",
      "Requirement already satisfied: trio-websocket~=0.9 in c:\\programdata\\anaconda3\\lib\\site-packages (from selenium) (0.10.3)\n",
      "Requirement already satisfied: certifi>=2021.10.8 in c:\\programdata\\anaconda3\\lib\\site-packages (from selenium) (2023.5.7)\n",
      "Requirement already satisfied: attrs>=20.1.0 in c:\\programdata\\anaconda3\\lib\\site-packages (from trio~=0.17->selenium) (22.1.0)\n",
      "Requirement already satisfied: sortedcontainers in c:\\programdata\\anaconda3\\lib\\site-packages (from trio~=0.17->selenium) (2.4.0)\n",
      "Requirement already satisfied: idna in c:\\programdata\\anaconda3\\lib\\site-packages (from trio~=0.17->selenium) (3.4)\n",
      "Requirement already satisfied: outcome in c:\\programdata\\anaconda3\\lib\\site-packages (from trio~=0.17->selenium) (1.2.0)\n",
      "Requirement already satisfied: sniffio in c:\\programdata\\anaconda3\\lib\\site-packages (from trio~=0.17->selenium) (1.2.0)\n",
      "Requirement already satisfied: cffi>=1.14 in c:\\programdata\\anaconda3\\lib\\site-packages (from trio~=0.17->selenium) (1.15.1)\n",
      "Requirement already satisfied: exceptiongroup in c:\\programdata\\anaconda3\\lib\\site-packages (from trio-websocket~=0.9->selenium) (1.1.2)\n",
      "Requirement already satisfied: wsproto>=0.14 in c:\\programdata\\anaconda3\\lib\\site-packages (from trio-websocket~=0.9->selenium) (1.2.0)\n",
      "Requirement already satisfied: PySocks!=1.5.7,<2.0,>=1.5.6 in c:\\programdata\\anaconda3\\lib\\site-packages (from urllib3[socks]<3,>=1.26->selenium) (1.7.1)\n",
      "Requirement already satisfied: pycparser in c:\\programdata\\anaconda3\\lib\\site-packages (from cffi>=1.14->trio~=0.17->selenium) (2.21)\n",
      "Requirement already satisfied: h11<1,>=0.9.0 in c:\\programdata\\anaconda3\\lib\\site-packages (from wsproto>=0.14->trio-websocket~=0.9->selenium) (0.14.0)\n",
      "Note: you may need to restart the kernel to use updated packages.\n"
     ]
    }
   ],
   "source": [
    "pip install selenium"
   ]
  },
  {
   "cell_type": "code",
   "execution_count": 2,
   "id": "6feae33f-f45d-4573-9892-3f5f91f0330b",
   "metadata": {
    "tags": []
   },
   "outputs": [
    {
     "name": "stdout",
     "output_type": "stream",
     "text": [
      "Defaulting to user installation because normal site-packages is not writeable\n",
      "Requirement already satisfied: webdriver-manager in c:\\programdata\\anaconda3\\lib\\site-packages (3.8.6)\n",
      "Requirement already satisfied: requests in c:\\programdata\\anaconda3\\lib\\site-packages (from webdriver-manager) (2.29.0)\n",
      "Requirement already satisfied: python-dotenv in c:\\programdata\\anaconda3\\lib\\site-packages (from webdriver-manager) (1.0.0)\n",
      "Requirement already satisfied: tqdm in c:\\programdata\\anaconda3\\lib\\site-packages (from webdriver-manager) (4.65.0)\n",
      "Requirement already satisfied: packaging in c:\\programdata\\anaconda3\\lib\\site-packages (from webdriver-manager) (23.0)\n",
      "Requirement already satisfied: charset-normalizer<4,>=2 in c:\\programdata\\anaconda3\\lib\\site-packages (from requests->webdriver-manager) (2.0.4)\n",
      "Requirement already satisfied: idna<4,>=2.5 in c:\\programdata\\anaconda3\\lib\\site-packages (from requests->webdriver-manager) (3.4)\n",
      "Requirement already satisfied: urllib3<1.27,>=1.21.1 in c:\\programdata\\anaconda3\\lib\\site-packages (from requests->webdriver-manager) (1.26.16)\n",
      "Requirement already satisfied: certifi>=2017.4.17 in c:\\programdata\\anaconda3\\lib\\site-packages (from requests->webdriver-manager) (2023.5.7)\n",
      "Requirement already satisfied: colorama in c:\\programdata\\anaconda3\\lib\\site-packages (from tqdm->webdriver-manager) (0.4.6)\n"
     ]
    }
   ],
   "source": [
    "!pip install webdriver-manager"
   ]
  },
  {
   "cell_type": "code",
   "execution_count": 3,
   "id": "3c605ba5-e7a6-4d6c-85ec-b8dbdc20e2c0",
   "metadata": {
    "tags": []
   },
   "outputs": [
    {
     "name": "stdout",
     "output_type": "stream",
     "text": [
      "Defaulting to user installation because normal site-packages is not writeable\n",
      "Requirement already satisfied: selenium in c:\\programdata\\anaconda3\\lib\\site-packages (4.10.0)\n",
      "Requirement already satisfied: beautifulsoup4 in c:\\programdata\\anaconda3\\lib\\site-packages (4.12.2)\n",
      "Requirement already satisfied: pandas in c:\\programdata\\anaconda3\\lib\\site-packages (1.5.3)\n",
      "Requirement already satisfied: urllib3[socks]<3,>=1.26 in c:\\programdata\\anaconda3\\lib\\site-packages (from selenium) (1.26.16)\n",
      "Requirement already satisfied: trio~=0.17 in c:\\programdata\\anaconda3\\lib\\site-packages (from selenium) (0.22.2)\n",
      "Requirement already satisfied: trio-websocket~=0.9 in c:\\programdata\\anaconda3\\lib\\site-packages (from selenium) (0.10.3)\n",
      "Requirement already satisfied: certifi>=2021.10.8 in c:\\programdata\\anaconda3\\lib\\site-packages (from selenium) (2023.5.7)\n",
      "Requirement already satisfied: soupsieve>1.2 in c:\\programdata\\anaconda3\\lib\\site-packages (from beautifulsoup4) (2.4)\n",
      "Requirement already satisfied: python-dateutil>=2.8.1 in c:\\programdata\\anaconda3\\lib\\site-packages (from pandas) (2.8.2)\n",
      "Requirement already satisfied: pytz>=2020.1 in c:\\programdata\\anaconda3\\lib\\site-packages (from pandas) (2022.7)\n",
      "Requirement already satisfied: numpy>=1.21.0 in c:\\programdata\\anaconda3\\lib\\site-packages (from pandas) (1.24.3)\n",
      "Requirement already satisfied: six>=1.5 in c:\\programdata\\anaconda3\\lib\\site-packages (from python-dateutil>=2.8.1->pandas) (1.16.0)\n",
      "Requirement already satisfied: attrs>=20.1.0 in c:\\programdata\\anaconda3\\lib\\site-packages (from trio~=0.17->selenium) (22.1.0)\n",
      "Requirement already satisfied: sortedcontainers in c:\\programdata\\anaconda3\\lib\\site-packages (from trio~=0.17->selenium) (2.4.0)\n",
      "Requirement already satisfied: idna in c:\\programdata\\anaconda3\\lib\\site-packages (from trio~=0.17->selenium) (3.4)\n",
      "Requirement already satisfied: outcome in c:\\programdata\\anaconda3\\lib\\site-packages (from trio~=0.17->selenium) (1.2.0)\n",
      "Requirement already satisfied: sniffio in c:\\programdata\\anaconda3\\lib\\site-packages (from trio~=0.17->selenium) (1.2.0)\n",
      "Requirement already satisfied: cffi>=1.14 in c:\\programdata\\anaconda3\\lib\\site-packages (from trio~=0.17->selenium) (1.15.1)\n",
      "Requirement already satisfied: exceptiongroup in c:\\programdata\\anaconda3\\lib\\site-packages (from trio-websocket~=0.9->selenium) (1.1.2)\n",
      "Requirement already satisfied: wsproto>=0.14 in c:\\programdata\\anaconda3\\lib\\site-packages (from trio-websocket~=0.9->selenium) (1.2.0)\n",
      "Requirement already satisfied: PySocks!=1.5.7,<2.0,>=1.5.6 in c:\\programdata\\anaconda3\\lib\\site-packages (from urllib3[socks]<3,>=1.26->selenium) (1.7.1)\n",
      "Requirement already satisfied: pycparser in c:\\programdata\\anaconda3\\lib\\site-packages (from cffi>=1.14->trio~=0.17->selenium) (2.21)\n",
      "Requirement already satisfied: h11<1,>=0.9.0 in c:\\programdata\\anaconda3\\lib\\site-packages (from wsproto>=0.14->trio-websocket~=0.9->selenium) (0.14.0)\n",
      "Note: you may need to restart the kernel to use updated packages.\n"
     ]
    }
   ],
   "source": [
    "pip install selenium beautifulsoup4 pandas"
   ]
  },
  {
   "cell_type": "code",
   "execution_count": 1,
   "id": "8ea26f53-5441-4609-85aa-d816ca327f08",
   "metadata": {
    "tags": []
   },
   "outputs": [],
   "source": [
    "from selenium import webdriver\n",
    "from selenium.webdriver.common.by import By\n",
    "from selenium.webdriver.support.ui import WebDriverWait\n",
    "from webdriver_manager.chrome import ChromeDriverManager\n",
    "from selenium.common.exceptions import TimeoutException, NoSuchElementException, WebDriverException\n",
    "from selenium.webdriver.support import expected_conditions as EC\n",
    "from selenium.webdriver.chrome.service import Service\n",
    "from selenium.webdriver.chrome.options import Options\n",
    "from selenium.webdriver.chrome.webdriver import WebDriver\n",
    "import pandas as pd\n",
    "import requests\n",
    "import time\n",
    "import warnings\n",
    "warnings.filterwarnings(\"ignore\")"
   ]
  },
  {
   "cell_type": "code",
   "execution_count": 196,
   "id": "d07c70ef-c6d3-45c7-9a20-9128c019687a",
   "metadata": {
    "tags": []
   },
   "outputs": [],
   "source": [
    "driver = webdriver.Chrome() "
   ]
  },
  {
   "cell_type": "code",
   "execution_count": 197,
   "id": "f72041d8-936d-49c9-b46e-e43980d4a32b",
   "metadata": {
    "tags": []
   },
   "outputs": [],
   "source": [
    "driver.get(\"https://www.hostelworld.com/\")"
   ]
  },
  {
   "cell_type": "code",
   "execution_count": 198,
   "id": "b11437ee-8fae-4c77-bc36-fa93eb889cad",
   "metadata": {
    "tags": []
   },
   "outputs": [],
   "source": [
    "search_keyword = driver.find_element(By.XPATH,'/html/body/div[3]/div/div/div[2]/div[2]/div[2]/div/div/div/div[1]/div[1]/div/div[2]/input')\n",
    "search_keyword.clear()\n",
    "search_keyword.send_keys('London')"
   ]
  },
  {
   "cell_type": "code",
   "execution_count": 199,
   "id": "e2c92ca3-9045-4a45-a414-e42bec5ce11b",
   "metadata": {
    "tags": []
   },
   "outputs": [],
   "source": [
    "search_keyword = driver.find_element(By.XPATH, \"/html/body/div[3]/div/div/div[2]/div[2]/div[2]/div/div/div/div[1]/div[2]/div/ul/li[2]/button/div[2]/div[1]\")\n",
    "search_keyword.click()"
   ]
  },
  {
   "cell_type": "code",
   "execution_count": 200,
   "id": "e6ce23b6-36dd-4cac-a608-90e2205035d3",
   "metadata": {
    "tags": []
   },
   "outputs": [],
   "source": [
    "search_keyword = driver.find_element(By.XPATH, \"/html/body/div[3]/div/div/div[2]/div[2]/div[2]/div/div/div/div[5]/button\")\n",
    "search_keyword.click()"
   ]
  },
  {
   "cell_type": "code",
   "execution_count": 211,
   "id": "2f101f59-db1a-442a-8f2a-4cfb2d629fcb",
   "metadata": {
    "tags": []
   },
   "outputs": [],
   "source": [
    "property_name = []\n",
    "distance=[]\n",
    "rating=[]\n",
    "overall_reviews=[]\n",
    "privates_price=[]\n",
    "dorms_price=[]\n",
    "facilities=[]\n",
    "property_description=[]\n",
    "\n"
   ]
  },
  {
   "cell_type": "code",
   "execution_count": 212,
   "id": "da2f8384-a114-4574-a85a-a228fafb8e88",
   "metadata": {
    "tags": []
   },
   "outputs": [],
   "source": [
    "title_tags=driver.find_elements(By.CLASS_NAME,'property-name')\n",
    "for i in title_tags[0:30]:\n",
    "    title=i.text\n",
    "    property_name.append(title)\n"
   ]
  },
  {
   "cell_type": "code",
   "execution_count": 213,
   "id": "4237460d-acbd-4221-a976-99a91c078754",
   "metadata": {
    "tags": []
   },
   "outputs": [],
   "source": [
    "title_tags=driver.find_elements(By.CLASS_NAME,'distance-description')\n",
    "for i in title_tags[0:30]:\n",
    "    title=i.text\n",
    "    distance.append(title)"
   ]
  },
  {
   "cell_type": "code",
   "execution_count": 214,
   "id": "93409dbc-1352-4a04-8ee6-0ec24dd65f6c",
   "metadata": {
    "tags": []
   },
   "outputs": [],
   "source": [
    "title_tags=driver.find_elements(By.CLASS_NAME,'number')\n",
    "for i in title_tags[0:30]:\n",
    "    title=i.text\n",
    "    rating.append(title)"
   ]
  },
  {
   "cell_type": "code",
   "execution_count": 215,
   "id": "8498c2f0-cc6b-4252-8586-8a131a3749a2",
   "metadata": {
    "tags": []
   },
   "outputs": [],
   "source": [
    "title_tags=driver.find_elements(By.CLASS_NAME,'review')\n",
    "for i in title_tags[0:30]:\n",
    "    title=i.text\n",
    "    overall_reviews.append(title)"
   ]
  },
  {
   "cell_type": "code",
   "execution_count": 216,
   "id": "3d85a1c6-4810-4583-be3e-caadcc4daa52",
   "metadata": {
    "tags": []
   },
   "outputs": [],
   "source": [
    "title_tags=driver.find_elements(By.CLASS_NAME,'accommodation-price')\n",
    "for i in title_tags[0:30]:\n",
    "    title=i.text\n",
    "    privates_price.append(title)"
   ]
  },
  {
   "cell_type": "code",
   "execution_count": 217,
   "id": "7e80b9a5-66f9-428d-8ec0-a26212546895",
   "metadata": {
    "tags": []
   },
   "outputs": [],
   "source": [
    "title_tags=driver.find_elements(By.CLASS_NAME,'property-accommodation-price')\n",
    "for i in title_tags[0:30]:\n",
    "    title=i.text\n",
    "    dorms_price.append(title)"
   ]
  },
  {
   "cell_type": "code",
   "execution_count": 218,
   "id": "94ff5e5d-aab3-433d-a92d-08927c68aefd",
   "metadata": {
    "tags": []
   },
   "outputs": [],
   "source": [
    "title_tags=driver.find_elements(By.CLASS_NAME,'property-badge')\n",
    "for i in title_tags[0:30]:\n",
    "    title=i.text\n",
    "    facilities.append(title)"
   ]
  },
  {
   "cell_type": "code",
   "execution_count": 221,
   "id": "acc32244-2e49-426d-8087-9fdb33b7abbe",
   "metadata": {
    "tags": []
   },
   "outputs": [],
   "source": [
    "print=(len(property_name),len(distance),len(rating),len(overall_reviews),len(privates_price),len(dorms_price),len(facilities))"
   ]
  },
  {
   "cell_type": "code",
   "execution_count": 222,
   "id": "e7aa4d26-5121-43c7-821d-5d8772fe6cfd",
   "metadata": {
    "tags": []
   },
   "outputs": [
    {
     "data": {
      "text/plain": [
       "(30, 30, 30, 30, 30, 30, 30)"
      ]
     },
     "execution_count": 222,
     "metadata": {},
     "output_type": "execute_result"
    }
   ],
   "source": [
    "print"
   ]
  },
  {
   "cell_type": "code",
   "execution_count": 223,
   "id": "3ce10d3c-ae57-4ab8-a565-87574f64660d",
   "metadata": {
    "tags": []
   },
   "outputs": [
    {
     "data": {
      "text/html": [
       "<div>\n",
       "<style scoped>\n",
       "    .dataframe tbody tr th:only-of-type {\n",
       "        vertical-align: middle;\n",
       "    }\n",
       "\n",
       "    .dataframe tbody tr th {\n",
       "        vertical-align: top;\n",
       "    }\n",
       "\n",
       "    .dataframe thead th {\n",
       "        text-align: right;\n",
       "    }\n",
       "</style>\n",
       "<table border=\"1\" class=\"dataframe\">\n",
       "  <thead>\n",
       "    <tr style=\"text-align: right;\">\n",
       "      <th></th>\n",
       "      <th>Property_Name</th>\n",
       "      <th>Distance</th>\n",
       "      <th>Rating</th>\n",
       "      <th>Overall_Reviews</th>\n",
       "      <th>Privates_price</th>\n",
       "      <th>Dorms_price</th>\n",
       "      <th>Facilities</th>\n",
       "    </tr>\n",
       "  </thead>\n",
       "  <tbody>\n",
       "    <tr>\n",
       "      <th>0</th>\n",
       "      <td>St Christopher's Village</td>\n",
       "      <td>- 3.6km from city centre</td>\n",
       "      <td>8.1</td>\n",
       "      <td>(15139)</td>\n",
       "      <td>₹2,907</td>\n",
       "      <td>From\\n₹2,907</td>\n",
       "      <td></td>\n",
       "    </tr>\n",
       "    <tr>\n",
       "      <th>1</th>\n",
       "      <td>Wombat's City Hostel London</td>\n",
       "      <td>- 5.5km from city centre</td>\n",
       "      <td>9.0</td>\n",
       "      <td>(2175)</td>\n",
       "      <td>₹22,516\\n₹18,013</td>\n",
       "      <td>-20%\\nPrivates From\\n₹22,516\\n₹18,013</td>\n",
       "      <td></td>\n",
       "    </tr>\n",
       "    <tr>\n",
       "      <th>2</th>\n",
       "      <td>Onefam Notting Hill by Hostel One</td>\n",
       "      <td>- 1.8km from city centre</td>\n",
       "      <td>9.7</td>\n",
       "      <td>(12298)</td>\n",
       "      <td>₹5,949\\n₹4,759</td>\n",
       "      <td>-20%\\nDorms From\\n₹5,949\\n₹4,759</td>\n",
       "      <td></td>\n",
       "    </tr>\n",
       "    <tr>\n",
       "      <th>3</th>\n",
       "      <td>St Christopher's Village</td>\n",
       "      <td>- 3km from city centre</td>\n",
       "      <td>8.1</td>\n",
       "      <td>(7634)</td>\n",
       "      <td>₹17,764</td>\n",
       "      <td>Privates From\\n₹17,764</td>\n",
       "      <td></td>\n",
       "    </tr>\n",
       "    <tr>\n",
       "      <th>4</th>\n",
       "      <td>Generator London</td>\n",
       "      <td>- 5.4km from city centre</td>\n",
       "      <td>7.6</td>\n",
       "      <td>(850)</td>\n",
       "      <td>₹5,043</td>\n",
       "      <td>Dorms From\\n₹5,043</td>\n",
       "      <td></td>\n",
       "    </tr>\n",
       "    <tr>\n",
       "      <th>5</th>\n",
       "      <td>Urbany Hostel London</td>\n",
       "      <td>- 4.3km from city centre</td>\n",
       "      <td>9.5</td>\n",
       "      <td>(12135)</td>\n",
       "      <td>No Privates Available</td>\n",
       "      <td>No Privates Available</td>\n",
       "      <td></td>\n",
       "    </tr>\n",
       "    <tr>\n",
       "      <th>6</th>\n",
       "      <td>Astor Hyde Park</td>\n",
       "      <td>- 1.7km from city centre</td>\n",
       "      <td>8.3</td>\n",
       "      <td>(5040)</td>\n",
       "      <td>₹3,230\\n₹2,907</td>\n",
       "      <td>-10%\\nDorms From\\n₹3,230\\n₹2,907</td>\n",
       "      <td></td>\n",
       "    </tr>\n",
       "    <tr>\n",
       "      <th>7</th>\n",
       "      <td>Safestay London Elephant &amp; Castle</td>\n",
       "      <td>- 2.3km from city centre</td>\n",
       "      <td>7.2</td>\n",
       "      <td>(2692)</td>\n",
       "      <td>₹11,199</td>\n",
       "      <td>Privates From\\n₹11,199</td>\n",
       "      <td></td>\n",
       "    </tr>\n",
       "    <tr>\n",
       "      <th>8</th>\n",
       "      <td>Pickwick Hall</td>\n",
       "      <td>- 4.2km from city centre</td>\n",
       "      <td>8.7</td>\n",
       "      <td>(4316)</td>\n",
       "      <td>₹3,569</td>\n",
       "      <td>Dorms From\\n₹3,569</td>\n",
       "      <td></td>\n",
       "    </tr>\n",
       "    <tr>\n",
       "      <th>9</th>\n",
       "      <td>Phoenix Hostel</td>\n",
       "      <td>- 5.8km from city centre</td>\n",
       "      <td>7.9</td>\n",
       "      <td>(1606)</td>\n",
       "      <td>₹15,917</td>\n",
       "      <td>Privates From\\n₹15,917</td>\n",
       "      <td></td>\n",
       "    </tr>\n",
       "    <tr>\n",
       "      <th>10</th>\n",
       "      <td>Safestay London Kensington Holland Park</td>\n",
       "      <td>- 2.6km from city centre</td>\n",
       "      <td>7.0</td>\n",
       "      <td>(10062)</td>\n",
       "      <td>₹4,080</td>\n",
       "      <td>Dorms From\\n₹4,080</td>\n",
       "      <td></td>\n",
       "    </tr>\n",
       "    <tr>\n",
       "      <th>11</th>\n",
       "      <td>Smart Russell Square Hostel</td>\n",
       "      <td>- 2.2km from city centre</td>\n",
       "      <td>7.4</td>\n",
       "      <td>(9298)</td>\n",
       "      <td>No Privates Available</td>\n",
       "      <td>No Privates Available</td>\n",
       "      <td></td>\n",
       "    </tr>\n",
       "    <tr>\n",
       "      <th>12</th>\n",
       "      <td>Astor Museum Inn</td>\n",
       "      <td>- 10km from city centre</td>\n",
       "      <td>8.2</td>\n",
       "      <td>(5056)</td>\n",
       "      <td>₹2,815</td>\n",
       "      <td>Dorms From\\n₹2,815</td>\n",
       "      <td></td>\n",
       "    </tr>\n",
       "    <tr>\n",
       "      <th>13</th>\n",
       "      <td>No.8 Willesden Hostel London</td>\n",
       "      <td>- 11.9km from city centre</td>\n",
       "      <td>6.5</td>\n",
       "      <td>(4495)</td>\n",
       "      <td>No Privates Available</td>\n",
       "      <td>No Privates Available</td>\n",
       "      <td></td>\n",
       "    </tr>\n",
       "    <tr>\n",
       "      <th>14</th>\n",
       "      <td>London Backpackers</td>\n",
       "      <td>- 9km from city centre</td>\n",
       "      <td>7.6</td>\n",
       "      <td>(4040)</td>\n",
       "      <td>₹2,399</td>\n",
       "      <td>Dorms From\\n₹2,399</td>\n",
       "      <td></td>\n",
       "    </tr>\n",
       "    <tr>\n",
       "      <th>15</th>\n",
       "      <td>No.8 Seven Sisters</td>\n",
       "      <td>- 5.7km from city centre</td>\n",
       "      <td>5.2</td>\n",
       "      <td>(3535)</td>\n",
       "      <td>₹13,724</td>\n",
       "      <td>Privates From\\n₹13,724</td>\n",
       "      <td></td>\n",
       "    </tr>\n",
       "    <tr>\n",
       "      <th>16</th>\n",
       "      <td>Queen Elizabeth Chelsea</td>\n",
       "      <td>- 5.5km from city centre</td>\n",
       "      <td>7.3</td>\n",
       "      <td>(1955)</td>\n",
       "      <td>No Dorms Available</td>\n",
       "      <td>No Dorms Available</td>\n",
       "      <td></td>\n",
       "    </tr>\n",
       "    <tr>\n",
       "      <th>17</th>\n",
       "      <td>Barmy Badger Backpackers</td>\n",
       "      <td>- 1.8km from city centre</td>\n",
       "      <td>9.0</td>\n",
       "      <td>(3528)</td>\n",
       "      <td>No Privates Available</td>\n",
       "      <td>No Privates Available</td>\n",
       "      <td></td>\n",
       "    </tr>\n",
       "    <tr>\n",
       "      <th>18</th>\n",
       "      <td>St Christopher's Inn - London Bridge</td>\n",
       "      <td>- 5.5km from city centre</td>\n",
       "      <td>7.8</td>\n",
       "      <td>(1909)</td>\n",
       "      <td>₹2,363\\n₹2,245</td>\n",
       "      <td>-5%\\nDorms From\\n₹2,363\\n₹2,245</td>\n",
       "      <td></td>\n",
       "    </tr>\n",
       "    <tr>\n",
       "      <th>19</th>\n",
       "      <td>Saint James Backpackers</td>\n",
       "      <td>- 1.8km from city centre</td>\n",
       "      <td>7.7</td>\n",
       "      <td>(14999)</td>\n",
       "      <td>No Privates Available</td>\n",
       "      <td>No Privates Available</td>\n",
       "      <td></td>\n",
       "    </tr>\n",
       "    <tr>\n",
       "      <th>20</th>\n",
       "      <td>Astor Victoria</td>\n",
       "      <td>- 7.5km from city centre</td>\n",
       "      <td>7.1</td>\n",
       "      <td>(4273)</td>\n",
       "      <td>₹2,187</td>\n",
       "      <td>Dorms From\\n₹2,187</td>\n",
       "      <td></td>\n",
       "    </tr>\n",
       "    <tr>\n",
       "      <th>21</th>\n",
       "      <td>St Christopher's Hammersmith</td>\n",
       "      <td>- 7.6km from city centre</td>\n",
       "      <td>7.4</td>\n",
       "      <td>(3373)</td>\n",
       "      <td>No Privates Available</td>\n",
       "      <td>No Privates Available</td>\n",
       "      <td></td>\n",
       "    </tr>\n",
       "    <tr>\n",
       "      <th>22</th>\n",
       "      <td>St Christopher's Greenwich</td>\n",
       "      <td>- 4.3km from city centre</td>\n",
       "      <td>7.8</td>\n",
       "      <td>(4067)</td>\n",
       "      <td>₹2,762</td>\n",
       "      <td>Dorms From\\n₹2,762</td>\n",
       "      <td></td>\n",
       "    </tr>\n",
       "    <tr>\n",
       "      <th>23</th>\n",
       "      <td>St Christopher's Camden</td>\n",
       "      <td>- 0.5km from city centre</td>\n",
       "      <td>7.1</td>\n",
       "      <td>(410)</td>\n",
       "      <td>No Privates Available</td>\n",
       "      <td>No Privates Available</td>\n",
       "      <td></td>\n",
       "    </tr>\n",
       "    <tr>\n",
       "      <th>24</th>\n",
       "      <td>PubLove @ The Steam Engine, Waterloo</td>\n",
       "      <td>- 4.2km from city centre</td>\n",
       "      <td>8.0</td>\n",
       "      <td>(80)</td>\n",
       "      <td>₹2,710</td>\n",
       "      <td>Dorms From\\n₹2,710</td>\n",
       "      <td></td>\n",
       "    </tr>\n",
       "    <tr>\n",
       "      <th>25</th>\n",
       "      <td>Bell House Hostel</td>\n",
       "      <td>- 4.9km from city centre</td>\n",
       "      <td>7.6</td>\n",
       "      <td>(6520)</td>\n",
       "      <td>No Privates Available</td>\n",
       "      <td>No Privates Available</td>\n",
       "      <td></td>\n",
       "    </tr>\n",
       "    <tr>\n",
       "      <th>26</th>\n",
       "      <td>Astor Kensington</td>\n",
       "      <td>- 4.8km from city centre</td>\n",
       "      <td>7.9</td>\n",
       "      <td>(4709)</td>\n",
       "      <td>₹1,754</td>\n",
       "      <td>Dorms From\\n₹1,754</td>\n",
       "      <td></td>\n",
       "    </tr>\n",
       "    <tr>\n",
       "      <th>27</th>\n",
       "      <td>Smart Hyde Park View Hostel</td>\n",
       "      <td>- 7km from city centre</td>\n",
       "      <td>7.8</td>\n",
       "      <td>(785)</td>\n",
       "      <td>No Privates Available</td>\n",
       "      <td>No Privates Available</td>\n",
       "      <td></td>\n",
       "    </tr>\n",
       "    <tr>\n",
       "      <th>28</th>\n",
       "      <td>St Christopher's Shepherds Bush</td>\n",
       "      <td>- 3.3km from city centre</td>\n",
       "      <td>7.1</td>\n",
       "      <td>(2872)</td>\n",
       "      <td>₹2,651</td>\n",
       "      <td>Dorms From\\n₹2,651</td>\n",
       "      <td></td>\n",
       "    </tr>\n",
       "    <tr>\n",
       "      <th>29</th>\n",
       "      <td>Kabannas London St Pancras</td>\n",
       "      <td>- 5.5km from city centre</td>\n",
       "      <td>9.1</td>\n",
       "      <td>(54)</td>\n",
       "      <td>No Privates Available</td>\n",
       "      <td>No Privates Available</td>\n",
       "      <td></td>\n",
       "    </tr>\n",
       "  </tbody>\n",
       "</table>\n",
       "</div>"
      ],
      "text/plain": [
       "                              Property_Name                   Distance Rating  \\\n",
       "0                  St Christopher's Village   - 3.6km from city centre    8.1   \n",
       "1               Wombat's City Hostel London   - 5.5km from city centre    9.0   \n",
       "2         Onefam Notting Hill by Hostel One   - 1.8km from city centre    9.7   \n",
       "3                  St Christopher's Village     - 3km from city centre    8.1   \n",
       "4                          Generator London   - 5.4km from city centre    7.6   \n",
       "5                      Urbany Hostel London   - 4.3km from city centre    9.5   \n",
       "6                           Astor Hyde Park   - 1.7km from city centre    8.3   \n",
       "7         Safestay London Elephant & Castle   - 2.3km from city centre    7.2   \n",
       "8                             Pickwick Hall   - 4.2km from city centre    8.7   \n",
       "9                            Phoenix Hostel   - 5.8km from city centre    7.9   \n",
       "10  Safestay London Kensington Holland Park   - 2.6km from city centre    7.0   \n",
       "11              Smart Russell Square Hostel   - 2.2km from city centre    7.4   \n",
       "12                         Astor Museum Inn    - 10km from city centre    8.2   \n",
       "13             No.8 Willesden Hostel London  - 11.9km from city centre    6.5   \n",
       "14                       London Backpackers     - 9km from city centre    7.6   \n",
       "15                       No.8 Seven Sisters   - 5.7km from city centre    5.2   \n",
       "16                  Queen Elizabeth Chelsea   - 5.5km from city centre    7.3   \n",
       "17                 Barmy Badger Backpackers   - 1.8km from city centre    9.0   \n",
       "18     St Christopher's Inn - London Bridge   - 5.5km from city centre    7.8   \n",
       "19                  Saint James Backpackers   - 1.8km from city centre    7.7   \n",
       "20                           Astor Victoria   - 7.5km from city centre    7.1   \n",
       "21             St Christopher's Hammersmith   - 7.6km from city centre    7.4   \n",
       "22               St Christopher's Greenwich   - 4.3km from city centre    7.8   \n",
       "23                  St Christopher's Camden   - 0.5km from city centre    7.1   \n",
       "24     PubLove @ The Steam Engine, Waterloo   - 4.2km from city centre    8.0   \n",
       "25                        Bell House Hostel   - 4.9km from city centre    7.6   \n",
       "26                         Astor Kensington   - 4.8km from city centre    7.9   \n",
       "27              Smart Hyde Park View Hostel     - 7km from city centre    7.8   \n",
       "28          St Christopher's Shepherds Bush   - 3.3km from city centre    7.1   \n",
       "29               Kabannas London St Pancras   - 5.5km from city centre    9.1   \n",
       "\n",
       "   Overall_Reviews         Privates_price  \\\n",
       "0          (15139)                 ₹2,907   \n",
       "1           (2175)       ₹22,516\\n₹18,013   \n",
       "2          (12298)         ₹5,949\\n₹4,759   \n",
       "3           (7634)                ₹17,764   \n",
       "4            (850)                 ₹5,043   \n",
       "5          (12135)  No Privates Available   \n",
       "6           (5040)         ₹3,230\\n₹2,907   \n",
       "7           (2692)                ₹11,199   \n",
       "8           (4316)                 ₹3,569   \n",
       "9           (1606)                ₹15,917   \n",
       "10         (10062)                 ₹4,080   \n",
       "11          (9298)  No Privates Available   \n",
       "12          (5056)                 ₹2,815   \n",
       "13          (4495)  No Privates Available   \n",
       "14          (4040)                 ₹2,399   \n",
       "15          (3535)                ₹13,724   \n",
       "16          (1955)     No Dorms Available   \n",
       "17          (3528)  No Privates Available   \n",
       "18          (1909)         ₹2,363\\n₹2,245   \n",
       "19         (14999)  No Privates Available   \n",
       "20          (4273)                 ₹2,187   \n",
       "21          (3373)  No Privates Available   \n",
       "22          (4067)                 ₹2,762   \n",
       "23           (410)  No Privates Available   \n",
       "24            (80)                 ₹2,710   \n",
       "25          (6520)  No Privates Available   \n",
       "26          (4709)                 ₹1,754   \n",
       "27           (785)  No Privates Available   \n",
       "28          (2872)                 ₹2,651   \n",
       "29            (54)  No Privates Available   \n",
       "\n",
       "                              Dorms_price Facilities  \n",
       "0                            From\\n₹2,907             \n",
       "1   -20%\\nPrivates From\\n₹22,516\\n₹18,013             \n",
       "2        -20%\\nDorms From\\n₹5,949\\n₹4,759             \n",
       "3                  Privates From\\n₹17,764             \n",
       "4                      Dorms From\\n₹5,043             \n",
       "5                   No Privates Available             \n",
       "6        -10%\\nDorms From\\n₹3,230\\n₹2,907             \n",
       "7                  Privates From\\n₹11,199             \n",
       "8                      Dorms From\\n₹3,569             \n",
       "9                  Privates From\\n₹15,917             \n",
       "10                     Dorms From\\n₹4,080             \n",
       "11                  No Privates Available             \n",
       "12                     Dorms From\\n₹2,815             \n",
       "13                  No Privates Available             \n",
       "14                     Dorms From\\n₹2,399             \n",
       "15                 Privates From\\n₹13,724             \n",
       "16                     No Dorms Available             \n",
       "17                  No Privates Available             \n",
       "18        -5%\\nDorms From\\n₹2,363\\n₹2,245             \n",
       "19                  No Privates Available             \n",
       "20                     Dorms From\\n₹2,187             \n",
       "21                  No Privates Available             \n",
       "22                     Dorms From\\n₹2,762             \n",
       "23                  No Privates Available             \n",
       "24                     Dorms From\\n₹2,710             \n",
       "25                  No Privates Available             \n",
       "26                     Dorms From\\n₹1,754             \n",
       "27                  No Privates Available             \n",
       "28                     Dorms From\\n₹2,651             \n",
       "29                  No Privates Available             "
      ]
     },
     "execution_count": 223,
     "metadata": {},
     "output_type": "execute_result"
    }
   ],
   "source": [
    "import pandas as pd\n",
    "df=pd.DataFrame({'Property_Name':property_name,'Distance':distance,'Rating':rating, 'Overall_Reviews':overall_reviews,'Privates_price':privates_price,'Dorms_price':dorms_price,'Facilities':facilities})\n",
    "df"
   ]
  },
  {
   "cell_type": "code",
   "execution_count": 225,
   "id": "44bd4973-c37c-488d-8309-40dfc7cb0aca",
   "metadata": {
    "tags": []
   },
   "outputs": [],
   "source": [
    "search_keyword = driver.find_element(By.XPATH, \"/html/body/div[3]/div/div/div[2]/div/div[2]/div[1]/div/div/div/div/div[6]/div/div[2]/button\")\n",
    "search_keyword.click()"
   ]
  },
  {
   "cell_type": "code",
   "execution_count": 236,
   "id": "32908ef0-ed09-475d-9769-584af6b02bc0",
   "metadata": {
    "tags": []
   },
   "outputs": [],
   "source": [
    "property_name = []\n",
    "distance=[]\n",
    "rating=[]\n",
    "overall_reviews=[]\n",
    "privates_price=[]\n",
    "dorms_price=[]\n",
    "facilities=[]"
   ]
  },
  {
   "cell_type": "code",
   "execution_count": 237,
   "id": "01a2a465-0ffb-42fd-9053-7d7351e90682",
   "metadata": {
    "tags": []
   },
   "outputs": [],
   "source": [
    "title_tags=driver.find_elements(By.CLASS_NAME,'property-name')\n",
    "for i in title_tags[0:23]:\n",
    "    title=i.text\n",
    "    property_name.append(title)"
   ]
  },
  {
   "cell_type": "code",
   "execution_count": 238,
   "id": "6eec6b25-081e-4b62-992d-bfeb59bb077f",
   "metadata": {
    "tags": []
   },
   "outputs": [],
   "source": [
    "title_tags=driver.find_elements(By.CLASS_NAME,'distance-description')\n",
    "for i in title_tags[0:23]:\n",
    "    title=i.text\n",
    "    distance.append(title)"
   ]
  },
  {
   "cell_type": "code",
   "execution_count": 239,
   "id": "b2169fa1-0bd5-4353-919d-982f6f804eed",
   "metadata": {
    "tags": []
   },
   "outputs": [],
   "source": [
    "title_tags=driver.find_elements(By.CLASS_NAME,'number')\n",
    "for i in title_tags[0:23]:\n",
    "    title=i.text\n",
    "    rating.append(title)"
   ]
  },
  {
   "cell_type": "code",
   "execution_count": 240,
   "id": "d07937a5-b96c-4386-9512-4169476e06d3",
   "metadata": {
    "tags": []
   },
   "outputs": [],
   "source": [
    "title_tags=driver.find_elements(By.CLASS_NAME,'review')\n",
    "for i in title_tags[0:23]:\n",
    "    title=i.text\n",
    "    overall_reviews.append(title)"
   ]
  },
  {
   "cell_type": "code",
   "execution_count": 241,
   "id": "92a41a5c-1b3c-451e-9aab-cd376ae6869f",
   "metadata": {
    "tags": []
   },
   "outputs": [],
   "source": [
    "title_tags=driver.find_elements(By.CLASS_NAME,'accommodation-price')\n",
    "for i in title_tags[0:23]:\n",
    "    title=i.text\n",
    "    privates_price.append(title)"
   ]
  },
  {
   "cell_type": "code",
   "execution_count": 242,
   "id": "610e535d-0ca6-43eb-ab01-a8574e07cd12",
   "metadata": {
    "tags": []
   },
   "outputs": [],
   "source": [
    "title_tags=driver.find_elements(By.CLASS_NAME,'property-accommodation-price')\n",
    "for i in title_tags[0:23]:\n",
    "    title=i.text\n",
    "    dorms_price.append(title)"
   ]
  },
  {
   "cell_type": "code",
   "execution_count": 243,
   "id": "24808d1b-4a06-477a-99cf-96b610b67bd4",
   "metadata": {
    "tags": []
   },
   "outputs": [],
   "source": [
    "title_tags=driver.find_elements(By.CLASS_NAME,'property-badge')\n",
    "for i in title_tags[0:23]:\n",
    "    title=i.text\n",
    "    facilities.append(title)"
   ]
  },
  {
   "cell_type": "code",
   "execution_count": 244,
   "id": "6f0941d6-5148-43e1-a188-f2ddfb4459f5",
   "metadata": {
    "tags": []
   },
   "outputs": [],
   "source": [
    "print=(len(property_name),len(distance),len(rating),len(overall_reviews),len(privates_price),len(dorms_price),len(facilities))"
   ]
  },
  {
   "cell_type": "code",
   "execution_count": 245,
   "id": "3db09c7e-dc53-4d37-8162-5cd694ee4471",
   "metadata": {
    "tags": []
   },
   "outputs": [
    {
     "data": {
      "text/plain": [
       "(23, 23, 23, 23, 23, 23, 23)"
      ]
     },
     "execution_count": 245,
     "metadata": {},
     "output_type": "execute_result"
    }
   ],
   "source": [
    "print"
   ]
  },
  {
   "cell_type": "code",
   "execution_count": 248,
   "id": "98b7e3e0-4b85-4cd8-a40f-05cc2ae3b816",
   "metadata": {
    "tags": []
   },
   "outputs": [
    {
     "data": {
      "text/html": [
       "<div>\n",
       "<style scoped>\n",
       "    .dataframe tbody tr th:only-of-type {\n",
       "        vertical-align: middle;\n",
       "    }\n",
       "\n",
       "    .dataframe tbody tr th {\n",
       "        vertical-align: top;\n",
       "    }\n",
       "\n",
       "    .dataframe thead th {\n",
       "        text-align: right;\n",
       "    }\n",
       "</style>\n",
       "<table border=\"1\" class=\"dataframe\">\n",
       "  <thead>\n",
       "    <tr style=\"text-align: right;\">\n",
       "      <th></th>\n",
       "      <th>Property_Name</th>\n",
       "      <th>Distance</th>\n",
       "      <th>Rating</th>\n",
       "      <th>Overall_Reviews</th>\n",
       "      <th>Privates_price</th>\n",
       "      <th>Dorms_price</th>\n",
       "      <th>Facilities</th>\n",
       "    </tr>\n",
       "  </thead>\n",
       "  <tbody>\n",
       "    <tr>\n",
       "      <th>0</th>\n",
       "      <td>YHA London St Pauls</td>\n",
       "      <td>- 1.9km from city centre</td>\n",
       "      <td>8.8</td>\n",
       "      <td>(2089)</td>\n",
       "      <td>₹18,298</td>\n",
       "      <td>Privates From\\n₹18,298</td>\n",
       "      <td></td>\n",
       "    </tr>\n",
       "    <tr>\n",
       "      <th>1</th>\n",
       "      <td>PubLove @ The White Ferry, Victoria</td>\n",
       "      <td>- 2.4km from city centre</td>\n",
       "      <td>7.0</td>\n",
       "      <td>(358)</td>\n",
       "      <td>No Dorms Available</td>\n",
       "      <td>No Dorms Available</td>\n",
       "      <td></td>\n",
       "    </tr>\n",
       "    <tr>\n",
       "      <th>2</th>\n",
       "      <td>YHA London Earls Court</td>\n",
       "      <td>- 5.1km from city centre</td>\n",
       "      <td>9.1</td>\n",
       "      <td>(1463)</td>\n",
       "      <td>₹44,339</td>\n",
       "      <td>Privates From\\n₹44,339</td>\n",
       "      <td></td>\n",
       "    </tr>\n",
       "    <tr>\n",
       "      <th>3</th>\n",
       "      <td>PubLove @ The Crown, Battersea</td>\n",
       "      <td>- 4.7km from city centre</td>\n",
       "      <td>7.3</td>\n",
       "      <td>(307)</td>\n",
       "      <td>₹3,695</td>\n",
       "      <td>Dorms From\\n₹3,695</td>\n",
       "      <td></td>\n",
       "    </tr>\n",
       "    <tr>\n",
       "      <th>4</th>\n",
       "      <td>Strand Continental</td>\n",
       "      <td>- 1.3km from city centre</td>\n",
       "      <td>6.2</td>\n",
       "      <td>(977)</td>\n",
       "      <td>₹15,835</td>\n",
       "      <td>Privates From\\n₹15,835</td>\n",
       "      <td></td>\n",
       "    </tr>\n",
       "    <tr>\n",
       "      <th>5</th>\n",
       "      <td>PubLove @ The Rose &amp; Crown</td>\n",
       "      <td>- 1.6km from city centre</td>\n",
       "      <td>7.7</td>\n",
       "      <td>(198)</td>\n",
       "      <td>No Dorms Available</td>\n",
       "      <td>No Dorms Available</td>\n",
       "      <td></td>\n",
       "    </tr>\n",
       "    <tr>\n",
       "      <th>6</th>\n",
       "      <td>Kensal Green Backpackers</td>\n",
       "      <td>- 8.2km from city centre</td>\n",
       "      <td>5.2</td>\n",
       "      <td>(3721)</td>\n",
       "      <td>No Privates Available</td>\n",
       "      <td>No Privates Available</td>\n",
       "      <td></td>\n",
       "    </tr>\n",
       "    <tr>\n",
       "      <th>7</th>\n",
       "      <td>YHA London Central</td>\n",
       "      <td>- 2.9km from city centre</td>\n",
       "      <td>8.4</td>\n",
       "      <td>(4766)</td>\n",
       "      <td>₹3,554</td>\n",
       "      <td>Dorms From\\n₹3,554</td>\n",
       "      <td></td>\n",
       "    </tr>\n",
       "    <tr>\n",
       "      <th>8</th>\n",
       "      <td>Enrico Hotel</td>\n",
       "      <td>- 2km from city centre</td>\n",
       "      <td>8.2</td>\n",
       "      <td>(173)</td>\n",
       "      <td>₹7,566</td>\n",
       "      <td>Privates From\\n₹7,566</td>\n",
       "      <td></td>\n",
       "    </tr>\n",
       "    <tr>\n",
       "      <th>9</th>\n",
       "      <td>Tony's House Hotel</td>\n",
       "      <td>- 4.3km from city centre</td>\n",
       "      <td>7.6</td>\n",
       "      <td>(424)</td>\n",
       "      <td>₹3,132</td>\n",
       "      <td>Dorms From\\n₹3,132</td>\n",
       "      <td></td>\n",
       "    </tr>\n",
       "    <tr>\n",
       "      <th>10</th>\n",
       "      <td>London Waterloo Hostel</td>\n",
       "      <td>- 0.7km from city centre</td>\n",
       "      <td>5.8</td>\n",
       "      <td>(2542)</td>\n",
       "      <td>No Privates Available</td>\n",
       "      <td>No Privates Available</td>\n",
       "      <td></td>\n",
       "    </tr>\n",
       "    <tr>\n",
       "      <th>11</th>\n",
       "      <td>Paramount Hotel</td>\n",
       "      <td>- 5.7km from city centre</td>\n",
       "      <td>7.0</td>\n",
       "      <td>(40)</td>\n",
       "      <td>₹4,223</td>\n",
       "      <td>Dorms From\\n₹4,223</td>\n",
       "      <td></td>\n",
       "    </tr>\n",
       "    <tr>\n",
       "      <th>12</th>\n",
       "      <td>PubLove @ The Green Man, Paddington</td>\n",
       "      <td>- 4.3km from city centre</td>\n",
       "      <td>5.5</td>\n",
       "      <td>(450)</td>\n",
       "      <td>₹9,364</td>\n",
       "      <td>Privates From\\n₹9,364</td>\n",
       "      <td></td>\n",
       "    </tr>\n",
       "    <tr>\n",
       "      <th>13</th>\n",
       "      <td>Zedwell Piccadilly Circus</td>\n",
       "      <td>- 1.6km from city centre</td>\n",
       "      <td>8.3</td>\n",
       "      <td>(11)</td>\n",
       "      <td>₹2,674</td>\n",
       "      <td>Dorms From\\n₹2,674</td>\n",
       "      <td></td>\n",
       "    </tr>\n",
       "    <tr>\n",
       "      <th>14</th>\n",
       "      <td>Belgrave Hotel London</td>\n",
       "      <td>- 2.2km from city centre</td>\n",
       "      <td>10</td>\n",
       "      <td>(1383)</td>\n",
       "      <td>₹25,689</td>\n",
       "      <td>Privates From\\n₹25,689</td>\n",
       "      <td></td>\n",
       "    </tr>\n",
       "    <tr>\n",
       "      <th>15</th>\n",
       "      <td>London House Hotel</td>\n",
       "      <td>- 5.3km from city centre</td>\n",
       "      <td>8.0</td>\n",
       "      <td>(109)</td>\n",
       "      <td>No Dorms Available</td>\n",
       "      <td>No Dorms Available</td>\n",
       "      <td></td>\n",
       "    </tr>\n",
       "    <tr>\n",
       "      <th>16</th>\n",
       "      <td>Europa House Hotel</td>\n",
       "      <td>- 4.2km from city centre</td>\n",
       "      <td>10</td>\n",
       "      <td>(1)</td>\n",
       "      <td>₹9,677</td>\n",
       "      <td>Privates From\\n₹9,677</td>\n",
       "      <td></td>\n",
       "    </tr>\n",
       "    <tr>\n",
       "      <th>17</th>\n",
       "      <td>Park Hotel Essex</td>\n",
       "      <td>- 24.1km from city centre</td>\n",
       "      <td>7.7</td>\n",
       "      <td>(55)</td>\n",
       "      <td>No Dorms Available</td>\n",
       "      <td>No Dorms Available</td>\n",
       "      <td></td>\n",
       "    </tr>\n",
       "    <tr>\n",
       "      <th>18</th>\n",
       "      <td>Litsa's Central Studios</td>\n",
       "      <td>- 4.3km from city centre</td>\n",
       "      <td>5.1</td>\n",
       "      <td>(9)</td>\n",
       "      <td>₹6,756</td>\n",
       "      <td>Privates From\\n₹6,756</td>\n",
       "      <td></td>\n",
       "    </tr>\n",
       "    <tr>\n",
       "      <th>19</th>\n",
       "      <td>Kip Hotel</td>\n",
       "      <td>- 6.8km from city centre</td>\n",
       "      <td>6.7</td>\n",
       "      <td>(56)</td>\n",
       "      <td>No Dorms Available</td>\n",
       "      <td>No Dorms Available</td>\n",
       "      <td></td>\n",
       "    </tr>\n",
       "    <tr>\n",
       "      <th>20</th>\n",
       "      <td>Colliers Hotel</td>\n",
       "      <td>- 2.1km from city centre</td>\n",
       "      <td>5.1</td>\n",
       "      <td>(1)</td>\n",
       "      <td>₹11,876</td>\n",
       "      <td>Privates From\\n₹11,876</td>\n",
       "      <td></td>\n",
       "    </tr>\n",
       "    <tr>\n",
       "      <th>21</th>\n",
       "      <td>Mornington Camden</td>\n",
       "      <td>- 4.1km from city centre</td>\n",
       "      <td>10</td>\n",
       "      <td>(23)</td>\n",
       "      <td>₹2,534</td>\n",
       "      <td>Dorms From\\n₹2,534</td>\n",
       "      <td></td>\n",
       "    </tr>\n",
       "    <tr>\n",
       "      <th>22</th>\n",
       "      <td>Hotel Shepherds Bush London</td>\n",
       "      <td>- 7.6km from city centre</td>\n",
       "      <td>4.7</td>\n",
       "      <td>(366)</td>\n",
       "      <td>₹9,114</td>\n",
       "      <td>Privates From\\n₹9,114</td>\n",
       "      <td></td>\n",
       "    </tr>\n",
       "  </tbody>\n",
       "</table>\n",
       "</div>"
      ],
      "text/plain": [
       "                          Property_Name                   Distance Rating  \\\n",
       "0                   YHA London St Pauls   - 1.9km from city centre    8.8   \n",
       "1   PubLove @ The White Ferry, Victoria   - 2.4km from city centre    7.0   \n",
       "2                YHA London Earls Court   - 5.1km from city centre    9.1   \n",
       "3        PubLove @ The Crown, Battersea   - 4.7km from city centre    7.3   \n",
       "4                    Strand Continental   - 1.3km from city centre    6.2   \n",
       "5            PubLove @ The Rose & Crown   - 1.6km from city centre    7.7   \n",
       "6              Kensal Green Backpackers   - 8.2km from city centre    5.2   \n",
       "7                    YHA London Central   - 2.9km from city centre    8.4   \n",
       "8                          Enrico Hotel     - 2km from city centre    8.2   \n",
       "9                    Tony's House Hotel   - 4.3km from city centre    7.6   \n",
       "10               London Waterloo Hostel   - 0.7km from city centre    5.8   \n",
       "11                      Paramount Hotel   - 5.7km from city centre    7.0   \n",
       "12  PubLove @ The Green Man, Paddington   - 4.3km from city centre    5.5   \n",
       "13            Zedwell Piccadilly Circus   - 1.6km from city centre    8.3   \n",
       "14                Belgrave Hotel London   - 2.2km from city centre     10   \n",
       "15                   London House Hotel   - 5.3km from city centre    8.0   \n",
       "16                   Europa House Hotel   - 4.2km from city centre     10   \n",
       "17                     Park Hotel Essex  - 24.1km from city centre    7.7   \n",
       "18              Litsa's Central Studios   - 4.3km from city centre    5.1   \n",
       "19                            Kip Hotel   - 6.8km from city centre    6.7   \n",
       "20                       Colliers Hotel   - 2.1km from city centre    5.1   \n",
       "21                    Mornington Camden   - 4.1km from city centre     10   \n",
       "22          Hotel Shepherds Bush London   - 7.6km from city centre    4.7   \n",
       "\n",
       "   Overall_Reviews         Privates_price             Dorms_price Facilities  \n",
       "0           (2089)                ₹18,298  Privates From\\n₹18,298             \n",
       "1            (358)     No Dorms Available      No Dorms Available             \n",
       "2           (1463)                ₹44,339  Privates From\\n₹44,339             \n",
       "3            (307)                 ₹3,695      Dorms From\\n₹3,695             \n",
       "4            (977)                ₹15,835  Privates From\\n₹15,835             \n",
       "5            (198)     No Dorms Available      No Dorms Available             \n",
       "6           (3721)  No Privates Available   No Privates Available             \n",
       "7           (4766)                 ₹3,554      Dorms From\\n₹3,554             \n",
       "8            (173)                 ₹7,566   Privates From\\n₹7,566             \n",
       "9            (424)                 ₹3,132      Dorms From\\n₹3,132             \n",
       "10          (2542)  No Privates Available   No Privates Available             \n",
       "11            (40)                 ₹4,223      Dorms From\\n₹4,223             \n",
       "12           (450)                 ₹9,364   Privates From\\n₹9,364             \n",
       "13            (11)                 ₹2,674      Dorms From\\n₹2,674             \n",
       "14          (1383)                ₹25,689  Privates From\\n₹25,689             \n",
       "15           (109)     No Dorms Available      No Dorms Available             \n",
       "16             (1)                 ₹9,677   Privates From\\n₹9,677             \n",
       "17            (55)     No Dorms Available      No Dorms Available             \n",
       "18             (9)                 ₹6,756   Privates From\\n₹6,756             \n",
       "19            (56)     No Dorms Available      No Dorms Available             \n",
       "20             (1)                ₹11,876  Privates From\\n₹11,876             \n",
       "21            (23)                 ₹2,534      Dorms From\\n₹2,534             \n",
       "22           (366)                 ₹9,114   Privates From\\n₹9,114             "
      ]
     },
     "execution_count": 248,
     "metadata": {},
     "output_type": "execute_result"
    }
   ],
   "source": [
    "import pandas as pd\n",
    "df=pd.DataFrame({'Property_Name':property_name,'Distance':distance,'Rating':rating, 'Overall_Reviews':overall_reviews,'Privates_price':privates_price,'Dorms_price':dorms_price,'Facilities':facilities})\n",
    "df"
   ]
  },
  {
   "cell_type": "code",
   "execution_count": 53,
   "id": "33ffa459-07a9-4a31-bb3a-16b66ff0aec6",
   "metadata": {
    "tags": []
   },
   "outputs": [],
   "source": [
    "search_keyword = driver.find_element(By.XPATH, \"/html/body/div[3]/div/div/div[2]/div/div[2]/div[1]/div/div/div/div/div[5]/div/div[3]/button\")\n",
    "search_keyword.click()"
   ]
  },
  {
   "cell_type": "code",
   "execution_count": 81,
   "id": "200c03c7-b766-4507-a77d-5c80861ad53a",
   "metadata": {
    "tags": []
   },
   "outputs": [],
   "source": [
    "property_name = []\n",
    "distance=[]\n",
    "rating=[]\n",
    "overall_reviews=[]\n",
    "privates_price=[]\n",
    "dorms_price=[]\n",
    "facilities=['-']"
   ]
  },
  {
   "cell_type": "code",
   "execution_count": 82,
   "id": "5a9b2b5c-4fbe-41b2-83b7-661dbf6d0ca2",
   "metadata": {
    "tags": []
   },
   "outputs": [],
   "source": [
    "title_tags=driver.find_elements(By.CLASS_NAME,'property-name')\n",
    "for i in title_tags[0:18]:\n",
    "    title=i.text\n",
    "    property_name.append(title)"
   ]
  },
  {
   "cell_type": "code",
   "execution_count": 83,
   "id": "4e38ad1a-4d71-43ac-b8ed-2950a4e6af75",
   "metadata": {
    "tags": []
   },
   "outputs": [],
   "source": [
    "title_tags=driver.find_elements(By.CLASS_NAME,'distance-description')\n",
    "for i in title_tags[0:18]:\n",
    "    title=i.text\n",
    "    distance.append(title)"
   ]
  },
  {
   "cell_type": "code",
   "execution_count": 84,
   "id": "a7d259c8-f415-41fd-93a3-0258c67cb51c",
   "metadata": {
    "tags": []
   },
   "outputs": [],
   "source": [
    "title_tags=driver.find_elements(By.CLASS_NAME,'number')\n",
    "for i in title_tags[0:18]:\n",
    "    title=i.text\n",
    "    rating.append(title)"
   ]
  },
  {
   "cell_type": "code",
   "execution_count": 85,
   "id": "ad992dcf-4c55-48ec-9f30-ba56aa260d74",
   "metadata": {
    "tags": []
   },
   "outputs": [],
   "source": [
    "title_tags=driver.find_elements(By.CLASS_NAME,'review')\n",
    "for i in title_tags[0:18]:\n",
    "    title=i.text\n",
    "    overall_reviews.append(title)"
   ]
  },
  {
   "cell_type": "code",
   "execution_count": 86,
   "id": "de8b1a1f-ba9f-4088-9e59-ffc327b42f3f",
   "metadata": {
    "tags": []
   },
   "outputs": [],
   "source": [
    "title_tags=driver.find_elements(By.CLASS_NAME,'accommodation-price')\n",
    "for i in title_tags[0:18]:\n",
    "    title=i.text\n",
    "    privates_price.append(title)"
   ]
  },
  {
   "cell_type": "code",
   "execution_count": 87,
   "id": "26992bee-bd6a-4041-9355-5d12c9676558",
   "metadata": {
    "tags": []
   },
   "outputs": [],
   "source": [
    "title_tags=driver.find_elements(By.CLASS_NAME,'property-accommodation-price')\n",
    "for i in title_tags[0:18]:\n",
    "    title=i.text\n",
    "    dorms_price.append(title)"
   ]
  },
  {
   "cell_type": "code",
   "execution_count": 88,
   "id": "dafbdfb2-88c1-4dc2-bf2d-dcc4cd60e4dd",
   "metadata": {
    "tags": []
   },
   "outputs": [],
   "source": [
    "print=(len(property_name),len(distance),len(rating),len(overall_reviews),len(privates_price),len(dorms_price))"
   ]
  },
  {
   "cell_type": "code",
   "execution_count": 89,
   "id": "d92694dd-0901-404d-8a7f-8cd2977cb60d",
   "metadata": {
    "tags": []
   },
   "outputs": [
    {
     "data": {
      "text/plain": [
       "(18, 18, 18, 18, 18, 18)"
      ]
     },
     "execution_count": 89,
     "metadata": {},
     "output_type": "execute_result"
    }
   ],
   "source": [
    "print"
   ]
  },
  {
   "cell_type": "code",
   "execution_count": 90,
   "id": "d4339d6b-9433-4121-bc53-390637a2fb2a",
   "metadata": {
    "tags": []
   },
   "outputs": [
    {
     "data": {
      "text/html": [
       "<div>\n",
       "<style scoped>\n",
       "    .dataframe tbody tr th:only-of-type {\n",
       "        vertical-align: middle;\n",
       "    }\n",
       "\n",
       "    .dataframe tbody tr th {\n",
       "        vertical-align: top;\n",
       "    }\n",
       "\n",
       "    .dataframe thead th {\n",
       "        text-align: right;\n",
       "    }\n",
       "</style>\n",
       "<table border=\"1\" class=\"dataframe\">\n",
       "  <thead>\n",
       "    <tr style=\"text-align: right;\">\n",
       "      <th></th>\n",
       "      <th>Property_Name</th>\n",
       "      <th>Distance</th>\n",
       "      <th>Rating</th>\n",
       "      <th>Overall_Reviews</th>\n",
       "      <th>Privates_price</th>\n",
       "      <th>Dorms_price</th>\n",
       "    </tr>\n",
       "  </thead>\n",
       "  <tbody>\n",
       "    <tr>\n",
       "      <th>0</th>\n",
       "      <td>Park Hotel</td>\n",
       "      <td>- 4.9km from city centre</td>\n",
       "      <td>8.6</td>\n",
       "      <td>(10)</td>\n",
       "      <td>₹11,703</td>\n",
       "      <td>Privates From\\n₹11,703</td>\n",
       "    </tr>\n",
       "    <tr>\n",
       "      <th>1</th>\n",
       "      <td>23 Matheson Road</td>\n",
       "      <td>- 6.2km from city centre</td>\n",
       "      <td>5.1</td>\n",
       "      <td>(9)</td>\n",
       "      <td>No Dorms Available</td>\n",
       "      <td>No Dorms Available</td>\n",
       "    </tr>\n",
       "    <tr>\n",
       "      <th>2</th>\n",
       "      <td>Colliers Hotel</td>\n",
       "      <td>- 2.1km from city centre</td>\n",
       "      <td>10</td>\n",
       "      <td>(1)</td>\n",
       "      <td>₹5,061</td>\n",
       "      <td>Privates From\\n₹5,061</td>\n",
       "    </tr>\n",
       "    <tr>\n",
       "      <th>3</th>\n",
       "      <td>Litsa's Central Studios</td>\n",
       "      <td>- 4.3km from city centre</td>\n",
       "      <td>7.6</td>\n",
       "      <td>(30)</td>\n",
       "      <td>No Dorms Available</td>\n",
       "      <td>No Dorms Available</td>\n",
       "    </tr>\n",
       "    <tr>\n",
       "      <th>4</th>\n",
       "      <td>Beaconsfield</td>\n",
       "      <td>- 8.6km from city centre</td>\n",
       "      <td>6.7</td>\n",
       "      <td>(56)</td>\n",
       "      <td>₹6,748</td>\n",
       "      <td>Privates From\\n₹6,748</td>\n",
       "    </tr>\n",
       "    <tr>\n",
       "      <th>5</th>\n",
       "      <td>Mornington Camden</td>\n",
       "      <td>- 4.1km from city centre</td>\n",
       "      <td>7.7</td>\n",
       "      <td>(55)</td>\n",
       "      <td>No Dorms Available</td>\n",
       "      <td>No Dorms Available</td>\n",
       "    </tr>\n",
       "    <tr>\n",
       "      <th>6</th>\n",
       "      <td>Kip Hotel</td>\n",
       "      <td>- 6.8km from city centre</td>\n",
       "      <td>5.1</td>\n",
       "      <td>(1)</td>\n",
       "      <td>₹19,822</td>\n",
       "      <td>Privates From\\n₹19,822</td>\n",
       "    </tr>\n",
       "    <tr>\n",
       "      <th>7</th>\n",
       "      <td>Airways Hotel Victoria London</td>\n",
       "      <td>- 2.1km from city centre</td>\n",
       "      <td>4.2</td>\n",
       "      <td>(139)</td>\n",
       "      <td>No Dorms Available</td>\n",
       "      <td>No Dorms Available</td>\n",
       "    </tr>\n",
       "    <tr>\n",
       "      <th>8</th>\n",
       "      <td>Hotel Shepherds Bush London</td>\n",
       "      <td>- 7.6km from city centre</td>\n",
       "      <td>9.7</td>\n",
       "      <td>(283)</td>\n",
       "      <td>₹6,221</td>\n",
       "      <td>Privates From\\n₹6,221</td>\n",
       "    </tr>\n",
       "    <tr>\n",
       "      <th>9</th>\n",
       "      <td>Hyde Park Court Hotel</td>\n",
       "      <td>- 4.3km from city centre</td>\n",
       "      <td>2.0</td>\n",
       "      <td>(27)</td>\n",
       "      <td>No Dorms Available</td>\n",
       "      <td>No Dorms Available</td>\n",
       "    </tr>\n",
       "    <tr>\n",
       "      <th>10</th>\n",
       "      <td>The W14 Hotel &amp; Bar</td>\n",
       "      <td>- 6.5km from city centre</td>\n",
       "      <td>10</td>\n",
       "      <td>(23)</td>\n",
       "      <td>No Privates Available</td>\n",
       "      <td>No Privates Available</td>\n",
       "    </tr>\n",
       "    <tr>\n",
       "      <th>11</th>\n",
       "      <td>Aron Guest House</td>\n",
       "      <td>- 13.1km from city centre</td>\n",
       "      <td>10</td>\n",
       "      <td>(258)</td>\n",
       "      <td>₹5,166</td>\n",
       "      <td>Dorms From\\n₹5,166</td>\n",
       "    </tr>\n",
       "    <tr>\n",
       "      <th>12</th>\n",
       "      <td>Fairway Hotel</td>\n",
       "      <td>- 3.3km from city centre</td>\n",
       "      <td>7.4</td>\n",
       "      <td>(3533)</td>\n",
       "      <td>₹8,962</td>\n",
       "      <td>Privates From\\n₹8,962</td>\n",
       "    </tr>\n",
       "    <tr>\n",
       "      <th>13</th>\n",
       "      <td>Britannia Inn Hotel</td>\n",
       "      <td>- 14.5km from city centre</td>\n",
       "      <td>4.7</td>\n",
       "      <td>(366)</td>\n",
       "      <td>No Dorms Available</td>\n",
       "      <td>No Dorms Available</td>\n",
       "    </tr>\n",
       "    <tr>\n",
       "      <th>14</th>\n",
       "      <td>Cranbrook Hotel</td>\n",
       "      <td>- 14.8km from city centre</td>\n",
       "      <td>8.2</td>\n",
       "      <td>(173)</td>\n",
       "      <td>₹10,543</td>\n",
       "      <td>Privates From\\n₹10,543</td>\n",
       "    </tr>\n",
       "    <tr>\n",
       "      <th>15</th>\n",
       "      <td>Hanover Hotel</td>\n",
       "      <td>- 2.1km from city centre</td>\n",
       "      <td>6.1</td>\n",
       "      <td>(2540)</td>\n",
       "      <td>No Dorms Available</td>\n",
       "      <td>No Dorms Available</td>\n",
       "    </tr>\n",
       "    <tr>\n",
       "      <th>16</th>\n",
       "      <td>MacDonald Hotel</td>\n",
       "      <td>- 3.3km from city centre</td>\n",
       "      <td>4.9</td>\n",
       "      <td>(268)</td>\n",
       "      <td>₹13,285\\n₹10,628</td>\n",
       "      <td>-20%\\nPrivates From\\n₹13,285\\n₹10,628</td>\n",
       "    </tr>\n",
       "    <tr>\n",
       "      <th>17</th>\n",
       "      <td>Queen Elizabeth Chelsea</td>\n",
       "      <td>- 5.7km from city centre</td>\n",
       "      <td>5.6</td>\n",
       "      <td>(50)</td>\n",
       "      <td>No Dorms Available</td>\n",
       "      <td>No Dorms Available</td>\n",
       "    </tr>\n",
       "  </tbody>\n",
       "</table>\n",
       "</div>"
      ],
      "text/plain": [
       "                    Property_Name                   Distance Rating  \\\n",
       "0                      Park Hotel   - 4.9km from city centre    8.6   \n",
       "1                23 Matheson Road   - 6.2km from city centre    5.1   \n",
       "2                  Colliers Hotel   - 2.1km from city centre     10   \n",
       "3         Litsa's Central Studios   - 4.3km from city centre    7.6   \n",
       "4                    Beaconsfield   - 8.6km from city centre    6.7   \n",
       "5               Mornington Camden   - 4.1km from city centre    7.7   \n",
       "6                       Kip Hotel   - 6.8km from city centre    5.1   \n",
       "7   Airways Hotel Victoria London   - 2.1km from city centre    4.2   \n",
       "8     Hotel Shepherds Bush London   - 7.6km from city centre    9.7   \n",
       "9           Hyde Park Court Hotel   - 4.3km from city centre    2.0   \n",
       "10            The W14 Hotel & Bar   - 6.5km from city centre     10   \n",
       "11               Aron Guest House  - 13.1km from city centre     10   \n",
       "12                  Fairway Hotel   - 3.3km from city centre    7.4   \n",
       "13            Britannia Inn Hotel  - 14.5km from city centre    4.7   \n",
       "14                Cranbrook Hotel  - 14.8km from city centre    8.2   \n",
       "15                  Hanover Hotel   - 2.1km from city centre    6.1   \n",
       "16                MacDonald Hotel   - 3.3km from city centre    4.9   \n",
       "17        Queen Elizabeth Chelsea   - 5.7km from city centre    5.6   \n",
       "\n",
       "   Overall_Reviews         Privates_price  \\\n",
       "0             (10)                ₹11,703   \n",
       "1              (9)     No Dorms Available   \n",
       "2              (1)                 ₹5,061   \n",
       "3             (30)     No Dorms Available   \n",
       "4             (56)                 ₹6,748   \n",
       "5             (55)     No Dorms Available   \n",
       "6              (1)                ₹19,822   \n",
       "7            (139)     No Dorms Available   \n",
       "8            (283)                 ₹6,221   \n",
       "9             (27)     No Dorms Available   \n",
       "10            (23)  No Privates Available   \n",
       "11           (258)                 ₹5,166   \n",
       "12          (3533)                 ₹8,962   \n",
       "13           (366)     No Dorms Available   \n",
       "14           (173)                ₹10,543   \n",
       "15          (2540)     No Dorms Available   \n",
       "16           (268)       ₹13,285\\n₹10,628   \n",
       "17            (50)     No Dorms Available   \n",
       "\n",
       "                              Dorms_price  \n",
       "0                  Privates From\\n₹11,703  \n",
       "1                      No Dorms Available  \n",
       "2                   Privates From\\n₹5,061  \n",
       "3                      No Dorms Available  \n",
       "4                   Privates From\\n₹6,748  \n",
       "5                      No Dorms Available  \n",
       "6                  Privates From\\n₹19,822  \n",
       "7                      No Dorms Available  \n",
       "8                   Privates From\\n₹6,221  \n",
       "9                      No Dorms Available  \n",
       "10                  No Privates Available  \n",
       "11                     Dorms From\\n₹5,166  \n",
       "12                  Privates From\\n₹8,962  \n",
       "13                     No Dorms Available  \n",
       "14                 Privates From\\n₹10,543  \n",
       "15                     No Dorms Available  \n",
       "16  -20%\\nPrivates From\\n₹13,285\\n₹10,628  \n",
       "17                     No Dorms Available  "
      ]
     },
     "execution_count": 90,
     "metadata": {},
     "output_type": "execute_result"
    }
   ],
   "source": [
    "import pandas as pd\n",
    "df=pd.DataFrame({'Property_Name':property_name,'Distance':distance,'Rating':rating, 'Overall_Reviews':overall_reviews,'Privates_price':privates_price,'Dorms_price':dorms_price})\n",
    "df"
   ]
  },
  {
   "cell_type": "code",
   "execution_count": null,
   "id": "e931ee69-8158-4fc2-b384-436027d03cf1",
   "metadata": {
    "tags": []
   },
   "outputs": [],
   "source": [
    "from selenium import webdriver\n",
    "from selenium.webdriver.common.by import By\n",
    "from selenium.webdriver.common.keys import Keys\n",
    "from selenium.webdriver.common.action_chains import ActionChains\n",
    "from selenium.webdriver.support.ui import WebDriverWait\n",
    "from selenium.webdriver.support import expected_conditions as EC\n",
    "from selenium.common.exceptions import TimeoutException, NoSuchElementException\n",
    "\n",
    "# Configure Chrome options\n",
    "options = webdriver.ChromeOptions()\n",
    "options.add_argument('--headless')  # Run in headless mode\n",
    "options.add_argument('--disable-gpu')\n",
    "options.add_argument('--no-sandbox')\n",
    "\n",
    "# Initialize Chrome driver\n",
    "driver = webdriver.Chrome(options=options)\n",
    "\n",
    "try:\n",
    "    # Navigate to the website\n",
    "    url = 'https://www.hostelworld.com/'\n",
    "    driver.get(url)\n",
    "\n",
    "    # Locate the search input field and enter \"London\"\n",
    "    search_input = driver.find_element(By.XPATH,'/html/body/div[3]/div/div/div[2]/div[2]/div[2]/div/div/div/div[1]/div[1]/div/div[2]/input')\n",
    "    search_input.send_keys('London')\n",
    "    search_input.send_keys(Keys.RETURN)\n",
    "\n",
    "    # Scroll down to load more content\n",
    "    while True:\n",
    "        try:\n",
    "            # Scroll down to load more content\n",
    "            driver.execute_script(\"window.scrollTo(0, document.body.scrollHeight);\")\n",
    "            \n",
    "            # Wait for the new content to load\n",
    "            WebDriverWait(driver, 10).until(EC.invisibility_of_element_located((By.CLASS_NAME, 'lazyloading')))\n",
    "        except TimeoutException:\n",
    "            break\n",
    "\n",
    "    # Get the list of property description elements\n",
    "    property_descriptions = driver.find_elements(By.CLASS_NAME, 'content')\n",
    "\n",
    "    # Scrape and print property descriptions\n",
    "    for description in property_descriptions:\n",
    "        try:\n",
    "            description_text = description.text\n",
    "            print(description_text)\n",
    "            print('-' * 50)\n",
    "        except Exception as e:\n",
    "            print(\"An error occurred while scraping:\", e)\n",
    "\n",
    "except Exception as e:\n",
    "    print(\"An error occurred:\", e)\n",
    "\n",
    "finally:\n",
    "    # Close the browser\n",
    "    driver.quit()"
   ]
  },
  {
   "cell_type": "markdown",
   "id": "161012ff-3f47-4d25-aca5-a11eddc4052d",
   "metadata": {},
   "source": [
    "END OF QUESTION 9"
   ]
  },
  {
   "cell_type": "markdown",
   "id": "c89955d3-e109-4a60-9b35-d00f227999ef",
   "metadata": {},
   "source": [
    "END OF ASSIGNMENT"
   ]
  }
 ],
 "metadata": {
  "kernelspec": {
   "display_name": "Python 3 (ipykernel)",
   "language": "python",
   "name": "python3"
  },
  "language_info": {
   "codemirror_mode": {
    "name": "ipython",
    "version": 3
   },
   "file_extension": ".py",
   "mimetype": "text/x-python",
   "name": "python",
   "nbconvert_exporter": "python",
   "pygments_lexer": "ipython3",
   "version": "3.11.3"
  }
 },
 "nbformat": 4,
 "nbformat_minor": 5
}

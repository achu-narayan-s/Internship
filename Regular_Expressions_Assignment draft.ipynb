{
  "nbformat": 4,
  "nbformat_minor": 0,
  "metadata": {
    "colab": {
      "provenance": [],
      "authorship_tag": "ABX9TyNtvgz0XDdR8y1eNZHe6Gms",
      "include_colab_link": true
    },
    "kernelspec": {
      "name": "python3",
      "display_name": "Python 3"
    },
    "language_info": {
      "name": "python"
    }
  },
  "cells": [
    {
      "cell_type": "markdown",
      "metadata": {
        "id": "view-in-github",
        "colab_type": "text"
      },
      "source": [
        "<a href=\"https://colab.research.google.com/github/achu-narayan-s/Internship/blob/main/Regular_Expressions_Assignment%20draft.ipynb\" target=\"_parent\"><img src=\"https://colab.research.google.com/assets/colab-badge.svg\" alt=\"Open In Colab\"/></a>"
      ]
    },
    {
      "cell_type": "markdown",
      "source": [
        "Pseudocode for solving problems\n",
        "\n",
        "1) import regex as re\n",
        "\n",
        "2) def function\n",
        "\n",
        "3) state the meta character pattern that needs to be matched with the string\n",
        "\n",
        "4) set boolean\n",
        "\n",
        "5) input string\n",
        "\n",
        "6) if, else loop to see if the input string matches with the pattern\n",
        "\n",
        "7) enter string\n",
        "\n",
        "8) get output"
      ],
      "metadata": {
        "id": "coSTpmQERnci"
      }
    },
    {
      "cell_type": "markdown",
      "source": [
        "Metacharacters used-\n",
        "\n",
        ". (dot): Matches any character except a newline character (\\n).\n",
        "\n",
        "^ (caret): Matches the start of a string or the start of a line (when used with the re.MULTILINE flag).\n",
        "\n",
        "$ (dollar sign): Matches the end of a string or the end of a line (when used with the re.MULTILINE flag).\n",
        "\n",
        "* (asterisk): Matches zero or more occurrences of the preceding element.\n",
        "\n",
        "+ (plus): Matches one or more occurrences of the preceding element.\n",
        "\n",
        "? (question mark): Matches zero or one occurrence of the preceding element.\n",
        "\n",
        "{} (curly braces): Specifies a range or exact number of occurrences of the preceding element.\n",
        "\n",
        "[] (square brackets): Defines a character set, matches any one character from the set.\n",
        "\n",
        "() (parentheses): Groups and captures elements, or creates a subpattern.\n",
        "\n",
        "| (pipe): Acts as an OR operator, matches either the expression before or after the pipe.\n",
        "\n",
        "\\ (backslash): Escapes special characters or indicates a special sequence.\n",
        "\n",
        "\\A (backslash A): Matches the start of a string.\n",
        "\n",
        "\\b (backslash b): Matches a word boundary.\n",
        "\n",
        "\\B (backslash B): Matches a non-word boundary.\n",
        "\n",
        "\\d (backslash d): Matches any decimal digit (0-9).\n",
        "\n",
        "\\D (backslash D): Matches any non-digit character.\n",
        "\n",
        "\\s (backslash s): Matches any whitespace character.\n",
        "\n",
        "\\S (backslash S): Matches any non-whitespace character.\n",
        "\n",
        "\\w (backslash w): Matches any alphanumeric character (word character).\n",
        "\n",
        "\\W (backslash W): Matches any non-alphanumeric character (non-word character).\n",
        "\n",
        "\\Z (backslash Z): Matches the end of a string."
      ],
      "metadata": {
        "id": "MQyvXuwGCLuM"
      }
    },
    {
      "cell_type": "markdown",
      "source": [
        "Functions used-\n",
        "\n",
        "re.match(pattern, string, flags=0): Attempts to match the pattern at the beginning of the string. Returns a match object if successful, or None otherwise.\n",
        "\n",
        "re.search(pattern, string, flags=0): Searches for a match of the pattern anywhere in the string. Returns a match object if a match is found, or None otherwise.\n",
        "\n",
        "re.findall(pattern, string, flags=0): Returns all non-overlapping matches of the pattern in the string as a list of strings.\n",
        "\n",
        "re.finditer(pattern, string, flags=0): Returns an iterator yielding match objects for all non-overlapping matches of the pattern in the string.\n",
        "\n",
        "re.sub(pattern, repl, string, count=0, flags=0): Returns a new string where all occurrences of the pattern in the string are replaced with the repl string (or the result of a callable).\n",
        "\n",
        "re.split(pattern, string, maxsplit=0, flags=0): Splits the string by the occurrences of the pattern and returns a list of substrings.\n",
        "\n",
        "re.compile(pattern, flags=0): Compiles the pattern into a regex object for reuse. Allows you to precompile the pattern and use it with various regex functions."
      ],
      "metadata": {
        "id": "ZgcMvX-hDRdT"
      }
    },
    {
      "cell_type": "markdown",
      "source": [
        "Operators used-\n",
        "\n",
        "1) in operator to check if each literal is present in the input text.\n",
        "\n",
        "2) with operator\n",
        "\n",
        "3) if\n",
        "\n",
        "4) else\n",
        "\n",
        "5) as\n",
        "\n",
        "6) for\n",
        "\n",
        "7) return\n",
        "\n",
        "\n"
      ],
      "metadata": {
        "id": "qaTUtmOpEndu"
      }
    },
    {
      "cell_type": "markdown",
      "source": [
        "\n",
        "Question 1- Write a Python program to check that a string contains only a certain set of characters (in this case a-z, A-Z and 0-9).\n"
      ],
      "metadata": {
        "id": "JTmq1cNXcslY"
      }
    },
    {
      "cell_type": "code",
      "execution_count": 24,
      "metadata": {
        "colab": {
          "base_uri": "https://localhost:8080/"
        },
        "id": "c4AXAAemXmon",
        "outputId": "96b50293-a647-4ded-860d-d56ac4747f7d"
      },
      "outputs": [
        {
          "output_type": "stream",
          "name": "stdout",
          "text": [
            "Help on package regex:\n",
            "\n",
            "NAME\n",
            "    regex - Support for regular expressions (RE).\n",
            "\n",
            "DESCRIPTION\n",
            "    This module provides regular expression matching operations similar to those\n",
            "    found in Perl. It supports both 8-bit and Unicode strings; both the pattern and\n",
            "    the strings being processed can contain null bytes and characters outside the\n",
            "    US ASCII range.\n",
            "    \n",
            "    Regular expressions can contain both special and ordinary characters. Most\n",
            "    ordinary characters, like \"A\", \"a\", or \"0\", are the simplest regular\n",
            "    expressions; they simply match themselves. You can concatenate ordinary\n",
            "    characters, so last matches the string 'last'.\n",
            "    \n",
            "    There are a few differences between the old (legacy) behaviour and the new\n",
            "    (enhanced) behaviour, which are indicated by VERSION0 or VERSION1.\n",
            "    \n",
            "    The special characters are:\n",
            "        \".\"                 Matches any character except a newline.\n",
            "        \"^\"                 Matches the start of the string.\n",
            "        \"$\"                 Matches the end of the string or just before the\n",
            "                            newline at the end of the string.\n",
            "        \"*\"                 Matches 0 or more (greedy) repetitions of the preceding\n",
            "                            RE. Greedy means that it will match as many repetitions\n",
            "                            as possible.\n",
            "        \"+\"                 Matches 1 or more (greedy) repetitions of the preceding\n",
            "                            RE.\n",
            "        \"?\"                 Matches 0 or 1 (greedy) of the preceding RE.\n",
            "        *?,+?,??            Non-greedy versions of the previous three special\n",
            "                            characters.\n",
            "        *+,++,?+            Possessive versions of the previous three special\n",
            "                            characters.\n",
            "        {m,n}               Matches from m to n repetitions of the preceding RE.\n",
            "        {m,n}?              Non-greedy version of the above.\n",
            "        {m,n}+              Possessive version of the above.\n",
            "        {...}               Fuzzy matching constraints.\n",
            "        \"\\\\\"                Either escapes special characters or signals a special\n",
            "                            sequence.\n",
            "        [...]               Indicates a set of characters. A \"^\" as the first\n",
            "                            character indicates a complementing set.\n",
            "        \"|\"                 A|B, creates an RE that will match either A or B.\n",
            "        (...)               Matches the RE inside the parentheses. The contents are\n",
            "                            captured and can be retrieved or matched later in the\n",
            "                            string.\n",
            "        (?flags-flags)      VERSION1: Sets/clears the flags for the remainder of\n",
            "                            the group or pattern; VERSION0: Sets the flags for the\n",
            "                            entire pattern.\n",
            "        (?:...)             Non-capturing version of regular parentheses.\n",
            "        (?>...)             Atomic non-capturing version of regular parentheses.\n",
            "        (?flags-flags:...)  Non-capturing version of regular parentheses with local\n",
            "                            flags.\n",
            "        (?P<name>...)       The substring matched by the group is accessible by\n",
            "                            name.\n",
            "        (?<name>...)        The substring matched by the group is accessible by\n",
            "                            name.\n",
            "        (?P=name)           Matches the text matched earlier by the group named\n",
            "                            name.\n",
            "        (?#...)             A comment; ignored.\n",
            "        (?=...)             Matches if ... matches next, but doesn't consume the\n",
            "                            string.\n",
            "        (?!...)             Matches if ... doesn't match next.\n",
            "        (?<=...)            Matches if preceded by ....\n",
            "        (?<!...)            Matches if not preceded by ....\n",
            "        (?(id)yes|no)       Matches yes pattern if group id matched, the (optional)\n",
            "                            no pattern otherwise.\n",
            "        (?(DEFINE)...)      If there's no group called \"DEFINE\", then ... will be\n",
            "                            ignored, but any group definitions will be available.\n",
            "        (?|...|...)         (?|A|B), creates an RE that will match either A or B,\n",
            "                            but reuses capture group numbers across the\n",
            "                            alternatives.\n",
            "        (*FAIL)             Forces matching to fail, which means immediate\n",
            "                            backtracking.\n",
            "        (*F)                Abbreviation for (*FAIL).\n",
            "        (*PRUNE)            Discards the current backtracking information. Its\n",
            "                            effect doesn't extend outside an atomic group or a\n",
            "                            lookaround.\n",
            "        (*SKIP)             Similar to (*PRUNE), except that it also sets where in\n",
            "                            the text the next attempt at matching the entire\n",
            "                            pattern will start. Its effect doesn't extend outside\n",
            "                            an atomic group or a lookaround.\n",
            "    \n",
            "    The fuzzy matching constraints are: \"i\" to permit insertions, \"d\" to permit\n",
            "    deletions, \"s\" to permit substitutions, \"e\" to permit any of these. Limits are\n",
            "    optional with \"<=\" and \"<\". If any type of error is provided then any type not\n",
            "    provided is not permitted.\n",
            "    \n",
            "    A cost equation may be provided.\n",
            "    \n",
            "    Examples:\n",
            "        (?:fuzzy){i<=2}\n",
            "        (?:fuzzy){i<=1,s<=2,d<=1,1i+1s+1d<3}\n",
            "    \n",
            "    VERSION1: Set operators are supported, and a set can include nested sets. The\n",
            "    set operators, in order of increasing precedence, are:\n",
            "        ||  Set union (\"x||y\" means \"x or y\").\n",
            "        ~~  (double tilde) Symmetric set difference (\"x~~y\" means \"x or y, but not\n",
            "            both\").\n",
            "        &&  Set intersection (\"x&&y\" means \"x and y\").\n",
            "        --  (double dash) Set difference (\"x--y\" means \"x but not y\").\n",
            "    \n",
            "    Implicit union, ie, simple juxtaposition like in [ab], has the highest\n",
            "    precedence.\n",
            "    \n",
            "    VERSION0 and VERSION1:\n",
            "    The special sequences consist of \"\\\\\" and a character from the list below. If\n",
            "    the ordinary character is not on the list, then the resulting RE will match the\n",
            "    second character.\n",
            "        \\number         Matches the contents of the group of the same number if\n",
            "                        number is no more than 2 digits, otherwise the character\n",
            "                        with the 3-digit octal code.\n",
            "        \\a              Matches the bell character.\n",
            "        \\A              Matches only at the start of the string.\n",
            "        \\b              Matches the empty string, but only at the start or end of a\n",
            "                        word.\n",
            "        \\B              Matches the empty string, but not at the start or end of a\n",
            "                        word.\n",
            "        \\d              Matches any decimal digit; equivalent to the set [0-9] when\n",
            "                        matching a bytestring or a Unicode string with the ASCII\n",
            "                        flag, or the whole range of Unicode digits when matching a\n",
            "                        Unicode string.\n",
            "        \\D              Matches any non-digit character; equivalent to [^\\d].\n",
            "        \\f              Matches the formfeed character.\n",
            "        \\g<name>        Matches the text matched by the group named name.\n",
            "        \\G              Matches the empty string, but only at the position where\n",
            "                        the search started.\n",
            "        \\h              Matches horizontal whitespace.\n",
            "        \\K              Keeps only what follows for the entire match.\n",
            "        \\L<name>        Named list. The list is provided as a keyword argument.\n",
            "        \\m              Matches the empty string, but only at the start of a word.\n",
            "        \\M              Matches the empty string, but only at the end of a word.\n",
            "        \\n              Matches the newline character.\n",
            "        \\N{name}        Matches the named character.\n",
            "        \\p{name=value}  Matches the character if its property has the specified\n",
            "                        value.\n",
            "        \\P{name=value}  Matches the character if its property hasn't the specified\n",
            "                        value.\n",
            "        \\r              Matches the carriage-return character.\n",
            "        \\s              Matches any whitespace character; equivalent to\n",
            "                        [ \\t\\n\\r\\f\\v].\n",
            "        \\S              Matches any non-whitespace character; equivalent to [^\\s].\n",
            "        \\t              Matches the tab character.\n",
            "        \\uXXXX          Matches the Unicode codepoint with 4-digit hex code XXXX.\n",
            "        \\UXXXXXXXX      Matches the Unicode codepoint with 8-digit hex code\n",
            "                        XXXXXXXX.\n",
            "        \\v              Matches the vertical tab character.\n",
            "        \\w              Matches any alphanumeric character; equivalent to\n",
            "                        [a-zA-Z0-9_] when matching a bytestring or a Unicode string\n",
            "                        with the ASCII flag, or the whole range of Unicode\n",
            "                        alphanumeric characters (letters plus digits plus\n",
            "                        underscore) when matching a Unicode string. With LOCALE, it\n",
            "                        will match the set [0-9_] plus characters defined as\n",
            "                        letters for the current locale.\n",
            "        \\W              Matches the complement of \\w; equivalent to [^\\w].\n",
            "        \\xXX            Matches the character with 2-digit hex code XX.\n",
            "        \\X              Matches a grapheme.\n",
            "        \\Z              Matches only at the end of the string.\n",
            "        \\\\              Matches a literal backslash.\n",
            "    \n",
            "    This module exports the following functions:\n",
            "        match      Match a regular expression pattern at the beginning of a string.\n",
            "        fullmatch  Match a regular expression pattern against all of a string.\n",
            "        search     Search a string for the presence of a pattern.\n",
            "        sub        Substitute occurrences of a pattern found in a string using a\n",
            "                   template string.\n",
            "        subf       Substitute occurrences of a pattern found in a string using a\n",
            "                   format string.\n",
            "        subn       Same as sub, but also return the number of substitutions made.\n",
            "        subfn      Same as subf, but also return the number of substitutions made.\n",
            "        split      Split a string by the occurrences of a pattern. VERSION1: will\n",
            "                   split at zero-width match; VERSION0: won't split at zero-width\n",
            "                   match.\n",
            "        splititer  Return an iterator yielding the parts of a split string.\n",
            "        findall    Find all occurrences of a pattern in a string.\n",
            "        finditer   Return an iterator yielding a match object for each match.\n",
            "        compile    Compile a pattern into a Pattern object.\n",
            "        purge      Clear the regular expression cache.\n",
            "        escape     Backslash all non-alphanumerics or special characters in a\n",
            "                   string.\n",
            "    \n",
            "    Most of the functions support a concurrent parameter: if True, the GIL will be\n",
            "    released during matching, allowing other Python threads to run concurrently. If\n",
            "    the string changes during matching, the behaviour is undefined. This parameter\n",
            "    is not needed when working on the builtin (immutable) string classes.\n",
            "    \n",
            "    Some of the functions in this module take flags as optional parameters. Most of\n",
            "    these flags can also be set within an RE:\n",
            "        A   a   ASCII         Make \\w, \\W, \\b, \\B, \\d, and \\D match the\n",
            "                              corresponding ASCII character categories. Default\n",
            "                              when matching a bytestring.\n",
            "        B   b   BESTMATCH     Find the best fuzzy match (default is first).\n",
            "        D       DEBUG         Print the parsed pattern.\n",
            "        E   e   ENHANCEMATCH  Attempt to improve the fit after finding the first\n",
            "                              fuzzy match.\n",
            "        F   f   FULLCASE      Use full case-folding when performing\n",
            "                              case-insensitive matching in Unicode.\n",
            "        I   i   IGNORECASE    Perform case-insensitive matching.\n",
            "        L   L   LOCALE        Make \\w, \\W, \\b, \\B, \\d, and \\D dependent on the\n",
            "                              current locale. (One byte per character only.)\n",
            "        M   m   MULTILINE     \"^\" matches the beginning of lines (after a newline)\n",
            "                              as well as the string. \"$\" matches the end of lines\n",
            "                              (before a newline) as well as the end of the string.\n",
            "        P   p   POSIX         Perform POSIX-standard matching (leftmost longest).\n",
            "        R   r   REVERSE       Searches backwards.\n",
            "        S   s   DOTALL        \".\" matches any character at all, including the\n",
            "                              newline.\n",
            "        U   u   UNICODE       Make \\w, \\W, \\b, \\B, \\d, and \\D dependent on the\n",
            "                              Unicode locale. Default when matching a Unicode\n",
            "                              string.\n",
            "        V0  V0  VERSION0      Turn on the old legacy behaviour.\n",
            "        V1  V1  VERSION1      Turn on the new enhanced behaviour. This flag\n",
            "                              includes the FULLCASE flag.\n",
            "        W   w   WORD          Make \\b and \\B work with default Unicode word breaks\n",
            "                              and make \".\", \"^\" and \"$\" work with Unicode line\n",
            "                              breaks.\n",
            "        X   x   VERBOSE       Ignore whitespace and comments for nicer looking REs.\n",
            "    \n",
            "    This module also defines an exception 'error'.\n",
            "\n",
            "PACKAGE CONTENTS\n",
            "    _regex\n",
            "    _regex_core\n",
            "    regex\n",
            "    test_regex\n",
            "\n",
            "CLASSES\n",
            "    builtins.Exception(builtins.BaseException)\n",
            "        regex._regex_core.error\n",
            "    builtins.object\n",
            "        _regex.Match\n",
            "        _regex.Pattern\n",
            "        regex._regex_core.Scanner\n",
            "    enum.IntFlag(builtins.int, enum.Flag)\n",
            "        regex._regex_core.RegexFlag\n",
            "    \n",
            "    class Match(builtins.object)\n",
            "     |  Match object\n",
            "     |  \n",
            "     |  Methods defined here:\n",
            "     |  \n",
            "     |  __copy__(...)\n",
            "     |  \n",
            "     |  __deepcopy__(...)\n",
            "     |  \n",
            "     |  __getitem__(...)\n",
            "     |  \n",
            "     |  __len__(self, /)\n",
            "     |      Return len(self).\n",
            "     |  \n",
            "     |  __repr__(self, /)\n",
            "     |      Return repr(self).\n",
            "     |  \n",
            "     |  allcaptures(...)\n",
            "     |      allcaptures() --> list of strings or tuple of list of strings.\n",
            "     |      Return the captures of all the groups of the match and the whole match.\n",
            "     |  \n",
            "     |  allspans(...)\n",
            "     |      allspans() --> list of 2-tuple of ints or tuple of list of 2-tuple of ints.\n",
            "     |      Return the spans (a 2-tuple of the indices of the start and end) of all the\n",
            "     |      captures of all the groups of the match and the whole match.\n",
            "     |  \n",
            "     |  captures(...)\n",
            "     |      captures([group1, ...]) --> list of strings or tuple of list of strings.\n",
            "     |      Return the captures of one or more subgroups of the match.  If there is a\n",
            "     |      single argument, the result is a list of strings; if there are multiple\n",
            "     |      arguments, the result is a tuple of lists with one item per argument; if\n",
            "     |      there are no arguments, the captures of the whole match is returned.  Group\n",
            "     |      0 is the whole match.\n",
            "     |  \n",
            "     |  capturesdict(...)\n",
            "     |      capturesdict() --> dict.\n",
            "     |      Return a dictionary containing the captures of all the named subgroups of the\n",
            "     |      match, keyed by the subgroup name.\n",
            "     |  \n",
            "     |  detach_string(...)\n",
            "     |      detach_string()\n",
            "     |      Detaches the target string from the match object. The 'string' attribute\n",
            "     |      will become None.\n",
            "     |  \n",
            "     |  end(...)\n",
            "     |      end([group1, ...]) --> int or tuple of ints.\n",
            "     |      Return the index of the end of one or more subgroups of the match.  If there\n",
            "     |      is a single argument, the result is an index, or -1 if the group did not\n",
            "     |      contribute to the match; if there are multiple arguments, the result is a\n",
            "     |      tuple with one item per argument; if there are no arguments, the index of\n",
            "     |      the end of the whole match is returned.  Group 0 is the whole match.\n",
            "     |  \n",
            "     |  ends(...)\n",
            "     |      ends([group1, ...]) --> list of ints or tuple of list of ints.\n",
            "     |      Return the indices of the ends of the captures of one or more subgroups of\n",
            "     |      the match.  If there is a single argument, the result is a list of indices;\n",
            "     |      if there are multiple arguments, the result is a tuple of lists with one\n",
            "     |      item per argument; if there are no arguments, the indices of the ends of the\n",
            "     |      captures of the whole match is returned.  Group 0 is the whole match.\n",
            "     |  \n",
            "     |  expand(...)\n",
            "     |      expand(template) --> string.\n",
            "     |      Return the string obtained by doing backslash substitution on the template,\n",
            "     |      as done by the sub() method.\n",
            "     |  \n",
            "     |  expandf(...)\n",
            "     |      expandf(format) --> string.\n",
            "     |      Return the string obtained by using the format, as done by the subf()\n",
            "     |      method.\n",
            "     |  \n",
            "     |  group(...)\n",
            "     |      group([group1, ...]) --> string or tuple of strings.\n",
            "     |      Return one or more subgroups of the match.  If there is a single argument,\n",
            "     |      the result is a single string, or None if the group did not contribute to\n",
            "     |      the match; if there are multiple arguments, the result is a tuple with one\n",
            "     |      item per argument; if there are no arguments, the whole match is returned.\n",
            "     |      Group 0 is the whole match.\n",
            "     |  \n",
            "     |  groupdict(...)\n",
            "     |      groupdict(default=None) --> dict.\n",
            "     |      Return a dictionary containing all the named subgroups of the match, keyed\n",
            "     |      by the subgroup name.  The argument is the value to be given for groups that\n",
            "     |      did not participate in the match.\n",
            "     |  \n",
            "     |  groups(...)\n",
            "     |      groups(default=None) --> tuple of strings.\n",
            "     |      Return a tuple containing all the subgroups of the match.  The argument is\n",
            "     |      the default for groups that did not participate in the match.\n",
            "     |  \n",
            "     |  span(...)\n",
            "     |      span([group1, ...]) --> 2-tuple of int or tuple of 2-tuple of ints.\n",
            "     |      Return the span (a 2-tuple of the indices of the start and end) of one or\n",
            "     |      more subgroups of the match.  If there is a single argument, the result is a\n",
            "     |      span, or (-1, -1) if the group did not contribute to the match; if there are\n",
            "     |      multiple arguments, the result is a tuple with one item per argument; if\n",
            "     |      there are no arguments, the span of the whole match is returned.  Group 0 is\n",
            "     |      the whole match.\n",
            "     |  \n",
            "     |  spans(...)\n",
            "     |      spans([group1, ...]) --> list of 2-tuple of ints or tuple of list of 2-tuple of ints.\n",
            "     |      Return the spans (a 2-tuple of the indices of the start and end) of the\n",
            "     |      captures of one or more subgroups of the match.  If there is a single\n",
            "     |      argument, the result is a list of spans; if there are multiple arguments,\n",
            "     |      the result is a tuple of lists with one item per argument; if there are no\n",
            "     |      arguments, the spans of the captures of the whole match is returned.  Group\n",
            "     |      0 is the whole match.\n",
            "     |  \n",
            "     |  start(...)\n",
            "     |      start([group1, ...]) --> int or tuple of ints.\n",
            "     |      Return the index of the start of one or more subgroups of the match.  If\n",
            "     |      there is a single argument, the result is an index, or -1 if the group did\n",
            "     |      not contribute to the match; if there are multiple arguments, the result is\n",
            "     |      a tuple with one item per argument; if there are no arguments, the index of\n",
            "     |      the start of the whole match is returned.  Group 0 is the whole match.\n",
            "     |  \n",
            "     |  starts(...)\n",
            "     |      starts([group1, ...]) --> list of ints or tuple of list of ints.\n",
            "     |      Return the indices of the starts of the captures of one or more subgroups of\n",
            "     |      the match.  If there is a single argument, the result is a list of indices;\n",
            "     |      if there are multiple arguments, the result is a tuple of lists with one\n",
            "     |      item per argument; if there are no arguments, the indices of the starts of\n",
            "     |      the captures of the whole match is returned.  Group 0 is the whole match.\n",
            "     |  \n",
            "     |  ----------------------------------------------------------------------\n",
            "     |  Class methods defined here:\n",
            "     |  \n",
            "     |  __class_getitem__(...) from builtins.type\n",
            "     |      See PEP 585\n",
            "     |  \n",
            "     |  ----------------------------------------------------------------------\n",
            "     |  Data descriptors defined here:\n",
            "     |  \n",
            "     |  endpos\n",
            "     |      The final position beyond which the regex engine won't search.\n",
            "     |  \n",
            "     |  fuzzy_changes\n",
            "     |      A tuple of the positions of the substitutions, insertions and deletions.\n",
            "     |  \n",
            "     |  fuzzy_counts\n",
            "     |      A tuple of the number of substitutions, insertions and deletions.\n",
            "     |  \n",
            "     |  lastgroup\n",
            "     |      The name of the last matched capturing group, or None.\n",
            "     |  \n",
            "     |  lastindex\n",
            "     |      The group number of the last matched capturing group, or None.\n",
            "     |  \n",
            "     |  partial\n",
            "     |      Whether it's a partial match.\n",
            "     |  \n",
            "     |  pos\n",
            "     |      The position at which the regex engine starting searching.\n",
            "     |  \n",
            "     |  re\n",
            "     |      The regex object that produced this match object.\n",
            "     |  \n",
            "     |  regs\n",
            "     |      A tuple of the spans of the capturing groups.\n",
            "     |  \n",
            "     |  string\n",
            "     |      The string that was searched, or None if it has been detached.\n",
            "    \n",
            "    class Pattern(builtins.object)\n",
            "     |  Compiled regex object\n",
            "     |  \n",
            "     |  Methods defined here:\n",
            "     |  \n",
            "     |  __copy__(...)\n",
            "     |  \n",
            "     |  __deepcopy__(...)\n",
            "     |  \n",
            "     |  __repr__(self, /)\n",
            "     |      Return repr(self).\n",
            "     |  \n",
            "     |  __sizeof__(...)\n",
            "     |      Size of object in memory, in bytes.\n",
            "     |  \n",
            "     |  findall(...)\n",
            "     |      findall(string, pos=None, endpos=None, overlapped=False, concurrent=None, timeout=None) --> list.\n",
            "     |      Return a list of all matches of pattern in string.  The matches may be\n",
            "     |      overlapped if overlapped is True.\n",
            "     |  \n",
            "     |  finditer(...)\n",
            "     |      finditer(string, pos=None, endpos=None, overlapped=False, concurrent=None, timeout=None) --> iterator.\n",
            "     |      Return an iterator over all matches for the RE pattern in string.  The\n",
            "     |      matches may be overlapped if overlapped is True.  For each match, the\n",
            "     |      iterator returns a MatchObject.\n",
            "     |  \n",
            "     |  fullmatch(...)\n",
            "     |      fullmatch(string, pos=None, endpos=None, concurrent=None, timeout=None) --> MatchObject or None.\n",
            "     |      Match zero or more characters against all of the string.\n",
            "     |  \n",
            "     |  match(...)\n",
            "     |      match(string, pos=None, endpos=None, concurrent=None, timeout=None) --> MatchObject or None.\n",
            "     |      Match zero or more characters at the beginning of the string.\n",
            "     |  \n",
            "     |  scanner(...)\n",
            "     |      scanner(string, pos=None, endpos=None, overlapped=False, concurrent=None, timeout=None) --> scanner.\n",
            "     |      Return an scanner for the RE pattern in string.  The matches may be overlapped\n",
            "     |      if overlapped is True.\n",
            "     |  \n",
            "     |  search(...)\n",
            "     |      search(string, pos=None, endpos=None, concurrent=None, timeout=None) --> MatchObject or None.\n",
            "     |      Search through string looking for a match, and return a corresponding\n",
            "     |      match object instance.  Return None if no match is found.\n",
            "     |  \n",
            "     |  split(...)\n",
            "     |      split(string, maxsplit=0, concurrent=None, timeout=None) --> list.\n",
            "     |      Split string by the occurrences of pattern.\n",
            "     |  \n",
            "     |  splititer(...)\n",
            "     |      splititer(string, maxsplit=0, concurrent=None, timeout=None) --> iterator.\n",
            "     |      Return an iterator yielding the parts of a split string.\n",
            "     |  \n",
            "     |  sub(...)\n",
            "     |      sub(repl, string, count=0, flags=0, pos=None, endpos=None, concurrent=None, timeout=None) --> newstring\n",
            "     |      Return the string obtained by replacing the leftmost (or rightmost with a\n",
            "     |      reverse pattern) non-overlapping occurrences of pattern in string by the\n",
            "     |      replacement repl.\n",
            "     |  \n",
            "     |  subf(...)\n",
            "     |      subf(format, string, count=0, flags=0, pos=None, endpos=None, concurrent=None, timeout=None) --> newstring\n",
            "     |      Return the string obtained by replacing the leftmost (or rightmost with a\n",
            "     |      reverse pattern) non-overlapping occurrences of pattern in string by the\n",
            "     |      replacement format.\n",
            "     |  \n",
            "     |  subfn(...)\n",
            "     |      subfn(format, string, count=0, flags=0, pos=None, endpos=None, concurrent=None, timeout=None) --> (newstring, number of subs)\n",
            "     |      Return the tuple (new_string, number_of_subs_made) found by replacing the\n",
            "     |      leftmost (or rightmost with a reverse pattern) non-overlapping occurrences\n",
            "     |      of pattern with the replacement format.\n",
            "     |  \n",
            "     |  subn(...)\n",
            "     |      subn(repl, string, count=0, flags=0, pos=None, endpos=None, concurrent=None, timeout=None) --> (newstring, number of subs)\n",
            "     |      Return the tuple (new_string, number_of_subs_made) found by replacing the\n",
            "     |      leftmost (or rightmost with a reverse pattern) non-overlapping occurrences\n",
            "     |      of pattern with the replacement repl.\n",
            "     |  \n",
            "     |  ----------------------------------------------------------------------\n",
            "     |  Class methods defined here:\n",
            "     |  \n",
            "     |  __class_getitem__(...) from builtins.type\n",
            "     |      See PEP 585\n",
            "     |  \n",
            "     |  ----------------------------------------------------------------------\n",
            "     |  Data descriptors defined here:\n",
            "     |  \n",
            "     |  flags\n",
            "     |      The regex matching flags.\n",
            "     |  \n",
            "     |  groupindex\n",
            "     |      A dictionary mapping group names to group numbers.\n",
            "     |  \n",
            "     |  groups\n",
            "     |      The number of capturing groups in the pattern.\n",
            "     |  \n",
            "     |  named_lists\n",
            "     |      The named lists used by the regex.\n",
            "     |  \n",
            "     |  pattern\n",
            "     |      The pattern string from which the regex object was compiled.\n",
            "    \n",
            "    class RegexFlag(enum.IntFlag)\n",
            "     |  RegexFlag(value, names=None, *, module=None, qualname=None, type=None, start=1)\n",
            "     |  \n",
            "     |  An enumeration.\n",
            "     |  \n",
            "     |  Method resolution order:\n",
            "     |      RegexFlag\n",
            "     |      enum.IntFlag\n",
            "     |      builtins.int\n",
            "     |      enum.Flag\n",
            "     |      enum.Enum\n",
            "     |      builtins.object\n",
            "     |  \n",
            "     |  Data and other attributes defined here:\n",
            "     |  \n",
            "     |  A = regex.A\n",
            "     |  \n",
            "     |  B = regex.B\n",
            "     |  \n",
            "     |  D = regex.D\n",
            "     |  \n",
            "     |  E = regex.E\n",
            "     |  \n",
            "     |  F = regex.F\n",
            "     |  \n",
            "     |  I = regex.I\n",
            "     |  \n",
            "     |  L = regex.L\n",
            "     |  \n",
            "     |  M = regex.M\n",
            "     |  \n",
            "     |  P = regex.P\n",
            "     |  \n",
            "     |  R = regex.R\n",
            "     |  \n",
            "     |  S = regex.S\n",
            "     |  \n",
            "     |  T = regex.T\n",
            "     |  \n",
            "     |  U = regex.U\n",
            "     |  \n",
            "     |  V0 = regex.V0\n",
            "     |  \n",
            "     |  V1 = regex.V1\n",
            "     |  \n",
            "     |  W = regex.W\n",
            "     |  \n",
            "     |  X = regex.X\n",
            "     |  \n",
            "     |  ----------------------------------------------------------------------\n",
            "     |  Data descriptors inherited from enum.Enum:\n",
            "     |  \n",
            "     |  name\n",
            "     |      The name of the Enum member.\n",
            "     |  \n",
            "     |  value\n",
            "     |      The value of the Enum member.\n",
            "     |  \n",
            "     |  ----------------------------------------------------------------------\n",
            "     |  Readonly properties inherited from enum.EnumMeta:\n",
            "     |  \n",
            "     |  __members__\n",
            "     |      Returns a mapping of member name->value.\n",
            "     |      \n",
            "     |      This mapping lists all enum members, including aliases. Note that this\n",
            "     |      is a read-only view of the internal mapping.\n",
            "    \n",
            "    class Scanner(builtins.object)\n",
            "     |  Scanner(lexicon, flags=0)\n",
            "     |  \n",
            "     |  Methods defined here:\n",
            "     |  \n",
            "     |  __init__(self, lexicon, flags=0)\n",
            "     |      Initialize self.  See help(type(self)) for accurate signature.\n",
            "     |  \n",
            "     |  scan(self, string)\n",
            "     |  \n",
            "     |  ----------------------------------------------------------------------\n",
            "     |  Data descriptors defined here:\n",
            "     |  \n",
            "     |  __dict__\n",
            "     |      dictionary for instance variables (if defined)\n",
            "     |  \n",
            "     |  __weakref__\n",
            "     |      list of weak references to the object (if defined)\n",
            "    \n",
            "    class error(builtins.Exception)\n",
            "     |  error(message, pattern=None, pos=None)\n",
            "     |  \n",
            "     |  Exception raised for invalid regular expressions.\n",
            "     |  \n",
            "     |  Attributes:\n",
            "     |  \n",
            "     |      msg: The unformatted error message\n",
            "     |      pattern: The regular expression pattern\n",
            "     |      pos: The position in the pattern where compilation failed, or None\n",
            "     |      lineno: The line number where compilation failed, unless pos is None\n",
            "     |      colno: The column number where compilation failed, unless pos is None\n",
            "     |  \n",
            "     |  Method resolution order:\n",
            "     |      error\n",
            "     |      builtins.Exception\n",
            "     |      builtins.BaseException\n",
            "     |      builtins.object\n",
            "     |  \n",
            "     |  Methods defined here:\n",
            "     |  \n",
            "     |  __init__(self, message, pattern=None, pos=None)\n",
            "     |      Initialize self.  See help(type(self)) for accurate signature.\n",
            "     |  \n",
            "     |  ----------------------------------------------------------------------\n",
            "     |  Data descriptors defined here:\n",
            "     |  \n",
            "     |  __weakref__\n",
            "     |      list of weak references to the object (if defined)\n",
            "     |  \n",
            "     |  ----------------------------------------------------------------------\n",
            "     |  Static methods inherited from builtins.Exception:\n",
            "     |  \n",
            "     |  __new__(*args, **kwargs) from builtins.type\n",
            "     |      Create and return a new object.  See help(type) for accurate signature.\n",
            "     |  \n",
            "     |  ----------------------------------------------------------------------\n",
            "     |  Methods inherited from builtins.BaseException:\n",
            "     |  \n",
            "     |  __delattr__(self, name, /)\n",
            "     |      Implement delattr(self, name).\n",
            "     |  \n",
            "     |  __getattribute__(self, name, /)\n",
            "     |      Return getattr(self, name).\n",
            "     |  \n",
            "     |  __reduce__(...)\n",
            "     |      Helper for pickle.\n",
            "     |  \n",
            "     |  __repr__(self, /)\n",
            "     |      Return repr(self).\n",
            "     |  \n",
            "     |  __setattr__(self, name, value, /)\n",
            "     |      Implement setattr(self, name, value).\n",
            "     |  \n",
            "     |  __setstate__(...)\n",
            "     |  \n",
            "     |  __str__(self, /)\n",
            "     |      Return str(self).\n",
            "     |  \n",
            "     |  with_traceback(...)\n",
            "     |      Exception.with_traceback(tb) --\n",
            "     |      set self.__traceback__ to tb and return self.\n",
            "     |  \n",
            "     |  ----------------------------------------------------------------------\n",
            "     |  Data descriptors inherited from builtins.BaseException:\n",
            "     |  \n",
            "     |  __cause__\n",
            "     |      exception cause\n",
            "     |  \n",
            "     |  __context__\n",
            "     |      exception context\n",
            "     |  \n",
            "     |  __dict__\n",
            "     |  \n",
            "     |  __suppress_context__\n",
            "     |  \n",
            "     |  __traceback__\n",
            "     |  \n",
            "     |  args\n",
            "\n",
            "FUNCTIONS\n",
            "    Regex = compile(pattern, flags=0, ignore_unused=False, cache_pattern=None, **kwargs)\n",
            "        Compile a regular expression pattern, returning a pattern object.\n",
            "    \n",
            "    cache_all(value=True)\n",
            "        Sets whether to cache all patterns, even those are compiled explicitly.\n",
            "        Passing None has no effect, but returns the current setting.\n",
            "    \n",
            "    compile(pattern, flags=0, ignore_unused=False, cache_pattern=None, **kwargs)\n",
            "        Compile a regular expression pattern, returning a pattern object.\n",
            "    \n",
            "    escape(pattern, special_only=True, literal_spaces=False)\n",
            "        Escape a string for use as a literal in a pattern. If special_only is\n",
            "        True, escape only special characters, else escape all non-alphanumeric\n",
            "        characters. If literal_spaces is True, don't escape spaces.\n",
            "    \n",
            "    findall(pattern, string, flags=0, pos=None, endpos=None, overlapped=False, concurrent=None, timeout=None, ignore_unused=False, **kwargs)\n",
            "        Return a list of all matches in the string. The matches may be overlapped\n",
            "        if overlapped is True. If one or more groups are present in the pattern,\n",
            "        return a list of groups; this will be a list of tuples if the pattern has\n",
            "        more than one group. Empty matches are included in the result.\n",
            "    \n",
            "    finditer(pattern, string, flags=0, pos=None, endpos=None, overlapped=False, partial=False, concurrent=None, timeout=None, ignore_unused=False, **kwargs)\n",
            "        Return an iterator over all matches in the string. The matches may be\n",
            "        overlapped if overlapped is True. For each match, the iterator returns a\n",
            "        match object. Empty matches are included in the result.\n",
            "    \n",
            "    fullmatch(pattern, string, flags=0, pos=None, endpos=None, partial=False, concurrent=None, timeout=None, ignore_unused=False, **kwargs)\n",
            "        Try to apply the pattern against all of the string, returning a match\n",
            "        object, or None if no match was found.\n",
            "    \n",
            "    match(pattern, string, flags=0, pos=None, endpos=None, partial=False, concurrent=None, timeout=None, ignore_unused=False, **kwargs)\n",
            "        Try to apply the pattern at the start of the string, returning a match\n",
            "        object, or None if no match was found.\n",
            "    \n",
            "    purge()\n",
            "        Clear the regular expression cache\n",
            "    \n",
            "    search(pattern, string, flags=0, pos=None, endpos=None, partial=False, concurrent=None, timeout=None, ignore_unused=False, **kwargs)\n",
            "        Search through string looking for a match to the pattern, returning a\n",
            "        match object, or None if no match was found.\n",
            "    \n",
            "    split(pattern, string, maxsplit=0, flags=0, concurrent=None, timeout=None, ignore_unused=False, **kwargs)\n",
            "        Split the source string by the occurrences of the pattern, returning a\n",
            "        list containing the resulting substrings.  If capturing parentheses are used\n",
            "        in pattern, then the text of all groups in the pattern are also returned as\n",
            "        part of the resulting list.  If maxsplit is nonzero, at most maxsplit splits\n",
            "        occur, and the remainder of the string is returned as the final element of\n",
            "        the list.\n",
            "    \n",
            "    splititer(pattern, string, maxsplit=0, flags=0, concurrent=None, timeout=None, ignore_unused=False, **kwargs)\n",
            "        Return an iterator yielding the parts of a split string.\n",
            "    \n",
            "    sub(pattern, repl, string, count=0, flags=0, pos=None, endpos=None, concurrent=None, timeout=None, ignore_unused=False, **kwargs)\n",
            "        Return the string obtained by replacing the leftmost (or rightmost with a\n",
            "        reverse pattern) non-overlapping occurrences of the pattern in string by the\n",
            "        replacement repl. repl can be either a string or a callable; if a string,\n",
            "        backslash escapes in it are processed; if a callable, it's passed the match\n",
            "        object and must return a replacement string to be used.\n",
            "    \n",
            "    subf(pattern, format, string, count=0, flags=0, pos=None, endpos=None, concurrent=None, timeout=None, ignore_unused=False, **kwargs)\n",
            "        Return the string obtained by replacing the leftmost (or rightmost with a\n",
            "        reverse pattern) non-overlapping occurrences of the pattern in string by the\n",
            "        replacement format. format can be either a string or a callable; if a string,\n",
            "        it's treated as a format string; if a callable, it's passed the match object\n",
            "        and must return a replacement string to be used.\n",
            "    \n",
            "    subfn(pattern, format, string, count=0, flags=0, pos=None, endpos=None, concurrent=None, timeout=None, ignore_unused=False, **kwargs)\n",
            "        Return a 2-tuple containing (new_string, number). new_string is the string\n",
            "        obtained by replacing the leftmost (or rightmost with a reverse pattern)\n",
            "        non-overlapping occurrences of the pattern in the source string by the\n",
            "        replacement format. number is the number of substitutions that were made. format\n",
            "        can be either a string or a callable; if a string, it's treated as a format\n",
            "        string; if a callable, it's passed the match object and must return a\n",
            "        replacement string to be used.\n",
            "    \n",
            "    subn(pattern, repl, string, count=0, flags=0, pos=None, endpos=None, concurrent=None, timeout=None, ignore_unused=False, **kwargs)\n",
            "        Return a 2-tuple containing (new_string, number). new_string is the string\n",
            "        obtained by replacing the leftmost (or rightmost with a reverse pattern)\n",
            "        non-overlapping occurrences of the pattern in the source string by the\n",
            "        replacement repl. number is the number of substitutions that were made. repl\n",
            "        can be either a string or a callable; if a string, backslash escapes in it\n",
            "        are processed; if a callable, it's passed the match object and must return a\n",
            "        replacement string to be used.\n",
            "    \n",
            "    template(pattern, flags=0)\n",
            "        Compile a template pattern, returning a pattern object.\n",
            "\n",
            "DATA\n",
            "    A = regex.A\n",
            "    ASCII = regex.A\n",
            "    B = regex.B\n",
            "    BESTMATCH = regex.B\n",
            "    D = regex.D\n",
            "    DEBUG = regex.D\n",
            "    DEFAULT_VERSION = regex.V0\n",
            "    DOTALL = regex.S\n",
            "    E = regex.E\n",
            "    ENHANCEMATCH = regex.E\n",
            "    F = regex.F\n",
            "    FULLCASE = regex.F\n",
            "    I = regex.I\n",
            "    IGNORECASE = regex.I\n",
            "    L = regex.L\n",
            "    LOCALE = regex.L\n",
            "    M = regex.M\n",
            "    MULTILINE = regex.M\n",
            "    P = regex.P\n",
            "    POSIX = regex.P\n",
            "    R = regex.R\n",
            "    REVERSE = regex.R\n",
            "    S = regex.S\n",
            "    T = regex.T\n",
            "    TEMPLATE = regex.T\n",
            "    U = regex.U\n",
            "    UNICODE = regex.U\n",
            "    V0 = regex.V0\n",
            "    V1 = regex.V1\n",
            "    VERBOSE = regex.X\n",
            "    VERSION0 = regex.V0\n",
            "    VERSION1 = regex.V1\n",
            "    W = regex.W\n",
            "    WORD = regex.W\n",
            "    X = regex.X\n",
            "    __all__ = ['cache_all', 'compile', 'DEFAULT_VERSION', 'escape', 'finda...\n",
            "\n",
            "VERSION\n",
            "    2.5.123\n",
            "\n",
            "FILE\n",
            "    /usr/local/lib/python3.10/dist-packages/regex/__init__.py\n",
            "\n",
            "\n",
            "None\n"
          ]
        }
      ],
      "source": [
        "import regex as re\n",
        "print (help(re))"
      ]
    },
    {
      "cell_type": "code",
      "source": [
        "def check_string_characters(string):\n",
        "    pattern = r'^[a-zA-Z0-9]+$'\n",
        "    if re.match(pattern, string):\n",
        "        return True\n",
        "    else:\n",
        "        return False\n",
        "\n",
        "input_string = input(\"Enter a string: \")\n",
        "if check_string_characters(input_string):\n",
        "    print(\"The string contains only a-z, A-Z, and 0-9 characters.\")\n",
        "else:\n",
        "    print(\"The string contains characters other than a-z, A-Z, and 0-9.\")"
      ],
      "metadata": {
        "colab": {
          "base_uri": "https://localhost:8080/"
        },
        "id": "u__Tyx3OcD6G",
        "outputId": "d8dc8045-2213-4332-ee1e-71e94308ebe6"
      },
      "execution_count": 11,
      "outputs": [
        {
          "output_type": "stream",
          "name": "stdout",
          "text": [
            "Enter a string: asdd\n",
            "The string contains only a-z, A-Z, and 0-9 characters.\n"
          ]
        }
      ]
    },
    {
      "cell_type": "markdown",
      "source": [
        "Question 2- Create a function in python that matches a string that has an a followed by zero or more b's"
      ],
      "metadata": {
        "id": "SpAgW7FAc-ve"
      }
    },
    {
      "cell_type": "code",
      "source": [
        "def match_string_with_ab(string):\n",
        "    pattern = r'^a(b*)$'\n",
        "    if re.match(pattern, string):\n",
        "        return True\n",
        "    else:\n",
        "        return False\n",
        "\n",
        "input_string = input(\"Enter a string: \")\n",
        "if match_string_with_ab(input_string):\n",
        "    print(\"The string matches the pattern 'a followed by zero or more b's'.\")\n",
        "else:\n",
        "    print(\"The string does not match the pattern 'a followed by zero or more b's'.\")"
      ],
      "metadata": {
        "colab": {
          "base_uri": "https://localhost:8080/"
        },
        "id": "PngRfdj6c5ko",
        "outputId": "7fbb106c-8ad1-4220-df53-961946778e33"
      },
      "execution_count": 12,
      "outputs": [
        {
          "output_type": "stream",
          "name": "stdout",
          "text": [
            "Enter a string: dfsf\n",
            "The string does not match the pattern 'a followed by zero or more b's'.\n"
          ]
        }
      ]
    },
    {
      "cell_type": "markdown",
      "source": [
        "Question 3-  Create a function in python that matches a string that has an a followed by one or more b's"
      ],
      "metadata": {
        "id": "FSCuBtSKdr-e"
      }
    },
    {
      "cell_type": "code",
      "source": [
        "def match_string_with_a_followed_by_bs(string):\n",
        "    pattern = r'^ab+$'\n",
        "    if re.match(pattern, string):\n",
        "        return True\n",
        "    else:\n",
        "        return False\n",
        "\n",
        "input_string = input(\"Enter a string: \")\n",
        "if match_string_with_a_followed_by_bs(input_string):\n",
        "    print(\"The string matches the pattern 'a followed by one or more b's'.\")\n",
        "else:\n",
        "    print(\"The string does not match the pattern 'a followed by one or more b's'.\")"
      ],
      "metadata": {
        "colab": {
          "base_uri": "https://localhost:8080/"
        },
        "id": "r6tpaUWGdwxx",
        "outputId": "4c1083f4-3e01-414a-edfd-7c39fd3f9a66"
      },
      "execution_count": 13,
      "outputs": [
        {
          "output_type": "stream",
          "name": "stdout",
          "text": [
            "Enter a string: jhguj\n",
            "The string does not match the pattern 'a followed by one or more b's'.\n"
          ]
        }
      ]
    },
    {
      "cell_type": "markdown",
      "source": [
        "Question 4- Create a function in Python and use RegEx that matches a string that has an a followed by zero or one 'b'."
      ],
      "metadata": {
        "id": "EtsgiF9fev6Z"
      }
    },
    {
      "cell_type": "code",
      "source": [
        "def match_string_with_a_followed_by_b(string):\n",
        "    pattern = r'^ab?$'\n",
        "    if re.match(pattern, string):\n",
        "        return True\n",
        "    else:\n",
        "        return False\n",
        "\n",
        "\n",
        "input_string = input(\"Enter a string: \")\n",
        "if match_string_with_a_followed_by_b(input_string):\n",
        "    print(\"The string matches the pattern 'a followed by zero or one b'.\")\n",
        "else:\n",
        "    print(\"The string does not match the pattern 'a followed by zero or one b'.\")"
      ],
      "metadata": {
        "colab": {
          "base_uri": "https://localhost:8080/"
        },
        "id": "8i80BWtMe1Rv",
        "outputId": "a8581629-30c3-47af-f38f-6b11c3b381a9"
      },
      "execution_count": 14,
      "outputs": [
        {
          "output_type": "stream",
          "name": "stdout",
          "text": [
            "Enter a string: nhghn\n",
            "The string does not match the pattern 'a followed by zero or one b'.\n"
          ]
        }
      ]
    },
    {
      "cell_type": "markdown",
      "source": [
        "Question 5- Write a Python program that matches a string that has an a followed by three 'b'."
      ],
      "metadata": {
        "id": "9cNEd75GfDdw"
      }
    },
    {
      "cell_type": "code",
      "source": [
        "def match_string_with_a_followed_by_three_bs(string):\n",
        "    pattern = r'^abbb$'\n",
        "    if re.match(pattern, string):\n",
        "        return True\n",
        "    else:\n",
        "        return False\n",
        "\n",
        "# Test the function\n",
        "input_string = input(\"Enter a string: \")\n",
        "if match_string_with_a_followed_by_three_bs(input_string):\n",
        "    print(\"The string matches the pattern 'a followed by three b's'.\")\n",
        "else:\n",
        "    print(\"The string does not match the pattern 'a followed by three b's'.\")"
      ],
      "metadata": {
        "colab": {
          "base_uri": "https://localhost:8080/"
        },
        "id": "_3n04CpdfIyH",
        "outputId": "d925b48c-20e3-4305-e144-9ef139879c7a"
      },
      "execution_count": 15,
      "outputs": [
        {
          "output_type": "stream",
          "name": "stdout",
          "text": [
            "Enter a string: pkpok\n",
            "The string does not match the pattern 'a followed by three b's'.\n"
          ]
        }
      ]
    },
    {
      "cell_type": "markdown",
      "source": [
        "Question 6- Write a regular expression in Python to split a string into uppercase letters."
      ],
      "metadata": {
        "id": "FHby92ILf6YW"
      }
    },
    {
      "cell_type": "code",
      "source": [
        "def split_string_into_uppercase(string):\n",
        "    pattern = r'(?=[A-Z])'\n",
        "    split_list = re.split(pattern, string)\n",
        "    return split_list\n",
        "\n",
        "# Test the function\n",
        "input_string = input(\"Enter a string: \")\n",
        "result = split_string_into_uppercase(input_string)\n",
        "print(\"Split Result:\", result)"
      ],
      "metadata": {
        "colab": {
          "base_uri": "https://localhost:8080/"
        },
        "id": "6vpZQ8CtgEMh",
        "outputId": "30e61e5c-f300-4898-c870-2fe9ac707759"
      },
      "execution_count": 16,
      "outputs": [
        {
          "output_type": "stream",
          "name": "stdout",
          "text": [
            "Enter a string: SsEdWw\n",
            "Split Result: ['', 'Ss', 'Ed', 'Ww']\n"
          ]
        }
      ]
    },
    {
      "cell_type": "markdown",
      "source": [
        "Question 7- Write a Python program that matches a string that has an a followed by two to three 'b'."
      ],
      "metadata": {
        "id": "ifEIeg2SgpTP"
      }
    },
    {
      "cell_type": "code",
      "source": [
        "def match_string_with_a_followed_by_two_to_three_bs(string):\n",
        "    pattern = r'^ab{2,3}$'\n",
        "    if re.match(pattern, string):\n",
        "        return True\n",
        "    else:\n",
        "        return False\n",
        "\n",
        "# Test the function\n",
        "input_string = input(\"Enter a string: \")\n",
        "if match_string_with_a_followed_by_two_to_three_bs(input_string):\n",
        "    print(\"The string matches the pattern 'a followed by two to three b's'.\")\n",
        "else:\n",
        "    print(\"The string does not match the pattern 'a followed by two to three b's'.\")"
      ],
      "metadata": {
        "colab": {
          "base_uri": "https://localhost:8080/"
        },
        "id": "JFchkLlfgyXP",
        "outputId": "3f7ff519-62b5-4803-c4eb-6806980913f7"
      },
      "execution_count": 17,
      "outputs": [
        {
          "output_type": "stream",
          "name": "stdout",
          "text": [
            "Enter a string: abb\n",
            "The string matches the pattern 'a followed by two to three b's'.\n"
          ]
        }
      ]
    },
    {
      "cell_type": "markdown",
      "source": [
        "Question 8- Write a Python program to find sequences of lowercase letters joined with a underscore."
      ],
      "metadata": {
        "id": "PbBTTOLJT0_y"
      }
    },
    {
      "cell_type": "code",
      "source": [
        "def find_underscore_sequences(string):\n",
        "  \"\"\"Finds sequences of lowercase letters joined with a underscore.\"\"\"\n",
        "  pattern = r\"[a-z]+_[a-z]+\"\n",
        "  if re.match(pattern, string):\n",
        "        return True\n",
        "  else:\n",
        "        return False\n",
        "\n",
        "input_string = input(\"Enter a string: \")\n",
        "if find_underscore_sequences(input_string):\n",
        "    print(\"The string matches the pattern 'sequences of lowercase letters joined with a underscore'.\")\n",
        "else:\n",
        "    print(\"The string does not match the pattern 'find sequences of lowercase letters joined with a underscore.'.\")"
      ],
      "metadata": {
        "colab": {
          "base_uri": "https://localhost:8080/"
        },
        "id": "koXCECHxT7pA",
        "outputId": "bc8a33e3-ba6e-4bd8-f926-b9eeff17a156"
      },
      "execution_count": 18,
      "outputs": [
        {
          "output_type": "stream",
          "name": "stdout",
          "text": [
            "Enter a string: ac\n",
            "The string does not match the pattern 'find sequences of lowercase letters joined with a underscore.'.\n"
          ]
        }
      ]
    },
    {
      "cell_type": "markdown",
      "source": [
        "Write a Python program that matches a string that has an 'a' followed by anything, ending in 'b'."
      ],
      "metadata": {
        "id": "agubQD--f4Ue"
      }
    },
    {
      "cell_type": "code",
      "source": [
        "def match_string_with_a_followed_by_anything_and_ending_with_b(string):\n",
        "    pattern = r'^a.*b$'\n",
        "    if re.match(pattern, string):\n",
        "        return True\n",
        "    else:\n",
        "        return False\n",
        "\n",
        "# Test the function\n",
        "input_string = input(\"Enter a string: \")\n",
        "if match_string_with_a_followed_by_anything_and_ending_with_b(input_string):\n",
        "    print(\"The string matches the pattern 'a followed by anything, ending in b'.\")\n",
        "else:\n",
        "    print(\"The string does not match the pattern 'a followed by anything, ending in b'.\")\n"
      ],
      "metadata": {
        "colab": {
          "base_uri": "https://localhost:8080/"
        },
        "id": "gwQFgUnegBt4",
        "outputId": "c2a3a9a1-41e5-4f4e-9915-5501c8c64bc2"
      },
      "execution_count": 7,
      "outputs": [
        {
          "output_type": "stream",
          "name": "stdout",
          "text": [
            "Enter a string: frttt\n",
            "The string does not match the pattern 'a followed by anything, ending in b'.\n"
          ]
        }
      ]
    },
    {
      "cell_type": "markdown",
      "source": [
        "Question 10- Write a Python program that matches a word at the beginning of a string."
      ],
      "metadata": {
        "id": "dceHa0HPptzt"
      }
    },
    {
      "cell_type": "code",
      "source": [
        "def program_that_matches_a_word_at_the_beginning_of_a_string(string):\n",
        " patterns = '^\\w+'\n",
        " if re.match(patterns, string):\n",
        "        return True\n",
        " else:\n",
        "        return False\n",
        "\n",
        "# Test the function\n",
        "input_string = input(\"Enter a string: \")\n",
        "if program_that_matches_a_word_at_the_beginning_of_a_string(input_string):\n",
        "    print(\"The string matches the pattern 'program that matches a word at the beginning of a string'.\")\n",
        "else:\n",
        "    print(\"The string does not match the pattern 'program that matches a word at the beginning of a string'.\")\n"
      ],
      "metadata": {
        "colab": {
          "base_uri": "https://localhost:8080/"
        },
        "id": "cQ1FWz5IJxBQ",
        "outputId": "b2c73f79-832d-4b82-ae2c-0a94bd46ff4b"
      },
      "execution_count": 4,
      "outputs": [
        {
          "output_type": "stream",
          "name": "stdout",
          "text": [
            "Enter a string: 32134\n",
            "The string matches the pattern 'program that matches a word at the beginning of a string'.\n"
          ]
        }
      ]
    },
    {
      "cell_type": "markdown",
      "source": [
        "Question 11- Write a Python program to match a string that contains only upper and lowercase letters, numbers, and underscores."
      ],
      "metadata": {
        "id": "x9kjegpFMffJ"
      }
    },
    {
      "cell_type": "code",
      "source": [
        "def match_string_with_allowed_characters(string):\n",
        "    pattern = r'^[a-zA-Z0-9_]+$'\n",
        "    if re.match(pattern, string):\n",
        "        return True\n",
        "    else:\n",
        "        return False\n",
        "\n",
        "# Test the function\n",
        "input_string = input(\"Enter a string: \")\n",
        "if match_string_with_allowed_characters(input_string):\n",
        "    print(\"The string contains only upper and lowercase letters, numbers, and underscores.\")\n",
        "else:\n",
        "    print(\"The string contains characters other than upper and lowercase letters, numbers, and underscores.\")"
      ],
      "metadata": {
        "colab": {
          "base_uri": "https://localhost:8080/"
        },
        "id": "ymlov4hkMldy",
        "outputId": "370a994c-b527-49bb-8886-4a73af261ae0"
      },
      "execution_count": 5,
      "outputs": [
        {
          "output_type": "stream",
          "name": "stdout",
          "text": [
            "Enter a string: Aseer_\n",
            "The string contains only upper and lowercase letters, numbers, and underscores.\n"
          ]
        }
      ]
    },
    {
      "cell_type": "markdown",
      "source": [
        "Question 12- Write a Python program where a string will start with a specific number."
      ],
      "metadata": {
        "id": "Zg7ucLsZN0N5"
      }
    },
    {
      "cell_type": "code",
      "source": [
        "def check_string_start_with_number(string, number):\n",
        "    pattern = r'^' + str(number)  # Prepend the number to the pattern\n",
        "    if re.match(pattern, string):\n",
        "        return True\n",
        "    else:\n",
        "        return False\n",
        "\n",
        "# Test the function\n",
        "input_string = input(\"Enter a string: \")\n",
        "input_number = input(\"Enter a number: \")\n",
        "\n",
        "if input_number.isdigit():\n",
        "    if check_string_start_with_number(input_string, int(input_number)):\n",
        "        print(\"The string starts with the specified number.\")\n",
        "    else:\n",
        "        print(\"The string does not start with the specified number.\")\n",
        "else:\n",
        "    print(\"Invalid input. Please enter a valid number.\")"
      ],
      "metadata": {
        "colab": {
          "base_uri": "https://localhost:8080/"
        },
        "id": "L5_pydjNOalQ",
        "outputId": "deaf6d52-9b2b-43a5-bedd-2b62981d7702"
      },
      "execution_count": 11,
      "outputs": [
        {
          "output_type": "stream",
          "name": "stdout",
          "text": [
            "Enter a string: 1dsad\n",
            "Enter a number: 1\n",
            "The string starts with the specified number.\n"
          ]
        }
      ]
    },
    {
      "cell_type": "markdown",
      "source": [
        "Question 13- Write a Python program to remove leading zeros from an IP address"
      ],
      "metadata": {
        "id": "jvQA_3rRO5DJ"
      }
    },
    {
      "cell_type": "code",
      "source": [
        "def remove_leading_zeros(ip_address):\n",
        "    pattern = r'\\b0+(\\d)'  # Matches leading zeros followed by a digit\n",
        "    sanitized_ip = re.sub(pattern, r'\\1', ip_address)\n",
        "    return sanitized_ip\n",
        "\n",
        "# Test the function\n",
        "input_ip = input(\"Enter an IP address: \")\n",
        "sanitized_ip = remove_leading_zeros(input_ip)\n",
        "print(\"Sanitized IP address:\", sanitized_ip)"
      ],
      "metadata": {
        "colab": {
          "base_uri": "https://localhost:8080/"
        },
        "id": "tnnSTVa_TCTT",
        "outputId": "7c7767bd-5361-46ab-f428-02a7efcd250e"
      },
      "execution_count": 16,
      "outputs": [
        {
          "output_type": "stream",
          "name": "stdout",
          "text": [
            "Enter an IP address: 123210000\n",
            "Sanitized IP address: 123210000\n"
          ]
        }
      ]
    },
    {
      "cell_type": "markdown",
      "source": [
        "Write a regular expression in python to match a date string in the form of Month name followed by day number and year stored in a text file."
      ],
      "metadata": {
        "id": "ayYWXC7F7-R_"
      }
    },
    {
      "cell_type": "code",
      "source": [
        "def extract_date_from_text(file_path):\n",
        "    with open(file_path, 'r') as file:\n",
        "        for line in file:\n",
        "            match = re.match(r'[A-Z][a-z]+\\s+\\d{1,2}(?:st|nd|rd|th)?\\s+\\d{4}', line)\n",
        "            if match:\n",
        "                return match.group()\n",
        "        return None\n",
        "\n",
        "# Store the sample text in a file\n",
        "sample_text = \"On August 15th 1947 that India was declared independent from British colonialism, and the reins of control were handed over to the leaders of the Country.\"\n",
        "file_path = 'sample_text.txt'\n",
        "\n",
        "with open(file_path, 'w') as file:\n",
        "    file.write(sample_text)\n",
        "\n",
        "# Test the function\n",
        "matched_date = extract_date_from_text(file_path)\n",
        "if matched_date:\n",
        "    print(\"Matched date:\", matched_date)\n",
        "else:\n",
        "    print(\"No date matching the pattern found in the text.\")"
      ],
      "metadata": {
        "colab": {
          "base_uri": "https://localhost:8080/"
        },
        "id": "Z6rvwJAp9F4f",
        "outputId": "ba716a67-e122-4e78-8fa1-210382b81280"
      },
      "execution_count": 44,
      "outputs": [
        {
          "output_type": "stream",
          "name": "stdout",
          "text": [
            "No date matching the pattern found in the text.\n"
          ]
        }
      ]
    },
    {
      "cell_type": "code",
      "source": [
        "def extract_date_from_text(file_path):\n",
        "    try:\n",
        "        with open(file_path, 'r') as file:\n",
        "            for line in file:\n",
        "                match = re.match(r'[A-Z][a-z]+\\s+\\d{1,2}(?:st|nd|rd|th)?\\s+\\d{4}', line)\n",
        "                if match:\n",
        "                    return match.group()\n",
        "            return None\n",
        "    except FileNotFoundError:\n",
        "        print(\"File not found.\")\n",
        "\n",
        "# Store the sample text in a file\n",
        "sample_text = \"On August 15th 1947 that India was declared independent from British colonialism, and the reins of control were handed over to the leaders of the Country.\"\n",
        "file_path = 'sample_text.txt'\n",
        "\n",
        "try:\n",
        "    with open(file_path, 'w') as file:\n",
        "        file.write(sample_text)\n",
        "except IOError:\n",
        "    print(\"Error writing to the file.\")\n",
        "\n",
        "# Test the function\n",
        "matched_date = extract_date_from_text(file_path)\n",
        "if matched_date:\n",
        "    print(\"Matched date:\", matched_date)\n",
        "else:\n",
        "    print(\"No date matching the pattern found in the text.\")"
      ],
      "metadata": {
        "colab": {
          "base_uri": "https://localhost:8080/"
        },
        "id": "_8yJOQy_9gYJ",
        "outputId": "e4d8b2be-015d-4d0f-e9e4-71c6bfc66670"
      },
      "execution_count": 45,
      "outputs": [
        {
          "output_type": "stream",
          "name": "stdout",
          "text": [
            "No date matching the pattern found in the text.\n"
          ]
        }
      ]
    },
    {
      "cell_type": "code",
      "source": [
        "date_regex = r\"([A-Za-z]+)\\s(\\d{1,2}),\\s(\\d{4})\"\n",
        "input_string = \"Today's date is July 12, 2023. Tomorrow's date will be September 30, 2023.\"\n",
        "\n",
        "matches = re.findall(date_regex, input_string)\n",
        "if matches:\n",
        "    for match in matches:\n",
        "        month = match[0]\n",
        "        day = match[1]\n",
        "        year = match[2]\n",
        "        print(f\"Found date: {month} {day}, {year}\")\n",
        "else:\n",
        "    print(\"No dates found.\")"
      ],
      "metadata": {
        "colab": {
          "base_uri": "https://localhost:8080/"
        },
        "id": "Gd8KYcYn9295",
        "outputId": "9919236a-01df-42dd-db5a-b128cd183e8c"
      },
      "execution_count": 48,
      "outputs": [
        {
          "output_type": "stream",
          "name": "stdout",
          "text": [
            "Found date: July 12, 2023\n",
            "Found date: September 30, 2023\n"
          ]
        }
      ]
    },
    {
      "cell_type": "markdown",
      "source": [
        "Question 15- Write a Python program to search some literals strings in a string. Go to the editor"
      ],
      "metadata": {
        "id": "vSjM5wHiWXeM"
      }
    },
    {
      "cell_type": "code",
      "source": [
        "def search_literals_string(text):\n",
        "    literals = [\"apple\", \"banana\", \"orange\"]\n",
        "\n",
        "    # Using 'in' operator\n",
        "    print(\"Using 'in' operator:\")\n",
        "    for literal in literals:\n",
        "        if literal in text:\n",
        "            print(f\"Found '{literal}' in the string.\")\n",
        "        else:\n",
        "            print(f\"'{literal}' not found in the string.\")\n",
        "\n",
        "    # Using 'str.find()' method\n",
        "    print(\"\\nUsing 'str.find()' method:\")\n",
        "    for literal in literals:\n",
        "        index = text.find(literal)\n",
        "        if index != -1:\n",
        "            print(f\"Found '{literal}' at index {index} in the string.\")\n",
        "        else:\n",
        "            print(f\"'{literal}' not found in the string.\")\n",
        "\n",
        "# Test the function\n",
        "input_text = input(\"Enter a string: \")\n",
        "search_literals_string(input_text)"
      ],
      "metadata": {
        "colab": {
          "base_uri": "https://localhost:8080/"
        },
        "id": "93PFQmVKYtwm",
        "outputId": "4d712259-1c4a-4477-8c7b-eb45c6496aad"
      },
      "execution_count": 21,
      "outputs": [
        {
          "output_type": "stream",
          "name": "stdout",
          "text": [
            "Enter a string: I have an apple and a banana\n",
            "Using 'in' operator:\n",
            "Found 'apple' in the string.\n",
            "Found 'banana' in the string.\n",
            "'orange' not found in the string.\n",
            "\n",
            "Using 'str.find()' method:\n",
            "Found 'apple' at index 10 in the string.\n",
            "Found 'banana' at index 22 in the string.\n",
            "'orange' not found in the string.\n"
          ]
        }
      ]
    },
    {
      "cell_type": "markdown",
      "source": [
        "Question 16- Write a Python program to search a literals string in a string and also find the location within the original string where the pattern occurs"
      ],
      "metadata": {
        "id": "78Q9vH-bZTTa"
      }
    },
    {
      "cell_type": "code",
      "source": [
        "def search_literals_string_with_location(text, pattern):\n",
        "    matches = re.finditer(pattern, text)\n",
        "    for match in matches:\n",
        "        start = match.start()\n",
        "        end = match.end()\n",
        "        print(f\"Found '{match.group()}' at index {start}-{end-1} in the string.\")\n",
        "\n",
        "# Test the function\n",
        "input_text = input(\"Enter a string: \")\n",
        "input_pattern = input(\"Enter a literal pattern to search for: \")\n",
        "\n",
        "search_literals_string_with_location(input_text, re.escape(input_pattern))"
      ],
      "metadata": {
        "colab": {
          "base_uri": "https://localhost:8080/"
        },
        "id": "mEhliX77Za61",
        "outputId": "f8807d84-c0a7-45bb-c5b5-bf53548ccb77"
      },
      "execution_count": 22,
      "outputs": [
        {
          "output_type": "stream",
          "name": "stdout",
          "text": [
            "Enter a string: hi how are you\n",
            "Enter a literal pattern to search for: how\n",
            "Found 'how' at index 3-5 in the string.\n"
          ]
        }
      ]
    },
    {
      "cell_type": "markdown",
      "source": [
        "Write a Python program to find the substrings within a string."
      ],
      "metadata": {
        "id": "hE8GUXSmZ1be"
      }
    },
    {
      "cell_type": "code",
      "source": [
        "def find_substrings_using_regex(text, pattern):\n",
        "    matches = re.finditer(pattern, text)\n",
        "    for match in matches:\n",
        "        start = match.start()\n",
        "        end = match.end()\n",
        "        print(f\"Found '{match.group()}' at index {start}-{end-1} in the string.\")\n",
        "\n",
        "# Test the function\n",
        "input_text = input(\"Enter a string: \")\n",
        "input_pattern = input(\"Enter a pattern or substring to search for: \")\n",
        "\n",
        "find_substrings_using_regex(input_text, re.escape(input_pattern))"
      ],
      "metadata": {
        "colab": {
          "base_uri": "https://localhost:8080/"
        },
        "id": "LymJMWWgZ8I-",
        "outputId": "329da5d0-c64c-4cc1-c99d-e697a8832cf5"
      },
      "execution_count": 23,
      "outputs": [
        {
          "output_type": "stream",
          "name": "stdout",
          "text": [
            "Enter a string: 'Python exercises, PHP exercises, C# exercises\n",
            "Enter a pattern or substring to search for: exercises\n",
            "Found 'exercises' at index 8-16 in the string.\n",
            "Found 'exercises' at index 23-31 in the string.\n",
            "Found 'exercises' at index 37-45 in the string.\n"
          ]
        }
      ]
    },
    {
      "cell_type": "markdown",
      "source": [
        "Question 18- Write a Python program to find the occurrence and position of the substrings within a string."
      ],
      "metadata": {
        "id": "is1zKDP-yr6-"
      }
    },
    {
      "cell_type": "code",
      "source": [
        "def find_substring_occurrences_regex(string, substring):\n",
        "    pattern = re.escape(substring)\n",
        "    occurrences = []\n",
        "\n",
        "    for match in re.finditer(pattern, string):\n",
        "        occurrences.append((substring, match.start()))\n",
        "\n",
        "    return occurrences\n",
        "\n",
        "\n",
        "# Test the function\n",
        "input_string = input(\"Enter a string: \")\n",
        "input_substring = input(\"Enter a substring to search for: \")\n",
        "\n",
        "occurrences = find_substring_occurrences_regex(input_string, input_substring)\n",
        "count = len(occurrences)\n",
        "\n",
        "if count > 0:\n",
        "    print(f\"\\nSubstring '{input_substring}' occurs {count} time(s) in the string at the following position(s):\")\n",
        "    for substring, position in occurrences:\n",
        "        print(f\"  - Found '{substring}' at position {position}\")\n",
        "else:\n",
        "    print(f\"\\nSubstring '{input_substring}' does not occur in the string.\")\n"
      ],
      "metadata": {
        "colab": {
          "base_uri": "https://localhost:8080/"
        },
        "id": "ojLlAufWyypk",
        "outputId": "b9df606c-4234-4b2d-f190-459b18533ddf"
      },
      "execution_count": 25,
      "outputs": [
        {
          "output_type": "stream",
          "name": "stdout",
          "text": [
            "Enter a string: yes, yes, yes\n",
            "Enter a substring to search for: yes\n",
            "\n",
            "Substring 'yes' occurs 3 time(s) in the string at the following position(s):\n",
            "  - Found 'yes' at position 0\n",
            "  - Found 'yes' at position 5\n",
            "  - Found 'yes' at position 10\n"
          ]
        }
      ]
    },
    {
      "cell_type": "markdown",
      "source": [
        "Question 19- Write a Python program to convert a date of yyyy-mm-dd format to dd-mm-yyyy format."
      ],
      "metadata": {
        "id": "Lk5pAUoazWEi"
      }
    },
    {
      "cell_type": "code",
      "source": [
        "def convert_date_format_regex(date):\n",
        "    pattern = r'^(\\d{4})-(\\d{2})-(\\d{2})$'\n",
        "    formatted_date = re.sub(pattern, r'\\3-\\2-\\1', date)\n",
        "    return formatted_date\n",
        "\n",
        "# Test the function\n",
        "input_date = input(\"Enter a date in yyyy-mm-dd format: \")\n",
        "converted_date = convert_date_format_regex(input_date)\n",
        "print(\"Converted date:\", converted_date)"
      ],
      "metadata": {
        "colab": {
          "base_uri": "https://localhost:8080/"
        },
        "id": "ED9g75ZfzjXy",
        "outputId": "3a3202f8-1c0b-4699-8934-065669f52dbf"
      },
      "execution_count": 26,
      "outputs": [
        {
          "output_type": "stream",
          "name": "stdout",
          "text": [
            "Enter a date in yyyy-mm-dd format: 1980-22-22\n",
            "Converted date: 22-22-1980\n"
          ]
        }
      ]
    },
    {
      "cell_type": "markdown",
      "source": [
        "Question 20- Write a Python program to find all words starting with 'a' or 'e' in a given string."
      ],
      "metadata": {
        "id": "ciR5WfTp0EJd"
      }
    },
    {
      "cell_type": "code",
      "source": [
        "def find_words_starting_with_a_or_e(text):\n",
        "    pattern = r'\\b[aAeE]\\w+\\b'\n",
        "    matches = re.findall(pattern, text)\n",
        "    return matches\n",
        "\n",
        "# Test the function\n",
        "input_text = input(\"Enter a string: \")\n",
        "matched_words = find_words_starting_with_a_or_e(input_text)\n",
        "print(\"Matched words:\")\n",
        "for word in matched_words:\n",
        "    print(word)"
      ],
      "metadata": {
        "colab": {
          "base_uri": "https://localhost:8080/"
        },
        "id": "FiQ6wTjQ0N2r",
        "outputId": "a85101dc-1e2a-4912-c2a5-0c9e6bed90b0"
      },
      "execution_count": 28,
      "outputs": [
        {
          "output_type": "stream",
          "name": "stdout",
          "text": [
            "Enter a string: An apple and an elephant are eating apples and bananas.\n",
            "Matched words:\n",
            "An\n",
            "apple\n",
            "and\n",
            "an\n",
            "elephant\n",
            "are\n",
            "eating\n",
            "apples\n",
            "and\n"
          ]
        }
      ]
    },
    {
      "cell_type": "markdown",
      "source": [
        "Question 21- Write a Python program to separate and print the numbers and their position of a given string."
      ],
      "metadata": {
        "id": "GEKgNsQI1CJC"
      }
    },
    {
      "cell_type": "code",
      "source": [
        "def separate_numbers_with_positions(text):\n",
        "    pattern = r'\\d+'\n",
        "    matches = re.finditer(pattern, text)\n",
        "    for match in matches:\n",
        "        number = match.group()\n",
        "        position = match.start()\n",
        "        print(f\"Number '{number}' found at position {position}\")\n",
        "\n",
        "# Test the function\n",
        "input_text = input(\"Enter a string: \")\n",
        "separate_numbers_with_positions(input_text)"
      ],
      "metadata": {
        "colab": {
          "base_uri": "https://localhost:8080/"
        },
        "id": "9dtnRyy71JUF",
        "outputId": "eda0da0b-2c8a-4a21-b4c3-40d64754aff8"
      },
      "execution_count": 29,
      "outputs": [
        {
          "output_type": "stream",
          "name": "stdout",
          "text": [
            "Enter a string: I have 123 apples and 456 bananas.\n",
            "Number '123' found at position 7\n",
            "Number '456' found at position 22\n"
          ]
        }
      ]
    },
    {
      "cell_type": "markdown",
      "source": [
        "Question 22- Write a regular expression in python program to extract maximum numeric value from a string"
      ],
      "metadata": {
        "id": "OdgGu6Cx1nU1"
      }
    },
    {
      "cell_type": "code",
      "source": [
        "def extract_maximum_numeric_value(text):\n",
        "    pattern = r'\\b\\d+\\b'\n",
        "    numeric_values = re.findall(pattern, text)\n",
        "    if numeric_values:\n",
        "        maximum_value = max(map(int, numeric_values))\n",
        "        return maximum_value\n",
        "    else:\n",
        "        return None\n",
        "\n",
        "# Test the function\n",
        "input_text = input(\"Enter a string: \")\n",
        "maximum_value = extract_maximum_numeric_value(input_text)\n",
        "\n",
        "if maximum_value is not None:\n",
        "    print(\"Maximum numeric value:\", maximum_value)\n",
        "else:\n",
        "    print(\"No numeric value found in the string.\")"
      ],
      "metadata": {
        "colab": {
          "base_uri": "https://localhost:8080/"
        },
        "id": "u6SWrcGO1wCa",
        "outputId": "4d0725f5-004d-479a-c23a-567f709f7658"
      },
      "execution_count": 30,
      "outputs": [
        {
          "output_type": "stream",
          "name": "stdout",
          "text": [
            "Enter a string: I have 123 apples and 456 bananas.\n",
            "Maximum numeric value: 456\n"
          ]
        }
      ]
    },
    {
      "cell_type": "markdown",
      "source": [
        "Question 23- Write a Regex in Python to put spaces between words starting with capital letters"
      ],
      "metadata": {
        "id": "4GoPV_MW2JTt"
      }
    },
    {
      "cell_type": "code",
      "source": [
        "def add_spaces_between_capital_words(text):\n",
        "    pattern = r'(\\B[A-Z])'\n",
        "    spaced_text = re.sub(pattern, r' \\1', text)\n",
        "    return spaced_text\n",
        "\n",
        "# Test the function\n",
        "input_text = input(\"Enter a string: \")\n",
        "spaced_text = add_spaces_between_capital_words(input_text)\n",
        "print(\"Modified text:\", spaced_text)"
      ],
      "metadata": {
        "colab": {
          "base_uri": "https://localhost:8080/"
        },
        "id": "jOQJOarP2eD9",
        "outputId": "dede2a0e-2e1a-44ec-b63c-b865118e461c"
      },
      "execution_count": 31,
      "outputs": [
        {
          "output_type": "stream",
          "name": "stdout",
          "text": [
            "Enter a string: HiIamAchu\n",
            "Modified text: Hi Iam Achu\n"
          ]
        }
      ]
    },
    {
      "cell_type": "markdown",
      "source": [
        "Question 24- Python regex to find sequences of one upper case letter followed by lower case letters"
      ],
      "metadata": {
        "id": "qOasRnxe25EW"
      }
    },
    {
      "cell_type": "code",
      "source": [
        "def find_uppercase_lowercase_sequences(text):\n",
        "    pattern = r'[A-Z][a-z]+'\n",
        "    sequences = re.findall(pattern, text)\n",
        "    return sequences\n",
        "\n",
        "# Test the function\n",
        "input_text = input(\"Enter a string: \")\n",
        "sequences = find_uppercase_lowercase_sequences(input_text)\n",
        "print(\"Sequences of one uppercase letter followed by lowercase letters:\")\n",
        "for sequence in sequences:\n",
        "    print(sequence)"
      ],
      "metadata": {
        "colab": {
          "base_uri": "https://localhost:8080/"
        },
        "id": "3E9xc4483CHt",
        "outputId": "47b1005e-bff7-49d1-f217-7c5274271dd8"
      },
      "execution_count": 32,
      "outputs": [
        {
          "output_type": "stream",
          "name": "stdout",
          "text": [
            "Enter a string: HiIAmAchuHere\n",
            "Sequences of one uppercase letter followed by lowercase letters:\n",
            "Hi\n",
            "Am\n",
            "Achu\n",
            "Here\n"
          ]
        }
      ]
    },
    {
      "cell_type": "markdown",
      "source": [
        "Question 25- Write a Python program to remove duplicate words from Sentence using Regular Expression"
      ],
      "metadata": {
        "id": "1dylVfeF3bP8"
      }
    },
    {
      "cell_type": "code",
      "source": [
        "def remove_duplicate_words(sentence):\n",
        "    pattern = r'\\b(\\w+)\\b\\s+(?=.*\\b\\1\\b)'\n",
        "    cleaned_sentence = re.sub(pattern, '', sentence)\n",
        "    return cleaned_sentence.strip()\n",
        "\n",
        "# Test the function\n",
        "input_sentence = input(\"Enter a sentence: \")\n",
        "cleaned_sentence = remove_duplicate_words(input_sentence)\n",
        "print(\"Cleaned sentence:\", cleaned_sentence)"
      ],
      "metadata": {
        "colab": {
          "base_uri": "https://localhost:8080/"
        },
        "id": "GDSD3B5x3m5M",
        "outputId": "110f41fc-fc39-4c1e-bd8e-edbfdcd77f18"
      },
      "execution_count": 33,
      "outputs": [
        {
          "output_type": "stream",
          "name": "stdout",
          "text": [
            "Enter a sentence: The cat cat jumped over the dog dog\n",
            "Cleaned sentence: The cat jumped over the dog\n"
          ]
        }
      ]
    },
    {
      "cell_type": "markdown",
      "source": [
        "Question 26-  Write a python program using RegEx to accept string ending with alphanumeric character."
      ],
      "metadata": {
        "id": "W5l-3ZP04IAf"
      }
    },
    {
      "cell_type": "code",
      "source": [
        "def check_string_ending_alphanumeric(string):\n",
        "    pattern = r'^.*[a-zA-Z0-9]$'\n",
        "    match = re.match(pattern, string)\n",
        "    if match:\n",
        "        return True\n",
        "    else:\n",
        "        return False\n",
        "\n",
        "# Test the function\n",
        "input_string = input(\"Enter a string: \")\n",
        "if check_string_ending_alphanumeric(input_string):\n",
        "    print(\"String ends with an alphanumeric character.\")\n",
        "else:\n",
        "    print(\"String does not end with an alphanumeric character.\")"
      ],
      "metadata": {
        "colab": {
          "base_uri": "https://localhost:8080/"
        },
        "id": "rSRKTAmK4QyW",
        "outputId": "1f7c1982-b6ec-4774-dbd7-44656eb74f70"
      },
      "execution_count": 34,
      "outputs": [
        {
          "output_type": "stream",
          "name": "stdout",
          "text": [
            "Enter a string: come here now!\n",
            "String does not end with an alphanumeric character.\n"
          ]
        }
      ]
    },
    {
      "cell_type": "markdown",
      "source": [
        "Question 27-Write a python program using RegEx to extract the hashtags."
      ],
      "metadata": {
        "id": "9DIHVsRX4kfG"
      }
    },
    {
      "cell_type": "code",
      "source": [
        "def extract_hashtags(string):\n",
        "    pattern = r'#\\w+'\n",
        "    hashtags = re.findall(pattern, string)\n",
        "    return hashtags\n",
        "\n",
        "# Test the function\n",
        "input_string = input(\"Enter a string: \")\n",
        "hashtags = extract_hashtags(input_string)\n",
        "print(\"Extracted hashtags:\")\n",
        "for hashtag in hashtags:\n",
        "    print(hashtag)"
      ],
      "metadata": {
        "colab": {
          "base_uri": "https://localhost:8080/"
        },
        "id": "mryOIRYB4vEt",
        "outputId": "4c774743-6bf7-4ecb-c0d9-94b67722e2d2"
      },
      "execution_count": 36,
      "outputs": [
        {
          "output_type": "stream",
          "name": "stdout",
          "text": [
            "Enter a string: RT @kapil_kausik: #Doltiwal I mean #xyzabc is \"hurt\" by #Demonetization as the same has rendered USELESS <ed><U+00A0><U+00BD><ed><U+00B1><U+0089> \"acquired funds\" No wo\n",
            "Extracted hashtags:\n",
            "#Doltiwal\n",
            "#xyzabc\n",
            "#Demonetization\n"
          ]
        }
      ]
    },
    {
      "cell_type": "markdown",
      "source": [
        "Question 28- Write a python program using RegEx to remove <U+..> like symbols\n",
        "Check the below sample text, there are strange symbols something of the sort <U+..> all over the place. You need to come up with a general Regex expression that will cover all such symbols.\n",
        "Sample Text: \"@Jags123456 Bharat band on 28??<ed><U+00A0><U+00BD><ed><U+00B8><U+0082>Those who  are protesting #demonetization  are all different party leaders\"\n",
        "Output: @Jags123456 Bharat band on 28??<ed><ed>Those who  are protesting #demonetization  are all different party leaders\n"
      ],
      "metadata": {
        "id": "rfLE7EEy5CEl"
      }
    },
    {
      "cell_type": "code",
      "source": [
        "def remove_unicode_symbols(text):\n",
        "    pattern = r'<U\\+[0-9A-Fa-f]+>'\n",
        "    cleaned_text = re.sub(pattern, '', text)\n",
        "    return cleaned_text\n",
        "\n",
        "# Test the function\n",
        "input_text = input(\"Enter a string: \")\n",
        "cleaned_text = remove_unicode_symbols(input_text)\n",
        "print(\"Cleaned text:\", cleaned_text)"
      ],
      "metadata": {
        "colab": {
          "base_uri": "https://localhost:8080/"
        },
        "id": "dKPJiwru54tO",
        "outputId": "a822dca2-3a9e-4a7e-9fd1-672d09d999a0"
      },
      "execution_count": 38,
      "outputs": [
        {
          "output_type": "stream",
          "name": "stdout",
          "text": [
            "Enter a string: \"@Jags123456 Bharat band on 28??<ed><U+00A0><U+00BD><ed><U+00B8><U+0082>Those who  are protesting #demonetization  are all different party leaders\n",
            "Cleaned text: \"@Jags123456 Bharat band on 28??<ed><ed>Those who  are protesting #demonetization  are all different party leaders\n"
          ]
        }
      ]
    },
    {
      "cell_type": "code",
      "source": [
        "def remove_unicode_symbols(text):\n",
        "    pattern = r'<U\\+\\w+>'\n",
        "    cleaned_text = re.sub(pattern, '', text)\n",
        "    return cleaned_text\n",
        "\n",
        "# Test the function\n",
        "input_text = \"@Jags123456 Bharat band on 28??<ed><U+00A0><U+00BD><ed><U+00B8><U+0082>Those who are protesting #demonetization are all different party leaders\"\n",
        "cleaned_text = remove_unicode_symbols(input_text)\n",
        "print(\"Cleaned text:\", cleaned_text)"
      ],
      "metadata": {
        "colab": {
          "base_uri": "https://localhost:8080/"
        },
        "id": "QkC09vl45nXH",
        "outputId": "9cf93a34-2367-4621-820b-bd87f86246d1"
      },
      "execution_count": 37,
      "outputs": [
        {
          "output_type": "stream",
          "name": "stdout",
          "text": [
            "Cleaned text: @Jags123456 Bharat band on 28??<ed><ed>Those who are protesting #demonetization are all different party leaders\n"
          ]
        }
      ]
    },
    {
      "cell_type": "markdown",
      "source": [
        "Question 29- Write a python program to extract dates from the text stored in the text file.\n",
        "Sample Text: Ron was born on 12-09-1992 and he was admitted to school 15-12-1999.\n",
        "Store this sample text in the file and then extract dates.\n"
      ],
      "metadata": {
        "id": "wzv3EQyd6G3t"
      }
    },
    {
      "cell_type": "code",
      "source": [
        "def extract_dates_from_file(file_path):\n",
        "    with open(file_path, 'r') as file:\n",
        "        text = file.read()\n",
        "        pattern = r'\\d{2}-\\d{2}-\\d{4}'\n",
        "        dates = re.findall(pattern, text)\n",
        "        return dates\n",
        "\n",
        "# Store the sample text in a file\n",
        "sample_text = \"Ron was born on 12-09-1992 and he was admitted to school 15-12-1999.\"\n",
        "file_path = 'sample_text.txt'\n",
        "\n",
        "with open(file_path, 'w') as file:\n",
        "    file.write(sample_text)\n",
        "\n",
        "# Test the function\n",
        "dates = extract_dates_from_file(file_path)\n",
        "print(\"Extracted dates:\")\n",
        "for date in dates:\n",
        "    print(date)"
      ],
      "metadata": {
        "colab": {
          "base_uri": "https://localhost:8080/"
        },
        "id": "sYEKO3Xi6PDm",
        "outputId": "7436f15a-2777-466e-eeed-8ee2020917f1"
      },
      "execution_count": 40,
      "outputs": [
        {
          "output_type": "stream",
          "name": "stdout",
          "text": [
            "Extracted dates:\n",
            "12-09-1992\n",
            "15-12-1999\n"
          ]
        }
      ]
    },
    {
      "cell_type": "markdown",
      "source": [
        "Question 30- Write a Python program to replace all occurrences of a space, comma, or dot with a colon.\n",
        "Sample Text- 'Python Exercises, PHP exercises.'\n",
        "Output: Python:Exercises::PHP:exercises:\n"
      ],
      "metadata": {
        "id": "hBAb72SZ65P2"
      }
    },
    {
      "cell_type": "code",
      "source": [
        "def replace_space_comma_dot_with_colon(string):\n",
        "    replaced_string = string.replace(' ', ':').replace(',', ':').replace('.', ':')\n",
        "    return replaced_string\n",
        "\n",
        "# Test the function\n",
        "input_string = input(\"Enter a string: \")\n",
        "replaced_string = replace_space_comma_dot_with_colon(input_string)\n",
        "print(\"Replaced string:\", replaced_string)"
      ],
      "metadata": {
        "colab": {
          "base_uri": "https://localhost:8080/"
        },
        "id": "qXe3fPm67A6O",
        "outputId": "eef23ba7-c729-4e6e-8ff8-008aedfd3f74"
      },
      "execution_count": 41,
      "outputs": [
        {
          "output_type": "stream",
          "name": "stdout",
          "text": [
            "Enter a string: 'Python Exercises, PHP exercises\n",
            "Replaced string: 'Python:Exercises::PHP:exercises\n"
          ]
        }
      ]
    },
    {
      "cell_type": "markdown",
      "source": [
        "End of Assignment"
      ],
      "metadata": {
        "id": "dq76q1Jy7cu2"
      }
    }
  ]
}
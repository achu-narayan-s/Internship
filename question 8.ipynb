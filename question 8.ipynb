{
 "cells": [
  {
   "cell_type": "code",
   "execution_count": 15,
   "id": "05d307f8-2a76-4fb1-994e-c32a760a694c",
   "metadata": {
    "tags": []
   },
   "outputs": [
    {
     "name": "stdout",
     "output_type": "stream",
     "text": [
      "Requirement already satisfied: selenium in c:\\programdata\\anaconda3\\lib\\site-packages (4.10.0)\n",
      "Requirement already satisfied: urllib3[socks]<3,>=1.26 in c:\\programdata\\anaconda3\\lib\\site-packages (from selenium) (1.26.16)\n",
      "Requirement already satisfied: trio~=0.17 in c:\\programdata\\anaconda3\\lib\\site-packages (from selenium) (0.22.2)\n",
      "Requirement already satisfied: trio-websocket~=0.9 in c:\\programdata\\anaconda3\\lib\\site-packages (from selenium) (0.10.3)\n",
      "Requirement already satisfied: certifi>=2021.10.8 in c:\\programdata\\anaconda3\\lib\\site-packages (from selenium) (2023.5.7)\n",
      "Requirement already satisfied: attrs>=20.1.0 in c:\\programdata\\anaconda3\\lib\\site-packages (from trio~=0.17->selenium) (22.1.0)\n",
      "Requirement already satisfied: sortedcontainers in c:\\programdata\\anaconda3\\lib\\site-packages (from trio~=0.17->selenium) (2.4.0)\n",
      "Requirement already satisfied: idna in c:\\programdata\\anaconda3\\lib\\site-packages (from trio~=0.17->selenium) (3.4)\n",
      "Requirement already satisfied: outcome in c:\\programdata\\anaconda3\\lib\\site-packages (from trio~=0.17->selenium) (1.2.0)\n",
      "Requirement already satisfied: sniffio in c:\\programdata\\anaconda3\\lib\\site-packages (from trio~=0.17->selenium) (1.2.0)\n",
      "Requirement already satisfied: cffi>=1.14 in c:\\programdata\\anaconda3\\lib\\site-packages (from trio~=0.17->selenium) (1.15.1)\n",
      "Requirement already satisfied: exceptiongroup in c:\\programdata\\anaconda3\\lib\\site-packages (from trio-websocket~=0.9->selenium) (1.1.2)\n",
      "Requirement already satisfied: wsproto>=0.14 in c:\\programdata\\anaconda3\\lib\\site-packages (from trio-websocket~=0.9->selenium) (1.2.0)\n",
      "Requirement already satisfied: PySocks!=1.5.7,<2.0,>=1.5.6 in c:\\programdata\\anaconda3\\lib\\site-packages (from urllib3[socks]<3,>=1.26->selenium) (1.7.1)\n",
      "Requirement already satisfied: pycparser in c:\\programdata\\anaconda3\\lib\\site-packages (from cffi>=1.14->trio~=0.17->selenium) (2.21)\n",
      "Requirement already satisfied: h11<1,>=0.9.0 in c:\\programdata\\anaconda3\\lib\\site-packages (from wsproto>=0.14->trio-websocket~=0.9->selenium) (0.14.0)\n",
      "Note: you may need to restart the kernel to use updated packages.\n"
     ]
    }
   ],
   "source": [
    "pip install selenium"
   ]
  },
  {
   "cell_type": "code",
   "execution_count": 1,
   "id": "83844ec4-988d-435f-9a22-8322ce1d55d5",
   "metadata": {
    "tags": []
   },
   "outputs": [
    {
     "name": "stdout",
     "output_type": "stream",
     "text": [
      "Requirement already satisfied: webdriver-manager in c:\\programdata\\anaconda3\\lib\\site-packages (3.8.6)\n",
      "Requirement already satisfied: requests in c:\\programdata\\anaconda3\\lib\\site-packages (from webdriver-manager) (2.29.0)\n",
      "Requirement already satisfied: python-dotenv in c:\\programdata\\anaconda3\\lib\\site-packages (from webdriver-manager) (1.0.0)\n",
      "Requirement already satisfied: tqdm in c:\\programdata\\anaconda3\\lib\\site-packages (from webdriver-manager) (4.65.0)\n",
      "Requirement already satisfied: packaging in c:\\programdata\\anaconda3\\lib\\site-packages (from webdriver-manager) (23.0)\n",
      "Requirement already satisfied: charset-normalizer<4,>=2 in c:\\programdata\\anaconda3\\lib\\site-packages (from requests->webdriver-manager) (2.0.4)\n",
      "Requirement already satisfied: idna<4,>=2.5 in c:\\programdata\\anaconda3\\lib\\site-packages (from requests->webdriver-manager) (3.4)\n",
      "Requirement already satisfied: urllib3<1.27,>=1.21.1 in c:\\programdata\\anaconda3\\lib\\site-packages (from requests->webdriver-manager) (1.26.16)\n",
      "Requirement already satisfied: certifi>=2017.4.17 in c:\\programdata\\anaconda3\\lib\\site-packages (from requests->webdriver-manager) (2023.5.7)\n",
      "Requirement already satisfied: colorama in c:\\programdata\\anaconda3\\lib\\site-packages (from tqdm->webdriver-manager) (0.4.6)\n"
     ]
    }
   ],
   "source": [
    "!pip install webdriver-manager"
   ]
  },
  {
   "cell_type": "code",
   "execution_count": 2,
   "id": "b167c23c-2ec2-47b8-8a22-1db18cbce47f",
   "metadata": {
    "tags": []
   },
   "outputs": [
    {
     "name": "stdout",
     "output_type": "stream",
     "text": [
      "Requirement already satisfied: selenium in c:\\programdata\\anaconda3\\lib\\site-packages (4.10.0)\n",
      "Requirement already satisfied: beautifulsoup4 in c:\\programdata\\anaconda3\\lib\\site-packages (4.12.2)\n",
      "Requirement already satisfied: pandas in c:\\programdata\\anaconda3\\lib\\site-packages (1.5.3)\n",
      "Requirement already satisfied: urllib3[socks]<3,>=1.26 in c:\\programdata\\anaconda3\\lib\\site-packages (from selenium) (1.26.16)\n",
      "Requirement already satisfied: trio~=0.17 in c:\\programdata\\anaconda3\\lib\\site-packages (from selenium) (0.22.2)\n",
      "Requirement already satisfied: trio-websocket~=0.9 in c:\\programdata\\anaconda3\\lib\\site-packages (from selenium) (0.10.3)\n",
      "Requirement already satisfied: certifi>=2021.10.8 in c:\\programdata\\anaconda3\\lib\\site-packages (from selenium) (2023.5.7)\n",
      "Requirement already satisfied: soupsieve>1.2 in c:\\programdata\\anaconda3\\lib\\site-packages (from beautifulsoup4) (2.4)\n",
      "Requirement already satisfied: python-dateutil>=2.8.1 in c:\\programdata\\anaconda3\\lib\\site-packages (from pandas) (2.8.2)\n",
      "Requirement already satisfied: pytz>=2020.1 in c:\\programdata\\anaconda3\\lib\\site-packages (from pandas) (2022.7)\n",
      "Requirement already satisfied: numpy>=1.21.0 in c:\\programdata\\anaconda3\\lib\\site-packages (from pandas) (1.24.3)\n",
      "Requirement already satisfied: six>=1.5 in c:\\programdata\\anaconda3\\lib\\site-packages (from python-dateutil>=2.8.1->pandas) (1.16.0)\n",
      "Requirement already satisfied: attrs>=20.1.0 in c:\\programdata\\anaconda3\\lib\\site-packages (from trio~=0.17->selenium) (22.1.0)\n",
      "Requirement already satisfied: sortedcontainers in c:\\programdata\\anaconda3\\lib\\site-packages (from trio~=0.17->selenium) (2.4.0)\n",
      "Requirement already satisfied: idna in c:\\programdata\\anaconda3\\lib\\site-packages (from trio~=0.17->selenium) (3.4)\n",
      "Requirement already satisfied: outcome in c:\\programdata\\anaconda3\\lib\\site-packages (from trio~=0.17->selenium) (1.2.0)\n",
      "Requirement already satisfied: sniffio in c:\\programdata\\anaconda3\\lib\\site-packages (from trio~=0.17->selenium) (1.2.0)\n",
      "Requirement already satisfied: cffi>=1.14 in c:\\programdata\\anaconda3\\lib\\site-packages (from trio~=0.17->selenium) (1.15.1)\n",
      "Requirement already satisfied: exceptiongroup in c:\\programdata\\anaconda3\\lib\\site-packages (from trio-websocket~=0.9->selenium) (1.1.2)\n",
      "Requirement already satisfied: wsproto>=0.14 in c:\\programdata\\anaconda3\\lib\\site-packages (from trio-websocket~=0.9->selenium) (1.2.0)\n",
      "Requirement already satisfied: PySocks!=1.5.7,<2.0,>=1.5.6 in c:\\programdata\\anaconda3\\lib\\site-packages (from urllib3[socks]<3,>=1.26->selenium) (1.7.1)\n",
      "Requirement already satisfied: pycparser in c:\\programdata\\anaconda3\\lib\\site-packages (from cffi>=1.14->trio~=0.17->selenium) (2.21)\n",
      "Requirement already satisfied: h11<1,>=0.9.0 in c:\\programdata\\anaconda3\\lib\\site-packages (from wsproto>=0.14->trio-websocket~=0.9->selenium) (0.14.0)\n",
      "Note: you may need to restart the kernel to use updated packages.\n"
     ]
    }
   ],
   "source": [
    "pip install selenium beautifulsoup4 pandas"
   ]
  },
  {
   "cell_type": "code",
   "execution_count": 1,
   "id": "f1241892-8b89-4d07-803a-78c6e0a9a7f3",
   "metadata": {
    "tags": []
   },
   "outputs": [],
   "source": [
    "from selenium import webdriver\n",
    "from selenium.webdriver.common.by import By\n",
    "from selenium.webdriver.support.ui import WebDriverWait\n",
    "from webdriver_manager.chrome import ChromeDriverManager\n",
    "from selenium.webdriver.support import expected_conditions as EC\n",
    "from selenium.webdriver.chrome.service import Service\n",
    "from selenium.webdriver.chrome.options import Options\n",
    "from selenium.webdriver.chrome.webdriver import WebDriver\n",
    "import pandas as pd\n",
    "import time\n",
    "import warnings\n",
    "warnings.filterwarnings(\"ignore\")"
   ]
  },
  {
   "cell_type": "code",
   "execution_count": 2,
   "id": "936eae08-dc8f-4eb5-aaf5-b85284dbf5d7",
   "metadata": {
    "tags": []
   },
   "outputs": [],
   "source": [
    "driver = webdriver.Chrome(service=Service(ChromeDriverManager().install()))"
   ]
  },
  {
   "cell_type": "code",
   "execution_count": 3,
   "id": "c23e0634-a1bc-42fe-b7f6-a3c7178d9cba",
   "metadata": {
    "tags": []
   },
   "outputs": [],
   "source": [
    "driver.get(\"https://www.azquotes.com/\")"
   ]
  },
  {
   "cell_type": "code",
   "execution_count": 4,
   "id": "006b21c2-c9d6-483e-9dad-073fd0cedcfb",
   "metadata": {
    "tags": []
   },
   "outputs": [],
   "source": [
    "top_quotes_link = driver.find_element(By.XPATH, \"/html/body/div[1]/div[1]/div[1]/div/div[3]/ul/li[5]/a\")\n",
    "top_quotes_link.click()"
   ]
  },
  {
   "cell_type": "code",
   "execution_count": 5,
   "id": "6edb084d-49b7-4161-87ee-463210482e84",
   "metadata": {
    "tags": []
   },
   "outputs": [],
   "source": [
    "Quote_titles = []\n",
    "Author_titles = []\n",
    "Quote_types = []\n"
   ]
  },
  {
   "cell_type": "code",
   "execution_count": 6,
   "id": "0f6198d9-30e0-4c38-8733-a944190aafc7",
   "metadata": {
    "tags": []
   },
   "outputs": [],
   "source": [
    "title_tags=driver.find_elements(By.XPATH,'//a[@class=\"title\"]')\n",
    "for i in title_tags[0:100]:\n",
    "    title=i.text\n",
    "    Quote_titles.append(title)"
   ]
  },
  {
   "cell_type": "code",
   "execution_count": 7,
   "id": "f56c8d87-345b-4c41-a785-1e76264c8f01",
   "metadata": {
    "tags": []
   },
   "outputs": [],
   "source": [
    "title_tags=driver.find_elements(By.XPATH,'//div[@class=\"author\"]')\n",
    "for i in title_tags[0:100]:\n",
    "    title=i.text\n",
    "    Author_titles.append(title)"
   ]
  },
  {
   "cell_type": "code",
   "execution_count": 8,
   "id": "0e09fbb6-c726-4fb3-96ef-f4f5e896e3ab",
   "metadata": {
    "tags": []
   },
   "outputs": [],
   "source": [
    "title_tags=driver.find_elements(By.XPATH,'//div[@class=\"tags\"]')\n",
    "for i in title_tags[0:100]:\n",
    "    title=i.text\n",
    "    Quote_types.append(title)"
   ]
  },
  {
   "cell_type": "code",
   "execution_count": 9,
   "id": "9d2b6119-cd49-4638-b13f-8ab8810f4cb7",
   "metadata": {
    "tags": []
   },
   "outputs": [],
   "source": [
    "print=(len(Quote_titles),len(Author_titles),len(Quote_types))"
   ]
  },
  {
   "cell_type": "code",
   "execution_count": 10,
   "id": "821f9fe4-bc2e-473c-92b4-7d8552caee49",
   "metadata": {
    "tags": []
   },
   "outputs": [
    {
     "data": {
      "text/plain": [
       "(100, 100, 100)"
      ]
     },
     "execution_count": 10,
     "metadata": {},
     "output_type": "execute_result"
    }
   ],
   "source": [
    "print"
   ]
  },
  {
   "cell_type": "code",
   "execution_count": 11,
   "id": "eeb1d7d9-3a72-4a48-aabc-436afe6daccc",
   "metadata": {
    "tags": []
   },
   "outputs": [
    {
     "data": {
      "text/html": [
       "<div>\n",
       "<style scoped>\n",
       "    .dataframe tbody tr th:only-of-type {\n",
       "        vertical-align: middle;\n",
       "    }\n",
       "\n",
       "    .dataframe tbody tr th {\n",
       "        vertical-align: top;\n",
       "    }\n",
       "\n",
       "    .dataframe thead th {\n",
       "        text-align: right;\n",
       "    }\n",
       "</style>\n",
       "<table border=\"1\" class=\"dataframe\">\n",
       "  <thead>\n",
       "    <tr style=\"text-align: right;\">\n",
       "      <th></th>\n",
       "      <th>Quote Titles</th>\n",
       "      <th>Author Titles</th>\n",
       "      <th>Quote Types</th>\n",
       "    </tr>\n",
       "  </thead>\n",
       "  <tbody>\n",
       "    <tr>\n",
       "      <th>0</th>\n",
       "      <td>The essence of strategy is choosing what not t...</td>\n",
       "      <td>Michael Porter</td>\n",
       "      <td>Essence, Deep Thought, Transcendentalism</td>\n",
       "    </tr>\n",
       "    <tr>\n",
       "      <th>1</th>\n",
       "      <td>One cannot and must not try to erase the past ...</td>\n",
       "      <td>Golda Meir</td>\n",
       "      <td>Inspiration, Past, Trying</td>\n",
       "    </tr>\n",
       "    <tr>\n",
       "      <th>2</th>\n",
       "      <td>Patriotism means to stand by the country. It d...</td>\n",
       "      <td>Theodore Roosevelt</td>\n",
       "      <td>Country, Peace, War</td>\n",
       "    </tr>\n",
       "    <tr>\n",
       "      <th>3</th>\n",
       "      <td>Death is something inevitable. When a man has ...</td>\n",
       "      <td>Nelson Mandela</td>\n",
       "      <td>Inspirational, Motivational, Death</td>\n",
       "    </tr>\n",
       "    <tr>\n",
       "      <th>4</th>\n",
       "      <td>You have to love a nation that celebrates its ...</td>\n",
       "      <td>Erma Bombeck</td>\n",
       "      <td>4th Of July, Food, Patriotic</td>\n",
       "    </tr>\n",
       "    <tr>\n",
       "      <th>...</th>\n",
       "      <td>...</td>\n",
       "      <td>...</td>\n",
       "      <td>...</td>\n",
       "    </tr>\n",
       "    <tr>\n",
       "      <th>95</th>\n",
       "      <td>When the going gets weird, the weird turn pro.</td>\n",
       "      <td>Hunter S. Thompson</td>\n",
       "      <td>Music, Sports, Hunting</td>\n",
       "    </tr>\n",
       "    <tr>\n",
       "      <th>96</th>\n",
       "      <td>When a train goes through a tunnel and it gets...</td>\n",
       "      <td>Corrie Ten Boom</td>\n",
       "      <td>Trust, Encouraging, Uplifting</td>\n",
       "    </tr>\n",
       "    <tr>\n",
       "      <th>97</th>\n",
       "      <td>If you think you are too small to make a diffe...</td>\n",
       "      <td>Dalai Lama</td>\n",
       "      <td>Inspirational, Funny, Change</td>\n",
       "    </tr>\n",
       "    <tr>\n",
       "      <th>98</th>\n",
       "      <td>God doesn't require us to succeed, he only req...</td>\n",
       "      <td>Mother Teresa</td>\n",
       "      <td>Success, God, Mother</td>\n",
       "    </tr>\n",
       "    <tr>\n",
       "      <th>99</th>\n",
       "      <td>Change your thoughts and you change your world.</td>\n",
       "      <td>Norman Vincent Peale</td>\n",
       "      <td>Inspirational, Motivational, Change</td>\n",
       "    </tr>\n",
       "  </tbody>\n",
       "</table>\n",
       "<p>100 rows × 3 columns</p>\n",
       "</div>"
      ],
      "text/plain": [
       "                                         Quote Titles         Author Titles  \\\n",
       "0   The essence of strategy is choosing what not t...        Michael Porter   \n",
       "1   One cannot and must not try to erase the past ...            Golda Meir   \n",
       "2   Patriotism means to stand by the country. It d...    Theodore Roosevelt   \n",
       "3   Death is something inevitable. When a man has ...        Nelson Mandela   \n",
       "4   You have to love a nation that celebrates its ...          Erma Bombeck   \n",
       "..                                                ...                   ...   \n",
       "95     When the going gets weird, the weird turn pro.    Hunter S. Thompson   \n",
       "96  When a train goes through a tunnel and it gets...       Corrie Ten Boom   \n",
       "97  If you think you are too small to make a diffe...            Dalai Lama   \n",
       "98  God doesn't require us to succeed, he only req...         Mother Teresa   \n",
       "99    Change your thoughts and you change your world.  Norman Vincent Peale   \n",
       "\n",
       "                                 Quote Types  \n",
       "0   Essence, Deep Thought, Transcendentalism  \n",
       "1                  Inspiration, Past, Trying  \n",
       "2                        Country, Peace, War  \n",
       "3         Inspirational, Motivational, Death  \n",
       "4               4th Of July, Food, Patriotic  \n",
       "..                                       ...  \n",
       "95                    Music, Sports, Hunting  \n",
       "96             Trust, Encouraging, Uplifting  \n",
       "97              Inspirational, Funny, Change  \n",
       "98                      Success, God, Mother  \n",
       "99       Inspirational, Motivational, Change  \n",
       "\n",
       "[100 rows x 3 columns]"
      ]
     },
     "execution_count": 11,
     "metadata": {},
     "output_type": "execute_result"
    }
   ],
   "source": [
    "import pandas as pd\n",
    "df=pd.DataFrame({'Quote Titles':Quote_titles,'Author Titles':Author_titles, 'Quote Types':Quote_types})\n",
    "df"
   ]
  },
  {
   "cell_type": "code",
   "execution_count": 12,
   "id": "37fc2397-ac51-4a60-a58f-df67dc836098",
   "metadata": {
    "tags": []
   },
   "outputs": [],
   "source": [
    "next_button = driver.find_element(By.XPATH,\"/html/body/div[1]/div[2]/div/div/div/div[1]/div/div[3]/li[12]/a\")\n",
    "next_button.click()"
   ]
  },
  {
   "cell_type": "code",
   "execution_count": 13,
   "id": "93cc1a0a-aa82-4a9b-9dcb-c3f7fa242c9c",
   "metadata": {
    "tags": []
   },
   "outputs": [],
   "source": [
    "Quote_titles = []\n",
    "Author_titles = []\n",
    "Quote_types = []"
   ]
  },
  {
   "cell_type": "code",
   "execution_count": 14,
   "id": "19450331-d8f0-44da-9125-85556e29f2e7",
   "metadata": {
    "tags": []
   },
   "outputs": [],
   "source": [
    "title_tags=driver.find_elements(By.XPATH,'//a[@class=\"title\"]')\n",
    "for i in title_tags[0:100]:\n",
    "    title=i.text\n",
    "    Quote_titles.append(title)"
   ]
  },
  {
   "cell_type": "code",
   "execution_count": 15,
   "id": "99323a0e-6f3c-4be2-a18e-6e353d4c9599",
   "metadata": {
    "tags": []
   },
   "outputs": [],
   "source": [
    "title_tags=driver.find_elements(By.XPATH,'//div[@class=\"author\"]')\n",
    "for i in title_tags[0:100]:\n",
    "    title=i.text\n",
    "    Author_titles.append(title)"
   ]
  },
  {
   "cell_type": "code",
   "execution_count": 16,
   "id": "ddabd407-ff0c-4252-9159-b6bc6b68687b",
   "metadata": {
    "tags": []
   },
   "outputs": [],
   "source": [
    "title_tags=driver.find_elements(By.XPATH,'//div[@class=\"tags\"]')\n",
    "for i in title_tags[0:100]:\n",
    "    title=i.text\n",
    "    Quote_types.append(title)"
   ]
  },
  {
   "cell_type": "code",
   "execution_count": 17,
   "id": "8beecd65-ef14-4152-a14a-027a54fc3f14",
   "metadata": {
    "tags": []
   },
   "outputs": [],
   "source": [
    "print=(len(Quote_titles),len(Author_titles),len(Quote_types))"
   ]
  },
  {
   "cell_type": "code",
   "execution_count": 18,
   "id": "09064287-69ed-45cb-8f13-6aae1df8451b",
   "metadata": {
    "tags": []
   },
   "outputs": [
    {
     "data": {
      "text/plain": [
       "(100, 100, 100)"
      ]
     },
     "execution_count": 18,
     "metadata": {},
     "output_type": "execute_result"
    }
   ],
   "source": [
    "print"
   ]
  },
  {
   "cell_type": "code",
   "execution_count": 19,
   "id": "8162ee6f-be12-48df-9c09-a01d699e5fcc",
   "metadata": {
    "tags": []
   },
   "outputs": [
    {
     "data": {
      "text/html": [
       "<div>\n",
       "<style scoped>\n",
       "    .dataframe tbody tr th:only-of-type {\n",
       "        vertical-align: middle;\n",
       "    }\n",
       "\n",
       "    .dataframe tbody tr th {\n",
       "        vertical-align: top;\n",
       "    }\n",
       "\n",
       "    .dataframe thead th {\n",
       "        text-align: right;\n",
       "    }\n",
       "</style>\n",
       "<table border=\"1\" class=\"dataframe\">\n",
       "  <thead>\n",
       "    <tr style=\"text-align: right;\">\n",
       "      <th></th>\n",
       "      <th>Quote Titles</th>\n",
       "      <th>Author Titles</th>\n",
       "      <th>Quote Types</th>\n",
       "    </tr>\n",
       "  </thead>\n",
       "  <tbody>\n",
       "    <tr>\n",
       "      <th>0</th>\n",
       "      <td>Can words describe the fragrance of the very b...</td>\n",
       "      <td>Neltje Blanchan</td>\n",
       "      <td>Spring, April, Fragrance</td>\n",
       "    </tr>\n",
       "    <tr>\n",
       "      <th>1</th>\n",
       "      <td>Faith is to believe what you do not see; the r...</td>\n",
       "      <td>Saint Augustine</td>\n",
       "      <td>Inspirational, Faith, Spiritual</td>\n",
       "    </tr>\n",
       "    <tr>\n",
       "      <th>2</th>\n",
       "      <td>When everything seems to be going against you,...</td>\n",
       "      <td>Henry Ford</td>\n",
       "      <td>Inspirational, Motivational, Positive</td>\n",
       "    </tr>\n",
       "    <tr>\n",
       "      <th>3</th>\n",
       "      <td>I have found that if you love life, life will ...</td>\n",
       "      <td>Arthur Rubinstein</td>\n",
       "      <td>Love, Inspirational, Life</td>\n",
       "    </tr>\n",
       "    <tr>\n",
       "      <th>4</th>\n",
       "      <td>To disarm the people... was the best and most ...</td>\n",
       "      <td>George Mason</td>\n",
       "      <td>Strength, Peace, Gun</td>\n",
       "    </tr>\n",
       "    <tr>\n",
       "      <th>...</th>\n",
       "      <td>...</td>\n",
       "      <td>...</td>\n",
       "      <td>...</td>\n",
       "    </tr>\n",
       "    <tr>\n",
       "      <th>95</th>\n",
       "      <td>When one door closes, another opens; but we of...</td>\n",
       "      <td>Alexander Graham Bell</td>\n",
       "      <td>Love, Inspirational, Life</td>\n",
       "    </tr>\n",
       "    <tr>\n",
       "      <th>96</th>\n",
       "      <td>Don't find fault, find a remedy.</td>\n",
       "      <td>Henry Ford</td>\n",
       "      <td>Inspirational, Motivational, Positive</td>\n",
       "    </tr>\n",
       "    <tr>\n",
       "      <th>97</th>\n",
       "      <td>I used to think the worst thing in life was to...</td>\n",
       "      <td>Robin Williams</td>\n",
       "      <td>Love, Life, Lonely</td>\n",
       "    </tr>\n",
       "    <tr>\n",
       "      <th>98</th>\n",
       "      <td>Friends and good manners will carry you where ...</td>\n",
       "      <td>Margaret Walker</td>\n",
       "      <td>Love, Inspirational, Friendship</td>\n",
       "    </tr>\n",
       "    <tr>\n",
       "      <th>99</th>\n",
       "      <td>If you want to make a permanent change, stop f...</td>\n",
       "      <td>T. Harv Eker</td>\n",
       "      <td>Inspirational, Change, Inspiring</td>\n",
       "    </tr>\n",
       "  </tbody>\n",
       "</table>\n",
       "<p>100 rows × 3 columns</p>\n",
       "</div>"
      ],
      "text/plain": [
       "                                         Quote Titles          Author Titles  \\\n",
       "0   Can words describe the fragrance of the very b...        Neltje Blanchan   \n",
       "1   Faith is to believe what you do not see; the r...        Saint Augustine   \n",
       "2   When everything seems to be going against you,...             Henry Ford   \n",
       "3   I have found that if you love life, life will ...      Arthur Rubinstein   \n",
       "4   To disarm the people... was the best and most ...           George Mason   \n",
       "..                                                ...                    ...   \n",
       "95  When one door closes, another opens; but we of...  Alexander Graham Bell   \n",
       "96                   Don't find fault, find a remedy.             Henry Ford   \n",
       "97  I used to think the worst thing in life was to...         Robin Williams   \n",
       "98  Friends and good manners will carry you where ...        Margaret Walker   \n",
       "99  If you want to make a permanent change, stop f...           T. Harv Eker   \n",
       "\n",
       "                              Quote Types  \n",
       "0                Spring, April, Fragrance  \n",
       "1         Inspirational, Faith, Spiritual  \n",
       "2   Inspirational, Motivational, Positive  \n",
       "3               Love, Inspirational, Life  \n",
       "4                    Strength, Peace, Gun  \n",
       "..                                    ...  \n",
       "95              Love, Inspirational, Life  \n",
       "96  Inspirational, Motivational, Positive  \n",
       "97                     Love, Life, Lonely  \n",
       "98        Love, Inspirational, Friendship  \n",
       "99       Inspirational, Change, Inspiring  \n",
       "\n",
       "[100 rows x 3 columns]"
      ]
     },
     "execution_count": 19,
     "metadata": {},
     "output_type": "execute_result"
    }
   ],
   "source": [
    "import pandas as pd\n",
    "df=pd.DataFrame({'Quote Titles':Quote_titles,'Author Titles':Author_titles, 'Quote Types':Quote_types})\n",
    "df"
   ]
  },
  {
   "cell_type": "code",
   "execution_count": 20,
   "id": "2f8291cc-50a2-42a2-8efd-e4bb06023b78",
   "metadata": {
    "tags": []
   },
   "outputs": [],
   "source": [
    "next_button = driver.find_element(By.XPATH,\"/html/body/div[1]/div[2]/div/div/div/div[1]/div/div[3]/li[13]/a\")\n",
    "next_button.click()"
   ]
  },
  {
   "cell_type": "code",
   "execution_count": 21,
   "id": "b733aa0d-c7aa-4ec1-8abb-ddf038961ecf",
   "metadata": {
    "tags": []
   },
   "outputs": [],
   "source": [
    "Quote_titles = []\n",
    "Author_titles = []\n",
    "Quote_types = []"
   ]
  },
  {
   "cell_type": "code",
   "execution_count": 22,
   "id": "322e1605-ecc6-40f4-bd5d-7ba87523aef7",
   "metadata": {
    "tags": []
   },
   "outputs": [],
   "source": [
    "title_tags=driver.find_elements(By.XPATH,'//a[@class=\"title\"]')\n",
    "for i in title_tags[0:100]:\n",
    "    title=i.text\n",
    "    Quote_titles.append(title)"
   ]
  },
  {
   "cell_type": "code",
   "execution_count": 23,
   "id": "9e1466dc-6367-4733-8bb7-1221092a4457",
   "metadata": {
    "tags": []
   },
   "outputs": [],
   "source": [
    "title_tags=driver.find_elements(By.XPATH,'//div[@class=\"author\"]')\n",
    "for i in title_tags[0:100]:\n",
    "    title=i.text\n",
    "    Author_titles.append(title)"
   ]
  },
  {
   "cell_type": "code",
   "execution_count": 24,
   "id": "c2f4b2d4-d57e-4211-b679-cf659a40430b",
   "metadata": {
    "tags": []
   },
   "outputs": [],
   "source": [
    "title_tags=driver.find_elements(By.XPATH,'//div[@class=\"tags\"]')\n",
    "for i in title_tags[0:100]:\n",
    "    title=i.text\n",
    "    Quote_types.append(title)"
   ]
  },
  {
   "cell_type": "code",
   "execution_count": 25,
   "id": "e6d0f9c9-6647-41db-8568-3b563b92727c",
   "metadata": {
    "tags": []
   },
   "outputs": [],
   "source": [
    "print=(len(Quote_titles),len(Author_titles),len(Quote_types))"
   ]
  },
  {
   "cell_type": "code",
   "execution_count": 26,
   "id": "7ec6971d-9c7a-4412-ae81-8adb768729f5",
   "metadata": {
    "tags": []
   },
   "outputs": [
    {
     "data": {
      "text/plain": [
       "(100, 100, 100)"
      ]
     },
     "execution_count": 26,
     "metadata": {},
     "output_type": "execute_result"
    }
   ],
   "source": [
    "print"
   ]
  },
  {
   "cell_type": "code",
   "execution_count": 27,
   "id": "0ed02fb7-c348-40b7-8c15-61cb88a3f98a",
   "metadata": {
    "tags": []
   },
   "outputs": [
    {
     "data": {
      "text/html": [
       "<div>\n",
       "<style scoped>\n",
       "    .dataframe tbody tr th:only-of-type {\n",
       "        vertical-align: middle;\n",
       "    }\n",
       "\n",
       "    .dataframe tbody tr th {\n",
       "        vertical-align: top;\n",
       "    }\n",
       "\n",
       "    .dataframe thead th {\n",
       "        text-align: right;\n",
       "    }\n",
       "</style>\n",
       "<table border=\"1\" class=\"dataframe\">\n",
       "  <thead>\n",
       "    <tr style=\"text-align: right;\">\n",
       "      <th></th>\n",
       "      <th>Quote Titles</th>\n",
       "      <th>Author Titles</th>\n",
       "      <th>Quote Types</th>\n",
       "    </tr>\n",
       "  </thead>\n",
       "  <tbody>\n",
       "    <tr>\n",
       "      <th>0</th>\n",
       "      <td>Success is not final, failure is not fatal: it...</td>\n",
       "      <td>Winston Churchill</td>\n",
       "      <td>Inspirational, Motivational, Positive</td>\n",
       "    </tr>\n",
       "    <tr>\n",
       "      <th>1</th>\n",
       "      <td>A day of worry is more exhausting than a week ...</td>\n",
       "      <td>John Lubbock</td>\n",
       "      <td>Motivational, Happiness, Letting Go</td>\n",
       "    </tr>\n",
       "    <tr>\n",
       "      <th>2</th>\n",
       "      <td>Strive not to be a success, but rather to be o...</td>\n",
       "      <td>Albert Einstein</td>\n",
       "      <td>Inspirational, Motivational, Positive</td>\n",
       "    </tr>\n",
       "    <tr>\n",
       "      <th>3</th>\n",
       "      <td>Cancer can take away all of my physical abilit...</td>\n",
       "      <td>Jim Valvano</td>\n",
       "      <td>Encouraging, Basketball, Uplifting</td>\n",
       "    </tr>\n",
       "    <tr>\n",
       "      <th>4</th>\n",
       "      <td>Honesty is the first chapter in the book of wi...</td>\n",
       "      <td>Thomas Jefferson</td>\n",
       "      <td>Inspirational, Positive, Wisdom</td>\n",
       "    </tr>\n",
       "    <tr>\n",
       "      <th>...</th>\n",
       "      <td>...</td>\n",
       "      <td>...</td>\n",
       "      <td>...</td>\n",
       "    </tr>\n",
       "    <tr>\n",
       "      <th>95</th>\n",
       "      <td>Don't watch the clock; do what it does. Keep g...</td>\n",
       "      <td>Sam Levenson</td>\n",
       "      <td>Motivational, Moving On, Success</td>\n",
       "    </tr>\n",
       "    <tr>\n",
       "      <th>96</th>\n",
       "      <td>Don't wait for extraordinary opportunities. Se...</td>\n",
       "      <td>Orison Swett Marden</td>\n",
       "      <td>Inspirational, Strength, Strong</td>\n",
       "    </tr>\n",
       "    <tr>\n",
       "      <th>97</th>\n",
       "      <td>I celebrated Thanksgiving in an old-fashioned ...</td>\n",
       "      <td>Jon Stewart</td>\n",
       "      <td>Funny, Thanksgiving, Holiday</td>\n",
       "    </tr>\n",
       "    <tr>\n",
       "      <th>98</th>\n",
       "      <td>If you're not careful, the newspapers will hav...</td>\n",
       "      <td>Malcolm X</td>\n",
       "      <td>Hate, Lying, Media</td>\n",
       "    </tr>\n",
       "    <tr>\n",
       "      <th>99</th>\n",
       "      <td>A dress should be tight enough to show you're ...</td>\n",
       "      <td>Edith Head</td>\n",
       "      <td>Fashion, Eyebrows, Icons</td>\n",
       "    </tr>\n",
       "  </tbody>\n",
       "</table>\n",
       "<p>100 rows × 3 columns</p>\n",
       "</div>"
      ],
      "text/plain": [
       "                                         Quote Titles        Author Titles  \\\n",
       "0   Success is not final, failure is not fatal: it...    Winston Churchill   \n",
       "1   A day of worry is more exhausting than a week ...         John Lubbock   \n",
       "2   Strive not to be a success, but rather to be o...      Albert Einstein   \n",
       "3   Cancer can take away all of my physical abilit...          Jim Valvano   \n",
       "4   Honesty is the first chapter in the book of wi...     Thomas Jefferson   \n",
       "..                                                ...                  ...   \n",
       "95  Don't watch the clock; do what it does. Keep g...         Sam Levenson   \n",
       "96  Don't wait for extraordinary opportunities. Se...  Orison Swett Marden   \n",
       "97  I celebrated Thanksgiving in an old-fashioned ...          Jon Stewart   \n",
       "98  If you're not careful, the newspapers will hav...            Malcolm X   \n",
       "99  A dress should be tight enough to show you're ...           Edith Head   \n",
       "\n",
       "                              Quote Types  \n",
       "0   Inspirational, Motivational, Positive  \n",
       "1     Motivational, Happiness, Letting Go  \n",
       "2   Inspirational, Motivational, Positive  \n",
       "3      Encouraging, Basketball, Uplifting  \n",
       "4         Inspirational, Positive, Wisdom  \n",
       "..                                    ...  \n",
       "95       Motivational, Moving On, Success  \n",
       "96        Inspirational, Strength, Strong  \n",
       "97           Funny, Thanksgiving, Holiday  \n",
       "98                     Hate, Lying, Media  \n",
       "99               Fashion, Eyebrows, Icons  \n",
       "\n",
       "[100 rows x 3 columns]"
      ]
     },
     "execution_count": 27,
     "metadata": {},
     "output_type": "execute_result"
    }
   ],
   "source": [
    "import pandas as pd\n",
    "df=pd.DataFrame({'Quote Titles':Quote_titles,'Author Titles':Author_titles, 'Quote Types':Quote_types})\n",
    "df"
   ]
  },
  {
   "cell_type": "code",
   "execution_count": 28,
   "id": "465d9478-6a47-4851-a506-397a8c788510",
   "metadata": {
    "tags": []
   },
   "outputs": [],
   "source": [
    "next_button = driver.find_element(By.XPATH,\"/html/body/div[1]/div[2]/div/div/div/div[1]/div/div[3]/li[13]/a\")\n",
    "next_button.click()"
   ]
  },
  {
   "cell_type": "code",
   "execution_count": 29,
   "id": "bf7e0a0b-1f9f-4ba8-a691-bce07ceaadca",
   "metadata": {
    "tags": []
   },
   "outputs": [],
   "source": [
    "Quote_titles = []\n",
    "Author_titles = []\n",
    "Quote_types = []"
   ]
  },
  {
   "cell_type": "code",
   "execution_count": 30,
   "id": "1ff9695b-c200-48a5-8e15-dd46f08c9d5c",
   "metadata": {
    "tags": []
   },
   "outputs": [],
   "source": [
    "title_tags=driver.find_elements(By.XPATH,'//a[@class=\"title\"]')\n",
    "for i in title_tags[0:100]:\n",
    "    title=i.text\n",
    "    Quote_titles.append(title)"
   ]
  },
  {
   "cell_type": "code",
   "execution_count": 31,
   "id": "12ddf634-34ef-4ad1-ba8c-c79ddb518e3f",
   "metadata": {
    "tags": []
   },
   "outputs": [],
   "source": [
    "title_tags=driver.find_elements(By.XPATH,'//div[@class=\"author\"]')\n",
    "for i in title_tags[0:100]:\n",
    "    title=i.text\n",
    "    Author_titles.append(title)"
   ]
  },
  {
   "cell_type": "code",
   "execution_count": 32,
   "id": "af7bd9e8-683c-4154-b1be-87ba9aa96b42",
   "metadata": {
    "tags": []
   },
   "outputs": [],
   "source": [
    "title_tags=driver.find_elements(By.XPATH,'//div[@class=\"tags\"]')\n",
    "for i in title_tags[0:100]:\n",
    "    title=i.text\n",
    "    Quote_types.append(title)"
   ]
  },
  {
   "cell_type": "code",
   "execution_count": 33,
   "id": "fa7abbfa-3486-4dc0-9b57-b7a1d1aa4c27",
   "metadata": {
    "tags": []
   },
   "outputs": [],
   "source": [
    "print=(len(Quote_titles),len(Author_titles),len(Quote_types))"
   ]
  },
  {
   "cell_type": "code",
   "execution_count": 34,
   "id": "080d7f31-4dc0-4aee-845c-0963b7bb837a",
   "metadata": {
    "tags": []
   },
   "outputs": [
    {
     "data": {
      "text/plain": [
       "(100, 100, 100)"
      ]
     },
     "execution_count": 34,
     "metadata": {},
     "output_type": "execute_result"
    }
   ],
   "source": [
    "print"
   ]
  },
  {
   "cell_type": "code",
   "execution_count": 35,
   "id": "a6d4d11d-0eac-4c75-83a6-6b637b0e2174",
   "metadata": {
    "tags": []
   },
   "outputs": [
    {
     "data": {
      "text/html": [
       "<div>\n",
       "<style scoped>\n",
       "    .dataframe tbody tr th:only-of-type {\n",
       "        vertical-align: middle;\n",
       "    }\n",
       "\n",
       "    .dataframe tbody tr th {\n",
       "        vertical-align: top;\n",
       "    }\n",
       "\n",
       "    .dataframe thead th {\n",
       "        text-align: right;\n",
       "    }\n",
       "</style>\n",
       "<table border=\"1\" class=\"dataframe\">\n",
       "  <thead>\n",
       "    <tr style=\"text-align: right;\">\n",
       "      <th></th>\n",
       "      <th>Quote Titles</th>\n",
       "      <th>Author Titles</th>\n",
       "      <th>Quote Types</th>\n",
       "    </tr>\n",
       "  </thead>\n",
       "  <tbody>\n",
       "    <tr>\n",
       "      <th>0</th>\n",
       "      <td>One of the things I learned the hard way was t...</td>\n",
       "      <td>Lucille Ball</td>\n",
       "      <td>Inspirational, Life, Positive</td>\n",
       "    </tr>\n",
       "    <tr>\n",
       "      <th>1</th>\n",
       "      <td>Sir, my concern is not whether God is on our s...</td>\n",
       "      <td>Abraham Lincoln</td>\n",
       "      <td>Leadership, God, Wisdom</td>\n",
       "    </tr>\n",
       "    <tr>\n",
       "      <th>2</th>\n",
       "      <td>If you love what you are doing, you will be su...</td>\n",
       "      <td>Albert Schweitzer</td>\n",
       "      <td>Happiness, Success, Happy</td>\n",
       "    </tr>\n",
       "    <tr>\n",
       "      <th>3</th>\n",
       "      <td>Patience, persistence and perspiration make an...</td>\n",
       "      <td>Napoleon Hill</td>\n",
       "      <td>Inspirational, Positive, Success</td>\n",
       "    </tr>\n",
       "    <tr>\n",
       "      <th>4</th>\n",
       "      <td>Christmas is the season of joy, of holiday gre...</td>\n",
       "      <td>Norman Vincent Peale</td>\n",
       "      <td>Christmas, Holiday, Giving</td>\n",
       "    </tr>\n",
       "    <tr>\n",
       "      <th>...</th>\n",
       "      <td>...</td>\n",
       "      <td>...</td>\n",
       "      <td>...</td>\n",
       "    </tr>\n",
       "    <tr>\n",
       "      <th>95</th>\n",
       "      <td>Risks must be taken because the greatest hazar...</td>\n",
       "      <td>Leo Buscaglia</td>\n",
       "      <td>Inspirational, Life, Motivational</td>\n",
       "    </tr>\n",
       "    <tr>\n",
       "      <th>96</th>\n",
       "      <td>He who has never learned to obey cannot be a g...</td>\n",
       "      <td>Aristotle</td>\n",
       "      <td>Inspirational, Leadership, Insperational</td>\n",
       "    </tr>\n",
       "    <tr>\n",
       "      <th>97</th>\n",
       "      <td>Change before you have to.</td>\n",
       "      <td>Jack Welch</td>\n",
       "      <td>Life, Motivational, Change</td>\n",
       "    </tr>\n",
       "    <tr>\n",
       "      <th>98</th>\n",
       "      <td>I don't need a friend who changes when I chang...</td>\n",
       "      <td>Plutarch</td>\n",
       "      <td>Friendship, Change, Philosophy</td>\n",
       "    </tr>\n",
       "    <tr>\n",
       "      <th>99</th>\n",
       "      <td>You don't get paid for the hour. You get paid ...</td>\n",
       "      <td>Jim Rohn</td>\n",
       "      <td>Funny, Motivational, Positive Thinking</td>\n",
       "    </tr>\n",
       "  </tbody>\n",
       "</table>\n",
       "<p>100 rows × 3 columns</p>\n",
       "</div>"
      ],
      "text/plain": [
       "                                         Quote Titles         Author Titles  \\\n",
       "0   One of the things I learned the hard way was t...          Lucille Ball   \n",
       "1   Sir, my concern is not whether God is on our s...       Abraham Lincoln   \n",
       "2   If you love what you are doing, you will be su...     Albert Schweitzer   \n",
       "3   Patience, persistence and perspiration make an...         Napoleon Hill   \n",
       "4   Christmas is the season of joy, of holiday gre...  Norman Vincent Peale   \n",
       "..                                                ...                   ...   \n",
       "95  Risks must be taken because the greatest hazar...         Leo Buscaglia   \n",
       "96  He who has never learned to obey cannot be a g...             Aristotle   \n",
       "97                         Change before you have to.            Jack Welch   \n",
       "98  I don't need a friend who changes when I chang...              Plutarch   \n",
       "99  You don't get paid for the hour. You get paid ...              Jim Rohn   \n",
       "\n",
       "                                 Quote Types  \n",
       "0              Inspirational, Life, Positive  \n",
       "1                    Leadership, God, Wisdom  \n",
       "2                  Happiness, Success, Happy  \n",
       "3           Inspirational, Positive, Success  \n",
       "4                 Christmas, Holiday, Giving  \n",
       "..                                       ...  \n",
       "95         Inspirational, Life, Motivational  \n",
       "96  Inspirational, Leadership, Insperational  \n",
       "97                Life, Motivational, Change  \n",
       "98            Friendship, Change, Philosophy  \n",
       "99    Funny, Motivational, Positive Thinking  \n",
       "\n",
       "[100 rows x 3 columns]"
      ]
     },
     "execution_count": 35,
     "metadata": {},
     "output_type": "execute_result"
    }
   ],
   "source": [
    "import pandas as pd\n",
    "df=pd.DataFrame({'Quote Titles':Quote_titles,'Author Titles':Author_titles, 'Quote Types':Quote_types})\n",
    "df"
   ]
  },
  {
   "cell_type": "code",
   "execution_count": 36,
   "id": "e9552838-85f5-4fd2-bafe-a820546f5428",
   "metadata": {
    "tags": []
   },
   "outputs": [],
   "source": [
    "next_button = driver.find_element(By.XPATH,\"/html/body/div[1]/div[2]/div/div/div/div[1]/div/div[3]/li[13]/a\")\n",
    "next_button.click()"
   ]
  },
  {
   "cell_type": "code",
   "execution_count": 37,
   "id": "39d6ffe4-f7f9-4f6c-9f41-d8de4c76ff35",
   "metadata": {
    "tags": []
   },
   "outputs": [],
   "source": [
    "Quote_titles = []\n",
    "Author_titles = []\n",
    "Quote_types = []"
   ]
  },
  {
   "cell_type": "code",
   "execution_count": 38,
   "id": "6d26c6bd-ab90-4201-a9d1-87cf0388cb90",
   "metadata": {
    "tags": []
   },
   "outputs": [],
   "source": [
    "title_tags=driver.find_elements(By.XPATH,'//a[@class=\"title\"]')\n",
    "for i in title_tags[0:100]:\n",
    "    title=i.text\n",
    "    Quote_titles.append(title)"
   ]
  },
  {
   "cell_type": "code",
   "execution_count": 39,
   "id": "da070d4c-8660-41cc-9336-f748a04e90f0",
   "metadata": {
    "tags": []
   },
   "outputs": [],
   "source": [
    "title_tags=driver.find_elements(By.XPATH,'//div[@class=\"author\"]')\n",
    "for i in title_tags[0:100]:\n",
    "    title=i.text\n",
    "    Author_titles.append(title)"
   ]
  },
  {
   "cell_type": "code",
   "execution_count": 40,
   "id": "311ca1c2-4cd3-410f-b4bb-3b8db9ba00dc",
   "metadata": {
    "tags": []
   },
   "outputs": [],
   "source": [
    "title_tags=driver.find_elements(By.XPATH,'//div[@class=\"tags\"]')\n",
    "for i in title_tags[0:100]:\n",
    "    title=i.text\n",
    "    Quote_types.append(title)"
   ]
  },
  {
   "cell_type": "code",
   "execution_count": 41,
   "id": "804f0f48-3ff5-4aaf-b3e7-970ede615b3b",
   "metadata": {
    "tags": []
   },
   "outputs": [],
   "source": [
    "print=(len(Quote_titles),len(Author_titles),len(Quote_types))"
   ]
  },
  {
   "cell_type": "code",
   "execution_count": 42,
   "id": "0dc174f3-e76d-4954-84e2-e0479a951814",
   "metadata": {
    "tags": []
   },
   "outputs": [
    {
     "data": {
      "text/plain": [
       "(100, 100, 100)"
      ]
     },
     "execution_count": 42,
     "metadata": {},
     "output_type": "execute_result"
    }
   ],
   "source": [
    "print"
   ]
  },
  {
   "cell_type": "code",
   "execution_count": 43,
   "id": "84f352f9-46ff-4c45-b4e8-fc0ee0a9e336",
   "metadata": {
    "tags": []
   },
   "outputs": [
    {
     "data": {
      "text/html": [
       "<div>\n",
       "<style scoped>\n",
       "    .dataframe tbody tr th:only-of-type {\n",
       "        vertical-align: middle;\n",
       "    }\n",
       "\n",
       "    .dataframe tbody tr th {\n",
       "        vertical-align: top;\n",
       "    }\n",
       "\n",
       "    .dataframe thead th {\n",
       "        text-align: right;\n",
       "    }\n",
       "</style>\n",
       "<table border=\"1\" class=\"dataframe\">\n",
       "  <thead>\n",
       "    <tr style=\"text-align: right;\">\n",
       "      <th></th>\n",
       "      <th>Quote Titles</th>\n",
       "      <th>Author Titles</th>\n",
       "      <th>Quote Types</th>\n",
       "    </tr>\n",
       "  </thead>\n",
       "  <tbody>\n",
       "    <tr>\n",
       "      <th>0</th>\n",
       "      <td>The only person who is educated is the one who...</td>\n",
       "      <td>Carl Rogers</td>\n",
       "      <td>Inspirational, Motivational, Education</td>\n",
       "    </tr>\n",
       "    <tr>\n",
       "      <th>1</th>\n",
       "      <td>Carry out a random act of kindness, with no ex...</td>\n",
       "      <td>Princess Diana</td>\n",
       "      <td>Inspirational, Motivational, Kindness</td>\n",
       "    </tr>\n",
       "    <tr>\n",
       "      <th>2</th>\n",
       "      <td>Don't be afraid to give up the good to go for ...</td>\n",
       "      <td>John D. Rockefeller</td>\n",
       "      <td>Inspirational, Motivational, Positive</td>\n",
       "    </tr>\n",
       "    <tr>\n",
       "      <th>3</th>\n",
       "      <td>Character cannot be developed in ease and quie...</td>\n",
       "      <td>Helen Keller</td>\n",
       "      <td>Inspirational, Life, Motivational</td>\n",
       "    </tr>\n",
       "    <tr>\n",
       "      <th>4</th>\n",
       "      <td>Honor to the soldier and sailor everywhere, wh...</td>\n",
       "      <td>Abraham Lincoln</td>\n",
       "      <td>Country, Veterans Day, Brother</td>\n",
       "    </tr>\n",
       "    <tr>\n",
       "      <th>...</th>\n",
       "      <td>...</td>\n",
       "      <td>...</td>\n",
       "      <td>...</td>\n",
       "    </tr>\n",
       "    <tr>\n",
       "      <th>95</th>\n",
       "      <td>Let us not seek the Republican answer or the D...</td>\n",
       "      <td>John F. Kennedy</td>\n",
       "      <td>4th Of July, Responsibility, Past</td>\n",
       "    </tr>\n",
       "    <tr>\n",
       "      <th>96</th>\n",
       "      <td>Life isn't a matter of milestones, but of mome...</td>\n",
       "      <td>Rose Kennedy</td>\n",
       "      <td>Inspirational, Life, Change</td>\n",
       "    </tr>\n",
       "    <tr>\n",
       "      <th>97</th>\n",
       "      <td>The time is always right to do what is right.</td>\n",
       "      <td>Martin Luther King, Jr.</td>\n",
       "      <td>Inspirational, Positive, Inspiring</td>\n",
       "    </tr>\n",
       "    <tr>\n",
       "      <th>98</th>\n",
       "      <td>Whatever you want to do, do it now. There are ...</td>\n",
       "      <td>Michael Landon</td>\n",
       "      <td>Motivational, Positive, Death</td>\n",
       "    </tr>\n",
       "    <tr>\n",
       "      <th>99</th>\n",
       "      <td>be yourself- not your idea of what you think s...</td>\n",
       "      <td>Henry David Thoreau</td>\n",
       "      <td>Inspirational, Being Yourself, Real</td>\n",
       "    </tr>\n",
       "  </tbody>\n",
       "</table>\n",
       "<p>100 rows × 3 columns</p>\n",
       "</div>"
      ],
      "text/plain": [
       "                                         Quote Titles  \\\n",
       "0   The only person who is educated is the one who...   \n",
       "1   Carry out a random act of kindness, with no ex...   \n",
       "2   Don't be afraid to give up the good to go for ...   \n",
       "3   Character cannot be developed in ease and quie...   \n",
       "4   Honor to the soldier and sailor everywhere, wh...   \n",
       "..                                                ...   \n",
       "95  Let us not seek the Republican answer or the D...   \n",
       "96  Life isn't a matter of milestones, but of mome...   \n",
       "97      The time is always right to do what is right.   \n",
       "98  Whatever you want to do, do it now. There are ...   \n",
       "99  be yourself- not your idea of what you think s...   \n",
       "\n",
       "              Author Titles                             Quote Types  \n",
       "0               Carl Rogers  Inspirational, Motivational, Education  \n",
       "1            Princess Diana   Inspirational, Motivational, Kindness  \n",
       "2       John D. Rockefeller   Inspirational, Motivational, Positive  \n",
       "3              Helen Keller       Inspirational, Life, Motivational  \n",
       "4           Abraham Lincoln          Country, Veterans Day, Brother  \n",
       "..                      ...                                     ...  \n",
       "95          John F. Kennedy       4th Of July, Responsibility, Past  \n",
       "96             Rose Kennedy             Inspirational, Life, Change  \n",
       "97  Martin Luther King, Jr.      Inspirational, Positive, Inspiring  \n",
       "98           Michael Landon           Motivational, Positive, Death  \n",
       "99      Henry David Thoreau     Inspirational, Being Yourself, Real  \n",
       "\n",
       "[100 rows x 3 columns]"
      ]
     },
     "execution_count": 43,
     "metadata": {},
     "output_type": "execute_result"
    }
   ],
   "source": [
    "import pandas as pd\n",
    "df=pd.DataFrame({'Quote Titles':Quote_titles,'Author Titles':Author_titles, 'Quote Types':Quote_types})\n",
    "df"
   ]
  },
  {
   "cell_type": "code",
   "execution_count": 44,
   "id": "11ad8077-488a-47e7-8d8a-86621a5f7760",
   "metadata": {
    "tags": []
   },
   "outputs": [],
   "source": [
    "next_button = driver.find_element(By.XPATH,\"/html/body/div[1]/div[2]/div/div/div/div[1]/div/div[3]/li[13]/a\")\n",
    "next_button.click()"
   ]
  },
  {
   "cell_type": "code",
   "execution_count": 45,
   "id": "ea6d84c9-1c88-4ee8-9d1c-1ddd96ed49f7",
   "metadata": {
    "tags": []
   },
   "outputs": [],
   "source": [
    "Quote_titles = []\n",
    "Author_titles = []\n",
    "Quote_types = []"
   ]
  },
  {
   "cell_type": "code",
   "execution_count": 46,
   "id": "3266c1fa-ef31-4822-b53f-7a417c26fd12",
   "metadata": {
    "tags": []
   },
   "outputs": [],
   "source": [
    "title_tags=driver.find_elements(By.XPATH,'//a[@class=\"title\"]')\n",
    "for i in title_tags[0:100]:\n",
    "    title=i.text\n",
    "    Quote_titles.append(title)"
   ]
  },
  {
   "cell_type": "code",
   "execution_count": 47,
   "id": "df430104-f71a-4e05-9b1c-46e592f6f04a",
   "metadata": {
    "tags": []
   },
   "outputs": [],
   "source": [
    "title_tags=driver.find_elements(By.XPATH,'//div[@class=\"author\"]')\n",
    "for i in title_tags[0:100]:\n",
    "    title=i.text\n",
    "    Author_titles.append(title)"
   ]
  },
  {
   "cell_type": "code",
   "execution_count": 48,
   "id": "7bb8d85b-4d59-4b96-8af5-65f148728a89",
   "metadata": {
    "tags": []
   },
   "outputs": [],
   "source": [
    "title_tags=driver.find_elements(By.XPATH,'//div[@class=\"tags\"]')\n",
    "for i in title_tags[0:100]:\n",
    "    title=i.text\n",
    "    Quote_types.append(title)"
   ]
  },
  {
   "cell_type": "code",
   "execution_count": 49,
   "id": "4a454632-c918-4893-aaab-910af46ade4a",
   "metadata": {
    "tags": []
   },
   "outputs": [],
   "source": [
    "print=(len(Quote_titles),len(Author_titles),len(Quote_types))"
   ]
  },
  {
   "cell_type": "code",
   "execution_count": 50,
   "id": "7024e27a-fccc-484e-9109-a2455fad157e",
   "metadata": {
    "tags": []
   },
   "outputs": [
    {
     "data": {
      "text/plain": [
       "(100, 100, 100)"
      ]
     },
     "execution_count": 50,
     "metadata": {},
     "output_type": "execute_result"
    }
   ],
   "source": [
    "print"
   ]
  },
  {
   "cell_type": "code",
   "execution_count": 51,
   "id": "487bef5a-deff-46ab-b579-6639124466a5",
   "metadata": {
    "tags": []
   },
   "outputs": [
    {
     "data": {
      "text/html": [
       "<div>\n",
       "<style scoped>\n",
       "    .dataframe tbody tr th:only-of-type {\n",
       "        vertical-align: middle;\n",
       "    }\n",
       "\n",
       "    .dataframe tbody tr th {\n",
       "        vertical-align: top;\n",
       "    }\n",
       "\n",
       "    .dataframe thead th {\n",
       "        text-align: right;\n",
       "    }\n",
       "</style>\n",
       "<table border=\"1\" class=\"dataframe\">\n",
       "  <thead>\n",
       "    <tr style=\"text-align: right;\">\n",
       "      <th></th>\n",
       "      <th>Quote Titles</th>\n",
       "      <th>Author Titles</th>\n",
       "      <th>Quote Types</th>\n",
       "    </tr>\n",
       "  </thead>\n",
       "  <tbody>\n",
       "    <tr>\n",
       "      <th>0</th>\n",
       "      <td>If music be the food of love, play on, Give me...</td>\n",
       "      <td>William Shakespeare</td>\n",
       "      <td>Music, Food, Unrequited Love</td>\n",
       "    </tr>\n",
       "    <tr>\n",
       "      <th>1</th>\n",
       "      <td>Marriage: If you want something to last foreve...</td>\n",
       "      <td>F. Burton Howard</td>\n",
       "      <td>Love, Family, Marriage</td>\n",
       "    </tr>\n",
       "    <tr>\n",
       "      <th>2</th>\n",
       "      <td>Eighty percent of success is showing up.</td>\n",
       "      <td>Woody Allen</td>\n",
       "      <td>Inspirational, Positive, Inspiring</td>\n",
       "    </tr>\n",
       "    <tr>\n",
       "      <th>3</th>\n",
       "      <td>A hero is an ordinary individual who finds the...</td>\n",
       "      <td>Christopher Reeve</td>\n",
       "      <td>Inspirational, Motivational, Strength</td>\n",
       "    </tr>\n",
       "    <tr>\n",
       "      <th>4</th>\n",
       "      <td>Our dilemma is that we hate change and love it...</td>\n",
       "      <td>Sydney J. Harris</td>\n",
       "      <td>Love, Funny, Change</td>\n",
       "    </tr>\n",
       "    <tr>\n",
       "      <th>...</th>\n",
       "      <td>...</td>\n",
       "      <td>...</td>\n",
       "      <td>...</td>\n",
       "    </tr>\n",
       "    <tr>\n",
       "      <th>95</th>\n",
       "      <td>There are three constants in life... change, c...</td>\n",
       "      <td>Stephen Covey</td>\n",
       "      <td>Life, Change, Bad Ass</td>\n",
       "    </tr>\n",
       "    <tr>\n",
       "      <th>96</th>\n",
       "      <td>Young people need models, not critics.</td>\n",
       "      <td>John Wooden</td>\n",
       "      <td>Basketball, Youth Of Today, Nba</td>\n",
       "    </tr>\n",
       "    <tr>\n",
       "      <th>97</th>\n",
       "      <td>Advice is what we ask for when we already know...</td>\n",
       "      <td>Erica Jong</td>\n",
       "      <td>Funny, Being Strong, Spiritual</td>\n",
       "    </tr>\n",
       "    <tr>\n",
       "      <th>98</th>\n",
       "      <td>The great use of life is to spend it for somet...</td>\n",
       "      <td>William James</td>\n",
       "      <td>Inspirational, Life, Motivational</td>\n",
       "    </tr>\n",
       "    <tr>\n",
       "      <th>99</th>\n",
       "      <td>Clear thinking requires courage rather than in...</td>\n",
       "      <td>Thomas Szasz</td>\n",
       "      <td>Courage, Thinking, Clear</td>\n",
       "    </tr>\n",
       "  </tbody>\n",
       "</table>\n",
       "<p>100 rows × 3 columns</p>\n",
       "</div>"
      ],
      "text/plain": [
       "                                         Quote Titles        Author Titles  \\\n",
       "0   If music be the food of love, play on, Give me...  William Shakespeare   \n",
       "1   Marriage: If you want something to last foreve...     F. Burton Howard   \n",
       "2            Eighty percent of success is showing up.          Woody Allen   \n",
       "3   A hero is an ordinary individual who finds the...    Christopher Reeve   \n",
       "4   Our dilemma is that we hate change and love it...     Sydney J. Harris   \n",
       "..                                                ...                  ...   \n",
       "95  There are three constants in life... change, c...        Stephen Covey   \n",
       "96             Young people need models, not critics.          John Wooden   \n",
       "97  Advice is what we ask for when we already know...           Erica Jong   \n",
       "98  The great use of life is to spend it for somet...        William James   \n",
       "99  Clear thinking requires courage rather than in...         Thomas Szasz   \n",
       "\n",
       "                              Quote Types  \n",
       "0            Music, Food, Unrequited Love  \n",
       "1                  Love, Family, Marriage  \n",
       "2      Inspirational, Positive, Inspiring  \n",
       "3   Inspirational, Motivational, Strength  \n",
       "4                     Love, Funny, Change  \n",
       "..                                    ...  \n",
       "95                  Life, Change, Bad Ass  \n",
       "96        Basketball, Youth Of Today, Nba  \n",
       "97         Funny, Being Strong, Spiritual  \n",
       "98      Inspirational, Life, Motivational  \n",
       "99               Courage, Thinking, Clear  \n",
       "\n",
       "[100 rows x 3 columns]"
      ]
     },
     "execution_count": 51,
     "metadata": {},
     "output_type": "execute_result"
    }
   ],
   "source": [
    "import pandas as pd\n",
    "df=pd.DataFrame({'Quote Titles':Quote_titles,'Author Titles':Author_titles, 'Quote Types':Quote_types})\n",
    "df"
   ]
  },
  {
   "cell_type": "code",
   "execution_count": 52,
   "id": "806fd23a-d224-4516-841d-5e7b08d8b61d",
   "metadata": {
    "tags": []
   },
   "outputs": [],
   "source": [
    "next_button = driver.find_element(By.XPATH,\"/html/body/div[1]/div[2]/div/div/div/div[1]/div/div[3]/li[13]/a\")\n",
    "next_button.click()"
   ]
  },
  {
   "cell_type": "code",
   "execution_count": 53,
   "id": "d2032d09-cead-4773-ae8b-4ed6596ed8fc",
   "metadata": {
    "tags": []
   },
   "outputs": [],
   "source": [
    "Quote_titles = []\n",
    "Author_titles = []\n",
    "Quote_types = []"
   ]
  },
  {
   "cell_type": "code",
   "execution_count": 54,
   "id": "c4891786-17c1-4615-92ad-73ccab02bc95",
   "metadata": {
    "tags": []
   },
   "outputs": [],
   "source": [
    "title_tags=driver.find_elements(By.XPATH,'//a[@class=\"title\"]')\n",
    "for i in title_tags[0:100]:\n",
    "    title=i.text\n",
    "    Quote_titles.append(title)"
   ]
  },
  {
   "cell_type": "code",
   "execution_count": 55,
   "id": "e9d2d17f-62b7-4278-a5d1-f306951733aa",
   "metadata": {
    "tags": []
   },
   "outputs": [],
   "source": [
    "title_tags=driver.find_elements(By.XPATH,'//div[@class=\"author\"]')\n",
    "for i in title_tags[0:100]:\n",
    "    title=i.text\n",
    "    Author_titles.append(title)"
   ]
  },
  {
   "cell_type": "code",
   "execution_count": 56,
   "id": "135ad85d-c53c-4520-8135-85aff7ef596a",
   "metadata": {
    "tags": []
   },
   "outputs": [],
   "source": [
    "title_tags=driver.find_elements(By.XPATH,'//div[@class=\"tags\"]')\n",
    "for i in title_tags[0:100]:\n",
    "    title=i.text\n",
    "    Quote_types.append(title)"
   ]
  },
  {
   "cell_type": "code",
   "execution_count": 57,
   "id": "3381b8e5-10f9-4383-abf0-8db1e30c6b9e",
   "metadata": {
    "tags": []
   },
   "outputs": [],
   "source": [
    "print=(len(Quote_titles),len(Author_titles),len(Quote_types))"
   ]
  },
  {
   "cell_type": "code",
   "execution_count": 58,
   "id": "7f8acd21-8a8e-4eee-a4a9-17fd62f29347",
   "metadata": {
    "tags": []
   },
   "outputs": [
    {
     "data": {
      "text/plain": [
       "(100, 100, 100)"
      ]
     },
     "execution_count": 58,
     "metadata": {},
     "output_type": "execute_result"
    }
   ],
   "source": [
    "print"
   ]
  },
  {
   "cell_type": "code",
   "execution_count": 59,
   "id": "b0463e41-b342-4184-a4f8-86b59b9e6856",
   "metadata": {
    "tags": []
   },
   "outputs": [
    {
     "data": {
      "text/html": [
       "<div>\n",
       "<style scoped>\n",
       "    .dataframe tbody tr th:only-of-type {\n",
       "        vertical-align: middle;\n",
       "    }\n",
       "\n",
       "    .dataframe tbody tr th {\n",
       "        vertical-align: top;\n",
       "    }\n",
       "\n",
       "    .dataframe thead th {\n",
       "        text-align: right;\n",
       "    }\n",
       "</style>\n",
       "<table border=\"1\" class=\"dataframe\">\n",
       "  <thead>\n",
       "    <tr style=\"text-align: right;\">\n",
       "      <th></th>\n",
       "      <th>Quote Titles</th>\n",
       "      <th>Author Titles</th>\n",
       "      <th>Quote Types</th>\n",
       "    </tr>\n",
       "  </thead>\n",
       "  <tbody>\n",
       "    <tr>\n",
       "      <th>0</th>\n",
       "      <td>A man is not old until regrets take the place ...</td>\n",
       "      <td>John Barrymore</td>\n",
       "      <td>Love, Inspirational, Life</td>\n",
       "    </tr>\n",
       "    <tr>\n",
       "      <th>1</th>\n",
       "      <td>A part of kindness consists in loving people m...</td>\n",
       "      <td>Joseph Joubert</td>\n",
       "      <td>Love, Kindness, Women</td>\n",
       "    </tr>\n",
       "    <tr>\n",
       "      <th>2</th>\n",
       "      <td>When you start to develop your powers of empat...</td>\n",
       "      <td>Susan Sarandon</td>\n",
       "      <td>Kindness, Power, Imagination</td>\n",
       "    </tr>\n",
       "    <tr>\n",
       "      <th>3</th>\n",
       "      <td>Judge a man by his questions rather than his a...</td>\n",
       "      <td>Voltaire</td>\n",
       "      <td>Wisdom, Clever, Men</td>\n",
       "    </tr>\n",
       "    <tr>\n",
       "      <th>4</th>\n",
       "      <td>If you make a sale, you can make a living. If ...</td>\n",
       "      <td>Jim Rohn</td>\n",
       "      <td>Inspirational, Business, Investment</td>\n",
       "    </tr>\n",
       "    <tr>\n",
       "      <th>...</th>\n",
       "      <td>...</td>\n",
       "      <td>...</td>\n",
       "      <td>...</td>\n",
       "    </tr>\n",
       "    <tr>\n",
       "      <th>95</th>\n",
       "      <td>All things are difficult before they are easy.</td>\n",
       "      <td>Thomas Fuller</td>\n",
       "      <td>Inspirational, Motivational, Positive</td>\n",
       "    </tr>\n",
       "    <tr>\n",
       "      <th>96</th>\n",
       "      <td>People ask the difference between a leader and...</td>\n",
       "      <td>Theodore Roosevelt</td>\n",
       "      <td>Leadership, Differences, People</td>\n",
       "    </tr>\n",
       "    <tr>\n",
       "      <th>97</th>\n",
       "      <td>The thing that is really hard, and really amaz...</td>\n",
       "      <td>Anna Quindlen</td>\n",
       "      <td>Confidence, Letting Go, Being Yourself</td>\n",
       "    </tr>\n",
       "    <tr>\n",
       "      <th>98</th>\n",
       "      <td>Love is the ability and willingness to allow t...</td>\n",
       "      <td>Wayne Dyer</td>\n",
       "      <td>Love, Anxiety, Self Improvement</td>\n",
       "    </tr>\n",
       "    <tr>\n",
       "      <th>99</th>\n",
       "      <td>Sooner or later, those who win are those who t...</td>\n",
       "      <td>Paul Tournier</td>\n",
       "      <td>Positive, Sports, Confidence</td>\n",
       "    </tr>\n",
       "  </tbody>\n",
       "</table>\n",
       "<p>100 rows × 3 columns</p>\n",
       "</div>"
      ],
      "text/plain": [
       "                                         Quote Titles       Author Titles  \\\n",
       "0   A man is not old until regrets take the place ...      John Barrymore   \n",
       "1   A part of kindness consists in loving people m...      Joseph Joubert   \n",
       "2   When you start to develop your powers of empat...      Susan Sarandon   \n",
       "3   Judge a man by his questions rather than his a...            Voltaire   \n",
       "4   If you make a sale, you can make a living. If ...            Jim Rohn   \n",
       "..                                                ...                 ...   \n",
       "95     All things are difficult before they are easy.       Thomas Fuller   \n",
       "96  People ask the difference between a leader and...  Theodore Roosevelt   \n",
       "97  The thing that is really hard, and really amaz...       Anna Quindlen   \n",
       "98  Love is the ability and willingness to allow t...          Wayne Dyer   \n",
       "99  Sooner or later, those who win are those who t...       Paul Tournier   \n",
       "\n",
       "                               Quote Types  \n",
       "0                Love, Inspirational, Life  \n",
       "1                    Love, Kindness, Women  \n",
       "2             Kindness, Power, Imagination  \n",
       "3                      Wisdom, Clever, Men  \n",
       "4      Inspirational, Business, Investment  \n",
       "..                                     ...  \n",
       "95   Inspirational, Motivational, Positive  \n",
       "96         Leadership, Differences, People  \n",
       "97  Confidence, Letting Go, Being Yourself  \n",
       "98         Love, Anxiety, Self Improvement  \n",
       "99            Positive, Sports, Confidence  \n",
       "\n",
       "[100 rows x 3 columns]"
      ]
     },
     "execution_count": 59,
     "metadata": {},
     "output_type": "execute_result"
    }
   ],
   "source": [
    "import pandas as pd\n",
    "df=pd.DataFrame({'Quote Titles':Quote_titles,'Author Titles':Author_titles, 'Quote Types':Quote_types})\n",
    "df"
   ]
  },
  {
   "cell_type": "code",
   "execution_count": 60,
   "id": "b4c05415-b7ef-4426-b2b6-77c79c30f3d7",
   "metadata": {
    "tags": []
   },
   "outputs": [],
   "source": [
    "next_button = driver.find_element(By.XPATH,\"/html/body/div[1]/div[2]/div/div/div/div[1]/div/div[3]/li[13]/a\")\n",
    "next_button.click()"
   ]
  },
  {
   "cell_type": "code",
   "execution_count": 61,
   "id": "3b696452-e81a-4fa6-b468-d75df36bce7c",
   "metadata": {
    "tags": []
   },
   "outputs": [],
   "source": [
    "Quote_titles = []\n",
    "Author_titles = []\n",
    "Quote_types = []"
   ]
  },
  {
   "cell_type": "code",
   "execution_count": 62,
   "id": "ca9ccc0d-2612-4c33-8dfb-431e03a8a004",
   "metadata": {
    "tags": []
   },
   "outputs": [],
   "source": [
    "title_tags=driver.find_elements(By.XPATH,'//a[@class=\"title\"]')\n",
    "for i in title_tags[0:100]:\n",
    "    title=i.text\n",
    "    Quote_titles.append(title)"
   ]
  },
  {
   "cell_type": "code",
   "execution_count": 63,
   "id": "b4b20433-b37e-4a09-8fc0-56312d26a9c0",
   "metadata": {
    "tags": []
   },
   "outputs": [],
   "source": [
    "title_tags=driver.find_elements(By.XPATH,'//div[@class=\"author\"]')\n",
    "for i in title_tags[0:100]:\n",
    "    title=i.text\n",
    "    Author_titles.append(title)"
   ]
  },
  {
   "cell_type": "code",
   "execution_count": 64,
   "id": "b0f82501-63bb-4c6c-a603-f5ab78ca9b65",
   "metadata": {
    "tags": []
   },
   "outputs": [],
   "source": [
    "title_tags=driver.find_elements(By.XPATH,'//div[@class=\"tags\"]')\n",
    "for i in title_tags[0:100]:\n",
    "    title=i.text\n",
    "    Quote_types.append(title)"
   ]
  },
  {
   "cell_type": "code",
   "execution_count": 65,
   "id": "e70b21fb-f024-481e-80d9-f645d592c0d5",
   "metadata": {
    "tags": []
   },
   "outputs": [],
   "source": [
    "print=(len(Quote_titles),len(Author_titles),len(Quote_types))"
   ]
  },
  {
   "cell_type": "code",
   "execution_count": 66,
   "id": "06a19aea-dbdf-4908-9106-cf59b16d402d",
   "metadata": {
    "tags": []
   },
   "outputs": [
    {
     "data": {
      "text/plain": [
       "(100, 100, 100)"
      ]
     },
     "execution_count": 66,
     "metadata": {},
     "output_type": "execute_result"
    }
   ],
   "source": [
    "print"
   ]
  },
  {
   "cell_type": "code",
   "execution_count": 67,
   "id": "8000f837-c439-45c8-bd69-3b33ec682eff",
   "metadata": {
    "tags": []
   },
   "outputs": [
    {
     "data": {
      "text/html": [
       "<div>\n",
       "<style scoped>\n",
       "    .dataframe tbody tr th:only-of-type {\n",
       "        vertical-align: middle;\n",
       "    }\n",
       "\n",
       "    .dataframe tbody tr th {\n",
       "        vertical-align: top;\n",
       "    }\n",
       "\n",
       "    .dataframe thead th {\n",
       "        text-align: right;\n",
       "    }\n",
       "</style>\n",
       "<table border=\"1\" class=\"dataframe\">\n",
       "  <thead>\n",
       "    <tr style=\"text-align: right;\">\n",
       "      <th></th>\n",
       "      <th>Quote Titles</th>\n",
       "      <th>Author Titles</th>\n",
       "      <th>Quote Types</th>\n",
       "    </tr>\n",
       "  </thead>\n",
       "  <tbody>\n",
       "    <tr>\n",
       "      <th>0</th>\n",
       "      <td>Those who matter don't mind, and those who min...</td>\n",
       "      <td>Bernard Baruch</td>\n",
       "      <td>Inspirational, Funny, Life</td>\n",
       "    </tr>\n",
       "    <tr>\n",
       "      <th>1</th>\n",
       "      <td>You were born to win, but to be a winner, you ...</td>\n",
       "      <td>Zig Ziglar</td>\n",
       "      <td>Inspirational, Life, Motivational</td>\n",
       "    </tr>\n",
       "    <tr>\n",
       "      <th>2</th>\n",
       "      <td>If you don't like something, change it. If you...</td>\n",
       "      <td>Maya Angelou</td>\n",
       "      <td>Inspirational, Motivational, Change</td>\n",
       "    </tr>\n",
       "    <tr>\n",
       "      <th>3</th>\n",
       "      <td>Gratitude unlocks the fullness of life. It tur...</td>\n",
       "      <td>Melody Beattie</td>\n",
       "      <td>Inspirational, Life, Change</td>\n",
       "    </tr>\n",
       "    <tr>\n",
       "      <th>4</th>\n",
       "      <td>Everyone seems to have a clear idea of how oth...</td>\n",
       "      <td>Paulo Coelho</td>\n",
       "      <td>Inspirational, Life, Happiness</td>\n",
       "    </tr>\n",
       "    <tr>\n",
       "      <th>...</th>\n",
       "      <td>...</td>\n",
       "      <td>...</td>\n",
       "      <td>...</td>\n",
       "    </tr>\n",
       "    <tr>\n",
       "      <th>95</th>\n",
       "      <td>America will never be destroyed from the outsi...</td>\n",
       "      <td>Abraham Lincoln</td>\n",
       "      <td>Wisdom, Religious, Freedom</td>\n",
       "    </tr>\n",
       "    <tr>\n",
       "      <th>96</th>\n",
       "      <td>The average dog is a nicer person than the ave...</td>\n",
       "      <td>Andy Rooney</td>\n",
       "      <td>Inspirational, Funny, Dog</td>\n",
       "    </tr>\n",
       "    <tr>\n",
       "      <th>97</th>\n",
       "      <td>Faithful servants never retire. You can retire...</td>\n",
       "      <td>Rick Warren</td>\n",
       "      <td>Reality, Servant Of God, Careers</td>\n",
       "    </tr>\n",
       "    <tr>\n",
       "      <th>98</th>\n",
       "      <td>In matters of style, swim with the current; in...</td>\n",
       "      <td>Thomas Jefferson</td>\n",
       "      <td>Inspirational, Motivational, Success</td>\n",
       "    </tr>\n",
       "    <tr>\n",
       "      <th>99</th>\n",
       "      <td>Dad needs to show an incredible amount of resp...</td>\n",
       "      <td>Tim Allen</td>\n",
       "      <td>Friendship, Teamwork, Mom</td>\n",
       "    </tr>\n",
       "  </tbody>\n",
       "</table>\n",
       "<p>100 rows × 3 columns</p>\n",
       "</div>"
      ],
      "text/plain": [
       "                                         Quote Titles     Author Titles  \\\n",
       "0   Those who matter don't mind, and those who min...    Bernard Baruch   \n",
       "1   You were born to win, but to be a winner, you ...        Zig Ziglar   \n",
       "2   If you don't like something, change it. If you...      Maya Angelou   \n",
       "3   Gratitude unlocks the fullness of life. It tur...    Melody Beattie   \n",
       "4   Everyone seems to have a clear idea of how oth...      Paulo Coelho   \n",
       "..                                                ...               ...   \n",
       "95  America will never be destroyed from the outsi...   Abraham Lincoln   \n",
       "96  The average dog is a nicer person than the ave...       Andy Rooney   \n",
       "97  Faithful servants never retire. You can retire...       Rick Warren   \n",
       "98  In matters of style, swim with the current; in...  Thomas Jefferson   \n",
       "99  Dad needs to show an incredible amount of resp...         Tim Allen   \n",
       "\n",
       "                             Quote Types  \n",
       "0             Inspirational, Funny, Life  \n",
       "1      Inspirational, Life, Motivational  \n",
       "2    Inspirational, Motivational, Change  \n",
       "3            Inspirational, Life, Change  \n",
       "4         Inspirational, Life, Happiness  \n",
       "..                                   ...  \n",
       "95            Wisdom, Religious, Freedom  \n",
       "96             Inspirational, Funny, Dog  \n",
       "97      Reality, Servant Of God, Careers  \n",
       "98  Inspirational, Motivational, Success  \n",
       "99             Friendship, Teamwork, Mom  \n",
       "\n",
       "[100 rows x 3 columns]"
      ]
     },
     "execution_count": 67,
     "metadata": {},
     "output_type": "execute_result"
    }
   ],
   "source": [
    "import pandas as pd\n",
    "df=pd.DataFrame({'Quote Titles':Quote_titles,'Author Titles':Author_titles, 'Quote Types':Quote_types})\n",
    "df"
   ]
  },
  {
   "cell_type": "code",
   "execution_count": 68,
   "id": "3fcc2151-7852-4144-82bb-0ad0506b6d01",
   "metadata": {
    "tags": []
   },
   "outputs": [],
   "source": [
    "next_button = driver.find_element(By.XPATH,\"/html/body/div[1]/div[2]/div/div/div/div[1]/div/div[3]/li[13]/a\")\n",
    "next_button.click()"
   ]
  },
  {
   "cell_type": "code",
   "execution_count": 69,
   "id": "bc6664d8-cb99-4d87-9e0d-e6946f2137e8",
   "metadata": {
    "tags": []
   },
   "outputs": [],
   "source": [
    "Quote_titles = []\n",
    "Author_titles = []\n",
    "Quote_types = []"
   ]
  },
  {
   "cell_type": "code",
   "execution_count": 70,
   "id": "985adcd5-186f-417f-8979-1e5e4c6aebc0",
   "metadata": {
    "tags": []
   },
   "outputs": [],
   "source": [
    "title_tags=driver.find_elements(By.XPATH,'//a[@class=\"title\"]')\n",
    "for i in title_tags[0:100]:\n",
    "    title=i.text\n",
    "    Quote_titles.append(title)"
   ]
  },
  {
   "cell_type": "code",
   "execution_count": 71,
   "id": "dee40a95-30f8-40f5-9400-c55b26c7ae54",
   "metadata": {
    "tags": []
   },
   "outputs": [],
   "source": [
    "title_tags=driver.find_elements(By.XPATH,'//div[@class=\"author\"]')\n",
    "for i in title_tags[0:100]:\n",
    "    title=i.text\n",
    "    Author_titles.append(title)"
   ]
  },
  {
   "cell_type": "code",
   "execution_count": 72,
   "id": "d284e163-69c5-481f-81e6-fa5a5c5cfae7",
   "metadata": {
    "tags": []
   },
   "outputs": [],
   "source": [
    "title_tags=driver.find_elements(By.XPATH,'//div[@class=\"tags\"]')\n",
    "for i in title_tags[0:100]:\n",
    "    title=i.text\n",
    "    Quote_types.append(title)"
   ]
  },
  {
   "cell_type": "code",
   "execution_count": 73,
   "id": "350791b8-2637-4935-b331-0a8c0a3b8adf",
   "metadata": {
    "tags": []
   },
   "outputs": [],
   "source": [
    "print=(len(Quote_titles),len(Author_titles),len(Quote_types))"
   ]
  },
  {
   "cell_type": "code",
   "execution_count": 74,
   "id": "ac2498e2-5137-4489-917d-339efd015f15",
   "metadata": {
    "tags": []
   },
   "outputs": [
    {
     "data": {
      "text/plain": [
       "(100, 100, 100)"
      ]
     },
     "execution_count": 74,
     "metadata": {},
     "output_type": "execute_result"
    }
   ],
   "source": [
    "print"
   ]
  },
  {
   "cell_type": "code",
   "execution_count": 75,
   "id": "4082d8df-ee19-4ec4-91b2-929bdd9265e5",
   "metadata": {
    "tags": []
   },
   "outputs": [
    {
     "data": {
      "text/html": [
       "<div>\n",
       "<style scoped>\n",
       "    .dataframe tbody tr th:only-of-type {\n",
       "        vertical-align: middle;\n",
       "    }\n",
       "\n",
       "    .dataframe tbody tr th {\n",
       "        vertical-align: top;\n",
       "    }\n",
       "\n",
       "    .dataframe thead th {\n",
       "        text-align: right;\n",
       "    }\n",
       "</style>\n",
       "<table border=\"1\" class=\"dataframe\">\n",
       "  <thead>\n",
       "    <tr style=\"text-align: right;\">\n",
       "      <th></th>\n",
       "      <th>Quote Titles</th>\n",
       "      <th>Author Titles</th>\n",
       "      <th>Quote Types</th>\n",
       "    </tr>\n",
       "  </thead>\n",
       "  <tbody>\n",
       "    <tr>\n",
       "      <th>0</th>\n",
       "      <td>We are United States Marines, and for two and ...</td>\n",
       "      <td>James L. Jones</td>\n",
       "      <td>Military, Marine, Two</td>\n",
       "    </tr>\n",
       "    <tr>\n",
       "      <th>1</th>\n",
       "      <td>Patience is the companion of wisdom.</td>\n",
       "      <td>Saint Augustine</td>\n",
       "      <td>Inspirational, Patience, Spiritual</td>\n",
       "    </tr>\n",
       "    <tr>\n",
       "      <th>2</th>\n",
       "      <td>Peace cannot be kept by force; it can only be ...</td>\n",
       "      <td>Albert Einstein</td>\n",
       "      <td>Love, Inspirational, Life</td>\n",
       "    </tr>\n",
       "    <tr>\n",
       "      <th>3</th>\n",
       "      <td>I prefer to be true to myself, even at the haz...</td>\n",
       "      <td>Frederick Douglass</td>\n",
       "      <td>Respect, Fear, Integrity</td>\n",
       "    </tr>\n",
       "    <tr>\n",
       "      <th>4</th>\n",
       "      <td>The two hardest tests on the spiritual road ar...</td>\n",
       "      <td>Paulo Coelho</td>\n",
       "      <td>Love, Life, Patience</td>\n",
       "    </tr>\n",
       "    <tr>\n",
       "      <th>...</th>\n",
       "      <td>...</td>\n",
       "      <td>...</td>\n",
       "      <td>...</td>\n",
       "    </tr>\n",
       "    <tr>\n",
       "      <th>95</th>\n",
       "      <td>To love means loving the unlovable. To forgive...</td>\n",
       "      <td>Gilbert K. Chesterton</td>\n",
       "      <td>Love, Inspirational, Success</td>\n",
       "    </tr>\n",
       "    <tr>\n",
       "      <th>96</th>\n",
       "      <td>Be brave. Take risks. Nothing can substitute e...</td>\n",
       "      <td>Paulo Coelho</td>\n",
       "      <td>Encouraging, Courage, Inspiration</td>\n",
       "    </tr>\n",
       "    <tr>\n",
       "      <th>97</th>\n",
       "      <td>If you really want to do something, you'll fin...</td>\n",
       "      <td>Jim Rohn</td>\n",
       "      <td>Inspirational, Motivational, Success</td>\n",
       "    </tr>\n",
       "    <tr>\n",
       "      <th>98</th>\n",
       "      <td>It is neither wealth nor splendor; but tranqui...</td>\n",
       "      <td>Thomas Jefferson</td>\n",
       "      <td>Life, Happiness, Work</td>\n",
       "    </tr>\n",
       "    <tr>\n",
       "      <th>99</th>\n",
       "      <td>A thousand words will not leave so deep an imp...</td>\n",
       "      <td>Henrik Ibsen</td>\n",
       "      <td>Inspirational, Inspiring, Positivity</td>\n",
       "    </tr>\n",
       "  </tbody>\n",
       "</table>\n",
       "<p>100 rows × 3 columns</p>\n",
       "</div>"
      ],
      "text/plain": [
       "                                         Quote Titles          Author Titles  \\\n",
       "0   We are United States Marines, and for two and ...         James L. Jones   \n",
       "1                Patience is the companion of wisdom.        Saint Augustine   \n",
       "2   Peace cannot be kept by force; it can only be ...        Albert Einstein   \n",
       "3   I prefer to be true to myself, even at the haz...     Frederick Douglass   \n",
       "4   The two hardest tests on the spiritual road ar...           Paulo Coelho   \n",
       "..                                                ...                    ...   \n",
       "95  To love means loving the unlovable. To forgive...  Gilbert K. Chesterton   \n",
       "96  Be brave. Take risks. Nothing can substitute e...           Paulo Coelho   \n",
       "97  If you really want to do something, you'll fin...               Jim Rohn   \n",
       "98  It is neither wealth nor splendor; but tranqui...       Thomas Jefferson   \n",
       "99  A thousand words will not leave so deep an imp...           Henrik Ibsen   \n",
       "\n",
       "                             Quote Types  \n",
       "0                  Military, Marine, Two  \n",
       "1     Inspirational, Patience, Spiritual  \n",
       "2              Love, Inspirational, Life  \n",
       "3               Respect, Fear, Integrity  \n",
       "4                   Love, Life, Patience  \n",
       "..                                   ...  \n",
       "95          Love, Inspirational, Success  \n",
       "96     Encouraging, Courage, Inspiration  \n",
       "97  Inspirational, Motivational, Success  \n",
       "98                 Life, Happiness, Work  \n",
       "99  Inspirational, Inspiring, Positivity  \n",
       "\n",
       "[100 rows x 3 columns]"
      ]
     },
     "execution_count": 75,
     "metadata": {},
     "output_type": "execute_result"
    }
   ],
   "source": [
    "import pandas as pd\n",
    "df=pd.DataFrame({'Quote Titles':Quote_titles,'Author Titles':Author_titles, 'Quote Types':Quote_types})\n",
    "df"
   ]
  },
  {
   "cell_type": "code",
   "execution_count": 76,
   "id": "a338a743-c264-4a89-b37e-76a5971e9981",
   "metadata": {
    "tags": []
   },
   "outputs": [],
   "source": [
    "next_button = driver.find_element(By.XPATH,\"/html/body/div[1]/div[2]/div/div/div/div[1]/div/div[3]/li[13]/a\")\n",
    "next_button.click()"
   ]
  },
  {
   "cell_type": "code",
   "execution_count": 77,
   "id": "28f7b3f4-b917-4339-bc29-c1806f2bc95d",
   "metadata": {
    "tags": []
   },
   "outputs": [],
   "source": [
    "Quote_titles = []\n",
    "Author_titles = []\n",
    "Quote_types = []"
   ]
  },
  {
   "cell_type": "code",
   "execution_count": 78,
   "id": "78bbf948-cbaa-46c9-b260-7392e13b3f22",
   "metadata": {
    "tags": []
   },
   "outputs": [],
   "source": [
    "title_tags=driver.find_elements(By.XPATH,'//a[@class=\"title\"]')\n",
    "for i in title_tags[0:100]:\n",
    "    title=i.text\n",
    "    Quote_titles.append(title)"
   ]
  },
  {
   "cell_type": "code",
   "execution_count": 79,
   "id": "d5fa00ea-4da8-4d77-910a-d6c23355db22",
   "metadata": {
    "tags": []
   },
   "outputs": [],
   "source": [
    "title_tags=driver.find_elements(By.XPATH,'//div[@class=\"author\"]')\n",
    "for i in title_tags[0:100]:\n",
    "    title=i.text\n",
    "    Author_titles.append(title)"
   ]
  },
  {
   "cell_type": "code",
   "execution_count": 80,
   "id": "24bba0ea-a20d-41d3-bda3-fc499c4d1f63",
   "metadata": {
    "tags": []
   },
   "outputs": [],
   "source": [
    "title_tags=driver.find_elements(By.XPATH,'//div[@class=\"tags\"]')\n",
    "for i in title_tags[0:100]:\n",
    "    title=i.text\n",
    "    Quote_types.append(title)"
   ]
  },
  {
   "cell_type": "code",
   "execution_count": 81,
   "id": "604f7dec-295a-4629-89c9-616f308ada35",
   "metadata": {
    "tags": []
   },
   "outputs": [],
   "source": [
    "print=(len(Quote_titles),len(Author_titles),len(Quote_types))"
   ]
  },
  {
   "cell_type": "code",
   "execution_count": 82,
   "id": "42bbbac8-b9cb-4f0e-8437-0f98d5e1eec1",
   "metadata": {
    "tags": []
   },
   "outputs": [
    {
     "data": {
      "text/plain": [
       "(100, 100, 100)"
      ]
     },
     "execution_count": 82,
     "metadata": {},
     "output_type": "execute_result"
    }
   ],
   "source": [
    "print"
   ]
  },
  {
   "cell_type": "code",
   "execution_count": 83,
   "id": "df13ad1b-76e6-4d7e-80b4-d443274ddb7e",
   "metadata": {
    "tags": []
   },
   "outputs": [
    {
     "data": {
      "text/html": [
       "<div>\n",
       "<style scoped>\n",
       "    .dataframe tbody tr th:only-of-type {\n",
       "        vertical-align: middle;\n",
       "    }\n",
       "\n",
       "    .dataframe tbody tr th {\n",
       "        vertical-align: top;\n",
       "    }\n",
       "\n",
       "    .dataframe thead th {\n",
       "        text-align: right;\n",
       "    }\n",
       "</style>\n",
       "<table border=\"1\" class=\"dataframe\">\n",
       "  <thead>\n",
       "    <tr style=\"text-align: right;\">\n",
       "      <th></th>\n",
       "      <th>Quote Titles</th>\n",
       "      <th>Author Titles</th>\n",
       "      <th>Quote Types</th>\n",
       "    </tr>\n",
       "  </thead>\n",
       "  <tbody>\n",
       "    <tr>\n",
       "      <th>0</th>\n",
       "      <td>Courage is the price that life exacts for gran...</td>\n",
       "      <td>Amelia Earhart</td>\n",
       "      <td>Inspirational, Life, Success</td>\n",
       "    </tr>\n",
       "    <tr>\n",
       "      <th>1</th>\n",
       "      <td>The worst evils which mankind has ever had to ...</td>\n",
       "      <td>Ludwig von Mises</td>\n",
       "      <td>Peace, War, Government</td>\n",
       "    </tr>\n",
       "    <tr>\n",
       "      <th>2</th>\n",
       "      <td>The moment we begin to fear the opinions of ot...</td>\n",
       "      <td>Elizabeth Cady Stanton</td>\n",
       "      <td>Life, Strength, Courage</td>\n",
       "    </tr>\n",
       "    <tr>\n",
       "      <th>3</th>\n",
       "      <td>Trust yourself, you know more than you think y...</td>\n",
       "      <td>Benjamin Spock</td>\n",
       "      <td>Positive, Family, Trust</td>\n",
       "    </tr>\n",
       "    <tr>\n",
       "      <th>4</th>\n",
       "      <td>Some people want it to happen, some wish it wo...</td>\n",
       "      <td>Michael Jordan</td>\n",
       "      <td>Inspirational, Life, Motivational</td>\n",
       "    </tr>\n",
       "    <tr>\n",
       "      <th>...</th>\n",
       "      <td>...</td>\n",
       "      <td>...</td>\n",
       "      <td>...</td>\n",
       "    </tr>\n",
       "    <tr>\n",
       "      <th>95</th>\n",
       "      <td>Regret for the things we did can be tempered b...</td>\n",
       "      <td>Sydney J. Harris</td>\n",
       "      <td>Love, Inspirational, Motivational</td>\n",
       "    </tr>\n",
       "    <tr>\n",
       "      <th>96</th>\n",
       "      <td>America... just a nation of two hundred millio...</td>\n",
       "      <td>Hunter S. Thompson</td>\n",
       "      <td>Gun, Two, Qualms About</td>\n",
       "    </tr>\n",
       "    <tr>\n",
       "      <th>97</th>\n",
       "      <td>For every disciplined effort there is a multip...</td>\n",
       "      <td>Jim Rohn</td>\n",
       "      <td>Inspirational, Greatness, Best Effort</td>\n",
       "    </tr>\n",
       "    <tr>\n",
       "      <th>98</th>\n",
       "      <td>The spiritual journey is individual, highly pe...</td>\n",
       "      <td>Ram Dass</td>\n",
       "      <td>Spiritual, Truth, Yoga</td>\n",
       "    </tr>\n",
       "    <tr>\n",
       "      <th>99</th>\n",
       "      <td>The mind is not a vessel to be filled but a fi...</td>\n",
       "      <td>Plutarch</td>\n",
       "      <td>Inspirational, Leadership, Education</td>\n",
       "    </tr>\n",
       "  </tbody>\n",
       "</table>\n",
       "<p>100 rows × 3 columns</p>\n",
       "</div>"
      ],
      "text/plain": [
       "                                         Quote Titles           Author Titles  \\\n",
       "0   Courage is the price that life exacts for gran...          Amelia Earhart   \n",
       "1   The worst evils which mankind has ever had to ...        Ludwig von Mises   \n",
       "2   The moment we begin to fear the opinions of ot...  Elizabeth Cady Stanton   \n",
       "3   Trust yourself, you know more than you think y...          Benjamin Spock   \n",
       "4   Some people want it to happen, some wish it wo...          Michael Jordan   \n",
       "..                                                ...                     ...   \n",
       "95  Regret for the things we did can be tempered b...        Sydney J. Harris   \n",
       "96  America... just a nation of two hundred millio...      Hunter S. Thompson   \n",
       "97  For every disciplined effort there is a multip...                Jim Rohn   \n",
       "98  The spiritual journey is individual, highly pe...                Ram Dass   \n",
       "99  The mind is not a vessel to be filled but a fi...                Plutarch   \n",
       "\n",
       "                              Quote Types  \n",
       "0            Inspirational, Life, Success  \n",
       "1                  Peace, War, Government  \n",
       "2                 Life, Strength, Courage  \n",
       "3                 Positive, Family, Trust  \n",
       "4       Inspirational, Life, Motivational  \n",
       "..                                    ...  \n",
       "95      Love, Inspirational, Motivational  \n",
       "96                 Gun, Two, Qualms About  \n",
       "97  Inspirational, Greatness, Best Effort  \n",
       "98                 Spiritual, Truth, Yoga  \n",
       "99   Inspirational, Leadership, Education  \n",
       "\n",
       "[100 rows x 3 columns]"
      ]
     },
     "execution_count": 83,
     "metadata": {},
     "output_type": "execute_result"
    }
   ],
   "source": [
    "import pandas as pd\n",
    "df=pd.DataFrame({'Quote Titles':Quote_titles,'Author Titles':Author_titles, 'Quote Types':Quote_types})\n",
    "df"
   ]
  },
  {
   "cell_type": "code",
   "execution_count": null,
   "id": "8f33e446-15f0-45dd-b88b-ba980aa781e8",
   "metadata": {},
   "outputs": [],
   "source": []
  }
 ],
 "metadata": {
  "kernelspec": {
   "display_name": "Python 3 (ipykernel)",
   "language": "python",
   "name": "python3"
  },
  "language_info": {
   "codemirror_mode": {
    "name": "ipython",
    "version": 3
   },
   "file_extension": ".py",
   "mimetype": "text/x-python",
   "name": "python",
   "nbconvert_exporter": "python",
   "pygments_lexer": "ipython3",
   "version": "3.11.3"
  }
 },
 "nbformat": 4,
 "nbformat_minor": 5
}

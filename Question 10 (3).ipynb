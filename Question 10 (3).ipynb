{
 "cells": [
  {
   "cell_type": "code",
   "execution_count": 63,
   "id": "9695e293-8073-4121-b487-551f29748760",
   "metadata": {
    "tags": []
   },
   "outputs": [
    {
     "name": "stdout",
     "output_type": "stream",
     "text": [
      "Requirement already satisfied: selenium in c:\\programdata\\anaconda3\\lib\\site-packages (4.10.0)Note: you may need to restart the kernel to use updated packages.\n",
      "\n",
      "Requirement already satisfied: urllib3[socks]<3,>=1.26 in c:\\programdata\\anaconda3\\lib\\site-packages (from selenium) (1.26.16)\n",
      "Requirement already satisfied: trio~=0.17 in c:\\programdata\\anaconda3\\lib\\site-packages (from selenium) (0.22.2)\n",
      "Requirement already satisfied: trio-websocket~=0.9 in c:\\programdata\\anaconda3\\lib\\site-packages (from selenium) (0.10.3)\n",
      "Requirement already satisfied: certifi>=2021.10.8 in c:\\programdata\\anaconda3\\lib\\site-packages (from selenium) (2023.5.7)\n",
      "Requirement already satisfied: attrs>=20.1.0 in c:\\programdata\\anaconda3\\lib\\site-packages (from trio~=0.17->selenium) (22.1.0)\n",
      "Requirement already satisfied: sortedcontainers in c:\\programdata\\anaconda3\\lib\\site-packages (from trio~=0.17->selenium) (2.4.0)\n",
      "Requirement already satisfied: idna in c:\\programdata\\anaconda3\\lib\\site-packages (from trio~=0.17->selenium) (3.4)\n",
      "Requirement already satisfied: outcome in c:\\programdata\\anaconda3\\lib\\site-packages (from trio~=0.17->selenium) (1.2.0)\n",
      "Requirement already satisfied: sniffio in c:\\programdata\\anaconda3\\lib\\site-packages (from trio~=0.17->selenium) (1.2.0)\n",
      "Requirement already satisfied: cffi>=1.14 in c:\\programdata\\anaconda3\\lib\\site-packages (from trio~=0.17->selenium) (1.15.1)\n",
      "Requirement already satisfied: exceptiongroup in c:\\programdata\\anaconda3\\lib\\site-packages (from trio-websocket~=0.9->selenium) (1.1.2)\n",
      "Requirement already satisfied: wsproto>=0.14 in c:\\programdata\\anaconda3\\lib\\site-packages (from trio-websocket~=0.9->selenium) (1.2.0)\n",
      "Requirement already satisfied: PySocks!=1.5.7,<2.0,>=1.5.6 in c:\\programdata\\anaconda3\\lib\\site-packages (from urllib3[socks]<3,>=1.26->selenium) (1.7.1)\n",
      "Requirement already satisfied: pycparser in c:\\programdata\\anaconda3\\lib\\site-packages (from cffi>=1.14->trio~=0.17->selenium) (2.21)\n",
      "Requirement already satisfied: h11<1,>=0.9.0 in c:\\programdata\\anaconda3\\lib\\site-packages (from wsproto>=0.14->trio-websocket~=0.9->selenium) (0.14.0)\n"
     ]
    }
   ],
   "source": [
    "pip install selenium"
   ]
  },
  {
   "cell_type": "code",
   "execution_count": 1,
   "id": "43049ac4-4ebb-459d-a71b-ba7522bdca37",
   "metadata": {
    "tags": []
   },
   "outputs": [
    {
     "name": "stdout",
     "output_type": "stream",
     "text": [
      "Requirement already satisfied: webdriver-manager in c:\\programdata\\anaconda3\\lib\\site-packages (3.8.6)\n",
      "Requirement already satisfied: requests in c:\\programdata\\anaconda3\\lib\\site-packages (from webdriver-manager) (2.29.0)\n",
      "Requirement already satisfied: python-dotenv in c:\\programdata\\anaconda3\\lib\\site-packages (from webdriver-manager) (1.0.0)\n",
      "Requirement already satisfied: tqdm in c:\\programdata\\anaconda3\\lib\\site-packages (from webdriver-manager) (4.65.0)\n",
      "Requirement already satisfied: packaging in c:\\programdata\\anaconda3\\lib\\site-packages (from webdriver-manager) (23.0)\n",
      "Requirement already satisfied: charset-normalizer<4,>=2 in c:\\programdata\\anaconda3\\lib\\site-packages (from requests->webdriver-manager) (2.0.4)\n",
      "Requirement already satisfied: idna<4,>=2.5 in c:\\programdata\\anaconda3\\lib\\site-packages (from requests->webdriver-manager) (3.4)\n",
      "Requirement already satisfied: urllib3<1.27,>=1.21.1 in c:\\programdata\\anaconda3\\lib\\site-packages (from requests->webdriver-manager) (1.26.16)\n",
      "Requirement already satisfied: certifi>=2017.4.17 in c:\\programdata\\anaconda3\\lib\\site-packages (from requests->webdriver-manager) (2023.5.7)\n",
      "Requirement already satisfied: colorama in c:\\programdata\\anaconda3\\lib\\site-packages (from tqdm->webdriver-manager) (0.4.6)\n"
     ]
    }
   ],
   "source": [
    "!pip install webdriver-manager"
   ]
  },
  {
   "cell_type": "code",
   "execution_count": 2,
   "id": "70760230-36bd-4336-b662-61fbce4ce6d7",
   "metadata": {
    "tags": []
   },
   "outputs": [
    {
     "name": "stdout",
     "output_type": "stream",
     "text": [
      "Requirement already satisfied: selenium in c:\\programdata\\anaconda3\\lib\\site-packages (4.10.0)\n",
      "Requirement already satisfied: beautifulsoup4 in c:\\programdata\\anaconda3\\lib\\site-packages (4.12.2)\n",
      "Requirement already satisfied: pandas in c:\\programdata\\anaconda3\\lib\\site-packages (1.5.3)\n",
      "Requirement already satisfied: urllib3[socks]<3,>=1.26 in c:\\programdata\\anaconda3\\lib\\site-packages (from selenium) (1.26.16)\n",
      "Requirement already satisfied: trio~=0.17 in c:\\programdata\\anaconda3\\lib\\site-packages (from selenium) (0.22.2)\n",
      "Requirement already satisfied: trio-websocket~=0.9 in c:\\programdata\\anaconda3\\lib\\site-packages (from selenium) (0.10.3)\n",
      "Requirement already satisfied: certifi>=2021.10.8 in c:\\programdata\\anaconda3\\lib\\site-packages (from selenium) (2023.5.7)\n",
      "Requirement already satisfied: soupsieve>1.2 in c:\\programdata\\anaconda3\\lib\\site-packages (from beautifulsoup4) (2.4)\n",
      "Requirement already satisfied: python-dateutil>=2.8.1 in c:\\programdata\\anaconda3\\lib\\site-packages (from pandas) (2.8.2)\n",
      "Requirement already satisfied: pytz>=2020.1 in c:\\programdata\\anaconda3\\lib\\site-packages (from pandas) (2022.7)\n",
      "Requirement already satisfied: numpy>=1.21.0 in c:\\programdata\\anaconda3\\lib\\site-packages (from pandas) (1.24.3)\n",
      "Requirement already satisfied: six>=1.5 in c:\\programdata\\anaconda3\\lib\\site-packages (from python-dateutil>=2.8.1->pandas) (1.16.0)\n",
      "Requirement already satisfied: attrs>=20.1.0 in c:\\programdata\\anaconda3\\lib\\site-packages (from trio~=0.17->selenium) (22.1.0)\n",
      "Requirement already satisfied: sortedcontainers in c:\\programdata\\anaconda3\\lib\\site-packages (from trio~=0.17->selenium) (2.4.0)\n",
      "Requirement already satisfied: idna in c:\\programdata\\anaconda3\\lib\\site-packages (from trio~=0.17->selenium) (3.4)\n",
      "Requirement already satisfied: outcome in c:\\programdata\\anaconda3\\lib\\site-packages (from trio~=0.17->selenium) (1.2.0)\n",
      "Requirement already satisfied: sniffio in c:\\programdata\\anaconda3\\lib\\site-packages (from trio~=0.17->selenium) (1.2.0)\n",
      "Requirement already satisfied: cffi>=1.14 in c:\\programdata\\anaconda3\\lib\\site-packages (from trio~=0.17->selenium) (1.15.1)\n",
      "Requirement already satisfied: exceptiongroup in c:\\programdata\\anaconda3\\lib\\site-packages (from trio-websocket~=0.9->selenium) (1.1.2)\n",
      "Requirement already satisfied: wsproto>=0.14 in c:\\programdata\\anaconda3\\lib\\site-packages (from trio-websocket~=0.9->selenium) (1.2.0)\n",
      "Requirement already satisfied: PySocks!=1.5.7,<2.0,>=1.5.6 in c:\\programdata\\anaconda3\\lib\\site-packages (from urllib3[socks]<3,>=1.26->selenium) (1.7.1)\n",
      "Requirement already satisfied: pycparser in c:\\programdata\\anaconda3\\lib\\site-packages (from cffi>=1.14->trio~=0.17->selenium) (2.21)\n",
      "Requirement already satisfied: h11<1,>=0.9.0 in c:\\programdata\\anaconda3\\lib\\site-packages (from wsproto>=0.14->trio-websocket~=0.9->selenium) (0.14.0)\n",
      "Note: you may need to restart the kernel to use updated packages.\n"
     ]
    }
   ],
   "source": [
    "pip install selenium beautifulsoup4 pandas"
   ]
  },
  {
   "cell_type": "code",
   "execution_count": 1,
   "id": "ad170920-db32-41df-9fd4-332ba68a841b",
   "metadata": {
    "tags": []
   },
   "outputs": [],
   "source": [
    "from selenium import webdriver\n",
    "from selenium.webdriver.common.by import By\n",
    "from selenium.webdriver.support.ui import WebDriverWait\n",
    "from webdriver_manager.chrome import ChromeDriverManager\n",
    "from selenium.webdriver.support import expected_conditions as EC\n",
    "from selenium.webdriver.chrome.service import Service\n",
    "from selenium.webdriver.chrome.options import Options\n",
    "from selenium.webdriver.chrome.webdriver import WebDriver\n",
    "import pandas as pd\n",
    "import time\n",
    "import warnings\n",
    "warnings.filterwarnings(\"ignore\")"
   ]
  },
  {
   "cell_type": "code",
   "execution_count": 2,
   "id": "dd0792fd-8ce4-49ee-b16a-4bb91cf88959",
   "metadata": {
    "tags": []
   },
   "outputs": [],
   "source": [
    "driver = webdriver.Chrome(service=Service(ChromeDriverManager().install()))"
   ]
  },
  {
   "cell_type": "code",
   "execution_count": 3,
   "id": "080eddae-62c0-4acb-8eba-6b5561495989",
   "metadata": {
    "tags": []
   },
   "outputs": [],
   "source": [
    "options = webdriver.ChromeOptions()\n",
    "\n",
    "options.add_argument(\"--disable-web-security\") \n",
    "\n",
    "options.add_argument(\"--disable-gpu\")\n",
    "\n",
    "options.add_argument('--log-level=1')\n",
    "\n",
    "driver = webdriver.Chrome(options=options)"
   ]
  },
  {
   "cell_type": "code",
   "execution_count": 4,
   "id": "af687508-3024-415f-8c7f-13275255b4e8",
   "metadata": {
    "tags": []
   },
   "outputs": [],
   "source": [
    "driver.get(\"https://www.motor1.com/\")"
   ]
  },
  {
   "cell_type": "code",
   "execution_count": 6,
   "id": "e93391b5-d7bc-4383-a0eb-88f0efb81c94",
   "metadata": {
    "tags": []
   },
   "outputs": [],
   "source": [
    "search_keyword = driver.find_element(By.XPATH, \"/html/body/div[10]/div[2]/div/div/div[3]/ul/li[3]/a\")\n",
    "search_keyword.click()"
   ]
  },
  {
   "cell_type": "code",
   "execution_count": 7,
   "id": "56856404-73b2-4144-86e1-a040a81030eb",
   "metadata": {
    "tags": []
   },
   "outputs": [],
   "source": [
    "search_keyword = driver.find_element(By.XPATH, \"/html/body/div[10]/div[2]/div/div/div[3]/ul/li[3]/a\")\n",
    "search_keyword.click()"
   ]
  },
  {
   "cell_type": "code",
   "execution_count": 8,
   "id": "95662f0c-6a63-4ac9-89d6-0649b0437b05",
   "metadata": {
    "tags": []
   },
   "outputs": [],
   "source": [
    "search_keyword = driver.find_element(By.XPATH, \"/html/body/div[10]/div[6]/div/div[1]/div[2]/a\")\n",
    "search_keyword.click()"
   ]
  },
  {
   "cell_type": "code",
   "execution_count": 9,
   "id": "4fb841cf-8c3b-4fea-bce5-b70ae8998a80",
   "metadata": {
    "tags": []
   },
   "outputs": [],
   "source": [
    "search_keyword = driver.find_element(By.XPATH, \"/html/body/div[10]/div[8]/div[3]/div[1]/div/div/div[4]/div/div[1]/h3/a\")\n",
    "search_keyword.click()"
   ]
  },
  {
   "cell_type": "code",
   "execution_count": 10,
   "id": "7815121d-a3c8-4277-ad7c-6184bab55ed7",
   "metadata": {
    "tags": []
   },
   "outputs": [],
   "source": [
    "Car_titles = []\n",
    "Price_titles = []\n",
    "\n"
   ]
  },
  {
   "cell_type": "code",
   "execution_count": 11,
   "id": "60547da3-d01a-43f5-8681-7ee889878d2e",
   "metadata": {
    "tags": []
   },
   "outputs": [],
   "source": [
    "title_tags=driver.find_elements(By.XPATH,\"/html/body/div[10]/div[7]/div[2]/div[1]/div[2]/div[1]/h3[1]\")\n",
    "for i in title_tags[0:49]:\n",
    "    title=i.text\n",
    "    Car_titles.append(title)"
   ]
  },
  {
   "cell_type": "code",
   "execution_count": 12,
   "id": "b47b14b0-b8e9-42e1-a372-38bcf75eb314",
   "metadata": {
    "tags": []
   },
   "outputs": [],
   "source": [
    "title_tags=driver.find_elements(By.XPATH,\"/html/body/div[10]/div[7]/div[2]/div[1]/div[2]/div[1]/p[4]/strong\")\n",
    "for i in title_tags[0:49]:\n",
    "    title=i.text\n",
    "    Price_titles.append(title)"
   ]
  },
  {
   "cell_type": "code",
   "execution_count": 13,
   "id": "9f82d2ef-7dfa-4c3e-a489-37c49dfd12b1",
   "metadata": {
    "tags": []
   },
   "outputs": [],
   "source": [
    "print=(len(Car_titles),len(Price_titles))"
   ]
  },
  {
   "cell_type": "code",
   "execution_count": 14,
   "id": "9103fae4-7ba1-4f28-bd72-af3761dbf577",
   "metadata": {
    "tags": []
   },
   "outputs": [
    {
     "data": {
      "text/plain": [
       "(1, 1)"
      ]
     },
     "execution_count": 14,
     "metadata": {},
     "output_type": "execute_result"
    }
   ],
   "source": [
    "print"
   ]
  },
  {
   "cell_type": "code",
   "execution_count": 15,
   "id": "cc105a4c-6c82-4270-88c1-205ec9d7e8de",
   "metadata": {
    "tags": []
   },
   "outputs": [
    {
     "data": {
      "text/html": [
       "<div>\n",
       "<style scoped>\n",
       "    .dataframe tbody tr th:only-of-type {\n",
       "        vertical-align: middle;\n",
       "    }\n",
       "\n",
       "    .dataframe tbody tr th {\n",
       "        vertical-align: top;\n",
       "    }\n",
       "\n",
       "    .dataframe thead th {\n",
       "        text-align: right;\n",
       "    }\n",
       "</style>\n",
       "<table border=\"1\" class=\"dataframe\">\n",
       "  <thead>\n",
       "    <tr style=\"text-align: right;\">\n",
       "      <th></th>\n",
       "      <th>Car Titles</th>\n",
       "      <th>Price Titles</th>\n",
       "    </tr>\n",
       "  </thead>\n",
       "  <tbody>\n",
       "    <tr>\n",
       "      <th>0</th>\n",
       "      <td>De Tomaso P72</td>\n",
       "      <td>Price: $1.3 Million</td>\n",
       "    </tr>\n",
       "  </tbody>\n",
       "</table>\n",
       "</div>"
      ],
      "text/plain": [
       "      Car Titles         Price Titles\n",
       "0  De Tomaso P72  Price: $1.3 Million"
      ]
     },
     "execution_count": 15,
     "metadata": {},
     "output_type": "execute_result"
    }
   ],
   "source": [
    "import pandas as pd\n",
    "df=pd.DataFrame({'Car Titles':Car_titles,'Price Titles':Price_titles})\n",
    "df"
   ]
  },
  {
   "cell_type": "code",
   "execution_count": 16,
   "id": "fd8c9aa0-bc4b-43d8-9c5f-cab6184d905e",
   "metadata": {
    "tags": []
   },
   "outputs": [],
   "source": [
    "Car_titles = []\n",
    "Price_titles = []"
   ]
  },
  {
   "cell_type": "code",
   "execution_count": 17,
   "id": "c447959c-0605-4999-8383-6aa2caaae892",
   "metadata": {
    "tags": []
   },
   "outputs": [],
   "source": [
    "title_tags=driver.find_elements(By.XPATH,\"/html/body/div[10]/div[7]/div[2]/div[1]/div[2]/div[1]/h3[2]/a\")\n",
    "for i in title_tags[0:49]:\n",
    "    title=i.text\n",
    "    Car_titles.append(title)"
   ]
  },
  {
   "cell_type": "code",
   "execution_count": 18,
   "id": "aa1f726a-03b9-4d02-aeee-564494170d0f",
   "metadata": {
    "tags": []
   },
   "outputs": [],
   "source": [
    "title_tags=driver.find_elements(By.XPATH,\"/html/body/div[10]/div[7]/div[2]/div[1]/div[2]/div[1]/p[6]/strong\")\n",
    "for i in title_tags[0:49]:\n",
    "    title=i.text\n",
    "    Price_titles.append(title)"
   ]
  },
  {
   "cell_type": "code",
   "execution_count": 19,
   "id": "0498ab5d-d345-4b87-8ef2-619f1d7f40c2",
   "metadata": {
    "tags": []
   },
   "outputs": [],
   "source": [
    "print=(len(Car_titles),len(Price_titles))"
   ]
  },
  {
   "cell_type": "code",
   "execution_count": 20,
   "id": "1f3c6489-3457-43be-9d9d-b247829afcc6",
   "metadata": {
    "tags": []
   },
   "outputs": [
    {
     "data": {
      "text/plain": [
       "(1, 1)"
      ]
     },
     "execution_count": 20,
     "metadata": {},
     "output_type": "execute_result"
    }
   ],
   "source": [
    "print"
   ]
  },
  {
   "cell_type": "code",
   "execution_count": 21,
   "id": "47f85de4-6855-419c-849b-c8784553dd9e",
   "metadata": {
    "tags": []
   },
   "outputs": [
    {
     "data": {
      "text/html": [
       "<div>\n",
       "<style scoped>\n",
       "    .dataframe tbody tr th:only-of-type {\n",
       "        vertical-align: middle;\n",
       "    }\n",
       "\n",
       "    .dataframe tbody tr th {\n",
       "        vertical-align: top;\n",
       "    }\n",
       "\n",
       "    .dataframe thead th {\n",
       "        text-align: right;\n",
       "    }\n",
       "</style>\n",
       "<table border=\"1\" class=\"dataframe\">\n",
       "  <thead>\n",
       "    <tr style=\"text-align: right;\">\n",
       "      <th></th>\n",
       "      <th>Car Titles</th>\n",
       "      <th>Price Titles</th>\n",
       "    </tr>\n",
       "  </thead>\n",
       "  <tbody>\n",
       "    <tr>\n",
       "      <th>0</th>\n",
       "      <td>Ferrari LaFerrari</td>\n",
       "      <td>Price: $1.4 Million</td>\n",
       "    </tr>\n",
       "  </tbody>\n",
       "</table>\n",
       "</div>"
      ],
      "text/plain": [
       "          Car Titles         Price Titles\n",
       "0  Ferrari LaFerrari  Price: $1.4 Million"
      ]
     },
     "execution_count": 21,
     "metadata": {},
     "output_type": "execute_result"
    }
   ],
   "source": [
    "import pandas as pd\n",
    "df=pd.DataFrame({'Car Titles':Car_titles,'Price Titles':Price_titles})\n",
    "df"
   ]
  },
  {
   "cell_type": "code",
   "execution_count": 22,
   "id": "4b8f66c3-b595-4b73-ae89-8b01316ef850",
   "metadata": {
    "tags": []
   },
   "outputs": [],
   "source": [
    "Car_titles = []\n",
    "Price_titles = []"
   ]
  },
  {
   "cell_type": "code",
   "execution_count": 23,
   "id": "f2267fde-f143-4d42-9367-9975beda157b",
   "metadata": {
    "tags": []
   },
   "outputs": [],
   "source": [
    "title_tags=driver.find_elements(By.XPATH,\"/html/body/div[10]/div[7]/div[2]/div[1]/div[2]/div[1]/h3[3]/a\")\n",
    "for i in title_tags[0:49]:\n",
    "    title=i.text\n",
    "    Car_titles.append(title)"
   ]
  },
  {
   "cell_type": "code",
   "execution_count": 24,
   "id": "286513c8-77aa-4c75-9e29-6c41da753bff",
   "metadata": {
    "tags": []
   },
   "outputs": [],
   "source": [
    "title_tags=driver.find_elements(By.XPATH,\"/html/body/div[10]/div[7]/div[2]/div[1]/div[2]/div[1]/p[8]/strong\")\n",
    "for i in title_tags[0:49]:\n",
    "    title=i.text\n",
    "    Price_titles.append(title)"
   ]
  },
  {
   "cell_type": "code",
   "execution_count": 25,
   "id": "445ecf84-067e-4534-be77-6fd31ff71873",
   "metadata": {
    "tags": []
   },
   "outputs": [],
   "source": [
    "print=(len(Car_titles),len(Price_titles))"
   ]
  },
  {
   "cell_type": "code",
   "execution_count": 26,
   "id": "70b4a008-efb5-4e72-a30e-8676bfe01612",
   "metadata": {
    "tags": []
   },
   "outputs": [
    {
     "data": {
      "text/plain": [
       "(1, 1)"
      ]
     },
     "execution_count": 26,
     "metadata": {},
     "output_type": "execute_result"
    }
   ],
   "source": [
    "print"
   ]
  },
  {
   "cell_type": "code",
   "execution_count": 27,
   "id": "5a936291-deac-4aab-8ede-6864262862af",
   "metadata": {
    "tags": []
   },
   "outputs": [
    {
     "data": {
      "text/html": [
       "<div>\n",
       "<style scoped>\n",
       "    .dataframe tbody tr th:only-of-type {\n",
       "        vertical-align: middle;\n",
       "    }\n",
       "\n",
       "    .dataframe tbody tr th {\n",
       "        vertical-align: top;\n",
       "    }\n",
       "\n",
       "    .dataframe thead th {\n",
       "        text-align: right;\n",
       "    }\n",
       "</style>\n",
       "<table border=\"1\" class=\"dataframe\">\n",
       "  <thead>\n",
       "    <tr style=\"text-align: right;\">\n",
       "      <th></th>\n",
       "      <th>Car Titles</th>\n",
       "      <th>Price Titles</th>\n",
       "    </tr>\n",
       "  </thead>\n",
       "  <tbody>\n",
       "    <tr>\n",
       "      <th>0</th>\n",
       "      <td>Pagani Huayra</td>\n",
       "      <td>Price: $1.4 Million</td>\n",
       "    </tr>\n",
       "  </tbody>\n",
       "</table>\n",
       "</div>"
      ],
      "text/plain": [
       "      Car Titles         Price Titles\n",
       "0  Pagani Huayra  Price: $1.4 Million"
      ]
     },
     "execution_count": 27,
     "metadata": {},
     "output_type": "execute_result"
    }
   ],
   "source": [
    "import pandas as pd\n",
    "df=pd.DataFrame({'Car Titles':Car_titles,'Price Titles':Price_titles})\n",
    "df"
   ]
  },
  {
   "cell_type": "code",
   "execution_count": 28,
   "id": "8af17c2b-e58f-4273-afdc-dcb0589ee242",
   "metadata": {
    "tags": []
   },
   "outputs": [],
   "source": [
    "Car_titles = []\n",
    "Price_titles = []"
   ]
  },
  {
   "cell_type": "code",
   "execution_count": 29,
   "id": "2a2a418b-06b2-41bf-82a5-ca7988a157b4",
   "metadata": {
    "tags": []
   },
   "outputs": [],
   "source": [
    "title_tags=driver.find_elements(By.XPATH,\"/html/body/div[10]/div[7]/div[2]/div[1]/div[2]/div[1]/h3[4]\")\n",
    "for i in title_tags[0:49]:\n",
    "    title=i.text\n",
    "    Car_titles.append(title)"
   ]
  },
  {
   "cell_type": "code",
   "execution_count": 30,
   "id": "296004f2-b64f-4c0d-a94f-6b9d510a8092",
   "metadata": {
    "tags": []
   },
   "outputs": [],
   "source": [
    "title_tags=driver.find_elements(By.XPATH,\"/html/body/div[10]/div[7]/div[2]/div[1]/div[2]/div[1]/p[10]/strong\")\n",
    "for i in title_tags[0:49]:\n",
    "    title=i.text\n",
    "    Price_titles.append(title)"
   ]
  },
  {
   "cell_type": "code",
   "execution_count": 31,
   "id": "37fbfcd2-52f9-4087-860a-5366763d130a",
   "metadata": {
    "tags": []
   },
   "outputs": [],
   "source": [
    "print=(len(Car_titles),len(Price_titles))"
   ]
  },
  {
   "cell_type": "code",
   "execution_count": 32,
   "id": "517ce7a1-3b8e-4097-96e2-9017b9500b15",
   "metadata": {
    "tags": []
   },
   "outputs": [
    {
     "data": {
      "text/plain": [
       "(1, 1)"
      ]
     },
     "execution_count": 32,
     "metadata": {},
     "output_type": "execute_result"
    }
   ],
   "source": [
    "print"
   ]
  },
  {
   "cell_type": "code",
   "execution_count": 33,
   "id": "f9562402-5ee3-4de6-9232-4ad9c080973e",
   "metadata": {
    "tags": []
   },
   "outputs": [
    {
     "data": {
      "text/html": [
       "<div>\n",
       "<style scoped>\n",
       "    .dataframe tbody tr th:only-of-type {\n",
       "        vertical-align: middle;\n",
       "    }\n",
       "\n",
       "    .dataframe tbody tr th {\n",
       "        vertical-align: top;\n",
       "    }\n",
       "\n",
       "    .dataframe thead th {\n",
       "        text-align: right;\n",
       "    }\n",
       "</style>\n",
       "<table border=\"1\" class=\"dataframe\">\n",
       "  <thead>\n",
       "    <tr style=\"text-align: right;\">\n",
       "      <th></th>\n",
       "      <th>Car Titles</th>\n",
       "      <th>Price Titles</th>\n",
       "    </tr>\n",
       "  </thead>\n",
       "  <tbody>\n",
       "    <tr>\n",
       "      <th>0</th>\n",
       "      <td>McLaren Elva</td>\n",
       "      <td>Price: $1.7 Million</td>\n",
       "    </tr>\n",
       "  </tbody>\n",
       "</table>\n",
       "</div>"
      ],
      "text/plain": [
       "     Car Titles         Price Titles\n",
       "0  McLaren Elva  Price: $1.7 Million"
      ]
     },
     "execution_count": 33,
     "metadata": {},
     "output_type": "execute_result"
    }
   ],
   "source": [
    "import pandas as pd\n",
    "df=pd.DataFrame({'Car Titles':Car_titles,'Price Titles':Price_titles})\n",
    "df"
   ]
  },
  {
   "cell_type": "code",
   "execution_count": 38,
   "id": "2ee35b1f-9bfc-48b1-a0df-eedad2766c31",
   "metadata": {
    "tags": []
   },
   "outputs": [],
   "source": [
    "Car_titles = []\n",
    "Price_titles = []"
   ]
  },
  {
   "cell_type": "code",
   "execution_count": 39,
   "id": "a3b0b506-536d-4755-86ec-52ea7db0e70a",
   "metadata": {
    "tags": []
   },
   "outputs": [],
   "source": [
    "title_tags=driver.find_elements(By.TAG_NAME,\"h3\")\n",
    "for i in title_tags[0:50]:\n",
    "    title=i.text\n",
    "    Car_titles.append(title)"
   ]
  },
  {
   "cell_type": "code",
   "execution_count": 40,
   "id": "78085a0d-8a7a-478f-a5c1-ea8982ef949b",
   "metadata": {
    "tags": []
   },
   "outputs": [],
   "source": [
    "print=(len(Car_titles))"
   ]
  },
  {
   "cell_type": "code",
   "execution_count": 41,
   "id": "07a2d6e4-9a50-4c01-ad86-cd363fe05867",
   "metadata": {
    "tags": []
   },
   "outputs": [
    {
     "data": {
      "text/plain": [
       "50"
      ]
     },
     "execution_count": 41,
     "metadata": {},
     "output_type": "execute_result"
    }
   ],
   "source": [
    "print"
   ]
  },
  {
   "cell_type": "code",
   "execution_count": 42,
   "id": "59b29087-27f3-469b-9813-0628b7ac4479",
   "metadata": {
    "tags": []
   },
   "outputs": [
    {
     "data": {
      "text/html": [
       "<div>\n",
       "<style scoped>\n",
       "    .dataframe tbody tr th:only-of-type {\n",
       "        vertical-align: middle;\n",
       "    }\n",
       "\n",
       "    .dataframe tbody tr th {\n",
       "        vertical-align: top;\n",
       "    }\n",
       "\n",
       "    .dataframe thead th {\n",
       "        text-align: right;\n",
       "    }\n",
       "</style>\n",
       "<table border=\"1\" class=\"dataframe\">\n",
       "  <thead>\n",
       "    <tr style=\"text-align: right;\">\n",
       "      <th></th>\n",
       "      <th>Car Titles</th>\n",
       "    </tr>\n",
       "  </thead>\n",
       "  <tbody>\n",
       "    <tr>\n",
       "      <th>0</th>\n",
       "      <td>De Tomaso P72</td>\n",
       "    </tr>\n",
       "    <tr>\n",
       "      <th>1</th>\n",
       "      <td>Ferrari LaFerrari</td>\n",
       "    </tr>\n",
       "    <tr>\n",
       "      <th>2</th>\n",
       "      <td>Pagani Huayra</td>\n",
       "    </tr>\n",
       "    <tr>\n",
       "      <th>3</th>\n",
       "      <td>McLaren Elva</td>\n",
       "    </tr>\n",
       "    <tr>\n",
       "      <th>4</th>\n",
       "      <td>Czinger 21C</td>\n",
       "    </tr>\n",
       "    <tr>\n",
       "      <th>5</th>\n",
       "      <td>Ferrari Monza</td>\n",
       "    </tr>\n",
       "    <tr>\n",
       "      <th>6</th>\n",
       "      <td>Gordon Murray T.33</td>\n",
       "    </tr>\n",
       "    <tr>\n",
       "      <th>7</th>\n",
       "      <td>Koenigsegg Gemera</td>\n",
       "    </tr>\n",
       "    <tr>\n",
       "      <th>8</th>\n",
       "      <td>Zenvo TSR-S</td>\n",
       "    </tr>\n",
       "    <tr>\n",
       "      <th>9</th>\n",
       "      <td>Hennessey Venom F5</td>\n",
       "    </tr>\n",
       "    <tr>\n",
       "      <th>10</th>\n",
       "      <td>Bentley Bacalar</td>\n",
       "    </tr>\n",
       "    <tr>\n",
       "      <th>11</th>\n",
       "      <td>Hispano Suiza Carmen Boulogne</td>\n",
       "    </tr>\n",
       "    <tr>\n",
       "      <th>12</th>\n",
       "      <td>Bentley Mulliner Batur</td>\n",
       "    </tr>\n",
       "    <tr>\n",
       "      <th>13</th>\n",
       "      <td>Deus Vayanne</td>\n",
       "    </tr>\n",
       "    <tr>\n",
       "      <th>14</th>\n",
       "      <td>SSC Tuatara</td>\n",
       "    </tr>\n",
       "    <tr>\n",
       "      <th>15</th>\n",
       "      <td>Lotus Evija</td>\n",
       "    </tr>\n",
       "    <tr>\n",
       "      <th>16</th>\n",
       "      <td>Aston Martin Vulcan</td>\n",
       "    </tr>\n",
       "    <tr>\n",
       "      <th>17</th>\n",
       "      <td>Delage D12</td>\n",
       "    </tr>\n",
       "    <tr>\n",
       "      <th>18</th>\n",
       "      <td>McLaren Speedtail</td>\n",
       "    </tr>\n",
       "    <tr>\n",
       "      <th>19</th>\n",
       "      <td>Rimac Nevera</td>\n",
       "    </tr>\n",
       "    <tr>\n",
       "      <th>20</th>\n",
       "      <td>Pagani Utopia</td>\n",
       "    </tr>\n",
       "    <tr>\n",
       "      <th>21</th>\n",
       "      <td>Pininfarina Battista</td>\n",
       "    </tr>\n",
       "    <tr>\n",
       "      <th>22</th>\n",
       "      <td>Ferrari FXX K Evo</td>\n",
       "    </tr>\n",
       "    <tr>\n",
       "      <th>23</th>\n",
       "      <td>Gordon Murray T.50</td>\n",
       "    </tr>\n",
       "    <tr>\n",
       "      <th>24</th>\n",
       "      <td>Lamborghini Countach</td>\n",
       "    </tr>\n",
       "    <tr>\n",
       "      <th>25</th>\n",
       "      <td>Mercedes-AMG Project One</td>\n",
       "    </tr>\n",
       "    <tr>\n",
       "      <th>26</th>\n",
       "      <td>Aston Martin Victor</td>\n",
       "    </tr>\n",
       "    <tr>\n",
       "      <th>27</th>\n",
       "      <td>Hennessey Venom F5 Roadster</td>\n",
       "    </tr>\n",
       "    <tr>\n",
       "      <th>28</th>\n",
       "      <td>Koenigsegg Jesko</td>\n",
       "    </tr>\n",
       "    <tr>\n",
       "      <th>29</th>\n",
       "      <td>Aston Martin Valkyrie</td>\n",
       "    </tr>\n",
       "    <tr>\n",
       "      <th>30</th>\n",
       "      <td>W Motors Lykan Hypersport</td>\n",
       "    </tr>\n",
       "    <tr>\n",
       "      <th>31</th>\n",
       "      <td>McLaren Solus</td>\n",
       "    </tr>\n",
       "    <tr>\n",
       "      <th>32</th>\n",
       "      <td>Pagani Huayra Roadster BC</td>\n",
       "    </tr>\n",
       "    <tr>\n",
       "      <th>33</th>\n",
       "      <td>Bugatti Chiron Pur Sport</td>\n",
       "    </tr>\n",
       "    <tr>\n",
       "      <th>34</th>\n",
       "      <td>Lamborghini Sian</td>\n",
       "    </tr>\n",
       "    <tr>\n",
       "      <th>35</th>\n",
       "      <td>Koenigsegg CC850</td>\n",
       "    </tr>\n",
       "    <tr>\n",
       "      <th>36</th>\n",
       "      <td>Bugatti Chiron Super Sport 300+</td>\n",
       "    </tr>\n",
       "    <tr>\n",
       "      <th>37</th>\n",
       "      <td>Lamborghini Veneno</td>\n",
       "    </tr>\n",
       "    <tr>\n",
       "      <th>38</th>\n",
       "      <td>Bugatti Bolide</td>\n",
       "    </tr>\n",
       "    <tr>\n",
       "      <th>39</th>\n",
       "      <td>Bugatti Mistral</td>\n",
       "    </tr>\n",
       "    <tr>\n",
       "      <th>40</th>\n",
       "      <td>Pagani Huayra Imola</td>\n",
       "    </tr>\n",
       "    <tr>\n",
       "      <th>41</th>\n",
       "      <td>Bugatti Divo</td>\n",
       "    </tr>\n",
       "    <tr>\n",
       "      <th>42</th>\n",
       "      <td>SP Automotive Chaos</td>\n",
       "    </tr>\n",
       "    <tr>\n",
       "      <th>43</th>\n",
       "      <td>Pagani Codalunga</td>\n",
       "    </tr>\n",
       "    <tr>\n",
       "      <th>44</th>\n",
       "      <td>Mercedes-Maybach Exelero</td>\n",
       "    </tr>\n",
       "    <tr>\n",
       "      <th>45</th>\n",
       "      <td>Bugatti Centodieci</td>\n",
       "    </tr>\n",
       "    <tr>\n",
       "      <th>46</th>\n",
       "      <td>Bugatti Chiron Profilée</td>\n",
       "    </tr>\n",
       "    <tr>\n",
       "      <th>47</th>\n",
       "      <td>Rolls-Royce Sweptail</td>\n",
       "    </tr>\n",
       "    <tr>\n",
       "      <th>48</th>\n",
       "      <td>Bugatti La Voiture Noire</td>\n",
       "    </tr>\n",
       "    <tr>\n",
       "      <th>49</th>\n",
       "      <td>Rolls-Royce Boat Tail*</td>\n",
       "    </tr>\n",
       "  </tbody>\n",
       "</table>\n",
       "</div>"
      ],
      "text/plain": [
       "                         Car Titles\n",
       "0                     De Tomaso P72\n",
       "1                 Ferrari LaFerrari\n",
       "2                     Pagani Huayra\n",
       "3                      McLaren Elva\n",
       "4                       Czinger 21C\n",
       "5                     Ferrari Monza\n",
       "6                Gordon Murray T.33\n",
       "7                 Koenigsegg Gemera\n",
       "8                       Zenvo TSR-S\n",
       "9                Hennessey Venom F5\n",
       "10                  Bentley Bacalar\n",
       "11    Hispano Suiza Carmen Boulogne\n",
       "12           Bentley Mulliner Batur\n",
       "13                     Deus Vayanne\n",
       "14                      SSC Tuatara\n",
       "15                      Lotus Evija\n",
       "16              Aston Martin Vulcan\n",
       "17                       Delage D12\n",
       "18                McLaren Speedtail\n",
       "19                     Rimac Nevera\n",
       "20                    Pagani Utopia\n",
       "21             Pininfarina Battista\n",
       "22                Ferrari FXX K Evo\n",
       "23               Gordon Murray T.50\n",
       "24             Lamborghini Countach\n",
       "25         Mercedes-AMG Project One\n",
       "26              Aston Martin Victor\n",
       "27      Hennessey Venom F5 Roadster\n",
       "28                 Koenigsegg Jesko\n",
       "29            Aston Martin Valkyrie\n",
       "30        W Motors Lykan Hypersport\n",
       "31                    McLaren Solus\n",
       "32        Pagani Huayra Roadster BC\n",
       "33         Bugatti Chiron Pur Sport\n",
       "34                 Lamborghini Sian\n",
       "35                 Koenigsegg CC850\n",
       "36  Bugatti Chiron Super Sport 300+\n",
       "37               Lamborghini Veneno\n",
       "38                   Bugatti Bolide\n",
       "39                  Bugatti Mistral\n",
       "40              Pagani Huayra Imola\n",
       "41                     Bugatti Divo\n",
       "42              SP Automotive Chaos\n",
       "43                 Pagani Codalunga\n",
       "44         Mercedes-Maybach Exelero\n",
       "45               Bugatti Centodieci\n",
       "46          Bugatti Chiron Profilée\n",
       "47             Rolls-Royce Sweptail\n",
       "48         Bugatti La Voiture Noire\n",
       "49           Rolls-Royce Boat Tail*"
      ]
     },
     "execution_count": 42,
     "metadata": {},
     "output_type": "execute_result"
    }
   ],
   "source": [
    "import pandas as pd\n",
    "df=pd.DataFrame({'Car Titles':Car_titles})\n",
    "df"
   ]
  },
  {
   "cell_type": "code",
   "execution_count": 53,
   "id": "263ee229-104e-4600-b976-2c5a8ade3b64",
   "metadata": {
    "tags": []
   },
   "outputs": [],
   "source": [
    "Car_titles = []\n",
    "Price_titles = []"
   ]
  },
  {
   "cell_type": "code",
   "execution_count": 54,
   "id": "f6b07a00-0c5f-4e40-91c0-e61eeb02e101",
   "metadata": {
    "tags": []
   },
   "outputs": [],
   "source": [
    "title_tags=driver.find_elements(By.XPATH,\"/html/body/div[10]/div[7]/div[2]/div[1]/div[2]/div[1]/p[4]/strong\")\n",
    "for i in title_tags[0:49]:\n",
    "    title=i.text\n",
    "    Price_titles.append(title)"
   ]
  },
  {
   "cell_type": "code",
   "execution_count": 58,
   "id": "3c5a375a-0c70-45af-96f3-6072f39846f6",
   "metadata": {
    "tags": []
   },
   "outputs": [],
   "source": [
    "title_tags=driver.find_elements(By.XPATH,\"/html/body/div[10]/div[7]/div[2]/div[1]/div[2]/div[1]/p[6]/strong\")\n",
    "for i in title_tags[0:49]:\n",
    "    title=i.text\n",
    "    Price_titles.append(title)"
   ]
  },
  {
   "cell_type": "code",
   "execution_count": 59,
   "id": "e9ab3c55-7495-4f8e-b8d0-d30cf34b8fa6",
   "metadata": {
    "tags": []
   },
   "outputs": [],
   "source": [
    "title_tags=driver.find_elements(By.XPATH,\"/html/body/div[10]/div[7]/div[2]/div[1]/div[2]/div[1]/p[8]/strong\")\n",
    "for i in title_tags[0:49]:\n",
    "    title=i.text\n",
    "    Price_titles.append(title)"
   ]
  },
  {
   "cell_type": "code",
   "execution_count": 60,
   "id": "9d75c85b-1a91-4175-98f8-bb24204352d9",
   "metadata": {
    "tags": []
   },
   "outputs": [],
   "source": [
    "title_tags=driver.find_elements(By.XPATH,\"/html/body/div[10]/div[7]/div[2]/div[1]/div[2]/div[1]/p[10]/strong\")\n",
    "for i in title_tags[0:49]:\n",
    "    title=i.text\n",
    "    Price_titles.append(title)"
   ]
  },
  {
   "cell_type": "code",
   "execution_count": 62,
   "id": "3921f2b1-27aa-43a1-87e8-2e0765162b7b",
   "metadata": {
    "tags": []
   },
   "outputs": [],
   "source": [
    "title_tags=driver.find_elements(By.XPATH,\"/html/body/div[10]/div[7]/div[2]/div[1]/div[2]/div[1]/p[12]/strong\")\n",
    "for i in title_tags[0:49]:\n",
    "    title=i.text\n",
    "    Price_titles.append(title)"
   ]
  },
  {
   "cell_type": "code",
   "execution_count": 63,
   "id": "f10c95fc-4ed3-4668-8fef-1f3a23668627",
   "metadata": {
    "tags": []
   },
   "outputs": [],
   "source": [
    "title_tags=driver.find_elements(By.XPATH,\"/html/body/div[10]/div[7]/div[2]/div[1]/div[2]/div[1]/p[14]/strong\")\n",
    "for i in title_tags[0:49]:\n",
    "    title=i.text\n",
    "    Price_titles.append(title)"
   ]
  },
  {
   "cell_type": "code",
   "execution_count": 64,
   "id": "9e658629-991d-403b-a004-2b467815b5ea",
   "metadata": {
    "tags": []
   },
   "outputs": [],
   "source": [
    "title_tags=driver.find_elements(By.XPATH,\"/html/body/div[10]/div[7]/div[2]/div[1]/div[2]/div[1]/p[16]/strong\")\n",
    "for i in title_tags[0:49]:\n",
    "    title=i.text\n",
    "    Price_titles.append(title)"
   ]
  },
  {
   "cell_type": "code",
   "execution_count": 65,
   "id": "5c2ca730-6cc7-4c80-b104-606295301e4b",
   "metadata": {
    "tags": []
   },
   "outputs": [],
   "source": [
    "title_tags=driver.find_elements(By.XPATH,\"/html/body/div[10]/div[7]/div[2]/div[1]/div[2]/div[1]/p[18]/strong\")\n",
    "for i in title_tags[0:49]:\n",
    "    title=i.text\n",
    "    Price_titles.append(title)"
   ]
  },
  {
   "cell_type": "code",
   "execution_count": 66,
   "id": "1dc7ae1c-ef79-44f0-b067-931419110b45",
   "metadata": {
    "tags": []
   },
   "outputs": [],
   "source": [
    "title_tags=driver.find_elements(By.XPATH,\"/html/body/div[10]/div[7]/div[2]/div[1]/div[2]/div[1]/p[20]/strong\")\n",
    "for i in title_tags[0:49]:\n",
    "    title=i.text\n",
    "    Price_titles.append(title)"
   ]
  },
  {
   "cell_type": "code",
   "execution_count": 67,
   "id": "83bd91bd-9a69-4bb8-8e97-44e16b7457c8",
   "metadata": {
    "tags": []
   },
   "outputs": [],
   "source": [
    "title_tags=driver.find_elements(By.XPATH,\"/html/body/div[10]/div[7]/div[2]/div[1]/div[2]/div[1]/p[22]/strong\")\n",
    "for i in title_tags[0:49]:\n",
    "    title=i.text\n",
    "    Price_titles.append(title)"
   ]
  },
  {
   "cell_type": "code",
   "execution_count": 68,
   "id": "3d43784f-c834-4ef8-93ea-8574056546e0",
   "metadata": {
    "tags": []
   },
   "outputs": [],
   "source": [
    "title_tags=driver.find_elements(By.XPATH,\"/html/body/div[10]/div[7]/div[2]/div[1]/div[2]/div[1]/p[24]/strong\")\n",
    "for i in title_tags[0:49]:\n",
    "    title=i.text\n",
    "    Price_titles.append(title)"
   ]
  },
  {
   "cell_type": "code",
   "execution_count": 69,
   "id": "b76b275d-5a8e-49e1-b26f-d646a545ccac",
   "metadata": {
    "tags": []
   },
   "outputs": [],
   "source": [
    "title_tags=driver.find_elements(By.XPATH,\"/html/body/div[10]/div[7]/div[2]/div[1]/div[2]/div[1]/p[26]/strong\")\n",
    "for i in title_tags[0:49]:\n",
    "    title=i.text\n",
    "    Price_titles.append(title)"
   ]
  },
  {
   "cell_type": "code",
   "execution_count": 70,
   "id": "6e4ccbd0-24c2-4b8b-b538-eb70d33c3f7b",
   "metadata": {
    "tags": []
   },
   "outputs": [],
   "source": [
    "title_tags=driver.find_elements(By.XPATH,\"/html/body/div[10]/div[7]/div[2]/div[1]/div[2]/div[1]/p[28]/strong\")\n",
    "for i in title_tags[0:49]:\n",
    "    title=i.text\n",
    "    Price_titles.append(title)"
   ]
  },
  {
   "cell_type": "code",
   "execution_count": 71,
   "id": "30941262-7d4a-4953-b11a-05a30b00504e",
   "metadata": {
    "tags": []
   },
   "outputs": [],
   "source": [
    "title_tags=driver.find_elements(By.XPATH,\"/html/body/div[10]/div[7]/div[2]/div[1]/div[2]/div[1]/p[30]/strong\")\n",
    "for i in title_tags[0:49]:\n",
    "    title=i.text\n",
    "    Price_titles.append(title)"
   ]
  },
  {
   "cell_type": "code",
   "execution_count": 72,
   "id": "55077208-d843-4fbc-b57e-4a6f7b4d929c",
   "metadata": {
    "tags": []
   },
   "outputs": [],
   "source": [
    "title_tags=driver.find_elements(By.XPATH,\"/html/body/div[10]/div[7]/div[2]/div[1]/div[2]/div[1]/p[32]/strong\")\n",
    "for i in title_tags[0:49]:\n",
    "    title=i.text\n",
    "    Price_titles.append(title)"
   ]
  },
  {
   "cell_type": "code",
   "execution_count": 73,
   "id": "f9297dca-a57e-4f14-b3ed-0a38a250c262",
   "metadata": {
    "tags": []
   },
   "outputs": [],
   "source": [
    "title_tags=driver.find_elements(By.XPATH,\"/html/body/div[10]/div[7]/div[2]/div[1]/div[2]/div[1]/p[34]/strong\")\n",
    "for i in title_tags[0:49]:\n",
    "    title=i.text\n",
    "    Price_titles.append(title)"
   ]
  },
  {
   "cell_type": "code",
   "execution_count": null,
   "id": "9b75e7a9-1a7c-40e2-9e18-e007d7eb5f2b",
   "metadata": {},
   "outputs": [],
   "source": [
    "title_tags=driver.find_elements(By.XPATH,\"/html/body/div[10]/div[7]/div[2]/div[1]/div[2]/div[1]/p[36]/strong\")\n",
    "for i in title_tags[0:49]:\n",
    "    title=i.text\n",
    "    Price_titles.append(title)"
   ]
  },
  {
   "cell_type": "code",
   "execution_count": 74,
   "id": "aa05c196-a202-4ca9-b77d-914455217aae",
   "metadata": {
    "tags": []
   },
   "outputs": [],
   "source": [
    "title_tags=driver.find_elements(By.XPATH,\"/html/body/div[10]/div[7]/div[2]/div[1]/div[2]/div[1]/p[38]/strong\")\n",
    "for i in title_tags[0:49]:\n",
    "    title=i.text\n",
    "    Price_titles.append(title)"
   ]
  },
  {
   "cell_type": "code",
   "execution_count": null,
   "id": "673b68c7-0467-4a15-a3d2-a79119c73af2",
   "metadata": {},
   "outputs": [],
   "source": [
    "title_tags=driver.find_elements(By.XPATH,\"/html/body/div[10]/div[7]/div[2]/div[1]/div[2]/div[1]/p[40]/strong\")\n",
    "for i in title_tags[0:49]:\n",
    "    title=i.text\n",
    "    Price_titles.append(title)"
   ]
  },
  {
   "cell_type": "code",
   "execution_count": 75,
   "id": "a231c6d5-4847-4e71-a77b-b694d64d576e",
   "metadata": {
    "tags": []
   },
   "outputs": [],
   "source": [
    "title_tags=driver.find_elements(By.XPATH,\"/html/body/div[10]/div[7]/div[2]/div[1]/div[2]/div[1]/p[42]/strong\")\n",
    "for i in title_tags[0:49]:\n",
    "    title=i.text\n",
    "    Price_titles.append(title)"
   ]
  },
  {
   "cell_type": "code",
   "execution_count": 76,
   "id": "d6dcd998-eb91-4382-a09c-2497b9d41326",
   "metadata": {
    "tags": []
   },
   "outputs": [],
   "source": [
    "title_tags=driver.find_elements(By.XPATH,\"/html/body/div[10]/div[7]/div[2]/div[1]/div[2]/div[1]/p[44]/strong\")\n",
    "for i in title_tags[0:49]:\n",
    "    title=i.text\n",
    "    Price_titles.append(title)"
   ]
  },
  {
   "cell_type": "code",
   "execution_count": 77,
   "id": "5460cc8b-2c30-4a26-8dd8-d550ae3a046e",
   "metadata": {
    "tags": []
   },
   "outputs": [],
   "source": [
    "title_tags=driver.find_elements(By.XPATH,\"/html/body/div[10]/div[7]/div[2]/div[1]/div[2]/div[1]/p[46]/strong\")\n",
    "for i in title_tags[0:49]:\n",
    "    title=i.text\n",
    "    Price_titles.append(title)"
   ]
  },
  {
   "cell_type": "code",
   "execution_count": 78,
   "id": "0a48a002-fc61-4a9a-ba93-ac76d27159b9",
   "metadata": {
    "tags": []
   },
   "outputs": [],
   "source": [
    "title_tags=driver.find_elements(By.XPATH,\"/html/body/div[10]/div[7]/div[2]/div[1]/div[2]/div[1]/p[48]/strong\")\n",
    "for i in title_tags[0:49]:\n",
    "    title=i.text\n",
    "    Price_titles.append(title)"
   ]
  },
  {
   "cell_type": "code",
   "execution_count": 79,
   "id": "1adca99b-3ff2-40ab-a524-65430e9a2360",
   "metadata": {
    "tags": []
   },
   "outputs": [],
   "source": [
    "title_tags=driver.find_elements(By.XPATH,\"/html/body/div[10]/div[7]/div[2]/div[1]/div[2]/div[1]/p[50]/strong\")\n",
    "for i in title_tags[0:49]:\n",
    "    title=i.text\n",
    "    Price_titles.append(title)"
   ]
  },
  {
   "cell_type": "code",
   "execution_count": 80,
   "id": "14c6f6fa-677b-43aa-81a1-f8c9e66a061e",
   "metadata": {
    "tags": []
   },
   "outputs": [],
   "source": [
    "title_tags=driver.find_elements(By.XPATH,\"/html/body/div[10]/div[7]/div[2]/div[1]/div[2]/div[1]/p[52]/strong\")\n",
    "for i in title_tags[0:49]:\n",
    "    title=i.text\n",
    "    Price_titles.append(title)"
   ]
  },
  {
   "cell_type": "code",
   "execution_count": null,
   "id": "f2dfba04-0801-41b5-8057-6ce33af62959",
   "metadata": {},
   "outputs": [],
   "source": [
    "title_tags=driver.find_elements(By.XPATH,\"/html/body/div[10]/div[7]/div[2]/div[1]/div[2]/div[1]/p[54]/strong\")\n",
    "for i in title_tags[0:49]:\n",
    "    title=i.text\n",
    "    Price_titles.append(title)"
   ]
  },
  {
   "cell_type": "code",
   "execution_count": 81,
   "id": "8d9c1465-b46d-430e-a166-748a79a4633e",
   "metadata": {
    "tags": []
   },
   "outputs": [],
   "source": [
    "title_tags=driver.find_elements(By.XPATH,\"/html/body/div[10]/div[7]/div[2]/div[1]/div[2]/div[1]/p[56]/strong\")\n",
    "for i in title_tags[0:49]:\n",
    "    title=i.text\n",
    "    Price_titles.append(title)"
   ]
  },
  {
   "cell_type": "code",
   "execution_count": 82,
   "id": "b492d680-224f-41be-83cd-787e78ab5a51",
   "metadata": {
    "tags": []
   },
   "outputs": [],
   "source": [
    "title_tags=driver.find_elements(By.XPATH,\"/html/body/div[10]/div[7]/div[2]/div[1]/div[2]/div[1]/p[58]/strong\")\n",
    "for i in title_tags[0:49]:\n",
    "    title=i.text\n",
    "    Price_titles.append(title)"
   ]
  },
  {
   "cell_type": "code",
   "execution_count": 83,
   "id": "feddf66c-28e7-4fb3-bd54-965e01ecc151",
   "metadata": {
    "tags": []
   },
   "outputs": [],
   "source": [
    "title_tags=driver.find_elements(By.XPATH,\"/html/body/div[10]/div[7]/div[2]/div[1]/div[2]/div[1]/p[60]/strong\")\n",
    "for i in title_tags[0:49]:\n",
    "    title=i.text\n",
    "    Price_titles.append(title)"
   ]
  },
  {
   "cell_type": "code",
   "execution_count": null,
   "id": "9f41dcc3-796c-4a71-9116-2169b64e2731",
   "metadata": {},
   "outputs": [],
   "source": [
    "title_tags=driver.find_elements(By.XPATH,\"/html/body/div[10]/div[7]/div[2]/div[1]/div[2]/div[1]/p[62]/strong\")\n",
    "for i in title_tags[0:49]:\n",
    "    title=i.text\n",
    "    Price_titles.append(title)"
   ]
  },
  {
   "cell_type": "code",
   "execution_count": 84,
   "id": "5bcfd9f6-7243-4358-b4ac-fb2c76c4ffb6",
   "metadata": {
    "tags": []
   },
   "outputs": [],
   "source": [
    "title_tags=driver.find_elements(By.XPATH,\"/html/body/div[10]/div[7]/div[2]/div[1]/div[2]/div[1]/p[64]/strong\")\n",
    "for i in title_tags[0:49]:\n",
    "    title=i.text\n",
    "    Price_titles.append(title)"
   ]
  },
  {
   "cell_type": "code",
   "execution_count": 85,
   "id": "22321811-179c-4c17-920f-b1c6de1a5db7",
   "metadata": {
    "tags": []
   },
   "outputs": [],
   "source": [
    "title_tags=driver.find_elements(By.XPATH,\"/html/body/div[10]/div[7]/div[2]/div[1]/div[2]/div[1]/p[66]/strong\")\n",
    "for i in title_tags[0:49]:\n",
    "    title=i.text\n",
    "    Price_titles.append(title)"
   ]
  },
  {
   "cell_type": "code",
   "execution_count": 86,
   "id": "66cd7927-8ffe-4a84-8776-59d6ce47fdcd",
   "metadata": {
    "tags": []
   },
   "outputs": [],
   "source": [
    "title_tags=driver.find_elements(By.XPATH,\"/html/body/div[10]/div[7]/div[2]/div[1]/div[2]/div[1]/p[68]/strong\")\n",
    "for i in title_tags[0:49]:\n",
    "    title=i.text\n",
    "    Price_titles.append(title)"
   ]
  },
  {
   "cell_type": "code",
   "execution_count": 87,
   "id": "5699e35d-8626-4e3e-8285-188c0d66035f",
   "metadata": {
    "tags": []
   },
   "outputs": [],
   "source": [
    "title_tags=driver.find_elements(By.XPATH,\"/html/body/div[10]/div[7]/div[2]/div[1]/div[2]/div[1]/p[70]/strong\")\n",
    "for i in title_tags[0:49]:\n",
    "    title=i.text\n",
    "    Price_titles.append(title)"
   ]
  },
  {
   "cell_type": "code",
   "execution_count": 88,
   "id": "1f2219e2-bf5a-44e0-923e-1db55fdf3956",
   "metadata": {
    "tags": []
   },
   "outputs": [],
   "source": [
    "title_tags=driver.find_elements(By.XPATH,\"/html/body/div[10]/div[7]/div[2]/div[1]/div[2]/div[1]/p[72]/strong\")\n",
    "for i in title_tags[0:49]:\n",
    "    title=i.text\n",
    "    Price_titles.append(title)"
   ]
  },
  {
   "cell_type": "code",
   "execution_count": 89,
   "id": "b33c6c20-959b-4604-aca6-a95725226cc9",
   "metadata": {
    "tags": []
   },
   "outputs": [],
   "source": [
    "title_tags=driver.find_elements(By.XPATH,\"/html/body/div[10]/div[7]/div[2]/div[1]/div[2]/div[1]/p[74]/strong\")\n",
    "for i in title_tags[0:49]:\n",
    "    title=i.text\n",
    "    Price_titles.append(title)"
   ]
  },
  {
   "cell_type": "code",
   "execution_count": 90,
   "id": "46497d58-4401-4987-87f1-4e128351139e",
   "metadata": {
    "tags": []
   },
   "outputs": [],
   "source": [
    "title_tags=driver.find_elements(By.XPATH,\"/html/body/div[10]/div[7]/div[2]/div[1]/div[2]/div[1]/p[76]/strong\")\n",
    "for i in title_tags[0:49]:\n",
    "    title=i.text\n",
    "    Price_titles.append(title)"
   ]
  },
  {
   "cell_type": "code",
   "execution_count": 91,
   "id": "dfd799bb-c7bd-4b3d-ad1e-60f498d7b186",
   "metadata": {
    "tags": []
   },
   "outputs": [],
   "source": [
    "title_tags=driver.find_elements(By.XPATH,\"/html/body/div[10]/div[7]/div[2]/div[1]/div[2]/div[1]/p[78]/strong\")\n",
    "for i in title_tags[0:49]:\n",
    "    title=i.text\n",
    "    Price_titles.append(title)"
   ]
  },
  {
   "cell_type": "code",
   "execution_count": 92,
   "id": "1fd31be5-38b6-4aea-b5e5-71ff88c13034",
   "metadata": {
    "tags": []
   },
   "outputs": [],
   "source": [
    "title_tags=driver.find_elements(By.XPATH,\"/html/body/div[10]/div[7]/div[2]/div[1]/div[2]/div[1]/p[80]/strong\")\n",
    "for i in title_tags[0:49]:\n",
    "    title=i.text\n",
    "    Price_titles.append(title)"
   ]
  },
  {
   "cell_type": "code",
   "execution_count": 93,
   "id": "13ee497a-eeb0-45ad-b211-e5f86a169ddd",
   "metadata": {
    "tags": []
   },
   "outputs": [],
   "source": [
    "title_tags=driver.find_elements(By.XPATH,\"/html/body/div[10]/div[7]/div[2]/div[1]/div[2]/div[1]/p[82]/strong\")\n",
    "for i in title_tags[0:49]:\n",
    "    title=i.text\n",
    "    Price_titles.append(title)"
   ]
  },
  {
   "cell_type": "code",
   "execution_count": 94,
   "id": "36e36c1a-3761-42d4-b851-a2ef55682793",
   "metadata": {
    "tags": []
   },
   "outputs": [],
   "source": [
    "title_tags=driver.find_elements(By.XPATH,\"/html/body/div[10]/div[7]/div[2]/div[1]/div[2]/div[1]/p[84]/strong\")\n",
    "for i in title_tags[0:49]:\n",
    "    title=i.text\n",
    "    Price_titles.append(title)"
   ]
  },
  {
   "cell_type": "code",
   "execution_count": 95,
   "id": "80dd7067-a306-48aa-bb6f-e9d7dd06589d",
   "metadata": {
    "tags": []
   },
   "outputs": [],
   "source": [
    "title_tags=driver.find_elements(By.XPATH,\"/html/body/div[10]/div[7]/div[2]/div[1]/div[2]/div[1]/p[86]/strong\")\n",
    "for i in title_tags[0:49]:\n",
    "    title=i.text\n",
    "    Price_titles.append(title)"
   ]
  },
  {
   "cell_type": "code",
   "execution_count": 96,
   "id": "84dc8374-78fc-4986-88f7-2ee7ab5b9e11",
   "metadata": {
    "tags": []
   },
   "outputs": [],
   "source": [
    "title_tags=driver.find_elements(By.XPATH,\"/html/body/div[10]/div[7]/div[2]/div[1]/div[2]/div[1]/p[88]/strong\")\n",
    "for i in title_tags[0:49]:\n",
    "    title=i.text\n",
    "    Price_titles.append(title)"
   ]
  },
  {
   "cell_type": "code",
   "execution_count": null,
   "id": "e9a8f54b-d731-4ed8-b356-987d6579fe3d",
   "metadata": {},
   "outputs": [],
   "source": [
    "title_tags=driver.find_elements(By.XPATH,\"/html/body/div[10]/div[7]/div[2]/div[1]/div[2]/div[1]/p[90]/strong\")\n",
    "for i in title_tags[0:49]:\n",
    "    title=i.text\n",
    "    Price_titles.append(title)"
   ]
  },
  {
   "cell_type": "code",
   "execution_count": 97,
   "id": "84e0ee4e-5548-4338-aa46-9124e081d3b0",
   "metadata": {
    "tags": []
   },
   "outputs": [],
   "source": [
    "title_tags=driver.find_elements(By.XPATH,\"/html/body/div[10]/div[7]/div[2]/div[1]/div[2]/div[1]/p[92]/strong\")\n",
    "for i in title_tags[0:49]:\n",
    "    title=i.text\n",
    "    Price_titles.append(title)"
   ]
  },
  {
   "cell_type": "code",
   "execution_count": 98,
   "id": "9ada26b6-c5ca-4f4f-ad0b-097eaffed0fa",
   "metadata": {
    "tags": []
   },
   "outputs": [],
   "source": [
    "title_tags=driver.find_elements(By.XPATH,\"/html/body/div[10]/div[7]/div[2]/div[1]/div[2]/div[1]/p[94]/strong\")\n",
    "for i in title_tags[0:49]:\n",
    "    title=i.text\n",
    "    Price_titles.append(title)"
   ]
  },
  {
   "cell_type": "code",
   "execution_count": 99,
   "id": "91e572b6-1c62-44df-aa79-d7e8d9764dd5",
   "metadata": {
    "tags": []
   },
   "outputs": [],
   "source": [
    "title_tags=driver.find_elements(By.XPATH,\"/html/body/div[10]/div[7]/div[2]/div[1]/div[2]/div[1]/p[96]/strong\")\n",
    "for i in title_tags[0:49]:\n",
    "    title=i.text\n",
    "    Price_titles.append(title)"
   ]
  },
  {
   "cell_type": "code",
   "execution_count": 100,
   "id": "68c7ec85-796f-4aab-b6cf-f68a9ec73cf5",
   "metadata": {
    "tags": []
   },
   "outputs": [],
   "source": [
    "title_tags=driver.find_elements(By.XPATH,\"/html/body/div[10]/div[7]/div[2]/div[1]/div[2]/div[1]/p[98]/strong\")\n",
    "for i in title_tags[0:49]:\n",
    "    title=i.text\n",
    "    Price_titles.append(title)"
   ]
  },
  {
   "cell_type": "code",
   "execution_count": 101,
   "id": "c794063c-0dba-4cf9-b6cb-a662770da736",
   "metadata": {
    "tags": []
   },
   "outputs": [],
   "source": [
    "title_tags=driver.find_elements(By.XPATH,\"/html/body/div[10]/div[7]/div[2]/div[1]/div[2]/div[1]/p[100]/strong\")\n",
    "for i in title_tags[0:49]:\n",
    "    title=i.text\n",
    "    Price_titles.append(title)"
   ]
  },
  {
   "cell_type": "code",
   "execution_count": 102,
   "id": "6a6f5c1c-ef5a-411a-a5be-60c299738b65",
   "metadata": {
    "tags": []
   },
   "outputs": [],
   "source": [
    "title_tags=driver.find_elements(By.XPATH,\"/html/body/div[10]/div[7]/div[2]/div[1]/div[2]/div[1]/p[102]/strong\")\n",
    "for i in title_tags[0:49]:\n",
    "    title=i.text\n",
    "    Price_titles.append(title)"
   ]
  },
  {
   "cell_type": "code",
   "execution_count": 103,
   "id": "db82528e-8e59-40e7-9678-db0d07ebc476",
   "metadata": {
    "tags": []
   },
   "outputs": [],
   "source": [
    "print=(len(Price_titles))"
   ]
  },
  {
   "cell_type": "code",
   "execution_count": 104,
   "id": "e6fd4e8d-77d7-4bd6-a700-cf4c018c2293",
   "metadata": {
    "tags": []
   },
   "outputs": [
    {
     "data": {
      "text/plain": [
       "46"
      ]
     },
     "execution_count": 104,
     "metadata": {},
     "output_type": "execute_result"
    }
   ],
   "source": [
    "print"
   ]
  },
  {
   "cell_type": "code",
   "execution_count": 105,
   "id": "dcdd8063-be96-4958-9f15-bbe81fa2b7da",
   "metadata": {
    "tags": []
   },
   "outputs": [
    {
     "data": {
      "text/html": [
       "<div>\n",
       "<style scoped>\n",
       "    .dataframe tbody tr th:only-of-type {\n",
       "        vertical-align: middle;\n",
       "    }\n",
       "\n",
       "    .dataframe tbody tr th {\n",
       "        vertical-align: top;\n",
       "    }\n",
       "\n",
       "    .dataframe thead th {\n",
       "        text-align: right;\n",
       "    }\n",
       "</style>\n",
       "<table border=\"1\" class=\"dataframe\">\n",
       "  <thead>\n",
       "    <tr style=\"text-align: right;\">\n",
       "      <th></th>\n",
       "      <th>Price Titles</th>\n",
       "    </tr>\n",
       "  </thead>\n",
       "  <tbody>\n",
       "    <tr>\n",
       "      <th>0</th>\n",
       "      <td>Price: $1.3 Million</td>\n",
       "    </tr>\n",
       "    <tr>\n",
       "      <th>1</th>\n",
       "      <td>Price: $1.4 Million</td>\n",
       "    </tr>\n",
       "    <tr>\n",
       "      <th>2</th>\n",
       "      <td>Price: $1.4 Million</td>\n",
       "    </tr>\n",
       "    <tr>\n",
       "      <th>3</th>\n",
       "      <td>Price: $1.7 Million</td>\n",
       "    </tr>\n",
       "    <tr>\n",
       "      <th>4</th>\n",
       "      <td>Price: $1.7 Million</td>\n",
       "    </tr>\n",
       "    <tr>\n",
       "      <th>5</th>\n",
       "      <td>Price: $1.7 Million</td>\n",
       "    </tr>\n",
       "    <tr>\n",
       "      <th>6</th>\n",
       "      <td>Price: $1.7 Million</td>\n",
       "    </tr>\n",
       "    <tr>\n",
       "      <th>7</th>\n",
       "      <td>Price: $1.7 Million</td>\n",
       "    </tr>\n",
       "    <tr>\n",
       "      <th>8</th>\n",
       "      <td>Price: $1.7 Million</td>\n",
       "    </tr>\n",
       "    <tr>\n",
       "      <th>9</th>\n",
       "      <td>Price: $1.7 Million</td>\n",
       "    </tr>\n",
       "    <tr>\n",
       "      <th>10</th>\n",
       "      <td>Price: $1.8 Million</td>\n",
       "    </tr>\n",
       "    <tr>\n",
       "      <th>11</th>\n",
       "      <td>Price: $1.9 Million</td>\n",
       "    </tr>\n",
       "    <tr>\n",
       "      <th>12</th>\n",
       "      <td>Price: $1.9 Million</td>\n",
       "    </tr>\n",
       "    <tr>\n",
       "      <th>13</th>\n",
       "      <td>Price: $2.0 Million</td>\n",
       "    </tr>\n",
       "    <tr>\n",
       "      <th>14</th>\n",
       "      <td>Price: $2.0 Million</td>\n",
       "    </tr>\n",
       "    <tr>\n",
       "      <th>15</th>\n",
       "      <td>Price: $2.0 Million*</td>\n",
       "    </tr>\n",
       "    <tr>\n",
       "      <th>16</th>\n",
       "      <td>Price: $2.1 Million</td>\n",
       "    </tr>\n",
       "    <tr>\n",
       "      <th>17</th>\n",
       "      <td>Price: $2.3 Million</td>\n",
       "    </tr>\n",
       "    <tr>\n",
       "      <th>18</th>\n",
       "      <td>Price: $2.4 Million</td>\n",
       "    </tr>\n",
       "    <tr>\n",
       "      <th>19</th>\n",
       "      <td>Price: $2.5 Million</td>\n",
       "    </tr>\n",
       "    <tr>\n",
       "      <th>20</th>\n",
       "      <td>Price: $2.5 Million</td>\n",
       "    </tr>\n",
       "    <tr>\n",
       "      <th>21</th>\n",
       "      <td>Price: $2.6 Million</td>\n",
       "    </tr>\n",
       "    <tr>\n",
       "      <th>22</th>\n",
       "      <td>Price: $2.6 Million</td>\n",
       "    </tr>\n",
       "    <tr>\n",
       "      <th>23</th>\n",
       "      <td>Price: $2.6 Million</td>\n",
       "    </tr>\n",
       "    <tr>\n",
       "      <th>24</th>\n",
       "      <td>Price: $3.0 Million</td>\n",
       "    </tr>\n",
       "    <tr>\n",
       "      <th>25</th>\n",
       "      <td>$3.0 Million</td>\n",
       "    </tr>\n",
       "    <tr>\n",
       "      <th>26</th>\n",
       "      <td>Price: $3.0 Million</td>\n",
       "    </tr>\n",
       "    <tr>\n",
       "      <th>27</th>\n",
       "      <td>Price: $3.4 Million</td>\n",
       "    </tr>\n",
       "    <tr>\n",
       "      <th>28</th>\n",
       "      <td>$3.5 Million</td>\n",
       "    </tr>\n",
       "    <tr>\n",
       "      <th>29</th>\n",
       "      <td>Price: $3.5 Million</td>\n",
       "    </tr>\n",
       "    <tr>\n",
       "      <th>30</th>\n",
       "      <td>Price: $3.6 Million</td>\n",
       "    </tr>\n",
       "    <tr>\n",
       "      <th>31</th>\n",
       "      <td>Price: $3.6 million</td>\n",
       "    </tr>\n",
       "    <tr>\n",
       "      <th>32</th>\n",
       "      <td>Price: $3.7 Million</td>\n",
       "    </tr>\n",
       "    <tr>\n",
       "      <th>33</th>\n",
       "      <td>Price: $3.9 Million</td>\n",
       "    </tr>\n",
       "    <tr>\n",
       "      <th>34</th>\n",
       "      <td>Price: $4.5 Million</td>\n",
       "    </tr>\n",
       "    <tr>\n",
       "      <th>35</th>\n",
       "      <td>Price: $4.7 Million</td>\n",
       "    </tr>\n",
       "    <tr>\n",
       "      <th>36</th>\n",
       "      <td>Price: $5.0 Million</td>\n",
       "    </tr>\n",
       "    <tr>\n",
       "      <th>37</th>\n",
       "      <td>Price: $5.4 Million</td>\n",
       "    </tr>\n",
       "    <tr>\n",
       "      <th>38</th>\n",
       "      <td>Price: $5.8 Million</td>\n",
       "    </tr>\n",
       "    <tr>\n",
       "      <th>39</th>\n",
       "      <td>Price: $6.4 Million</td>\n",
       "    </tr>\n",
       "    <tr>\n",
       "      <th>40</th>\n",
       "      <td>Price: $8.0 Million</td>\n",
       "    </tr>\n",
       "    <tr>\n",
       "      <th>41</th>\n",
       "      <td>Price: $9.0 Million</td>\n",
       "    </tr>\n",
       "    <tr>\n",
       "      <th>42</th>\n",
       "      <td>Price: $10.8 Million</td>\n",
       "    </tr>\n",
       "    <tr>\n",
       "      <th>43</th>\n",
       "      <td>Price: $12.8 Million</td>\n",
       "    </tr>\n",
       "    <tr>\n",
       "      <th>44</th>\n",
       "      <td>Price: $13.4 Million</td>\n",
       "    </tr>\n",
       "    <tr>\n",
       "      <th>45</th>\n",
       "      <td>Price: $28.0 Million (est.)</td>\n",
       "    </tr>\n",
       "  </tbody>\n",
       "</table>\n",
       "</div>"
      ],
      "text/plain": [
       "                   Price Titles\n",
       "0           Price: $1.3 Million\n",
       "1           Price: $1.4 Million\n",
       "2           Price: $1.4 Million\n",
       "3           Price: $1.7 Million\n",
       "4           Price: $1.7 Million\n",
       "5           Price: $1.7 Million\n",
       "6           Price: $1.7 Million\n",
       "7           Price: $1.7 Million\n",
       "8           Price: $1.7 Million\n",
       "9           Price: $1.7 Million\n",
       "10          Price: $1.8 Million\n",
       "11          Price: $1.9 Million\n",
       "12          Price: $1.9 Million\n",
       "13          Price: $2.0 Million\n",
       "14          Price: $2.0 Million\n",
       "15         Price: $2.0 Million*\n",
       "16          Price: $2.1 Million\n",
       "17          Price: $2.3 Million\n",
       "18          Price: $2.4 Million\n",
       "19          Price: $2.5 Million\n",
       "20          Price: $2.5 Million\n",
       "21          Price: $2.6 Million\n",
       "22          Price: $2.6 Million\n",
       "23          Price: $2.6 Million\n",
       "24          Price: $3.0 Million\n",
       "25                 $3.0 Million\n",
       "26          Price: $3.0 Million\n",
       "27          Price: $3.4 Million\n",
       "28                 $3.5 Million\n",
       "29          Price: $3.5 Million\n",
       "30          Price: $3.6 Million\n",
       "31          Price: $3.6 million\n",
       "32          Price: $3.7 Million\n",
       "33          Price: $3.9 Million\n",
       "34          Price: $4.5 Million\n",
       "35          Price: $4.7 Million\n",
       "36          Price: $5.0 Million\n",
       "37          Price: $5.4 Million\n",
       "38          Price: $5.8 Million\n",
       "39          Price: $6.4 Million\n",
       "40          Price: $8.0 Million\n",
       "41          Price: $9.0 Million\n",
       "42         Price: $10.8 Million\n",
       "43         Price: $12.8 Million\n",
       "44         Price: $13.4 Million\n",
       "45  Price: $28.0 Million (est.)"
      ]
     },
     "execution_count": 105,
     "metadata": {},
     "output_type": "execute_result"
    }
   ],
   "source": [
    "import pandas as pd\n",
    "df=pd.DataFrame({'Price Titles':Price_titles})\n",
    "df"
   ]
  },
  {
   "cell_type": "code",
   "execution_count": null,
   "id": "9b4af6d7-e1fb-4910-b734-bc07c717496d",
   "metadata": {},
   "outputs": [],
   "source": []
  }
 ],
 "metadata": {
  "kernelspec": {
   "display_name": "Python 3 (ipykernel)",
   "language": "python",
   "name": "python3"
  },
  "language_info": {
   "codemirror_mode": {
    "name": "ipython",
    "version": 3
   },
   "file_extension": ".py",
   "mimetype": "text/x-python",
   "name": "python",
   "nbconvert_exporter": "python",
   "pygments_lexer": "ipython3",
   "version": "3.11.3"
  }
 },
 "nbformat": 4,
 "nbformat_minor": 5
}
